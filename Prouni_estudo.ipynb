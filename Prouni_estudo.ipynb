{
 "cells": [
  {
   "cell_type": "markdown",
   "metadata": {
    "application/vnd.databricks.v1+cell": {
     "cellMetadata": {
      "byteLimit": 2048000,
      "rowLimit": 10000
     },
     "inputWidgets": {},
     "nuid": "e5615d71-e6d7-4340-bbf9-536491031aef",
     "showTitle": false,
     "tableResultSettingsMap": {},
     "title": ""
    }
   },
   "source": [
    "# Cursos de medicina no Brasil"
   ]
  },
  {
   "cell_type": "markdown",
   "metadata": {
    "application/vnd.databricks.v1+cell": {
     "cellMetadata": {
      "byteLimit": 2048000,
      "rowLimit": 10000
     },
     "inputWidgets": {},
     "nuid": "6599cd6c-3fe6-4222-bd99-8fa3c837ee1a",
     "showTitle": false,
     "tableResultSettingsMap": {},
     "title": ""
    }
   },
   "source": [
    "%md\n",
    "No Brasil, os cursos de medicina são extremamente concorridos e exigentes, com uma carga horária intensa e duração média de seis anos. As faculdades de medicina no país oferecem formação em diversas áreas, como cirurgia, pediatria, ginecologia e obstetrícia, entre outras especialidades médicas.\n",
    "\n",
    "Existem opções de bolsas para estudantes que desejam cursar medicina no país. Uma das principais opções é o Programa Universidade para Todos (PROUNI), que oferece bolsas de estudos parciais e integrais em universidades particulares para estudantes de baixa renda que tenham obtido boas notas no Enem.\n",
    "\n",
    "Além disso, há também a possibilidade de ingressar em universidades públicas, que são gratuitas e oferecem um ensino de qualidade reconhecido mundialmente. No entanto, o processo seletivo para ingresso em universidades públicas é bastante concorrido e exige um alto desempenho dos candidatos.\n",
    "\n",
    "Nas próximas seções, iremos disponibilizar alguns resultados com base em dados modificados do PROUNI e de universidades públicas, a fim de fornecer informações mais detalhadas sobre as opções de bolsas e ingresso nessas instituições de ensino."
   ]
  },
  {
   "cell_type": "markdown",
   "metadata": {
    "application/vnd.databricks.v1+cell": {
     "cellMetadata": {
      "byteLimit": 2048000,
      "rowLimit": 10000
     },
     "inputWidgets": {},
     "nuid": "9312ca26-880a-4327-9f32-09474a077ba6",
     "showTitle": false,
     "tableResultSettingsMap": {},
     "title": ""
    }
   },
   "source": [
    "Esse conjunto de dados apresenta informações sobre cursos de graduação na área de saúde em universidades brasileiras. As colunas incluem informações sobre o grau do curso, turno, mensalidade, tipos de bolsa integral e parcial (cotas e ampla concorrência), cidade e universidade. Além disso, há informações sobre as notas de corte para acesso às vagas com bolsa e sem bolsa.\n",
    "\n",
    "Algumas informações que podem ser interessantes avaliar nesse conjunto de dados são: quais universidades oferecem bolsas de estudos e qual é a porcentagem de bolsas concedidas para cada curso; quais são as notas de corte para acesso às vagas com bolsa e sem bolsa; quais são as universidades e cidades com os cursos mais caros e mais baratos em relação à mensalidade; quais são as opções de cursos em diferentes cidades e estados do país."
   ]
  },
  {
   "cell_type": "code",
   "execution_count": 0,
   "metadata": {
    "application/vnd.databricks.v1+cell": {
     "cellMetadata": {
      "byteLimit": 2048000,
      "rowLimit": 10000
     },
     "inputWidgets": {},
     "nuid": "9bb1ed0b-c221-4054-be91-a9dc9ea46eb2",
     "showTitle": false,
     "tableResultSettingsMap": {},
     "title": ""
    },
    "jupyter": {
     "outputs_hidden": true
    }
   },
   "outputs": [
    {
     "output_type": "stream",
     "name": "stdout",
     "output_type": "stream",
     "text": [
      "Python interpreter will be restarted.\nRequirement already satisfied: requests in /databricks/python3/lib/python3.9/site-packages (2.27.1)\nRequirement already satisfied: charset-normalizer~=2.0.0 in /databricks/python3/lib/python3.9/site-packages (from requests) (2.0.4)\nRequirement already satisfied: idna<4,>=2.5 in /databricks/python3/lib/python3.9/site-packages (from requests) (3.3)\nRequirement already satisfied: certifi>=2017.4.17 in /databricks/python3/lib/python3.9/site-packages (from requests) (2021.10.8)\nRequirement already satisfied: urllib3<1.27,>=1.21.1 in /databricks/python3/lib/python3.9/site-packages (from requests) (1.26.9)\nPython interpreter will be restarted.\n"
     ]
    }
   ],
   "source": [
    "# Instalar requests (se necessário)\n",
    "%pip install requests\n"
   ]
  },
  {
   "cell_type": "code",
   "execution_count": 0,
   "metadata": {
    "application/vnd.databricks.v1+cell": {
     "cellMetadata": {
      "byteLimit": 2048000,
      "rowLimit": 10000
     },
     "inputWidgets": {},
     "nuid": "8fd81dd7-99be-4769-94cc-d674ab1a8633",
     "showTitle": false,
     "tableResultSettingsMap": {},
     "title": ""
    }
   },
   "outputs": [
    {
     "output_type": "stream",
     "name": "stdout",
     "output_type": "stream",
     "text": [
      "Wrote 9225477 bytes.\nOut[1]: True"
     ]
    }
   ],
   "source": [
    "import requests\n",
    "\n",
    "# URL do arquivo\n",
    "url = \"https://raw.githubusercontent.com/alura-cursos/pandasspark/refs/heads/main/dados/cursos-prouni.csv\"\n",
    "\n",
    "# Fazer o download do arquivo\n",
    "response = requests.get(url)\n",
    "\n",
    "# Escrever o arquivo no DBFS usando dbutils\n",
    "dbutils.fs.put(\"/FileStore/cursos-prouni.csv\", response.content.decode('utf-8'), overwrite=True)\n"
   ]
  },
  {
   "cell_type": "code",
   "execution_count": 0,
   "metadata": {
    "application/vnd.databricks.v1+cell": {
     "cellMetadata": {
      "byteLimit": 2048000,
      "rowLimit": 10000
     },
     "inputWidgets": {},
     "nuid": "d867074c-263a-45d4-bfc1-ffa709d95ad8",
     "showTitle": false,
     "tableResultSettingsMap": {},
     "title": ""
    }
   },
   "outputs": [],
   "source": [
    "local_do_arquivo = '/FileStore/cursos-prouni.csv'"
   ]
  },
  {
   "cell_type": "code",
   "execution_count": 0,
   "metadata": {
    "application/vnd.databricks.v1+cell": {
     "cellMetadata": {
      "byteLimit": 2048000,
      "rowLimit": 10000
     },
     "inputWidgets": {},
     "nuid": "4e63b501-59ae-4807-92ee-ca762b0c4efd",
     "showTitle": false,
     "tableResultSettingsMap": {},
     "title": ""
    }
   },
   "outputs": [
    {
     "output_type": "stream",
     "name": "stdout",
     "output_type": "stream",
     "text": [
      "Out[3]: '\\n# Ler o arquivo CSV que foi carregado no DBFS\\ndf = spark.read.csv(\"/FileStore/cursos-prouni.csv\", header=True)\\n\\n# Mostrar os dados\\ndf.show()\\n'"
     ]
    }
   ],
   "source": [
    "\"\"\"\n",
    "# Ler o arquivo CSV que foi carregado no DBFS\n",
    "df = spark.read.csv(\"/FileStore/cursos-prouni.csv\", header=True)\n",
    "\n",
    "# Mostrar os dados\n",
    "df.show()\n",
    "\"\"\""
   ]
  },
  {
   "cell_type": "code",
   "execution_count": 0,
   "metadata": {
    "application/vnd.databricks.v1+cell": {
     "cellMetadata": {
      "byteLimit": 2048000,
      "rowLimit": 10000
     },
     "inputWidgets": {},
     "nuid": "00e32910-1164-431f-b9a9-ea7d90b8e4bf",
     "showTitle": false,
     "tableResultSettingsMap": {},
     "title": ""
    }
   },
   "outputs": [
    {
     "output_type": "stream",
     "name": "stdout",
     "output_type": "stream",
     "text": [
      "Wrote 124990 bytes.\nOut[4]: True"
     ]
    }
   ],
   "source": [
    "import requests\n",
    "\n",
    "# URL do arquivo\n",
    "url = \"https://raw.githubusercontent.com/alura-cursos/pandasspark/refs/heads/main/dados/reajuste.csv\"\n",
    "\n",
    "# Fazer o download do arquivo\n",
    "response = requests.get(url)\n",
    "\n",
    "# Escrever o arquivo no DBFS usando dbutils\n",
    "dbutils.fs.put(\"/FileStore/reajuste.csv\", response.content.decode('utf-8'), overwrite=True)\n"
   ]
  },
  {
   "cell_type": "code",
   "execution_count": 0,
   "metadata": {
    "application/vnd.databricks.v1+cell": {
     "cellMetadata": {
      "byteLimit": 2048000,
      "rowLimit": 10000
     },
     "inputWidgets": {},
     "nuid": "64a6dd46-b97f-430b-912a-bb768c2083cd",
     "showTitle": false,
     "tableResultSettingsMap": {},
     "title": ""
    },
    "jupyter": {
     "outputs_hidden": true,
     "source_hidden": true
    }
   },
   "outputs": [
    {
     "output_type": "stream",
     "name": "stdout",
     "output_type": "stream",
     "text": [
      "Out[5]: '\\n# Ler o arquivo CSV que foi carregado no DBFS\\ndf_reajuste = spark.read.csv(\"/FileStore/reajuste.csv\", header=True)\\n\\n# Mostrar os dados\\ndf_reajuste.show()\\n'"
     ]
    }
   ],
   "source": [
    "'''\n",
    "# Ler o arquivo CSV que foi carregado no DBFS\n",
    "df_reajuste = spark.read.csv(\"/FileStore/reajuste.csv\", header=True)\n",
    "\n",
    "# Mostrar os dados\n",
    "df_reajuste.show()\n",
    "'''"
   ]
  },
  {
   "cell_type": "code",
   "execution_count": 0,
   "metadata": {
    "application/vnd.databricks.v1+cell": {
     "cellMetadata": {
      "byteLimit": 2048000,
      "rowLimit": 10000
     },
     "inputWidgets": {},
     "nuid": "f1636683-419f-4a89-845a-bdc606acfbca",
     "showTitle": false,
     "tableResultSettingsMap": {},
     "title": ""
    }
   },
   "outputs": [],
   "source": [
    "import pyspark.pandas as ps\n",
    "\n",
    "df = ps.read_csv(local_do_arquivo, index_col = 'curso_id')"
   ]
  },
  {
   "cell_type": "markdown",
   "metadata": {
    "application/vnd.databricks.v1+cell": {
     "cellMetadata": {
      "byteLimit": 2048000,
      "rowLimit": 10000
     },
     "inputWidgets": {},
     "nuid": "6a0ace10-a9b2-4a77-8588-01aa2302868f",
     "showTitle": false,
     "tableResultSettingsMap": {},
     "title": ""
    }
   },
   "source": [
    "Esse conjunto de dados apresenta informações sobre cursos de graduação na área de saúde em universidades brasileiras. As colunas incluem informações sobre o grau do curso, turno, mensalidade, tipos de bolsa integral e parcial (cotas e ampla concorrência), cidade e universidade. Além disso, há informações sobre as notas de corte para acesso às vagas com bolsa e sem bolsa.\n",
    "\n",
    "Algumas informações que podem ser interessantes avaliar nesse conjunto de dados são: quais universidades oferecem bolsas de estudos e qual é a porcentagem de bolsas concedidas para cada curso; quais são as notas de corte para acesso às vagas com bolsa e sem bolsa; quais são as universidades e cidades com os cursos mais caros e mais baratos em relação à mensalidade; quais são as opções de cursos em diferentes cidades e estados do país."
   ]
  },
  {
   "cell_type": "code",
   "execution_count": 0,
   "metadata": {
    "application/vnd.databricks.v1+cell": {
     "cellMetadata": {
      "byteLimit": 2048000,
      "rowLimit": 10000
     },
     "inputWidgets": {},
     "nuid": "f7e5f6e6-98a3-4505-945e-af213ade7204",
     "showTitle": false,
     "tableResultSettingsMap": {},
     "title": ""
    }
   },
   "outputs": [],
   "source": [
    "local_do_arquivo2 = '/FileStore/reajuste.csv'\n",
    "df_mensalidade = ps.read_csv(local_do_arquivo2)"
   ]
  },
  {
   "cell_type": "code",
   "execution_count": 0,
   "metadata": {
    "application/vnd.databricks.v1+cell": {
     "cellMetadata": {
      "byteLimit": 2048000,
      "rowLimit": 10000
     },
     "inputWidgets": {},
     "nuid": "a73e0541-02a8-4a71-b809-b536d58171a9",
     "showTitle": false,
     "tableResultSettingsMap": {},
     "title": ""
    }
   },
   "outputs": [
    {
     "output_type": "display_data",
     "data": {
      "text/html": [
       "<div>\n",
       "<style scoped>\n",
       "    .dataframe tbody tr th:only-of-type {\n",
       "        vertical-align: middle;\n",
       "    }\n",
       "\n",
       "    .dataframe tbody tr th {\n",
       "        vertical-align: top;\n",
       "    }\n",
       "\n",
       "    .dataframe thead th {\n",
       "        text-align: right;\n",
       "    }\n",
       "</style>\n",
       "<table border=\"1\" class=\"dataframe\">\n",
       "  <thead>\n",
       "    <tr style=\"text-align: right;\">\n",
       "      <th></th>\n",
       "      <th>grau</th>\n",
       "      <th>turno</th>\n",
       "      <th>mensalidade</th>\n",
       "      <th>bolsa_integral_cotas</th>\n",
       "      <th>bolsa_integral_ampla</th>\n",
       "      <th>bolsa_parcial_cotas</th>\n",
       "      <th>bolsa_parcial_ampla</th>\n",
       "      <th>curso_busca</th>\n",
       "      <th>cidade_busca</th>\n",
       "      <th>uf_busca</th>\n",
       "      <th>cidade_filtro</th>\n",
       "      <th>universidade_nome</th>\n",
       "      <th>campus_nome</th>\n",
       "      <th>campus_id</th>\n",
       "      <th>nome</th>\n",
       "      <th>nota_integral_ampla</th>\n",
       "      <th>nota_integral_cotas</th>\n",
       "      <th>nota_parcial_ampla</th>\n",
       "      <th>nota_parcial_cotas</th>\n",
       "    </tr>\n",
       "    <tr>\n",
       "      <th>curso_id</th>\n",
       "      <th></th>\n",
       "      <th></th>\n",
       "      <th></th>\n",
       "      <th></th>\n",
       "      <th></th>\n",
       "      <th></th>\n",
       "      <th></th>\n",
       "      <th></th>\n",
       "      <th></th>\n",
       "      <th></th>\n",
       "      <th></th>\n",
       "      <th></th>\n",
       "      <th></th>\n",
       "      <th></th>\n",
       "      <th></th>\n",
       "      <th></th>\n",
       "      <th></th>\n",
       "      <th></th>\n",
       "      <th></th>\n",
       "    </tr>\n",
       "  </thead>\n",
       "  <tbody>\n",
       "    <tr>\n",
       "      <th>706710394154</th>\n",
       "      <td>Bacharelado</td>\n",
       "      <td>Integral</td>\n",
       "      <td>9999.99</td>\n",
       "      <td>15</td>\n",
       "      <td>14.0</td>\n",
       "      <td>NaN</td>\n",
       "      <td>NaN</td>\n",
       "      <td>Medicina</td>\n",
       "      <td>Campo Grande</td>\n",
       "      <td>MS</td>\n",
       "      <td>NTAwMjAwNDAyNzA0</td>\n",
       "      <td>Universidade Anhanguera - UNIDERP</td>\n",
       "      <td>CAMPO GRANDE - SEDE - Miguel Couto</td>\n",
       "      <td>706710</td>\n",
       "      <td>Medicina</td>\n",
       "      <td>740.22</td>\n",
       "      <td>726.46</td>\n",
       "      <td>NaN</td>\n",
       "      <td>NaN</td>\n",
       "    </tr>\n",
       "    <tr>\n",
       "      <th>104191210567043</th>\n",
       "      <td>Bacharelado</td>\n",
       "      <td>Noturno</td>\n",
       "      <td>9836.40</td>\n",
       "      <td>1</td>\n",
       "      <td>NaN</td>\n",
       "      <td>NaN</td>\n",
       "      <td>NaN</td>\n",
       "      <td>Enfermagem</td>\n",
       "      <td>Crateus</td>\n",
       "      <td>CE</td>\n",
       "      <td>MjMwNDAxODA0MTAz</td>\n",
       "      <td>Faculdade Princesa do Oeste - FPO</td>\n",
       "      <td>UNIDADE SEDE - São Vicente</td>\n",
       "      <td>1041912</td>\n",
       "      <td>Enfermagem</td>\n",
       "      <td>663.36</td>\n",
       "      <td>NaN</td>\n",
       "      <td>NaN</td>\n",
       "      <td>NaN</td>\n",
       "    </tr>\n",
       "    <tr>\n",
       "      <th>1002328574024</th>\n",
       "      <td>Bacharelado</td>\n",
       "      <td>Integral</td>\n",
       "      <td>9715.61</td>\n",
       "      <td>2</td>\n",
       "      <td>5.0</td>\n",
       "      <td>6.0</td>\n",
       "      <td>10.0</td>\n",
       "      <td>Medicina</td>\n",
       "      <td>Sao Paulo</td>\n",
       "      <td>SP</td>\n",
       "      <td>MzUxNTA2MTUwMzA4</td>\n",
       "      <td>Universidade Cidade de São Paulo - UNICID</td>\n",
       "      <td>UNIVERSIDADE CIDADE DE SÃO PAULO - UNICID - SE...</td>\n",
       "      <td>1002328</td>\n",
       "      <td>Medicina</td>\n",
       "      <td>739.62</td>\n",
       "      <td>738.08</td>\n",
       "      <td>738.96</td>\n",
       "      <td>718.64</td>\n",
       "    </tr>\n",
       "    <tr>\n",
       "      <th>104191212798093</th>\n",
       "      <td>Bacharelado</td>\n",
       "      <td>Noturno</td>\n",
       "      <td>9689.34</td>\n",
       "      <td>3</td>\n",
       "      <td>2.0</td>\n",
       "      <td>NaN</td>\n",
       "      <td>NaN</td>\n",
       "      <td>Psicologia</td>\n",
       "      <td>Crateus</td>\n",
       "      <td>CE</td>\n",
       "      <td>MjMwNDAxODA0MTAz</td>\n",
       "      <td>Faculdade Princesa do Oeste - FPO</td>\n",
       "      <td>UNIDADE SEDE - São Vicente</td>\n",
       "      <td>1041912</td>\n",
       "      <td>Psicologia</td>\n",
       "      <td>651.00</td>\n",
       "      <td>652.22</td>\n",
       "      <td>NaN</td>\n",
       "      <td>NaN</td>\n",
       "    </tr>\n",
       "    <tr>\n",
       "      <th>65899611932754</th>\n",
       "      <td>Bacharelado</td>\n",
       "      <td>Integral</td>\n",
       "      <td>9674.34</td>\n",
       "      <td>4</td>\n",
       "      <td>1.0</td>\n",
       "      <td>5.0</td>\n",
       "      <td>2.0</td>\n",
       "      <td>Medicina</td>\n",
       "      <td>Rio Branco</td>\n",
       "      <td>AC</td>\n",
       "      <td>MTIwMjAwNDAwNDAx</td>\n",
       "      <td>Faculdade Barão do Rio Branco - FAB</td>\n",
       "      <td>CAMPUS  - RIO BRANCO - JARDIM EUROPA II - Jard...</td>\n",
       "      <td>658996</td>\n",
       "      <td>Medicina</td>\n",
       "      <td>758.32</td>\n",
       "      <td>723.94</td>\n",
       "      <td>734.92</td>\n",
       "      <td>711.26</td>\n",
       "    </tr>\n",
       "  </tbody>\n",
       "</table>\n",
       "</div>"
      ]
     },
     "metadata": {
      "application/vnd.databricks.v1+output": {
       "addedWidgets": {},
       "arguments": {},
       "data": "<div>\n<style scoped>\n    .dataframe tbody tr th:only-of-type {\n        vertical-align: middle;\n    }\n\n    .dataframe tbody tr th {\n        vertical-align: top;\n    }\n\n    .dataframe thead th {\n        text-align: right;\n    }\n</style>\n<table border=\"1\" class=\"dataframe\">\n  <thead>\n    <tr style=\"text-align: right;\">\n      <th></th>\n      <th>grau</th>\n      <th>turno</th>\n      <th>mensalidade</th>\n      <th>bolsa_integral_cotas</th>\n      <th>bolsa_integral_ampla</th>\n      <th>bolsa_parcial_cotas</th>\n      <th>bolsa_parcial_ampla</th>\n      <th>curso_busca</th>\n      <th>cidade_busca</th>\n      <th>uf_busca</th>\n      <th>cidade_filtro</th>\n      <th>universidade_nome</th>\n      <th>campus_nome</th>\n      <th>campus_id</th>\n      <th>nome</th>\n      <th>nota_integral_ampla</th>\n      <th>nota_integral_cotas</th>\n      <th>nota_parcial_ampla</th>\n      <th>nota_parcial_cotas</th>\n    </tr>\n    <tr>\n      <th>curso_id</th>\n      <th></th>\n      <th></th>\n      <th></th>\n      <th></th>\n      <th></th>\n      <th></th>\n      <th></th>\n      <th></th>\n      <th></th>\n      <th></th>\n      <th></th>\n      <th></th>\n      <th></th>\n      <th></th>\n      <th></th>\n      <th></th>\n      <th></th>\n      <th></th>\n      <th></th>\n    </tr>\n  </thead>\n  <tbody>\n    <tr>\n      <th>706710394154</th>\n      <td>Bacharelado</td>\n      <td>Integral</td>\n      <td>9999.99</td>\n      <td>15</td>\n      <td>14.0</td>\n      <td>NaN</td>\n      <td>NaN</td>\n      <td>Medicina</td>\n      <td>Campo Grande</td>\n      <td>MS</td>\n      <td>NTAwMjAwNDAyNzA0</td>\n      <td>Universidade Anhanguera - UNIDERP</td>\n      <td>CAMPO GRANDE - SEDE - Miguel Couto</td>\n      <td>706710</td>\n      <td>Medicina</td>\n      <td>740.22</td>\n      <td>726.46</td>\n      <td>NaN</td>\n      <td>NaN</td>\n    </tr>\n    <tr>\n      <th>104191210567043</th>\n      <td>Bacharelado</td>\n      <td>Noturno</td>\n      <td>9836.40</td>\n      <td>1</td>\n      <td>NaN</td>\n      <td>NaN</td>\n      <td>NaN</td>\n      <td>Enfermagem</td>\n      <td>Crateus</td>\n      <td>CE</td>\n      <td>MjMwNDAxODA0MTAz</td>\n      <td>Faculdade Princesa do Oeste - FPO</td>\n      <td>UNIDADE SEDE - São Vicente</td>\n      <td>1041912</td>\n      <td>Enfermagem</td>\n      <td>663.36</td>\n      <td>NaN</td>\n      <td>NaN</td>\n      <td>NaN</td>\n    </tr>\n    <tr>\n      <th>1002328574024</th>\n      <td>Bacharelado</td>\n      <td>Integral</td>\n      <td>9715.61</td>\n      <td>2</td>\n      <td>5.0</td>\n      <td>6.0</td>\n      <td>10.0</td>\n      <td>Medicina</td>\n      <td>Sao Paulo</td>\n      <td>SP</td>\n      <td>MzUxNTA2MTUwMzA4</td>\n      <td>Universidade Cidade de São Paulo - UNICID</td>\n      <td>UNIVERSIDADE CIDADE DE SÃO PAULO - UNICID - SE...</td>\n      <td>1002328</td>\n      <td>Medicina</td>\n      <td>739.62</td>\n      <td>738.08</td>\n      <td>738.96</td>\n      <td>718.64</td>\n    </tr>\n    <tr>\n      <th>104191212798093</th>\n      <td>Bacharelado</td>\n      <td>Noturno</td>\n      <td>9689.34</td>\n      <td>3</td>\n      <td>2.0</td>\n      <td>NaN</td>\n      <td>NaN</td>\n      <td>Psicologia</td>\n      <td>Crateus</td>\n      <td>CE</td>\n      <td>MjMwNDAxODA0MTAz</td>\n      <td>Faculdade Princesa do Oeste - FPO</td>\n      <td>UNIDADE SEDE - São Vicente</td>\n      <td>1041912</td>\n      <td>Psicologia</td>\n      <td>651.00</td>\n      <td>652.22</td>\n      <td>NaN</td>\n      <td>NaN</td>\n    </tr>\n    <tr>\n      <th>65899611932754</th>\n      <td>Bacharelado</td>\n      <td>Integral</td>\n      <td>9674.34</td>\n      <td>4</td>\n      <td>1.0</td>\n      <td>5.0</td>\n      <td>2.0</td>\n      <td>Medicina</td>\n      <td>Rio Branco</td>\n      <td>AC</td>\n      <td>MTIwMjAwNDAwNDAx</td>\n      <td>Faculdade Barão do Rio Branco - FAB</td>\n      <td>CAMPUS  - RIO BRANCO - JARDIM EUROPA II - Jard...</td>\n      <td>658996</td>\n      <td>Medicina</td>\n      <td>758.32</td>\n      <td>723.94</td>\n      <td>734.92</td>\n      <td>711.26</td>\n    </tr>\n  </tbody>\n</table>\n</div>",
       "datasetInfos": [],
       "metadata": {},
       "removedWidgets": [],
       "textData": null,
       "type": "htmlSandbox"
      }
     },
     "output_type": "display_data"
    }
   ],
   "source": [
    "df.head()"
   ]
  },
  {
   "cell_type": "code",
   "execution_count": 0,
   "metadata": {
    "application/vnd.databricks.v1+cell": {
     "cellMetadata": {
      "byteLimit": 2048000,
      "rowLimit": 10000
     },
     "inputWidgets": {},
     "nuid": "281bc3d6-7ea2-43b4-9229-78562f05fe10",
     "showTitle": false,
     "tableResultSettingsMap": {},
     "title": ""
    }
   },
   "outputs": [
    {
     "output_type": "stream",
     "name": "stdout",
     "output_type": "stream",
     "text": [
      "Out[9]: (41447, 19)"
     ]
    }
   ],
   "source": [
    "df.shape"
   ]
  },
  {
   "cell_type": "code",
   "execution_count": 0,
   "metadata": {
    "application/vnd.databricks.v1+cell": {
     "cellMetadata": {
      "byteLimit": 2048000,
      "rowLimit": 10000
     },
     "inputWidgets": {},
     "nuid": "fd643cf7-5b6d-417a-84bc-7668c9cc3670",
     "showTitle": false,
     "tableResultSettingsMap": {},
     "title": ""
    }
   },
   "outputs": [
    {
     "output_type": "stream",
     "name": "stdout",
     "output_type": "stream",
     "text": [
      "Out[10]: 41447"
     ]
    }
   ],
   "source": [
    "df['curso_busca'].equals(df['nome']).sum()"
   ]
  },
  {
   "cell_type": "code",
   "execution_count": 0,
   "metadata": {
    "application/vnd.databricks.v1+cell": {
     "cellMetadata": {
      "byteLimit": 2048000,
      "rowLimit": 10000
     },
     "inputWidgets": {},
     "nuid": "12f80873-6bce-4eaa-b8d1-549fe6ab06a3",
     "showTitle": false,
     "tableResultSettingsMap": {},
     "title": ""
    }
   },
   "outputs": [],
   "source": [
    "df = df.drop(['curso_busca'], axis = 1)"
   ]
  },
  {
   "cell_type": "code",
   "execution_count": 0,
   "metadata": {
    "application/vnd.databricks.v1+cell": {
     "cellMetadata": {
      "byteLimit": 2048000,
      "rowLimit": 10000
     },
     "inputWidgets": {},
     "nuid": "7c6b240f-947b-4701-85f5-8cc0a8f7febc",
     "showTitle": false,
     "tableResultSettingsMap": {},
     "title": ""
    }
   },
   "outputs": [
    {
     "output_type": "display_data",
     "data": {
      "text/html": [
       "<div>\n",
       "<style scoped>\n",
       "    .dataframe tbody tr th:only-of-type {\n",
       "        vertical-align: middle;\n",
       "    }\n",
       "\n",
       "    .dataframe tbody tr th {\n",
       "        vertical-align: top;\n",
       "    }\n",
       "\n",
       "    .dataframe thead th {\n",
       "        text-align: right;\n",
       "    }\n",
       "</style>\n",
       "<table border=\"1\" class=\"dataframe\">\n",
       "  <thead>\n",
       "    <tr style=\"text-align: right;\">\n",
       "      <th></th>\n",
       "      <th>grau</th>\n",
       "      <th>turno</th>\n",
       "      <th>mensalidade</th>\n",
       "      <th>bolsa_integral_cotas</th>\n",
       "      <th>bolsa_integral_ampla</th>\n",
       "      <th>bolsa_parcial_cotas</th>\n",
       "      <th>bolsa_parcial_ampla</th>\n",
       "      <th>cidade_busca</th>\n",
       "      <th>uf_busca</th>\n",
       "      <th>cidade_filtro</th>\n",
       "      <th>universidade_nome</th>\n",
       "      <th>campus_nome</th>\n",
       "      <th>campus_id</th>\n",
       "      <th>nome</th>\n",
       "      <th>nota_integral_ampla</th>\n",
       "      <th>nota_integral_cotas</th>\n",
       "      <th>nota_parcial_ampla</th>\n",
       "      <th>nota_parcial_cotas</th>\n",
       "    </tr>\n",
       "    <tr>\n",
       "      <th>curso_id</th>\n",
       "      <th></th>\n",
       "      <th></th>\n",
       "      <th></th>\n",
       "      <th></th>\n",
       "      <th></th>\n",
       "      <th></th>\n",
       "      <th></th>\n",
       "      <th></th>\n",
       "      <th></th>\n",
       "      <th></th>\n",
       "      <th></th>\n",
       "      <th></th>\n",
       "      <th></th>\n",
       "      <th></th>\n",
       "      <th></th>\n",
       "      <th></th>\n",
       "      <th></th>\n",
       "      <th></th>\n",
       "    </tr>\n",
       "  </thead>\n",
       "  <tbody>\n",
       "    <tr>\n",
       "      <th>706710394154</th>\n",
       "      <td>Bacharelado</td>\n",
       "      <td>Integral</td>\n",
       "      <td>9999.99</td>\n",
       "      <td>15</td>\n",
       "      <td>14.0</td>\n",
       "      <td>NaN</td>\n",
       "      <td>NaN</td>\n",
       "      <td>Campo Grande</td>\n",
       "      <td>MS</td>\n",
       "      <td>NTAwMjAwNDAyNzA0</td>\n",
       "      <td>Universidade Anhanguera - UNIDERP</td>\n",
       "      <td>CAMPO GRANDE - SEDE - Miguel Couto</td>\n",
       "      <td>706710</td>\n",
       "      <td>Medicina</td>\n",
       "      <td>740.22</td>\n",
       "      <td>726.46</td>\n",
       "      <td>NaN</td>\n",
       "      <td>NaN</td>\n",
       "    </tr>\n",
       "    <tr>\n",
       "      <th>104191210567043</th>\n",
       "      <td>Bacharelado</td>\n",
       "      <td>Noturno</td>\n",
       "      <td>9836.40</td>\n",
       "      <td>1</td>\n",
       "      <td>NaN</td>\n",
       "      <td>NaN</td>\n",
       "      <td>NaN</td>\n",
       "      <td>Crateus</td>\n",
       "      <td>CE</td>\n",
       "      <td>MjMwNDAxODA0MTAz</td>\n",
       "      <td>Faculdade Princesa do Oeste - FPO</td>\n",
       "      <td>UNIDADE SEDE - São Vicente</td>\n",
       "      <td>1041912</td>\n",
       "      <td>Enfermagem</td>\n",
       "      <td>663.36</td>\n",
       "      <td>NaN</td>\n",
       "      <td>NaN</td>\n",
       "      <td>NaN</td>\n",
       "    </tr>\n",
       "    <tr>\n",
       "      <th>1002328574024</th>\n",
       "      <td>Bacharelado</td>\n",
       "      <td>Integral</td>\n",
       "      <td>9715.61</td>\n",
       "      <td>2</td>\n",
       "      <td>5.0</td>\n",
       "      <td>6.0</td>\n",
       "      <td>10.0</td>\n",
       "      <td>Sao Paulo</td>\n",
       "      <td>SP</td>\n",
       "      <td>MzUxNTA2MTUwMzA4</td>\n",
       "      <td>Universidade Cidade de São Paulo - UNICID</td>\n",
       "      <td>UNIVERSIDADE CIDADE DE SÃO PAULO - UNICID - SE...</td>\n",
       "      <td>1002328</td>\n",
       "      <td>Medicina</td>\n",
       "      <td>739.62</td>\n",
       "      <td>738.08</td>\n",
       "      <td>738.96</td>\n",
       "      <td>718.64</td>\n",
       "    </tr>\n",
       "    <tr>\n",
       "      <th>104191212798093</th>\n",
       "      <td>Bacharelado</td>\n",
       "      <td>Noturno</td>\n",
       "      <td>9689.34</td>\n",
       "      <td>3</td>\n",
       "      <td>2.0</td>\n",
       "      <td>NaN</td>\n",
       "      <td>NaN</td>\n",
       "      <td>Crateus</td>\n",
       "      <td>CE</td>\n",
       "      <td>MjMwNDAxODA0MTAz</td>\n",
       "      <td>Faculdade Princesa do Oeste - FPO</td>\n",
       "      <td>UNIDADE SEDE - São Vicente</td>\n",
       "      <td>1041912</td>\n",
       "      <td>Psicologia</td>\n",
       "      <td>651.00</td>\n",
       "      <td>652.22</td>\n",
       "      <td>NaN</td>\n",
       "      <td>NaN</td>\n",
       "    </tr>\n",
       "    <tr>\n",
       "      <th>65899611932754</th>\n",
       "      <td>Bacharelado</td>\n",
       "      <td>Integral</td>\n",
       "      <td>9674.34</td>\n",
       "      <td>4</td>\n",
       "      <td>1.0</td>\n",
       "      <td>5.0</td>\n",
       "      <td>2.0</td>\n",
       "      <td>Rio Branco</td>\n",
       "      <td>AC</td>\n",
       "      <td>MTIwMjAwNDAwNDAx</td>\n",
       "      <td>Faculdade Barão do Rio Branco - FAB</td>\n",
       "      <td>CAMPUS  - RIO BRANCO - JARDIM EUROPA II - Jard...</td>\n",
       "      <td>658996</td>\n",
       "      <td>Medicina</td>\n",
       "      <td>758.32</td>\n",
       "      <td>723.94</td>\n",
       "      <td>734.92</td>\n",
       "      <td>711.26</td>\n",
       "    </tr>\n",
       "  </tbody>\n",
       "</table>\n",
       "</div>"
      ]
     },
     "metadata": {
      "application/vnd.databricks.v1+output": {
       "addedWidgets": {},
       "arguments": {},
       "data": "<div>\n<style scoped>\n    .dataframe tbody tr th:only-of-type {\n        vertical-align: middle;\n    }\n\n    .dataframe tbody tr th {\n        vertical-align: top;\n    }\n\n    .dataframe thead th {\n        text-align: right;\n    }\n</style>\n<table border=\"1\" class=\"dataframe\">\n  <thead>\n    <tr style=\"text-align: right;\">\n      <th></th>\n      <th>grau</th>\n      <th>turno</th>\n      <th>mensalidade</th>\n      <th>bolsa_integral_cotas</th>\n      <th>bolsa_integral_ampla</th>\n      <th>bolsa_parcial_cotas</th>\n      <th>bolsa_parcial_ampla</th>\n      <th>cidade_busca</th>\n      <th>uf_busca</th>\n      <th>cidade_filtro</th>\n      <th>universidade_nome</th>\n      <th>campus_nome</th>\n      <th>campus_id</th>\n      <th>nome</th>\n      <th>nota_integral_ampla</th>\n      <th>nota_integral_cotas</th>\n      <th>nota_parcial_ampla</th>\n      <th>nota_parcial_cotas</th>\n    </tr>\n    <tr>\n      <th>curso_id</th>\n      <th></th>\n      <th></th>\n      <th></th>\n      <th></th>\n      <th></th>\n      <th></th>\n      <th></th>\n      <th></th>\n      <th></th>\n      <th></th>\n      <th></th>\n      <th></th>\n      <th></th>\n      <th></th>\n      <th></th>\n      <th></th>\n      <th></th>\n      <th></th>\n    </tr>\n  </thead>\n  <tbody>\n    <tr>\n      <th>706710394154</th>\n      <td>Bacharelado</td>\n      <td>Integral</td>\n      <td>9999.99</td>\n      <td>15</td>\n      <td>14.0</td>\n      <td>NaN</td>\n      <td>NaN</td>\n      <td>Campo Grande</td>\n      <td>MS</td>\n      <td>NTAwMjAwNDAyNzA0</td>\n      <td>Universidade Anhanguera - UNIDERP</td>\n      <td>CAMPO GRANDE - SEDE - Miguel Couto</td>\n      <td>706710</td>\n      <td>Medicina</td>\n      <td>740.22</td>\n      <td>726.46</td>\n      <td>NaN</td>\n      <td>NaN</td>\n    </tr>\n    <tr>\n      <th>104191210567043</th>\n      <td>Bacharelado</td>\n      <td>Noturno</td>\n      <td>9836.40</td>\n      <td>1</td>\n      <td>NaN</td>\n      <td>NaN</td>\n      <td>NaN</td>\n      <td>Crateus</td>\n      <td>CE</td>\n      <td>MjMwNDAxODA0MTAz</td>\n      <td>Faculdade Princesa do Oeste - FPO</td>\n      <td>UNIDADE SEDE - São Vicente</td>\n      <td>1041912</td>\n      <td>Enfermagem</td>\n      <td>663.36</td>\n      <td>NaN</td>\n      <td>NaN</td>\n      <td>NaN</td>\n    </tr>\n    <tr>\n      <th>1002328574024</th>\n      <td>Bacharelado</td>\n      <td>Integral</td>\n      <td>9715.61</td>\n      <td>2</td>\n      <td>5.0</td>\n      <td>6.0</td>\n      <td>10.0</td>\n      <td>Sao Paulo</td>\n      <td>SP</td>\n      <td>MzUxNTA2MTUwMzA4</td>\n      <td>Universidade Cidade de São Paulo - UNICID</td>\n      <td>UNIVERSIDADE CIDADE DE SÃO PAULO - UNICID - SE...</td>\n      <td>1002328</td>\n      <td>Medicina</td>\n      <td>739.62</td>\n      <td>738.08</td>\n      <td>738.96</td>\n      <td>718.64</td>\n    </tr>\n    <tr>\n      <th>104191212798093</th>\n      <td>Bacharelado</td>\n      <td>Noturno</td>\n      <td>9689.34</td>\n      <td>3</td>\n      <td>2.0</td>\n      <td>NaN</td>\n      <td>NaN</td>\n      <td>Crateus</td>\n      <td>CE</td>\n      <td>MjMwNDAxODA0MTAz</td>\n      <td>Faculdade Princesa do Oeste - FPO</td>\n      <td>UNIDADE SEDE - São Vicente</td>\n      <td>1041912</td>\n      <td>Psicologia</td>\n      <td>651.00</td>\n      <td>652.22</td>\n      <td>NaN</td>\n      <td>NaN</td>\n    </tr>\n    <tr>\n      <th>65899611932754</th>\n      <td>Bacharelado</td>\n      <td>Integral</td>\n      <td>9674.34</td>\n      <td>4</td>\n      <td>1.0</td>\n      <td>5.0</td>\n      <td>2.0</td>\n      <td>Rio Branco</td>\n      <td>AC</td>\n      <td>MTIwMjAwNDAwNDAx</td>\n      <td>Faculdade Barão do Rio Branco - FAB</td>\n      <td>CAMPUS  - RIO BRANCO - JARDIM EUROPA II - Jard...</td>\n      <td>658996</td>\n      <td>Medicina</td>\n      <td>758.32</td>\n      <td>723.94</td>\n      <td>734.92</td>\n      <td>711.26</td>\n    </tr>\n  </tbody>\n</table>\n</div>",
       "datasetInfos": [],
       "metadata": {},
       "removedWidgets": [],
       "textData": null,
       "type": "htmlSandbox"
      }
     },
     "output_type": "display_data"
    }
   ],
   "source": [
    "df.head()"
   ]
  },
  {
   "cell_type": "code",
   "execution_count": 0,
   "metadata": {
    "application/vnd.databricks.v1+cell": {
     "cellMetadata": {
      "byteLimit": 2048000,
      "rowLimit": 10000
     },
     "inputWidgets": {},
     "nuid": "679160af-f4d1-44d4-93c0-bdc6251cd008",
     "showTitle": false,
     "tableResultSettingsMap": {},
     "title": ""
    }
   },
   "outputs": [],
   "source": [
    "df = df.rename(columns  = {'nome':'nome_curso'})"
   ]
  },
  {
   "cell_type": "code",
   "execution_count": 0,
   "metadata": {
    "application/vnd.databricks.v1+cell": {
     "cellMetadata": {
      "byteLimit": 2048000,
      "rowLimit": 10000
     },
     "inputWidgets": {},
     "nuid": "75cb8838-db44-4d15-9dc0-eacd6ff1a89c",
     "showTitle": false,
     "tableResultSettingsMap": {},
     "title": ""
    }
   },
   "outputs": [
    {
     "output_type": "display_data",
     "data": {
      "text/html": [
       "<div>\n",
       "<style scoped>\n",
       "    .dataframe tbody tr th:only-of-type {\n",
       "        vertical-align: middle;\n",
       "    }\n",
       "\n",
       "    .dataframe tbody tr th {\n",
       "        vertical-align: top;\n",
       "    }\n",
       "\n",
       "    .dataframe thead th {\n",
       "        text-align: right;\n",
       "    }\n",
       "</style>\n",
       "<table border=\"1\" class=\"dataframe\">\n",
       "  <thead>\n",
       "    <tr style=\"text-align: right;\">\n",
       "      <th></th>\n",
       "      <th>grau</th>\n",
       "      <th>turno</th>\n",
       "      <th>mensalidade</th>\n",
       "      <th>bolsa_integral_cotas</th>\n",
       "      <th>bolsa_integral_ampla</th>\n",
       "      <th>bolsa_parcial_cotas</th>\n",
       "      <th>bolsa_parcial_ampla</th>\n",
       "      <th>cidade_busca</th>\n",
       "      <th>uf_busca</th>\n",
       "      <th>cidade_filtro</th>\n",
       "      <th>universidade_nome</th>\n",
       "      <th>campus_nome</th>\n",
       "      <th>campus_id</th>\n",
       "      <th>nome_curso</th>\n",
       "      <th>nota_integral_ampla</th>\n",
       "      <th>nota_integral_cotas</th>\n",
       "      <th>nota_parcial_ampla</th>\n",
       "      <th>nota_parcial_cotas</th>\n",
       "    </tr>\n",
       "    <tr>\n",
       "      <th>curso_id</th>\n",
       "      <th></th>\n",
       "      <th></th>\n",
       "      <th></th>\n",
       "      <th></th>\n",
       "      <th></th>\n",
       "      <th></th>\n",
       "      <th></th>\n",
       "      <th></th>\n",
       "      <th></th>\n",
       "      <th></th>\n",
       "      <th></th>\n",
       "      <th></th>\n",
       "      <th></th>\n",
       "      <th></th>\n",
       "      <th></th>\n",
       "      <th></th>\n",
       "      <th></th>\n",
       "      <th></th>\n",
       "    </tr>\n",
       "  </thead>\n",
       "  <tbody>\n",
       "    <tr>\n",
       "      <th>706710394154</th>\n",
       "      <td>Bacharelado</td>\n",
       "      <td>Integral</td>\n",
       "      <td>9999.99</td>\n",
       "      <td>15</td>\n",
       "      <td>14.0</td>\n",
       "      <td>NaN</td>\n",
       "      <td>NaN</td>\n",
       "      <td>Campo Grande</td>\n",
       "      <td>MS</td>\n",
       "      <td>NTAwMjAwNDAyNzA0</td>\n",
       "      <td>Universidade Anhanguera - UNIDERP</td>\n",
       "      <td>CAMPO GRANDE - SEDE - Miguel Couto</td>\n",
       "      <td>706710</td>\n",
       "      <td>Medicina</td>\n",
       "      <td>740.22</td>\n",
       "      <td>726.46</td>\n",
       "      <td>NaN</td>\n",
       "      <td>NaN</td>\n",
       "    </tr>\n",
       "    <tr>\n",
       "      <th>104191210567043</th>\n",
       "      <td>Bacharelado</td>\n",
       "      <td>Noturno</td>\n",
       "      <td>9836.40</td>\n",
       "      <td>1</td>\n",
       "      <td>NaN</td>\n",
       "      <td>NaN</td>\n",
       "      <td>NaN</td>\n",
       "      <td>Crateus</td>\n",
       "      <td>CE</td>\n",
       "      <td>MjMwNDAxODA0MTAz</td>\n",
       "      <td>Faculdade Princesa do Oeste - FPO</td>\n",
       "      <td>UNIDADE SEDE - São Vicente</td>\n",
       "      <td>1041912</td>\n",
       "      <td>Enfermagem</td>\n",
       "      <td>663.36</td>\n",
       "      <td>NaN</td>\n",
       "      <td>NaN</td>\n",
       "      <td>NaN</td>\n",
       "    </tr>\n",
       "    <tr>\n",
       "      <th>1002328574024</th>\n",
       "      <td>Bacharelado</td>\n",
       "      <td>Integral</td>\n",
       "      <td>9715.61</td>\n",
       "      <td>2</td>\n",
       "      <td>5.0</td>\n",
       "      <td>6.0</td>\n",
       "      <td>10.0</td>\n",
       "      <td>Sao Paulo</td>\n",
       "      <td>SP</td>\n",
       "      <td>MzUxNTA2MTUwMzA4</td>\n",
       "      <td>Universidade Cidade de São Paulo - UNICID</td>\n",
       "      <td>UNIVERSIDADE CIDADE DE SÃO PAULO - UNICID - SE...</td>\n",
       "      <td>1002328</td>\n",
       "      <td>Medicina</td>\n",
       "      <td>739.62</td>\n",
       "      <td>738.08</td>\n",
       "      <td>738.96</td>\n",
       "      <td>718.64</td>\n",
       "    </tr>\n",
       "    <tr>\n",
       "      <th>104191212798093</th>\n",
       "      <td>Bacharelado</td>\n",
       "      <td>Noturno</td>\n",
       "      <td>9689.34</td>\n",
       "      <td>3</td>\n",
       "      <td>2.0</td>\n",
       "      <td>NaN</td>\n",
       "      <td>NaN</td>\n",
       "      <td>Crateus</td>\n",
       "      <td>CE</td>\n",
       "      <td>MjMwNDAxODA0MTAz</td>\n",
       "      <td>Faculdade Princesa do Oeste - FPO</td>\n",
       "      <td>UNIDADE SEDE - São Vicente</td>\n",
       "      <td>1041912</td>\n",
       "      <td>Psicologia</td>\n",
       "      <td>651.00</td>\n",
       "      <td>652.22</td>\n",
       "      <td>NaN</td>\n",
       "      <td>NaN</td>\n",
       "    </tr>\n",
       "    <tr>\n",
       "      <th>65899611932754</th>\n",
       "      <td>Bacharelado</td>\n",
       "      <td>Integral</td>\n",
       "      <td>9674.34</td>\n",
       "      <td>4</td>\n",
       "      <td>1.0</td>\n",
       "      <td>5.0</td>\n",
       "      <td>2.0</td>\n",
       "      <td>Rio Branco</td>\n",
       "      <td>AC</td>\n",
       "      <td>MTIwMjAwNDAwNDAx</td>\n",
       "      <td>Faculdade Barão do Rio Branco - FAB</td>\n",
       "      <td>CAMPUS  - RIO BRANCO - JARDIM EUROPA II - Jard...</td>\n",
       "      <td>658996</td>\n",
       "      <td>Medicina</td>\n",
       "      <td>758.32</td>\n",
       "      <td>723.94</td>\n",
       "      <td>734.92</td>\n",
       "      <td>711.26</td>\n",
       "    </tr>\n",
       "  </tbody>\n",
       "</table>\n",
       "</div>"
      ]
     },
     "metadata": {
      "application/vnd.databricks.v1+output": {
       "addedWidgets": {},
       "arguments": {},
       "data": "<div>\n<style scoped>\n    .dataframe tbody tr th:only-of-type {\n        vertical-align: middle;\n    }\n\n    .dataframe tbody tr th {\n        vertical-align: top;\n    }\n\n    .dataframe thead th {\n        text-align: right;\n    }\n</style>\n<table border=\"1\" class=\"dataframe\">\n  <thead>\n    <tr style=\"text-align: right;\">\n      <th></th>\n      <th>grau</th>\n      <th>turno</th>\n      <th>mensalidade</th>\n      <th>bolsa_integral_cotas</th>\n      <th>bolsa_integral_ampla</th>\n      <th>bolsa_parcial_cotas</th>\n      <th>bolsa_parcial_ampla</th>\n      <th>cidade_busca</th>\n      <th>uf_busca</th>\n      <th>cidade_filtro</th>\n      <th>universidade_nome</th>\n      <th>campus_nome</th>\n      <th>campus_id</th>\n      <th>nome_curso</th>\n      <th>nota_integral_ampla</th>\n      <th>nota_integral_cotas</th>\n      <th>nota_parcial_ampla</th>\n      <th>nota_parcial_cotas</th>\n    </tr>\n    <tr>\n      <th>curso_id</th>\n      <th></th>\n      <th></th>\n      <th></th>\n      <th></th>\n      <th></th>\n      <th></th>\n      <th></th>\n      <th></th>\n      <th></th>\n      <th></th>\n      <th></th>\n      <th></th>\n      <th></th>\n      <th></th>\n      <th></th>\n      <th></th>\n      <th></th>\n      <th></th>\n    </tr>\n  </thead>\n  <tbody>\n    <tr>\n      <th>706710394154</th>\n      <td>Bacharelado</td>\n      <td>Integral</td>\n      <td>9999.99</td>\n      <td>15</td>\n      <td>14.0</td>\n      <td>NaN</td>\n      <td>NaN</td>\n      <td>Campo Grande</td>\n      <td>MS</td>\n      <td>NTAwMjAwNDAyNzA0</td>\n      <td>Universidade Anhanguera - UNIDERP</td>\n      <td>CAMPO GRANDE - SEDE - Miguel Couto</td>\n      <td>706710</td>\n      <td>Medicina</td>\n      <td>740.22</td>\n      <td>726.46</td>\n      <td>NaN</td>\n      <td>NaN</td>\n    </tr>\n    <tr>\n      <th>104191210567043</th>\n      <td>Bacharelado</td>\n      <td>Noturno</td>\n      <td>9836.40</td>\n      <td>1</td>\n      <td>NaN</td>\n      <td>NaN</td>\n      <td>NaN</td>\n      <td>Crateus</td>\n      <td>CE</td>\n      <td>MjMwNDAxODA0MTAz</td>\n      <td>Faculdade Princesa do Oeste - FPO</td>\n      <td>UNIDADE SEDE - São Vicente</td>\n      <td>1041912</td>\n      <td>Enfermagem</td>\n      <td>663.36</td>\n      <td>NaN</td>\n      <td>NaN</td>\n      <td>NaN</td>\n    </tr>\n    <tr>\n      <th>1002328574024</th>\n      <td>Bacharelado</td>\n      <td>Integral</td>\n      <td>9715.61</td>\n      <td>2</td>\n      <td>5.0</td>\n      <td>6.0</td>\n      <td>10.0</td>\n      <td>Sao Paulo</td>\n      <td>SP</td>\n      <td>MzUxNTA2MTUwMzA4</td>\n      <td>Universidade Cidade de São Paulo - UNICID</td>\n      <td>UNIVERSIDADE CIDADE DE SÃO PAULO - UNICID - SE...</td>\n      <td>1002328</td>\n      <td>Medicina</td>\n      <td>739.62</td>\n      <td>738.08</td>\n      <td>738.96</td>\n      <td>718.64</td>\n    </tr>\n    <tr>\n      <th>104191212798093</th>\n      <td>Bacharelado</td>\n      <td>Noturno</td>\n      <td>9689.34</td>\n      <td>3</td>\n      <td>2.0</td>\n      <td>NaN</td>\n      <td>NaN</td>\n      <td>Crateus</td>\n      <td>CE</td>\n      <td>MjMwNDAxODA0MTAz</td>\n      <td>Faculdade Princesa do Oeste - FPO</td>\n      <td>UNIDADE SEDE - São Vicente</td>\n      <td>1041912</td>\n      <td>Psicologia</td>\n      <td>651.00</td>\n      <td>652.22</td>\n      <td>NaN</td>\n      <td>NaN</td>\n    </tr>\n    <tr>\n      <th>65899611932754</th>\n      <td>Bacharelado</td>\n      <td>Integral</td>\n      <td>9674.34</td>\n      <td>4</td>\n      <td>1.0</td>\n      <td>5.0</td>\n      <td>2.0</td>\n      <td>Rio Branco</td>\n      <td>AC</td>\n      <td>MTIwMjAwNDAwNDAx</td>\n      <td>Faculdade Barão do Rio Branco - FAB</td>\n      <td>CAMPUS  - RIO BRANCO - JARDIM EUROPA II - Jard...</td>\n      <td>658996</td>\n      <td>Medicina</td>\n      <td>758.32</td>\n      <td>723.94</td>\n      <td>734.92</td>\n      <td>711.26</td>\n    </tr>\n  </tbody>\n</table>\n</div>",
       "datasetInfos": [],
       "metadata": {},
       "removedWidgets": [],
       "textData": null,
       "type": "htmlSandbox"
      }
     },
     "output_type": "display_data"
    }
   ],
   "source": [
    "df.head()"
   ]
  },
  {
   "cell_type": "code",
   "execution_count": 0,
   "metadata": {
    "application/vnd.databricks.v1+cell": {
     "cellMetadata": {
      "byteLimit": 2048000,
      "rowLimit": 10000
     },
     "inputWidgets": {},
     "nuid": "e0bb835c-89e4-4663-93d7-cb9799d25dd3",
     "showTitle": false,
     "tableResultSettingsMap": {},
     "title": ""
    }
   },
   "outputs": [
    {
     "output_type": "stream",
     "name": "stdout",
     "output_type": "stream",
     "text": [
      "Out[15]: 124"
     ]
    }
   ],
   "source": [
    "# Quantos cursos de medicina estão no dataset?\n",
    "df[df['nome_curso'] == 'Medicina']['nome_curso'].count()"
   ]
  },
  {
   "cell_type": "code",
   "execution_count": 0,
   "metadata": {
    "application/vnd.databricks.v1+cell": {
     "cellMetadata": {
      "byteLimit": 2048000,
      "rowLimit": 10000
     },
     "inputWidgets": {},
     "nuid": "3482c97c-99e4-4c9b-9987-8bafb7118fb8",
     "showTitle": false,
     "tableResultSettingsMap": {},
     "title": ""
    }
   },
   "outputs": [
    {
     "output_type": "stream",
     "name": "stdout",
     "output_type": "stream",
     "text": [
      "Out[16]: 0             Matutino\n1    Curso a Distância\n2           Vespertino\n3             Integral\n4              Noturno\nName: turno, dtype: object"
     ]
    }
   ],
   "source": [
    "# Em quais turnos temos cursos de medicina?\n",
    "df['turno'].unique()"
   ]
  },
  {
   "cell_type": "code",
   "execution_count": 0,
   "metadata": {
    "application/vnd.databricks.v1+cell": {
     "cellMetadata": {
      "byteLimit": 2048000,
      "rowLimit": 10000
     },
     "inputWidgets": {},
     "nuid": "8095834f-383e-4c7a-a6ff-ffa4eb73ebd3",
     "showTitle": false,
     "tableResultSettingsMap": {},
     "title": ""
    }
   },
   "outputs": [
    {
     "output_type": "stream",
     "name": "stdout",
     "output_type": "stream",
     "text": [
      "Out[17]: 123"
     ]
    }
   ],
   "source": [
    "df[(df['turno'] == 'Integral') & (df['nome_curso'] == 'Medicina')]['nome_curso'].count()"
   ]
  },
  {
   "cell_type": "code",
   "execution_count": 0,
   "metadata": {
    "application/vnd.databricks.v1+cell": {
     "cellMetadata": {
      "byteLimit": 2048000,
      "rowLimit": 10000
     },
     "inputWidgets": {},
     "nuid": "4ad01499-c74c-447c-83aa-00e75562b399",
     "showTitle": false,
     "tableResultSettingsMap": {},
     "title": ""
    }
   },
   "outputs": [
    {
     "output_type": "stream",
     "name": "stdout",
     "output_type": "stream",
     "text": [
      "Out[18]: 124"
     ]
    }
   ],
   "source": [
    "df[(df['turno'] == 'Integral') & (df['nome_curso'] == 'Medicina') | (df['turno'] == 'Matutino') & (df['nome_curso'] == 'Medicina') ]['nome_curso'].count()"
   ]
  },
  {
   "cell_type": "code",
   "execution_count": 0,
   "metadata": {
    "application/vnd.databricks.v1+cell": {
     "cellMetadata": {
      "byteLimit": 2048000,
      "rowLimit": 10000
     },
     "inputWidgets": {},
     "nuid": "5c935c7d-06d9-42d8-9a2a-63e4dd498689",
     "showTitle": false,
     "tableResultSettingsMap": {},
     "title": ""
    }
   },
   "outputs": [
    {
     "output_type": "display_data",
     "data": {
      "text/html": [
       "<div>\n",
       "<style scoped>\n",
       "    .dataframe tbody tr th:only-of-type {\n",
       "        vertical-align: middle;\n",
       "    }\n",
       "\n",
       "    .dataframe tbody tr th {\n",
       "        vertical-align: top;\n",
       "    }\n",
       "\n",
       "    .dataframe thead th {\n",
       "        text-align: right;\n",
       "    }\n",
       "</style>\n",
       "<table border=\"1\" class=\"dataframe\">\n",
       "  <thead>\n",
       "    <tr style=\"text-align: right;\">\n",
       "      <th></th>\n",
       "      <th>reajuste</th>\n",
       "    </tr>\n",
       "  </thead>\n",
       "  <tbody>\n",
       "    <tr>\n",
       "      <th>0</th>\n",
       "      <td>100</td>\n",
       "    </tr>\n",
       "    <tr>\n",
       "      <th>1</th>\n",
       "      <td>50</td>\n",
       "    </tr>\n",
       "    <tr>\n",
       "      <th>2</th>\n",
       "      <td>100</td>\n",
       "    </tr>\n",
       "    <tr>\n",
       "      <th>3</th>\n",
       "      <td>50</td>\n",
       "    </tr>\n",
       "    <tr>\n",
       "      <th>4</th>\n",
       "      <td>100</td>\n",
       "    </tr>\n",
       "  </tbody>\n",
       "</table>\n",
       "</div>"
      ]
     },
     "metadata": {
      "application/vnd.databricks.v1+output": {
       "addedWidgets": {},
       "arguments": {},
       "data": "<div>\n<style scoped>\n    .dataframe tbody tr th:only-of-type {\n        vertical-align: middle;\n    }\n\n    .dataframe tbody tr th {\n        vertical-align: top;\n    }\n\n    .dataframe thead th {\n        text-align: right;\n    }\n</style>\n<table border=\"1\" class=\"dataframe\">\n  <thead>\n    <tr style=\"text-align: right;\">\n      <th></th>\n      <th>reajuste</th>\n    </tr>\n  </thead>\n  <tbody>\n    <tr>\n      <th>0</th>\n      <td>100</td>\n    </tr>\n    <tr>\n      <th>1</th>\n      <td>50</td>\n    </tr>\n    <tr>\n      <th>2</th>\n      <td>100</td>\n    </tr>\n    <tr>\n      <th>3</th>\n      <td>50</td>\n    </tr>\n    <tr>\n      <th>4</th>\n      <td>100</td>\n    </tr>\n  </tbody>\n</table>\n</div>",
       "datasetInfos": [],
       "metadata": {},
       "removedWidgets": [],
       "textData": null,
       "type": "htmlSandbox"
      }
     },
     "output_type": "display_data"
    }
   ],
   "source": [
    "# Mensalidades de cursos de medicina no Brasil\n",
    "df_mensalidade.head()"
   ]
  },
  {
   "cell_type": "code",
   "execution_count": 0,
   "metadata": {
    "application/vnd.databricks.v1+cell": {
     "cellMetadata": {
      "byteLimit": 2048000,
      "rowLimit": 10000
     },
     "inputWidgets": {},
     "nuid": "d0ed9095-4b5b-4b83-a7ee-a31d3f23fe93",
     "showTitle": false,
     "tableResultSettingsMap": {},
     "title": ""
    }
   },
   "outputs": [
    {
     "output_type": "stream",
     "name": "stdout",
     "output_type": "stream",
     "text": [
      "Out[20]: (41447, 1)"
     ]
    }
   ],
   "source": [
    "df_mensalidade.shape"
   ]
  },
  {
   "cell_type": "code",
   "execution_count": 0,
   "metadata": {
    "application/vnd.databricks.v1+cell": {
     "cellMetadata": {
      "byteLimit": 2048000,
      "rowLimit": 10000
     },
     "inputWidgets": {},
     "nuid": "44e41908-c338-4589-b28c-4382b7dd499d",
     "showTitle": false,
     "tableResultSettingsMap": {},
     "title": ""
    }
   },
   "outputs": [],
   "source": [
    "ps.set_option('compute.ops_on_diff_frames', True)"
   ]
  },
  {
   "cell_type": "code",
   "execution_count": 0,
   "metadata": {
    "application/vnd.databricks.v1+cell": {
     "cellMetadata": {
      "byteLimit": 2048000,
      "rowLimit": 10000
     },
     "inputWidgets": {},
     "nuid": "5f6cb8eb-ba57-4d8c-a5e9-8238f7d2475b",
     "showTitle": false,
     "tableResultSettingsMap": {},
     "title": ""
    }
   },
   "outputs": [],
   "source": [
    "df.reset_index(inplace = True)"
   ]
  },
  {
   "cell_type": "code",
   "execution_count": 0,
   "metadata": {
    "application/vnd.databricks.v1+cell": {
     "cellMetadata": {
      "byteLimit": 2048000,
      "rowLimit": 10000
     },
     "inputWidgets": {},
     "nuid": "3d630a9c-d788-42c5-9af8-5f9594ba16ce",
     "showTitle": false,
     "tableResultSettingsMap": {},
     "title": ""
    }
   },
   "outputs": [],
   "source": [
    "df['mensalidade'] = df['mensalidade'] + df_mensalidade['reajuste']"
   ]
  },
  {
   "cell_type": "code",
   "execution_count": 0,
   "metadata": {
    "application/vnd.databricks.v1+cell": {
     "cellMetadata": {
      "byteLimit": 2048000,
      "rowLimit": 10000
     },
     "inputWidgets": {},
     "nuid": "11f76d54-91ff-4aaa-bd1b-f56ff055a95b",
     "showTitle": false,
     "tableResultSettingsMap": {},
     "title": ""
    }
   },
   "outputs": [
    {
     "output_type": "display_data",
     "data": {
      "text/html": [
       "<div>\n",
       "<style scoped>\n",
       "    .dataframe tbody tr th:only-of-type {\n",
       "        vertical-align: middle;\n",
       "    }\n",
       "\n",
       "    .dataframe tbody tr th {\n",
       "        vertical-align: top;\n",
       "    }\n",
       "\n",
       "    .dataframe thead th {\n",
       "        text-align: right;\n",
       "    }\n",
       "</style>\n",
       "<table border=\"1\" class=\"dataframe\">\n",
       "  <thead>\n",
       "    <tr style=\"text-align: right;\">\n",
       "      <th></th>\n",
       "      <th>curso_id</th>\n",
       "      <th>grau</th>\n",
       "      <th>turno</th>\n",
       "      <th>mensalidade</th>\n",
       "      <th>bolsa_integral_cotas</th>\n",
       "      <th>bolsa_integral_ampla</th>\n",
       "      <th>bolsa_parcial_cotas</th>\n",
       "      <th>bolsa_parcial_ampla</th>\n",
       "      <th>cidade_busca</th>\n",
       "      <th>uf_busca</th>\n",
       "      <th>cidade_filtro</th>\n",
       "      <th>universidade_nome</th>\n",
       "      <th>campus_nome</th>\n",
       "      <th>campus_id</th>\n",
       "      <th>nome_curso</th>\n",
       "      <th>nota_integral_ampla</th>\n",
       "      <th>nota_integral_cotas</th>\n",
       "      <th>nota_parcial_ampla</th>\n",
       "      <th>nota_parcial_cotas</th>\n",
       "    </tr>\n",
       "  </thead>\n",
       "  <tbody>\n",
       "    <tr>\n",
       "      <th>1950</th>\n",
       "      <td>65982912800701</td>\n",
       "      <td>Bacharelado</td>\n",
       "      <td>Matutino</td>\n",
       "      <td>1561.29</td>\n",
       "      <td>1</td>\n",
       "      <td>1</td>\n",
       "      <td>1</td>\n",
       "      <td>30</td>\n",
       "      <td>Caucaia</td>\n",
       "      <td>CE</td>\n",
       "      <td>MjMwMzAxNjAzNzA5</td>\n",
       "      <td>Faculdade Terra Nordeste - FATENE</td>\n",
       "      <td>UNIDADE SEDE - Soledade</td>\n",
       "      <td>659829</td>\n",
       "      <td>Engenharia Civil</td>\n",
       "      <td>688.70</td>\n",
       "      <td>693.02</td>\n",
       "      <td>450.00</td>\n",
       "      <td>450.00</td>\n",
       "    </tr>\n",
       "    <tr>\n",
       "      <th>8440</th>\n",
       "      <td>65928650009893</td>\n",
       "      <td>Bacharelado</td>\n",
       "      <td>Noturno</td>\n",
       "      <td>980.00</td>\n",
       "      <td>1</td>\n",
       "      <td>1</td>\n",
       "      <td>3</td>\n",
       "      <td>2</td>\n",
       "      <td>Sao Gotardo</td>\n",
       "      <td>MG</td>\n",
       "      <td>MzEwNTAyMDYyMTA0</td>\n",
       "      <td>Faculdade de Ciências Gerenciais de São Gotard...</td>\n",
       "      <td>UNIDADE SEDE - Boa Esperança</td>\n",
       "      <td>659286</td>\n",
       "      <td>Direito</td>\n",
       "      <td>638.94</td>\n",
       "      <td>612.92</td>\n",
       "      <td>608.26</td>\n",
       "      <td>579.50</td>\n",
       "    </tr>\n",
       "    <tr>\n",
       "      <th>9458</th>\n",
       "      <td>658024423323</td>\n",
       "      <td>Bacharelado</td>\n",
       "      <td>Noturno</td>\n",
       "      <td>927.00</td>\n",
       "      <td>2</td>\n",
       "      <td>1</td>\n",
       "      <td>3</td>\n",
       "      <td>2</td>\n",
       "      <td>Dourados</td>\n",
       "      <td>MS</td>\n",
       "      <td>NTAwNDAxMDAzNzAy</td>\n",
       "      <td>Centro Universitário da Grande Dourados - Unig...</td>\n",
       "      <td>DOURADOS - Jardim</td>\n",
       "      <td>658024</td>\n",
       "      <td>Psicologia</td>\n",
       "      <td>631.32</td>\n",
       "      <td>609.34</td>\n",
       "      <td>618.58</td>\n",
       "      <td>557.68</td>\n",
       "    </tr>\n",
       "    <tr>\n",
       "      <th>11190</th>\n",
       "      <td>1072630671593</td>\n",
       "      <td>Bacharelado</td>\n",
       "      <td>Noturno</td>\n",
       "      <td>829.00</td>\n",
       "      <td>6</td>\n",
       "      <td>5</td>\n",
       "      <td>10</td>\n",
       "      <td>9</td>\n",
       "      <td>Juiz de Fora</td>\n",
       "      <td>MG</td>\n",
       "      <td>MzExMjA2NTM2NzAy</td>\n",
       "      <td>Faculdade Doctum de Juiz de Fora - DOCTUM</td>\n",
       "      <td>CAMPUS APOGEU - Centro</td>\n",
       "      <td>1072630</td>\n",
       "      <td>Direito</td>\n",
       "      <td>669.40</td>\n",
       "      <td>632.94</td>\n",
       "      <td>615.56</td>\n",
       "      <td>584.58</td>\n",
       "    </tr>\n",
       "    <tr>\n",
       "      <th>17979</th>\n",
       "      <td>69558711774842</td>\n",
       "      <td>Tecnológico</td>\n",
       "      <td>Vespertino</td>\n",
       "      <td>543.00</td>\n",
       "      <td>1</td>\n",
       "      <td>1</td>\n",
       "      <td>1</td>\n",
       "      <td>1</td>\n",
       "      <td>Rio Branco</td>\n",
       "      <td>AC</td>\n",
       "      <td>MTIwMjAwNDAwNDAx</td>\n",
       "      <td>Faculdade da Amazônia Ocidental - FAAO</td>\n",
       "      <td>CAMPUS - RIO BRANCO - JARDIM PRIMAVERA - Jardi...</td>\n",
       "      <td>695587</td>\n",
       "      <td>Análise e Desenvolvimento de Sistemas</td>\n",
       "      <td>615.54</td>\n",
       "      <td>574.42</td>\n",
       "      <td>582.66</td>\n",
       "      <td>623.22</td>\n",
       "    </tr>\n",
       "  </tbody>\n",
       "</table>\n",
       "</div>"
      ]
     },
     "metadata": {
      "application/vnd.databricks.v1+output": {
       "addedWidgets": {},
       "arguments": {},
       "data": "<div>\n<style scoped>\n    .dataframe tbody tr th:only-of-type {\n        vertical-align: middle;\n    }\n\n    .dataframe tbody tr th {\n        vertical-align: top;\n    }\n\n    .dataframe thead th {\n        text-align: right;\n    }\n</style>\n<table border=\"1\" class=\"dataframe\">\n  <thead>\n    <tr style=\"text-align: right;\">\n      <th></th>\n      <th>curso_id</th>\n      <th>grau</th>\n      <th>turno</th>\n      <th>mensalidade</th>\n      <th>bolsa_integral_cotas</th>\n      <th>bolsa_integral_ampla</th>\n      <th>bolsa_parcial_cotas</th>\n      <th>bolsa_parcial_ampla</th>\n      <th>cidade_busca</th>\n      <th>uf_busca</th>\n      <th>cidade_filtro</th>\n      <th>universidade_nome</th>\n      <th>campus_nome</th>\n      <th>campus_id</th>\n      <th>nome_curso</th>\n      <th>nota_integral_ampla</th>\n      <th>nota_integral_cotas</th>\n      <th>nota_parcial_ampla</th>\n      <th>nota_parcial_cotas</th>\n    </tr>\n  </thead>\n  <tbody>\n    <tr>\n      <th>1950</th>\n      <td>65982912800701</td>\n      <td>Bacharelado</td>\n      <td>Matutino</td>\n      <td>1561.29</td>\n      <td>1</td>\n      <td>1</td>\n      <td>1</td>\n      <td>30</td>\n      <td>Caucaia</td>\n      <td>CE</td>\n      <td>MjMwMzAxNjAzNzA5</td>\n      <td>Faculdade Terra Nordeste - FATENE</td>\n      <td>UNIDADE SEDE - Soledade</td>\n      <td>659829</td>\n      <td>Engenharia Civil</td>\n      <td>688.70</td>\n      <td>693.02</td>\n      <td>450.00</td>\n      <td>450.00</td>\n    </tr>\n    <tr>\n      <th>8440</th>\n      <td>65928650009893</td>\n      <td>Bacharelado</td>\n      <td>Noturno</td>\n      <td>980.00</td>\n      <td>1</td>\n      <td>1</td>\n      <td>3</td>\n      <td>2</td>\n      <td>Sao Gotardo</td>\n      <td>MG</td>\n      <td>MzEwNTAyMDYyMTA0</td>\n      <td>Faculdade de Ciências Gerenciais de São Gotard...</td>\n      <td>UNIDADE SEDE - Boa Esperança</td>\n      <td>659286</td>\n      <td>Direito</td>\n      <td>638.94</td>\n      <td>612.92</td>\n      <td>608.26</td>\n      <td>579.50</td>\n    </tr>\n    <tr>\n      <th>9458</th>\n      <td>658024423323</td>\n      <td>Bacharelado</td>\n      <td>Noturno</td>\n      <td>927.00</td>\n      <td>2</td>\n      <td>1</td>\n      <td>3</td>\n      <td>2</td>\n      <td>Dourados</td>\n      <td>MS</td>\n      <td>NTAwNDAxMDAzNzAy</td>\n      <td>Centro Universitário da Grande Dourados - Unig...</td>\n      <td>DOURADOS - Jardim</td>\n      <td>658024</td>\n      <td>Psicologia</td>\n      <td>631.32</td>\n      <td>609.34</td>\n      <td>618.58</td>\n      <td>557.68</td>\n    </tr>\n    <tr>\n      <th>11190</th>\n      <td>1072630671593</td>\n      <td>Bacharelado</td>\n      <td>Noturno</td>\n      <td>829.00</td>\n      <td>6</td>\n      <td>5</td>\n      <td>10</td>\n      <td>9</td>\n      <td>Juiz de Fora</td>\n      <td>MG</td>\n      <td>MzExMjA2NTM2NzAy</td>\n      <td>Faculdade Doctum de Juiz de Fora - DOCTUM</td>\n      <td>CAMPUS APOGEU - Centro</td>\n      <td>1072630</td>\n      <td>Direito</td>\n      <td>669.40</td>\n      <td>632.94</td>\n      <td>615.56</td>\n      <td>584.58</td>\n    </tr>\n    <tr>\n      <th>17979</th>\n      <td>69558711774842</td>\n      <td>Tecnológico</td>\n      <td>Vespertino</td>\n      <td>543.00</td>\n      <td>1</td>\n      <td>1</td>\n      <td>1</td>\n      <td>1</td>\n      <td>Rio Branco</td>\n      <td>AC</td>\n      <td>MTIwMjAwNDAwNDAx</td>\n      <td>Faculdade da Amazônia Ocidental - FAAO</td>\n      <td>CAMPUS - RIO BRANCO - JARDIM PRIMAVERA - Jardi...</td>\n      <td>695587</td>\n      <td>Análise e Desenvolvimento de Sistemas</td>\n      <td>615.54</td>\n      <td>574.42</td>\n      <td>582.66</td>\n      <td>623.22</td>\n    </tr>\n  </tbody>\n</table>\n</div>",
       "datasetInfos": [],
       "metadata": {},
       "removedWidgets": [],
       "textData": null,
       "type": "htmlSandbox"
      }
     },
     "output_type": "display_data"
    }
   ],
   "source": [
    "# Removendo valores nulos\n",
    "df.dropna(inplace = True)\n",
    "df.head()"
   ]
  },
  {
   "cell_type": "code",
   "execution_count": 0,
   "metadata": {
    "application/vnd.databricks.v1+cell": {
     "cellMetadata": {
      "byteLimit": 2048000,
      "rowLimit": 10000
     },
     "inputWidgets": {},
     "nuid": "3521c709-73e8-4b6d-bc4c-6b811201cbdd",
     "showTitle": false,
     "tableResultSettingsMap": {},
     "title": ""
    }
   },
   "outputs": [
    {
     "output_type": "display_data",
     "data": {
      "text/html": [
       "<div>\n",
       "<style scoped>\n",
       "    .dataframe tbody tr th:only-of-type {\n",
       "        vertical-align: middle;\n",
       "    }\n",
       "\n",
       "    .dataframe tbody tr th {\n",
       "        vertical-align: top;\n",
       "    }\n",
       "\n",
       "    .dataframe thead th {\n",
       "        text-align: right;\n",
       "    }\n",
       "</style>\n",
       "<table border=\"1\" class=\"dataframe\">\n",
       "  <thead>\n",
       "    <tr style=\"text-align: right;\">\n",
       "      <th></th>\n",
       "      <th>curso_id</th>\n",
       "      <th>mensalidade</th>\n",
       "      <th>bolsa_integral_cotas</th>\n",
       "      <th>bolsa_integral_ampla</th>\n",
       "      <th>bolsa_parcial_cotas</th>\n",
       "      <th>bolsa_parcial_ampla</th>\n",
       "      <th>campus_id</th>\n",
       "      <th>nota_integral_ampla</th>\n",
       "      <th>nota_integral_cotas</th>\n",
       "      <th>nota_parcial_ampla</th>\n",
       "      <th>nota_parcial_cotas</th>\n",
       "    </tr>\n",
       "  </thead>\n",
       "  <tbody>\n",
       "    <tr>\n",
       "      <th>count</th>\n",
       "      <td>2.203000e+03</td>\n",
       "      <td>2203.000000</td>\n",
       "      <td>2203.000000</td>\n",
       "      <td>2203.000000</td>\n",
       "      <td>2203.000000</td>\n",
       "      <td>2203.000000</td>\n",
       "      <td>2.203000e+03</td>\n",
       "      <td>2203.000000</td>\n",
       "      <td>2203.000000</td>\n",
       "      <td>2203.000000</td>\n",
       "      <td>2203.000000</td>\n",
       "    </tr>\n",
       "    <tr>\n",
       "      <th>mean</th>\n",
       "      <td>4.376614e+13</td>\n",
       "      <td>881.605556</td>\n",
       "      <td>1.891058</td>\n",
       "      <td>2.082161</td>\n",
       "      <td>3.387199</td>\n",
       "      <td>7.190649</td>\n",
       "      <td>7.510660e+05</td>\n",
       "      <td>599.380390</td>\n",
       "      <td>574.097921</td>\n",
       "      <td>547.297204</td>\n",
       "      <td>521.452964</td>\n",
       "    </tr>\n",
       "    <tr>\n",
       "      <th>std</th>\n",
       "      <td>4.862265e+13</td>\n",
       "      <td>737.440291</td>\n",
       "      <td>1.969321</td>\n",
       "      <td>2.105756</td>\n",
       "      <td>4.020312</td>\n",
       "      <td>13.897084</td>\n",
       "      <td>4.202414e+05</td>\n",
       "      <td>53.194117</td>\n",
       "      <td>59.868058</td>\n",
       "      <td>58.971101</td>\n",
       "      <td>56.371352</td>\n",
       "    </tr>\n",
       "    <tr>\n",
       "      <th>min</th>\n",
       "      <td>1.649611e+08</td>\n",
       "      <td>194.000000</td>\n",
       "      <td>1.000000</td>\n",
       "      <td>1.000000</td>\n",
       "      <td>1.000000</td>\n",
       "      <td>1.000000</td>\n",
       "      <td>4.790000e+02</td>\n",
       "      <td>450.000000</td>\n",
       "      <td>450.000000</td>\n",
       "      <td>450.000000</td>\n",
       "      <td>450.000000</td>\n",
       "    </tr>\n",
       "    <tr>\n",
       "      <th>25%</th>\n",
       "      <td>6.589496e+11</td>\n",
       "      <td>500.000000</td>\n",
       "      <td>1.000000</td>\n",
       "      <td>1.000000</td>\n",
       "      <td>1.000000</td>\n",
       "      <td>2.000000</td>\n",
       "      <td>6.582050e+05</td>\n",
       "      <td>569.520000</td>\n",
       "      <td>542.220000</td>\n",
       "      <td>507.160000</td>\n",
       "      <td>450.000000</td>\n",
       "    </tr>\n",
       "    <tr>\n",
       "      <th>50%</th>\n",
       "      <td>1.002328e+13</td>\n",
       "      <td>773.830000</td>\n",
       "      <td>1.000000</td>\n",
       "      <td>1.000000</td>\n",
       "      <td>2.000000</td>\n",
       "      <td>3.000000</td>\n",
       "      <td>6.596950e+05</td>\n",
       "      <td>602.040000</td>\n",
       "      <td>583.320000</td>\n",
       "      <td>555.240000</td>\n",
       "      <td>526.540000</td>\n",
       "    </tr>\n",
       "    <tr>\n",
       "      <th>75%</th>\n",
       "      <td>1.040060e+14</td>\n",
       "      <td>1049.000000</td>\n",
       "      <td>2.000000</td>\n",
       "      <td>2.000000</td>\n",
       "      <td>4.000000</td>\n",
       "      <td>6.000000</td>\n",
       "      <td>1.054619e+06</td>\n",
       "      <td>634.600000</td>\n",
       "      <td>614.340000</td>\n",
       "      <td>588.160000</td>\n",
       "      <td>563.620000</td>\n",
       "    </tr>\n",
       "    <tr>\n",
       "      <th>max</th>\n",
       "      <td>2.008254e+14</td>\n",
       "      <td>9815.610000</td>\n",
       "      <td>34.000000</td>\n",
       "      <td>50.000000</td>\n",
       "      <td>74.000000</td>\n",
       "      <td>179.000000</td>\n",
       "      <td>2.008254e+06</td>\n",
       "      <td>781.200000</td>\n",
       "      <td>792.240000</td>\n",
       "      <td>776.360000</td>\n",
       "      <td>768.340000</td>\n",
       "    </tr>\n",
       "  </tbody>\n",
       "</table>\n",
       "</div>"
      ]
     },
     "metadata": {
      "application/vnd.databricks.v1+output": {
       "addedWidgets": {},
       "arguments": {},
       "data": "<div>\n<style scoped>\n    .dataframe tbody tr th:only-of-type {\n        vertical-align: middle;\n    }\n\n    .dataframe tbody tr th {\n        vertical-align: top;\n    }\n\n    .dataframe thead th {\n        text-align: right;\n    }\n</style>\n<table border=\"1\" class=\"dataframe\">\n  <thead>\n    <tr style=\"text-align: right;\">\n      <th></th>\n      <th>curso_id</th>\n      <th>mensalidade</th>\n      <th>bolsa_integral_cotas</th>\n      <th>bolsa_integral_ampla</th>\n      <th>bolsa_parcial_cotas</th>\n      <th>bolsa_parcial_ampla</th>\n      <th>campus_id</th>\n      <th>nota_integral_ampla</th>\n      <th>nota_integral_cotas</th>\n      <th>nota_parcial_ampla</th>\n      <th>nota_parcial_cotas</th>\n    </tr>\n  </thead>\n  <tbody>\n    <tr>\n      <th>count</th>\n      <td>2.203000e+03</td>\n      <td>2203.000000</td>\n      <td>2203.000000</td>\n      <td>2203.000000</td>\n      <td>2203.000000</td>\n      <td>2203.000000</td>\n      <td>2.203000e+03</td>\n      <td>2203.000000</td>\n      <td>2203.000000</td>\n      <td>2203.000000</td>\n      <td>2203.000000</td>\n    </tr>\n    <tr>\n      <th>mean</th>\n      <td>4.376614e+13</td>\n      <td>881.605556</td>\n      <td>1.891058</td>\n      <td>2.082161</td>\n      <td>3.387199</td>\n      <td>7.190649</td>\n      <td>7.510660e+05</td>\n      <td>599.380390</td>\n      <td>574.097921</td>\n      <td>547.297204</td>\n      <td>521.452964</td>\n    </tr>\n    <tr>\n      <th>std</th>\n      <td>4.862265e+13</td>\n      <td>737.440291</td>\n      <td>1.969321</td>\n      <td>2.105756</td>\n      <td>4.020312</td>\n      <td>13.897084</td>\n      <td>4.202414e+05</td>\n      <td>53.194117</td>\n      <td>59.868058</td>\n      <td>58.971101</td>\n      <td>56.371352</td>\n    </tr>\n    <tr>\n      <th>min</th>\n      <td>1.649611e+08</td>\n      <td>194.000000</td>\n      <td>1.000000</td>\n      <td>1.000000</td>\n      <td>1.000000</td>\n      <td>1.000000</td>\n      <td>4.790000e+02</td>\n      <td>450.000000</td>\n      <td>450.000000</td>\n      <td>450.000000</td>\n      <td>450.000000</td>\n    </tr>\n    <tr>\n      <th>25%</th>\n      <td>6.589496e+11</td>\n      <td>500.000000</td>\n      <td>1.000000</td>\n      <td>1.000000</td>\n      <td>1.000000</td>\n      <td>2.000000</td>\n      <td>6.582050e+05</td>\n      <td>569.520000</td>\n      <td>542.220000</td>\n      <td>507.160000</td>\n      <td>450.000000</td>\n    </tr>\n    <tr>\n      <th>50%</th>\n      <td>1.002328e+13</td>\n      <td>773.830000</td>\n      <td>1.000000</td>\n      <td>1.000000</td>\n      <td>2.000000</td>\n      <td>3.000000</td>\n      <td>6.596950e+05</td>\n      <td>602.040000</td>\n      <td>583.320000</td>\n      <td>555.240000</td>\n      <td>526.540000</td>\n    </tr>\n    <tr>\n      <th>75%</th>\n      <td>1.040060e+14</td>\n      <td>1049.000000</td>\n      <td>2.000000</td>\n      <td>2.000000</td>\n      <td>4.000000</td>\n      <td>6.000000</td>\n      <td>1.054619e+06</td>\n      <td>634.600000</td>\n      <td>614.340000</td>\n      <td>588.160000</td>\n      <td>563.620000</td>\n    </tr>\n    <tr>\n      <th>max</th>\n      <td>2.008254e+14</td>\n      <td>9815.610000</td>\n      <td>34.000000</td>\n      <td>50.000000</td>\n      <td>74.000000</td>\n      <td>179.000000</td>\n      <td>2.008254e+06</td>\n      <td>781.200000</td>\n      <td>792.240000</td>\n      <td>776.360000</td>\n      <td>768.340000</td>\n    </tr>\n  </tbody>\n</table>\n</div>",
       "datasetInfos": [],
       "metadata": {},
       "removedWidgets": [],
       "textData": null,
       "type": "htmlSandbox"
      }
     },
     "output_type": "display_data"
    }
   ],
   "source": [
    "df.describe()"
   ]
  },
  {
   "cell_type": "code",
   "execution_count": 0,
   "metadata": {
    "application/vnd.databricks.v1+cell": {
     "cellMetadata": {
      "byteLimit": 2048000,
      "rowLimit": 10000
     },
     "inputWidgets": {},
     "nuid": "008d6fa2-4e29-4a1a-890d-cd1917ed2358",
     "showTitle": false,
     "tableResultSettingsMap": {},
     "title": ""
    }
   },
   "outputs": [
    {
     "output_type": "display_data",
     "data": {
      "text/html": [
       "<div>\n",
       "<style scoped>\n",
       "    .dataframe tbody tr th:only-of-type {\n",
       "        vertical-align: middle;\n",
       "    }\n",
       "\n",
       "    .dataframe tbody tr th {\n",
       "        vertical-align: top;\n",
       "    }\n",
       "\n",
       "    .dataframe thead th {\n",
       "        text-align: right;\n",
       "    }\n",
       "</style>\n",
       "<table border=\"1\" class=\"dataframe\">\n",
       "  <thead>\n",
       "    <tr style=\"text-align: right;\">\n",
       "      <th></th>\n",
       "      <th>curso_id</th>\n",
       "      <th>mensalidade</th>\n",
       "      <th>bolsa_integral_cotas</th>\n",
       "      <th>bolsa_integral_ampla</th>\n",
       "      <th>bolsa_parcial_cotas</th>\n",
       "      <th>bolsa_parcial_ampla</th>\n",
       "      <th>campus_id</th>\n",
       "      <th>nota_integral_ampla</th>\n",
       "      <th>nota_integral_cotas</th>\n",
       "      <th>nota_parcial_ampla</th>\n",
       "      <th>nota_parcial_cotas</th>\n",
       "    </tr>\n",
       "  </thead>\n",
       "  <tbody>\n",
       "    <tr>\n",
       "      <th>count</th>\n",
       "      <td>1.500000e+01</td>\n",
       "      <td>15.000000</td>\n",
       "      <td>15.000000</td>\n",
       "      <td>15.000000</td>\n",
       "      <td>15.000000</td>\n",
       "      <td>15.000000</td>\n",
       "      <td>1.500000e+01</td>\n",
       "      <td>15.000000</td>\n",
       "      <td>15.000000</td>\n",
       "      <td>15.000000</td>\n",
       "      <td>15.000000</td>\n",
       "    </tr>\n",
       "    <tr>\n",
       "      <th>mean</th>\n",
       "      <td>4.407875e+13</td>\n",
       "      <td>8007.354667</td>\n",
       "      <td>2.800000</td>\n",
       "      <td>2.266667</td>\n",
       "      <td>4.466667</td>\n",
       "      <td>3.866667</td>\n",
       "      <td>7.599417e+05</td>\n",
       "      <td>753.249333</td>\n",
       "      <td>738.438667</td>\n",
       "      <td>746.453333</td>\n",
       "      <td>724.676000</td>\n",
       "    </tr>\n",
       "    <tr>\n",
       "      <th>std</th>\n",
       "      <td>4.349636e+13</td>\n",
       "      <td>1096.173682</td>\n",
       "      <td>1.859339</td>\n",
       "      <td>1.533747</td>\n",
       "      <td>2.587516</td>\n",
       "      <td>2.669047</td>\n",
       "      <td>2.510458e+05</td>\n",
       "      <td>13.109076</td>\n",
       "      <td>16.966989</td>\n",
       "      <td>14.295313</td>\n",
       "      <td>18.302904</td>\n",
       "    </tr>\n",
       "    <tr>\n",
       "      <th>min</th>\n",
       "      <td>1.373807e+11</td>\n",
       "      <td>6113.000000</td>\n",
       "      <td>1.000000</td>\n",
       "      <td>1.000000</td>\n",
       "      <td>1.000000</td>\n",
       "      <td>1.000000</td>\n",
       "      <td>1.373800e+05</td>\n",
       "      <td>735.840000</td>\n",
       "      <td>720.200000</td>\n",
       "      <td>729.720000</td>\n",
       "      <td>690.180000</td>\n",
       "    </tr>\n",
       "    <tr>\n",
       "      <th>25%</th>\n",
       "      <td>6.584619e+11</td>\n",
       "      <td>7130.000000</td>\n",
       "      <td>1.000000</td>\n",
       "      <td>1.000000</td>\n",
       "      <td>1.000000</td>\n",
       "      <td>2.000000</td>\n",
       "      <td>6.583450e+05</td>\n",
       "      <td>741.360000</td>\n",
       "      <td>729.020000</td>\n",
       "      <td>735.760000</td>\n",
       "      <td>715.100000</td>\n",
       "    </tr>\n",
       "    <tr>\n",
       "      <th>50%</th>\n",
       "      <td>6.579365e+13</td>\n",
       "      <td>8295.000000</td>\n",
       "      <td>2.000000</td>\n",
       "      <td>1.000000</td>\n",
       "      <td>5.000000</td>\n",
       "      <td>3.000000</td>\n",
       "      <td>6.600790e+05</td>\n",
       "      <td>754.980000</td>\n",
       "      <td>737.880000</td>\n",
       "      <td>743.140000</td>\n",
       "      <td>721.080000</td>\n",
       "    </tr>\n",
       "    <tr>\n",
       "      <th>75%</th>\n",
       "      <td>7.070341e+13</td>\n",
       "      <td>8608.540000</td>\n",
       "      <td>4.000000</td>\n",
       "      <td>3.000000</td>\n",
       "      <td>6.000000</td>\n",
       "      <td>5.000000</td>\n",
       "      <td>1.041237e+06</td>\n",
       "      <td>762.740000</td>\n",
       "      <td>741.100000</td>\n",
       "      <td>750.440000</td>\n",
       "      <td>732.460000</td>\n",
       "    </tr>\n",
       "    <tr>\n",
       "      <th>max</th>\n",
       "      <td>1.058879e+14</td>\n",
       "      <td>9815.610000</td>\n",
       "      <td>8.000000</td>\n",
       "      <td>5.000000</td>\n",
       "      <td>9.000000</td>\n",
       "      <td>10.000000</td>\n",
       "      <td>1.079920e+06</td>\n",
       "      <td>781.200000</td>\n",
       "      <td>792.240000</td>\n",
       "      <td>776.360000</td>\n",
       "      <td>768.340000</td>\n",
       "    </tr>\n",
       "  </tbody>\n",
       "</table>\n",
       "</div>"
      ]
     },
     "metadata": {
      "application/vnd.databricks.v1+output": {
       "addedWidgets": {},
       "arguments": {},
       "data": "<div>\n<style scoped>\n    .dataframe tbody tr th:only-of-type {\n        vertical-align: middle;\n    }\n\n    .dataframe tbody tr th {\n        vertical-align: top;\n    }\n\n    .dataframe thead th {\n        text-align: right;\n    }\n</style>\n<table border=\"1\" class=\"dataframe\">\n  <thead>\n    <tr style=\"text-align: right;\">\n      <th></th>\n      <th>curso_id</th>\n      <th>mensalidade</th>\n      <th>bolsa_integral_cotas</th>\n      <th>bolsa_integral_ampla</th>\n      <th>bolsa_parcial_cotas</th>\n      <th>bolsa_parcial_ampla</th>\n      <th>campus_id</th>\n      <th>nota_integral_ampla</th>\n      <th>nota_integral_cotas</th>\n      <th>nota_parcial_ampla</th>\n      <th>nota_parcial_cotas</th>\n    </tr>\n  </thead>\n  <tbody>\n    <tr>\n      <th>count</th>\n      <td>1.500000e+01</td>\n      <td>15.000000</td>\n      <td>15.000000</td>\n      <td>15.000000</td>\n      <td>15.000000</td>\n      <td>15.000000</td>\n      <td>1.500000e+01</td>\n      <td>15.000000</td>\n      <td>15.000000</td>\n      <td>15.000000</td>\n      <td>15.000000</td>\n    </tr>\n    <tr>\n      <th>mean</th>\n      <td>4.407875e+13</td>\n      <td>8007.354667</td>\n      <td>2.800000</td>\n      <td>2.266667</td>\n      <td>4.466667</td>\n      <td>3.866667</td>\n      <td>7.599417e+05</td>\n      <td>753.249333</td>\n      <td>738.438667</td>\n      <td>746.453333</td>\n      <td>724.676000</td>\n    </tr>\n    <tr>\n      <th>std</th>\n      <td>4.349636e+13</td>\n      <td>1096.173682</td>\n      <td>1.859339</td>\n      <td>1.533747</td>\n      <td>2.587516</td>\n      <td>2.669047</td>\n      <td>2.510458e+05</td>\n      <td>13.109076</td>\n      <td>16.966989</td>\n      <td>14.295313</td>\n      <td>18.302904</td>\n    </tr>\n    <tr>\n      <th>min</th>\n      <td>1.373807e+11</td>\n      <td>6113.000000</td>\n      <td>1.000000</td>\n      <td>1.000000</td>\n      <td>1.000000</td>\n      <td>1.000000</td>\n      <td>1.373800e+05</td>\n      <td>735.840000</td>\n      <td>720.200000</td>\n      <td>729.720000</td>\n      <td>690.180000</td>\n    </tr>\n    <tr>\n      <th>25%</th>\n      <td>6.584619e+11</td>\n      <td>7130.000000</td>\n      <td>1.000000</td>\n      <td>1.000000</td>\n      <td>1.000000</td>\n      <td>2.000000</td>\n      <td>6.583450e+05</td>\n      <td>741.360000</td>\n      <td>729.020000</td>\n      <td>735.760000</td>\n      <td>715.100000</td>\n    </tr>\n    <tr>\n      <th>50%</th>\n      <td>6.579365e+13</td>\n      <td>8295.000000</td>\n      <td>2.000000</td>\n      <td>1.000000</td>\n      <td>5.000000</td>\n      <td>3.000000</td>\n      <td>6.600790e+05</td>\n      <td>754.980000</td>\n      <td>737.880000</td>\n      <td>743.140000</td>\n      <td>721.080000</td>\n    </tr>\n    <tr>\n      <th>75%</th>\n      <td>7.070341e+13</td>\n      <td>8608.540000</td>\n      <td>4.000000</td>\n      <td>3.000000</td>\n      <td>6.000000</td>\n      <td>5.000000</td>\n      <td>1.041237e+06</td>\n      <td>762.740000</td>\n      <td>741.100000</td>\n      <td>750.440000</td>\n      <td>732.460000</td>\n    </tr>\n    <tr>\n      <th>max</th>\n      <td>1.058879e+14</td>\n      <td>9815.610000</td>\n      <td>8.000000</td>\n      <td>5.000000</td>\n      <td>9.000000</td>\n      <td>10.000000</td>\n      <td>1.079920e+06</td>\n      <td>781.200000</td>\n      <td>792.240000</td>\n      <td>776.360000</td>\n      <td>768.340000</td>\n    </tr>\n  </tbody>\n</table>\n</div>",
       "datasetInfos": [],
       "metadata": {},
       "removedWidgets": [],
       "textData": null,
       "type": "htmlSandbox"
      }
     },
     "output_type": "display_data"
    }
   ],
   "source": [
    "#medicina\n",
    "df_descricao = df[df['nome_curso'] == 'Medicina'].describe()\n",
    "df_descricao"
   ]
  },
  {
   "cell_type": "code",
   "execution_count": 0,
   "metadata": {
    "application/vnd.databricks.v1+cell": {
     "cellMetadata": {
      "byteLimit": 2048000,
      "rowLimit": 10000
     },
     "inputWidgets": {},
     "nuid": "ce499a36-0cf1-4584-b77b-d5e1b4a765c1",
     "showTitle": false,
     "tableResultSettingsMap": {},
     "title": ""
    }
   },
   "outputs": [],
   "source": [
    "df_descricao_bolsa = df_descricao.drop(['mensalidade', 'curso_id','campus_id',\"nota_integral_ampla\", \"nota_integral_cotas\", \"nota_parcial_ampla\", \"nota_parcial_cotas\"], axis = 1)\n",
    "df_descricao_bolsa = df_descricao_bolsa.drop(['count'], axis = 0)"
   ]
  },
  {
   "cell_type": "markdown",
   "metadata": {
    "application/vnd.databricks.v1+cell": {
     "cellMetadata": {
      "byteLimit": 2048000,
      "rowLimit": 10000
     },
     "inputWidgets": {},
     "nuid": "46a018e4-90bb-4198-8019-fdc258d9df9a",
     "showTitle": false,
     "tableResultSettingsMap": {},
     "title": ""
    }
   },
   "source": [
    "A partir dessa tabela, podemos inferir algumas informações sobre as bolsas de estudo oferecidas nos cursos de graduação do conjunto de dados. A média de bolsas integrais concedidas por curso por meio de cotas é de 2.80, enquanto a média de bolsas integrais concedidas por ampla concorrência é de 2.27. Já a média de bolsas parciais concedidas por cotas é de 4.47, enquanto a média de bolsas parciais concedidas por ampla concorrência é de 3.87.\n",
    "\n",
    "Além disso, podemos observar a variação desses números, representados pelo desvio padrão, e verificar que há uma grande variabilidade nas concessões de bolsas pelos cursos. Podemos também observar os valores mínimo e máximo e verificar que o número de bolsas concedidas pode variar de 1 a 8 para bolsas integrais por cotas, de 1 a 5 para bolsas integrais por ampla concorrência, de 1 a 9 para bolsas parciais por cotas e de 1 a 10 para bolsas parciais por ampla concorrência."
   ]
  },
  {
   "cell_type": "code",
   "execution_count": 0,
   "metadata": {
    "application/vnd.databricks.v1+cell": {
     "cellMetadata": {
      "byteLimit": 2048000,
      "rowLimit": 10000
     },
     "inputWidgets": {},
     "nuid": "460aa400-443a-48d3-9230-a64760a366dd",
     "showTitle": false,
     "tableResultSettingsMap": {},
     "title": ""
    }
   },
   "outputs": [
    {
     "output_type": "display_data",
     "data": {
      "text/html": [
       "<style type=\"text/css\">\n",
       "#T_ba142_row0_col0 {\n",
       "  background-color: #d2d2e7;\n",
       "  color: #000000;\n",
       "}\n",
       "#T_ba142_row0_col1, #T_ba142_row1_col1, #T_ba142_row2_col0, #T_ba142_row2_col1, #T_ba142_row2_col2, #T_ba142_row2_col3, #T_ba142_row3_col0, #T_ba142_row3_col1, #T_ba142_row3_col2, #T_ba142_row4_col1, #T_ba142_row5_col1, #T_ba142_row6_col1 {\n",
       "  background-color: #fff7fb;\n",
       "  color: #000000;\n",
       "}\n",
       "#T_ba142_row0_col2, #T_ba142_row1_col3, #T_ba142_row3_col3, #T_ba142_row4_col2, #T_ba142_row5_col2, #T_ba142_row6_col3 {\n",
       "  background-color: #023858;\n",
       "  color: #f1f1f1;\n",
       "}\n",
       "#T_ba142_row0_col3 {\n",
       "  background-color: #0d75b3;\n",
       "  color: #f1f1f1;\n",
       "}\n",
       "#T_ba142_row1_col0 {\n",
       "  background-color: #c4cbe3;\n",
       "  color: #000000;\n",
       "}\n",
       "#T_ba142_row1_col2 {\n",
       "  background-color: #034b76;\n",
       "  color: #f1f1f1;\n",
       "}\n",
       "#T_ba142_row4_col0 {\n",
       "  background-color: #d0d1e6;\n",
       "  color: #000000;\n",
       "}\n",
       "#T_ba142_row4_col3 {\n",
       "  background-color: #73a9cf;\n",
       "  color: #f1f1f1;\n",
       "}\n",
       "#T_ba142_row5_col0 {\n",
       "  background-color: #b4c4df;\n",
       "  color: #000000;\n",
       "}\n",
       "#T_ba142_row5_col3 {\n",
       "  background-color: #2685bb;\n",
       "  color: #f1f1f1;\n",
       "}\n",
       "#T_ba142_row6_col0 {\n",
       "  background-color: #4295c3;\n",
       "  color: #f1f1f1;\n",
       "}\n",
       "#T_ba142_row6_col2 {\n",
       "  background-color: #0567a2;\n",
       "  color: #f1f1f1;\n",
       "}\n",
       "</style>\n",
       "<table id=\"T_ba142\">\n",
       "  <thead>\n",
       "    <tr>\n",
       "      <th class=\"blank level0\" >&nbsp;</th>\n",
       "      <th id=\"T_ba142_level0_col0\" class=\"col_heading level0 col0\" >bolsa_integral_cotas</th>\n",
       "      <th id=\"T_ba142_level0_col1\" class=\"col_heading level0 col1\" >bolsa_integral_ampla</th>\n",
       "      <th id=\"T_ba142_level0_col2\" class=\"col_heading level0 col2\" >bolsa_parcial_cotas</th>\n",
       "      <th id=\"T_ba142_level0_col3\" class=\"col_heading level0 col3\" >bolsa_parcial_ampla</th>\n",
       "    </tr>\n",
       "  </thead>\n",
       "  <tbody>\n",
       "    <tr>\n",
       "      <th id=\"T_ba142_level0_row0\" class=\"row_heading level0 row0\" >mean</th>\n",
       "      <td id=\"T_ba142_row0_col0\" class=\"data row0 col0\" >2.80</td>\n",
       "      <td id=\"T_ba142_row0_col1\" class=\"data row0 col1\" >2.27</td>\n",
       "      <td id=\"T_ba142_row0_col2\" class=\"data row0 col2\" >4.47</td>\n",
       "      <td id=\"T_ba142_row0_col3\" class=\"data row0 col3\" >3.87</td>\n",
       "    </tr>\n",
       "    <tr>\n",
       "      <th id=\"T_ba142_level0_row1\" class=\"row_heading level0 row1\" >std</th>\n",
       "      <td id=\"T_ba142_row1_col0\" class=\"data row1 col0\" >1.86</td>\n",
       "      <td id=\"T_ba142_row1_col1\" class=\"data row1 col1\" >1.53</td>\n",
       "      <td id=\"T_ba142_row1_col2\" class=\"data row1 col2\" >2.59</td>\n",
       "      <td id=\"T_ba142_row1_col3\" class=\"data row1 col3\" >2.67</td>\n",
       "    </tr>\n",
       "    <tr>\n",
       "      <th id=\"T_ba142_level0_row2\" class=\"row_heading level0 row2\" >min</th>\n",
       "      <td id=\"T_ba142_row2_col0\" class=\"data row2 col0\" >1.00</td>\n",
       "      <td id=\"T_ba142_row2_col1\" class=\"data row2 col1\" >1.00</td>\n",
       "      <td id=\"T_ba142_row2_col2\" class=\"data row2 col2\" >1.00</td>\n",
       "      <td id=\"T_ba142_row2_col3\" class=\"data row2 col3\" >1.00</td>\n",
       "    </tr>\n",
       "    <tr>\n",
       "      <th id=\"T_ba142_level0_row3\" class=\"row_heading level0 row3\" >25%</th>\n",
       "      <td id=\"T_ba142_row3_col0\" class=\"data row3 col0\" >1.00</td>\n",
       "      <td id=\"T_ba142_row3_col1\" class=\"data row3 col1\" >1.00</td>\n",
       "      <td id=\"T_ba142_row3_col2\" class=\"data row3 col2\" >1.00</td>\n",
       "      <td id=\"T_ba142_row3_col3\" class=\"data row3 col3\" >2.00</td>\n",
       "    </tr>\n",
       "    <tr>\n",
       "      <th id=\"T_ba142_level0_row4\" class=\"row_heading level0 row4\" >50%</th>\n",
       "      <td id=\"T_ba142_row4_col0\" class=\"data row4 col0\" >2.00</td>\n",
       "      <td id=\"T_ba142_row4_col1\" class=\"data row4 col1\" >1.00</td>\n",
       "      <td id=\"T_ba142_row4_col2\" class=\"data row4 col2\" >5.00</td>\n",
       "      <td id=\"T_ba142_row4_col3\" class=\"data row4 col3\" >3.00</td>\n",
       "    </tr>\n",
       "    <tr>\n",
       "      <th id=\"T_ba142_level0_row5\" class=\"row_heading level0 row5\" >75%</th>\n",
       "      <td id=\"T_ba142_row5_col0\" class=\"data row5 col0\" >4.00</td>\n",
       "      <td id=\"T_ba142_row5_col1\" class=\"data row5 col1\" >3.00</td>\n",
       "      <td id=\"T_ba142_row5_col2\" class=\"data row5 col2\" >6.00</td>\n",
       "      <td id=\"T_ba142_row5_col3\" class=\"data row5 col3\" >5.00</td>\n",
       "    </tr>\n",
       "    <tr>\n",
       "      <th id=\"T_ba142_level0_row6\" class=\"row_heading level0 row6\" >max</th>\n",
       "      <td id=\"T_ba142_row6_col0\" class=\"data row6 col0\" >8.00</td>\n",
       "      <td id=\"T_ba142_row6_col1\" class=\"data row6 col1\" >5.00</td>\n",
       "      <td id=\"T_ba142_row6_col2\" class=\"data row6 col2\" >9.00</td>\n",
       "      <td id=\"T_ba142_row6_col3\" class=\"data row6 col3\" >10.00</td>\n",
       "    </tr>\n",
       "  </tbody>\n",
       "</table>\n"
      ]
     },
     "metadata": {
      "application/vnd.databricks.v1+output": {
       "addedWidgets": {},
       "arguments": {},
       "data": "<style type=\"text/css\">\n#T_ba142_row0_col0 {\n  background-color: #d2d2e7;\n  color: #000000;\n}\n#T_ba142_row0_col1, #T_ba142_row1_col1, #T_ba142_row2_col0, #T_ba142_row2_col1, #T_ba142_row2_col2, #T_ba142_row2_col3, #T_ba142_row3_col0, #T_ba142_row3_col1, #T_ba142_row3_col2, #T_ba142_row4_col1, #T_ba142_row5_col1, #T_ba142_row6_col1 {\n  background-color: #fff7fb;\n  color: #000000;\n}\n#T_ba142_row0_col2, #T_ba142_row1_col3, #T_ba142_row3_col3, #T_ba142_row4_col2, #T_ba142_row5_col2, #T_ba142_row6_col3 {\n  background-color: #023858;\n  color: #f1f1f1;\n}\n#T_ba142_row0_col3 {\n  background-color: #0d75b3;\n  color: #f1f1f1;\n}\n#T_ba142_row1_col0 {\n  background-color: #c4cbe3;\n  color: #000000;\n}\n#T_ba142_row1_col2 {\n  background-color: #034b76;\n  color: #f1f1f1;\n}\n#T_ba142_row4_col0 {\n  background-color: #d0d1e6;\n  color: #000000;\n}\n#T_ba142_row4_col3 {\n  background-color: #73a9cf;\n  color: #f1f1f1;\n}\n#T_ba142_row5_col0 {\n  background-color: #b4c4df;\n  color: #000000;\n}\n#T_ba142_row5_col3 {\n  background-color: #2685bb;\n  color: #f1f1f1;\n}\n#T_ba142_row6_col0 {\n  background-color: #4295c3;\n  color: #f1f1f1;\n}\n#T_ba142_row6_col2 {\n  background-color: #0567a2;\n  color: #f1f1f1;\n}\n</style>\n<table id=\"T_ba142\">\n  <thead>\n    <tr>\n      <th class=\"blank level0\" >&nbsp;</th>\n      <th id=\"T_ba142_level0_col0\" class=\"col_heading level0 col0\" >bolsa_integral_cotas</th>\n      <th id=\"T_ba142_level0_col1\" class=\"col_heading level0 col1\" >bolsa_integral_ampla</th>\n      <th id=\"T_ba142_level0_col2\" class=\"col_heading level0 col2\" >bolsa_parcial_cotas</th>\n      <th id=\"T_ba142_level0_col3\" class=\"col_heading level0 col3\" >bolsa_parcial_ampla</th>\n    </tr>\n  </thead>\n  <tbody>\n    <tr>\n      <th id=\"T_ba142_level0_row0\" class=\"row_heading level0 row0\" >mean</th>\n      <td id=\"T_ba142_row0_col0\" class=\"data row0 col0\" >2.80</td>\n      <td id=\"T_ba142_row0_col1\" class=\"data row0 col1\" >2.27</td>\n      <td id=\"T_ba142_row0_col2\" class=\"data row0 col2\" >4.47</td>\n      <td id=\"T_ba142_row0_col3\" class=\"data row0 col3\" >3.87</td>\n    </tr>\n    <tr>\n      <th id=\"T_ba142_level0_row1\" class=\"row_heading level0 row1\" >std</th>\n      <td id=\"T_ba142_row1_col0\" class=\"data row1 col0\" >1.86</td>\n      <td id=\"T_ba142_row1_col1\" class=\"data row1 col1\" >1.53</td>\n      <td id=\"T_ba142_row1_col2\" class=\"data row1 col2\" >2.59</td>\n      <td id=\"T_ba142_row1_col3\" class=\"data row1 col3\" >2.67</td>\n    </tr>\n    <tr>\n      <th id=\"T_ba142_level0_row2\" class=\"row_heading level0 row2\" >min</th>\n      <td id=\"T_ba142_row2_col0\" class=\"data row2 col0\" >1.00</td>\n      <td id=\"T_ba142_row2_col1\" class=\"data row2 col1\" >1.00</td>\n      <td id=\"T_ba142_row2_col2\" class=\"data row2 col2\" >1.00</td>\n      <td id=\"T_ba142_row2_col3\" class=\"data row2 col3\" >1.00</td>\n    </tr>\n    <tr>\n      <th id=\"T_ba142_level0_row3\" class=\"row_heading level0 row3\" >25%</th>\n      <td id=\"T_ba142_row3_col0\" class=\"data row3 col0\" >1.00</td>\n      <td id=\"T_ba142_row3_col1\" class=\"data row3 col1\" >1.00</td>\n      <td id=\"T_ba142_row3_col2\" class=\"data row3 col2\" >1.00</td>\n      <td id=\"T_ba142_row3_col3\" class=\"data row3 col3\" >2.00</td>\n    </tr>\n    <tr>\n      <th id=\"T_ba142_level0_row4\" class=\"row_heading level0 row4\" >50%</th>\n      <td id=\"T_ba142_row4_col0\" class=\"data row4 col0\" >2.00</td>\n      <td id=\"T_ba142_row4_col1\" class=\"data row4 col1\" >1.00</td>\n      <td id=\"T_ba142_row4_col2\" class=\"data row4 col2\" >5.00</td>\n      <td id=\"T_ba142_row4_col3\" class=\"data row4 col3\" >3.00</td>\n    </tr>\n    <tr>\n      <th id=\"T_ba142_level0_row5\" class=\"row_heading level0 row5\" >75%</th>\n      <td id=\"T_ba142_row5_col0\" class=\"data row5 col0\" >4.00</td>\n      <td id=\"T_ba142_row5_col1\" class=\"data row5 col1\" >3.00</td>\n      <td id=\"T_ba142_row5_col2\" class=\"data row5 col2\" >6.00</td>\n      <td id=\"T_ba142_row5_col3\" class=\"data row5 col3\" >5.00</td>\n    </tr>\n    <tr>\n      <th id=\"T_ba142_level0_row6\" class=\"row_heading level0 row6\" >max</th>\n      <td id=\"T_ba142_row6_col0\" class=\"data row6 col0\" >8.00</td>\n      <td id=\"T_ba142_row6_col1\" class=\"data row6 col1\" >5.00</td>\n      <td id=\"T_ba142_row6_col2\" class=\"data row6 col2\" >9.00</td>\n      <td id=\"T_ba142_row6_col3\" class=\"data row6 col3\" >10.00</td>\n    </tr>\n  </tbody>\n</table>\n",
       "datasetInfos": [],
       "metadata": {},
       "removedWidgets": [],
       "textData": null,
       "type": "htmlSandbox"
      }
     },
     "output_type": "display_data"
    }
   ],
   "source": [
    "# Será que na Pandas dentro do PySpark também tem a opção de estilizar a informação?\n",
    "df_descricao_bolsa.style.format('{:,.2f}').background_gradient(axis = 1)"
   ]
  },
  {
   "cell_type": "markdown",
   "metadata": {
    "application/vnd.databricks.v1+cell": {
     "cellMetadata": {
      "byteLimit": 2048000,
      "rowLimit": 10000
     },
     "inputWidgets": {},
     "nuid": "c932e3ae-fe96-46d4-a2c1-1a1b0e05f7c3",
     "showTitle": false,
     "tableResultSettingsMap": {},
     "title": ""
    }
   },
   "source": [
    "### Qual é a média da mensalidade dos cursos de medicina por estado?"
   ]
  },
  {
   "cell_type": "code",
   "execution_count": 0,
   "metadata": {
    "application/vnd.databricks.v1+cell": {
     "cellMetadata": {
      "byteLimit": 2048000,
      "rowLimit": 10000
     },
     "inputWidgets": {},
     "nuid": "1cb49886-55fe-4dc7-a0b0-f2a08dacee6f",
     "showTitle": false,
     "tableResultSettingsMap": {},
     "title": ""
    }
   },
   "outputs": [
    {
     "output_type": "display_data",
     "data": {
      "text/html": [
       "<div>\n",
       "<style scoped>\n",
       "    .dataframe tbody tr th:only-of-type {\n",
       "        vertical-align: middle;\n",
       "    }\n",
       "\n",
       "    .dataframe tbody tr th {\n",
       "        vertical-align: top;\n",
       "    }\n",
       "\n",
       "    .dataframe thead th {\n",
       "        text-align: right;\n",
       "    }\n",
       "</style>\n",
       "<table border=\"1\" class=\"dataframe\">\n",
       "  <thead>\n",
       "    <tr style=\"text-align: right;\">\n",
       "      <th></th>\n",
       "      <th>curso_id</th>\n",
       "      <th>grau</th>\n",
       "      <th>turno</th>\n",
       "      <th>mensalidade</th>\n",
       "      <th>bolsa_integral_cotas</th>\n",
       "      <th>bolsa_integral_ampla</th>\n",
       "      <th>bolsa_parcial_cotas</th>\n",
       "      <th>bolsa_parcial_ampla</th>\n",
       "      <th>cidade_busca</th>\n",
       "      <th>uf_busca</th>\n",
       "      <th>cidade_filtro</th>\n",
       "      <th>universidade_nome</th>\n",
       "      <th>campus_nome</th>\n",
       "      <th>campus_id</th>\n",
       "      <th>nome_curso</th>\n",
       "      <th>nota_integral_ampla</th>\n",
       "      <th>nota_integral_cotas</th>\n",
       "      <th>nota_parcial_ampla</th>\n",
       "      <th>nota_parcial_cotas</th>\n",
       "    </tr>\n",
       "  </thead>\n",
       "  <tbody>\n",
       "    <tr>\n",
       "      <th>22</th>\n",
       "      <td>105596711902804</td>\n",
       "      <td>Bacharelado</td>\n",
       "      <td>Integral</td>\n",
       "      <td>8300.00</td>\n",
       "      <td>2</td>\n",
       "      <td>3</td>\n",
       "      <td>4</td>\n",
       "      <td>7</td>\n",
       "      <td>Sao Paulo</td>\n",
       "      <td>SP</td>\n",
       "      <td>MzUxNTA2MTUwMzA4</td>\n",
       "      <td>Faculdade das Américas - FAM</td>\n",
       "      <td>RUA AUGUSTA - Consolação</td>\n",
       "      <td>1055967</td>\n",
       "      <td>Medicina</td>\n",
       "      <td>735.84</td>\n",
       "      <td>724.70</td>\n",
       "      <td>738.42</td>\n",
       "      <td>723.28</td>\n",
       "    </tr>\n",
       "    <tr>\n",
       "      <th>71</th>\n",
       "      <td>65793650009334</td>\n",
       "      <td>Bacharelado</td>\n",
       "      <td>Integral</td>\n",
       "      <td>7316.79</td>\n",
       "      <td>2</td>\n",
       "      <td>3</td>\n",
       "      <td>4</td>\n",
       "      <td>8</td>\n",
       "      <td>Franca</td>\n",
       "      <td>SP</td>\n",
       "      <td>MzUwMjAxMjE2MjAw</td>\n",
       "      <td>Universidade de Franca - UNIFRAN</td>\n",
       "      <td>POLO NA SEDE - Parque Universitário</td>\n",
       "      <td>657936</td>\n",
       "      <td>Medicina</td>\n",
       "      <td>744.88</td>\n",
       "      <td>730.88</td>\n",
       "      <td>741.36</td>\n",
       "      <td>721.08</td>\n",
       "    </tr>\n",
       "    <tr>\n",
       "      <th>87</th>\n",
       "      <td>658461856524</td>\n",
       "      <td>Bacharelado</td>\n",
       "      <td>Integral</td>\n",
       "      <td>7009.97</td>\n",
       "      <td>4</td>\n",
       "      <td>3</td>\n",
       "      <td>9</td>\n",
       "      <td>5</td>\n",
       "      <td>Porto Velho</td>\n",
       "      <td>RO</td>\n",
       "      <td>MTEwMTAwMTAwMjA1</td>\n",
       "      <td>Centro Universitário São Lucas - UniSL</td>\n",
       "      <td>CAMPUS  - PORTO VELHO - AREAL - Areal</td>\n",
       "      <td>658461</td>\n",
       "      <td>Medicina</td>\n",
       "      <td>742.72</td>\n",
       "      <td>720.20</td>\n",
       "      <td>729.72</td>\n",
       "      <td>711.68</td>\n",
       "    </tr>\n",
       "    <tr>\n",
       "      <th>107</th>\n",
       "      <td>66007913994844</td>\n",
       "      <td>Bacharelado</td>\n",
       "      <td>Integral</td>\n",
       "      <td>6498.55</td>\n",
       "      <td>1</td>\n",
       "      <td>1</td>\n",
       "      <td>1</td>\n",
       "      <td>4</td>\n",
       "      <td>Guarapuava</td>\n",
       "      <td>PR</td>\n",
       "      <td>NDEwODAyOTA5NDAx</td>\n",
       "      <td>Faculdade Campo Real - CAMPO REAL</td>\n",
       "      <td>BLOCO 1 - Santa Cruz</td>\n",
       "      <td>660079</td>\n",
       "      <td>Medicina</td>\n",
       "      <td>781.20</td>\n",
       "      <td>731.04</td>\n",
       "      <td>745.06</td>\n",
       "      <td>741.00</td>\n",
       "    </tr>\n",
       "    <tr>\n",
       "      <th>10</th>\n",
       "      <td>65921511844324</td>\n",
       "      <td>Bacharelado</td>\n",
       "      <td>Integral</td>\n",
       "      <td>9123.07</td>\n",
       "      <td>4</td>\n",
       "      <td>4</td>\n",
       "      <td>5</td>\n",
       "      <td>5</td>\n",
       "      <td>Itaperuna</td>\n",
       "      <td>RJ</td>\n",
       "      <td>MzMwMTAwMTAyMjA1</td>\n",
       "      <td>Faculdade Redentor - FACREDENTOR</td>\n",
       "      <td>CAMPUS  - ITAPERUNA - PRESIDENTE COSTA E SILVA...</td>\n",
       "      <td>659215</td>\n",
       "      <td>Medicina</td>\n",
       "      <td>741.06</td>\n",
       "      <td>729.02</td>\n",
       "      <td>730.98</td>\n",
       "      <td>722.82</td>\n",
       "    </tr>\n",
       "  </tbody>\n",
       "</table>\n",
       "</div>"
      ]
     },
     "metadata": {
      "application/vnd.databricks.v1+output": {
       "addedWidgets": {},
       "arguments": {},
       "data": "<div>\n<style scoped>\n    .dataframe tbody tr th:only-of-type {\n        vertical-align: middle;\n    }\n\n    .dataframe tbody tr th {\n        vertical-align: top;\n    }\n\n    .dataframe thead th {\n        text-align: right;\n    }\n</style>\n<table border=\"1\" class=\"dataframe\">\n  <thead>\n    <tr style=\"text-align: right;\">\n      <th></th>\n      <th>curso_id</th>\n      <th>grau</th>\n      <th>turno</th>\n      <th>mensalidade</th>\n      <th>bolsa_integral_cotas</th>\n      <th>bolsa_integral_ampla</th>\n      <th>bolsa_parcial_cotas</th>\n      <th>bolsa_parcial_ampla</th>\n      <th>cidade_busca</th>\n      <th>uf_busca</th>\n      <th>cidade_filtro</th>\n      <th>universidade_nome</th>\n      <th>campus_nome</th>\n      <th>campus_id</th>\n      <th>nome_curso</th>\n      <th>nota_integral_ampla</th>\n      <th>nota_integral_cotas</th>\n      <th>nota_parcial_ampla</th>\n      <th>nota_parcial_cotas</th>\n    </tr>\n  </thead>\n  <tbody>\n    <tr>\n      <th>22</th>\n      <td>105596711902804</td>\n      <td>Bacharelado</td>\n      <td>Integral</td>\n      <td>8300.00</td>\n      <td>2</td>\n      <td>3</td>\n      <td>4</td>\n      <td>7</td>\n      <td>Sao Paulo</td>\n      <td>SP</td>\n      <td>MzUxNTA2MTUwMzA4</td>\n      <td>Faculdade das Américas - FAM</td>\n      <td>RUA AUGUSTA - Consolação</td>\n      <td>1055967</td>\n      <td>Medicina</td>\n      <td>735.84</td>\n      <td>724.70</td>\n      <td>738.42</td>\n      <td>723.28</td>\n    </tr>\n    <tr>\n      <th>71</th>\n      <td>65793650009334</td>\n      <td>Bacharelado</td>\n      <td>Integral</td>\n      <td>7316.79</td>\n      <td>2</td>\n      <td>3</td>\n      <td>4</td>\n      <td>8</td>\n      <td>Franca</td>\n      <td>SP</td>\n      <td>MzUwMjAxMjE2MjAw</td>\n      <td>Universidade de Franca - UNIFRAN</td>\n      <td>POLO NA SEDE - Parque Universitário</td>\n      <td>657936</td>\n      <td>Medicina</td>\n      <td>744.88</td>\n      <td>730.88</td>\n      <td>741.36</td>\n      <td>721.08</td>\n    </tr>\n    <tr>\n      <th>87</th>\n      <td>658461856524</td>\n      <td>Bacharelado</td>\n      <td>Integral</td>\n      <td>7009.97</td>\n      <td>4</td>\n      <td>3</td>\n      <td>9</td>\n      <td>5</td>\n      <td>Porto Velho</td>\n      <td>RO</td>\n      <td>MTEwMTAwMTAwMjA1</td>\n      <td>Centro Universitário São Lucas - UniSL</td>\n      <td>CAMPUS  - PORTO VELHO - AREAL - Areal</td>\n      <td>658461</td>\n      <td>Medicina</td>\n      <td>742.72</td>\n      <td>720.20</td>\n      <td>729.72</td>\n      <td>711.68</td>\n    </tr>\n    <tr>\n      <th>107</th>\n      <td>66007913994844</td>\n      <td>Bacharelado</td>\n      <td>Integral</td>\n      <td>6498.55</td>\n      <td>1</td>\n      <td>1</td>\n      <td>1</td>\n      <td>4</td>\n      <td>Guarapuava</td>\n      <td>PR</td>\n      <td>NDEwODAyOTA5NDAx</td>\n      <td>Faculdade Campo Real - CAMPO REAL</td>\n      <td>BLOCO 1 - Santa Cruz</td>\n      <td>660079</td>\n      <td>Medicina</td>\n      <td>781.20</td>\n      <td>731.04</td>\n      <td>745.06</td>\n      <td>741.00</td>\n    </tr>\n    <tr>\n      <th>10</th>\n      <td>65921511844324</td>\n      <td>Bacharelado</td>\n      <td>Integral</td>\n      <td>9123.07</td>\n      <td>4</td>\n      <td>4</td>\n      <td>5</td>\n      <td>5</td>\n      <td>Itaperuna</td>\n      <td>RJ</td>\n      <td>MzMwMTAwMTAyMjA1</td>\n      <td>Faculdade Redentor - FACREDENTOR</td>\n      <td>CAMPUS  - ITAPERUNA - PRESIDENTE COSTA E SILVA...</td>\n      <td>659215</td>\n      <td>Medicina</td>\n      <td>741.06</td>\n      <td>729.02</td>\n      <td>730.98</td>\n      <td>722.82</td>\n    </tr>\n  </tbody>\n</table>\n</div>",
       "datasetInfos": [],
       "metadata": {},
       "removedWidgets": [],
       "textData": null,
       "type": "htmlSandbox"
      }
     },
     "output_type": "display_data"
    }
   ],
   "source": [
    "# Média de mensalidades\n",
    "df_medicina = df.query(\"nome_curso == 'Medicina'\")\n",
    "df_medicina.head()"
   ]
  },
  {
   "cell_type": "code",
   "execution_count": 0,
   "metadata": {
    "application/vnd.databricks.v1+cell": {
     "cellMetadata": {
      "byteLimit": 2048000,
      "rowLimit": 10000
     },
     "inputWidgets": {},
     "nuid": "6d7a3388-0ab8-423e-9d6a-8a46943a499d",
     "showTitle": false,
     "tableResultSettingsMap": {},
     "title": ""
    }
   },
   "outputs": [
    {
     "output_type": "stream",
     "name": "stdout",
     "output_type": "stream",
     "text": [
      "Out[30]: 8007.354666666666"
     ]
    }
   ],
   "source": [
    "df_medicina['mensalidade'].mean()"
   ]
  },
  {
   "cell_type": "code",
   "execution_count": 0,
   "metadata": {
    "application/vnd.databricks.v1+cell": {
     "cellMetadata": {
      "byteLimit": 2048000,
      "rowLimit": 10000
     },
     "inputWidgets": {},
     "nuid": "1c1c6cac-c8c9-4194-846e-a7e7fbaf90b3",
     "showTitle": false,
     "tableResultSettingsMap": {},
     "title": ""
    }
   },
   "outputs": [
    {
     "output_type": "display_data",
     "data": {
      "text/html": [
       "<div>\n",
       "<style scoped>\n",
       "    .dataframe tbody tr th:only-of-type {\n",
       "        vertical-align: middle;\n",
       "    }\n",
       "\n",
       "    .dataframe tbody tr th {\n",
       "        vertical-align: top;\n",
       "    }\n",
       "\n",
       "    .dataframe thead th {\n",
       "        text-align: right;\n",
       "    }\n",
       "</style>\n",
       "<table border=\"1\" class=\"dataframe\">\n",
       "  <thead>\n",
       "    <tr style=\"text-align: right;\">\n",
       "      <th></th>\n",
       "      <th>curso_id</th>\n",
       "      <th>grau</th>\n",
       "      <th>turno</th>\n",
       "      <th>mensalidade</th>\n",
       "      <th>bolsa_integral_cotas</th>\n",
       "      <th>bolsa_integral_ampla</th>\n",
       "      <th>bolsa_parcial_cotas</th>\n",
       "      <th>bolsa_parcial_ampla</th>\n",
       "      <th>cidade_busca</th>\n",
       "      <th>uf_busca</th>\n",
       "      <th>cidade_filtro</th>\n",
       "      <th>universidade_nome</th>\n",
       "      <th>campus_nome</th>\n",
       "      <th>campus_id</th>\n",
       "      <th>nome_curso</th>\n",
       "      <th>nota_integral_ampla</th>\n",
       "      <th>nota_integral_cotas</th>\n",
       "      <th>nota_parcial_ampla</th>\n",
       "      <th>nota_parcial_cotas</th>\n",
       "    </tr>\n",
       "  </thead>\n",
       "  <tbody>\n",
       "    <tr>\n",
       "      <th>2</th>\n",
       "      <td>1002328574024</td>\n",
       "      <td>Bacharelado</td>\n",
       "      <td>Integral</td>\n",
       "      <td>9815.61</td>\n",
       "      <td>2</td>\n",
       "      <td>5</td>\n",
       "      <td>6</td>\n",
       "      <td>10</td>\n",
       "      <td>Sao Paulo</td>\n",
       "      <td>SP</td>\n",
       "      <td>MzUxNTA2MTUwMzA4</td>\n",
       "      <td>Universidade Cidade de São Paulo - UNICID</td>\n",
       "      <td>UNIVERSIDADE CIDADE DE SÃO PAULO - UNICID - SE...</td>\n",
       "      <td>1002328</td>\n",
       "      <td>Medicina</td>\n",
       "      <td>739.62</td>\n",
       "      <td>738.08</td>\n",
       "      <td>738.96</td>\n",
       "      <td>718.64</td>\n",
       "    </tr>\n",
       "    <tr>\n",
       "      <th>22</th>\n",
       "      <td>105596711902804</td>\n",
       "      <td>Bacharelado</td>\n",
       "      <td>Integral</td>\n",
       "      <td>8300.00</td>\n",
       "      <td>2</td>\n",
       "      <td>3</td>\n",
       "      <td>4</td>\n",
       "      <td>7</td>\n",
       "      <td>Sao Paulo</td>\n",
       "      <td>SP</td>\n",
       "      <td>MzUxNTA2MTUwMzA4</td>\n",
       "      <td>Faculdade das Américas - FAM</td>\n",
       "      <td>RUA AUGUSTA - Consolação</td>\n",
       "      <td>1055967</td>\n",
       "      <td>Medicina</td>\n",
       "      <td>735.84</td>\n",
       "      <td>724.70</td>\n",
       "      <td>738.42</td>\n",
       "      <td>723.28</td>\n",
       "    </tr>\n",
       "  </tbody>\n",
       "</table>\n",
       "</div>"
      ]
     },
     "metadata": {
      "application/vnd.databricks.v1+output": {
       "addedWidgets": {},
       "arguments": {},
       "data": "<div>\n<style scoped>\n    .dataframe tbody tr th:only-of-type {\n        vertical-align: middle;\n    }\n\n    .dataframe tbody tr th {\n        vertical-align: top;\n    }\n\n    .dataframe thead th {\n        text-align: right;\n    }\n</style>\n<table border=\"1\" class=\"dataframe\">\n  <thead>\n    <tr style=\"text-align: right;\">\n      <th></th>\n      <th>curso_id</th>\n      <th>grau</th>\n      <th>turno</th>\n      <th>mensalidade</th>\n      <th>bolsa_integral_cotas</th>\n      <th>bolsa_integral_ampla</th>\n      <th>bolsa_parcial_cotas</th>\n      <th>bolsa_parcial_ampla</th>\n      <th>cidade_busca</th>\n      <th>uf_busca</th>\n      <th>cidade_filtro</th>\n      <th>universidade_nome</th>\n      <th>campus_nome</th>\n      <th>campus_id</th>\n      <th>nome_curso</th>\n      <th>nota_integral_ampla</th>\n      <th>nota_integral_cotas</th>\n      <th>nota_parcial_ampla</th>\n      <th>nota_parcial_cotas</th>\n    </tr>\n  </thead>\n  <tbody>\n    <tr>\n      <th>2</th>\n      <td>1002328574024</td>\n      <td>Bacharelado</td>\n      <td>Integral</td>\n      <td>9815.61</td>\n      <td>2</td>\n      <td>5</td>\n      <td>6</td>\n      <td>10</td>\n      <td>Sao Paulo</td>\n      <td>SP</td>\n      <td>MzUxNTA2MTUwMzA4</td>\n      <td>Universidade Cidade de São Paulo - UNICID</td>\n      <td>UNIVERSIDADE CIDADE DE SÃO PAULO - UNICID - SE...</td>\n      <td>1002328</td>\n      <td>Medicina</td>\n      <td>739.62</td>\n      <td>738.08</td>\n      <td>738.96</td>\n      <td>718.64</td>\n    </tr>\n    <tr>\n      <th>22</th>\n      <td>105596711902804</td>\n      <td>Bacharelado</td>\n      <td>Integral</td>\n      <td>8300.00</td>\n      <td>2</td>\n      <td>3</td>\n      <td>4</td>\n      <td>7</td>\n      <td>Sao Paulo</td>\n      <td>SP</td>\n      <td>MzUxNTA2MTUwMzA4</td>\n      <td>Faculdade das Américas - FAM</td>\n      <td>RUA AUGUSTA - Consolação</td>\n      <td>1055967</td>\n      <td>Medicina</td>\n      <td>735.84</td>\n      <td>724.70</td>\n      <td>738.42</td>\n      <td>723.28</td>\n    </tr>\n  </tbody>\n</table>\n</div>",
       "datasetInfos": [],
       "metadata": {},
       "removedWidgets": [],
       "textData": null,
       "type": "htmlSandbox"
      }
     },
     "output_type": "display_data"
    }
   ],
   "source": [
    "# Mensalidade por cidade\n",
    "df_medicina.query(\"turno == 'Integral' AND  cidade_busca == 'Sao Paulo'\")"
   ]
  },
  {
   "cell_type": "code",
   "execution_count": 0,
   "metadata": {
    "application/vnd.databricks.v1+cell": {
     "cellMetadata": {
      "byteLimit": 2048000,
      "rowLimit": 10000
     },
     "inputWidgets": {},
     "nuid": "496d56de-64f6-4cb7-b356-2c1807d41026",
     "showTitle": false,
     "tableResultSettingsMap": {},
     "title": ""
    }
   },
   "outputs": [],
   "source": [
    "# Mensalidade por estado\n",
    "agrupado = df_medicina.query(\"turno == 'Integral' OR turno == 'Matutino'\").groupby('uf_busca')['mensalidade'].mean()"
   ]
  },
  {
   "cell_type": "code",
   "execution_count": 0,
   "metadata": {
    "application/vnd.databricks.v1+cell": {
     "cellMetadata": {
      "byteLimit": 2048000,
      "rowLimit": 10000
     },
     "inputWidgets": {},
     "nuid": "0022157e-79bb-4978-a190-1310ca4f23fe",
     "showTitle": false,
     "tableResultSettingsMap": {},
     "title": ""
    }
   },
   "outputs": [],
   "source": [
    "df_agrupado = ps.DataFrame(agrupado)"
   ]
  },
  {
   "cell_type": "code",
   "execution_count": 0,
   "metadata": {
    "application/vnd.databricks.v1+cell": {
     "cellMetadata": {
      "byteLimit": 2048000,
      "rowLimit": 10000
     },
     "inputWidgets": {},
     "nuid": "0c0ad39f-87a5-4293-b35b-acf7ca9e04a6",
     "showTitle": false,
     "tableResultSettingsMap": {},
     "title": ""
    }
   },
   "outputs": [
    {
     "output_type": "display_data",
     "data": {
      "text/html": [
       "<div>\n",
       "<style scoped>\n",
       "    .dataframe tbody tr th:only-of-type {\n",
       "        vertical-align: middle;\n",
       "    }\n",
       "\n",
       "    .dataframe tbody tr th {\n",
       "        vertical-align: top;\n",
       "    }\n",
       "\n",
       "    .dataframe thead th {\n",
       "        text-align: right;\n",
       "    }\n",
       "</style>\n",
       "<table border=\"1\" class=\"dataframe\">\n",
       "  <thead>\n",
       "    <tr style=\"text-align: right;\">\n",
       "      <th></th>\n",
       "      <th>mensalidade</th>\n",
       "    </tr>\n",
       "    <tr>\n",
       "      <th>uf_busca</th>\n",
       "      <th></th>\n",
       "    </tr>\n",
       "  </thead>\n",
       "  <tbody>\n",
       "    <tr>\n",
       "      <th>RO</th>\n",
       "      <td>7009.970000</td>\n",
       "    </tr>\n",
       "    <tr>\n",
       "      <th>SP</th>\n",
       "      <td>8477.466667</td>\n",
       "    </tr>\n",
       "    <tr>\n",
       "      <th>ES</th>\n",
       "      <td>6113.000000</td>\n",
       "    </tr>\n",
       "    <tr>\n",
       "      <th>PB</th>\n",
       "      <td>7512.700000</td>\n",
       "    </tr>\n",
       "    <tr>\n",
       "      <th>MG</th>\n",
       "      <td>7712.500000</td>\n",
       "    </tr>\n",
       "    <tr>\n",
       "      <th>PA</th>\n",
       "      <td>8608.540000</td>\n",
       "    </tr>\n",
       "    <tr>\n",
       "      <th>RJ</th>\n",
       "      <td>9123.070000</td>\n",
       "    </tr>\n",
       "    <tr>\n",
       "      <th>MA</th>\n",
       "      <td>8381.375000</td>\n",
       "    </tr>\n",
       "    <tr>\n",
       "      <th>AC</th>\n",
       "      <td>9774.340000</td>\n",
       "    </tr>\n",
       "    <tr>\n",
       "      <th>PR</th>\n",
       "      <td>7174.275000</td>\n",
       "    </tr>\n",
       "  </tbody>\n",
       "</table>\n",
       "</div>"
      ]
     },
     "metadata": {
      "application/vnd.databricks.v1+output": {
       "addedWidgets": {},
       "arguments": {},
       "data": "<div>\n<style scoped>\n    .dataframe tbody tr th:only-of-type {\n        vertical-align: middle;\n    }\n\n    .dataframe tbody tr th {\n        vertical-align: top;\n    }\n\n    .dataframe thead th {\n        text-align: right;\n    }\n</style>\n<table border=\"1\" class=\"dataframe\">\n  <thead>\n    <tr style=\"text-align: right;\">\n      <th></th>\n      <th>mensalidade</th>\n    </tr>\n    <tr>\n      <th>uf_busca</th>\n      <th></th>\n    </tr>\n  </thead>\n  <tbody>\n    <tr>\n      <th>RO</th>\n      <td>7009.970000</td>\n    </tr>\n    <tr>\n      <th>SP</th>\n      <td>8477.466667</td>\n    </tr>\n    <tr>\n      <th>ES</th>\n      <td>6113.000000</td>\n    </tr>\n    <tr>\n      <th>PB</th>\n      <td>7512.700000</td>\n    </tr>\n    <tr>\n      <th>MG</th>\n      <td>7712.500000</td>\n    </tr>\n    <tr>\n      <th>PA</th>\n      <td>8608.540000</td>\n    </tr>\n    <tr>\n      <th>RJ</th>\n      <td>9123.070000</td>\n    </tr>\n    <tr>\n      <th>MA</th>\n      <td>8381.375000</td>\n    </tr>\n    <tr>\n      <th>AC</th>\n      <td>9774.340000</td>\n    </tr>\n    <tr>\n      <th>PR</th>\n      <td>7174.275000</td>\n    </tr>\n  </tbody>\n</table>\n</div>",
       "datasetInfos": [],
       "metadata": {},
       "removedWidgets": [],
       "textData": null,
       "type": "htmlSandbox"
      }
     },
     "output_type": "display_data"
    }
   ],
   "source": [
    "df_agrupado"
   ]
  },
  {
   "cell_type": "code",
   "execution_count": 0,
   "metadata": {
    "application/vnd.databricks.v1+cell": {
     "cellMetadata": {
      "byteLimit": 2048000,
      "rowLimit": 10000
     },
     "inputWidgets": {},
     "nuid": "78c119c5-b995-47f5-b997-1dbf669967b1",
     "showTitle": false,
     "tableResultSettingsMap": {},
     "title": ""
    }
   },
   "outputs": [],
   "source": [
    "# Ordem das informações\n",
    "df_agrupado.sort_values(by = 'mensalidade', inplace = True, ascending = False)"
   ]
  },
  {
   "cell_type": "code",
   "execution_count": 0,
   "metadata": {
    "application/vnd.databricks.v1+cell": {
     "cellMetadata": {
      "byteLimit": 2048000,
      "rowLimit": 10000
     },
     "inputWidgets": {},
     "nuid": "6c769d97-513c-427b-8bd2-2fe8f4b67532",
     "showTitle": false,
     "tableResultSettingsMap": {},
     "title": ""
    }
   },
   "outputs": [
    {
     "output_type": "display_data",
     "data": {
      "text/html": [
       "<div>\n",
       "<style scoped>\n",
       "    .dataframe tbody tr th:only-of-type {\n",
       "        vertical-align: middle;\n",
       "    }\n",
       "\n",
       "    .dataframe tbody tr th {\n",
       "        vertical-align: top;\n",
       "    }\n",
       "\n",
       "    .dataframe thead th {\n",
       "        text-align: right;\n",
       "    }\n",
       "</style>\n",
       "<table border=\"1\" class=\"dataframe\">\n",
       "  <thead>\n",
       "    <tr style=\"text-align: right;\">\n",
       "      <th></th>\n",
       "      <th>mensalidade</th>\n",
       "    </tr>\n",
       "    <tr>\n",
       "      <th>uf_busca</th>\n",
       "      <th></th>\n",
       "    </tr>\n",
       "  </thead>\n",
       "  <tbody>\n",
       "    <tr>\n",
       "      <th>AC</th>\n",
       "      <td>9774.340000</td>\n",
       "    </tr>\n",
       "    <tr>\n",
       "      <th>RJ</th>\n",
       "      <td>9123.070000</td>\n",
       "    </tr>\n",
       "    <tr>\n",
       "      <th>PA</th>\n",
       "      <td>8608.540000</td>\n",
       "    </tr>\n",
       "    <tr>\n",
       "      <th>SP</th>\n",
       "      <td>8477.466667</td>\n",
       "    </tr>\n",
       "    <tr>\n",
       "      <th>MA</th>\n",
       "      <td>8381.375000</td>\n",
       "    </tr>\n",
       "    <tr>\n",
       "      <th>MG</th>\n",
       "      <td>7712.500000</td>\n",
       "    </tr>\n",
       "    <tr>\n",
       "      <th>PB</th>\n",
       "      <td>7512.700000</td>\n",
       "    </tr>\n",
       "    <tr>\n",
       "      <th>PR</th>\n",
       "      <td>7174.275000</td>\n",
       "    </tr>\n",
       "    <tr>\n",
       "      <th>RO</th>\n",
       "      <td>7009.970000</td>\n",
       "    </tr>\n",
       "    <tr>\n",
       "      <th>ES</th>\n",
       "      <td>6113.000000</td>\n",
       "    </tr>\n",
       "  </tbody>\n",
       "</table>\n",
       "</div>"
      ]
     },
     "metadata": {
      "application/vnd.databricks.v1+output": {
       "addedWidgets": {},
       "arguments": {},
       "data": "<div>\n<style scoped>\n    .dataframe tbody tr th:only-of-type {\n        vertical-align: middle;\n    }\n\n    .dataframe tbody tr th {\n        vertical-align: top;\n    }\n\n    .dataframe thead th {\n        text-align: right;\n    }\n</style>\n<table border=\"1\" class=\"dataframe\">\n  <thead>\n    <tr style=\"text-align: right;\">\n      <th></th>\n      <th>mensalidade</th>\n    </tr>\n    <tr>\n      <th>uf_busca</th>\n      <th></th>\n    </tr>\n  </thead>\n  <tbody>\n    <tr>\n      <th>AC</th>\n      <td>9774.340000</td>\n    </tr>\n    <tr>\n      <th>RJ</th>\n      <td>9123.070000</td>\n    </tr>\n    <tr>\n      <th>PA</th>\n      <td>8608.540000</td>\n    </tr>\n    <tr>\n      <th>SP</th>\n      <td>8477.466667</td>\n    </tr>\n    <tr>\n      <th>MA</th>\n      <td>8381.375000</td>\n    </tr>\n    <tr>\n      <th>MG</th>\n      <td>7712.500000</td>\n    </tr>\n    <tr>\n      <th>PB</th>\n      <td>7512.700000</td>\n    </tr>\n    <tr>\n      <th>PR</th>\n      <td>7174.275000</td>\n    </tr>\n    <tr>\n      <th>RO</th>\n      <td>7009.970000</td>\n    </tr>\n    <tr>\n      <th>ES</th>\n      <td>6113.000000</td>\n    </tr>\n  </tbody>\n</table>\n</div>",
       "datasetInfos": [],
       "metadata": {},
       "removedWidgets": [],
       "textData": null,
       "type": "htmlSandbox"
      }
     },
     "output_type": "display_data"
    }
   ],
   "source": [
    "df_agrupado"
   ]
  },
  {
   "cell_type": "code",
   "execution_count": 0,
   "metadata": {
    "application/vnd.databricks.v1+cell": {
     "cellMetadata": {
      "byteLimit": 2048000,
      "rowLimit": 10000
     },
     "inputWidgets": {},
     "nuid": "547d21cc-8c35-44f4-8f4b-5e8cf2620a29",
     "showTitle": false,
     "tableResultSettingsMap": {},
     "title": ""
    }
   },
   "outputs": [],
   "source": [
    "# Gráfico de barras\n",
    "df_agrupado = df_agrupado.reset_index()"
   ]
  },
  {
   "cell_type": "markdown",
   "metadata": {
    "application/vnd.databricks.v1+cell": {
     "cellMetadata": {
      "byteLimit": 2048000,
      "rowLimit": 10000
     },
     "inputWidgets": {},
     "nuid": "9c0c7c3f-464d-4fc0-8e8c-ef0cbba4d08a",
     "showTitle": false,
     "tableResultSettingsMap": {},
     "title": ""
    }
   },
   "source": [
    "Podemos ver que o Estado com maior média de mensalidades é o Acre e o menor é o Espírito Santo."
   ]
  },
  {
   "cell_type": "code",
   "execution_count": 0,
   "metadata": {
    "application/vnd.databricks.v1+cell": {
     "cellMetadata": {
      "byteLimit": 2048000,
      "rowLimit": 10000
     },
     "inputWidgets": {},
     "nuid": "9e504ecd-0ee7-482d-b666-77b363c1422e",
     "showTitle": false,
     "tableResultSettingsMap": {},
     "title": ""
    }
   },
   "outputs": [
    {
     "output_type": "display_data",
     "data": {
      "text/html": [
       "<html>\n",
       "<head><meta charset=\"utf-8\" /></head>\n",
       "<body>\n",
       "    <div>            <script src=\"https://cdnjs.cloudflare.com/ajax/libs/mathjax/2.7.5/MathJax.js?config=TeX-AMS-MML_SVG\"></script><script type=\"text/javascript\">if (window.MathJax) {MathJax.Hub.Config({SVG: {font: \"STIX-Web\"}});}</script>                <script type=\"text/javascript\">window.PlotlyConfig = {MathJaxConfig: 'local'};</script>\n",
       "        <script src=\"https://cdn.plot.ly/plotly-2.9.0.min.js\"></script>                <div id=\"957798b0-8e77-4ecf-9df8-992a84e55323\" class=\"plotly-graph-div\" style=\"height:100%; width:100%;\"></div>            <script type=\"text/javascript\">                                    window.PLOTLYENV=window.PLOTLYENV || {};                                    if (document.getElementById(\"957798b0-8e77-4ecf-9df8-992a84e55323\")) {                    Plotly.newPlot(                        \"957798b0-8e77-4ecf-9df8-992a84e55323\",                        [{\"alignmentgroup\":\"True\",\"hovertemplate\":\"uf_busca=%{x}<br>mensalidade=%{y}<extra></extra>\",\"legendgroup\":\"\",\"marker\":{\"color\":\"#636efa\",\"pattern\":{\"shape\":\"\"}},\"name\":\"\",\"offsetgroup\":\"\",\"orientation\":\"v\",\"showlegend\":false,\"textposition\":\"auto\",\"x\":[\"AC\",\"RJ\",\"PA\",\"SP\",\"MA\",\"MG\",\"PB\",\"PR\",\"RO\",\"ES\"],\"xaxis\":\"x\",\"y\":[9774.34,9123.07,8608.54,8477.466666666667,8381.375,7712.5,7512.7,7174.275,7009.97,6113.0],\"yaxis\":\"y\",\"type\":\"bar\"}],                        {\"template\":{\"data\":{\"bar\":[{\"error_x\":{\"color\":\"#2a3f5f\"},\"error_y\":{\"color\":\"#2a3f5f\"},\"marker\":{\"line\":{\"color\":\"#E5ECF6\",\"width\":0.5},\"pattern\":{\"fillmode\":\"overlay\",\"size\":10,\"solidity\":0.2}},\"type\":\"bar\"}],\"barpolar\":[{\"marker\":{\"line\":{\"color\":\"#E5ECF6\",\"width\":0.5},\"pattern\":{\"fillmode\":\"overlay\",\"size\":10,\"solidity\":0.2}},\"type\":\"barpolar\"}],\"carpet\":[{\"aaxis\":{\"endlinecolor\":\"#2a3f5f\",\"gridcolor\":\"white\",\"linecolor\":\"white\",\"minorgridcolor\":\"white\",\"startlinecolor\":\"#2a3f5f\"},\"baxis\":{\"endlinecolor\":\"#2a3f5f\",\"gridcolor\":\"white\",\"linecolor\":\"white\",\"minorgridcolor\":\"white\",\"startlinecolor\":\"#2a3f5f\"},\"type\":\"carpet\"}],\"choropleth\":[{\"colorbar\":{\"outlinewidth\":0,\"ticks\":\"\"},\"type\":\"choropleth\"}],\"contour\":[{\"colorbar\":{\"outlinewidth\":0,\"ticks\":\"\"},\"colorscale\":[[0.0,\"#0d0887\"],[0.1111111111111111,\"#46039f\"],[0.2222222222222222,\"#7201a8\"],[0.3333333333333333,\"#9c179e\"],[0.4444444444444444,\"#bd3786\"],[0.5555555555555556,\"#d8576b\"],[0.6666666666666666,\"#ed7953\"],[0.7777777777777778,\"#fb9f3a\"],[0.8888888888888888,\"#fdca26\"],[1.0,\"#f0f921\"]],\"type\":\"contour\"}],\"contourcarpet\":[{\"colorbar\":{\"outlinewidth\":0,\"ticks\":\"\"},\"type\":\"contourcarpet\"}],\"heatmap\":[{\"colorbar\":{\"outlinewidth\":0,\"ticks\":\"\"},\"colorscale\":[[0.0,\"#0d0887\"],[0.1111111111111111,\"#46039f\"],[0.2222222222222222,\"#7201a8\"],[0.3333333333333333,\"#9c179e\"],[0.4444444444444444,\"#bd3786\"],[0.5555555555555556,\"#d8576b\"],[0.6666666666666666,\"#ed7953\"],[0.7777777777777778,\"#fb9f3a\"],[0.8888888888888888,\"#fdca26\"],[1.0,\"#f0f921\"]],\"type\":\"heatmap\"}],\"heatmapgl\":[{\"colorbar\":{\"outlinewidth\":0,\"ticks\":\"\"},\"colorscale\":[[0.0,\"#0d0887\"],[0.1111111111111111,\"#46039f\"],[0.2222222222222222,\"#7201a8\"],[0.3333333333333333,\"#9c179e\"],[0.4444444444444444,\"#bd3786\"],[0.5555555555555556,\"#d8576b\"],[0.6666666666666666,\"#ed7953\"],[0.7777777777777778,\"#fb9f3a\"],[0.8888888888888888,\"#fdca26\"],[1.0,\"#f0f921\"]],\"type\":\"heatmapgl\"}],\"histogram\":[{\"marker\":{\"pattern\":{\"fillmode\":\"overlay\",\"size\":10,\"solidity\":0.2}},\"type\":\"histogram\"}],\"histogram2d\":[{\"colorbar\":{\"outlinewidth\":0,\"ticks\":\"\"},\"colorscale\":[[0.0,\"#0d0887\"],[0.1111111111111111,\"#46039f\"],[0.2222222222222222,\"#7201a8\"],[0.3333333333333333,\"#9c179e\"],[0.4444444444444444,\"#bd3786\"],[0.5555555555555556,\"#d8576b\"],[0.6666666666666666,\"#ed7953\"],[0.7777777777777778,\"#fb9f3a\"],[0.8888888888888888,\"#fdca26\"],[1.0,\"#f0f921\"]],\"type\":\"histogram2d\"}],\"histogram2dcontour\":[{\"colorbar\":{\"outlinewidth\":0,\"ticks\":\"\"},\"colorscale\":[[0.0,\"#0d0887\"],[0.1111111111111111,\"#46039f\"],[0.2222222222222222,\"#7201a8\"],[0.3333333333333333,\"#9c179e\"],[0.4444444444444444,\"#bd3786\"],[0.5555555555555556,\"#d8576b\"],[0.6666666666666666,\"#ed7953\"],[0.7777777777777778,\"#fb9f3a\"],[0.8888888888888888,\"#fdca26\"],[1.0,\"#f0f921\"]],\"type\":\"histogram2dcontour\"}],\"mesh3d\":[{\"colorbar\":{\"outlinewidth\":0,\"ticks\":\"\"},\"type\":\"mesh3d\"}],\"parcoords\":[{\"line\":{\"colorbar\":{\"outlinewidth\":0,\"ticks\":\"\"}},\"type\":\"parcoords\"}],\"pie\":[{\"automargin\":true,\"type\":\"pie\"}],\"scatter\":[{\"marker\":{\"colorbar\":{\"outlinewidth\":0,\"ticks\":\"\"}},\"type\":\"scatter\"}],\"scatter3d\":[{\"line\":{\"colorbar\":{\"outlinewidth\":0,\"ticks\":\"\"}},\"marker\":{\"colorbar\":{\"outlinewidth\":0,\"ticks\":\"\"}},\"type\":\"scatter3d\"}],\"scattercarpet\":[{\"marker\":{\"colorbar\":{\"outlinewidth\":0,\"ticks\":\"\"}},\"type\":\"scattercarpet\"}],\"scattergeo\":[{\"marker\":{\"colorbar\":{\"outlinewidth\":0,\"ticks\":\"\"}},\"type\":\"scattergeo\"}],\"scattergl\":[{\"marker\":{\"colorbar\":{\"outlinewidth\":0,\"ticks\":\"\"}},\"type\":\"scattergl\"}],\"scattermapbox\":[{\"marker\":{\"colorbar\":{\"outlinewidth\":0,\"ticks\":\"\"}},\"type\":\"scattermapbox\"}],\"scatterpolar\":[{\"marker\":{\"colorbar\":{\"outlinewidth\":0,\"ticks\":\"\"}},\"type\":\"scatterpolar\"}],\"scatterpolargl\":[{\"marker\":{\"colorbar\":{\"outlinewidth\":0,\"ticks\":\"\"}},\"type\":\"scatterpolargl\"}],\"scatterternary\":[{\"marker\":{\"colorbar\":{\"outlinewidth\":0,\"ticks\":\"\"}},\"type\":\"scatterternary\"}],\"surface\":[{\"colorbar\":{\"outlinewidth\":0,\"ticks\":\"\"},\"colorscale\":[[0.0,\"#0d0887\"],[0.1111111111111111,\"#46039f\"],[0.2222222222222222,\"#7201a8\"],[0.3333333333333333,\"#9c179e\"],[0.4444444444444444,\"#bd3786\"],[0.5555555555555556,\"#d8576b\"],[0.6666666666666666,\"#ed7953\"],[0.7777777777777778,\"#fb9f3a\"],[0.8888888888888888,\"#fdca26\"],[1.0,\"#f0f921\"]],\"type\":\"surface\"}],\"table\":[{\"cells\":{\"fill\":{\"color\":\"#EBF0F8\"},\"line\":{\"color\":\"white\"}},\"header\":{\"fill\":{\"color\":\"#C8D4E3\"},\"line\":{\"color\":\"white\"}},\"type\":\"table\"}]},\"layout\":{\"annotationdefaults\":{\"arrowcolor\":\"#2a3f5f\",\"arrowhead\":0,\"arrowwidth\":1},\"autotypenumbers\":\"strict\",\"coloraxis\":{\"colorbar\":{\"outlinewidth\":0,\"ticks\":\"\"}},\"colorscale\":{\"diverging\":[[0,\"#8e0152\"],[0.1,\"#c51b7d\"],[0.2,\"#de77ae\"],[0.3,\"#f1b6da\"],[0.4,\"#fde0ef\"],[0.5,\"#f7f7f7\"],[0.6,\"#e6f5d0\"],[0.7,\"#b8e186\"],[0.8,\"#7fbc41\"],[0.9,\"#4d9221\"],[1,\"#276419\"]],\"sequential\":[[0.0,\"#0d0887\"],[0.1111111111111111,\"#46039f\"],[0.2222222222222222,\"#7201a8\"],[0.3333333333333333,\"#9c179e\"],[0.4444444444444444,\"#bd3786\"],[0.5555555555555556,\"#d8576b\"],[0.6666666666666666,\"#ed7953\"],[0.7777777777777778,\"#fb9f3a\"],[0.8888888888888888,\"#fdca26\"],[1.0,\"#f0f921\"]],\"sequentialminus\":[[0.0,\"#0d0887\"],[0.1111111111111111,\"#46039f\"],[0.2222222222222222,\"#7201a8\"],[0.3333333333333333,\"#9c179e\"],[0.4444444444444444,\"#bd3786\"],[0.5555555555555556,\"#d8576b\"],[0.6666666666666666,\"#ed7953\"],[0.7777777777777778,\"#fb9f3a\"],[0.8888888888888888,\"#fdca26\"],[1.0,\"#f0f921\"]]},\"colorway\":[\"#636efa\",\"#EF553B\",\"#00cc96\",\"#ab63fa\",\"#FFA15A\",\"#19d3f3\",\"#FF6692\",\"#B6E880\",\"#FF97FF\",\"#FECB52\"],\"font\":{\"color\":\"#2a3f5f\"},\"geo\":{\"bgcolor\":\"white\",\"lakecolor\":\"white\",\"landcolor\":\"#E5ECF6\",\"showlakes\":true,\"showland\":true,\"subunitcolor\":\"white\"},\"hoverlabel\":{\"align\":\"left\"},\"hovermode\":\"closest\",\"mapbox\":{\"style\":\"light\"},\"paper_bgcolor\":\"white\",\"plot_bgcolor\":\"#E5ECF6\",\"polar\":{\"angularaxis\":{\"gridcolor\":\"white\",\"linecolor\":\"white\",\"ticks\":\"\"},\"bgcolor\":\"#E5ECF6\",\"radialaxis\":{\"gridcolor\":\"white\",\"linecolor\":\"white\",\"ticks\":\"\"}},\"scene\":{\"xaxis\":{\"backgroundcolor\":\"#E5ECF6\",\"gridcolor\":\"white\",\"gridwidth\":2,\"linecolor\":\"white\",\"showbackground\":true,\"ticks\":\"\",\"zerolinecolor\":\"white\"},\"yaxis\":{\"backgroundcolor\":\"#E5ECF6\",\"gridcolor\":\"white\",\"gridwidth\":2,\"linecolor\":\"white\",\"showbackground\":true,\"ticks\":\"\",\"zerolinecolor\":\"white\"},\"zaxis\":{\"backgroundcolor\":\"#E5ECF6\",\"gridcolor\":\"white\",\"gridwidth\":2,\"linecolor\":\"white\",\"showbackground\":true,\"ticks\":\"\",\"zerolinecolor\":\"white\"}},\"shapedefaults\":{\"line\":{\"color\":\"#2a3f5f\"}},\"ternary\":{\"aaxis\":{\"gridcolor\":\"white\",\"linecolor\":\"white\",\"ticks\":\"\"},\"baxis\":{\"gridcolor\":\"white\",\"linecolor\":\"white\",\"ticks\":\"\"},\"bgcolor\":\"#E5ECF6\",\"caxis\":{\"gridcolor\":\"white\",\"linecolor\":\"white\",\"ticks\":\"\"}},\"title\":{\"x\":0.05},\"xaxis\":{\"automargin\":true,\"gridcolor\":\"white\",\"linecolor\":\"white\",\"ticks\":\"\",\"title\":{\"standoff\":15},\"zerolinecolor\":\"white\",\"zerolinewidth\":2},\"yaxis\":{\"automargin\":true,\"gridcolor\":\"white\",\"linecolor\":\"white\",\"ticks\":\"\",\"title\":{\"standoff\":15},\"zerolinecolor\":\"white\",\"zerolinewidth\":2}}},\"xaxis\":{\"anchor\":\"y\",\"domain\":[0.0,1.0],\"title\":{\"text\":\"uf_busca\"}},\"yaxis\":{\"anchor\":\"x\",\"domain\":[0.0,1.0],\"title\":{\"text\":\"mensalidade\"}},\"legend\":{\"tracegroupgap\":0},\"margin\":{\"t\":60},\"barmode\":\"relative\"},                        {\"responsive\": true}                    )                };                            </script>        </div>\n",
       "</body>\n",
       "</html>"
      ]
     },
     "metadata": {
      "application/vnd.databricks.v1+output": {
       "addedWidgets": {},
       "arguments": {},
       "data": "<html>\n<head><meta charset=\"utf-8\" /></head>\n<body>\n    <div>            <script src=\"https://cdnjs.cloudflare.com/ajax/libs/mathjax/2.7.5/MathJax.js?config=TeX-AMS-MML_SVG\"></script><script type=\"text/javascript\">if (window.MathJax) {MathJax.Hub.Config({SVG: {font: \"STIX-Web\"}});}</script>                <script type=\"text/javascript\">window.PlotlyConfig = {MathJaxConfig: 'local'};</script>\n        <script src=\"https://cdn.plot.ly/plotly-2.9.0.min.js\"></script>                <div id=\"957798b0-8e77-4ecf-9df8-992a84e55323\" class=\"plotly-graph-div\" style=\"height:100%; width:100%;\"></div>            <script type=\"text/javascript\">                                    window.PLOTLYENV=window.PLOTLYENV || {};                                    if (document.getElementById(\"957798b0-8e77-4ecf-9df8-992a84e55323\")) {                    Plotly.newPlot(                        \"957798b0-8e77-4ecf-9df8-992a84e55323\",                        [{\"alignmentgroup\":\"True\",\"hovertemplate\":\"uf_busca=%{x}<br>mensalidade=%{y}<extra></extra>\",\"legendgroup\":\"\",\"marker\":{\"color\":\"#636efa\",\"pattern\":{\"shape\":\"\"}},\"name\":\"\",\"offsetgroup\":\"\",\"orientation\":\"v\",\"showlegend\":false,\"textposition\":\"auto\",\"x\":[\"AC\",\"RJ\",\"PA\",\"SP\",\"MA\",\"MG\",\"PB\",\"PR\",\"RO\",\"ES\"],\"xaxis\":\"x\",\"y\":[9774.34,9123.07,8608.54,8477.466666666667,8381.375,7712.5,7512.7,7174.275,7009.97,6113.0],\"yaxis\":\"y\",\"type\":\"bar\"}],                        {\"template\":{\"data\":{\"bar\":[{\"error_x\":{\"color\":\"#2a3f5f\"},\"error_y\":{\"color\":\"#2a3f5f\"},\"marker\":{\"line\":{\"color\":\"#E5ECF6\",\"width\":0.5},\"pattern\":{\"fillmode\":\"overlay\",\"size\":10,\"solidity\":0.2}},\"type\":\"bar\"}],\"barpolar\":[{\"marker\":{\"line\":{\"color\":\"#E5ECF6\",\"width\":0.5},\"pattern\":{\"fillmode\":\"overlay\",\"size\":10,\"solidity\":0.2}},\"type\":\"barpolar\"}],\"carpet\":[{\"aaxis\":{\"endlinecolor\":\"#2a3f5f\",\"gridcolor\":\"white\",\"linecolor\":\"white\",\"minorgridcolor\":\"white\",\"startlinecolor\":\"#2a3f5f\"},\"baxis\":{\"endlinecolor\":\"#2a3f5f\",\"gridcolor\":\"white\",\"linecolor\":\"white\",\"minorgridcolor\":\"white\",\"startlinecolor\":\"#2a3f5f\"},\"type\":\"carpet\"}],\"choropleth\":[{\"colorbar\":{\"outlinewidth\":0,\"ticks\":\"\"},\"type\":\"choropleth\"}],\"contour\":[{\"colorbar\":{\"outlinewidth\":0,\"ticks\":\"\"},\"colorscale\":[[0.0,\"#0d0887\"],[0.1111111111111111,\"#46039f\"],[0.2222222222222222,\"#7201a8\"],[0.3333333333333333,\"#9c179e\"],[0.4444444444444444,\"#bd3786\"],[0.5555555555555556,\"#d8576b\"],[0.6666666666666666,\"#ed7953\"],[0.7777777777777778,\"#fb9f3a\"],[0.8888888888888888,\"#fdca26\"],[1.0,\"#f0f921\"]],\"type\":\"contour\"}],\"contourcarpet\":[{\"colorbar\":{\"outlinewidth\":0,\"ticks\":\"\"},\"type\":\"contourcarpet\"}],\"heatmap\":[{\"colorbar\":{\"outlinewidth\":0,\"ticks\":\"\"},\"colorscale\":[[0.0,\"#0d0887\"],[0.1111111111111111,\"#46039f\"],[0.2222222222222222,\"#7201a8\"],[0.3333333333333333,\"#9c179e\"],[0.4444444444444444,\"#bd3786\"],[0.5555555555555556,\"#d8576b\"],[0.6666666666666666,\"#ed7953\"],[0.7777777777777778,\"#fb9f3a\"],[0.8888888888888888,\"#fdca26\"],[1.0,\"#f0f921\"]],\"type\":\"heatmap\"}],\"heatmapgl\":[{\"colorbar\":{\"outlinewidth\":0,\"ticks\":\"\"},\"colorscale\":[[0.0,\"#0d0887\"],[0.1111111111111111,\"#46039f\"],[0.2222222222222222,\"#7201a8\"],[0.3333333333333333,\"#9c179e\"],[0.4444444444444444,\"#bd3786\"],[0.5555555555555556,\"#d8576b\"],[0.6666666666666666,\"#ed7953\"],[0.7777777777777778,\"#fb9f3a\"],[0.8888888888888888,\"#fdca26\"],[1.0,\"#f0f921\"]],\"type\":\"heatmapgl\"}],\"histogram\":[{\"marker\":{\"pattern\":{\"fillmode\":\"overlay\",\"size\":10,\"solidity\":0.2}},\"type\":\"histogram\"}],\"histogram2d\":[{\"colorbar\":{\"outlinewidth\":0,\"ticks\":\"\"},\"colorscale\":[[0.0,\"#0d0887\"],[0.1111111111111111,\"#46039f\"],[0.2222222222222222,\"#7201a8\"],[0.3333333333333333,\"#9c179e\"],[0.4444444444444444,\"#bd3786\"],[0.5555555555555556,\"#d8576b\"],[0.6666666666666666,\"#ed7953\"],[0.7777777777777778,\"#fb9f3a\"],[0.8888888888888888,\"#fdca26\"],[1.0,\"#f0f921\"]],\"type\":\"histogram2d\"}],\"histogram2dcontour\":[{\"colorbar\":{\"outlinewidth\":0,\"ticks\":\"\"},\"colorscale\":[[0.0,\"#0d0887\"],[0.1111111111111111,\"#46039f\"],[0.2222222222222222,\"#7201a8\"],[0.3333333333333333,\"#9c179e\"],[0.4444444444444444,\"#bd3786\"],[0.5555555555555556,\"#d8576b\"],[0.6666666666666666,\"#ed7953\"],[0.7777777777777778,\"#fb9f3a\"],[0.8888888888888888,\"#fdca26\"],[1.0,\"#f0f921\"]],\"type\":\"histogram2dcontour\"}],\"mesh3d\":[{\"colorbar\":{\"outlinewidth\":0,\"ticks\":\"\"},\"type\":\"mesh3d\"}],\"parcoords\":[{\"line\":{\"colorbar\":{\"outlinewidth\":0,\"ticks\":\"\"}},\"type\":\"parcoords\"}],\"pie\":[{\"automargin\":true,\"type\":\"pie\"}],\"scatter\":[{\"marker\":{\"colorbar\":{\"outlinewidth\":0,\"ticks\":\"\"}},\"type\":\"scatter\"}],\"scatter3d\":[{\"line\":{\"colorbar\":{\"outlinewidth\":0,\"ticks\":\"\"}},\"marker\":{\"colorbar\":{\"outlinewidth\":0,\"ticks\":\"\"}},\"type\":\"scatter3d\"}],\"scattercarpet\":[{\"marker\":{\"colorbar\":{\"outlinewidth\":0,\"ticks\":\"\"}},\"type\":\"scattercarpet\"}],\"scattergeo\":[{\"marker\":{\"colorbar\":{\"outlinewidth\":0,\"ticks\":\"\"}},\"type\":\"scattergeo\"}],\"scattergl\":[{\"marker\":{\"colorbar\":{\"outlinewidth\":0,\"ticks\":\"\"}},\"type\":\"scattergl\"}],\"scattermapbox\":[{\"marker\":{\"colorbar\":{\"outlinewidth\":0,\"ticks\":\"\"}},\"type\":\"scattermapbox\"}],\"scatterpolar\":[{\"marker\":{\"colorbar\":{\"outlinewidth\":0,\"ticks\":\"\"}},\"type\":\"scatterpolar\"}],\"scatterpolargl\":[{\"marker\":{\"colorbar\":{\"outlinewidth\":0,\"ticks\":\"\"}},\"type\":\"scatterpolargl\"}],\"scatterternary\":[{\"marker\":{\"colorbar\":{\"outlinewidth\":0,\"ticks\":\"\"}},\"type\":\"scatterternary\"}],\"surface\":[{\"colorbar\":{\"outlinewidth\":0,\"ticks\":\"\"},\"colorscale\":[[0.0,\"#0d0887\"],[0.1111111111111111,\"#46039f\"],[0.2222222222222222,\"#7201a8\"],[0.3333333333333333,\"#9c179e\"],[0.4444444444444444,\"#bd3786\"],[0.5555555555555556,\"#d8576b\"],[0.6666666666666666,\"#ed7953\"],[0.7777777777777778,\"#fb9f3a\"],[0.8888888888888888,\"#fdca26\"],[1.0,\"#f0f921\"]],\"type\":\"surface\"}],\"table\":[{\"cells\":{\"fill\":{\"color\":\"#EBF0F8\"},\"line\":{\"color\":\"white\"}},\"header\":{\"fill\":{\"color\":\"#C8D4E3\"},\"line\":{\"color\":\"white\"}},\"type\":\"table\"}]},\"layout\":{\"annotationdefaults\":{\"arrowcolor\":\"#2a3f5f\",\"arrowhead\":0,\"arrowwidth\":1},\"autotypenumbers\":\"strict\",\"coloraxis\":{\"colorbar\":{\"outlinewidth\":0,\"ticks\":\"\"}},\"colorscale\":{\"diverging\":[[0,\"#8e0152\"],[0.1,\"#c51b7d\"],[0.2,\"#de77ae\"],[0.3,\"#f1b6da\"],[0.4,\"#fde0ef\"],[0.5,\"#f7f7f7\"],[0.6,\"#e6f5d0\"],[0.7,\"#b8e186\"],[0.8,\"#7fbc41\"],[0.9,\"#4d9221\"],[1,\"#276419\"]],\"sequential\":[[0.0,\"#0d0887\"],[0.1111111111111111,\"#46039f\"],[0.2222222222222222,\"#7201a8\"],[0.3333333333333333,\"#9c179e\"],[0.4444444444444444,\"#bd3786\"],[0.5555555555555556,\"#d8576b\"],[0.6666666666666666,\"#ed7953\"],[0.7777777777777778,\"#fb9f3a\"],[0.8888888888888888,\"#fdca26\"],[1.0,\"#f0f921\"]],\"sequentialminus\":[[0.0,\"#0d0887\"],[0.1111111111111111,\"#46039f\"],[0.2222222222222222,\"#7201a8\"],[0.3333333333333333,\"#9c179e\"],[0.4444444444444444,\"#bd3786\"],[0.5555555555555556,\"#d8576b\"],[0.6666666666666666,\"#ed7953\"],[0.7777777777777778,\"#fb9f3a\"],[0.8888888888888888,\"#fdca26\"],[1.0,\"#f0f921\"]]},\"colorway\":[\"#636efa\",\"#EF553B\",\"#00cc96\",\"#ab63fa\",\"#FFA15A\",\"#19d3f3\",\"#FF6692\",\"#B6E880\",\"#FF97FF\",\"#FECB52\"],\"font\":{\"color\":\"#2a3f5f\"},\"geo\":{\"bgcolor\":\"white\",\"lakecolor\":\"white\",\"landcolor\":\"#E5ECF6\",\"showlakes\":true,\"showland\":true,\"subunitcolor\":\"white\"},\"hoverlabel\":{\"align\":\"left\"},\"hovermode\":\"closest\",\"mapbox\":{\"style\":\"light\"},\"paper_bgcolor\":\"white\",\"plot_bgcolor\":\"#E5ECF6\",\"polar\":{\"angularaxis\":{\"gridcolor\":\"white\",\"linecolor\":\"white\",\"ticks\":\"\"},\"bgcolor\":\"#E5ECF6\",\"radialaxis\":{\"gridcolor\":\"white\",\"linecolor\":\"white\",\"ticks\":\"\"}},\"scene\":{\"xaxis\":{\"backgroundcolor\":\"#E5ECF6\",\"gridcolor\":\"white\",\"gridwidth\":2,\"linecolor\":\"white\",\"showbackground\":true,\"ticks\":\"\",\"zerolinecolor\":\"white\"},\"yaxis\":{\"backgroundcolor\":\"#E5ECF6\",\"gridcolor\":\"white\",\"gridwidth\":2,\"linecolor\":\"white\",\"showbackground\":true,\"ticks\":\"\",\"zerolinecolor\":\"white\"},\"zaxis\":{\"backgroundcolor\":\"#E5ECF6\",\"gridcolor\":\"white\",\"gridwidth\":2,\"linecolor\":\"white\",\"showbackground\":true,\"ticks\":\"\",\"zerolinecolor\":\"white\"}},\"shapedefaults\":{\"line\":{\"color\":\"#2a3f5f\"}},\"ternary\":{\"aaxis\":{\"gridcolor\":\"white\",\"linecolor\":\"white\",\"ticks\":\"\"},\"baxis\":{\"gridcolor\":\"white\",\"linecolor\":\"white\",\"ticks\":\"\"},\"bgcolor\":\"#E5ECF6\",\"caxis\":{\"gridcolor\":\"white\",\"linecolor\":\"white\",\"ticks\":\"\"}},\"title\":{\"x\":0.05},\"xaxis\":{\"automargin\":true,\"gridcolor\":\"white\",\"linecolor\":\"white\",\"ticks\":\"\",\"title\":{\"standoff\":15},\"zerolinecolor\":\"white\",\"zerolinewidth\":2},\"yaxis\":{\"automargin\":true,\"gridcolor\":\"white\",\"linecolor\":\"white\",\"ticks\":\"\",\"title\":{\"standoff\":15},\"zerolinecolor\":\"white\",\"zerolinewidth\":2}}},\"xaxis\":{\"anchor\":\"y\",\"domain\":[0.0,1.0],\"title\":{\"text\":\"uf_busca\"}},\"yaxis\":{\"anchor\":\"x\",\"domain\":[0.0,1.0],\"title\":{\"text\":\"mensalidade\"}},\"legend\":{\"tracegroupgap\":0},\"margin\":{\"t\":60},\"barmode\":\"relative\"},                        {\"responsive\": true}                    )                };                            </script>        </div>\n</body>\n</html>",
       "datasetInfos": [],
       "metadata": {},
       "removedWidgets": [],
       "textData": null,
       "type": "htmlSandbox"
      }
     },
     "output_type": "display_data"
    }
   ],
   "source": [
    "df_agrupado.plot.bar(x = 'uf_busca', y = 'mensalidade')"
   ]
  },
  {
   "cell_type": "markdown",
   "metadata": {
    "application/vnd.databricks.v1+cell": {
     "cellMetadata": {
      "byteLimit": 2048000,
      "rowLimit": 10000
     },
     "inputWidgets": {},
     "nuid": "1b5f0a5c-ef30-46d1-83aa-b825260dbff4",
     "showTitle": false,
     "tableResultSettingsMap": {},
     "title": ""
    }
   },
   "source": [
    "### Quais estados possuem um número maior de cotas?"
   ]
  },
  {
   "cell_type": "code",
   "execution_count": 0,
   "metadata": {
    "application/vnd.databricks.v1+cell": {
     "cellMetadata": {
      "byteLimit": 2048000,
      "rowLimit": 10000
     },
     "inputWidgets": {},
     "nuid": "9b7c7f44-11e7-45a4-8f83-bc8d936e3b7b",
     "showTitle": false,
     "tableResultSettingsMap": {},
     "title": ""
    }
   },
   "outputs": [
    {
     "output_type": "display_data",
     "data": {
      "text/html": [
       "<div>\n",
       "<style scoped>\n",
       "    .dataframe tbody tr th:only-of-type {\n",
       "        vertical-align: middle;\n",
       "    }\n",
       "\n",
       "    .dataframe tbody tr th {\n",
       "        vertical-align: top;\n",
       "    }\n",
       "\n",
       "    .dataframe thead th {\n",
       "        text-align: right;\n",
       "    }\n",
       "</style>\n",
       "<table border=\"1\" class=\"dataframe\">\n",
       "  <thead>\n",
       "    <tr style=\"text-align: right;\">\n",
       "      <th></th>\n",
       "      <th>bolsa_integral_cotas</th>\n",
       "      <th>uf_busca</th>\n",
       "    </tr>\n",
       "  </thead>\n",
       "  <tbody>\n",
       "    <tr>\n",
       "      <th>0</th>\n",
       "      <td>2</td>\n",
       "      <td>SP</td>\n",
       "    </tr>\n",
       "    <tr>\n",
       "      <th>1</th>\n",
       "      <td>4</td>\n",
       "      <td>AC</td>\n",
       "    </tr>\n",
       "    <tr>\n",
       "      <th>2</th>\n",
       "      <td>4</td>\n",
       "      <td>RJ</td>\n",
       "    </tr>\n",
       "    <tr>\n",
       "      <th>3</th>\n",
       "      <td>2</td>\n",
       "      <td>PA</td>\n",
       "    </tr>\n",
       "    <tr>\n",
       "      <th>4</th>\n",
       "      <td>3</td>\n",
       "      <td>MA</td>\n",
       "    </tr>\n",
       "  </tbody>\n",
       "</table>\n",
       "</div>"
      ]
     },
     "metadata": {
      "application/vnd.databricks.v1+output": {
       "addedWidgets": {},
       "arguments": {},
       "data": "<div>\n<style scoped>\n    .dataframe tbody tr th:only-of-type {\n        vertical-align: middle;\n    }\n\n    .dataframe tbody tr th {\n        vertical-align: top;\n    }\n\n    .dataframe thead th {\n        text-align: right;\n    }\n</style>\n<table border=\"1\" class=\"dataframe\">\n  <thead>\n    <tr style=\"text-align: right;\">\n      <th></th>\n      <th>bolsa_integral_cotas</th>\n      <th>uf_busca</th>\n    </tr>\n  </thead>\n  <tbody>\n    <tr>\n      <th>0</th>\n      <td>2</td>\n      <td>SP</td>\n    </tr>\n    <tr>\n      <th>1</th>\n      <td>4</td>\n      <td>AC</td>\n    </tr>\n    <tr>\n      <th>2</th>\n      <td>4</td>\n      <td>RJ</td>\n    </tr>\n    <tr>\n      <th>3</th>\n      <td>2</td>\n      <td>PA</td>\n    </tr>\n    <tr>\n      <th>4</th>\n      <td>3</td>\n      <td>MA</td>\n    </tr>\n  </tbody>\n</table>\n</div>",
       "datasetInfos": [],
       "metadata": {},
       "removedWidgets": [],
       "textData": null,
       "type": "htmlSandbox"
      }
     },
     "output_type": "display_data"
    }
   ],
   "source": [
    "# realizar uma query com SQL \n",
    "ps.sql('''\n",
    "SELECT bolsa_integral_cotas, uf_busca\n",
    "FROM {DF}\n",
    "WHERE nome_curso = 'Medicina'\n",
    "LIMIT 5;\n",
    "''', DF = df)"
   ]
  },
  {
   "cell_type": "code",
   "execution_count": 0,
   "metadata": {
    "application/vnd.databricks.v1+cell": {
     "cellMetadata": {
      "byteLimit": 2048000,
      "rowLimit": 10000
     },
     "inputWidgets": {},
     "nuid": "556f3cbb-317b-4483-b6f3-d38110adf4cf",
     "showTitle": false,
     "tableResultSettingsMap": {},
     "title": ""
    }
   },
   "outputs": [],
   "source": [
    "# Cotas ordenadas por estado\n",
    "cotas_ordenadas = ps.sql('''\n",
    "SELECT uf_busca, SUM(bolsa_integral_cotas) AS Total_de_cotas\n",
    "FROM {DF}\n",
    "WHERE nome_curso = 'Medicina'\n",
    "GROUP BY uf_busca\n",
    "ORDER BY Total_de_cotas DESC\n",
    "''', DF = df )"
   ]
  },
  {
   "cell_type": "code",
   "execution_count": 0,
   "metadata": {
    "application/vnd.databricks.v1+cell": {
     "cellMetadata": {
      "byteLimit": 2048000,
      "rowLimit": 10000
     },
     "inputWidgets": {},
     "nuid": "aec1b5b6-de9c-4def-99dd-ef163335a88d",
     "showTitle": false,
     "tableResultSettingsMap": {},
     "title": ""
    }
   },
   "outputs": [
    {
     "output_type": "display_data",
     "data": {
      "text/html": [
       "<div>\n",
       "<style scoped>\n",
       "    .dataframe tbody tr th:only-of-type {\n",
       "        vertical-align: middle;\n",
       "    }\n",
       "\n",
       "    .dataframe tbody tr th {\n",
       "        vertical-align: top;\n",
       "    }\n",
       "\n",
       "    .dataframe thead th {\n",
       "        text-align: right;\n",
       "    }\n",
       "</style>\n",
       "<table border=\"1\" class=\"dataframe\">\n",
       "  <thead>\n",
       "    <tr style=\"text-align: right;\">\n",
       "      <th></th>\n",
       "      <th>uf_busca</th>\n",
       "      <th>Total_de_cotas</th>\n",
       "    </tr>\n",
       "  </thead>\n",
       "  <tbody>\n",
       "    <tr>\n",
       "      <th>0</th>\n",
       "      <td>PB</td>\n",
       "      <td>8</td>\n",
       "    </tr>\n",
       "    <tr>\n",
       "      <th>1</th>\n",
       "      <td>MA</td>\n",
       "      <td>7</td>\n",
       "    </tr>\n",
       "    <tr>\n",
       "      <th>2</th>\n",
       "      <td>SP</td>\n",
       "      <td>6</td>\n",
       "    </tr>\n",
       "    <tr>\n",
       "      <th>3</th>\n",
       "      <td>RO</td>\n",
       "      <td>4</td>\n",
       "    </tr>\n",
       "    <tr>\n",
       "      <th>4</th>\n",
       "      <td>RJ</td>\n",
       "      <td>4</td>\n",
       "    </tr>\n",
       "  </tbody>\n",
       "</table>\n",
       "</div>"
      ]
     },
     "metadata": {
      "application/vnd.databricks.v1+output": {
       "addedWidgets": {},
       "arguments": {},
       "data": "<div>\n<style scoped>\n    .dataframe tbody tr th:only-of-type {\n        vertical-align: middle;\n    }\n\n    .dataframe tbody tr th {\n        vertical-align: top;\n    }\n\n    .dataframe thead th {\n        text-align: right;\n    }\n</style>\n<table border=\"1\" class=\"dataframe\">\n  <thead>\n    <tr style=\"text-align: right;\">\n      <th></th>\n      <th>uf_busca</th>\n      <th>Total_de_cotas</th>\n    </tr>\n  </thead>\n  <tbody>\n    <tr>\n      <th>0</th>\n      <td>PB</td>\n      <td>8</td>\n    </tr>\n    <tr>\n      <th>1</th>\n      <td>MA</td>\n      <td>7</td>\n    </tr>\n    <tr>\n      <th>2</th>\n      <td>SP</td>\n      <td>6</td>\n    </tr>\n    <tr>\n      <th>3</th>\n      <td>RO</td>\n      <td>4</td>\n    </tr>\n    <tr>\n      <th>4</th>\n      <td>RJ</td>\n      <td>4</td>\n    </tr>\n  </tbody>\n</table>\n</div>",
       "datasetInfos": [],
       "metadata": {},
       "removedWidgets": [],
       "textData": null,
       "type": "htmlSandbox"
      }
     },
     "output_type": "display_data"
    }
   ],
   "source": [
    "cotas_ordenadas.head()"
   ]
  },
  {
   "cell_type": "markdown",
   "metadata": {
    "application/vnd.databricks.v1+cell": {
     "cellMetadata": {
      "byteLimit": 2048000,
      "rowLimit": 10000
     },
     "inputWidgets": {},
     "nuid": "c3f0ed24-2692-421b-a62b-3d553ae8ae7f",
     "showTitle": false,
     "tableResultSettingsMap": {},
     "title": ""
    }
   },
   "source": [
    "Em relação às cotas é o que possui mais cotas e o Espírito Santo é o sétimo."
   ]
  },
  {
   "cell_type": "code",
   "execution_count": 0,
   "metadata": {
    "application/vnd.databricks.v1+cell": {
     "cellMetadata": {
      "byteLimit": 2048000,
      "rowLimit": 10000
     },
     "inputWidgets": {},
     "nuid": "1bb20ee4-2ee3-4e2a-929d-d90ddfcdf343",
     "showTitle": false,
     "tableResultSettingsMap": {},
     "title": ""
    }
   },
   "outputs": [
    {
     "output_type": "display_data",
     "data": {
      "text/html": [
       "<html>\n",
       "<head><meta charset=\"utf-8\" /></head>\n",
       "<body>\n",
       "    <div>            <script src=\"https://cdnjs.cloudflare.com/ajax/libs/mathjax/2.7.5/MathJax.js?config=TeX-AMS-MML_SVG\"></script><script type=\"text/javascript\">if (window.MathJax) {MathJax.Hub.Config({SVG: {font: \"STIX-Web\"}});}</script>                <script type=\"text/javascript\">window.PlotlyConfig = {MathJaxConfig: 'local'};</script>\n",
       "        <script src=\"https://cdn.plot.ly/plotly-2.9.0.min.js\"></script>                <div id=\"0a1d9e52-784f-4d6a-a842-95a42ebed7a7\" class=\"plotly-graph-div\" style=\"height:100%; width:100%;\"></div>            <script type=\"text/javascript\">                                    window.PLOTLYENV=window.PLOTLYENV || {};                                    if (document.getElementById(\"0a1d9e52-784f-4d6a-a842-95a42ebed7a7\")) {                    Plotly.newPlot(                        \"0a1d9e52-784f-4d6a-a842-95a42ebed7a7\",                        [{\"alignmentgroup\":\"True\",\"hovertemplate\":\"uf_busca=%{x}<br>Total_de_cotas=%{y}<extra></extra>\",\"legendgroup\":\"\",\"marker\":{\"color\":\"#636efa\",\"pattern\":{\"shape\":\"\"}},\"name\":\"\",\"offsetgroup\":\"\",\"orientation\":\"v\",\"showlegend\":false,\"textposition\":\"auto\",\"x\":[\"PB\",\"MA\",\"SP\",\"RO\",\"RJ\",\"AC\",\"ES\",\"MG\",\"PA\",\"PR\"],\"xaxis\":\"x\",\"y\":[8,7,6,4,4,4,3,2,2,2],\"yaxis\":\"y\",\"type\":\"bar\"}],                        {\"template\":{\"data\":{\"bar\":[{\"error_x\":{\"color\":\"#2a3f5f\"},\"error_y\":{\"color\":\"#2a3f5f\"},\"marker\":{\"line\":{\"color\":\"#E5ECF6\",\"width\":0.5},\"pattern\":{\"fillmode\":\"overlay\",\"size\":10,\"solidity\":0.2}},\"type\":\"bar\"}],\"barpolar\":[{\"marker\":{\"line\":{\"color\":\"#E5ECF6\",\"width\":0.5},\"pattern\":{\"fillmode\":\"overlay\",\"size\":10,\"solidity\":0.2}},\"type\":\"barpolar\"}],\"carpet\":[{\"aaxis\":{\"endlinecolor\":\"#2a3f5f\",\"gridcolor\":\"white\",\"linecolor\":\"white\",\"minorgridcolor\":\"white\",\"startlinecolor\":\"#2a3f5f\"},\"baxis\":{\"endlinecolor\":\"#2a3f5f\",\"gridcolor\":\"white\",\"linecolor\":\"white\",\"minorgridcolor\":\"white\",\"startlinecolor\":\"#2a3f5f\"},\"type\":\"carpet\"}],\"choropleth\":[{\"colorbar\":{\"outlinewidth\":0,\"ticks\":\"\"},\"type\":\"choropleth\"}],\"contour\":[{\"colorbar\":{\"outlinewidth\":0,\"ticks\":\"\"},\"colorscale\":[[0.0,\"#0d0887\"],[0.1111111111111111,\"#46039f\"],[0.2222222222222222,\"#7201a8\"],[0.3333333333333333,\"#9c179e\"],[0.4444444444444444,\"#bd3786\"],[0.5555555555555556,\"#d8576b\"],[0.6666666666666666,\"#ed7953\"],[0.7777777777777778,\"#fb9f3a\"],[0.8888888888888888,\"#fdca26\"],[1.0,\"#f0f921\"]],\"type\":\"contour\"}],\"contourcarpet\":[{\"colorbar\":{\"outlinewidth\":0,\"ticks\":\"\"},\"type\":\"contourcarpet\"}],\"heatmap\":[{\"colorbar\":{\"outlinewidth\":0,\"ticks\":\"\"},\"colorscale\":[[0.0,\"#0d0887\"],[0.1111111111111111,\"#46039f\"],[0.2222222222222222,\"#7201a8\"],[0.3333333333333333,\"#9c179e\"],[0.4444444444444444,\"#bd3786\"],[0.5555555555555556,\"#d8576b\"],[0.6666666666666666,\"#ed7953\"],[0.7777777777777778,\"#fb9f3a\"],[0.8888888888888888,\"#fdca26\"],[1.0,\"#f0f921\"]],\"type\":\"heatmap\"}],\"heatmapgl\":[{\"colorbar\":{\"outlinewidth\":0,\"ticks\":\"\"},\"colorscale\":[[0.0,\"#0d0887\"],[0.1111111111111111,\"#46039f\"],[0.2222222222222222,\"#7201a8\"],[0.3333333333333333,\"#9c179e\"],[0.4444444444444444,\"#bd3786\"],[0.5555555555555556,\"#d8576b\"],[0.6666666666666666,\"#ed7953\"],[0.7777777777777778,\"#fb9f3a\"],[0.8888888888888888,\"#fdca26\"],[1.0,\"#f0f921\"]],\"type\":\"heatmapgl\"}],\"histogram\":[{\"marker\":{\"pattern\":{\"fillmode\":\"overlay\",\"size\":10,\"solidity\":0.2}},\"type\":\"histogram\"}],\"histogram2d\":[{\"colorbar\":{\"outlinewidth\":0,\"ticks\":\"\"},\"colorscale\":[[0.0,\"#0d0887\"],[0.1111111111111111,\"#46039f\"],[0.2222222222222222,\"#7201a8\"],[0.3333333333333333,\"#9c179e\"],[0.4444444444444444,\"#bd3786\"],[0.5555555555555556,\"#d8576b\"],[0.6666666666666666,\"#ed7953\"],[0.7777777777777778,\"#fb9f3a\"],[0.8888888888888888,\"#fdca26\"],[1.0,\"#f0f921\"]],\"type\":\"histogram2d\"}],\"histogram2dcontour\":[{\"colorbar\":{\"outlinewidth\":0,\"ticks\":\"\"},\"colorscale\":[[0.0,\"#0d0887\"],[0.1111111111111111,\"#46039f\"],[0.2222222222222222,\"#7201a8\"],[0.3333333333333333,\"#9c179e\"],[0.4444444444444444,\"#bd3786\"],[0.5555555555555556,\"#d8576b\"],[0.6666666666666666,\"#ed7953\"],[0.7777777777777778,\"#fb9f3a\"],[0.8888888888888888,\"#fdca26\"],[1.0,\"#f0f921\"]],\"type\":\"histogram2dcontour\"}],\"mesh3d\":[{\"colorbar\":{\"outlinewidth\":0,\"ticks\":\"\"},\"type\":\"mesh3d\"}],\"parcoords\":[{\"line\":{\"colorbar\":{\"outlinewidth\":0,\"ticks\":\"\"}},\"type\":\"parcoords\"}],\"pie\":[{\"automargin\":true,\"type\":\"pie\"}],\"scatter\":[{\"marker\":{\"colorbar\":{\"outlinewidth\":0,\"ticks\":\"\"}},\"type\":\"scatter\"}],\"scatter3d\":[{\"line\":{\"colorbar\":{\"outlinewidth\":0,\"ticks\":\"\"}},\"marker\":{\"colorbar\":{\"outlinewidth\":0,\"ticks\":\"\"}},\"type\":\"scatter3d\"}],\"scattercarpet\":[{\"marker\":{\"colorbar\":{\"outlinewidth\":0,\"ticks\":\"\"}},\"type\":\"scattercarpet\"}],\"scattergeo\":[{\"marker\":{\"colorbar\":{\"outlinewidth\":0,\"ticks\":\"\"}},\"type\":\"scattergeo\"}],\"scattergl\":[{\"marker\":{\"colorbar\":{\"outlinewidth\":0,\"ticks\":\"\"}},\"type\":\"scattergl\"}],\"scattermapbox\":[{\"marker\":{\"colorbar\":{\"outlinewidth\":0,\"ticks\":\"\"}},\"type\":\"scattermapbox\"}],\"scatterpolar\":[{\"marker\":{\"colorbar\":{\"outlinewidth\":0,\"ticks\":\"\"}},\"type\":\"scatterpolar\"}],\"scatterpolargl\":[{\"marker\":{\"colorbar\":{\"outlinewidth\":0,\"ticks\":\"\"}},\"type\":\"scatterpolargl\"}],\"scatterternary\":[{\"marker\":{\"colorbar\":{\"outlinewidth\":0,\"ticks\":\"\"}},\"type\":\"scatterternary\"}],\"surface\":[{\"colorbar\":{\"outlinewidth\":0,\"ticks\":\"\"},\"colorscale\":[[0.0,\"#0d0887\"],[0.1111111111111111,\"#46039f\"],[0.2222222222222222,\"#7201a8\"],[0.3333333333333333,\"#9c179e\"],[0.4444444444444444,\"#bd3786\"],[0.5555555555555556,\"#d8576b\"],[0.6666666666666666,\"#ed7953\"],[0.7777777777777778,\"#fb9f3a\"],[0.8888888888888888,\"#fdca26\"],[1.0,\"#f0f921\"]],\"type\":\"surface\"}],\"table\":[{\"cells\":{\"fill\":{\"color\":\"#EBF0F8\"},\"line\":{\"color\":\"white\"}},\"header\":{\"fill\":{\"color\":\"#C8D4E3\"},\"line\":{\"color\":\"white\"}},\"type\":\"table\"}]},\"layout\":{\"annotationdefaults\":{\"arrowcolor\":\"#2a3f5f\",\"arrowhead\":0,\"arrowwidth\":1},\"autotypenumbers\":\"strict\",\"coloraxis\":{\"colorbar\":{\"outlinewidth\":0,\"ticks\":\"\"}},\"colorscale\":{\"diverging\":[[0,\"#8e0152\"],[0.1,\"#c51b7d\"],[0.2,\"#de77ae\"],[0.3,\"#f1b6da\"],[0.4,\"#fde0ef\"],[0.5,\"#f7f7f7\"],[0.6,\"#e6f5d0\"],[0.7,\"#b8e186\"],[0.8,\"#7fbc41\"],[0.9,\"#4d9221\"],[1,\"#276419\"]],\"sequential\":[[0.0,\"#0d0887\"],[0.1111111111111111,\"#46039f\"],[0.2222222222222222,\"#7201a8\"],[0.3333333333333333,\"#9c179e\"],[0.4444444444444444,\"#bd3786\"],[0.5555555555555556,\"#d8576b\"],[0.6666666666666666,\"#ed7953\"],[0.7777777777777778,\"#fb9f3a\"],[0.8888888888888888,\"#fdca26\"],[1.0,\"#f0f921\"]],\"sequentialminus\":[[0.0,\"#0d0887\"],[0.1111111111111111,\"#46039f\"],[0.2222222222222222,\"#7201a8\"],[0.3333333333333333,\"#9c179e\"],[0.4444444444444444,\"#bd3786\"],[0.5555555555555556,\"#d8576b\"],[0.6666666666666666,\"#ed7953\"],[0.7777777777777778,\"#fb9f3a\"],[0.8888888888888888,\"#fdca26\"],[1.0,\"#f0f921\"]]},\"colorway\":[\"#636efa\",\"#EF553B\",\"#00cc96\",\"#ab63fa\",\"#FFA15A\",\"#19d3f3\",\"#FF6692\",\"#B6E880\",\"#FF97FF\",\"#FECB52\"],\"font\":{\"color\":\"#2a3f5f\"},\"geo\":{\"bgcolor\":\"white\",\"lakecolor\":\"white\",\"landcolor\":\"#E5ECF6\",\"showlakes\":true,\"showland\":true,\"subunitcolor\":\"white\"},\"hoverlabel\":{\"align\":\"left\"},\"hovermode\":\"closest\",\"mapbox\":{\"style\":\"light\"},\"paper_bgcolor\":\"white\",\"plot_bgcolor\":\"#E5ECF6\",\"polar\":{\"angularaxis\":{\"gridcolor\":\"white\",\"linecolor\":\"white\",\"ticks\":\"\"},\"bgcolor\":\"#E5ECF6\",\"radialaxis\":{\"gridcolor\":\"white\",\"linecolor\":\"white\",\"ticks\":\"\"}},\"scene\":{\"xaxis\":{\"backgroundcolor\":\"#E5ECF6\",\"gridcolor\":\"white\",\"gridwidth\":2,\"linecolor\":\"white\",\"showbackground\":true,\"ticks\":\"\",\"zerolinecolor\":\"white\"},\"yaxis\":{\"backgroundcolor\":\"#E5ECF6\",\"gridcolor\":\"white\",\"gridwidth\":2,\"linecolor\":\"white\",\"showbackground\":true,\"ticks\":\"\",\"zerolinecolor\":\"white\"},\"zaxis\":{\"backgroundcolor\":\"#E5ECF6\",\"gridcolor\":\"white\",\"gridwidth\":2,\"linecolor\":\"white\",\"showbackground\":true,\"ticks\":\"\",\"zerolinecolor\":\"white\"}},\"shapedefaults\":{\"line\":{\"color\":\"#2a3f5f\"}},\"ternary\":{\"aaxis\":{\"gridcolor\":\"white\",\"linecolor\":\"white\",\"ticks\":\"\"},\"baxis\":{\"gridcolor\":\"white\",\"linecolor\":\"white\",\"ticks\":\"\"},\"bgcolor\":\"#E5ECF6\",\"caxis\":{\"gridcolor\":\"white\",\"linecolor\":\"white\",\"ticks\":\"\"}},\"title\":{\"x\":0.05},\"xaxis\":{\"automargin\":true,\"gridcolor\":\"white\",\"linecolor\":\"white\",\"ticks\":\"\",\"title\":{\"standoff\":15},\"zerolinecolor\":\"white\",\"zerolinewidth\":2},\"yaxis\":{\"automargin\":true,\"gridcolor\":\"white\",\"linecolor\":\"white\",\"ticks\":\"\",\"title\":{\"standoff\":15},\"zerolinecolor\":\"white\",\"zerolinewidth\":2}}},\"xaxis\":{\"anchor\":\"y\",\"domain\":[0.0,1.0],\"title\":{\"text\":\"uf_busca\"}},\"yaxis\":{\"anchor\":\"x\",\"domain\":[0.0,1.0],\"title\":{\"text\":\"Total_de_cotas\"}},\"legend\":{\"tracegroupgap\":0},\"margin\":{\"t\":60},\"barmode\":\"relative\"},                        {\"responsive\": true}                    )                };                            </script>        </div>\n",
       "</body>\n",
       "</html>"
      ]
     },
     "metadata": {
      "application/vnd.databricks.v1+output": {
       "addedWidgets": {},
       "arguments": {},
       "data": "<html>\n<head><meta charset=\"utf-8\" /></head>\n<body>\n    <div>            <script src=\"https://cdnjs.cloudflare.com/ajax/libs/mathjax/2.7.5/MathJax.js?config=TeX-AMS-MML_SVG\"></script><script type=\"text/javascript\">if (window.MathJax) {MathJax.Hub.Config({SVG: {font: \"STIX-Web\"}});}</script>                <script type=\"text/javascript\">window.PlotlyConfig = {MathJaxConfig: 'local'};</script>\n        <script src=\"https://cdn.plot.ly/plotly-2.9.0.min.js\"></script>                <div id=\"0a1d9e52-784f-4d6a-a842-95a42ebed7a7\" class=\"plotly-graph-div\" style=\"height:100%; width:100%;\"></div>            <script type=\"text/javascript\">                                    window.PLOTLYENV=window.PLOTLYENV || {};                                    if (document.getElementById(\"0a1d9e52-784f-4d6a-a842-95a42ebed7a7\")) {                    Plotly.newPlot(                        \"0a1d9e52-784f-4d6a-a842-95a42ebed7a7\",                        [{\"alignmentgroup\":\"True\",\"hovertemplate\":\"uf_busca=%{x}<br>Total_de_cotas=%{y}<extra></extra>\",\"legendgroup\":\"\",\"marker\":{\"color\":\"#636efa\",\"pattern\":{\"shape\":\"\"}},\"name\":\"\",\"offsetgroup\":\"\",\"orientation\":\"v\",\"showlegend\":false,\"textposition\":\"auto\",\"x\":[\"PB\",\"MA\",\"SP\",\"RO\",\"RJ\",\"AC\",\"ES\",\"MG\",\"PA\",\"PR\"],\"xaxis\":\"x\",\"y\":[8,7,6,4,4,4,3,2,2,2],\"yaxis\":\"y\",\"type\":\"bar\"}],                        {\"template\":{\"data\":{\"bar\":[{\"error_x\":{\"color\":\"#2a3f5f\"},\"error_y\":{\"color\":\"#2a3f5f\"},\"marker\":{\"line\":{\"color\":\"#E5ECF6\",\"width\":0.5},\"pattern\":{\"fillmode\":\"overlay\",\"size\":10,\"solidity\":0.2}},\"type\":\"bar\"}],\"barpolar\":[{\"marker\":{\"line\":{\"color\":\"#E5ECF6\",\"width\":0.5},\"pattern\":{\"fillmode\":\"overlay\",\"size\":10,\"solidity\":0.2}},\"type\":\"barpolar\"}],\"carpet\":[{\"aaxis\":{\"endlinecolor\":\"#2a3f5f\",\"gridcolor\":\"white\",\"linecolor\":\"white\",\"minorgridcolor\":\"white\",\"startlinecolor\":\"#2a3f5f\"},\"baxis\":{\"endlinecolor\":\"#2a3f5f\",\"gridcolor\":\"white\",\"linecolor\":\"white\",\"minorgridcolor\":\"white\",\"startlinecolor\":\"#2a3f5f\"},\"type\":\"carpet\"}],\"choropleth\":[{\"colorbar\":{\"outlinewidth\":0,\"ticks\":\"\"},\"type\":\"choropleth\"}],\"contour\":[{\"colorbar\":{\"outlinewidth\":0,\"ticks\":\"\"},\"colorscale\":[[0.0,\"#0d0887\"],[0.1111111111111111,\"#46039f\"],[0.2222222222222222,\"#7201a8\"],[0.3333333333333333,\"#9c179e\"],[0.4444444444444444,\"#bd3786\"],[0.5555555555555556,\"#d8576b\"],[0.6666666666666666,\"#ed7953\"],[0.7777777777777778,\"#fb9f3a\"],[0.8888888888888888,\"#fdca26\"],[1.0,\"#f0f921\"]],\"type\":\"contour\"}],\"contourcarpet\":[{\"colorbar\":{\"outlinewidth\":0,\"ticks\":\"\"},\"type\":\"contourcarpet\"}],\"heatmap\":[{\"colorbar\":{\"outlinewidth\":0,\"ticks\":\"\"},\"colorscale\":[[0.0,\"#0d0887\"],[0.1111111111111111,\"#46039f\"],[0.2222222222222222,\"#7201a8\"],[0.3333333333333333,\"#9c179e\"],[0.4444444444444444,\"#bd3786\"],[0.5555555555555556,\"#d8576b\"],[0.6666666666666666,\"#ed7953\"],[0.7777777777777778,\"#fb9f3a\"],[0.8888888888888888,\"#fdca26\"],[1.0,\"#f0f921\"]],\"type\":\"heatmap\"}],\"heatmapgl\":[{\"colorbar\":{\"outlinewidth\":0,\"ticks\":\"\"},\"colorscale\":[[0.0,\"#0d0887\"],[0.1111111111111111,\"#46039f\"],[0.2222222222222222,\"#7201a8\"],[0.3333333333333333,\"#9c179e\"],[0.4444444444444444,\"#bd3786\"],[0.5555555555555556,\"#d8576b\"],[0.6666666666666666,\"#ed7953\"],[0.7777777777777778,\"#fb9f3a\"],[0.8888888888888888,\"#fdca26\"],[1.0,\"#f0f921\"]],\"type\":\"heatmapgl\"}],\"histogram\":[{\"marker\":{\"pattern\":{\"fillmode\":\"overlay\",\"size\":10,\"solidity\":0.2}},\"type\":\"histogram\"}],\"histogram2d\":[{\"colorbar\":{\"outlinewidth\":0,\"ticks\":\"\"},\"colorscale\":[[0.0,\"#0d0887\"],[0.1111111111111111,\"#46039f\"],[0.2222222222222222,\"#7201a8\"],[0.3333333333333333,\"#9c179e\"],[0.4444444444444444,\"#bd3786\"],[0.5555555555555556,\"#d8576b\"],[0.6666666666666666,\"#ed7953\"],[0.7777777777777778,\"#fb9f3a\"],[0.8888888888888888,\"#fdca26\"],[1.0,\"#f0f921\"]],\"type\":\"histogram2d\"}],\"histogram2dcontour\":[{\"colorbar\":{\"outlinewidth\":0,\"ticks\":\"\"},\"colorscale\":[[0.0,\"#0d0887\"],[0.1111111111111111,\"#46039f\"],[0.2222222222222222,\"#7201a8\"],[0.3333333333333333,\"#9c179e\"],[0.4444444444444444,\"#bd3786\"],[0.5555555555555556,\"#d8576b\"],[0.6666666666666666,\"#ed7953\"],[0.7777777777777778,\"#fb9f3a\"],[0.8888888888888888,\"#fdca26\"],[1.0,\"#f0f921\"]],\"type\":\"histogram2dcontour\"}],\"mesh3d\":[{\"colorbar\":{\"outlinewidth\":0,\"ticks\":\"\"},\"type\":\"mesh3d\"}],\"parcoords\":[{\"line\":{\"colorbar\":{\"outlinewidth\":0,\"ticks\":\"\"}},\"type\":\"parcoords\"}],\"pie\":[{\"automargin\":true,\"type\":\"pie\"}],\"scatter\":[{\"marker\":{\"colorbar\":{\"outlinewidth\":0,\"ticks\":\"\"}},\"type\":\"scatter\"}],\"scatter3d\":[{\"line\":{\"colorbar\":{\"outlinewidth\":0,\"ticks\":\"\"}},\"marker\":{\"colorbar\":{\"outlinewidth\":0,\"ticks\":\"\"}},\"type\":\"scatter3d\"}],\"scattercarpet\":[{\"marker\":{\"colorbar\":{\"outlinewidth\":0,\"ticks\":\"\"}},\"type\":\"scattercarpet\"}],\"scattergeo\":[{\"marker\":{\"colorbar\":{\"outlinewidth\":0,\"ticks\":\"\"}},\"type\":\"scattergeo\"}],\"scattergl\":[{\"marker\":{\"colorbar\":{\"outlinewidth\":0,\"ticks\":\"\"}},\"type\":\"scattergl\"}],\"scattermapbox\":[{\"marker\":{\"colorbar\":{\"outlinewidth\":0,\"ticks\":\"\"}},\"type\":\"scattermapbox\"}],\"scatterpolar\":[{\"marker\":{\"colorbar\":{\"outlinewidth\":0,\"ticks\":\"\"}},\"type\":\"scatterpolar\"}],\"scatterpolargl\":[{\"marker\":{\"colorbar\":{\"outlinewidth\":0,\"ticks\":\"\"}},\"type\":\"scatterpolargl\"}],\"scatterternary\":[{\"marker\":{\"colorbar\":{\"outlinewidth\":0,\"ticks\":\"\"}},\"type\":\"scatterternary\"}],\"surface\":[{\"colorbar\":{\"outlinewidth\":0,\"ticks\":\"\"},\"colorscale\":[[0.0,\"#0d0887\"],[0.1111111111111111,\"#46039f\"],[0.2222222222222222,\"#7201a8\"],[0.3333333333333333,\"#9c179e\"],[0.4444444444444444,\"#bd3786\"],[0.5555555555555556,\"#d8576b\"],[0.6666666666666666,\"#ed7953\"],[0.7777777777777778,\"#fb9f3a\"],[0.8888888888888888,\"#fdca26\"],[1.0,\"#f0f921\"]],\"type\":\"surface\"}],\"table\":[{\"cells\":{\"fill\":{\"color\":\"#EBF0F8\"},\"line\":{\"color\":\"white\"}},\"header\":{\"fill\":{\"color\":\"#C8D4E3\"},\"line\":{\"color\":\"white\"}},\"type\":\"table\"}]},\"layout\":{\"annotationdefaults\":{\"arrowcolor\":\"#2a3f5f\",\"arrowhead\":0,\"arrowwidth\":1},\"autotypenumbers\":\"strict\",\"coloraxis\":{\"colorbar\":{\"outlinewidth\":0,\"ticks\":\"\"}},\"colorscale\":{\"diverging\":[[0,\"#8e0152\"],[0.1,\"#c51b7d\"],[0.2,\"#de77ae\"],[0.3,\"#f1b6da\"],[0.4,\"#fde0ef\"],[0.5,\"#f7f7f7\"],[0.6,\"#e6f5d0\"],[0.7,\"#b8e186\"],[0.8,\"#7fbc41\"],[0.9,\"#4d9221\"],[1,\"#276419\"]],\"sequential\":[[0.0,\"#0d0887\"],[0.1111111111111111,\"#46039f\"],[0.2222222222222222,\"#7201a8\"],[0.3333333333333333,\"#9c179e\"],[0.4444444444444444,\"#bd3786\"],[0.5555555555555556,\"#d8576b\"],[0.6666666666666666,\"#ed7953\"],[0.7777777777777778,\"#fb9f3a\"],[0.8888888888888888,\"#fdca26\"],[1.0,\"#f0f921\"]],\"sequentialminus\":[[0.0,\"#0d0887\"],[0.1111111111111111,\"#46039f\"],[0.2222222222222222,\"#7201a8\"],[0.3333333333333333,\"#9c179e\"],[0.4444444444444444,\"#bd3786\"],[0.5555555555555556,\"#d8576b\"],[0.6666666666666666,\"#ed7953\"],[0.7777777777777778,\"#fb9f3a\"],[0.8888888888888888,\"#fdca26\"],[1.0,\"#f0f921\"]]},\"colorway\":[\"#636efa\",\"#EF553B\",\"#00cc96\",\"#ab63fa\",\"#FFA15A\",\"#19d3f3\",\"#FF6692\",\"#B6E880\",\"#FF97FF\",\"#FECB52\"],\"font\":{\"color\":\"#2a3f5f\"},\"geo\":{\"bgcolor\":\"white\",\"lakecolor\":\"white\",\"landcolor\":\"#E5ECF6\",\"showlakes\":true,\"showland\":true,\"subunitcolor\":\"white\"},\"hoverlabel\":{\"align\":\"left\"},\"hovermode\":\"closest\",\"mapbox\":{\"style\":\"light\"},\"paper_bgcolor\":\"white\",\"plot_bgcolor\":\"#E5ECF6\",\"polar\":{\"angularaxis\":{\"gridcolor\":\"white\",\"linecolor\":\"white\",\"ticks\":\"\"},\"bgcolor\":\"#E5ECF6\",\"radialaxis\":{\"gridcolor\":\"white\",\"linecolor\":\"white\",\"ticks\":\"\"}},\"scene\":{\"xaxis\":{\"backgroundcolor\":\"#E5ECF6\",\"gridcolor\":\"white\",\"gridwidth\":2,\"linecolor\":\"white\",\"showbackground\":true,\"ticks\":\"\",\"zerolinecolor\":\"white\"},\"yaxis\":{\"backgroundcolor\":\"#E5ECF6\",\"gridcolor\":\"white\",\"gridwidth\":2,\"linecolor\":\"white\",\"showbackground\":true,\"ticks\":\"\",\"zerolinecolor\":\"white\"},\"zaxis\":{\"backgroundcolor\":\"#E5ECF6\",\"gridcolor\":\"white\",\"gridwidth\":2,\"linecolor\":\"white\",\"showbackground\":true,\"ticks\":\"\",\"zerolinecolor\":\"white\"}},\"shapedefaults\":{\"line\":{\"color\":\"#2a3f5f\"}},\"ternary\":{\"aaxis\":{\"gridcolor\":\"white\",\"linecolor\":\"white\",\"ticks\":\"\"},\"baxis\":{\"gridcolor\":\"white\",\"linecolor\":\"white\",\"ticks\":\"\"},\"bgcolor\":\"#E5ECF6\",\"caxis\":{\"gridcolor\":\"white\",\"linecolor\":\"white\",\"ticks\":\"\"}},\"title\":{\"x\":0.05},\"xaxis\":{\"automargin\":true,\"gridcolor\":\"white\",\"linecolor\":\"white\",\"ticks\":\"\",\"title\":{\"standoff\":15},\"zerolinecolor\":\"white\",\"zerolinewidth\":2},\"yaxis\":{\"automargin\":true,\"gridcolor\":\"white\",\"linecolor\":\"white\",\"ticks\":\"\",\"title\":{\"standoff\":15},\"zerolinecolor\":\"white\",\"zerolinewidth\":2}}},\"xaxis\":{\"anchor\":\"y\",\"domain\":[0.0,1.0],\"title\":{\"text\":\"uf_busca\"}},\"yaxis\":{\"anchor\":\"x\",\"domain\":[0.0,1.0],\"title\":{\"text\":\"Total_de_cotas\"}},\"legend\":{\"tracegroupgap\":0},\"margin\":{\"t\":60},\"barmode\":\"relative\"},                        {\"responsive\": true}                    )                };                            </script>        </div>\n</body>\n</html>",
       "datasetInfos": [],
       "metadata": {},
       "removedWidgets": [],
       "textData": null,
       "type": "htmlSandbox"
      }
     },
     "output_type": "display_data"
    }
   ],
   "source": [
    "# Visualizando as informações - Gráfico de barras\n",
    "cotas_ordenadas.plot.bar(x = 'uf_busca', y = 'Total_de_cotas')"
   ]
  },
  {
   "cell_type": "code",
   "execution_count": 0,
   "metadata": {
    "application/vnd.databricks.v1+cell": {
     "cellMetadata": {
      "byteLimit": 2048000,
      "rowLimit": 10000
     },
     "inputWidgets": {},
     "nuid": "6d386f88-6869-452d-81e9-d4d68ff4c0ff",
     "showTitle": false,
     "tableResultSettingsMap": {},
     "title": ""
    }
   },
   "outputs": [
    {
     "output_type": "stream",
     "name": "stdout",
     "output_type": "stream",
     "text": [
      "Out[43]: 0          Sao Luis\n1       Joao Pessoa\n2             Belem\n3         Itaperuna\n4           Vitoria\n5            Franca\n6         Sao Paulo\n7        Guarapuava\n8      Campo Mourao\n9     Montes Claros\n10       Rio Branco\n11       Imperatriz\n12       Vespasiano\n13      Porto Velho\nName: cidade_busca, dtype: object"
     ]
    }
   ],
   "source": [
    "df_medicina['cidade_busca'].unique()"
   ]
  },
  {
   "cell_type": "code",
   "execution_count": 0,
   "metadata": {
    "application/vnd.databricks.v1+cell": {
     "cellMetadata": {
      "byteLimit": 2048000,
      "rowLimit": 10000
     },
     "inputWidgets": {},
     "nuid": "48ebc6bc-ae2b-4c85-9942-ba93fc32fef4",
     "showTitle": false,
     "tableResultSettingsMap": {},
     "title": ""
    }
   },
   "outputs": [],
   "source": [
    "nomes_cidades = {\n",
    "\"Sao Luis\": \"Capital\",\n",
    "\"Joao Pessoa\": \"Município\",\n",
    "\"Belem\": \"Capital\",\n",
    "\"Itaperuna\": \"Município\",\n",
    "\"Vitoria\": \"Município\",\n",
    "\"Franca\": \"Município\",\n",
    "\"Sao Paulo\": \"Capital\",\n",
    "\"Guarapuava\": \"Município\",\n",
    "\"Campo Mourao\": \"Município\",\n",
    "\"Montes Claros\": \"Município\",\n",
    "\"Rio Branco\": \"Município\",\n",
    "\"Imperatriz\": \"Município\",\n",
    "\"Vespasiano\": \"Município\",\n",
    "\"Porto Velho\": \"Município\"\n",
    "}"
   ]
  },
  {
   "cell_type": "code",
   "execution_count": 0,
   "metadata": {
    "application/vnd.databricks.v1+cell": {
     "cellMetadata": {
      "byteLimit": 2048000,
      "rowLimit": 10000
     },
     "inputWidgets": {},
     "nuid": "be554d06-d319-4092-9741-5a5722da25c6",
     "showTitle": false,
     "tableResultSettingsMap": {},
     "title": ""
    }
   },
   "outputs": [
    {
     "output_type": "stream",
     "name": "stdout",
     "output_type": "stream",
     "text": [
      "Out[45]: 22       Capital\n71     Município\n87     Município\n107    Município\n10     Município\n120    Município\n80     Município\n2        Capital\n4      Município\n13       Capital\n21       Capital\n42     Município\n20     Município\n60     Município\n24     Município\nName: cidade_busca, dtype: object"
     ]
    }
   ],
   "source": [
    "capitais = df_medicina['cidade_busca'].map(nomes_cidades)\n",
    "capitais"
   ]
  },
  {
   "cell_type": "code",
   "execution_count": 0,
   "metadata": {
    "application/vnd.databricks.v1+cell": {
     "cellMetadata": {
      "byteLimit": 2048000,
      "rowLimit": 10000
     },
     "inputWidgets": {},
     "nuid": "d4091714-4716-4e32-b30d-0c6efd771529",
     "showTitle": false,
     "tableResultSettingsMap": {},
     "title": ""
    }
   },
   "outputs": [],
   "source": [
    "df_medicina.insert(loc=8,column='tipo_cidade',value=capitais)"
   ]
  },
  {
   "cell_type": "code",
   "execution_count": 0,
   "metadata": {
    "application/vnd.databricks.v1+cell": {
     "cellMetadata": {
      "byteLimit": 2048000,
      "rowLimit": 10000
     },
     "inputWidgets": {},
     "nuid": "749ea6ca-fb84-404a-a855-d4bb88c1384b",
     "showTitle": false,
     "tableResultSettingsMap": {},
     "title": ""
    }
   },
   "outputs": [
    {
     "output_type": "display_data",
     "data": {
      "text/html": [
       "<div>\n",
       "<style scoped>\n",
       "    .dataframe tbody tr th:only-of-type {\n",
       "        vertical-align: middle;\n",
       "    }\n",
       "\n",
       "    .dataframe tbody tr th {\n",
       "        vertical-align: top;\n",
       "    }\n",
       "\n",
       "    .dataframe thead th {\n",
       "        text-align: right;\n",
       "    }\n",
       "</style>\n",
       "<table border=\"1\" class=\"dataframe\">\n",
       "  <thead>\n",
       "    <tr style=\"text-align: right;\">\n",
       "      <th></th>\n",
       "      <th>curso_id</th>\n",
       "      <th>grau</th>\n",
       "      <th>turno</th>\n",
       "      <th>mensalidade</th>\n",
       "      <th>bolsa_integral_cotas</th>\n",
       "      <th>bolsa_integral_ampla</th>\n",
       "      <th>bolsa_parcial_cotas</th>\n",
       "      <th>bolsa_parcial_ampla</th>\n",
       "      <th>tipo_cidade</th>\n",
       "      <th>cidade_busca</th>\n",
       "      <th>uf_busca</th>\n",
       "      <th>cidade_filtro</th>\n",
       "      <th>universidade_nome</th>\n",
       "      <th>campus_nome</th>\n",
       "      <th>campus_id</th>\n",
       "      <th>nome_curso</th>\n",
       "      <th>nota_integral_ampla</th>\n",
       "      <th>nota_integral_cotas</th>\n",
       "      <th>nota_parcial_ampla</th>\n",
       "      <th>nota_parcial_cotas</th>\n",
       "    </tr>\n",
       "  </thead>\n",
       "  <tbody>\n",
       "    <tr>\n",
       "      <th>22</th>\n",
       "      <td>105596711902804</td>\n",
       "      <td>Bacharelado</td>\n",
       "      <td>Integral</td>\n",
       "      <td>8300.00</td>\n",
       "      <td>2</td>\n",
       "      <td>3</td>\n",
       "      <td>4</td>\n",
       "      <td>7</td>\n",
       "      <td>Capital</td>\n",
       "      <td>Sao Paulo</td>\n",
       "      <td>SP</td>\n",
       "      <td>MzUxNTA2MTUwMzA4</td>\n",
       "      <td>Faculdade das Américas - FAM</td>\n",
       "      <td>RUA AUGUSTA - Consolação</td>\n",
       "      <td>1055967</td>\n",
       "      <td>Medicina</td>\n",
       "      <td>735.84</td>\n",
       "      <td>724.70</td>\n",
       "      <td>738.42</td>\n",
       "      <td>723.28</td>\n",
       "    </tr>\n",
       "    <tr>\n",
       "      <th>71</th>\n",
       "      <td>65793650009334</td>\n",
       "      <td>Bacharelado</td>\n",
       "      <td>Integral</td>\n",
       "      <td>7316.79</td>\n",
       "      <td>2</td>\n",
       "      <td>3</td>\n",
       "      <td>4</td>\n",
       "      <td>8</td>\n",
       "      <td>Município</td>\n",
       "      <td>Franca</td>\n",
       "      <td>SP</td>\n",
       "      <td>MzUwMjAxMjE2MjAw</td>\n",
       "      <td>Universidade de Franca - UNIFRAN</td>\n",
       "      <td>POLO NA SEDE - Parque Universitário</td>\n",
       "      <td>657936</td>\n",
       "      <td>Medicina</td>\n",
       "      <td>744.88</td>\n",
       "      <td>730.88</td>\n",
       "      <td>741.36</td>\n",
       "      <td>721.08</td>\n",
       "    </tr>\n",
       "    <tr>\n",
       "      <th>87</th>\n",
       "      <td>658461856524</td>\n",
       "      <td>Bacharelado</td>\n",
       "      <td>Integral</td>\n",
       "      <td>7009.97</td>\n",
       "      <td>4</td>\n",
       "      <td>3</td>\n",
       "      <td>9</td>\n",
       "      <td>5</td>\n",
       "      <td>Município</td>\n",
       "      <td>Porto Velho</td>\n",
       "      <td>RO</td>\n",
       "      <td>MTEwMTAwMTAwMjA1</td>\n",
       "      <td>Centro Universitário São Lucas - UniSL</td>\n",
       "      <td>CAMPUS  - PORTO VELHO - AREAL - Areal</td>\n",
       "      <td>658461</td>\n",
       "      <td>Medicina</td>\n",
       "      <td>742.72</td>\n",
       "      <td>720.20</td>\n",
       "      <td>729.72</td>\n",
       "      <td>711.68</td>\n",
       "    </tr>\n",
       "    <tr>\n",
       "      <th>107</th>\n",
       "      <td>66007913994844</td>\n",
       "      <td>Bacharelado</td>\n",
       "      <td>Integral</td>\n",
       "      <td>6498.55</td>\n",
       "      <td>1</td>\n",
       "      <td>1</td>\n",
       "      <td>1</td>\n",
       "      <td>4</td>\n",
       "      <td>Município</td>\n",
       "      <td>Guarapuava</td>\n",
       "      <td>PR</td>\n",
       "      <td>NDEwODAyOTA5NDAx</td>\n",
       "      <td>Faculdade Campo Real - CAMPO REAL</td>\n",
       "      <td>BLOCO 1 - Santa Cruz</td>\n",
       "      <td>660079</td>\n",
       "      <td>Medicina</td>\n",
       "      <td>781.20</td>\n",
       "      <td>731.04</td>\n",
       "      <td>745.06</td>\n",
       "      <td>741.00</td>\n",
       "    </tr>\n",
       "    <tr>\n",
       "      <th>10</th>\n",
       "      <td>65921511844324</td>\n",
       "      <td>Bacharelado</td>\n",
       "      <td>Integral</td>\n",
       "      <td>9123.07</td>\n",
       "      <td>4</td>\n",
       "      <td>4</td>\n",
       "      <td>5</td>\n",
       "      <td>5</td>\n",
       "      <td>Município</td>\n",
       "      <td>Itaperuna</td>\n",
       "      <td>RJ</td>\n",
       "      <td>MzMwMTAwMTAyMjA1</td>\n",
       "      <td>Faculdade Redentor - FACREDENTOR</td>\n",
       "      <td>CAMPUS  - ITAPERUNA - PRESIDENTE COSTA E SILVA...</td>\n",
       "      <td>659215</td>\n",
       "      <td>Medicina</td>\n",
       "      <td>741.06</td>\n",
       "      <td>729.02</td>\n",
       "      <td>730.98</td>\n",
       "      <td>722.82</td>\n",
       "    </tr>\n",
       "  </tbody>\n",
       "</table>\n",
       "</div>"
      ]
     },
     "metadata": {
      "application/vnd.databricks.v1+output": {
       "addedWidgets": {},
       "arguments": {},
       "data": "<div>\n<style scoped>\n    .dataframe tbody tr th:only-of-type {\n        vertical-align: middle;\n    }\n\n    .dataframe tbody tr th {\n        vertical-align: top;\n    }\n\n    .dataframe thead th {\n        text-align: right;\n    }\n</style>\n<table border=\"1\" class=\"dataframe\">\n  <thead>\n    <tr style=\"text-align: right;\">\n      <th></th>\n      <th>curso_id</th>\n      <th>grau</th>\n      <th>turno</th>\n      <th>mensalidade</th>\n      <th>bolsa_integral_cotas</th>\n      <th>bolsa_integral_ampla</th>\n      <th>bolsa_parcial_cotas</th>\n      <th>bolsa_parcial_ampla</th>\n      <th>tipo_cidade</th>\n      <th>cidade_busca</th>\n      <th>uf_busca</th>\n      <th>cidade_filtro</th>\n      <th>universidade_nome</th>\n      <th>campus_nome</th>\n      <th>campus_id</th>\n      <th>nome_curso</th>\n      <th>nota_integral_ampla</th>\n      <th>nota_integral_cotas</th>\n      <th>nota_parcial_ampla</th>\n      <th>nota_parcial_cotas</th>\n    </tr>\n  </thead>\n  <tbody>\n    <tr>\n      <th>22</th>\n      <td>105596711902804</td>\n      <td>Bacharelado</td>\n      <td>Integral</td>\n      <td>8300.00</td>\n      <td>2</td>\n      <td>3</td>\n      <td>4</td>\n      <td>7</td>\n      <td>Capital</td>\n      <td>Sao Paulo</td>\n      <td>SP</td>\n      <td>MzUxNTA2MTUwMzA4</td>\n      <td>Faculdade das Américas - FAM</td>\n      <td>RUA AUGUSTA - Consolação</td>\n      <td>1055967</td>\n      <td>Medicina</td>\n      <td>735.84</td>\n      <td>724.70</td>\n      <td>738.42</td>\n      <td>723.28</td>\n    </tr>\n    <tr>\n      <th>71</th>\n      <td>65793650009334</td>\n      <td>Bacharelado</td>\n      <td>Integral</td>\n      <td>7316.79</td>\n      <td>2</td>\n      <td>3</td>\n      <td>4</td>\n      <td>8</td>\n      <td>Município</td>\n      <td>Franca</td>\n      <td>SP</td>\n      <td>MzUwMjAxMjE2MjAw</td>\n      <td>Universidade de Franca - UNIFRAN</td>\n      <td>POLO NA SEDE - Parque Universitário</td>\n      <td>657936</td>\n      <td>Medicina</td>\n      <td>744.88</td>\n      <td>730.88</td>\n      <td>741.36</td>\n      <td>721.08</td>\n    </tr>\n    <tr>\n      <th>87</th>\n      <td>658461856524</td>\n      <td>Bacharelado</td>\n      <td>Integral</td>\n      <td>7009.97</td>\n      <td>4</td>\n      <td>3</td>\n      <td>9</td>\n      <td>5</td>\n      <td>Município</td>\n      <td>Porto Velho</td>\n      <td>RO</td>\n      <td>MTEwMTAwMTAwMjA1</td>\n      <td>Centro Universitário São Lucas - UniSL</td>\n      <td>CAMPUS  - PORTO VELHO - AREAL - Areal</td>\n      <td>658461</td>\n      <td>Medicina</td>\n      <td>742.72</td>\n      <td>720.20</td>\n      <td>729.72</td>\n      <td>711.68</td>\n    </tr>\n    <tr>\n      <th>107</th>\n      <td>66007913994844</td>\n      <td>Bacharelado</td>\n      <td>Integral</td>\n      <td>6498.55</td>\n      <td>1</td>\n      <td>1</td>\n      <td>1</td>\n      <td>4</td>\n      <td>Município</td>\n      <td>Guarapuava</td>\n      <td>PR</td>\n      <td>NDEwODAyOTA5NDAx</td>\n      <td>Faculdade Campo Real - CAMPO REAL</td>\n      <td>BLOCO 1 - Santa Cruz</td>\n      <td>660079</td>\n      <td>Medicina</td>\n      <td>781.20</td>\n      <td>731.04</td>\n      <td>745.06</td>\n      <td>741.00</td>\n    </tr>\n    <tr>\n      <th>10</th>\n      <td>65921511844324</td>\n      <td>Bacharelado</td>\n      <td>Integral</td>\n      <td>9123.07</td>\n      <td>4</td>\n      <td>4</td>\n      <td>5</td>\n      <td>5</td>\n      <td>Município</td>\n      <td>Itaperuna</td>\n      <td>RJ</td>\n      <td>MzMwMTAwMTAyMjA1</td>\n      <td>Faculdade Redentor - FACREDENTOR</td>\n      <td>CAMPUS  - ITAPERUNA - PRESIDENTE COSTA E SILVA...</td>\n      <td>659215</td>\n      <td>Medicina</td>\n      <td>741.06</td>\n      <td>729.02</td>\n      <td>730.98</td>\n      <td>722.82</td>\n    </tr>\n  </tbody>\n</table>\n</div>",
       "datasetInfos": [],
       "metadata": {},
       "removedWidgets": [],
       "textData": null,
       "type": "htmlSandbox"
      }
     },
     "output_type": "display_data"
    }
   ],
   "source": [
    "df_medicina.head()"
   ]
  },
  {
   "cell_type": "markdown",
   "metadata": {
    "application/vnd.databricks.v1+cell": {
     "cellMetadata": {
      "byteLimit": 2048000,
      "rowLimit": 10000
     },
     "inputWidgets": {},
     "nuid": "b7812360-7bdb-4e7c-a80a-41bd959df81b",
     "showTitle": false,
     "tableResultSettingsMap": {},
     "title": ""
    }
   },
   "source": [
    "Já para quem prefere estudar nas grandes capitais temos 10 cursos em capitais de estados."
   ]
  },
  {
   "cell_type": "code",
   "execution_count": 0,
   "metadata": {
    "application/vnd.databricks.v1+cell": {
     "cellMetadata": {
      "byteLimit": 2048000,
      "rowLimit": 10000
     },
     "inputWidgets": {},
     "nuid": "ec4ea56c-2104-48f0-9acb-88e097b354b7",
     "showTitle": false,
     "tableResultSettingsMap": {},
     "title": ""
    }
   },
   "outputs": [
    {
     "output_type": "display_data",
     "data": {
      "text/html": [
       "<html>\n",
       "<head><meta charset=\"utf-8\" /></head>\n",
       "<body>\n",
       "    <div>            <script src=\"https://cdnjs.cloudflare.com/ajax/libs/mathjax/2.7.5/MathJax.js?config=TeX-AMS-MML_SVG\"></script><script type=\"text/javascript\">if (window.MathJax) {MathJax.Hub.Config({SVG: {font: \"STIX-Web\"}});}</script>                <script type=\"text/javascript\">window.PlotlyConfig = {MathJaxConfig: 'local'};</script>\n",
       "        <script src=\"https://cdn.plot.ly/plotly-2.9.0.min.js\"></script>                <div id=\"e4efdad3-3741-428a-9df7-3621872291db\" class=\"plotly-graph-div\" style=\"height:100%; width:100%;\"></div>            <script type=\"text/javascript\">                                    window.PLOTLYENV=window.PLOTLYENV || {};                                    if (document.getElementById(\"e4efdad3-3741-428a-9df7-3621872291db\")) {                    Plotly.newPlot(                        \"e4efdad3-3741-428a-9df7-3621872291db\",                        [{\"alignmentgroup\":\"True\",\"hovertemplate\":\"tipo_cidade=%{x}<br>Total_de_cotas=%{y}<extra></extra>\",\"legendgroup\":\"\",\"marker\":{\"color\":\"#636efa\",\"pattern\":{\"shape\":\"\"}},\"name\":\"\",\"offsetgroup\":\"\",\"orientation\":\"v\",\"showlegend\":false,\"textposition\":\"auto\",\"x\":[\"Munic\\u00edpio\",\"Capital\"],\"xaxis\":\"x\",\"y\":[32,10],\"yaxis\":\"y\",\"type\":\"bar\"}],                        {\"template\":{\"data\":{\"bar\":[{\"error_x\":{\"color\":\"#2a3f5f\"},\"error_y\":{\"color\":\"#2a3f5f\"},\"marker\":{\"line\":{\"color\":\"#E5ECF6\",\"width\":0.5},\"pattern\":{\"fillmode\":\"overlay\",\"size\":10,\"solidity\":0.2}},\"type\":\"bar\"}],\"barpolar\":[{\"marker\":{\"line\":{\"color\":\"#E5ECF6\",\"width\":0.5},\"pattern\":{\"fillmode\":\"overlay\",\"size\":10,\"solidity\":0.2}},\"type\":\"barpolar\"}],\"carpet\":[{\"aaxis\":{\"endlinecolor\":\"#2a3f5f\",\"gridcolor\":\"white\",\"linecolor\":\"white\",\"minorgridcolor\":\"white\",\"startlinecolor\":\"#2a3f5f\"},\"baxis\":{\"endlinecolor\":\"#2a3f5f\",\"gridcolor\":\"white\",\"linecolor\":\"white\",\"minorgridcolor\":\"white\",\"startlinecolor\":\"#2a3f5f\"},\"type\":\"carpet\"}],\"choropleth\":[{\"colorbar\":{\"outlinewidth\":0,\"ticks\":\"\"},\"type\":\"choropleth\"}],\"contour\":[{\"colorbar\":{\"outlinewidth\":0,\"ticks\":\"\"},\"colorscale\":[[0.0,\"#0d0887\"],[0.1111111111111111,\"#46039f\"],[0.2222222222222222,\"#7201a8\"],[0.3333333333333333,\"#9c179e\"],[0.4444444444444444,\"#bd3786\"],[0.5555555555555556,\"#d8576b\"],[0.6666666666666666,\"#ed7953\"],[0.7777777777777778,\"#fb9f3a\"],[0.8888888888888888,\"#fdca26\"],[1.0,\"#f0f921\"]],\"type\":\"contour\"}],\"contourcarpet\":[{\"colorbar\":{\"outlinewidth\":0,\"ticks\":\"\"},\"type\":\"contourcarpet\"}],\"heatmap\":[{\"colorbar\":{\"outlinewidth\":0,\"ticks\":\"\"},\"colorscale\":[[0.0,\"#0d0887\"],[0.1111111111111111,\"#46039f\"],[0.2222222222222222,\"#7201a8\"],[0.3333333333333333,\"#9c179e\"],[0.4444444444444444,\"#bd3786\"],[0.5555555555555556,\"#d8576b\"],[0.6666666666666666,\"#ed7953\"],[0.7777777777777778,\"#fb9f3a\"],[0.8888888888888888,\"#fdca26\"],[1.0,\"#f0f921\"]],\"type\":\"heatmap\"}],\"heatmapgl\":[{\"colorbar\":{\"outlinewidth\":0,\"ticks\":\"\"},\"colorscale\":[[0.0,\"#0d0887\"],[0.1111111111111111,\"#46039f\"],[0.2222222222222222,\"#7201a8\"],[0.3333333333333333,\"#9c179e\"],[0.4444444444444444,\"#bd3786\"],[0.5555555555555556,\"#d8576b\"],[0.6666666666666666,\"#ed7953\"],[0.7777777777777778,\"#fb9f3a\"],[0.8888888888888888,\"#fdca26\"],[1.0,\"#f0f921\"]],\"type\":\"heatmapgl\"}],\"histogram\":[{\"marker\":{\"pattern\":{\"fillmode\":\"overlay\",\"size\":10,\"solidity\":0.2}},\"type\":\"histogram\"}],\"histogram2d\":[{\"colorbar\":{\"outlinewidth\":0,\"ticks\":\"\"},\"colorscale\":[[0.0,\"#0d0887\"],[0.1111111111111111,\"#46039f\"],[0.2222222222222222,\"#7201a8\"],[0.3333333333333333,\"#9c179e\"],[0.4444444444444444,\"#bd3786\"],[0.5555555555555556,\"#d8576b\"],[0.6666666666666666,\"#ed7953\"],[0.7777777777777778,\"#fb9f3a\"],[0.8888888888888888,\"#fdca26\"],[1.0,\"#f0f921\"]],\"type\":\"histogram2d\"}],\"histogram2dcontour\":[{\"colorbar\":{\"outlinewidth\":0,\"ticks\":\"\"},\"colorscale\":[[0.0,\"#0d0887\"],[0.1111111111111111,\"#46039f\"],[0.2222222222222222,\"#7201a8\"],[0.3333333333333333,\"#9c179e\"],[0.4444444444444444,\"#bd3786\"],[0.5555555555555556,\"#d8576b\"],[0.6666666666666666,\"#ed7953\"],[0.7777777777777778,\"#fb9f3a\"],[0.8888888888888888,\"#fdca26\"],[1.0,\"#f0f921\"]],\"type\":\"histogram2dcontour\"}],\"mesh3d\":[{\"colorbar\":{\"outlinewidth\":0,\"ticks\":\"\"},\"type\":\"mesh3d\"}],\"parcoords\":[{\"line\":{\"colorbar\":{\"outlinewidth\":0,\"ticks\":\"\"}},\"type\":\"parcoords\"}],\"pie\":[{\"automargin\":true,\"type\":\"pie\"}],\"scatter\":[{\"marker\":{\"colorbar\":{\"outlinewidth\":0,\"ticks\":\"\"}},\"type\":\"scatter\"}],\"scatter3d\":[{\"line\":{\"colorbar\":{\"outlinewidth\":0,\"ticks\":\"\"}},\"marker\":{\"colorbar\":{\"outlinewidth\":0,\"ticks\":\"\"}},\"type\":\"scatter3d\"}],\"scattercarpet\":[{\"marker\":{\"colorbar\":{\"outlinewidth\":0,\"ticks\":\"\"}},\"type\":\"scattercarpet\"}],\"scattergeo\":[{\"marker\":{\"colorbar\":{\"outlinewidth\":0,\"ticks\":\"\"}},\"type\":\"scattergeo\"}],\"scattergl\":[{\"marker\":{\"colorbar\":{\"outlinewidth\":0,\"ticks\":\"\"}},\"type\":\"scattergl\"}],\"scattermapbox\":[{\"marker\":{\"colorbar\":{\"outlinewidth\":0,\"ticks\":\"\"}},\"type\":\"scattermapbox\"}],\"scatterpolar\":[{\"marker\":{\"colorbar\":{\"outlinewidth\":0,\"ticks\":\"\"}},\"type\":\"scatterpolar\"}],\"scatterpolargl\":[{\"marker\":{\"colorbar\":{\"outlinewidth\":0,\"ticks\":\"\"}},\"type\":\"scatterpolargl\"}],\"scatterternary\":[{\"marker\":{\"colorbar\":{\"outlinewidth\":0,\"ticks\":\"\"}},\"type\":\"scatterternary\"}],\"surface\":[{\"colorbar\":{\"outlinewidth\":0,\"ticks\":\"\"},\"colorscale\":[[0.0,\"#0d0887\"],[0.1111111111111111,\"#46039f\"],[0.2222222222222222,\"#7201a8\"],[0.3333333333333333,\"#9c179e\"],[0.4444444444444444,\"#bd3786\"],[0.5555555555555556,\"#d8576b\"],[0.6666666666666666,\"#ed7953\"],[0.7777777777777778,\"#fb9f3a\"],[0.8888888888888888,\"#fdca26\"],[1.0,\"#f0f921\"]],\"type\":\"surface\"}],\"table\":[{\"cells\":{\"fill\":{\"color\":\"#EBF0F8\"},\"line\":{\"color\":\"white\"}},\"header\":{\"fill\":{\"color\":\"#C8D4E3\"},\"line\":{\"color\":\"white\"}},\"type\":\"table\"}]},\"layout\":{\"annotationdefaults\":{\"arrowcolor\":\"#2a3f5f\",\"arrowhead\":0,\"arrowwidth\":1},\"autotypenumbers\":\"strict\",\"coloraxis\":{\"colorbar\":{\"outlinewidth\":0,\"ticks\":\"\"}},\"colorscale\":{\"diverging\":[[0,\"#8e0152\"],[0.1,\"#c51b7d\"],[0.2,\"#de77ae\"],[0.3,\"#f1b6da\"],[0.4,\"#fde0ef\"],[0.5,\"#f7f7f7\"],[0.6,\"#e6f5d0\"],[0.7,\"#b8e186\"],[0.8,\"#7fbc41\"],[0.9,\"#4d9221\"],[1,\"#276419\"]],\"sequential\":[[0.0,\"#0d0887\"],[0.1111111111111111,\"#46039f\"],[0.2222222222222222,\"#7201a8\"],[0.3333333333333333,\"#9c179e\"],[0.4444444444444444,\"#bd3786\"],[0.5555555555555556,\"#d8576b\"],[0.6666666666666666,\"#ed7953\"],[0.7777777777777778,\"#fb9f3a\"],[0.8888888888888888,\"#fdca26\"],[1.0,\"#f0f921\"]],\"sequentialminus\":[[0.0,\"#0d0887\"],[0.1111111111111111,\"#46039f\"],[0.2222222222222222,\"#7201a8\"],[0.3333333333333333,\"#9c179e\"],[0.4444444444444444,\"#bd3786\"],[0.5555555555555556,\"#d8576b\"],[0.6666666666666666,\"#ed7953\"],[0.7777777777777778,\"#fb9f3a\"],[0.8888888888888888,\"#fdca26\"],[1.0,\"#f0f921\"]]},\"colorway\":[\"#636efa\",\"#EF553B\",\"#00cc96\",\"#ab63fa\",\"#FFA15A\",\"#19d3f3\",\"#FF6692\",\"#B6E880\",\"#FF97FF\",\"#FECB52\"],\"font\":{\"color\":\"#2a3f5f\"},\"geo\":{\"bgcolor\":\"white\",\"lakecolor\":\"white\",\"landcolor\":\"#E5ECF6\",\"showlakes\":true,\"showland\":true,\"subunitcolor\":\"white\"},\"hoverlabel\":{\"align\":\"left\"},\"hovermode\":\"closest\",\"mapbox\":{\"style\":\"light\"},\"paper_bgcolor\":\"white\",\"plot_bgcolor\":\"#E5ECF6\",\"polar\":{\"angularaxis\":{\"gridcolor\":\"white\",\"linecolor\":\"white\",\"ticks\":\"\"},\"bgcolor\":\"#E5ECF6\",\"radialaxis\":{\"gridcolor\":\"white\",\"linecolor\":\"white\",\"ticks\":\"\"}},\"scene\":{\"xaxis\":{\"backgroundcolor\":\"#E5ECF6\",\"gridcolor\":\"white\",\"gridwidth\":2,\"linecolor\":\"white\",\"showbackground\":true,\"ticks\":\"\",\"zerolinecolor\":\"white\"},\"yaxis\":{\"backgroundcolor\":\"#E5ECF6\",\"gridcolor\":\"white\",\"gridwidth\":2,\"linecolor\":\"white\",\"showbackground\":true,\"ticks\":\"\",\"zerolinecolor\":\"white\"},\"zaxis\":{\"backgroundcolor\":\"#E5ECF6\",\"gridcolor\":\"white\",\"gridwidth\":2,\"linecolor\":\"white\",\"showbackground\":true,\"ticks\":\"\",\"zerolinecolor\":\"white\"}},\"shapedefaults\":{\"line\":{\"color\":\"#2a3f5f\"}},\"ternary\":{\"aaxis\":{\"gridcolor\":\"white\",\"linecolor\":\"white\",\"ticks\":\"\"},\"baxis\":{\"gridcolor\":\"white\",\"linecolor\":\"white\",\"ticks\":\"\"},\"bgcolor\":\"#E5ECF6\",\"caxis\":{\"gridcolor\":\"white\",\"linecolor\":\"white\",\"ticks\":\"\"}},\"title\":{\"x\":0.05},\"xaxis\":{\"automargin\":true,\"gridcolor\":\"white\",\"linecolor\":\"white\",\"ticks\":\"\",\"title\":{\"standoff\":15},\"zerolinecolor\":\"white\",\"zerolinewidth\":2},\"yaxis\":{\"automargin\":true,\"gridcolor\":\"white\",\"linecolor\":\"white\",\"ticks\":\"\",\"title\":{\"standoff\":15},\"zerolinecolor\":\"white\",\"zerolinewidth\":2}}},\"xaxis\":{\"anchor\":\"y\",\"domain\":[0.0,1.0],\"title\":{\"text\":\"tipo_cidade\"}},\"yaxis\":{\"anchor\":\"x\",\"domain\":[0.0,1.0],\"title\":{\"text\":\"Total_de_cotas\"}},\"legend\":{\"tracegroupgap\":0},\"margin\":{\"t\":60},\"barmode\":\"relative\"},                        {\"responsive\": true}                    )                };                            </script>        </div>\n",
       "</body>\n",
       "</html>"
      ]
     },
     "metadata": {
      "application/vnd.databricks.v1+output": {
       "addedWidgets": {},
       "arguments": {},
       "data": "<html>\n<head><meta charset=\"utf-8\" /></head>\n<body>\n    <div>            <script src=\"https://cdnjs.cloudflare.com/ajax/libs/mathjax/2.7.5/MathJax.js?config=TeX-AMS-MML_SVG\"></script><script type=\"text/javascript\">if (window.MathJax) {MathJax.Hub.Config({SVG: {font: \"STIX-Web\"}});}</script>                <script type=\"text/javascript\">window.PlotlyConfig = {MathJaxConfig: 'local'};</script>\n        <script src=\"https://cdn.plot.ly/plotly-2.9.0.min.js\"></script>                <div id=\"e4efdad3-3741-428a-9df7-3621872291db\" class=\"plotly-graph-div\" style=\"height:100%; width:100%;\"></div>            <script type=\"text/javascript\">                                    window.PLOTLYENV=window.PLOTLYENV || {};                                    if (document.getElementById(\"e4efdad3-3741-428a-9df7-3621872291db\")) {                    Plotly.newPlot(                        \"e4efdad3-3741-428a-9df7-3621872291db\",                        [{\"alignmentgroup\":\"True\",\"hovertemplate\":\"tipo_cidade=%{x}<br>Total_de_cotas=%{y}<extra></extra>\",\"legendgroup\":\"\",\"marker\":{\"color\":\"#636efa\",\"pattern\":{\"shape\":\"\"}},\"name\":\"\",\"offsetgroup\":\"\",\"orientation\":\"v\",\"showlegend\":false,\"textposition\":\"auto\",\"x\":[\"Munic\\u00edpio\",\"Capital\"],\"xaxis\":\"x\",\"y\":[32,10],\"yaxis\":\"y\",\"type\":\"bar\"}],                        {\"template\":{\"data\":{\"bar\":[{\"error_x\":{\"color\":\"#2a3f5f\"},\"error_y\":{\"color\":\"#2a3f5f\"},\"marker\":{\"line\":{\"color\":\"#E5ECF6\",\"width\":0.5},\"pattern\":{\"fillmode\":\"overlay\",\"size\":10,\"solidity\":0.2}},\"type\":\"bar\"}],\"barpolar\":[{\"marker\":{\"line\":{\"color\":\"#E5ECF6\",\"width\":0.5},\"pattern\":{\"fillmode\":\"overlay\",\"size\":10,\"solidity\":0.2}},\"type\":\"barpolar\"}],\"carpet\":[{\"aaxis\":{\"endlinecolor\":\"#2a3f5f\",\"gridcolor\":\"white\",\"linecolor\":\"white\",\"minorgridcolor\":\"white\",\"startlinecolor\":\"#2a3f5f\"},\"baxis\":{\"endlinecolor\":\"#2a3f5f\",\"gridcolor\":\"white\",\"linecolor\":\"white\",\"minorgridcolor\":\"white\",\"startlinecolor\":\"#2a3f5f\"},\"type\":\"carpet\"}],\"choropleth\":[{\"colorbar\":{\"outlinewidth\":0,\"ticks\":\"\"},\"type\":\"choropleth\"}],\"contour\":[{\"colorbar\":{\"outlinewidth\":0,\"ticks\":\"\"},\"colorscale\":[[0.0,\"#0d0887\"],[0.1111111111111111,\"#46039f\"],[0.2222222222222222,\"#7201a8\"],[0.3333333333333333,\"#9c179e\"],[0.4444444444444444,\"#bd3786\"],[0.5555555555555556,\"#d8576b\"],[0.6666666666666666,\"#ed7953\"],[0.7777777777777778,\"#fb9f3a\"],[0.8888888888888888,\"#fdca26\"],[1.0,\"#f0f921\"]],\"type\":\"contour\"}],\"contourcarpet\":[{\"colorbar\":{\"outlinewidth\":0,\"ticks\":\"\"},\"type\":\"contourcarpet\"}],\"heatmap\":[{\"colorbar\":{\"outlinewidth\":0,\"ticks\":\"\"},\"colorscale\":[[0.0,\"#0d0887\"],[0.1111111111111111,\"#46039f\"],[0.2222222222222222,\"#7201a8\"],[0.3333333333333333,\"#9c179e\"],[0.4444444444444444,\"#bd3786\"],[0.5555555555555556,\"#d8576b\"],[0.6666666666666666,\"#ed7953\"],[0.7777777777777778,\"#fb9f3a\"],[0.8888888888888888,\"#fdca26\"],[1.0,\"#f0f921\"]],\"type\":\"heatmap\"}],\"heatmapgl\":[{\"colorbar\":{\"outlinewidth\":0,\"ticks\":\"\"},\"colorscale\":[[0.0,\"#0d0887\"],[0.1111111111111111,\"#46039f\"],[0.2222222222222222,\"#7201a8\"],[0.3333333333333333,\"#9c179e\"],[0.4444444444444444,\"#bd3786\"],[0.5555555555555556,\"#d8576b\"],[0.6666666666666666,\"#ed7953\"],[0.7777777777777778,\"#fb9f3a\"],[0.8888888888888888,\"#fdca26\"],[1.0,\"#f0f921\"]],\"type\":\"heatmapgl\"}],\"histogram\":[{\"marker\":{\"pattern\":{\"fillmode\":\"overlay\",\"size\":10,\"solidity\":0.2}},\"type\":\"histogram\"}],\"histogram2d\":[{\"colorbar\":{\"outlinewidth\":0,\"ticks\":\"\"},\"colorscale\":[[0.0,\"#0d0887\"],[0.1111111111111111,\"#46039f\"],[0.2222222222222222,\"#7201a8\"],[0.3333333333333333,\"#9c179e\"],[0.4444444444444444,\"#bd3786\"],[0.5555555555555556,\"#d8576b\"],[0.6666666666666666,\"#ed7953\"],[0.7777777777777778,\"#fb9f3a\"],[0.8888888888888888,\"#fdca26\"],[1.0,\"#f0f921\"]],\"type\":\"histogram2d\"}],\"histogram2dcontour\":[{\"colorbar\":{\"outlinewidth\":0,\"ticks\":\"\"},\"colorscale\":[[0.0,\"#0d0887\"],[0.1111111111111111,\"#46039f\"],[0.2222222222222222,\"#7201a8\"],[0.3333333333333333,\"#9c179e\"],[0.4444444444444444,\"#bd3786\"],[0.5555555555555556,\"#d8576b\"],[0.6666666666666666,\"#ed7953\"],[0.7777777777777778,\"#fb9f3a\"],[0.8888888888888888,\"#fdca26\"],[1.0,\"#f0f921\"]],\"type\":\"histogram2dcontour\"}],\"mesh3d\":[{\"colorbar\":{\"outlinewidth\":0,\"ticks\":\"\"},\"type\":\"mesh3d\"}],\"parcoords\":[{\"line\":{\"colorbar\":{\"outlinewidth\":0,\"ticks\":\"\"}},\"type\":\"parcoords\"}],\"pie\":[{\"automargin\":true,\"type\":\"pie\"}],\"scatter\":[{\"marker\":{\"colorbar\":{\"outlinewidth\":0,\"ticks\":\"\"}},\"type\":\"scatter\"}],\"scatter3d\":[{\"line\":{\"colorbar\":{\"outlinewidth\":0,\"ticks\":\"\"}},\"marker\":{\"colorbar\":{\"outlinewidth\":0,\"ticks\":\"\"}},\"type\":\"scatter3d\"}],\"scattercarpet\":[{\"marker\":{\"colorbar\":{\"outlinewidth\":0,\"ticks\":\"\"}},\"type\":\"scattercarpet\"}],\"scattergeo\":[{\"marker\":{\"colorbar\":{\"outlinewidth\":0,\"ticks\":\"\"}},\"type\":\"scattergeo\"}],\"scattergl\":[{\"marker\":{\"colorbar\":{\"outlinewidth\":0,\"ticks\":\"\"}},\"type\":\"scattergl\"}],\"scattermapbox\":[{\"marker\":{\"colorbar\":{\"outlinewidth\":0,\"ticks\":\"\"}},\"type\":\"scattermapbox\"}],\"scatterpolar\":[{\"marker\":{\"colorbar\":{\"outlinewidth\":0,\"ticks\":\"\"}},\"type\":\"scatterpolar\"}],\"scatterpolargl\":[{\"marker\":{\"colorbar\":{\"outlinewidth\":0,\"ticks\":\"\"}},\"type\":\"scatterpolargl\"}],\"scatterternary\":[{\"marker\":{\"colorbar\":{\"outlinewidth\":0,\"ticks\":\"\"}},\"type\":\"scatterternary\"}],\"surface\":[{\"colorbar\":{\"outlinewidth\":0,\"ticks\":\"\"},\"colorscale\":[[0.0,\"#0d0887\"],[0.1111111111111111,\"#46039f\"],[0.2222222222222222,\"#7201a8\"],[0.3333333333333333,\"#9c179e\"],[0.4444444444444444,\"#bd3786\"],[0.5555555555555556,\"#d8576b\"],[0.6666666666666666,\"#ed7953\"],[0.7777777777777778,\"#fb9f3a\"],[0.8888888888888888,\"#fdca26\"],[1.0,\"#f0f921\"]],\"type\":\"surface\"}],\"table\":[{\"cells\":{\"fill\":{\"color\":\"#EBF0F8\"},\"line\":{\"color\":\"white\"}},\"header\":{\"fill\":{\"color\":\"#C8D4E3\"},\"line\":{\"color\":\"white\"}},\"type\":\"table\"}]},\"layout\":{\"annotationdefaults\":{\"arrowcolor\":\"#2a3f5f\",\"arrowhead\":0,\"arrowwidth\":1},\"autotypenumbers\":\"strict\",\"coloraxis\":{\"colorbar\":{\"outlinewidth\":0,\"ticks\":\"\"}},\"colorscale\":{\"diverging\":[[0,\"#8e0152\"],[0.1,\"#c51b7d\"],[0.2,\"#de77ae\"],[0.3,\"#f1b6da\"],[0.4,\"#fde0ef\"],[0.5,\"#f7f7f7\"],[0.6,\"#e6f5d0\"],[0.7,\"#b8e186\"],[0.8,\"#7fbc41\"],[0.9,\"#4d9221\"],[1,\"#276419\"]],\"sequential\":[[0.0,\"#0d0887\"],[0.1111111111111111,\"#46039f\"],[0.2222222222222222,\"#7201a8\"],[0.3333333333333333,\"#9c179e\"],[0.4444444444444444,\"#bd3786\"],[0.5555555555555556,\"#d8576b\"],[0.6666666666666666,\"#ed7953\"],[0.7777777777777778,\"#fb9f3a\"],[0.8888888888888888,\"#fdca26\"],[1.0,\"#f0f921\"]],\"sequentialminus\":[[0.0,\"#0d0887\"],[0.1111111111111111,\"#46039f\"],[0.2222222222222222,\"#7201a8\"],[0.3333333333333333,\"#9c179e\"],[0.4444444444444444,\"#bd3786\"],[0.5555555555555556,\"#d8576b\"],[0.6666666666666666,\"#ed7953\"],[0.7777777777777778,\"#fb9f3a\"],[0.8888888888888888,\"#fdca26\"],[1.0,\"#f0f921\"]]},\"colorway\":[\"#636efa\",\"#EF553B\",\"#00cc96\",\"#ab63fa\",\"#FFA15A\",\"#19d3f3\",\"#FF6692\",\"#B6E880\",\"#FF97FF\",\"#FECB52\"],\"font\":{\"color\":\"#2a3f5f\"},\"geo\":{\"bgcolor\":\"white\",\"lakecolor\":\"white\",\"landcolor\":\"#E5ECF6\",\"showlakes\":true,\"showland\":true,\"subunitcolor\":\"white\"},\"hoverlabel\":{\"align\":\"left\"},\"hovermode\":\"closest\",\"mapbox\":{\"style\":\"light\"},\"paper_bgcolor\":\"white\",\"plot_bgcolor\":\"#E5ECF6\",\"polar\":{\"angularaxis\":{\"gridcolor\":\"white\",\"linecolor\":\"white\",\"ticks\":\"\"},\"bgcolor\":\"#E5ECF6\",\"radialaxis\":{\"gridcolor\":\"white\",\"linecolor\":\"white\",\"ticks\":\"\"}},\"scene\":{\"xaxis\":{\"backgroundcolor\":\"#E5ECF6\",\"gridcolor\":\"white\",\"gridwidth\":2,\"linecolor\":\"white\",\"showbackground\":true,\"ticks\":\"\",\"zerolinecolor\":\"white\"},\"yaxis\":{\"backgroundcolor\":\"#E5ECF6\",\"gridcolor\":\"white\",\"gridwidth\":2,\"linecolor\":\"white\",\"showbackground\":true,\"ticks\":\"\",\"zerolinecolor\":\"white\"},\"zaxis\":{\"backgroundcolor\":\"#E5ECF6\",\"gridcolor\":\"white\",\"gridwidth\":2,\"linecolor\":\"white\",\"showbackground\":true,\"ticks\":\"\",\"zerolinecolor\":\"white\"}},\"shapedefaults\":{\"line\":{\"color\":\"#2a3f5f\"}},\"ternary\":{\"aaxis\":{\"gridcolor\":\"white\",\"linecolor\":\"white\",\"ticks\":\"\"},\"baxis\":{\"gridcolor\":\"white\",\"linecolor\":\"white\",\"ticks\":\"\"},\"bgcolor\":\"#E5ECF6\",\"caxis\":{\"gridcolor\":\"white\",\"linecolor\":\"white\",\"ticks\":\"\"}},\"title\":{\"x\":0.05},\"xaxis\":{\"automargin\":true,\"gridcolor\":\"white\",\"linecolor\":\"white\",\"ticks\":\"\",\"title\":{\"standoff\":15},\"zerolinecolor\":\"white\",\"zerolinewidth\":2},\"yaxis\":{\"automargin\":true,\"gridcolor\":\"white\",\"linecolor\":\"white\",\"ticks\":\"\",\"title\":{\"standoff\":15},\"zerolinecolor\":\"white\",\"zerolinewidth\":2}}},\"xaxis\":{\"anchor\":\"y\",\"domain\":[0.0,1.0],\"title\":{\"text\":\"tipo_cidade\"}},\"yaxis\":{\"anchor\":\"x\",\"domain\":[0.0,1.0],\"title\":{\"text\":\"Total_de_cotas\"}},\"legend\":{\"tracegroupgap\":0},\"margin\":{\"t\":60},\"barmode\":\"relative\"},                        {\"responsive\": true}                    )                };                            </script>        </div>\n</body>\n</html>",
       "datasetInfos": [],
       "metadata": {},
       "removedWidgets": [],
       "textData": null,
       "type": "htmlSandbox"
      }
     },
     "output_type": "display_data"
    }
   ],
   "source": [
    "cotas_ordenadas = ps.sql('''\n",
    "SELECT tipo_cidade, SUM(bolsa_integral_cotas) AS Total_de_cotas\n",
    "FROM {DF}\n",
    "GROUP BY tipo_cidade\n",
    "ORDER BY Total_de_cotas DESC\n",
    "''', DF=df_medicina)\n",
    "cotas_ordenadas.plot.bar(x='tipo_cidade',y='Total_de_cotas')"
   ]
  },
  {
   "cell_type": "markdown",
   "metadata": {
    "application/vnd.databricks.v1+cell": {
     "cellMetadata": {
      "byteLimit": 2048000,
      "rowLimit": 10000
     },
     "inputWidgets": {},
     "nuid": "f9ee52e9-f9c5-4d2a-b7f2-95cb3fecfbce",
     "showTitle": false,
     "tableResultSettingsMap": {},
     "title": ""
    }
   },
   "source": [
    "\n",
    "É fundamental entender como a mensalidade de um curso se relaciona com a quantidade de bolsas oferecidas, pois isso pode influenciar significativamente a acessibilidade e a viabilidade financeira da educação superior para muitos estudantes. Então vamos responder a pergunta.\n",
    "\n",
    "Como a mensalidade do curso se relaciona com a quantidade de bolsas?"
   ]
  },
  {
   "cell_type": "code",
   "execution_count": 0,
   "metadata": {
    "application/vnd.databricks.v1+cell": {
     "cellMetadata": {
      "byteLimit": 2048000,
      "rowLimit": 10000
     },
     "inputWidgets": {},
     "nuid": "e7294deb-7f54-48f7-9dc3-a1a6e6c01446",
     "showTitle": false,
     "tableResultSettingsMap": {},
     "title": ""
    }
   },
   "outputs": [],
   "source": [
    "# Como a mensalidade do curso se relaciona com a quantidade de bolsas? \n",
    "aux = df_medicina[['mensalidade','bolsa_integral_cotas','bolsa_integral_ampla','bolsa_parcial_cotas','bolsa_parcial_ampla','nota_integral_ampla', 'nota_integral_cotas', 'nota_parcial_ampla','nota_parcial_cotas']]"
   ]
  },
  {
   "cell_type": "code",
   "execution_count": 0,
   "metadata": {
    "application/vnd.databricks.v1+cell": {
     "cellMetadata": {
      "byteLimit": 2048000,
      "rowLimit": 10000
     },
     "inputWidgets": {},
     "nuid": "a17f585c-71ae-490a-a88f-9254be622597",
     "showTitle": false,
     "tableResultSettingsMap": {},
     "title": ""
    }
   },
   "outputs": [
    {
     "output_type": "stream",
     "name": "stderr",
     "output_type": "stream",
     "text": [
      "/databricks/spark/python/pyspark/sql/pandas/conversion.py:122: UserWarning:\n\ntoPandas attempted Arrow optimization because 'spark.sql.execution.arrow.pyspark.enabled' is set to true; however, failed by the reason below:\n  Unable to convert the field pearson(__correlation_output__). If this column is not necessary, you may consider dropping it or converting to primitive type before the conversion.\nDirect cause: Unsupported type in conversion to Arrow: MatrixUDT()\nAttempting non-optimization as 'spark.sql.execution.arrow.pyspark.fallback.enabled' is set to true.\n\n"
     ]
    },
    {
     "output_type": "display_data",
     "data": {
      "text/html": [
       "<style type=\"text/css\">\n",
       "#T_9ec02_row0_col0, #T_9ec02_row1_col1, #T_9ec02_row2_col2, #T_9ec02_row3_col3, #T_9ec02_row4_col4, #T_9ec02_row5_col5, #T_9ec02_row6_col6, #T_9ec02_row7_col7, #T_9ec02_row8_col8 {\n",
       "  background-color: #67000d;\n",
       "  color: #f1f1f1;\n",
       "}\n",
       "#T_9ec02_row0_col1, #T_9ec02_row0_col2, #T_9ec02_row1_col0, #T_9ec02_row2_col0, #T_9ec02_row2_col8, #T_9ec02_row8_col2 {\n",
       "  background-color: #f75b40;\n",
       "  color: #f1f1f1;\n",
       "}\n",
       "#T_9ec02_row0_col3, #T_9ec02_row3_col0 {\n",
       "  background-color: #d01d1f;\n",
       "  color: #f1f1f1;\n",
       "}\n",
       "#T_9ec02_row0_col4, #T_9ec02_row4_col0 {\n",
       "  background-color: #ea362a;\n",
       "  color: #f1f1f1;\n",
       "}\n",
       "#T_9ec02_row0_col5, #T_9ec02_row5_col0 {\n",
       "  background-color: #fcb296;\n",
       "  color: #000000;\n",
       "}\n",
       "#T_9ec02_row0_col6, #T_9ec02_row6_col0 {\n",
       "  background-color: #fb7151;\n",
       "  color: #f1f1f1;\n",
       "}\n",
       "#T_9ec02_row0_col7, #T_9ec02_row2_col5, #T_9ec02_row5_col2, #T_9ec02_row7_col0 {\n",
       "  background-color: #fcb99f;\n",
       "  color: #000000;\n",
       "}\n",
       "#T_9ec02_row0_col8, #T_9ec02_row8_col0 {\n",
       "  background-color: #fcc4ad;\n",
       "  color: #000000;\n",
       "}\n",
       "#T_9ec02_row1_col2, #T_9ec02_row2_col1 {\n",
       "  background-color: #c8171c;\n",
       "  color: #f1f1f1;\n",
       "}\n",
       "#T_9ec02_row1_col3, #T_9ec02_row3_col1 {\n",
       "  background-color: #d21f20;\n",
       "  color: #f1f1f1;\n",
       "}\n",
       "#T_9ec02_row1_col4, #T_9ec02_row4_col1 {\n",
       "  background-color: #fb7d5d;\n",
       "  color: #f1f1f1;\n",
       "}\n",
       "#T_9ec02_row1_col5, #T_9ec02_row5_col1 {\n",
       "  background-color: #fc8262;\n",
       "  color: #f1f1f1;\n",
       "}\n",
       "#T_9ec02_row1_col6, #T_9ec02_row6_col1 {\n",
       "  background-color: #fca588;\n",
       "  color: #000000;\n",
       "}\n",
       "#T_9ec02_row1_col7, #T_9ec02_row7_col1 {\n",
       "  background-color: #fc9272;\n",
       "  color: #000000;\n",
       "}\n",
       "#T_9ec02_row1_col8, #T_9ec02_row8_col1 {\n",
       "  background-color: #fb7555;\n",
       "  color: #f1f1f1;\n",
       "}\n",
       "#T_9ec02_row2_col3, #T_9ec02_row3_col2 {\n",
       "  background-color: #f24734;\n",
       "  color: #f1f1f1;\n",
       "}\n",
       "#T_9ec02_row2_col4, #T_9ec02_row4_col2 {\n",
       "  background-color: #b81419;\n",
       "  color: #f1f1f1;\n",
       "}\n",
       "#T_9ec02_row2_col6, #T_9ec02_row6_col2 {\n",
       "  background-color: #fc997a;\n",
       "  color: #000000;\n",
       "}\n",
       "#T_9ec02_row2_col7, #T_9ec02_row7_col2 {\n",
       "  background-color: #fc8d6d;\n",
       "  color: #f1f1f1;\n",
       "}\n",
       "#T_9ec02_row3_col4, #T_9ec02_row4_col3 {\n",
       "  background-color: #f14432;\n",
       "  color: #f1f1f1;\n",
       "}\n",
       "#T_9ec02_row3_col5, #T_9ec02_row3_col8, #T_9ec02_row5_col3, #T_9ec02_row8_col3 {\n",
       "  background-color: #fcb79c;\n",
       "  color: #000000;\n",
       "}\n",
       "#T_9ec02_row3_col6, #T_9ec02_row6_col3 {\n",
       "  background-color: #fc9373;\n",
       "  color: #000000;\n",
       "}\n",
       "#T_9ec02_row3_col7, #T_9ec02_row7_col3 {\n",
       "  background-color: #fcc2aa;\n",
       "  color: #000000;\n",
       "}\n",
       "#T_9ec02_row4_col5, #T_9ec02_row5_col4 {\n",
       "  background-color: #fcc3ab;\n",
       "  color: #000000;\n",
       "}\n",
       "#T_9ec02_row4_col6, #T_9ec02_row4_col8, #T_9ec02_row6_col4, #T_9ec02_row8_col4 {\n",
       "  background-color: #fc9576;\n",
       "  color: #000000;\n",
       "}\n",
       "#T_9ec02_row4_col7, #T_9ec02_row7_col4 {\n",
       "  background-color: #fcc1a8;\n",
       "  color: #000000;\n",
       "}\n",
       "#T_9ec02_row5_col6, #T_9ec02_row6_col5 {\n",
       "  background-color: #d72322;\n",
       "  color: #f1f1f1;\n",
       "}\n",
       "#T_9ec02_row5_col7, #T_9ec02_row7_col5 {\n",
       "  background-color: #d82422;\n",
       "  color: #f1f1f1;\n",
       "}\n",
       "#T_9ec02_row5_col8, #T_9ec02_row8_col5 {\n",
       "  background-color: #c1161b;\n",
       "  color: #f1f1f1;\n",
       "}\n",
       "#T_9ec02_row6_col7, #T_9ec02_row7_col6 {\n",
       "  background-color: #d92523;\n",
       "  color: #f1f1f1;\n",
       "}\n",
       "#T_9ec02_row6_col8, #T_9ec02_row8_col6 {\n",
       "  background-color: #f03d2d;\n",
       "  color: #f1f1f1;\n",
       "}\n",
       "#T_9ec02_row7_col8, #T_9ec02_row8_col7 {\n",
       "  background-color: #ac1117;\n",
       "  color: #f1f1f1;\n",
       "}\n",
       "</style>\n",
       "<table id=\"T_9ec02\">\n",
       "  <thead>\n",
       "    <tr>\n",
       "      <th class=\"blank level0\" >&nbsp;</th>\n",
       "      <th id=\"T_9ec02_level0_col0\" class=\"col_heading level0 col0\" >mensalidade</th>\n",
       "      <th id=\"T_9ec02_level0_col1\" class=\"col_heading level0 col1\" >bolsa_integral_cotas</th>\n",
       "      <th id=\"T_9ec02_level0_col2\" class=\"col_heading level0 col2\" >bolsa_integral_ampla</th>\n",
       "      <th id=\"T_9ec02_level0_col3\" class=\"col_heading level0 col3\" >bolsa_parcial_cotas</th>\n",
       "      <th id=\"T_9ec02_level0_col4\" class=\"col_heading level0 col4\" >bolsa_parcial_ampla</th>\n",
       "      <th id=\"T_9ec02_level0_col5\" class=\"col_heading level0 col5\" >nota_integral_ampla</th>\n",
       "      <th id=\"T_9ec02_level0_col6\" class=\"col_heading level0 col6\" >nota_integral_cotas</th>\n",
       "      <th id=\"T_9ec02_level0_col7\" class=\"col_heading level0 col7\" >nota_parcial_ampla</th>\n",
       "      <th id=\"T_9ec02_level0_col8\" class=\"col_heading level0 col8\" >nota_parcial_cotas</th>\n",
       "    </tr>\n",
       "  </thead>\n",
       "  <tbody>\n",
       "    <tr>\n",
       "      <th id=\"T_9ec02_level0_row0\" class=\"row_heading level0 row0\" >mensalidade</th>\n",
       "      <td id=\"T_9ec02_row0_col0\" class=\"data row0 col0\" >1.000000</td>\n",
       "      <td id=\"T_9ec02_row0_col1\" class=\"data row0 col1\" >0.080124</td>\n",
       "      <td id=\"T_9ec02_row0_col2\" class=\"data row0 col2\" >0.085915</td>\n",
       "      <td id=\"T_9ec02_row0_col3\" class=\"data row0 col3\" >0.462838</td>\n",
       "      <td id=\"T_9ec02_row0_col4\" class=\"data row0 col4\" >0.281507</td>\n",
       "      <td id=\"T_9ec02_row0_col5\" class=\"data row0 col5\" >-0.438041</td>\n",
       "      <td id=\"T_9ec02_row0_col6\" class=\"data row0 col6\" >-0.042471</td>\n",
       "      <td id=\"T_9ec02_row0_col7\" class=\"data row0 col7\" >-0.490010</td>\n",
       "      <td id=\"T_9ec02_row0_col8\" class=\"data row0 col8\" >-0.556348</td>\n",
       "    </tr>\n",
       "    <tr>\n",
       "      <th id=\"T_9ec02_level0_row1\" class=\"row_heading level0 row1\" >bolsa_integral_cotas</th>\n",
       "      <td id=\"T_9ec02_row1_col0\" class=\"data row1 col0\" >0.080124</td>\n",
       "      <td id=\"T_9ec02_row1_col1\" class=\"data row1 col1\" >1.000000</td>\n",
       "      <td id=\"T_9ec02_row1_col2\" class=\"data row1 col2\" >0.520982</td>\n",
       "      <td id=\"T_9ec02_row1_col3\" class=\"data row1 col3\" >0.451340</td>\n",
       "      <td id=\"T_9ec02_row1_col4\" class=\"data row1 col4\" >-0.120903</td>\n",
       "      <td id=\"T_9ec02_row1_col5\" class=\"data row1 col5\" >-0.155176</td>\n",
       "      <td id=\"T_9ec02_row1_col6\" class=\"data row1 col6\" >-0.360329</td>\n",
       "      <td id=\"T_9ec02_row1_col7\" class=\"data row1 col7\" >-0.247502</td>\n",
       "      <td id=\"T_9ec02_row1_col8\" class=\"data row1 col8\" >-0.064000</td>\n",
       "    </tr>\n",
       "    <tr>\n",
       "      <th id=\"T_9ec02_level0_row2\" class=\"row_heading level0 row2\" >bolsa_integral_ampla</th>\n",
       "      <td id=\"T_9ec02_row2_col0\" class=\"data row2 col0\" >0.085915</td>\n",
       "      <td id=\"T_9ec02_row2_col1\" class=\"data row2 col1\" >0.520982</td>\n",
       "      <td id=\"T_9ec02_row2_col2\" class=\"data row2 col2\" >1.000000</td>\n",
       "      <td id=\"T_9ec02_row2_col3\" class=\"data row2 col3\" >0.182384</td>\n",
       "      <td id=\"T_9ec02_row2_col4\" class=\"data row2 col4\" >0.620009</td>\n",
       "      <td id=\"T_9ec02_row2_col5\" class=\"data row2 col5\" >-0.489539</td>\n",
       "      <td id=\"T_9ec02_row2_col6\" class=\"data row2 col6\" >-0.293681</td>\n",
       "      <td id=\"T_9ec02_row2_col7\" class=\"data row2 col7\" >-0.218251</td>\n",
       "      <td id=\"T_9ec02_row2_col8\" class=\"data row2 col8\" >0.084619</td>\n",
       "    </tr>\n",
       "    <tr>\n",
       "      <th id=\"T_9ec02_level0_row3\" class=\"row_heading level0 row3\" >bolsa_parcial_cotas</th>\n",
       "      <td id=\"T_9ec02_row3_col0\" class=\"data row3 col0\" >0.462838</td>\n",
       "      <td id=\"T_9ec02_row3_col1\" class=\"data row3 col1\" >0.451340</td>\n",
       "      <td id=\"T_9ec02_row3_col2\" class=\"data row3 col2\" >0.182384</td>\n",
       "      <td id=\"T_9ec02_row3_col3\" class=\"data row3 col3\" >1.000000</td>\n",
       "      <td id=\"T_9ec02_row3_col4\" class=\"data row3 col4\" >0.195821</td>\n",
       "      <td id=\"T_9ec02_row3_col5\" class=\"data row3 col5\" >-0.468888</td>\n",
       "      <td id=\"T_9ec02_row3_col6\" class=\"data row3 col6\" >-0.253827</td>\n",
       "      <td id=\"T_9ec02_row3_col7\" class=\"data row3 col7\" >-0.546129</td>\n",
       "      <td id=\"T_9ec02_row3_col8\" class=\"data row3 col8\" >-0.469743</td>\n",
       "    </tr>\n",
       "    <tr>\n",
       "      <th id=\"T_9ec02_level0_row4\" class=\"row_heading level0 row4\" >bolsa_parcial_ampla</th>\n",
       "      <td id=\"T_9ec02_row4_col0\" class=\"data row4 col0\" >0.281507</td>\n",
       "      <td id=\"T_9ec02_row4_col1\" class=\"data row4 col1\" >-0.120903</td>\n",
       "      <td id=\"T_9ec02_row4_col2\" class=\"data row4 col2\" >0.620009</td>\n",
       "      <td id=\"T_9ec02_row4_col3\" class=\"data row4 col3\" >0.195821</td>\n",
       "      <td id=\"T_9ec02_row4_col4\" class=\"data row4 col4\" >1.000000</td>\n",
       "      <td id=\"T_9ec02_row4_col5\" class=\"data row4 col5\" >-0.549894</td>\n",
       "      <td id=\"T_9ec02_row4_col6\" class=\"data row4 col6\" >-0.270162</td>\n",
       "      <td id=\"T_9ec02_row4_col7\" class=\"data row4 col7\" >-0.534464</td>\n",
       "      <td id=\"T_9ec02_row4_col8\" class=\"data row4 col8\" >-0.266389</td>\n",
       "    </tr>\n",
       "    <tr>\n",
       "      <th id=\"T_9ec02_level0_row5\" class=\"row_heading level0 row5\" >nota_integral_ampla</th>\n",
       "      <td id=\"T_9ec02_row5_col0\" class=\"data row5 col0\" >-0.438041</td>\n",
       "      <td id=\"T_9ec02_row5_col1\" class=\"data row5 col1\" >-0.155176</td>\n",
       "      <td id=\"T_9ec02_row5_col2\" class=\"data row5 col2\" >-0.489539</td>\n",
       "      <td id=\"T_9ec02_row5_col3\" class=\"data row5 col3\" >-0.468888</td>\n",
       "      <td id=\"T_9ec02_row5_col4\" class=\"data row5 col4\" >-0.549894</td>\n",
       "      <td id=\"T_9ec02_row5_col5\" class=\"data row5 col5\" >1.000000</td>\n",
       "      <td id=\"T_9ec02_row5_col6\" class=\"data row5 col6\" >0.420823</td>\n",
       "      <td id=\"T_9ec02_row5_col7\" class=\"data row5 col7\" >0.409216</td>\n",
       "      <td id=\"T_9ec02_row5_col8\" class=\"data row5 col8\" >0.563932</td>\n",
       "    </tr>\n",
       "    <tr>\n",
       "      <th id=\"T_9ec02_level0_row6\" class=\"row_heading level0 row6\" >nota_integral_cotas</th>\n",
       "      <td id=\"T_9ec02_row6_col0\" class=\"data row6 col0\" >-0.042471</td>\n",
       "      <td id=\"T_9ec02_row6_col1\" class=\"data row6 col1\" >-0.360329</td>\n",
       "      <td id=\"T_9ec02_row6_col2\" class=\"data row6 col2\" >-0.293681</td>\n",
       "      <td id=\"T_9ec02_row6_col3\" class=\"data row6 col3\" >-0.253827</td>\n",
       "      <td id=\"T_9ec02_row6_col4\" class=\"data row6 col4\" >-0.270162</td>\n",
       "      <td id=\"T_9ec02_row6_col5\" class=\"data row6 col5\" >0.420823</td>\n",
       "      <td id=\"T_9ec02_row6_col6\" class=\"data row6 col6\" >1.000000</td>\n",
       "      <td id=\"T_9ec02_row6_col7\" class=\"data row6 col7\" >0.402048</td>\n",
       "      <td id=\"T_9ec02_row6_col8\" class=\"data row6 col8\" >0.237963</td>\n",
       "    </tr>\n",
       "    <tr>\n",
       "      <th id=\"T_9ec02_level0_row7\" class=\"row_heading level0 row7\" >nota_parcial_ampla</th>\n",
       "      <td id=\"T_9ec02_row7_col0\" class=\"data row7 col0\" >-0.490010</td>\n",
       "      <td id=\"T_9ec02_row7_col1\" class=\"data row7 col1\" >-0.247502</td>\n",
       "      <td id=\"T_9ec02_row7_col2\" class=\"data row7 col2\" >-0.218251</td>\n",
       "      <td id=\"T_9ec02_row7_col3\" class=\"data row7 col3\" >-0.546129</td>\n",
       "      <td id=\"T_9ec02_row7_col4\" class=\"data row7 col4\" >-0.534464</td>\n",
       "      <td id=\"T_9ec02_row7_col5\" class=\"data row7 col5\" >0.409216</td>\n",
       "      <td id=\"T_9ec02_row7_col6\" class=\"data row7 col6\" >0.402048</td>\n",
       "      <td id=\"T_9ec02_row7_col7\" class=\"data row7 col7\" >1.000000</td>\n",
       "      <td id=\"T_9ec02_row7_col8\" class=\"data row7 col8\" >0.702974</td>\n",
       "    </tr>\n",
       "    <tr>\n",
       "      <th id=\"T_9ec02_level0_row8\" class=\"row_heading level0 row8\" >nota_parcial_cotas</th>\n",
       "      <td id=\"T_9ec02_row8_col0\" class=\"data row8 col0\" >-0.556348</td>\n",
       "      <td id=\"T_9ec02_row8_col1\" class=\"data row8 col1\" >-0.064000</td>\n",
       "      <td id=\"T_9ec02_row8_col2\" class=\"data row8 col2\" >0.084619</td>\n",
       "      <td id=\"T_9ec02_row8_col3\" class=\"data row8 col3\" >-0.469743</td>\n",
       "      <td id=\"T_9ec02_row8_col4\" class=\"data row8 col4\" >-0.266389</td>\n",
       "      <td id=\"T_9ec02_row8_col5\" class=\"data row8 col5\" >0.563932</td>\n",
       "      <td id=\"T_9ec02_row8_col6\" class=\"data row8 col6\" >0.237963</td>\n",
       "      <td id=\"T_9ec02_row8_col7\" class=\"data row8 col7\" >0.702974</td>\n",
       "      <td id=\"T_9ec02_row8_col8\" class=\"data row8 col8\" >1.000000</td>\n",
       "    </tr>\n",
       "  </tbody>\n",
       "</table>\n"
      ]
     },
     "metadata": {
      "application/vnd.databricks.v1+output": {
       "addedWidgets": {},
       "arguments": {},
       "data": "<style type=\"text/css\">\n#T_9ec02_row0_col0, #T_9ec02_row1_col1, #T_9ec02_row2_col2, #T_9ec02_row3_col3, #T_9ec02_row4_col4, #T_9ec02_row5_col5, #T_9ec02_row6_col6, #T_9ec02_row7_col7, #T_9ec02_row8_col8 {\n  background-color: #67000d;\n  color: #f1f1f1;\n}\n#T_9ec02_row0_col1, #T_9ec02_row0_col2, #T_9ec02_row1_col0, #T_9ec02_row2_col0, #T_9ec02_row2_col8, #T_9ec02_row8_col2 {\n  background-color: #f75b40;\n  color: #f1f1f1;\n}\n#T_9ec02_row0_col3, #T_9ec02_row3_col0 {\n  background-color: #d01d1f;\n  color: #f1f1f1;\n}\n#T_9ec02_row0_col4, #T_9ec02_row4_col0 {\n  background-color: #ea362a;\n  color: #f1f1f1;\n}\n#T_9ec02_row0_col5, #T_9ec02_row5_col0 {\n  background-color: #fcb296;\n  color: #000000;\n}\n#T_9ec02_row0_col6, #T_9ec02_row6_col0 {\n  background-color: #fb7151;\n  color: #f1f1f1;\n}\n#T_9ec02_row0_col7, #T_9ec02_row2_col5, #T_9ec02_row5_col2, #T_9ec02_row7_col0 {\n  background-color: #fcb99f;\n  color: #000000;\n}\n#T_9ec02_row0_col8, #T_9ec02_row8_col0 {\n  background-color: #fcc4ad;\n  color: #000000;\n}\n#T_9ec02_row1_col2, #T_9ec02_row2_col1 {\n  background-color: #c8171c;\n  color: #f1f1f1;\n}\n#T_9ec02_row1_col3, #T_9ec02_row3_col1 {\n  background-color: #d21f20;\n  color: #f1f1f1;\n}\n#T_9ec02_row1_col4, #T_9ec02_row4_col1 {\n  background-color: #fb7d5d;\n  color: #f1f1f1;\n}\n#T_9ec02_row1_col5, #T_9ec02_row5_col1 {\n  background-color: #fc8262;\n  color: #f1f1f1;\n}\n#T_9ec02_row1_col6, #T_9ec02_row6_col1 {\n  background-color: #fca588;\n  color: #000000;\n}\n#T_9ec02_row1_col7, #T_9ec02_row7_col1 {\n  background-color: #fc9272;\n  color: #000000;\n}\n#T_9ec02_row1_col8, #T_9ec02_row8_col1 {\n  background-color: #fb7555;\n  color: #f1f1f1;\n}\n#T_9ec02_row2_col3, #T_9ec02_row3_col2 {\n  background-color: #f24734;\n  color: #f1f1f1;\n}\n#T_9ec02_row2_col4, #T_9ec02_row4_col2 {\n  background-color: #b81419;\n  color: #f1f1f1;\n}\n#T_9ec02_row2_col6, #T_9ec02_row6_col2 {\n  background-color: #fc997a;\n  color: #000000;\n}\n#T_9ec02_row2_col7, #T_9ec02_row7_col2 {\n  background-color: #fc8d6d;\n  color: #f1f1f1;\n}\n#T_9ec02_row3_col4, #T_9ec02_row4_col3 {\n  background-color: #f14432;\n  color: #f1f1f1;\n}\n#T_9ec02_row3_col5, #T_9ec02_row3_col8, #T_9ec02_row5_col3, #T_9ec02_row8_col3 {\n  background-color: #fcb79c;\n  color: #000000;\n}\n#T_9ec02_row3_col6, #T_9ec02_row6_col3 {\n  background-color: #fc9373;\n  color: #000000;\n}\n#T_9ec02_row3_col7, #T_9ec02_row7_col3 {\n  background-color: #fcc2aa;\n  color: #000000;\n}\n#T_9ec02_row4_col5, #T_9ec02_row5_col4 {\n  background-color: #fcc3ab;\n  color: #000000;\n}\n#T_9ec02_row4_col6, #T_9ec02_row4_col8, #T_9ec02_row6_col4, #T_9ec02_row8_col4 {\n  background-color: #fc9576;\n  color: #000000;\n}\n#T_9ec02_row4_col7, #T_9ec02_row7_col4 {\n  background-color: #fcc1a8;\n  color: #000000;\n}\n#T_9ec02_row5_col6, #T_9ec02_row6_col5 {\n  background-color: #d72322;\n  color: #f1f1f1;\n}\n#T_9ec02_row5_col7, #T_9ec02_row7_col5 {\n  background-color: #d82422;\n  color: #f1f1f1;\n}\n#T_9ec02_row5_col8, #T_9ec02_row8_col5 {\n  background-color: #c1161b;\n  color: #f1f1f1;\n}\n#T_9ec02_row6_col7, #T_9ec02_row7_col6 {\n  background-color: #d92523;\n  color: #f1f1f1;\n}\n#T_9ec02_row6_col8, #T_9ec02_row8_col6 {\n  background-color: #f03d2d;\n  color: #f1f1f1;\n}\n#T_9ec02_row7_col8, #T_9ec02_row8_col7 {\n  background-color: #ac1117;\n  color: #f1f1f1;\n}\n</style>\n<table id=\"T_9ec02\">\n  <thead>\n    <tr>\n      <th class=\"blank level0\" >&nbsp;</th>\n      <th id=\"T_9ec02_level0_col0\" class=\"col_heading level0 col0\" >mensalidade</th>\n      <th id=\"T_9ec02_level0_col1\" class=\"col_heading level0 col1\" >bolsa_integral_cotas</th>\n      <th id=\"T_9ec02_level0_col2\" class=\"col_heading level0 col2\" >bolsa_integral_ampla</th>\n      <th id=\"T_9ec02_level0_col3\" class=\"col_heading level0 col3\" >bolsa_parcial_cotas</th>\n      <th id=\"T_9ec02_level0_col4\" class=\"col_heading level0 col4\" >bolsa_parcial_ampla</th>\n      <th id=\"T_9ec02_level0_col5\" class=\"col_heading level0 col5\" >nota_integral_ampla</th>\n      <th id=\"T_9ec02_level0_col6\" class=\"col_heading level0 col6\" >nota_integral_cotas</th>\n      <th id=\"T_9ec02_level0_col7\" class=\"col_heading level0 col7\" >nota_parcial_ampla</th>\n      <th id=\"T_9ec02_level0_col8\" class=\"col_heading level0 col8\" >nota_parcial_cotas</th>\n    </tr>\n  </thead>\n  <tbody>\n    <tr>\n      <th id=\"T_9ec02_level0_row0\" class=\"row_heading level0 row0\" >mensalidade</th>\n      <td id=\"T_9ec02_row0_col0\" class=\"data row0 col0\" >1.000000</td>\n      <td id=\"T_9ec02_row0_col1\" class=\"data row0 col1\" >0.080124</td>\n      <td id=\"T_9ec02_row0_col2\" class=\"data row0 col2\" >0.085915</td>\n      <td id=\"T_9ec02_row0_col3\" class=\"data row0 col3\" >0.462838</td>\n      <td id=\"T_9ec02_row0_col4\" class=\"data row0 col4\" >0.281507</td>\n      <td id=\"T_9ec02_row0_col5\" class=\"data row0 col5\" >-0.438041</td>\n      <td id=\"T_9ec02_row0_col6\" class=\"data row0 col6\" >-0.042471</td>\n      <td id=\"T_9ec02_row0_col7\" class=\"data row0 col7\" >-0.490010</td>\n      <td id=\"T_9ec02_row0_col8\" class=\"data row0 col8\" >-0.556348</td>\n    </tr>\n    <tr>\n      <th id=\"T_9ec02_level0_row1\" class=\"row_heading level0 row1\" >bolsa_integral_cotas</th>\n      <td id=\"T_9ec02_row1_col0\" class=\"data row1 col0\" >0.080124</td>\n      <td id=\"T_9ec02_row1_col1\" class=\"data row1 col1\" >1.000000</td>\n      <td id=\"T_9ec02_row1_col2\" class=\"data row1 col2\" >0.520982</td>\n      <td id=\"T_9ec02_row1_col3\" class=\"data row1 col3\" >0.451340</td>\n      <td id=\"T_9ec02_row1_col4\" class=\"data row1 col4\" >-0.120903</td>\n      <td id=\"T_9ec02_row1_col5\" class=\"data row1 col5\" >-0.155176</td>\n      <td id=\"T_9ec02_row1_col6\" class=\"data row1 col6\" >-0.360329</td>\n      <td id=\"T_9ec02_row1_col7\" class=\"data row1 col7\" >-0.247502</td>\n      <td id=\"T_9ec02_row1_col8\" class=\"data row1 col8\" >-0.064000</td>\n    </tr>\n    <tr>\n      <th id=\"T_9ec02_level0_row2\" class=\"row_heading level0 row2\" >bolsa_integral_ampla</th>\n      <td id=\"T_9ec02_row2_col0\" class=\"data row2 col0\" >0.085915</td>\n      <td id=\"T_9ec02_row2_col1\" class=\"data row2 col1\" >0.520982</td>\n      <td id=\"T_9ec02_row2_col2\" class=\"data row2 col2\" >1.000000</td>\n      <td id=\"T_9ec02_row2_col3\" class=\"data row2 col3\" >0.182384</td>\n      <td id=\"T_9ec02_row2_col4\" class=\"data row2 col4\" >0.620009</td>\n      <td id=\"T_9ec02_row2_col5\" class=\"data row2 col5\" >-0.489539</td>\n      <td id=\"T_9ec02_row2_col6\" class=\"data row2 col6\" >-0.293681</td>\n      <td id=\"T_9ec02_row2_col7\" class=\"data row2 col7\" >-0.218251</td>\n      <td id=\"T_9ec02_row2_col8\" class=\"data row2 col8\" >0.084619</td>\n    </tr>\n    <tr>\n      <th id=\"T_9ec02_level0_row3\" class=\"row_heading level0 row3\" >bolsa_parcial_cotas</th>\n      <td id=\"T_9ec02_row3_col0\" class=\"data row3 col0\" >0.462838</td>\n      <td id=\"T_9ec02_row3_col1\" class=\"data row3 col1\" >0.451340</td>\n      <td id=\"T_9ec02_row3_col2\" class=\"data row3 col2\" >0.182384</td>\n      <td id=\"T_9ec02_row3_col3\" class=\"data row3 col3\" >1.000000</td>\n      <td id=\"T_9ec02_row3_col4\" class=\"data row3 col4\" >0.195821</td>\n      <td id=\"T_9ec02_row3_col5\" class=\"data row3 col5\" >-0.468888</td>\n      <td id=\"T_9ec02_row3_col6\" class=\"data row3 col6\" >-0.253827</td>\n      <td id=\"T_9ec02_row3_col7\" class=\"data row3 col7\" >-0.546129</td>\n      <td id=\"T_9ec02_row3_col8\" class=\"data row3 col8\" >-0.469743</td>\n    </tr>\n    <tr>\n      <th id=\"T_9ec02_level0_row4\" class=\"row_heading level0 row4\" >bolsa_parcial_ampla</th>\n      <td id=\"T_9ec02_row4_col0\" class=\"data row4 col0\" >0.281507</td>\n      <td id=\"T_9ec02_row4_col1\" class=\"data row4 col1\" >-0.120903</td>\n      <td id=\"T_9ec02_row4_col2\" class=\"data row4 col2\" >0.620009</td>\n      <td id=\"T_9ec02_row4_col3\" class=\"data row4 col3\" >0.195821</td>\n      <td id=\"T_9ec02_row4_col4\" class=\"data row4 col4\" >1.000000</td>\n      <td id=\"T_9ec02_row4_col5\" class=\"data row4 col5\" >-0.549894</td>\n      <td id=\"T_9ec02_row4_col6\" class=\"data row4 col6\" >-0.270162</td>\n      <td id=\"T_9ec02_row4_col7\" class=\"data row4 col7\" >-0.534464</td>\n      <td id=\"T_9ec02_row4_col8\" class=\"data row4 col8\" >-0.266389</td>\n    </tr>\n    <tr>\n      <th id=\"T_9ec02_level0_row5\" class=\"row_heading level0 row5\" >nota_integral_ampla</th>\n      <td id=\"T_9ec02_row5_col0\" class=\"data row5 col0\" >-0.438041</td>\n      <td id=\"T_9ec02_row5_col1\" class=\"data row5 col1\" >-0.155176</td>\n      <td id=\"T_9ec02_row5_col2\" class=\"data row5 col2\" >-0.489539</td>\n      <td id=\"T_9ec02_row5_col3\" class=\"data row5 col3\" >-0.468888</td>\n      <td id=\"T_9ec02_row5_col4\" class=\"data row5 col4\" >-0.549894</td>\n      <td id=\"T_9ec02_row5_col5\" class=\"data row5 col5\" >1.000000</td>\n      <td id=\"T_9ec02_row5_col6\" class=\"data row5 col6\" >0.420823</td>\n      <td id=\"T_9ec02_row5_col7\" class=\"data row5 col7\" >0.409216</td>\n      <td id=\"T_9ec02_row5_col8\" class=\"data row5 col8\" >0.563932</td>\n    </tr>\n    <tr>\n      <th id=\"T_9ec02_level0_row6\" class=\"row_heading level0 row6\" >nota_integral_cotas</th>\n      <td id=\"T_9ec02_row6_col0\" class=\"data row6 col0\" >-0.042471</td>\n      <td id=\"T_9ec02_row6_col1\" class=\"data row6 col1\" >-0.360329</td>\n      <td id=\"T_9ec02_row6_col2\" class=\"data row6 col2\" >-0.293681</td>\n      <td id=\"T_9ec02_row6_col3\" class=\"data row6 col3\" >-0.253827</td>\n      <td id=\"T_9ec02_row6_col4\" class=\"data row6 col4\" >-0.270162</td>\n      <td id=\"T_9ec02_row6_col5\" class=\"data row6 col5\" >0.420823</td>\n      <td id=\"T_9ec02_row6_col6\" class=\"data row6 col6\" >1.000000</td>\n      <td id=\"T_9ec02_row6_col7\" class=\"data row6 col7\" >0.402048</td>\n      <td id=\"T_9ec02_row6_col8\" class=\"data row6 col8\" >0.237963</td>\n    </tr>\n    <tr>\n      <th id=\"T_9ec02_level0_row7\" class=\"row_heading level0 row7\" >nota_parcial_ampla</th>\n      <td id=\"T_9ec02_row7_col0\" class=\"data row7 col0\" >-0.490010</td>\n      <td id=\"T_9ec02_row7_col1\" class=\"data row7 col1\" >-0.247502</td>\n      <td id=\"T_9ec02_row7_col2\" class=\"data row7 col2\" >-0.218251</td>\n      <td id=\"T_9ec02_row7_col3\" class=\"data row7 col3\" >-0.546129</td>\n      <td id=\"T_9ec02_row7_col4\" class=\"data row7 col4\" >-0.534464</td>\n      <td id=\"T_9ec02_row7_col5\" class=\"data row7 col5\" >0.409216</td>\n      <td id=\"T_9ec02_row7_col6\" class=\"data row7 col6\" >0.402048</td>\n      <td id=\"T_9ec02_row7_col7\" class=\"data row7 col7\" >1.000000</td>\n      <td id=\"T_9ec02_row7_col8\" class=\"data row7 col8\" >0.702974</td>\n    </tr>\n    <tr>\n      <th id=\"T_9ec02_level0_row8\" class=\"row_heading level0 row8\" >nota_parcial_cotas</th>\n      <td id=\"T_9ec02_row8_col0\" class=\"data row8 col0\" >-0.556348</td>\n      <td id=\"T_9ec02_row8_col1\" class=\"data row8 col1\" >-0.064000</td>\n      <td id=\"T_9ec02_row8_col2\" class=\"data row8 col2\" >0.084619</td>\n      <td id=\"T_9ec02_row8_col3\" class=\"data row8 col3\" >-0.469743</td>\n      <td id=\"T_9ec02_row8_col4\" class=\"data row8 col4\" >-0.266389</td>\n      <td id=\"T_9ec02_row8_col5\" class=\"data row8 col5\" >0.563932</td>\n      <td id=\"T_9ec02_row8_col6\" class=\"data row8 col6\" >0.237963</td>\n      <td id=\"T_9ec02_row8_col7\" class=\"data row8 col7\" >0.702974</td>\n      <td id=\"T_9ec02_row8_col8\" class=\"data row8 col8\" >1.000000</td>\n    </tr>\n  </tbody>\n</table>\n",
       "datasetInfos": [],
       "metadata": {},
       "removedWidgets": [],
       "textData": null,
       "type": "htmlSandbox"
      }
     },
     "output_type": "display_data"
    }
   ],
   "source": [
    "aux.corr().style.background_gradient(cmap=\"Reds\",vmin=-1,vmax=1)"
   ]
  },
  {
   "cell_type": "markdown",
   "metadata": {
    "application/vnd.databricks.v1+cell": {
     "cellMetadata": {
      "byteLimit": 2048000,
      "rowLimit": 10000
     },
     "inputWidgets": {},
     "nuid": "08c13209-6c66-4071-b7db-218843d9a0a6",
     "showTitle": false,
     "tableResultSettingsMap": {},
     "title": ""
    }
   },
   "source": [
    "Não parece haver uma relação substancial em relação entre a quantidade de bolsas."
   ]
  },
  {
   "cell_type": "code",
   "execution_count": 0,
   "metadata": {
    "application/vnd.databricks.v1+cell": {
     "cellMetadata": {
      "byteLimit": 2048000,
      "rowLimit": 10000
     },
     "inputWidgets": {},
     "nuid": "22b6d6c3-2b94-4a03-805a-702c35a922f3",
     "showTitle": false,
     "tableResultSettingsMap": {},
     "title": ""
    }
   },
   "outputs": [
    {
     "output_type": "display_data",
     "data": {
      "text/html": [
       "<html>\n",
       "<head><meta charset=\"utf-8\" /></head>\n",
       "<body>\n",
       "    <div>            <script src=\"https://cdnjs.cloudflare.com/ajax/libs/mathjax/2.7.5/MathJax.js?config=TeX-AMS-MML_SVG\"></script><script type=\"text/javascript\">if (window.MathJax) {MathJax.Hub.Config({SVG: {font: \"STIX-Web\"}});}</script>                <script type=\"text/javascript\">window.PlotlyConfig = {MathJaxConfig: 'local'};</script>\n",
       "        <script src=\"https://cdn.plot.ly/plotly-2.9.0.min.js\"></script>                <div id=\"b3d2117c-e757-4853-9c94-e1adac7d2737\" class=\"plotly-graph-div\" style=\"height:100%; width:100%;\"></div>            <script type=\"text/javascript\">                                    window.PLOTLYENV=window.PLOTLYENV || {};                                    if (document.getElementById(\"b3d2117c-e757-4853-9c94-e1adac7d2737\")) {                    Plotly.newPlot(                        \"b3d2117c-e757-4853-9c94-e1adac7d2737\",                        [{\"hovertemplate\":\"mensalidade=%{x}<br>bolsa_parcial_cotas=%{y}<extra></extra>\",\"legendgroup\":\"\",\"marker\":{\"color\":\"#636efa\",\"symbol\":\"circle\"},\"mode\":\"markers\",\"name\":\"\",\"orientation\":\"v\",\"showlegend\":false,\"x\":[1561.29,980.0,927.0,829.0,543.0,1730.0,1096.1,927.66,681.84,662.0,630.0,510.0,1833.25,1715.0,1462.64,1064.0,705.03,696.0,622.2,595.0,548.62,1696.99,1402.38,1309.0,1151.74,1062.4099999999999,1040.0,908.0,843.13,1208.05,883.69,713.81,2029.0,1560.55,892.0,850.0,723.77,679.85,598.0,568.7,560.0,553.0,1685.0,1537.4,1189.0,944.68,842.0,806.0,773.83,749.0,701.0,1150.0,748.81,747.0,683.0,548.8299999999999,530.0,2647.0,1092.14,1035.0,835.0,831.73,813.8,770.58,729.71,558.0799999999999,8300.0,2477.39,1505.0,1470.85,1470.85,1466.2,1350.0,1133.6,1077.75,1030.0,833.0,788.72,730.0,582.0,525.46,1715.0,1444.1,1014.9,965.0,780.0,1048.9299999999998,954.28,852.0,834.0,730.0,730.0,725.0,598.0,579.0,563.0,1938.15,1412.74,1352.0,1292.74,970.08,940.0,888.87,770.8,671.99,649.92,616.56,543.71,499.52,2271.36,1309.0,1150.0,1130.0,1092.14,1049.0,943.0,870.0,749.96,548.8299999999999,1177.0,973.0,806.0,737.82,648.48,605.36,559.75,550.0,1254.73,1092.14,1049.0,1037.08,980.97,679.85,606.0,579.0,1320.0,1159.29,973.0,748.96,740.0,700.0,520.0,489.79,1554.28,1406.4,1150.0,1076.0,1075.0,1037.52,1030.0,966.0,859.4,849.0,750.0,719.6,618.0,1108.0,1102.63,746.66,649.0,1347.2,1345.0,1150.0,835.0,740.31,603.87,540.0,1148.32,888.87,792.0,732.0,556.0,3097.76,1560.0,1515.14,1314.5,1300.0,1199.0,822.95,804.42,763.76,681.83,1909.39,1648.0,1349.0,1334.45,1322.63,1150.7,1023.0,945.8,700.75,685.0,565.0,517.88,1560.55,1548.0,1049.0,926.0,917.0,659.48,640.0,579.83,489.79,1976.0,947.76,873.22,855.0,792.28,780.07,1190.0,848.87,767.0,560.0,517.0799999999999,515.0,1501.93,1288.69,940.0,874.6,873.22,852.0,1933.69,1152.5,843.53,806.61,749.0,745.65,648.78,588.25,548.9,501.1,2148.67,1220.45,1071.0,940.4,889.0,749.16,723.77,635.0,559.75,1276.95,1228.0,1061.49,834.0,809.0,705.38,528.0,1313.0,1265.8,965.88,1470.85,1320.0,1014.9,1006.43,949.0,839.79,835.0,810.03,810.0,732.2,667.0,1314.24,1041.6100000000001,1035.5,973.0,849.2,717.93,706.76,530.0,515.95,1641.2,1435.0,1370.58,1137.56,977.62,970.0,944.0,924.75,749.0,728.55,695.08,682.03,650.0,626.0,614.11,1175.0,1111.0,827.0,799.04,608.23,599.0,1345.0,1334.45,1247.44,1063.0,1049.0,1028.77,892.0,834.0,576.0,565.0,503.82,1585.92,878.0,858.0,585.0,570.68,511.56,1345.0,1345.0,1150.0,973.0,834.0,679.85,631.0,550.0,1741.0,1505.0,1347.2,995.8,929.89,920.0,808.33,749.35,705.0,648.82,1490.86,1368.72,1345.0,1150.0,1041.0900000000001,838.4,832.0,777.0,643.0,513.0,1595.0,1330.0,1089.0,849.0,790.7,777.0,669.09,599.0,1347.04,888.02,768.3,663.0,626.51,559.75,525.0,512.86,496.0,2447.0,810.03,810.0,769.99,765.0,749.0,7316.79,1300.0,1281.24,898.18,839.0,801.4,677.48,1451.65,1201.08,1152.27,1129.52,840.38,785.0,595.65,1952.5,1480.75,1040.0,938.0,880.0,877.46,873.22,576.21,522.79,7009.97,1456.27,1302.0,1307.75,1205.6,1102.23,764.0,534.0,2024.0,1279.87,1226.16,927.0,726.46,649.0,612.0,526.0,6498.55,1590.0,1150.0,1120.0,1014.9,992.0,929.47,890.0,878.0,797.44,750.0,656.01,2268.31,1520.0,1444.1,1292.6,1092.14,1048.83,1028.6799999999998,990.0,950.0,908.0,906.88,870.0,848.42,788.0,644.0,546.2,2040.0,1641.3,1326.28,1150.0,1048.0,1014.9,944.0,857.5,788.0,704.0,576.21,1260.0,1049.0,1043.15,769.79,709.54,654.0,648.48,556.0,530.0,1263.0,1250.0,924.75,956.0,885.0,757.92,648.97,976.24,908.0,781.0,1610.63,1320.0,1006.43,948.44,879.0,834.0,682.0,2647.0,2282.5,1563.05,1297.44,1028.52,923.0,730.0,2389.1,2020.0,1195.48,1030.0,973.0,967.13,810.0,609.68,517.88,1589.95,947.48,835.0,670.0,612.0,500.3,2148.67,1177.81,835.0,834.0,635.0,1968.37,1640.0,1150.0,749.0,1042.13,955.0,940.14,1452.36,1075.0,1065.05,990.0,794.97,747.0,540.0,2439.67,1297.73,1260.0,973.0,916.0,890.0,748.97,732.0,648.95,602.0,599.0,599.0,582.0,1403.75,992.0,944.0,846.44,657.0,559.75,1434.82,1187.84,1049.0,1035.0,969.08,968.35,810.0,778.1,646.02,649.0,2099.0,1292.74,990.0,815.0,806.61,556.0,550.0,534.0,2223.84,1641.0,1560.0,732.0,728.91,679.2,1483.65,1359.24,1020.85,973.0,798.8,750.0,724.46,578.2,569.67,1184.0,1136.0,1129.52,907.0,740.0,700.0,655.0,555.0,535.0,490.0,1244.92,1179.5,813.8,799.0,732.2,689.82,556.0,924.75,890.0,841.53,800.0,748.82,1833.25,1668.48,920.0,622.0,1581.6,1511.35,1445.23,1148.0,1097.37,1029.8,958.0,776.0,718.0,650.0,630.0,560.0,530.0,501.1,1030.0,1013.0,779.0,748.81,739.56,648.38,550.0,549.0,500.0,1668.48,1402.16,1109.4,949.0,662.9,540.0,1687.6,1569.0,1483.65,1444.1,1132.72,1040.0,1037.52,1029.33,1018.74,949.0,934.0,907.0,804.33,796.0,733.76,615.0,9123.07,6113.0,2037.0,1946.71,1440.0,870.8,850.0,678.0,617.0,2273.8,1157.46,916.0,874.6,694.0,560.0,1679.14,1384.46,1194.35,1023.34,950.0,948.71,813.47,569.51,497.1,1660.0,1270.0,1092.14,968.85,748.79,648.47,1589.95,1562.0,1021.0,923.0,666.2,609.68,526.0,515.95,1408.84,1270.0,1260.0,1049.0,1030.0,732.0,530.0,520.0,496.0,1747.65,1715.0,1470.85,1453.97,1322.17,1029.0,1006.0,940.0,906.8,834.0,810.5,806.04,714.88,679.2,549.0,506.85,1310.0,1200.68,1120.2,1028.6799999999998,780.0,547.51,1704.0,1213.71,1100.0,1049.0,968.85,948.44,862.0,725.0,725.0,670.0,590.0,549.0,888.66,724.62,711.49,630.0,548.94,1145.25,784.29,748.0,598.0,1943.0,1486.94,1415.0,935.0,926.0,900.0,900.0,807.0,772.0,620.0,1386.65,1140.0,1063.0,870.0,848.83,815.0,809.85,777.0,738.46,716.0,1415.0,1368.27,1303.7,1050.0,990.7,949.0,879.76,806.0,712.0,598.0,1805.0,1172.18,559.8199999999999,1136.24,749.0,678.63,1470.85,1463.0,1135.16,1049.0,1035.0,772.77,706.0,655.0,647.0,515.95,1434.82,1333.15,1203.63,1028.6799999999998,994.0,759.92,750.0,742.78,718.0,2271.36,1902.5,1715.0,1303.56,1057.1100000000001,1035.5,973.22,905.0,765.0,713.93,683.0,632.0,496.0,1221.69,1150.0,1135.16,1028.6799999999998,960.0,889.91,740.0,1459.0,1350.0,1338.54,1089.39,1063.0,1028.6799999999998,686.6,582.0,501.1,2314.0,1623.41,1403.75,1203.0,1185.0,1154.0,1040.0,1040.0,892.0,802.55,768.3,623.0,528.0,1560.55,1018.74,990.39,799.04,777.38,740.0,735.09,732.0,725.0,560.31,515.95,1440.46,1305.36,860.0,834.27,834.0,683.0,619.0,1948.63,1520.0,1540.86,1128.1,1107.48,1097.24,1023.14,943.47,932.6,927.0,877.0,778.0,528.0,1085.35,1047.0,880.67,1154.0,1142.41,1100.0,1045.8,1026.53,990.0,963.0,955.0,934.0,848.56,833.19,796.0,749.0,733.05,732.0,706.0,635.0,579.82,2034.0,1555.0,994.82,952.5,948.81,810.03,680.88,560.0,2029.0,1279.87,1201.24,991.0,990.0,980.79,1023.0,977.02,1100.0,1040.58,1040.0,929.0,906.57,880.67,768.31,690.0,585.46,517.88,499.0,2432.53,1462.64,1046.6599999999999,1030.0,1017.0,834.0,804.29,1496.0,835.0,691.6,682.0,549.0,1368.68,1347.2,1166.68,1041.0900000000001,1037.52,1014.9,730.0,668.63,501.1,501.1,496.0,1769.0,1181.35,1040.0,893.3,889.0,870.0,842.0,798.8,723.08,607.63,526.0,1345.0,1048.0,1009.0,894.73,888.97,740.0,719.6,714.05,648.77,619.52,3694.77,1481.0,1422.92,955.0,798.98,748.79,743.0,735.6,648.38,639.32,579.89,563.0,500.0,1293.8,1185.95,970.0,765.0,578.0,1462.64,1080.0,1063.0,1049.0,1014.9,728.91,682.0,631.0,2349.0,1415.16,1309.0,1180.0,1092.14,949.0,900.0,870.0,852.0,800.0,709.62,648.45,560.0,2145.0,1136.24,1040.0,971.5,959.0,848.83,748.87,686.6,638.79,528.0,748.97,670.0,650.0,1742.65,1283.08,1153.4,1148.32,1085.35,1040.0,835.0,799.0,709.62,649.0,643.64],\"xaxis\":\"x\",\"y\":[1,3,3,10,1,1,2,2,5,3,3,1,2,1,2,1,1,1,7,2,11,2,3,2,1,3,2,4,1,1,2,3,2,3,4,5,5,5,4,2,1,6,9,2,3,2,5,8,1,2,2,1,6,5,2,2,4,3,1,1,2,2,2,2,3,4,4,8,3,5,2,8,2,3,3,3,4,3,1,2,2,1,2,1,5,2,4,5,15,1,1,13,3,4,4,7,9,1,1,7,3,2,1,1,2,3,1,1,11,4,3,3,5,1,4,1,9,3,2,1,2,2,3,2,1,4,1,1,1,5,1,1,3,8,4,3,3,2,2,2,1,1,2,3,2,4,1,3,5,1,1,1,5,3,3,6,2,6,1,2,5,2,7,5,1,2,1,4,1,2,3,1,3,1,2,1,1,2,3,2,1,5,3,1,2,7,4,3,4,2,1,1,3,2,2,1,1,2,6,3,2,2,2,1,7,3,1,1,1,2,3,1,1,5,4,5,4,2,8,1,6,3,11,3,2,3,1,6,3,1,8,4,1,6,3,3,6,5,5,1,2,5,1,2,1,3,2,4,3,3,3,1,1,8,1,4,2,3,1,3,7,1,8,4,4,2,6,3,2,1,3,1,1,1,2,1,2,4,5,1,2,3,2,2,2,1,8,3,1,1,4,2,3,2,2,3,10,2,3,1,2,2,2,7,5,4,1,4,2,1,6,2,1,5,4,3,1,1,9,3,4,1,8,3,1,4,3,4,2,4,3,2,2,2,4,4,5,1,5,3,3,5,3,1,1,11,3,2,3,3,1,1,4,3,2,4,2,3,4,4,1,9,1,10,3,1,5,2,3,1,13,1,1,1,10,2,3,4,7,2,1,1,9,3,2,6,2,1,2,2,3,2,3,6,12,5,3,6,1,3,3,1,1,3,4,2,2,3,2,2,2,3,1,7,1,3,2,4,4,2,2,4,3,1,1,1,4,8,1,2,1,1,5,2,1,3,2,1,5,1,2,1,2,1,2,3,2,2,3,4,4,2,2,8,4,1,2,3,5,4,1,1,5,4,2,3,2,3,3,1,3,4,3,4,4,3,2,1,2,1,2,2,4,4,1,4,4,2,4,1,5,2,4,4,3,5,3,2,1,3,2,10,3,3,1,8,1,2,2,5,3,3,2,2,8,3,2,3,2,4,3,3,3,1,5,1,1,2,1,4,1,2,1,1,3,2,3,2,1,2,2,3,3,3,2,1,1,3,8,4,4,3,3,1,1,2,6,3,1,2,2,1,2,1,3,4,1,8,2,5,8,7,1,4,2,2,2,2,2,1,3,3,4,19,3,1,4,1,5,2,4,1,4,1,2,3,2,4,1,7,2,1,5,1,6,1,3,9,3,1,4,2,5,4,1,2,4,5,3,2,6,3,5,3,2,7,3,5,1,2,2,1,1,3,3,2,3,3,2,3,4,4,1,2,12,12,5,7,3,1,4,8,5,1,7,2,2,1,1,1,3,2,1,6,1,1,5,2,5,1,1,2,2,2,1,1,1,9,10,2,3,5,1,1,1,1,1,1,1,1,6,1,4,3,4,3,4,2,3,1,7,3,5,4,1,5,4,1,3,4,7,3,1,2,2,2,4,2,1,1,4,4,4,2,7,2,3,1,2,3,5,2,2,5,4,5,3,4,3,1,2,11,2,5,1,2,5,2,3,3,1,2,3,4,1,5,1,1,4,6,2,3,2,2,3,4,3,5,1,1,11,1,2,1,1,6,3,6,4,2,2,3,3,8,1,2,2,4,1,2,3,4,4,2,4,1,5,3,3,3,3,3,1,3,3,2,3,4,4,1,1,1,2,4,3,2,3,3,2,2,3,2,4,1,1,5,4,5,1,1,4,1,2,1,4,5,7,11,3,1,3,7,5,4,3,2,3,5,4,1,4,2,3,5,1,1,2,4,2,5,2,4,1,1,1,2,3,3,2,3,3,5,4,4,3,1,3,1,4,2,2,2,4,7,3,2,3,4,5,4,1,2,5,4,2,1,2,2,2,1,2,2,5,2,2,2,1,5,2,2,1,19,2,3,4,3,3,11,1,1,3,2,2,3,2,2,4,2,2,4,1,3,1,3,3,1,2,4,1,4,1,2,2,2,1,2,7,7,2,6,1,1,3,3,8,2,1,5,9,1,3,2,4,1,3,8,3,2,5,5,6,4,2,1,2,3,16,1,7,7,6,5,3,2,2,4,3,5,2,12,1,1,2,1,2,2,5,2,2,1],\"yaxis\":\"y\",\"type\":\"scatter\"},{\"hovertemplate\":\"<b>OLS trendline</b><br>bolsa_parcial_cotas = 0.000178041 * mensalidade + 2.90108<br>R<sup>2</sup>=0.002415<br><br>mensalidade=%{x}<br>bolsa_parcial_cotas=%{y} <b>(trend)</b><extra></extra>\",\"legendgroup\":\"\",\"line\":{\"color\":\"red\"},\"marker\":{\"color\":\"#636efa\",\"symbol\":\"circle\"},\"mode\":\"lines\",\"name\":\"\",\"showlegend\":false,\"x\":[489.79,489.79,490.0,496.0,496.0,496.0,496.0,497.1,499.0,499.52,500.0,500.0,500.3,501.1,501.1,501.1,501.1,501.1,503.82,506.85,510.0,511.56,512.86,513.0,515.0,515.95,515.95,515.95,515.95,517.0799999999999,517.88,517.88,517.88,520.0,520.0,522.79,525.0,525.46,526.0,526.0,526.0,528.0,528.0,528.0,528.0,530.0,530.0,530.0,530.0,530.0,534.0,534.0,535.0,540.0,540.0,540.0,543.0,543.71,546.2,547.51,548.62,548.8299999999999,548.8299999999999,548.9,548.94,549.0,549.0,549.0,549.0,550.0,550.0,550.0,550.0,553.0,555.0,556.0,556.0,556.0,556.0,558.0799999999999,559.75,559.75,559.75,559.75,559.8199999999999,560.0,560.0,560.0,560.0,560.0,560.0,560.31,563.0,563.0,565.0,565.0,568.7,569.51,569.67,570.68,576.0,576.21,576.21,578.0,578.2,579.0,579.0,579.82,579.83,579.89,582.0,582.0,582.0,585.0,585.46,588.25,590.0,595.0,595.65,598.0,598.0,598.0,598.0,599.0,599.0,599.0,599.0,602.0,603.87,605.36,606.0,607.63,608.23,609.68,609.68,612.0,612.0,614.11,615.0,616.56,617.0,618.0,619.0,619.52,620.0,622.0,622.2,623.0,626.0,626.51,630.0,630.0,630.0,631.0,631.0,632.0,635.0,635.0,635.0,638.79,639.32,640.0,643.0,643.64,644.0,646.02,647.0,648.38,648.38,648.45,648.47,648.48,648.48,648.77,648.78,648.82,648.95,648.97,649.0,649.0,649.0,649.0,649.92,650.0,650.0,650.0,654.0,655.0,655.0,656.01,657.0,659.48,662.0,662.9,663.0,666.2,667.0,668.63,669.09,670.0,670.0,670.0,671.99,677.48,678.0,678.63,679.2,679.2,679.85,679.85,679.85,680.88,681.83,681.84,682.0,682.0,682.0,682.03,683.0,683.0,683.0,685.0,686.6,686.6,689.82,690.0,691.6,694.0,695.08,696.0,700.0,700.0,700.75,701.0,704.0,705.0,705.03,705.38,706.0,706.0,706.76,709.54,709.62,709.62,711.49,712.0,713.81,713.93,714.05,714.88,716.0,717.93,718.0,718.0,719.6,719.6,723.08,723.77,723.77,724.46,724.62,725.0,725.0,725.0,725.0,726.46,728.55,728.91,728.91,729.71,730.0,730.0,730.0,730.0,730.0,732.0,732.0,732.0,732.0,732.0,732.0,732.2,732.2,733.05,733.76,735.09,735.6,737.82,738.46,739.56,740.0,740.0,740.0,740.0,740.0,740.31,742.78,743.0,745.65,746.66,747.0,747.0,748.0,748.79,748.79,748.81,748.81,748.82,748.87,748.96,748.97,748.97,749.0,749.0,749.0,749.0,749.0,749.0,749.0,749.16,749.35,749.96,750.0,750.0,750.0,750.0,757.92,759.92,763.76,764.0,765.0,765.0,765.0,767.0,768.3,768.3,768.31,769.79,769.99,770.58,770.8,772.0,772.77,773.83,776.0,777.0,777.0,777.0,777.38,778.0,778.1,779.0,780.0,780.0,780.07,781.0,784.29,785.0,788.0,788.0,788.72,790.7,792.0,792.28,794.97,796.0,796.0,797.44,798.8,798.8,798.98,799.0,799.0,799.04,799.04,800.0,800.0,801.4,802.55,804.29,804.33,804.42,806.0,806.0,806.0,806.04,806.61,806.61,807.0,808.33,809.0,809.85,810.0,810.0,810.0,810.0,810.03,810.03,810.03,810.5,813.47,813.8,813.8,815.0,815.0,822.95,827.0,829.0,831.73,832.0,833.0,833.19,834.0,834.0,834.0,834.0,834.0,834.0,834.0,834.0,834.0,834.27,835.0,835.0,835.0,835.0,835.0,835.0,835.0,838.4,839.0,839.79,840.38,841.53,842.0,842.0,843.13,843.53,846.44,848.42,848.56,848.83,848.83,848.87,849.0,849.0,849.2,850.0,850.0,852.0,852.0,852.0,855.0,857.5,858.0,859.4,860.0,862.0,870.0,870.0,870.0,870.0,870.0,870.8,873.22,873.22,873.22,874.6,874.6,877.0,877.46,878.0,878.0,879.0,879.76,880.0,880.67,880.67,883.69,885.0,888.02,888.66,888.87,888.87,888.97,889.0,889.0,889.91,890.0,890.0,890.0,892.0,892.0,892.0,893.3,894.73,898.18,900.0,900.0,900.0,905.0,906.57,906.8,906.88,907.0,907.0,908.0,908.0,908.0,916.0,916.0,917.0,920.0,920.0,923.0,923.0,924.75,924.75,924.75,926.0,926.0,927.0,927.0,927.0,927.66,929.0,929.47,929.89,932.6,934.0,934.0,935.0,938.0,940.0,940.0,940.0,940.14,940.4,943.0,943.47,944.0,944.0,944.0,944.68,945.8,947.48,947.76,948.44,948.44,948.71,948.81,949.0,949.0,949.0,949.0,949.0,950.0,950.0,952.5,954.28,955.0,955.0,955.0,956.0,958.0,959.0,960.0,963.0,965.0,965.88,966.0,967.13,968.35,968.85,968.85,969.08,970.0,970.0,970.08,971.5,973.0,973.0,973.0,973.0,973.0,973.0,973.0,973.22,976.24,977.02,977.62,980.0,980.79,980.97,990.0,990.0,990.0,990.0,990.0,990.39,990.7,991.0,992.0,992.0,994.0,994.82,995.8,1006.0,1006.43,1006.43,1009.0,1013.0,1014.9,1014.9,1014.9,1014.9,1014.9,1014.9,1017.0,1018.74,1018.74,1020.85,1021.0,1023.0,1023.0,1023.14,1023.34,1026.53,1028.52,1028.6799999999998,1028.6799999999998,1028.6799999999998,1028.6799999999998,1028.6799999999998,1028.77,1029.0,1029.33,1029.8,1030.0,1030.0,1030.0,1030.0,1030.0,1030.0,1035.0,1035.0,1035.0,1035.5,1035.5,1037.08,1037.52,1037.52,1037.52,1040.0,1040.0,1040.0,1040.0,1040.0,1040.0,1040.0,1040.0,1040.0,1040.58,1041.0900000000001,1041.0900000000001,1041.6100000000001,1042.13,1043.15,1045.8,1046.6599999999999,1047.0,1048.0,1048.0,1048.83,1048.9299999999998,1049.0,1049.0,1049.0,1049.0,1049.0,1049.0,1049.0,1049.0,1049.0,1049.0,1050.0,1057.1100000000001,1061.49,1062.4099999999999,1063.0,1063.0,1063.0,1063.0,1064.0,1065.05,1071.0,1075.0,1075.0,1076.0,1077.75,1080.0,1085.35,1085.35,1089.0,1089.39,1092.14,1092.14,1092.14,1092.14,1092.14,1092.14,1096.1,1097.24,1097.37,1100.0,1100.0,1100.0,1102.23,1102.63,1107.48,1108.0,1109.4,1111.0,1120.0,1120.2,1128.1,1129.52,1129.52,1130.0,1132.72,1133.6,1135.16,1135.16,1136.0,1136.24,1136.24,1137.56,1140.0,1142.41,1145.25,1148.0,1148.32,1148.32,1150.0,1150.0,1150.0,1150.0,1150.0,1150.0,1150.0,1150.0,1150.0,1150.0,1150.7,1151.74,1152.27,1152.5,1153.4,1154.0,1154.0,1157.46,1159.29,1166.68,1172.18,1175.0,1177.0,1177.81,1179.5,1180.0,1181.35,1184.0,1185.0,1185.95,1187.84,1189.0,1190.0,1194.35,1195.48,1199.0,1200.68,1201.08,1201.24,1203.0,1203.63,1205.6,1208.05,1213.71,1220.45,1221.69,1226.16,1228.0,1244.92,1247.44,1250.0,1254.73,1260.0,1260.0,1260.0,1263.0,1265.8,1270.0,1270.0,1276.95,1279.87,1279.87,1281.24,1283.08,1288.69,1292.6,1292.74,1292.74,1293.8,1297.44,1297.73,1300.0,1300.0,1302.0,1303.56,1303.7,1305.36,1307.75,1309.0,1309.0,1309.0,1310.0,1313.0,1314.24,1314.5,1320.0,1320.0,1320.0,1322.17,1322.63,1326.28,1330.0,1333.15,1334.45,1334.45,1338.54,1345.0,1345.0,1345.0,1345.0,1345.0,1345.0,1347.04,1347.2,1347.2,1347.2,1349.0,1350.0,1350.0,1352.0,1359.24,1368.27,1368.68,1368.72,1370.58,1384.46,1386.65,1402.16,1402.38,1403.75,1403.75,1406.4,1408.84,1412.74,1415.0,1415.0,1415.16,1422.92,1434.82,1434.82,1435.0,1440.0,1440.46,1444.1,1444.1,1444.1,1445.23,1451.65,1452.36,1453.97,1456.27,1459.0,1462.64,1462.64,1462.64,1463.0,1466.2,1470.85,1470.85,1470.85,1470.85,1470.85,1480.75,1481.0,1483.65,1483.65,1486.94,1490.86,1496.0,1501.93,1505.0,1505.0,1511.35,1515.14,1520.0,1520.0,1537.4,1540.86,1548.0,1554.28,1555.0,1560.0,1560.0,1560.55,1560.55,1560.55,1561.29,1562.0,1563.05,1569.0,1581.6,1585.92,1589.95,1589.95,1590.0,1595.0,1610.63,1623.41,1640.0,1641.0,1641.2,1641.3,1648.0,1660.0,1668.48,1668.48,1679.14,1685.0,1687.6,1696.99,1704.0,1715.0,1715.0,1715.0,1715.0,1730.0,1741.0,1742.65,1747.65,1769.0,1805.0,1833.25,1833.25,1902.5,1909.39,1933.69,1938.15,1943.0,1946.71,1948.63,1952.5,1968.37,1976.0,2020.0,2024.0,2029.0,2029.0,2034.0,2037.0,2040.0,2099.0,2145.0,2148.67,2148.67,2223.84,2268.31,2271.36,2271.36,2273.8,2282.5,2314.0,2349.0,2389.1,2432.53,2439.67,2447.0,2477.39,2647.0,2647.0,3097.76,3694.77,6113.0,6498.55,7009.97,7316.79,8300.0,9123.07],\"xaxis\":\"x\",\"y\":[2.9882832488104722,2.9882832488104722,2.988320637414271,2.989388883237091,2.989388883237091,2.989388883237091,2.989388883237091,2.989584728304608,2.989923006148501,2.9900155874531453,2.9901010471189706,2.9901010471189706,2.9901544594101117,2.9902968921864876,2.9902968921864876,2.9902968921864876,2.9902968921864876,2.9902968921864876,2.990781163626166,2.99132062776669,2.9918814568236707,2.992159200737604,2.9923906539992147,2.9924155797350807,2.9927716616760205,2.992940800597967,2.992940800597967,2.992940800597967,2.992940800597967,2.993141986894598,2.993284419670974,2.993284419670974,2.993284419670974,2.9936618665283703,2.9936618665283703,2.9941586008359815,2.99455207138072,2.9946339702271363,2.9947301123511902,2.9947301123511902,2.9947301123511902,2.99508619429213,2.99508619429213,2.99508619429213,2.99508619429213,2.99544227623307,2.99544227623307,2.99544227623307,2.99544227623307,2.99544227623307,2.99615444011495,2.99615444011495,2.9963324810854197,2.99722268593777,2.99722268593777,2.99722268593777,2.99775680884918,2.9978832179382136,2.9983265399546837,2.9985597736259995,2.998757399103221,2.99879478770702,2.99879478770702,2.9988072505749526,2.9988143722137712,2.9988250546719994,2.9988250546719994,2.9988250546719994,2.9988250546719994,2.9990030956424696,2.9990030956424696,2.9990030956424696,2.9990030956424696,2.9995372185538796,2.9998933004948194,3.0000713414652895,3.0000713414652895,3.0000713414652895,3.0000713414652895,3.000441666683867,3.0007389951045518,3.0007389951045518,3.0007389951045518,3.0007389951045518,3.0007514579724845,3.000783505347169,3.000783505347169,3.000783505347169,3.000783505347169,3.000783505347169,3.000783505347169,3.000838698048015,3.001317628258579,3.001317628258579,3.001673710199519,3.001673710199519,3.002332461790258,3.002476674976339,3.002505161531614,3.0026849829117888,3.0036321608746888,3.0036695494784875,3.0036695494784875,3.003988242815629,3.004023851009723,3.0041662837860987,3.0041662837860987,3.004312277381884,3.0043140577915888,3.004324740249817,3.0047004066975087,3.0047004066975087,3.0047004066975087,3.0052345296089187,3.005316428455335,3.005813162762946,3.0061247344612685,3.0070149393136183,3.007130665944424,3.0075490622250283,3.0075490622250283,3.0075490622250283,3.0075490622250283,3.0077271031954984,3.0077271031954984,3.0077271031954984,3.0077271031954984,3.0082612261069084,3.0085941627216872,3.008859443767687,3.008973389988788,3.009263596770654,3.009370421352936,3.0096285807601175,3.0096285807601175,3.010041635811608,3.010041635811608,3.0104173022592997,3.010575758723018,3.010853502636951,3.010931840663958,3.011109881634428,3.0112879226048976,3.011380503909542,3.0114659635753678,3.0118220455163076,3.011857653710402,3.0120000864867778,3.0125342093981877,3.0126250102931276,3.0132463732800674,3.0132463732800674,3.0132463732800674,3.0134244142505375,3.0134244142505375,3.0136024552210077,3.0141365781324176,3.0141365781324176,3.0141365781324176,3.0148113534104986,3.014905715124848,3.0150267829847675,3.0155609058961774,3.015674852117278,3.015738946866647,3.0160985896269965,3.016273069778057,3.0165187663173056,3.0165187663173056,3.0165312291852384,3.016534790004648,3.0165365704143525,3.0165365704143525,3.016588202295789,3.0165899827054936,3.0165971043443127,3.0166202496704737,3.016623810489883,3.016629151718997,3.016629151718997,3.016629151718997,3.016629151718997,3.0167929494118293,3.016807192689467,3.016807192689467,3.016807192689467,3.017519356571347,3.017697397541817,3.017697397541817,3.0178772189219916,3.0180534794827567,3.0184950210895223,3.018943684335107,3.0191039212085298,3.0191217253055767,3.019691456411081,3.0198338891874568,3.0201240959693227,3.020205994815739,3.0203680120988667,3.0203680120988667,3.0203680120988667,3.020722313630102,3.021699758557982,3.0217923398626265,3.0219045056740224,3.0220059890271904,3.0220059890271904,3.022121715657996,3.022121715657996,3.022121715657996,3.02230509785758,3.0224742367795265,3.022476017189231,3.022504503744506,3.022504503744506,3.022504503744506,3.0225098449736203,3.0226825447149763,3.0226825447149763,3.0226825447149763,3.023038626655916,3.023323492208668,3.023323492208668,3.0238967841335813,3.023928831508266,3.024213697061018,3.024640995390146,3.0248332796382535,3.024997077331086,3.025709241212966,3.025709241212966,3.0258427719408183,3.0258872821834357,3.0264214050948457,3.026599446065316,3.02660478729443,3.0266671016340942,3.0267774870357855,3.0267774870357855,3.026912798173343,3.0274077520712495,3.0274219953488872,3.0274219953488872,3.027754931963666,3.0278457328586055,3.028167987015156,3.0281893519316125,3.028210716848069,3.028358490853559,3.0285578967404856,3.0289015158134927,3.0289139786814254,3.0289139786814254,3.0291988442341773,3.0291988442341773,3.029818426811413,3.029941275081037,3.029941275081037,3.0300641233506616,3.0300926099059367,3.030160265474715,3.030160265474715,3.030160265474715,3.030160265474715,3.0304202052916014,3.0307923109198835,3.030856405669253,3.030856405669253,3.030998838445629,3.031050470327065,3.031050470327065,3.031050470327065,3.031050470327065,3.031050470327065,3.031406552268005,3.031406552268005,3.031406552268005,3.031406552268005,3.031406552268005,3.031406552268005,3.031442160462099,3.031442160462099,3.0315934952869985,3.031719904376032,3.0319566988667574,3.032047499761697,3.0324427507161404,3.0325566969372413,3.032752542004758,3.032830880031765,3.032830880031765,3.032830880031765,3.032830880031765,3.032830880031765,3.0328860727326106,3.0333258339296716,3.033365002943175,3.03383681151492,3.034016632895095,3.0340771668250546,3.0340771668250546,3.0342552077955247,3.034395860162196,3.034395860162196,3.034399420981605,3.034399420981605,3.03440120139131,3.0344101034398334,3.0344261271271757,3.0344279075368803,3.0344279075368803,3.0344332487659944,3.0344332487659944,3.0344332487659944,3.0344332487659944,3.0344332487659944,3.0344332487659944,3.0344332487659944,3.03446173532127,3.034495563105659,3.034604168097646,3.0346112897364645,3.0346112897364645,3.0346112897364645,3.0346112897364645,3.036021374222587,3.036377456163527,3.0370611334901314,3.0371038633230443,3.0372819042935144,3.0372819042935144,3.0372819042935144,3.0376379862344542,3.037869439496065,3.037869439496065,3.03787121990577,3.0381347205420655,3.038170328736159,3.038275372908737,3.03831454192224,3.038528191086804,3.038665282634066,3.0388540060627642,3.039240354968684,3.039418395939154,3.039418395939154,3.039418395939154,3.0394860515079323,3.039596436909624,3.039614241006671,3.0397744778800937,3.039952518850564,3.039952518850564,3.0399649817184966,3.040130559821034,3.04071631461388,3.0408427237029136,3.0413768466143236,3.0413768466143236,3.041505036113062,3.0418575572345925,3.0420890104962037,3.0421388619679353,3.0426177921784996,3.0428011743780834,3.0428011743780834,3.04305755337556,3.043299689095399,3.043299689095399,3.043331736470084,3.0433352972894934,3.0433352972894934,3.043342418928312,3.043342418928312,3.0435133382599635,3.0435133382599635,3.043762595618621,3.043967342734662,3.0442771340232797,3.0442842556620984,3.0443002793494407,3.044581584082783,3.044581584082783,3.044581584082783,3.044588705721602,3.0446901890747697,3.0446901890747697,3.044759625053253,3.0449964195439785,3.045115706994193,3.0452670418190926,3.045293747964663,3.045293747964663,3.045293747964663,3.045293747964663,3.0452990891937772,3.0452990891937772,3.0452990891937772,3.045382768449898,3.045911550132194,3.045970303652449,3.045970303652449,3.046183952817013,3.046183952817013,3.0475993785322495,3.048320444462653,3.0486765264035927,3.0491625782529757,3.0492106493150026,3.0493886902854723,3.049422518069862,3.0495667312559425,3.0495667312559425,3.0495667312559425,3.0495667312559425,3.0495667312559425,3.0495667312559425,3.0495667312559425,3.0495667312559425,3.0495667312559425,3.0496148023179694,3.0497447722264126,3.0497447722264126,3.0497447722264126,3.0497447722264126,3.0497447722264126,3.0497447722264126,3.0497447722264126,3.0503501115260105,3.0504569361082923,3.0505975884749637,3.050702632647541,3.0509073797635815,3.0509910590197022,3.0509910590197022,3.0511922453163334,3.0512634617045213,3.051781560928589,3.0521340820501197,3.0521590077859853,3.0522070788480122,3.0522070788480122,3.052214200486831,3.0522373458129923,3.0522373458129923,3.052272954007086,3.052415386783462,3.052415386783462,3.052771468724402,3.052771468724402,3.052771468724402,3.053305591635812,3.053750694061987,3.053839714547222,3.05408897190588,3.0541957964881616,3.054551878429102,3.0559762061928617,3.0559762061928617,3.0559762061928617,3.0559762061928617,3.0559762061928617,3.0561186389692376,3.056549498117775,3.056549498117775,3.056549498117775,3.0567951946570235,3.0567951946570235,3.0572224929861513,3.0573043918325675,3.0574005339566215,3.0574005339566215,3.057578574927091,3.0577138860646484,3.0577566158975613,3.0578759033477763,3.0578759033477763,3.058413587078596,3.058646820749911,3.0591845044807306,3.0592984507018315,3.0593358393056302,3.0593358393056302,3.059353643402677,3.0593589846317912,3.0593589846317912,3.0595210019149186,3.059537025602261,3.059537025602261,3.059537025602261,3.059893107543201,3.059893107543201,3.059893107543201,3.060124560804812,3.060379159392584,3.0609934007407054,3.061317435306961,3.061317435306961,3.061317435306961,3.062207640159311,3.0624871644829486,3.062528113906157,3.062542357183794,3.0625637221002506,3.0625637221002506,3.0627417630707208,3.0627417630707208,3.0627417630707208,3.0641660908344805,3.0641660908344805,3.0643441318049502,3.06487825471636,3.06487825471636,3.06541237762777,3.06541237762777,3.0657239493260926,3.0657239493260926,3.0657239493260926,3.06594650053918,3.06594650053918,3.0661245415096503,3.0661245415096503,3.0661245415096503,3.0662420485501602,3.06648062345059,3.066564302706711,3.0666390799143084,3.0671215709442823,3.06737082830294,3.06737082830294,3.06754886927341,3.06808299218482,3.06843907412576,3.06843907412576,3.06843907412576,3.068463999861626,3.068510290513948,3.06897319703717,3.0690568762932906,3.06915123800764,3.06915123800764,3.06915123800764,3.0692723058675595,3.0694717117544856,3.0697708205848753,3.069820672056607,3.0699417399165263,3.0699417399165263,3.0699898109785533,3.0700076150756,3.07004144285999,3.07004144285999,3.07004144285999,3.07004144285999,3.07004144285999,3.0702194838304595,3.0702194838304595,3.0706645862566346,3.070981499184071,3.0711096886828093,3.0711096886828093,3.0711096886828093,3.0712877296532795,3.0716438115942193,3.0718218525646894,3.0719998935351596,3.072534016446569,3.0728900983875094,3.0730467744415226,3.073068139357979,3.07326932565461,3.0734865356385836,3.0735755561238185,3.0735755561238185,3.073616505547027,3.073780303239859,3.073780303239859,3.0737945465174965,3.074047364695564,3.074314426151269,3.074314426151269,3.074314426151269,3.074314426151269,3.074314426151269,3.074314426151269,3.074314426151269,3.0743535951647725,3.074891278895592,3.0750301508525584,3.07513697543484,3.075560712944559,3.07570136531123,3.075733412685915,3.0773411226492584,3.0773411226492584,3.0773411226492584,3.0773411226492584,3.0773411226492584,3.077410558627742,3.0774657513285875,3.0775191636197285,3.0776972045901987,3.0776972045901987,3.0780532865311385,3.078199280126924,3.0783737602779846,3.0801897781767784,3.0802663357940805,3.0802663357940805,3.080723901088188,3.081436064970068,3.081774342813961,3.081774342813961,3.081774342813961,3.081774342813961,3.081774342813961,3.081774342813961,3.082148228851948,3.0824580201405656,3.0824580201405656,3.0828336865882573,3.082860392733828,3.0832164746747677,3.0832164746747677,3.0832414004106337,3.0832770086047274,3.083844959300527,3.084199260831762,3.0842277473870374,3.0842277473870374,3.0842277473870374,3.0842277473870374,3.0842277473870374,3.0842437710743797,3.0842847204975876,3.084343474017843,3.0844271532739636,3.0844627614680578,3.0844627614680578,3.0844627614680578,3.0844627614680578,3.0844627614680578,3.0844627614680578,3.0853529663204076,3.0853529663204076,3.0853529663204076,3.0854419868056424,3.0854419868056424,3.085723291538985,3.085801629565992,3.085801629565992,3.085801629565992,3.0862431711727574,3.0862431711727574,3.0862431711727574,3.0862431711727574,3.0862431711727574,3.0862431711727574,3.0862431711727574,3.0862431711727574,3.0862431711727574,3.08634643493563,3.08643723583057,3.08643723583057,3.0865298171352142,3.0866223984398586,3.086804000229738,3.087275808801483,3.0874289240360873,3.087489457966047,3.087667498936517,3.087667498936517,3.087815272942007,3.087833077039054,3.0878455399069873,3.0878455399069873,3.0878455399069873,3.0878455399069873,3.0878455399069873,3.0878455399069873,3.0878455399069873,3.0878455399069873,3.0878455399069873,3.0878455399069873,3.088023580877457,3.0892894521774985,3.090069271628157,3.0902330693209894,3.090338113493567,3.090338113493567,3.090338113493567,3.090338113493567,3.0905161544640367,3.09070309748303,3.091762441257327,3.0924746051392065,3.0924746051392065,3.0926526461096766,3.092964217807999,3.0933648099915563,3.094317329183571,3.094317329183571,3.094967178725786,3.0950366147042696,3.0955262273730617,3.0955262273730617,3.0955262273730617,3.0955262273730617,3.0955262273730617,3.0955262273730617,3.096231269616123,3.096434236322459,3.09645738164862,3.096925629400956,3.096925629400956,3.096925629400956,3.097322660765104,3.097393877153292,3.0982573758600713,3.0983499571647157,3.098599214523374,3.0988840800761257,3.100486448810355,3.1005220570044494,3.1019285806711623,3.1021813988492295,3.1021813988492295,3.1022668585150552,3.1027511299547337,3.102907806008747,3.10318554992268,3.10318554992268,3.103335104337875,3.1033778341707876,3.1033778341707876,3.1036128482518084,3.104047268219755,3.1044763469585877,3.104981983314722,3.1054715959835146,3.1055285690940653,3.1055285690940653,3.1058276779244545,3.1058276779244545,3.1058276779244545,3.1058276779244545,3.1058276779244545,3.1058276779244545,3.1058276779244545,3.1058276779244545,3.1058276779244545,3.1058276779244545,3.1059523066037835,3.1061374692130723,3.1062318309274213,3.1062727803506296,3.1064330172240524,3.1065398418063346,3.1065398418063346,3.1071558635641607,3.107481678540121,3.108797401311894,3.1097766266494786,3.110278702186204,3.110634784127144,3.1107789973132247,3.111079886553319,3.1111689070385538,3.111409262348688,3.111881070920434,3.112059111890904,3.1122282508128505,3.1125647482470384,3.1127712757727837,3.112949316743254,3.1137237949647982,3.1139249812614294,3.1145516854774833,3.114850794307873,3.114922010696061,3.114950497251336,3.1152638493593634,3.1153760151707592,3.1157267558825854,3.116162956260237,3.1171706681530966,3.1183706642940643,3.1185914350974473,3.119387278235448,3.119714873621113,3.122727326841465,3.123175990087049,3.123631774971452,3.124473908761775,3.125412184676152,3.125412184676152,3.125412184676152,3.125946307587562,3.1264448223048777,3.1271925943808516,3.1271925943808516,3.128429979125618,3.1289498587593902,3.1289498587593902,3.1291937748889342,3.129521370274599,3.1305201801189355,3.1312163203134733,3.131241246049339,3.131241246049339,3.131429969478037,3.1320780386105476,3.132129670491984,3.132533823494951,3.132533823494951,3.1328899054358907,3.133167649349824,3.13319257508569,3.13348812309667,3.1339136410160933,3.134136192229181,3.134136192229181,3.134136192229181,3.1343142331996505,3.1348483561110605,3.1350691269144435,3.1351154175667655,3.1360946429043506,3.1360946429043506,3.1360946429043506,3.13648099181027,3.1365628906566867,3.137212740198902,3.13787505260905,3.1384358816660307,3.1386673349276415,3.1386673349276415,3.139395522496864,3.1405456671660996,3.1405456671660996,3.1405456671660996,3.1405456671660996,3.1405456671660996,3.1405456671660996,3.1409088707458586,3.1409373573011337,3.1409373573011337,3.1409373573011337,3.1412578310479797,3.14143587201845,3.14143587201845,3.1417919539593897,3.143080970585592,3.1446886805489362,3.1447616773468288,3.1447687989856474,3.1450999551907217,3.147571163860845,3.1479610735861745,3.1507224890381638,3.150761658051667,3.1510055741812106,3.1510055741812106,3.1514773827529563,3.151911802720903,3.152606162505736,3.1530085350989983,3.1530085350989983,3.1530370216542734,3.1544186195851203,3.156537307133713,3.156537307133713,3.1565693545083975,3.1574595593607473,3.1575414582071635,3.1581895273396743,3.1581895273396743,3.1581895273396743,3.1583907136363054,3.159533736666723,3.1596601457557565,3.159946791718213,3.160356285950294,3.160842337799677,3.1614904069321876,3.1614904069321876,3.1614904069321876,3.161554501681557,3.1621242327870607,3.162952123299746,3.162952123299746,3.162952123299746,3.162952123299746,3.162952123299746,3.164714728907399,3.1647592391500163,3.165231047721762,3.165231047721762,3.165816802514608,3.1665147231188504,3.167429853707066,3.168485636661953,3.1690322224412957,3.1690322224412957,3.1701627826037804,3.1708375578818613,3.1717028369983455,3.1717028369983455,3.174800749884523,3.1754167716423494,3.1766879841715046,3.177806081466056,3.1779342709647946,3.1788244758171444,3.1788244758171444,3.178922398350903,3.178922398350903,3.178922398350903,3.1790541486690507,3.1791805577580843,3.1793675007770776,3.1804268445513744,3.182670160779296,3.1834392977717263,3.18415680288272,3.18415680288272,3.1841657049312437,3.1850559097835935,3.1878386901520392,3.1901140537546455,3.1930677534547423,3.1932457944252124,3.1932814026193066,3.1932992067163535,3.1944920812185025,3.196628572864142,3.1981383602937274,3.1981383602937274,3.2000362770389374,3.2010795971258914,3.2015425036491134,3.2032143083618263,3.204462375564821,3.2064208262399907,3.2064208262399907,3.2064208262399907,3.2064208262399907,3.20909144079704,3.21104989147221,3.2113436590734854,3.212233863925835,3.2160350386453693,3.2224445135822886,3.227474170998065,3.227474170998065,3.239803508203111,3.241030210489649,3.2453566060720695,3.2461506688003654,3.247014167507145,3.2476746995075887,3.2480165381708908,3.24870555672661,3.251531066927968,3.252889519532654,3.260723322233333,3.261435486115213,3.262325690967563,3.262325690967563,3.2632158958199127,3.2637500187313226,3.2642841416427326,3.274788558900461,3.28297844354208,3.283631853903705,3.283631853903705,3.297015193653933,3.3049326756107327,3.305475700570666,3.305475700570666,3.3059101205386128,3.3074590769817016,3.313067367551506,3.319298801517955,3.3264382444338008,3.3341705637813117,3.3354417763104673,3.3367468166240126,3.342157481716595,3.3723550107180076,3.3723550107180076,3.4526087585670533,3.558900998347333,3.9894450143669413,4.05808871053164,4.149142423649395,4.203768954208993,4.378820616784777,4.5253607983494994],\"yaxis\":\"y\",\"type\":\"scatter\"}],                        {\"template\":{\"data\":{\"bar\":[{\"error_x\":{\"color\":\"#2a3f5f\"},\"error_y\":{\"color\":\"#2a3f5f\"},\"marker\":{\"line\":{\"color\":\"#E5ECF6\",\"width\":0.5},\"pattern\":{\"fillmode\":\"overlay\",\"size\":10,\"solidity\":0.2}},\"type\":\"bar\"}],\"barpolar\":[{\"marker\":{\"line\":{\"color\":\"#E5ECF6\",\"width\":0.5},\"pattern\":{\"fillmode\":\"overlay\",\"size\":10,\"solidity\":0.2}},\"type\":\"barpolar\"}],\"carpet\":[{\"aaxis\":{\"endlinecolor\":\"#2a3f5f\",\"gridcolor\":\"white\",\"linecolor\":\"white\",\"minorgridcolor\":\"white\",\"startlinecolor\":\"#2a3f5f\"},\"baxis\":{\"endlinecolor\":\"#2a3f5f\",\"gridcolor\":\"white\",\"linecolor\":\"white\",\"minorgridcolor\":\"white\",\"startlinecolor\":\"#2a3f5f\"},\"type\":\"carpet\"}],\"choropleth\":[{\"colorbar\":{\"outlinewidth\":0,\"ticks\":\"\"},\"type\":\"choropleth\"}],\"contour\":[{\"colorbar\":{\"outlinewidth\":0,\"ticks\":\"\"},\"colorscale\":[[0.0,\"#0d0887\"],[0.1111111111111111,\"#46039f\"],[0.2222222222222222,\"#7201a8\"],[0.3333333333333333,\"#9c179e\"],[0.4444444444444444,\"#bd3786\"],[0.5555555555555556,\"#d8576b\"],[0.6666666666666666,\"#ed7953\"],[0.7777777777777778,\"#fb9f3a\"],[0.8888888888888888,\"#fdca26\"],[1.0,\"#f0f921\"]],\"type\":\"contour\"}],\"contourcarpet\":[{\"colorbar\":{\"outlinewidth\":0,\"ticks\":\"\"},\"type\":\"contourcarpet\"}],\"heatmap\":[{\"colorbar\":{\"outlinewidth\":0,\"ticks\":\"\"},\"colorscale\":[[0.0,\"#0d0887\"],[0.1111111111111111,\"#46039f\"],[0.2222222222222222,\"#7201a8\"],[0.3333333333333333,\"#9c179e\"],[0.4444444444444444,\"#bd3786\"],[0.5555555555555556,\"#d8576b\"],[0.6666666666666666,\"#ed7953\"],[0.7777777777777778,\"#fb9f3a\"],[0.8888888888888888,\"#fdca26\"],[1.0,\"#f0f921\"]],\"type\":\"heatmap\"}],\"heatmapgl\":[{\"colorbar\":{\"outlinewidth\":0,\"ticks\":\"\"},\"colorscale\":[[0.0,\"#0d0887\"],[0.1111111111111111,\"#46039f\"],[0.2222222222222222,\"#7201a8\"],[0.3333333333333333,\"#9c179e\"],[0.4444444444444444,\"#bd3786\"],[0.5555555555555556,\"#d8576b\"],[0.6666666666666666,\"#ed7953\"],[0.7777777777777778,\"#fb9f3a\"],[0.8888888888888888,\"#fdca26\"],[1.0,\"#f0f921\"]],\"type\":\"heatmapgl\"}],\"histogram\":[{\"marker\":{\"pattern\":{\"fillmode\":\"overlay\",\"size\":10,\"solidity\":0.2}},\"type\":\"histogram\"}],\"histogram2d\":[{\"colorbar\":{\"outlinewidth\":0,\"ticks\":\"\"},\"colorscale\":[[0.0,\"#0d0887\"],[0.1111111111111111,\"#46039f\"],[0.2222222222222222,\"#7201a8\"],[0.3333333333333333,\"#9c179e\"],[0.4444444444444444,\"#bd3786\"],[0.5555555555555556,\"#d8576b\"],[0.6666666666666666,\"#ed7953\"],[0.7777777777777778,\"#fb9f3a\"],[0.8888888888888888,\"#fdca26\"],[1.0,\"#f0f921\"]],\"type\":\"histogram2d\"}],\"histogram2dcontour\":[{\"colorbar\":{\"outlinewidth\":0,\"ticks\":\"\"},\"colorscale\":[[0.0,\"#0d0887\"],[0.1111111111111111,\"#46039f\"],[0.2222222222222222,\"#7201a8\"],[0.3333333333333333,\"#9c179e\"],[0.4444444444444444,\"#bd3786\"],[0.5555555555555556,\"#d8576b\"],[0.6666666666666666,\"#ed7953\"],[0.7777777777777778,\"#fb9f3a\"],[0.8888888888888888,\"#fdca26\"],[1.0,\"#f0f921\"]],\"type\":\"histogram2dcontour\"}],\"mesh3d\":[{\"colorbar\":{\"outlinewidth\":0,\"ticks\":\"\"},\"type\":\"mesh3d\"}],\"parcoords\":[{\"line\":{\"colorbar\":{\"outlinewidth\":0,\"ticks\":\"\"}},\"type\":\"parcoords\"}],\"pie\":[{\"automargin\":true,\"type\":\"pie\"}],\"scatter\":[{\"marker\":{\"colorbar\":{\"outlinewidth\":0,\"ticks\":\"\"}},\"type\":\"scatter\"}],\"scatter3d\":[{\"line\":{\"colorbar\":{\"outlinewidth\":0,\"ticks\":\"\"}},\"marker\":{\"colorbar\":{\"outlinewidth\":0,\"ticks\":\"\"}},\"type\":\"scatter3d\"}],\"scattercarpet\":[{\"marker\":{\"colorbar\":{\"outlinewidth\":0,\"ticks\":\"\"}},\"type\":\"scattercarpet\"}],\"scattergeo\":[{\"marker\":{\"colorbar\":{\"outlinewidth\":0,\"ticks\":\"\"}},\"type\":\"scattergeo\"}],\"scattergl\":[{\"marker\":{\"colorbar\":{\"outlinewidth\":0,\"ticks\":\"\"}},\"type\":\"scattergl\"}],\"scattermapbox\":[{\"marker\":{\"colorbar\":{\"outlinewidth\":0,\"ticks\":\"\"}},\"type\":\"scattermapbox\"}],\"scatterpolar\":[{\"marker\":{\"colorbar\":{\"outlinewidth\":0,\"ticks\":\"\"}},\"type\":\"scatterpolar\"}],\"scatterpolargl\":[{\"marker\":{\"colorbar\":{\"outlinewidth\":0,\"ticks\":\"\"}},\"type\":\"scatterpolargl\"}],\"scatterternary\":[{\"marker\":{\"colorbar\":{\"outlinewidth\":0,\"ticks\":\"\"}},\"type\":\"scatterternary\"}],\"surface\":[{\"colorbar\":{\"outlinewidth\":0,\"ticks\":\"\"},\"colorscale\":[[0.0,\"#0d0887\"],[0.1111111111111111,\"#46039f\"],[0.2222222222222222,\"#7201a8\"],[0.3333333333333333,\"#9c179e\"],[0.4444444444444444,\"#bd3786\"],[0.5555555555555556,\"#d8576b\"],[0.6666666666666666,\"#ed7953\"],[0.7777777777777778,\"#fb9f3a\"],[0.8888888888888888,\"#fdca26\"],[1.0,\"#f0f921\"]],\"type\":\"surface\"}],\"table\":[{\"cells\":{\"fill\":{\"color\":\"#EBF0F8\"},\"line\":{\"color\":\"white\"}},\"header\":{\"fill\":{\"color\":\"#C8D4E3\"},\"line\":{\"color\":\"white\"}},\"type\":\"table\"}]},\"layout\":{\"annotationdefaults\":{\"arrowcolor\":\"#2a3f5f\",\"arrowhead\":0,\"arrowwidth\":1},\"autotypenumbers\":\"strict\",\"coloraxis\":{\"colorbar\":{\"outlinewidth\":0,\"ticks\":\"\"}},\"colorscale\":{\"diverging\":[[0,\"#8e0152\"],[0.1,\"#c51b7d\"],[0.2,\"#de77ae\"],[0.3,\"#f1b6da\"],[0.4,\"#fde0ef\"],[0.5,\"#f7f7f7\"],[0.6,\"#e6f5d0\"],[0.7,\"#b8e186\"],[0.8,\"#7fbc41\"],[0.9,\"#4d9221\"],[1,\"#276419\"]],\"sequential\":[[0.0,\"#0d0887\"],[0.1111111111111111,\"#46039f\"],[0.2222222222222222,\"#7201a8\"],[0.3333333333333333,\"#9c179e\"],[0.4444444444444444,\"#bd3786\"],[0.5555555555555556,\"#d8576b\"],[0.6666666666666666,\"#ed7953\"],[0.7777777777777778,\"#fb9f3a\"],[0.8888888888888888,\"#fdca26\"],[1.0,\"#f0f921\"]],\"sequentialminus\":[[0.0,\"#0d0887\"],[0.1111111111111111,\"#46039f\"],[0.2222222222222222,\"#7201a8\"],[0.3333333333333333,\"#9c179e\"],[0.4444444444444444,\"#bd3786\"],[0.5555555555555556,\"#d8576b\"],[0.6666666666666666,\"#ed7953\"],[0.7777777777777778,\"#fb9f3a\"],[0.8888888888888888,\"#fdca26\"],[1.0,\"#f0f921\"]]},\"colorway\":[\"#636efa\",\"#EF553B\",\"#00cc96\",\"#ab63fa\",\"#FFA15A\",\"#19d3f3\",\"#FF6692\",\"#B6E880\",\"#FF97FF\",\"#FECB52\"],\"font\":{\"color\":\"#2a3f5f\"},\"geo\":{\"bgcolor\":\"white\",\"lakecolor\":\"white\",\"landcolor\":\"#E5ECF6\",\"showlakes\":true,\"showland\":true,\"subunitcolor\":\"white\"},\"hoverlabel\":{\"align\":\"left\"},\"hovermode\":\"closest\",\"mapbox\":{\"style\":\"light\"},\"paper_bgcolor\":\"white\",\"plot_bgcolor\":\"#E5ECF6\",\"polar\":{\"angularaxis\":{\"gridcolor\":\"white\",\"linecolor\":\"white\",\"ticks\":\"\"},\"bgcolor\":\"#E5ECF6\",\"radialaxis\":{\"gridcolor\":\"white\",\"linecolor\":\"white\",\"ticks\":\"\"}},\"scene\":{\"xaxis\":{\"backgroundcolor\":\"#E5ECF6\",\"gridcolor\":\"white\",\"gridwidth\":2,\"linecolor\":\"white\",\"showbackground\":true,\"ticks\":\"\",\"zerolinecolor\":\"white\"},\"yaxis\":{\"backgroundcolor\":\"#E5ECF6\",\"gridcolor\":\"white\",\"gridwidth\":2,\"linecolor\":\"white\",\"showbackground\":true,\"ticks\":\"\",\"zerolinecolor\":\"white\"},\"zaxis\":{\"backgroundcolor\":\"#E5ECF6\",\"gridcolor\":\"white\",\"gridwidth\":2,\"linecolor\":\"white\",\"showbackground\":true,\"ticks\":\"\",\"zerolinecolor\":\"white\"}},\"shapedefaults\":{\"line\":{\"color\":\"#2a3f5f\"}},\"ternary\":{\"aaxis\":{\"gridcolor\":\"white\",\"linecolor\":\"white\",\"ticks\":\"\"},\"baxis\":{\"gridcolor\":\"white\",\"linecolor\":\"white\",\"ticks\":\"\"},\"bgcolor\":\"#E5ECF6\",\"caxis\":{\"gridcolor\":\"white\",\"linecolor\":\"white\",\"ticks\":\"\"}},\"title\":{\"x\":0.05},\"xaxis\":{\"automargin\":true,\"gridcolor\":\"white\",\"linecolor\":\"white\",\"ticks\":\"\",\"title\":{\"standoff\":15},\"zerolinecolor\":\"white\",\"zerolinewidth\":2},\"yaxis\":{\"automargin\":true,\"gridcolor\":\"white\",\"linecolor\":\"white\",\"ticks\":\"\",\"title\":{\"standoff\":15},\"zerolinecolor\":\"white\",\"zerolinewidth\":2}}},\"xaxis\":{\"anchor\":\"y\",\"domain\":[0.0,1.0],\"title\":{\"text\":\"mensalidade\"}},\"yaxis\":{\"anchor\":\"x\",\"domain\":[0.0,1.0],\"title\":{\"text\":\"bolsa_parcial_cotas\"}},\"legend\":{\"tracegroupgap\":0},\"margin\":{\"t\":60}},                        {\"responsive\": true}                    )                };                            </script>        </div>\n",
       "</body>\n",
       "</html>"
      ]
     },
     "metadata": {
      "application/vnd.databricks.v1+output": {
       "addedWidgets": {},
       "arguments": {},
       "data": "<html>\n<head><meta charset=\"utf-8\" /></head>\n<body>\n    <div>            <script src=\"https://cdnjs.cloudflare.com/ajax/libs/mathjax/2.7.5/MathJax.js?config=TeX-AMS-MML_SVG\"></script><script type=\"text/javascript\">if (window.MathJax) {MathJax.Hub.Config({SVG: {font: \"STIX-Web\"}});}</script>                <script type=\"text/javascript\">window.PlotlyConfig = {MathJaxConfig: 'local'};</script>\n        <script src=\"https://cdn.plot.ly/plotly-2.9.0.min.js\"></script>                <div id=\"b3d2117c-e757-4853-9c94-e1adac7d2737\" class=\"plotly-graph-div\" style=\"height:100%; width:100%;\"></div>            <script type=\"text/javascript\">                                    window.PLOTLYENV=window.PLOTLYENV || {};                                    if (document.getElementById(\"b3d2117c-e757-4853-9c94-e1adac7d2737\")) {                    Plotly.newPlot(                        \"b3d2117c-e757-4853-9c94-e1adac7d2737\",                        [{\"hovertemplate\":\"mensalidade=%{x}<br>bolsa_parcial_cotas=%{y}<extra></extra>\",\"legendgroup\":\"\",\"marker\":{\"color\":\"#636efa\",\"symbol\":\"circle\"},\"mode\":\"markers\",\"name\":\"\",\"orientation\":\"v\",\"showlegend\":false,\"x\":[1561.29,980.0,927.0,829.0,543.0,1730.0,1096.1,927.66,681.84,662.0,630.0,510.0,1833.25,1715.0,1462.64,1064.0,705.03,696.0,622.2,595.0,548.62,1696.99,1402.38,1309.0,1151.74,1062.4099999999999,1040.0,908.0,843.13,1208.05,883.69,713.81,2029.0,1560.55,892.0,850.0,723.77,679.85,598.0,568.7,560.0,553.0,1685.0,1537.4,1189.0,944.68,842.0,806.0,773.83,749.0,701.0,1150.0,748.81,747.0,683.0,548.8299999999999,530.0,2647.0,1092.14,1035.0,835.0,831.73,813.8,770.58,729.71,558.0799999999999,8300.0,2477.39,1505.0,1470.85,1470.85,1466.2,1350.0,1133.6,1077.75,1030.0,833.0,788.72,730.0,582.0,525.46,1715.0,1444.1,1014.9,965.0,780.0,1048.9299999999998,954.28,852.0,834.0,730.0,730.0,725.0,598.0,579.0,563.0,1938.15,1412.74,1352.0,1292.74,970.08,940.0,888.87,770.8,671.99,649.92,616.56,543.71,499.52,2271.36,1309.0,1150.0,1130.0,1092.14,1049.0,943.0,870.0,749.96,548.8299999999999,1177.0,973.0,806.0,737.82,648.48,605.36,559.75,550.0,1254.73,1092.14,1049.0,1037.08,980.97,679.85,606.0,579.0,1320.0,1159.29,973.0,748.96,740.0,700.0,520.0,489.79,1554.28,1406.4,1150.0,1076.0,1075.0,1037.52,1030.0,966.0,859.4,849.0,750.0,719.6,618.0,1108.0,1102.63,746.66,649.0,1347.2,1345.0,1150.0,835.0,740.31,603.87,540.0,1148.32,888.87,792.0,732.0,556.0,3097.76,1560.0,1515.14,1314.5,1300.0,1199.0,822.95,804.42,763.76,681.83,1909.39,1648.0,1349.0,1334.45,1322.63,1150.7,1023.0,945.8,700.75,685.0,565.0,517.88,1560.55,1548.0,1049.0,926.0,917.0,659.48,640.0,579.83,489.79,1976.0,947.76,873.22,855.0,792.28,780.07,1190.0,848.87,767.0,560.0,517.0799999999999,515.0,1501.93,1288.69,940.0,874.6,873.22,852.0,1933.69,1152.5,843.53,806.61,749.0,745.65,648.78,588.25,548.9,501.1,2148.67,1220.45,1071.0,940.4,889.0,749.16,723.77,635.0,559.75,1276.95,1228.0,1061.49,834.0,809.0,705.38,528.0,1313.0,1265.8,965.88,1470.85,1320.0,1014.9,1006.43,949.0,839.79,835.0,810.03,810.0,732.2,667.0,1314.24,1041.6100000000001,1035.5,973.0,849.2,717.93,706.76,530.0,515.95,1641.2,1435.0,1370.58,1137.56,977.62,970.0,944.0,924.75,749.0,728.55,695.08,682.03,650.0,626.0,614.11,1175.0,1111.0,827.0,799.04,608.23,599.0,1345.0,1334.45,1247.44,1063.0,1049.0,1028.77,892.0,834.0,576.0,565.0,503.82,1585.92,878.0,858.0,585.0,570.68,511.56,1345.0,1345.0,1150.0,973.0,834.0,679.85,631.0,550.0,1741.0,1505.0,1347.2,995.8,929.89,920.0,808.33,749.35,705.0,648.82,1490.86,1368.72,1345.0,1150.0,1041.0900000000001,838.4,832.0,777.0,643.0,513.0,1595.0,1330.0,1089.0,849.0,790.7,777.0,669.09,599.0,1347.04,888.02,768.3,663.0,626.51,559.75,525.0,512.86,496.0,2447.0,810.03,810.0,769.99,765.0,749.0,7316.79,1300.0,1281.24,898.18,839.0,801.4,677.48,1451.65,1201.08,1152.27,1129.52,840.38,785.0,595.65,1952.5,1480.75,1040.0,938.0,880.0,877.46,873.22,576.21,522.79,7009.97,1456.27,1302.0,1307.75,1205.6,1102.23,764.0,534.0,2024.0,1279.87,1226.16,927.0,726.46,649.0,612.0,526.0,6498.55,1590.0,1150.0,1120.0,1014.9,992.0,929.47,890.0,878.0,797.44,750.0,656.01,2268.31,1520.0,1444.1,1292.6,1092.14,1048.83,1028.6799999999998,990.0,950.0,908.0,906.88,870.0,848.42,788.0,644.0,546.2,2040.0,1641.3,1326.28,1150.0,1048.0,1014.9,944.0,857.5,788.0,704.0,576.21,1260.0,1049.0,1043.15,769.79,709.54,654.0,648.48,556.0,530.0,1263.0,1250.0,924.75,956.0,885.0,757.92,648.97,976.24,908.0,781.0,1610.63,1320.0,1006.43,948.44,879.0,834.0,682.0,2647.0,2282.5,1563.05,1297.44,1028.52,923.0,730.0,2389.1,2020.0,1195.48,1030.0,973.0,967.13,810.0,609.68,517.88,1589.95,947.48,835.0,670.0,612.0,500.3,2148.67,1177.81,835.0,834.0,635.0,1968.37,1640.0,1150.0,749.0,1042.13,955.0,940.14,1452.36,1075.0,1065.05,990.0,794.97,747.0,540.0,2439.67,1297.73,1260.0,973.0,916.0,890.0,748.97,732.0,648.95,602.0,599.0,599.0,582.0,1403.75,992.0,944.0,846.44,657.0,559.75,1434.82,1187.84,1049.0,1035.0,969.08,968.35,810.0,778.1,646.02,649.0,2099.0,1292.74,990.0,815.0,806.61,556.0,550.0,534.0,2223.84,1641.0,1560.0,732.0,728.91,679.2,1483.65,1359.24,1020.85,973.0,798.8,750.0,724.46,578.2,569.67,1184.0,1136.0,1129.52,907.0,740.0,700.0,655.0,555.0,535.0,490.0,1244.92,1179.5,813.8,799.0,732.2,689.82,556.0,924.75,890.0,841.53,800.0,748.82,1833.25,1668.48,920.0,622.0,1581.6,1511.35,1445.23,1148.0,1097.37,1029.8,958.0,776.0,718.0,650.0,630.0,560.0,530.0,501.1,1030.0,1013.0,779.0,748.81,739.56,648.38,550.0,549.0,500.0,1668.48,1402.16,1109.4,949.0,662.9,540.0,1687.6,1569.0,1483.65,1444.1,1132.72,1040.0,1037.52,1029.33,1018.74,949.0,934.0,907.0,804.33,796.0,733.76,615.0,9123.07,6113.0,2037.0,1946.71,1440.0,870.8,850.0,678.0,617.0,2273.8,1157.46,916.0,874.6,694.0,560.0,1679.14,1384.46,1194.35,1023.34,950.0,948.71,813.47,569.51,497.1,1660.0,1270.0,1092.14,968.85,748.79,648.47,1589.95,1562.0,1021.0,923.0,666.2,609.68,526.0,515.95,1408.84,1270.0,1260.0,1049.0,1030.0,732.0,530.0,520.0,496.0,1747.65,1715.0,1470.85,1453.97,1322.17,1029.0,1006.0,940.0,906.8,834.0,810.5,806.04,714.88,679.2,549.0,506.85,1310.0,1200.68,1120.2,1028.6799999999998,780.0,547.51,1704.0,1213.71,1100.0,1049.0,968.85,948.44,862.0,725.0,725.0,670.0,590.0,549.0,888.66,724.62,711.49,630.0,548.94,1145.25,784.29,748.0,598.0,1943.0,1486.94,1415.0,935.0,926.0,900.0,900.0,807.0,772.0,620.0,1386.65,1140.0,1063.0,870.0,848.83,815.0,809.85,777.0,738.46,716.0,1415.0,1368.27,1303.7,1050.0,990.7,949.0,879.76,806.0,712.0,598.0,1805.0,1172.18,559.8199999999999,1136.24,749.0,678.63,1470.85,1463.0,1135.16,1049.0,1035.0,772.77,706.0,655.0,647.0,515.95,1434.82,1333.15,1203.63,1028.6799999999998,994.0,759.92,750.0,742.78,718.0,2271.36,1902.5,1715.0,1303.56,1057.1100000000001,1035.5,973.22,905.0,765.0,713.93,683.0,632.0,496.0,1221.69,1150.0,1135.16,1028.6799999999998,960.0,889.91,740.0,1459.0,1350.0,1338.54,1089.39,1063.0,1028.6799999999998,686.6,582.0,501.1,2314.0,1623.41,1403.75,1203.0,1185.0,1154.0,1040.0,1040.0,892.0,802.55,768.3,623.0,528.0,1560.55,1018.74,990.39,799.04,777.38,740.0,735.09,732.0,725.0,560.31,515.95,1440.46,1305.36,860.0,834.27,834.0,683.0,619.0,1948.63,1520.0,1540.86,1128.1,1107.48,1097.24,1023.14,943.47,932.6,927.0,877.0,778.0,528.0,1085.35,1047.0,880.67,1154.0,1142.41,1100.0,1045.8,1026.53,990.0,963.0,955.0,934.0,848.56,833.19,796.0,749.0,733.05,732.0,706.0,635.0,579.82,2034.0,1555.0,994.82,952.5,948.81,810.03,680.88,560.0,2029.0,1279.87,1201.24,991.0,990.0,980.79,1023.0,977.02,1100.0,1040.58,1040.0,929.0,906.57,880.67,768.31,690.0,585.46,517.88,499.0,2432.53,1462.64,1046.6599999999999,1030.0,1017.0,834.0,804.29,1496.0,835.0,691.6,682.0,549.0,1368.68,1347.2,1166.68,1041.0900000000001,1037.52,1014.9,730.0,668.63,501.1,501.1,496.0,1769.0,1181.35,1040.0,893.3,889.0,870.0,842.0,798.8,723.08,607.63,526.0,1345.0,1048.0,1009.0,894.73,888.97,740.0,719.6,714.05,648.77,619.52,3694.77,1481.0,1422.92,955.0,798.98,748.79,743.0,735.6,648.38,639.32,579.89,563.0,500.0,1293.8,1185.95,970.0,765.0,578.0,1462.64,1080.0,1063.0,1049.0,1014.9,728.91,682.0,631.0,2349.0,1415.16,1309.0,1180.0,1092.14,949.0,900.0,870.0,852.0,800.0,709.62,648.45,560.0,2145.0,1136.24,1040.0,971.5,959.0,848.83,748.87,686.6,638.79,528.0,748.97,670.0,650.0,1742.65,1283.08,1153.4,1148.32,1085.35,1040.0,835.0,799.0,709.62,649.0,643.64],\"xaxis\":\"x\",\"y\":[1,3,3,10,1,1,2,2,5,3,3,1,2,1,2,1,1,1,7,2,11,2,3,2,1,3,2,4,1,1,2,3,2,3,4,5,5,5,4,2,1,6,9,2,3,2,5,8,1,2,2,1,6,5,2,2,4,3,1,1,2,2,2,2,3,4,4,8,3,5,2,8,2,3,3,3,4,3,1,2,2,1,2,1,5,2,4,5,15,1,1,13,3,4,4,7,9,1,1,7,3,2,1,1,2,3,1,1,11,4,3,3,5,1,4,1,9,3,2,1,2,2,3,2,1,4,1,1,1,5,1,1,3,8,4,3,3,2,2,2,1,1,2,3,2,4,1,3,5,1,1,1,5,3,3,6,2,6,1,2,5,2,7,5,1,2,1,4,1,2,3,1,3,1,2,1,1,2,3,2,1,5,3,1,2,7,4,3,4,2,1,1,3,2,2,1,1,2,6,3,2,2,2,1,7,3,1,1,1,2,3,1,1,5,4,5,4,2,8,1,6,3,11,3,2,3,1,6,3,1,8,4,1,6,3,3,6,5,5,1,2,5,1,2,1,3,2,4,3,3,3,1,1,8,1,4,2,3,1,3,7,1,8,4,4,2,6,3,2,1,3,1,1,1,2,1,2,4,5,1,2,3,2,2,2,1,8,3,1,1,4,2,3,2,2,3,10,2,3,1,2,2,2,7,5,4,1,4,2,1,6,2,1,5,4,3,1,1,9,3,4,1,8,3,1,4,3,4,2,4,3,2,2,2,4,4,5,1,5,3,3,5,3,1,1,11,3,2,3,3,1,1,4,3,2,4,2,3,4,4,1,9,1,10,3,1,5,2,3,1,13,1,1,1,10,2,3,4,7,2,1,1,9,3,2,6,2,1,2,2,3,2,3,6,12,5,3,6,1,3,3,1,1,3,4,2,2,3,2,2,2,3,1,7,1,3,2,4,4,2,2,4,3,1,1,1,4,8,1,2,1,1,5,2,1,3,2,1,5,1,2,1,2,1,2,3,2,2,3,4,4,2,2,8,4,1,2,3,5,4,1,1,5,4,2,3,2,3,3,1,3,4,3,4,4,3,2,1,2,1,2,2,4,4,1,4,4,2,4,1,5,2,4,4,3,5,3,2,1,3,2,10,3,3,1,8,1,2,2,5,3,3,2,2,8,3,2,3,2,4,3,3,3,1,5,1,1,2,1,4,1,2,1,1,3,2,3,2,1,2,2,3,3,3,2,1,1,3,8,4,4,3,3,1,1,2,6,3,1,2,2,1,2,1,3,4,1,8,2,5,8,7,1,4,2,2,2,2,2,1,3,3,4,19,3,1,4,1,5,2,4,1,4,1,2,3,2,4,1,7,2,1,5,1,6,1,3,9,3,1,4,2,5,4,1,2,4,5,3,2,6,3,5,3,2,7,3,5,1,2,2,1,1,3,3,2,3,3,2,3,4,4,1,2,12,12,5,7,3,1,4,8,5,1,7,2,2,1,1,1,3,2,1,6,1,1,5,2,5,1,1,2,2,2,1,1,1,9,10,2,3,5,1,1,1,1,1,1,1,1,6,1,4,3,4,3,4,2,3,1,7,3,5,4,1,5,4,1,3,4,7,3,1,2,2,2,4,2,1,1,4,4,4,2,7,2,3,1,2,3,5,2,2,5,4,5,3,4,3,1,2,11,2,5,1,2,5,2,3,3,1,2,3,4,1,5,1,1,4,6,2,3,2,2,3,4,3,5,1,1,11,1,2,1,1,6,3,6,4,2,2,3,3,8,1,2,2,4,1,2,3,4,4,2,4,1,5,3,3,3,3,3,1,3,3,2,3,4,4,1,1,1,2,4,3,2,3,3,2,2,3,2,4,1,1,5,4,5,1,1,4,1,2,1,4,5,7,11,3,1,3,7,5,4,3,2,3,5,4,1,4,2,3,5,1,1,2,4,2,5,2,4,1,1,1,2,3,3,2,3,3,5,4,4,3,1,3,1,4,2,2,2,4,7,3,2,3,4,5,4,1,2,5,4,2,1,2,2,2,1,2,2,5,2,2,2,1,5,2,2,1,19,2,3,4,3,3,11,1,1,3,2,2,3,2,2,4,2,2,4,1,3,1,3,3,1,2,4,1,4,1,2,2,2,1,2,7,7,2,6,1,1,3,3,8,2,1,5,9,1,3,2,4,1,3,8,3,2,5,5,6,4,2,1,2,3,16,1,7,7,6,5,3,2,2,4,3,5,2,12,1,1,2,1,2,2,5,2,2,1],\"yaxis\":\"y\",\"type\":\"scatter\"},{\"hovertemplate\":\"<b>OLS trendline</b><br>bolsa_parcial_cotas = 0.000178041 * mensalidade + 2.90108<br>R<sup>2</sup>=0.002415<br><br>mensalidade=%{x}<br>bolsa_parcial_cotas=%{y} <b>(trend)</b><extra></extra>\",\"legendgroup\":\"\",\"line\":{\"color\":\"red\"},\"marker\":{\"color\":\"#636efa\",\"symbol\":\"circle\"},\"mode\":\"lines\",\"name\":\"\",\"showlegend\":false,\"x\":[489.79,489.79,490.0,496.0,496.0,496.0,496.0,497.1,499.0,499.52,500.0,500.0,500.3,501.1,501.1,501.1,501.1,501.1,503.82,506.85,510.0,511.56,512.86,513.0,515.0,515.95,515.95,515.95,515.95,517.0799999999999,517.88,517.88,517.88,520.0,520.0,522.79,525.0,525.46,526.0,526.0,526.0,528.0,528.0,528.0,528.0,530.0,530.0,530.0,530.0,530.0,534.0,534.0,535.0,540.0,540.0,540.0,543.0,543.71,546.2,547.51,548.62,548.8299999999999,548.8299999999999,548.9,548.94,549.0,549.0,549.0,549.0,550.0,550.0,550.0,550.0,553.0,555.0,556.0,556.0,556.0,556.0,558.0799999999999,559.75,559.75,559.75,559.75,559.8199999999999,560.0,560.0,560.0,560.0,560.0,560.0,560.31,563.0,563.0,565.0,565.0,568.7,569.51,569.67,570.68,576.0,576.21,576.21,578.0,578.2,579.0,579.0,579.82,579.83,579.89,582.0,582.0,582.0,585.0,585.46,588.25,590.0,595.0,595.65,598.0,598.0,598.0,598.0,599.0,599.0,599.0,599.0,602.0,603.87,605.36,606.0,607.63,608.23,609.68,609.68,612.0,612.0,614.11,615.0,616.56,617.0,618.0,619.0,619.52,620.0,622.0,622.2,623.0,626.0,626.51,630.0,630.0,630.0,631.0,631.0,632.0,635.0,635.0,635.0,638.79,639.32,640.0,643.0,643.64,644.0,646.02,647.0,648.38,648.38,648.45,648.47,648.48,648.48,648.77,648.78,648.82,648.95,648.97,649.0,649.0,649.0,649.0,649.92,650.0,650.0,650.0,654.0,655.0,655.0,656.01,657.0,659.48,662.0,662.9,663.0,666.2,667.0,668.63,669.09,670.0,670.0,670.0,671.99,677.48,678.0,678.63,679.2,679.2,679.85,679.85,679.85,680.88,681.83,681.84,682.0,682.0,682.0,682.03,683.0,683.0,683.0,685.0,686.6,686.6,689.82,690.0,691.6,694.0,695.08,696.0,700.0,700.0,700.75,701.0,704.0,705.0,705.03,705.38,706.0,706.0,706.76,709.54,709.62,709.62,711.49,712.0,713.81,713.93,714.05,714.88,716.0,717.93,718.0,718.0,719.6,719.6,723.08,723.77,723.77,724.46,724.62,725.0,725.0,725.0,725.0,726.46,728.55,728.91,728.91,729.71,730.0,730.0,730.0,730.0,730.0,732.0,732.0,732.0,732.0,732.0,732.0,732.2,732.2,733.05,733.76,735.09,735.6,737.82,738.46,739.56,740.0,740.0,740.0,740.0,740.0,740.31,742.78,743.0,745.65,746.66,747.0,747.0,748.0,748.79,748.79,748.81,748.81,748.82,748.87,748.96,748.97,748.97,749.0,749.0,749.0,749.0,749.0,749.0,749.0,749.16,749.35,749.96,750.0,750.0,750.0,750.0,757.92,759.92,763.76,764.0,765.0,765.0,765.0,767.0,768.3,768.3,768.31,769.79,769.99,770.58,770.8,772.0,772.77,773.83,776.0,777.0,777.0,777.0,777.38,778.0,778.1,779.0,780.0,780.0,780.07,781.0,784.29,785.0,788.0,788.0,788.72,790.7,792.0,792.28,794.97,796.0,796.0,797.44,798.8,798.8,798.98,799.0,799.0,799.04,799.04,800.0,800.0,801.4,802.55,804.29,804.33,804.42,806.0,806.0,806.0,806.04,806.61,806.61,807.0,808.33,809.0,809.85,810.0,810.0,810.0,810.0,810.03,810.03,810.03,810.5,813.47,813.8,813.8,815.0,815.0,822.95,827.0,829.0,831.73,832.0,833.0,833.19,834.0,834.0,834.0,834.0,834.0,834.0,834.0,834.0,834.0,834.27,835.0,835.0,835.0,835.0,835.0,835.0,835.0,838.4,839.0,839.79,840.38,841.53,842.0,842.0,843.13,843.53,846.44,848.42,848.56,848.83,848.83,848.87,849.0,849.0,849.2,850.0,850.0,852.0,852.0,852.0,855.0,857.5,858.0,859.4,860.0,862.0,870.0,870.0,870.0,870.0,870.0,870.8,873.22,873.22,873.22,874.6,874.6,877.0,877.46,878.0,878.0,879.0,879.76,880.0,880.67,880.67,883.69,885.0,888.02,888.66,888.87,888.87,888.97,889.0,889.0,889.91,890.0,890.0,890.0,892.0,892.0,892.0,893.3,894.73,898.18,900.0,900.0,900.0,905.0,906.57,906.8,906.88,907.0,907.0,908.0,908.0,908.0,916.0,916.0,917.0,920.0,920.0,923.0,923.0,924.75,924.75,924.75,926.0,926.0,927.0,927.0,927.0,927.66,929.0,929.47,929.89,932.6,934.0,934.0,935.0,938.0,940.0,940.0,940.0,940.14,940.4,943.0,943.47,944.0,944.0,944.0,944.68,945.8,947.48,947.76,948.44,948.44,948.71,948.81,949.0,949.0,949.0,949.0,949.0,950.0,950.0,952.5,954.28,955.0,955.0,955.0,956.0,958.0,959.0,960.0,963.0,965.0,965.88,966.0,967.13,968.35,968.85,968.85,969.08,970.0,970.0,970.08,971.5,973.0,973.0,973.0,973.0,973.0,973.0,973.0,973.22,976.24,977.02,977.62,980.0,980.79,980.97,990.0,990.0,990.0,990.0,990.0,990.39,990.7,991.0,992.0,992.0,994.0,994.82,995.8,1006.0,1006.43,1006.43,1009.0,1013.0,1014.9,1014.9,1014.9,1014.9,1014.9,1014.9,1017.0,1018.74,1018.74,1020.85,1021.0,1023.0,1023.0,1023.14,1023.34,1026.53,1028.52,1028.6799999999998,1028.6799999999998,1028.6799999999998,1028.6799999999998,1028.6799999999998,1028.77,1029.0,1029.33,1029.8,1030.0,1030.0,1030.0,1030.0,1030.0,1030.0,1035.0,1035.0,1035.0,1035.5,1035.5,1037.08,1037.52,1037.52,1037.52,1040.0,1040.0,1040.0,1040.0,1040.0,1040.0,1040.0,1040.0,1040.0,1040.58,1041.0900000000001,1041.0900000000001,1041.6100000000001,1042.13,1043.15,1045.8,1046.6599999999999,1047.0,1048.0,1048.0,1048.83,1048.9299999999998,1049.0,1049.0,1049.0,1049.0,1049.0,1049.0,1049.0,1049.0,1049.0,1049.0,1050.0,1057.1100000000001,1061.49,1062.4099999999999,1063.0,1063.0,1063.0,1063.0,1064.0,1065.05,1071.0,1075.0,1075.0,1076.0,1077.75,1080.0,1085.35,1085.35,1089.0,1089.39,1092.14,1092.14,1092.14,1092.14,1092.14,1092.14,1096.1,1097.24,1097.37,1100.0,1100.0,1100.0,1102.23,1102.63,1107.48,1108.0,1109.4,1111.0,1120.0,1120.2,1128.1,1129.52,1129.52,1130.0,1132.72,1133.6,1135.16,1135.16,1136.0,1136.24,1136.24,1137.56,1140.0,1142.41,1145.25,1148.0,1148.32,1148.32,1150.0,1150.0,1150.0,1150.0,1150.0,1150.0,1150.0,1150.0,1150.0,1150.0,1150.7,1151.74,1152.27,1152.5,1153.4,1154.0,1154.0,1157.46,1159.29,1166.68,1172.18,1175.0,1177.0,1177.81,1179.5,1180.0,1181.35,1184.0,1185.0,1185.95,1187.84,1189.0,1190.0,1194.35,1195.48,1199.0,1200.68,1201.08,1201.24,1203.0,1203.63,1205.6,1208.05,1213.71,1220.45,1221.69,1226.16,1228.0,1244.92,1247.44,1250.0,1254.73,1260.0,1260.0,1260.0,1263.0,1265.8,1270.0,1270.0,1276.95,1279.87,1279.87,1281.24,1283.08,1288.69,1292.6,1292.74,1292.74,1293.8,1297.44,1297.73,1300.0,1300.0,1302.0,1303.56,1303.7,1305.36,1307.75,1309.0,1309.0,1309.0,1310.0,1313.0,1314.24,1314.5,1320.0,1320.0,1320.0,1322.17,1322.63,1326.28,1330.0,1333.15,1334.45,1334.45,1338.54,1345.0,1345.0,1345.0,1345.0,1345.0,1345.0,1347.04,1347.2,1347.2,1347.2,1349.0,1350.0,1350.0,1352.0,1359.24,1368.27,1368.68,1368.72,1370.58,1384.46,1386.65,1402.16,1402.38,1403.75,1403.75,1406.4,1408.84,1412.74,1415.0,1415.0,1415.16,1422.92,1434.82,1434.82,1435.0,1440.0,1440.46,1444.1,1444.1,1444.1,1445.23,1451.65,1452.36,1453.97,1456.27,1459.0,1462.64,1462.64,1462.64,1463.0,1466.2,1470.85,1470.85,1470.85,1470.85,1470.85,1480.75,1481.0,1483.65,1483.65,1486.94,1490.86,1496.0,1501.93,1505.0,1505.0,1511.35,1515.14,1520.0,1520.0,1537.4,1540.86,1548.0,1554.28,1555.0,1560.0,1560.0,1560.55,1560.55,1560.55,1561.29,1562.0,1563.05,1569.0,1581.6,1585.92,1589.95,1589.95,1590.0,1595.0,1610.63,1623.41,1640.0,1641.0,1641.2,1641.3,1648.0,1660.0,1668.48,1668.48,1679.14,1685.0,1687.6,1696.99,1704.0,1715.0,1715.0,1715.0,1715.0,1730.0,1741.0,1742.65,1747.65,1769.0,1805.0,1833.25,1833.25,1902.5,1909.39,1933.69,1938.15,1943.0,1946.71,1948.63,1952.5,1968.37,1976.0,2020.0,2024.0,2029.0,2029.0,2034.0,2037.0,2040.0,2099.0,2145.0,2148.67,2148.67,2223.84,2268.31,2271.36,2271.36,2273.8,2282.5,2314.0,2349.0,2389.1,2432.53,2439.67,2447.0,2477.39,2647.0,2647.0,3097.76,3694.77,6113.0,6498.55,7009.97,7316.79,8300.0,9123.07],\"xaxis\":\"x\",\"y\":[2.9882832488104722,2.9882832488104722,2.988320637414271,2.989388883237091,2.989388883237091,2.989388883237091,2.989388883237091,2.989584728304608,2.989923006148501,2.9900155874531453,2.9901010471189706,2.9901010471189706,2.9901544594101117,2.9902968921864876,2.9902968921864876,2.9902968921864876,2.9902968921864876,2.9902968921864876,2.990781163626166,2.99132062776669,2.9918814568236707,2.992159200737604,2.9923906539992147,2.9924155797350807,2.9927716616760205,2.992940800597967,2.992940800597967,2.992940800597967,2.992940800597967,2.993141986894598,2.993284419670974,2.993284419670974,2.993284419670974,2.9936618665283703,2.9936618665283703,2.9941586008359815,2.99455207138072,2.9946339702271363,2.9947301123511902,2.9947301123511902,2.9947301123511902,2.99508619429213,2.99508619429213,2.99508619429213,2.99508619429213,2.99544227623307,2.99544227623307,2.99544227623307,2.99544227623307,2.99544227623307,2.99615444011495,2.99615444011495,2.9963324810854197,2.99722268593777,2.99722268593777,2.99722268593777,2.99775680884918,2.9978832179382136,2.9983265399546837,2.9985597736259995,2.998757399103221,2.99879478770702,2.99879478770702,2.9988072505749526,2.9988143722137712,2.9988250546719994,2.9988250546719994,2.9988250546719994,2.9988250546719994,2.9990030956424696,2.9990030956424696,2.9990030956424696,2.9990030956424696,2.9995372185538796,2.9998933004948194,3.0000713414652895,3.0000713414652895,3.0000713414652895,3.0000713414652895,3.000441666683867,3.0007389951045518,3.0007389951045518,3.0007389951045518,3.0007389951045518,3.0007514579724845,3.000783505347169,3.000783505347169,3.000783505347169,3.000783505347169,3.000783505347169,3.000783505347169,3.000838698048015,3.001317628258579,3.001317628258579,3.001673710199519,3.001673710199519,3.002332461790258,3.002476674976339,3.002505161531614,3.0026849829117888,3.0036321608746888,3.0036695494784875,3.0036695494784875,3.003988242815629,3.004023851009723,3.0041662837860987,3.0041662837860987,3.004312277381884,3.0043140577915888,3.004324740249817,3.0047004066975087,3.0047004066975087,3.0047004066975087,3.0052345296089187,3.005316428455335,3.005813162762946,3.0061247344612685,3.0070149393136183,3.007130665944424,3.0075490622250283,3.0075490622250283,3.0075490622250283,3.0075490622250283,3.0077271031954984,3.0077271031954984,3.0077271031954984,3.0077271031954984,3.0082612261069084,3.0085941627216872,3.008859443767687,3.008973389988788,3.009263596770654,3.009370421352936,3.0096285807601175,3.0096285807601175,3.010041635811608,3.010041635811608,3.0104173022592997,3.010575758723018,3.010853502636951,3.010931840663958,3.011109881634428,3.0112879226048976,3.011380503909542,3.0114659635753678,3.0118220455163076,3.011857653710402,3.0120000864867778,3.0125342093981877,3.0126250102931276,3.0132463732800674,3.0132463732800674,3.0132463732800674,3.0134244142505375,3.0134244142505375,3.0136024552210077,3.0141365781324176,3.0141365781324176,3.0141365781324176,3.0148113534104986,3.014905715124848,3.0150267829847675,3.0155609058961774,3.015674852117278,3.015738946866647,3.0160985896269965,3.016273069778057,3.0165187663173056,3.0165187663173056,3.0165312291852384,3.016534790004648,3.0165365704143525,3.0165365704143525,3.016588202295789,3.0165899827054936,3.0165971043443127,3.0166202496704737,3.016623810489883,3.016629151718997,3.016629151718997,3.016629151718997,3.016629151718997,3.0167929494118293,3.016807192689467,3.016807192689467,3.016807192689467,3.017519356571347,3.017697397541817,3.017697397541817,3.0178772189219916,3.0180534794827567,3.0184950210895223,3.018943684335107,3.0191039212085298,3.0191217253055767,3.019691456411081,3.0198338891874568,3.0201240959693227,3.020205994815739,3.0203680120988667,3.0203680120988667,3.0203680120988667,3.020722313630102,3.021699758557982,3.0217923398626265,3.0219045056740224,3.0220059890271904,3.0220059890271904,3.022121715657996,3.022121715657996,3.022121715657996,3.02230509785758,3.0224742367795265,3.022476017189231,3.022504503744506,3.022504503744506,3.022504503744506,3.0225098449736203,3.0226825447149763,3.0226825447149763,3.0226825447149763,3.023038626655916,3.023323492208668,3.023323492208668,3.0238967841335813,3.023928831508266,3.024213697061018,3.024640995390146,3.0248332796382535,3.024997077331086,3.025709241212966,3.025709241212966,3.0258427719408183,3.0258872821834357,3.0264214050948457,3.026599446065316,3.02660478729443,3.0266671016340942,3.0267774870357855,3.0267774870357855,3.026912798173343,3.0274077520712495,3.0274219953488872,3.0274219953488872,3.027754931963666,3.0278457328586055,3.028167987015156,3.0281893519316125,3.028210716848069,3.028358490853559,3.0285578967404856,3.0289015158134927,3.0289139786814254,3.0289139786814254,3.0291988442341773,3.0291988442341773,3.029818426811413,3.029941275081037,3.029941275081037,3.0300641233506616,3.0300926099059367,3.030160265474715,3.030160265474715,3.030160265474715,3.030160265474715,3.0304202052916014,3.0307923109198835,3.030856405669253,3.030856405669253,3.030998838445629,3.031050470327065,3.031050470327065,3.031050470327065,3.031050470327065,3.031050470327065,3.031406552268005,3.031406552268005,3.031406552268005,3.031406552268005,3.031406552268005,3.031406552268005,3.031442160462099,3.031442160462099,3.0315934952869985,3.031719904376032,3.0319566988667574,3.032047499761697,3.0324427507161404,3.0325566969372413,3.032752542004758,3.032830880031765,3.032830880031765,3.032830880031765,3.032830880031765,3.032830880031765,3.0328860727326106,3.0333258339296716,3.033365002943175,3.03383681151492,3.034016632895095,3.0340771668250546,3.0340771668250546,3.0342552077955247,3.034395860162196,3.034395860162196,3.034399420981605,3.034399420981605,3.03440120139131,3.0344101034398334,3.0344261271271757,3.0344279075368803,3.0344279075368803,3.0344332487659944,3.0344332487659944,3.0344332487659944,3.0344332487659944,3.0344332487659944,3.0344332487659944,3.0344332487659944,3.03446173532127,3.034495563105659,3.034604168097646,3.0346112897364645,3.0346112897364645,3.0346112897364645,3.0346112897364645,3.036021374222587,3.036377456163527,3.0370611334901314,3.0371038633230443,3.0372819042935144,3.0372819042935144,3.0372819042935144,3.0376379862344542,3.037869439496065,3.037869439496065,3.03787121990577,3.0381347205420655,3.038170328736159,3.038275372908737,3.03831454192224,3.038528191086804,3.038665282634066,3.0388540060627642,3.039240354968684,3.039418395939154,3.039418395939154,3.039418395939154,3.0394860515079323,3.039596436909624,3.039614241006671,3.0397744778800937,3.039952518850564,3.039952518850564,3.0399649817184966,3.040130559821034,3.04071631461388,3.0408427237029136,3.0413768466143236,3.0413768466143236,3.041505036113062,3.0418575572345925,3.0420890104962037,3.0421388619679353,3.0426177921784996,3.0428011743780834,3.0428011743780834,3.04305755337556,3.043299689095399,3.043299689095399,3.043331736470084,3.0433352972894934,3.0433352972894934,3.043342418928312,3.043342418928312,3.0435133382599635,3.0435133382599635,3.043762595618621,3.043967342734662,3.0442771340232797,3.0442842556620984,3.0443002793494407,3.044581584082783,3.044581584082783,3.044581584082783,3.044588705721602,3.0446901890747697,3.0446901890747697,3.044759625053253,3.0449964195439785,3.045115706994193,3.0452670418190926,3.045293747964663,3.045293747964663,3.045293747964663,3.045293747964663,3.0452990891937772,3.0452990891937772,3.0452990891937772,3.045382768449898,3.045911550132194,3.045970303652449,3.045970303652449,3.046183952817013,3.046183952817013,3.0475993785322495,3.048320444462653,3.0486765264035927,3.0491625782529757,3.0492106493150026,3.0493886902854723,3.049422518069862,3.0495667312559425,3.0495667312559425,3.0495667312559425,3.0495667312559425,3.0495667312559425,3.0495667312559425,3.0495667312559425,3.0495667312559425,3.0495667312559425,3.0496148023179694,3.0497447722264126,3.0497447722264126,3.0497447722264126,3.0497447722264126,3.0497447722264126,3.0497447722264126,3.0497447722264126,3.0503501115260105,3.0504569361082923,3.0505975884749637,3.050702632647541,3.0509073797635815,3.0509910590197022,3.0509910590197022,3.0511922453163334,3.0512634617045213,3.051781560928589,3.0521340820501197,3.0521590077859853,3.0522070788480122,3.0522070788480122,3.052214200486831,3.0522373458129923,3.0522373458129923,3.052272954007086,3.052415386783462,3.052415386783462,3.052771468724402,3.052771468724402,3.052771468724402,3.053305591635812,3.053750694061987,3.053839714547222,3.05408897190588,3.0541957964881616,3.054551878429102,3.0559762061928617,3.0559762061928617,3.0559762061928617,3.0559762061928617,3.0559762061928617,3.0561186389692376,3.056549498117775,3.056549498117775,3.056549498117775,3.0567951946570235,3.0567951946570235,3.0572224929861513,3.0573043918325675,3.0574005339566215,3.0574005339566215,3.057578574927091,3.0577138860646484,3.0577566158975613,3.0578759033477763,3.0578759033477763,3.058413587078596,3.058646820749911,3.0591845044807306,3.0592984507018315,3.0593358393056302,3.0593358393056302,3.059353643402677,3.0593589846317912,3.0593589846317912,3.0595210019149186,3.059537025602261,3.059537025602261,3.059537025602261,3.059893107543201,3.059893107543201,3.059893107543201,3.060124560804812,3.060379159392584,3.0609934007407054,3.061317435306961,3.061317435306961,3.061317435306961,3.062207640159311,3.0624871644829486,3.062528113906157,3.062542357183794,3.0625637221002506,3.0625637221002506,3.0627417630707208,3.0627417630707208,3.0627417630707208,3.0641660908344805,3.0641660908344805,3.0643441318049502,3.06487825471636,3.06487825471636,3.06541237762777,3.06541237762777,3.0657239493260926,3.0657239493260926,3.0657239493260926,3.06594650053918,3.06594650053918,3.0661245415096503,3.0661245415096503,3.0661245415096503,3.0662420485501602,3.06648062345059,3.066564302706711,3.0666390799143084,3.0671215709442823,3.06737082830294,3.06737082830294,3.06754886927341,3.06808299218482,3.06843907412576,3.06843907412576,3.06843907412576,3.068463999861626,3.068510290513948,3.06897319703717,3.0690568762932906,3.06915123800764,3.06915123800764,3.06915123800764,3.0692723058675595,3.0694717117544856,3.0697708205848753,3.069820672056607,3.0699417399165263,3.0699417399165263,3.0699898109785533,3.0700076150756,3.07004144285999,3.07004144285999,3.07004144285999,3.07004144285999,3.07004144285999,3.0702194838304595,3.0702194838304595,3.0706645862566346,3.070981499184071,3.0711096886828093,3.0711096886828093,3.0711096886828093,3.0712877296532795,3.0716438115942193,3.0718218525646894,3.0719998935351596,3.072534016446569,3.0728900983875094,3.0730467744415226,3.073068139357979,3.07326932565461,3.0734865356385836,3.0735755561238185,3.0735755561238185,3.073616505547027,3.073780303239859,3.073780303239859,3.0737945465174965,3.074047364695564,3.074314426151269,3.074314426151269,3.074314426151269,3.074314426151269,3.074314426151269,3.074314426151269,3.074314426151269,3.0743535951647725,3.074891278895592,3.0750301508525584,3.07513697543484,3.075560712944559,3.07570136531123,3.075733412685915,3.0773411226492584,3.0773411226492584,3.0773411226492584,3.0773411226492584,3.0773411226492584,3.077410558627742,3.0774657513285875,3.0775191636197285,3.0776972045901987,3.0776972045901987,3.0780532865311385,3.078199280126924,3.0783737602779846,3.0801897781767784,3.0802663357940805,3.0802663357940805,3.080723901088188,3.081436064970068,3.081774342813961,3.081774342813961,3.081774342813961,3.081774342813961,3.081774342813961,3.081774342813961,3.082148228851948,3.0824580201405656,3.0824580201405656,3.0828336865882573,3.082860392733828,3.0832164746747677,3.0832164746747677,3.0832414004106337,3.0832770086047274,3.083844959300527,3.084199260831762,3.0842277473870374,3.0842277473870374,3.0842277473870374,3.0842277473870374,3.0842277473870374,3.0842437710743797,3.0842847204975876,3.084343474017843,3.0844271532739636,3.0844627614680578,3.0844627614680578,3.0844627614680578,3.0844627614680578,3.0844627614680578,3.0844627614680578,3.0853529663204076,3.0853529663204076,3.0853529663204076,3.0854419868056424,3.0854419868056424,3.085723291538985,3.085801629565992,3.085801629565992,3.085801629565992,3.0862431711727574,3.0862431711727574,3.0862431711727574,3.0862431711727574,3.0862431711727574,3.0862431711727574,3.0862431711727574,3.0862431711727574,3.0862431711727574,3.08634643493563,3.08643723583057,3.08643723583057,3.0865298171352142,3.0866223984398586,3.086804000229738,3.087275808801483,3.0874289240360873,3.087489457966047,3.087667498936517,3.087667498936517,3.087815272942007,3.087833077039054,3.0878455399069873,3.0878455399069873,3.0878455399069873,3.0878455399069873,3.0878455399069873,3.0878455399069873,3.0878455399069873,3.0878455399069873,3.0878455399069873,3.0878455399069873,3.088023580877457,3.0892894521774985,3.090069271628157,3.0902330693209894,3.090338113493567,3.090338113493567,3.090338113493567,3.090338113493567,3.0905161544640367,3.09070309748303,3.091762441257327,3.0924746051392065,3.0924746051392065,3.0926526461096766,3.092964217807999,3.0933648099915563,3.094317329183571,3.094317329183571,3.094967178725786,3.0950366147042696,3.0955262273730617,3.0955262273730617,3.0955262273730617,3.0955262273730617,3.0955262273730617,3.0955262273730617,3.096231269616123,3.096434236322459,3.09645738164862,3.096925629400956,3.096925629400956,3.096925629400956,3.097322660765104,3.097393877153292,3.0982573758600713,3.0983499571647157,3.098599214523374,3.0988840800761257,3.100486448810355,3.1005220570044494,3.1019285806711623,3.1021813988492295,3.1021813988492295,3.1022668585150552,3.1027511299547337,3.102907806008747,3.10318554992268,3.10318554992268,3.103335104337875,3.1033778341707876,3.1033778341707876,3.1036128482518084,3.104047268219755,3.1044763469585877,3.104981983314722,3.1054715959835146,3.1055285690940653,3.1055285690940653,3.1058276779244545,3.1058276779244545,3.1058276779244545,3.1058276779244545,3.1058276779244545,3.1058276779244545,3.1058276779244545,3.1058276779244545,3.1058276779244545,3.1058276779244545,3.1059523066037835,3.1061374692130723,3.1062318309274213,3.1062727803506296,3.1064330172240524,3.1065398418063346,3.1065398418063346,3.1071558635641607,3.107481678540121,3.108797401311894,3.1097766266494786,3.110278702186204,3.110634784127144,3.1107789973132247,3.111079886553319,3.1111689070385538,3.111409262348688,3.111881070920434,3.112059111890904,3.1122282508128505,3.1125647482470384,3.1127712757727837,3.112949316743254,3.1137237949647982,3.1139249812614294,3.1145516854774833,3.114850794307873,3.114922010696061,3.114950497251336,3.1152638493593634,3.1153760151707592,3.1157267558825854,3.116162956260237,3.1171706681530966,3.1183706642940643,3.1185914350974473,3.119387278235448,3.119714873621113,3.122727326841465,3.123175990087049,3.123631774971452,3.124473908761775,3.125412184676152,3.125412184676152,3.125412184676152,3.125946307587562,3.1264448223048777,3.1271925943808516,3.1271925943808516,3.128429979125618,3.1289498587593902,3.1289498587593902,3.1291937748889342,3.129521370274599,3.1305201801189355,3.1312163203134733,3.131241246049339,3.131241246049339,3.131429969478037,3.1320780386105476,3.132129670491984,3.132533823494951,3.132533823494951,3.1328899054358907,3.133167649349824,3.13319257508569,3.13348812309667,3.1339136410160933,3.134136192229181,3.134136192229181,3.134136192229181,3.1343142331996505,3.1348483561110605,3.1350691269144435,3.1351154175667655,3.1360946429043506,3.1360946429043506,3.1360946429043506,3.13648099181027,3.1365628906566867,3.137212740198902,3.13787505260905,3.1384358816660307,3.1386673349276415,3.1386673349276415,3.139395522496864,3.1405456671660996,3.1405456671660996,3.1405456671660996,3.1405456671660996,3.1405456671660996,3.1405456671660996,3.1409088707458586,3.1409373573011337,3.1409373573011337,3.1409373573011337,3.1412578310479797,3.14143587201845,3.14143587201845,3.1417919539593897,3.143080970585592,3.1446886805489362,3.1447616773468288,3.1447687989856474,3.1450999551907217,3.147571163860845,3.1479610735861745,3.1507224890381638,3.150761658051667,3.1510055741812106,3.1510055741812106,3.1514773827529563,3.151911802720903,3.152606162505736,3.1530085350989983,3.1530085350989983,3.1530370216542734,3.1544186195851203,3.156537307133713,3.156537307133713,3.1565693545083975,3.1574595593607473,3.1575414582071635,3.1581895273396743,3.1581895273396743,3.1581895273396743,3.1583907136363054,3.159533736666723,3.1596601457557565,3.159946791718213,3.160356285950294,3.160842337799677,3.1614904069321876,3.1614904069321876,3.1614904069321876,3.161554501681557,3.1621242327870607,3.162952123299746,3.162952123299746,3.162952123299746,3.162952123299746,3.162952123299746,3.164714728907399,3.1647592391500163,3.165231047721762,3.165231047721762,3.165816802514608,3.1665147231188504,3.167429853707066,3.168485636661953,3.1690322224412957,3.1690322224412957,3.1701627826037804,3.1708375578818613,3.1717028369983455,3.1717028369983455,3.174800749884523,3.1754167716423494,3.1766879841715046,3.177806081466056,3.1779342709647946,3.1788244758171444,3.1788244758171444,3.178922398350903,3.178922398350903,3.178922398350903,3.1790541486690507,3.1791805577580843,3.1793675007770776,3.1804268445513744,3.182670160779296,3.1834392977717263,3.18415680288272,3.18415680288272,3.1841657049312437,3.1850559097835935,3.1878386901520392,3.1901140537546455,3.1930677534547423,3.1932457944252124,3.1932814026193066,3.1932992067163535,3.1944920812185025,3.196628572864142,3.1981383602937274,3.1981383602937274,3.2000362770389374,3.2010795971258914,3.2015425036491134,3.2032143083618263,3.204462375564821,3.2064208262399907,3.2064208262399907,3.2064208262399907,3.2064208262399907,3.20909144079704,3.21104989147221,3.2113436590734854,3.212233863925835,3.2160350386453693,3.2224445135822886,3.227474170998065,3.227474170998065,3.239803508203111,3.241030210489649,3.2453566060720695,3.2461506688003654,3.247014167507145,3.2476746995075887,3.2480165381708908,3.24870555672661,3.251531066927968,3.252889519532654,3.260723322233333,3.261435486115213,3.262325690967563,3.262325690967563,3.2632158958199127,3.2637500187313226,3.2642841416427326,3.274788558900461,3.28297844354208,3.283631853903705,3.283631853903705,3.297015193653933,3.3049326756107327,3.305475700570666,3.305475700570666,3.3059101205386128,3.3074590769817016,3.313067367551506,3.319298801517955,3.3264382444338008,3.3341705637813117,3.3354417763104673,3.3367468166240126,3.342157481716595,3.3723550107180076,3.3723550107180076,3.4526087585670533,3.558900998347333,3.9894450143669413,4.05808871053164,4.149142423649395,4.203768954208993,4.378820616784777,4.5253607983494994],\"yaxis\":\"y\",\"type\":\"scatter\"}],                        {\"template\":{\"data\":{\"bar\":[{\"error_x\":{\"color\":\"#2a3f5f\"},\"error_y\":{\"color\":\"#2a3f5f\"},\"marker\":{\"line\":{\"color\":\"#E5ECF6\",\"width\":0.5},\"pattern\":{\"fillmode\":\"overlay\",\"size\":10,\"solidity\":0.2}},\"type\":\"bar\"}],\"barpolar\":[{\"marker\":{\"line\":{\"color\":\"#E5ECF6\",\"width\":0.5},\"pattern\":{\"fillmode\":\"overlay\",\"size\":10,\"solidity\":0.2}},\"type\":\"barpolar\"}],\"carpet\":[{\"aaxis\":{\"endlinecolor\":\"#2a3f5f\",\"gridcolor\":\"white\",\"linecolor\":\"white\",\"minorgridcolor\":\"white\",\"startlinecolor\":\"#2a3f5f\"},\"baxis\":{\"endlinecolor\":\"#2a3f5f\",\"gridcolor\":\"white\",\"linecolor\":\"white\",\"minorgridcolor\":\"white\",\"startlinecolor\":\"#2a3f5f\"},\"type\":\"carpet\"}],\"choropleth\":[{\"colorbar\":{\"outlinewidth\":0,\"ticks\":\"\"},\"type\":\"choropleth\"}],\"contour\":[{\"colorbar\":{\"outlinewidth\":0,\"ticks\":\"\"},\"colorscale\":[[0.0,\"#0d0887\"],[0.1111111111111111,\"#46039f\"],[0.2222222222222222,\"#7201a8\"],[0.3333333333333333,\"#9c179e\"],[0.4444444444444444,\"#bd3786\"],[0.5555555555555556,\"#d8576b\"],[0.6666666666666666,\"#ed7953\"],[0.7777777777777778,\"#fb9f3a\"],[0.8888888888888888,\"#fdca26\"],[1.0,\"#f0f921\"]],\"type\":\"contour\"}],\"contourcarpet\":[{\"colorbar\":{\"outlinewidth\":0,\"ticks\":\"\"},\"type\":\"contourcarpet\"}],\"heatmap\":[{\"colorbar\":{\"outlinewidth\":0,\"ticks\":\"\"},\"colorscale\":[[0.0,\"#0d0887\"],[0.1111111111111111,\"#46039f\"],[0.2222222222222222,\"#7201a8\"],[0.3333333333333333,\"#9c179e\"],[0.4444444444444444,\"#bd3786\"],[0.5555555555555556,\"#d8576b\"],[0.6666666666666666,\"#ed7953\"],[0.7777777777777778,\"#fb9f3a\"],[0.8888888888888888,\"#fdca26\"],[1.0,\"#f0f921\"]],\"type\":\"heatmap\"}],\"heatmapgl\":[{\"colorbar\":{\"outlinewidth\":0,\"ticks\":\"\"},\"colorscale\":[[0.0,\"#0d0887\"],[0.1111111111111111,\"#46039f\"],[0.2222222222222222,\"#7201a8\"],[0.3333333333333333,\"#9c179e\"],[0.4444444444444444,\"#bd3786\"],[0.5555555555555556,\"#d8576b\"],[0.6666666666666666,\"#ed7953\"],[0.7777777777777778,\"#fb9f3a\"],[0.8888888888888888,\"#fdca26\"],[1.0,\"#f0f921\"]],\"type\":\"heatmapgl\"}],\"histogram\":[{\"marker\":{\"pattern\":{\"fillmode\":\"overlay\",\"size\":10,\"solidity\":0.2}},\"type\":\"histogram\"}],\"histogram2d\":[{\"colorbar\":{\"outlinewidth\":0,\"ticks\":\"\"},\"colorscale\":[[0.0,\"#0d0887\"],[0.1111111111111111,\"#46039f\"],[0.2222222222222222,\"#7201a8\"],[0.3333333333333333,\"#9c179e\"],[0.4444444444444444,\"#bd3786\"],[0.5555555555555556,\"#d8576b\"],[0.6666666666666666,\"#ed7953\"],[0.7777777777777778,\"#fb9f3a\"],[0.8888888888888888,\"#fdca26\"],[1.0,\"#f0f921\"]],\"type\":\"histogram2d\"}],\"histogram2dcontour\":[{\"colorbar\":{\"outlinewidth\":0,\"ticks\":\"\"},\"colorscale\":[[0.0,\"#0d0887\"],[0.1111111111111111,\"#46039f\"],[0.2222222222222222,\"#7201a8\"],[0.3333333333333333,\"#9c179e\"],[0.4444444444444444,\"#bd3786\"],[0.5555555555555556,\"#d8576b\"],[0.6666666666666666,\"#ed7953\"],[0.7777777777777778,\"#fb9f3a\"],[0.8888888888888888,\"#fdca26\"],[1.0,\"#f0f921\"]],\"type\":\"histogram2dcontour\"}],\"mesh3d\":[{\"colorbar\":{\"outlinewidth\":0,\"ticks\":\"\"},\"type\":\"mesh3d\"}],\"parcoords\":[{\"line\":{\"colorbar\":{\"outlinewidth\":0,\"ticks\":\"\"}},\"type\":\"parcoords\"}],\"pie\":[{\"automargin\":true,\"type\":\"pie\"}],\"scatter\":[{\"marker\":{\"colorbar\":{\"outlinewidth\":0,\"ticks\":\"\"}},\"type\":\"scatter\"}],\"scatter3d\":[{\"line\":{\"colorbar\":{\"outlinewidth\":0,\"ticks\":\"\"}},\"marker\":{\"colorbar\":{\"outlinewidth\":0,\"ticks\":\"\"}},\"type\":\"scatter3d\"}],\"scattercarpet\":[{\"marker\":{\"colorbar\":{\"outlinewidth\":0,\"ticks\":\"\"}},\"type\":\"scattercarpet\"}],\"scattergeo\":[{\"marker\":{\"colorbar\":{\"outlinewidth\":0,\"ticks\":\"\"}},\"type\":\"scattergeo\"}],\"scattergl\":[{\"marker\":{\"colorbar\":{\"outlinewidth\":0,\"ticks\":\"\"}},\"type\":\"scattergl\"}],\"scattermapbox\":[{\"marker\":{\"colorbar\":{\"outlinewidth\":0,\"ticks\":\"\"}},\"type\":\"scattermapbox\"}],\"scatterpolar\":[{\"marker\":{\"colorbar\":{\"outlinewidth\":0,\"ticks\":\"\"}},\"type\":\"scatterpolar\"}],\"scatterpolargl\":[{\"marker\":{\"colorbar\":{\"outlinewidth\":0,\"ticks\":\"\"}},\"type\":\"scatterpolargl\"}],\"scatterternary\":[{\"marker\":{\"colorbar\":{\"outlinewidth\":0,\"ticks\":\"\"}},\"type\":\"scatterternary\"}],\"surface\":[{\"colorbar\":{\"outlinewidth\":0,\"ticks\":\"\"},\"colorscale\":[[0.0,\"#0d0887\"],[0.1111111111111111,\"#46039f\"],[0.2222222222222222,\"#7201a8\"],[0.3333333333333333,\"#9c179e\"],[0.4444444444444444,\"#bd3786\"],[0.5555555555555556,\"#d8576b\"],[0.6666666666666666,\"#ed7953\"],[0.7777777777777778,\"#fb9f3a\"],[0.8888888888888888,\"#fdca26\"],[1.0,\"#f0f921\"]],\"type\":\"surface\"}],\"table\":[{\"cells\":{\"fill\":{\"color\":\"#EBF0F8\"},\"line\":{\"color\":\"white\"}},\"header\":{\"fill\":{\"color\":\"#C8D4E3\"},\"line\":{\"color\":\"white\"}},\"type\":\"table\"}]},\"layout\":{\"annotationdefaults\":{\"arrowcolor\":\"#2a3f5f\",\"arrowhead\":0,\"arrowwidth\":1},\"autotypenumbers\":\"strict\",\"coloraxis\":{\"colorbar\":{\"outlinewidth\":0,\"ticks\":\"\"}},\"colorscale\":{\"diverging\":[[0,\"#8e0152\"],[0.1,\"#c51b7d\"],[0.2,\"#de77ae\"],[0.3,\"#f1b6da\"],[0.4,\"#fde0ef\"],[0.5,\"#f7f7f7\"],[0.6,\"#e6f5d0\"],[0.7,\"#b8e186\"],[0.8,\"#7fbc41\"],[0.9,\"#4d9221\"],[1,\"#276419\"]],\"sequential\":[[0.0,\"#0d0887\"],[0.1111111111111111,\"#46039f\"],[0.2222222222222222,\"#7201a8\"],[0.3333333333333333,\"#9c179e\"],[0.4444444444444444,\"#bd3786\"],[0.5555555555555556,\"#d8576b\"],[0.6666666666666666,\"#ed7953\"],[0.7777777777777778,\"#fb9f3a\"],[0.8888888888888888,\"#fdca26\"],[1.0,\"#f0f921\"]],\"sequentialminus\":[[0.0,\"#0d0887\"],[0.1111111111111111,\"#46039f\"],[0.2222222222222222,\"#7201a8\"],[0.3333333333333333,\"#9c179e\"],[0.4444444444444444,\"#bd3786\"],[0.5555555555555556,\"#d8576b\"],[0.6666666666666666,\"#ed7953\"],[0.7777777777777778,\"#fb9f3a\"],[0.8888888888888888,\"#fdca26\"],[1.0,\"#f0f921\"]]},\"colorway\":[\"#636efa\",\"#EF553B\",\"#00cc96\",\"#ab63fa\",\"#FFA15A\",\"#19d3f3\",\"#FF6692\",\"#B6E880\",\"#FF97FF\",\"#FECB52\"],\"font\":{\"color\":\"#2a3f5f\"},\"geo\":{\"bgcolor\":\"white\",\"lakecolor\":\"white\",\"landcolor\":\"#E5ECF6\",\"showlakes\":true,\"showland\":true,\"subunitcolor\":\"white\"},\"hoverlabel\":{\"align\":\"left\"},\"hovermode\":\"closest\",\"mapbox\":{\"style\":\"light\"},\"paper_bgcolor\":\"white\",\"plot_bgcolor\":\"#E5ECF6\",\"polar\":{\"angularaxis\":{\"gridcolor\":\"white\",\"linecolor\":\"white\",\"ticks\":\"\"},\"bgcolor\":\"#E5ECF6\",\"radialaxis\":{\"gridcolor\":\"white\",\"linecolor\":\"white\",\"ticks\":\"\"}},\"scene\":{\"xaxis\":{\"backgroundcolor\":\"#E5ECF6\",\"gridcolor\":\"white\",\"gridwidth\":2,\"linecolor\":\"white\",\"showbackground\":true,\"ticks\":\"\",\"zerolinecolor\":\"white\"},\"yaxis\":{\"backgroundcolor\":\"#E5ECF6\",\"gridcolor\":\"white\",\"gridwidth\":2,\"linecolor\":\"white\",\"showbackground\":true,\"ticks\":\"\",\"zerolinecolor\":\"white\"},\"zaxis\":{\"backgroundcolor\":\"#E5ECF6\",\"gridcolor\":\"white\",\"gridwidth\":2,\"linecolor\":\"white\",\"showbackground\":true,\"ticks\":\"\",\"zerolinecolor\":\"white\"}},\"shapedefaults\":{\"line\":{\"color\":\"#2a3f5f\"}},\"ternary\":{\"aaxis\":{\"gridcolor\":\"white\",\"linecolor\":\"white\",\"ticks\":\"\"},\"baxis\":{\"gridcolor\":\"white\",\"linecolor\":\"white\",\"ticks\":\"\"},\"bgcolor\":\"#E5ECF6\",\"caxis\":{\"gridcolor\":\"white\",\"linecolor\":\"white\",\"ticks\":\"\"}},\"title\":{\"x\":0.05},\"xaxis\":{\"automargin\":true,\"gridcolor\":\"white\",\"linecolor\":\"white\",\"ticks\":\"\",\"title\":{\"standoff\":15},\"zerolinecolor\":\"white\",\"zerolinewidth\":2},\"yaxis\":{\"automargin\":true,\"gridcolor\":\"white\",\"linecolor\":\"white\",\"ticks\":\"\",\"title\":{\"standoff\":15},\"zerolinecolor\":\"white\",\"zerolinewidth\":2}}},\"xaxis\":{\"anchor\":\"y\",\"domain\":[0.0,1.0],\"title\":{\"text\":\"mensalidade\"}},\"yaxis\":{\"anchor\":\"x\",\"domain\":[0.0,1.0],\"title\":{\"text\":\"bolsa_parcial_cotas\"}},\"legend\":{\"tracegroupgap\":0},\"margin\":{\"t\":60}},                        {\"responsive\": true}                    )                };                            </script>        </div>\n</body>\n</html>",
       "datasetInfos": [],
       "metadata": {},
       "removedWidgets": [],
       "textData": null,
       "type": "htmlSandbox"
      }
     },
     "output_type": "display_data"
    }
   ],
   "source": [
    "df.plot.scatter(x='mensalidade',y='bolsa_parcial_cotas', trendline=\"ols\", trendline_color_override = 'red')"
   ]
  },
  {
   "cell_type": "markdown",
   "metadata": {
    "application/vnd.databricks.v1+cell": {
     "cellMetadata": {
      "byteLimit": 2048000,
      "rowLimit": 10000
     },
     "inputWidgets": {},
     "nuid": "556f98ac-d163-47b9-85d7-c6521b0ed591",
     "showTitle": false,
     "tableResultSettingsMap": {},
     "title": ""
    }
   },
   "source": [
    "Existem outras relações que podem ser obversadas como as notas de quem tem cotas e de quem não possui."
   ]
  },
  {
   "cell_type": "code",
   "execution_count": 0,
   "metadata": {
    "application/vnd.databricks.v1+cell": {
     "cellMetadata": {
      "byteLimit": 2048000,
      "rowLimit": 10000
     },
     "inputWidgets": {},
     "nuid": "a5eedbef-93bd-40b8-ae6f-4322908e02f6",
     "showTitle": false,
     "tableResultSettingsMap": {},
     "title": ""
    }
   },
   "outputs": [
    {
     "output_type": "display_data",
     "data": {
      "text/html": [
       "<html>\n",
       "<head><meta charset=\"utf-8\" /></head>\n",
       "<body>\n",
       "    <div>            <script src=\"https://cdnjs.cloudflare.com/ajax/libs/mathjax/2.7.5/MathJax.js?config=TeX-AMS-MML_SVG\"></script><script type=\"text/javascript\">if (window.MathJax) {MathJax.Hub.Config({SVG: {font: \"STIX-Web\"}});}</script>                <script type=\"text/javascript\">window.PlotlyConfig = {MathJaxConfig: 'local'};</script>\n",
       "        <script src=\"https://cdn.plot.ly/plotly-2.9.0.min.js\"></script>                <div id=\"3c55ab73-03df-4628-b4a9-aa1ce8a25452\" class=\"plotly-graph-div\" style=\"height:100%; width:100%;\"></div>            <script type=\"text/javascript\">                                    window.PLOTLYENV=window.PLOTLYENV || {};                                    if (document.getElementById(\"3c55ab73-03df-4628-b4a9-aa1ce8a25452\")) {                    Plotly.newPlot(                        \"3c55ab73-03df-4628-b4a9-aa1ce8a25452\",                        [{\"hovertemplate\":\"nota_parcial_ampla=%{x}<br>nota_parcial_cotas=%{y}<extra></extra>\",\"legendgroup\":\"\",\"marker\":{\"color\":\"#636efa\",\"symbol\":\"circle\"},\"mode\":\"markers\",\"name\":\"\",\"orientation\":\"v\",\"showlegend\":false,\"x\":[450.0,608.26,618.58,615.56,582.66,627.6,591.74,457.88,528.74,536.54,520.92,607.9,450.0,649.92,532.46,621.7,556.22,591.62,541.28,493.9,528.6,450.0,573.64,610.98,602.82,450.0,537.7,591.0,593.82,614.16,578.36,581.12,613.82,587.22,596.06,562.16,650.04,450.0,575.74,587.34,565.32,557.12,525.8,543.88,572.46,577.34,544.94,507.6,514.02,576.16,572.98,516.84,543.56,545.78,586.42,549.62,543.88,608.86,450.0,450.0,450.0,604.38,463.78,519.38,554.56,562.34,738.42,571.48,450.0,565.82,542.98,546.54,520.08,654.86,580.28,573.36,585.76,560.08,527.3,613.24,564.76,641.14,581.88,493.28,601.24,571.5,575.8,574.44,600.64,541.96,534.34,546.34,450.0,548.98,572.7,574.24,554.64,594.02,617.16,601.66,450.0,450.0,450.0,524.06,560.76,550.78,562.44,472.22,497.8,649.8,660.96,536.24,522.18,450.0,568.34,546.3,450.0,617.66,530.0,610.06,572.22,535.64,600.98,551.18,573.42,517.66,596.22,572.08,450.0,596.04,581.3,450.0,450.0,563.82,577.42,580.14,582.62,594.76,559.46,450.0,581.06,533.32,541.78,576.52,507.16,575.68,588.16,450.0,573.76,578.9,588.86,559.18,576.64,497.3,503.56,568.66,590.98,537.04,583.76,551.62,631.7,476.04,450.0,450.0,563.06,550.26,450.0,564.58,450.0,576.0,490.42,560.86,561.78,604.04,633.14,580.58,587.82,695.7,570.32,556.04,584.44,520.26,529.22,622.66,610.46,608.18,578.08,567.64,623.42,570.5,465.54,566.38,554.04,502.36,590.7,584.38,622.9,450.0,575.98,522.08,534.42,541.26,565.24,671.06,554.28,560.52,562.76,624.48,639.78,574.66,592.76,574.34,514.9,475.72,572.92,549.44,614.64,450.0,555.24,583.22,601.94,597.34,512.14,544.44,462.7,534.72,610.28,494.96,557.82,501.22,495.22,611.82,601.4,582.96,529.78,576.58,566.6,619.26,510.2,528.74,504.98,538.22,580.26,609.64,588.8,538.6,590.06,576.58,571.92,565.02,557.36,578.06,450.0,541.98,577.3,528.1,450.0,573.8,607.14,628.56,578.12,631.04,625.06,450.0,564.28,454.8,600.72,611.54,528.92,496.74,465.5,593.74,604.58,578.54,450.0,605.98,582.24,569.38,575.48,599.02,529.5,610.0,450.0,553.88,599.88,599.86,610.84,548.66,473.34,610.0,558.62,556.3,602.56,623.88,559.22,619.72,587.28,579.48,617.32,557.8,451.54,565.14,595.24,627.54,582.4,563.14,580.28,570.96,517.86,499.48,587.8,581.34,603.82,450.0,554.06,557.02,605.86,506.0,617.2,557.92,567.04,591.42,540.32,578.02,450.0,512.28,584.92,656.9,515.86,571.6,525.78,552.64,568.24,533.56,560.26,560.06,571.26,585.34,578.62,560.02,512.98,562.94,619.9,563.68,596.32,504.26,544.24,450.0,592.04,542.82,560.86,450.0,559.78,619.64,496.52,556.98,486.92,475.2,567.02,741.36,578.44,553.12,594.82,586.22,450.0,644.18,566.34,609.58,508.6,572.56,515.24,552.38,605.44,664.76,575.18,547.52,596.82,628.3,561.36,596.06,556.38,450.0,729.72,577.38,565.78,574.48,593.96,581.12,536.62,535.24,615.9,583.62,534.02,586.08,552.24,556.24,575.14,569.04,745.06,467.26,634.18,564.06,450.0,690.12,573.82,450.0,627.14,562.82,565.26,450.0,529.4,578.08,554.9,598.96,450.0,588.12,450.0,450.0,540.88,602.0,584.8,604.06,550.12,450.0,595.94,571.2,599.84,524.54,627.86,605.26,641.26,636.64,536.12,587.22,450.0,581.22,567.58,635.36,591.84,551.18,583.6,590.68,504.86,591.9,627.46,514.64,612.4,560.98,586.2,599.48,450.0,490.58,463.76,579.98,536.32,450.0,641.44,553.22,532.74,581.42,634.94,596.64,542.82,683.16,642.62,609.98,630.24,625.48,450.0,541.38,615.3,610.88,582.82,599.44,562.04,571.56,530.44,562.58,502.66,604.62,580.4,450.0,577.36,568.74,575.32,637.98,577.22,450.0,603.5,566.86,649.96,682.38,538.48,606.3,565.76,460.82,584.22,569.84,450.0,597.6,450.0,514.88,537.84,544.22,635.34,519.52,652.66,595.88,601.3,450.0,539.16,580.62,503.5,548.3,567.92,575.72,606.18,535.78,548.54,545.54,621.22,543.34,508.3,560.96,576.54,586.72,450.0,579.92,639.96,578.0,587.02,589.04,481.74,597.96,590.02,450.0,475.62,538.36,511.94,574.24,549.5,602.06,649.72,657.1,581.54,595.0,516.34,538.96,607.4,605.9,572.64,463.98,516.16,554.78,450.0,536.84,522.24,562.86,604.06,627.62,450.0,577.92,577.68,593.46,539.0,500.14,555.54,605.46,450.0,602.36,582.72,482.5,524.0,575.08,450.0,593.94,593.66,589.12,450.0,572.0,450.0,544.78,597.7,610.88,610.06,561.8,562.74,608.28,450.0,547.46,547.58,542.1,552.4,544.4,525.8,552.88,570.8,655.4,603.88,543.76,546.02,532.08,522.98,609.4,450.0,555.38,565.82,604.72,571.7,598.8,512.0,637.44,633.5,635.6,583.4,609.6,590.2,537.42,584.24,634.52,592.96,553.2,586.74,560.32,603.88,556.6,594.14,730.98,776.36,571.86,580.04,591.36,452.94,544.86,558.44,450.0,598.42,528.96,619.04,539.44,563.64,545.62,622.4,620.12,607.0,564.5,450.0,570.38,624.14,597.64,548.84,569.28,562.9,450.0,562.96,558.9,541.94,578.16,588.46,620.44,450.0,556.64,560.98,564.6,573.4,648.86,526.18,570.64,590.3,561.36,572.32,617.56,566.76,527.12,553.12,620.32,450.0,583.8,597.94,623.96,583.48,589.66,640.0,468.38,576.82,582.56,577.62,574.5,571.32,581.8,567.16,548.26,450.0,450.0,589.14,450.0,624.48,450.0,552.4,604.38,584.88,584.96,590.24,559.78,573.24,531.94,450.0,530.3,548.22,565.24,536.7,500.62,547.84,450.0,478.7,552.56,572.38,621.16,591.38,568.88,635.6,450.0,580.46,502.84,623.84,545.14,554.08,576.26,622.74,547.2,554.74,515.96,549.3,599.5,604.26,547.78,599.56,604.4,603.24,605.52,599.32,571.54,588.9,596.12,550.64,571.0,567.5,588.96,498.26,539.42,544.08,541.46,563.3,471.4,584.62,547.56,625.1,548.76,540.32,562.9,586.16,556.7,589.44,493.44,538.32,556.78,450.0,552.38,618.64,557.94,450.78,587.7,654.58,644.3,615.12,450.0,595.72,450.0,497.84,552.62,593.02,549.86,615.74,563.5,607.28,597.94,657.18,627.6,500.02,580.14,511.42,558.92,604.6,563.28,566.58,570.0,573.7,450.0,579.52,573.7,473.62,666.82,554.92,502.28,625.84,619.2,548.32,562.5,602.86,592.24,552.6,561.88,553.14,471.68,580.22,591.26,567.66,450.0,604.0,450.0,594.44,572.88,540.14,535.96,528.82,503.6,645.96,548.2,605.4,611.94,590.76,530.76,624.7,593.12,554.46,597.14,549.34,591.6,506.74,550.52,450.0,590.44,505.92,571.8,634.56,575.66,636.4,573.36,535.34,616.5,607.28,586.26,536.14,546.5,584.44,524.16,570.22,631.56,450.0,544.2,580.26,553.12,570.36,581.32,533.42,550.58,639.06,660.3,647.72,600.28,585.3,536.28,539.28,535.06,618.22,595.72,521.36,623.52,643.72,450.0,596.36,600.18,587.34,550.6,584.92,545.76,559.86,544.6,542.82,553.7,561.22,551.7,518.5,593.08,495.68,584.02,605.4,601.16,578.56,597.1,472.2,450.0,635.84,564.86,523.28,570.52,613.48,603.84,578.32,621.78,502.54,544.94,555.48,502.76,498.2,540.74,581.16,535.56,577.44,593.24,574.28,567.32,548.0,550.36,554.4,483.84,585.72,589.56,593.02,576.06,588.88,583.2,625.6,450.0,559.9,623.04,604.32,603.48,600.94,598.9,581.94,551.4,587.42,529.24,602.88,577.12,501.74,568.74,543.34,450.0,593.08,611.76,583.26,450.0,450.0,450.0,625.6,576.56,605.0,450.0,625.2,541.6,577.18,622.36,597.3,630.98,520.38,450.0,616.88,548.04,557.96,538.36,450.0,592.1,516.16,542.1,670.38,585.98,586.56,581.38,625.32,544.7,564.42,590.68,539.38,558.48,515.36,573.44,452.98,616.42,604.04,613.14,598.88,589.04,548.96,450.0,562.82,558.64,582.76,598.32],\"xaxis\":\"x\",\"y\":[450.0,579.5,557.68,584.58,623.22,574.94,544.46,450.0,450.0,522.72,503.3,544.42,450.0,662.08,516.76,648.82,450.0,512.16,491.48,450.0,495.44,450.0,617.96,606.44,450.0,450.0,514.48,544.96,566.04,589.5,553.26,579.06,592.14,541.8,560.92,542.7,599.68,450.0,531.04,541.18,555.76,531.16,450.0,450.0,550.02,521.38,492.14,474.0,536.26,568.54,450.0,491.82,524.22,519.74,536.62,523.58,497.42,608.36,450.0,450.0,450.0,585.04,450.0,450.0,520.9,565.42,723.28,547.78,469.3,570.5,581.94,514.98,532.14,603.5,518.64,530.1,564.3,539.44,495.86,565.66,501.26,577.54,498.78,450.0,561.6,580.16,536.18,557.62,549.42,498.74,518.34,522.64,499.66,472.5,520.66,567.88,493.12,591.54,517.62,592.1,450.0,450.0,450.0,483.92,488.52,520.58,506.84,450.0,473.06,632.0,640.9,556.8,538.26,450.0,574.0,528.9,450.0,609.48,546.74,450.0,541.22,520.02,557.7,555.3,504.24,450.0,595.34,542.22,450.0,580.82,528.92,548.88,450.0,549.76,531.86,554.04,562.02,538.04,522.86,450.0,553.1,450.0,450.0,518.06,547.74,544.32,544.24,450.0,585.26,530.44,581.76,534.9,562.36,463.3,499.14,514.98,556.0,519.62,584.22,548.92,606.76,464.92,450.0,470.8,459.66,450.0,450.0,478.82,450.0,551.82,450.0,508.12,557.84,634.06,595.26,621.56,558.54,626.34,536.5,515.62,494.48,450.0,465.04,584.64,598.44,582.88,558.76,527.9,598.12,547.98,484.92,450.0,474.14,512.16,589.36,576.86,625.54,450.0,544.28,473.7,510.2,493.42,510.86,654.74,549.18,526.54,450.0,589.76,603.66,558.04,552.74,584.38,519.36,450.0,544.32,519.62,602.86,450.0,540.48,575.04,550.5,544.86,493.98,528.38,450.0,519.04,571.32,481.08,518.36,484.06,450.0,582.24,549.52,549.32,450.0,563.22,549.18,606.2,482.1,450.0,548.28,459.3,503.38,540.52,571.32,516.54,572.92,526.02,514.02,498.62,551.7,450.0,450.0,517.2,568.5,467.34,450.0,513.12,531.86,578.98,554.66,583.2,605.68,450.0,527.1,450.0,586.1,587.38,506.66,450.0,450.0,553.68,563.02,543.58,450.0,622.18,534.44,524.54,556.64,580.52,450.0,596.32,450.0,583.9,539.94,573.16,560.62,463.42,518.46,575.66,511.96,599.3,576.76,608.86,579.3,609.76,561.96,554.7,585.12,498.98,498.84,537.74,540.76,611.98,553.5,523.26,552.5,536.16,477.46,500.26,562.0,485.7,587.88,450.0,544.06,522.36,539.28,545.28,607.24,479.78,536.02,567.0,501.1,536.72,450.0,450.0,558.88,626.22,476.62,553.54,498.4,537.2,534.66,500.0,529.1,494.2,525.24,590.56,551.22,553.78,509.86,553.46,567.02,518.84,542.56,514.08,512.28,450.0,546.08,503.94,466.08,494.16,458.52,586.1,516.06,545.02,450.0,549.22,572.56,721.08,557.12,524.34,599.4,535.76,450.0,630.48,544.38,608.96,450.0,450.0,490.46,536.76,531.06,668.14,471.92,494.44,544.7,579.48,551.9,501.7,499.78,529.22,711.68,516.92,557.0,542.04,572.8,560.98,527.4,546.42,595.76,568.38,509.54,537.78,535.3,509.68,553.02,555.28,741.0,450.0,567.98,568.98,450.0,587.12,556.16,503.42,588.74,525.88,526.36,487.94,502.48,551.42,496.56,572.84,450.0,561.72,450.0,499.3,527.28,593.8,523.86,578.72,512.44,450.0,536.54,470.38,605.32,505.52,585.54,562.54,583.34,534.56,484.4,520.84,450.0,531.44,556.02,623.6,558.12,450.0,569.9,548.72,475.46,545.72,504.12,476.2,606.78,547.12,526.46,599.04,450.0,450.0,486.96,565.36,517.7,450.0,633.44,531.7,534.78,565.92,590.76,623.4,515.98,591.96,596.6,573.48,602.18,596.08,450.0,486.44,560.06,450.0,515.38,552.92,516.26,543.58,450.0,578.24,510.02,567.5,584.24,496.32,571.0,563.74,527.08,595.16,548.44,450.0,556.24,553.08,605.86,641.36,486.32,572.98,450.0,450.0,559.88,546.54,450.0,601.76,450.0,509.7,475.16,515.5,600.96,494.76,613.12,545.5,596.54,460.2,498.66,568.24,495.5,542.52,560.0,539.22,552.24,450.0,535.26,496.32,607.2,536.98,477.24,450.0,596.2,564.64,450.0,513.18,583.84,567.9,468.16,534.94,450.0,592.26,572.58,450.0,450.0,452.94,467.58,508.22,521.5,601.22,647.88,613.5,567.58,560.92,486.78,529.9,556.1,590.94,546.12,450.0,494.86,562.28,450.0,489.18,450.0,544.5,596.98,597.56,471.0,559.22,552.4,540.7,450.0,516.0,450.0,573.98,450.0,576.32,523.14,452.7,499.66,552.18,450.0,562.68,564.64,566.34,517.18,450.0,450.0,542.68,572.82,583.82,611.04,508.98,577.74,598.28,489.06,546.4,504.3,540.9,521.28,502.26,505.22,486.18,571.48,631.38,573.26,534.76,524.34,514.46,485.0,559.12,450.0,493.5,459.52,620.98,566.98,557.08,468.58,615.12,596.84,565.56,576.38,619.28,538.22,587.22,547.44,595.34,582.6,538.92,579.4,559.24,561.78,545.46,585.04,722.82,768.34,523.44,561.46,580.02,450.0,524.62,528.54,450.0,604.32,557.5,591.2,544.48,528.28,525.24,573.9,602.64,575.96,553.24,507.56,555.32,590.48,501.84,528.28,552.76,520.0,450.0,557.2,571.46,516.6,523.72,546.7,678.54,450.0,539.68,505.44,554.88,450.0,612.5,450.0,580.92,594.86,545.98,555.02,568.78,583.12,564.12,571.1,639.52,550.98,576.84,560.92,581.36,558.82,553.9,599.72,450.0,538.56,532.92,546.44,525.84,542.76,531.58,556.24,574.8,450.0,450.0,584.32,450.0,595.88,450.0,543.72,585.96,553.64,538.58,563.44,472.78,557.44,512.28,450.0,504.6,564.12,558.68,520.12,485.58,483.06,450.0,450.0,505.72,530.84,618.24,638.7,566.2,607.68,450.0,546.52,531.2,604.34,524.12,545.46,517.56,613.82,539.84,535.16,488.78,484.96,555.72,522.66,544.14,562.28,585.08,583.92,503.34,575.44,529.64,582.8,582.72,450.0,553.18,539.1,543.84,450.0,512.7,516.0,550.78,540.72,450.0,577.88,535.72,618.68,537.2,525.54,554.52,573.76,510.42,577.62,491.18,463.48,518.08,450.0,541.98,615.42,450.0,450.0,566.34,609.26,656.1,618.12,450.0,594.36,450.0,484.84,552.98,575.7,450.0,554.5,534.02,511.98,595.2,554.18,594.72,514.34,546.3,491.06,561.92,558.86,540.26,563.5,568.7,558.06,450.0,495.68,567.06,450.0,615.44,615.98,450.0,587.64,601.38,503.46,556.94,560.7,599.36,566.68,575.86,557.92,450.0,549.9,589.5,508.1,500.64,571.26,450.0,586.2,563.58,496.42,619.4,496.9,519.78,624.78,558.78,566.46,576.3,528.84,461.78,582.78,544.5,558.14,591.08,534.02,587.56,499.34,522.14,450.0,541.94,472.44,507.36,569.42,495.02,572.54,535.36,517.6,597.12,567.1,548.04,534.12,540.9,570.4,450.0,569.22,602.26,450.0,546.46,506.08,566.12,450.0,580.22,511.98,496.6,622.44,583.54,622.68,575.78,560.58,543.18,553.32,488.94,586.3,627.38,520.5,585.0,450.0,450.0,535.98,596.12,548.44,518.78,584.7,545.52,491.3,533.34,535.36,525.7,503.86,517.12,521.48,568.5,571.02,520.8,569.56,555.9,530.82,554.8,450.0,450.0,602.54,515.04,450.0,486.98,655.52,582.66,513.14,573.46,504.38,517.92,544.62,481.16,450.0,514.14,590.88,523.7,629.66,560.42,551.76,543.98,466.48,511.9,515.58,450.0,565.58,592.82,563.92,563.98,566.5,575.96,551.64,514.46,566.14,557.28,599.14,530.94,606.26,579.42,569.08,531.36,553.92,534.9,627.68,545.9,458.46,563.56,497.92,450.0,513.44,521.7,566.46,522.6,450.0,450.0,551.78,558.62,578.38,450.0,585.14,568.5,548.74,563.02,593.18,619.08,450.0,450.0,587.72,539.82,526.84,519.94,450.0,605.34,508.74,450.0,610.44,482.82,581.84,565.08,617.24,503.76,520.56,519.16,544.3,554.12,496.22,541.5,450.0,564.78,540.18,516.54,549.24,533.04,560.94,501.74,555.64,542.1,578.14,579.32],\"yaxis\":\"y\",\"type\":\"scatter\"},{\"hovertemplate\":\"<b>OLS trendline</b><br>nota_parcial_cotas = 0.78964 * nota_parcial_ampla + 91.8145<br>R<sup>2</sup>=0.646660<br><br>nota_parcial_ampla=%{x}<br>nota_parcial_cotas=%{y} <b>(trend)</b><extra></extra>\",\"legendgroup\":\"\",\"line\":{\"color\":\"red\"},\"marker\":{\"color\":\"#636efa\",\"symbol\":\"circle\"},\"mode\":\"lines\",\"name\":\"\",\"showlegend\":false,\"x\":[450.0,450.0,450.0,450.0,450.0,450.0,450.0,450.0,450.0,450.0,450.0,450.0,450.0,450.0,450.0,450.0,450.0,450.0,450.0,450.0,450.0,450.0,450.0,450.0,450.0,450.0,450.0,450.0,450.0,450.0,450.0,450.0,450.0,450.0,450.0,450.0,450.0,450.0,450.0,450.0,450.0,450.0,450.0,450.0,450.0,450.0,450.0,450.0,450.0,450.0,450.0,450.0,450.0,450.0,450.0,450.0,450.0,450.0,450.0,450.0,450.0,450.0,450.0,450.0,450.0,450.0,450.0,450.0,450.0,450.0,450.0,450.0,450.0,450.0,450.0,450.0,450.0,450.0,450.0,450.0,450.0,450.0,450.0,450.0,450.0,450.0,450.0,450.0,450.0,450.0,450.0,450.0,450.0,450.0,450.78,451.54,452.94,452.98,454.8,457.88,460.82,462.7,463.76,463.78,463.98,465.5,465.54,467.26,468.38,471.4,471.68,472.2,472.22,473.34,473.62,475.2,475.62,475.72,476.04,478.7,481.74,482.5,483.84,486.92,490.42,490.58,493.28,493.44,493.9,494.96,495.22,495.68,496.52,496.74,497.3,497.8,497.84,498.2,498.26,499.48,500.02,500.14,500.62,501.22,501.74,502.28,502.36,502.54,502.66,502.76,502.84,503.5,503.56,503.6,504.26,504.86,504.98,505.92,506.0,506.74,507.16,507.6,508.3,508.6,510.2,511.42,511.94,512.0,512.14,512.28,512.98,514.02,514.64,514.88,514.9,515.24,515.36,515.86,515.96,516.16,516.16,516.34,516.84,517.66,517.86,518.5,519.38,519.52,520.08,520.26,520.38,520.92,521.36,522.08,522.18,522.24,522.98,523.28,524.0,524.06,524.16,524.54,525.78,525.8,525.8,526.18,527.12,527.3,528.1,528.6,528.74,528.74,528.82,528.92,528.96,529.22,529.24,529.4,529.5,529.78,530.0,530.3,530.44,530.76,531.94,532.08,532.46,532.74,533.32,533.42,533.56,534.02,534.34,534.42,534.72,535.06,535.24,535.34,535.56,535.64,535.78,535.96,536.12,536.14,536.24,536.28,536.32,536.54,536.62,536.7,536.84,537.04,537.42,537.7,537.84,538.22,538.32,538.36,538.36,538.48,538.6,538.96,539.0,539.16,539.28,539.38,539.42,539.44,540.14,540.32,540.32,540.74,540.88,541.26,541.28,541.38,541.46,541.6,541.78,541.94,541.96,541.98,542.1,542.1,542.82,542.82,542.82,542.98,543.34,543.34,543.56,543.76,543.88,543.88,544.08,544.2,544.22,544.24,544.4,544.44,544.6,544.7,544.78,544.86,544.94,544.94,545.14,545.54,545.62,545.76,545.78,546.02,546.3,546.34,546.5,546.54,547.2,547.46,547.52,547.56,547.58,547.78,547.84,548.0,548.04,548.2,548.22,548.26,548.3,548.32,548.54,548.66,548.76,548.84,548.96,548.98,549.3,549.34,549.44,549.5,549.62,549.86,550.12,550.26,550.36,550.52,550.58,550.6,550.64,550.78,551.18,551.18,551.4,551.62,551.7,552.24,552.38,552.38,552.4,552.4,552.56,552.6,552.62,552.64,552.88,553.12,553.12,553.12,553.14,553.2,553.22,553.7,553.88,554.04,554.06,554.08,554.28,554.4,554.46,554.56,554.64,554.74,554.78,554.9,554.92,555.24,555.38,555.48,555.54,556.04,556.22,556.24,556.3,556.38,556.6,556.64,556.7,556.78,556.98,557.02,557.12,557.36,557.8,557.82,557.92,557.94,557.96,558.44,558.48,558.62,558.64,558.9,558.92,559.18,559.22,559.46,559.78,559.78,559.86,559.9,560.02,560.06,560.08,560.26,560.32,560.52,560.76,560.86,560.86,560.96,560.98,560.98,561.22,561.36,561.36,561.78,561.8,561.88,562.04,562.16,562.34,562.44,562.5,562.58,562.74,562.76,562.82,562.82,562.86,562.9,562.9,562.94,562.96,563.06,563.14,563.28,563.3,563.5,563.64,563.68,563.82,564.06,564.28,564.42,564.5,564.58,564.6,564.76,564.86,565.02,565.14,565.24,565.24,565.26,565.32,565.76,565.78,565.82,565.82,566.34,566.38,566.58,566.6,566.76,566.86,567.02,567.04,567.16,567.32,567.5,567.58,567.64,567.66,567.92,568.24,568.34,568.66,568.74,568.74,568.88,569.04,569.28,569.38,569.84,570.0,570.22,570.32,570.36,570.38,570.5,570.52,570.64,570.8,570.96,571.0,571.2,571.26,571.32,571.48,571.5,571.54,571.56,571.6,571.7,571.8,571.86,571.92,572.0,572.08,572.22,572.32,572.38,572.46,572.56,572.64,572.7,572.88,572.92,572.98,573.24,573.36,573.36,573.4,573.42,573.44,573.64,573.7,573.7,573.76,573.8,573.82,574.24,574.24,574.28,574.34,574.44,574.48,574.5,574.66,575.08,575.14,575.18,575.32,575.48,575.66,575.68,575.72,575.74,575.8,575.98,576.0,576.06,576.16,576.26,576.52,576.54,576.56,576.58,576.58,576.64,576.82,577.12,577.18,577.22,577.3,577.34,577.36,577.38,577.42,577.44,577.62,577.68,577.92,578.0,578.02,578.06,578.08,578.08,578.12,578.16,578.32,578.36,578.44,578.54,578.56,578.62,578.9,579.48,579.52,579.92,579.98,580.04,580.14,580.14,580.22,580.26,580.26,580.28,580.28,580.4,580.46,580.58,580.62,581.06,581.12,581.12,581.16,581.22,581.3,581.32,581.34,581.38,581.42,581.54,581.8,581.88,581.94,582.24,582.4,582.56,582.62,582.66,582.72,582.76,582.82,582.96,583.2,583.22,583.26,583.4,583.48,583.6,583.62,583.76,583.8,584.02,584.22,584.24,584.38,584.44,584.44,584.62,584.8,584.88,584.92,584.92,584.96,585.3,585.34,585.72,585.76,585.98,586.08,586.16,586.2,586.22,586.26,586.42,586.56,586.72,586.74,587.02,587.22,587.22,587.28,587.34,587.34,587.42,587.7,587.8,587.82,588.12,588.16,588.46,588.8,588.86,588.88,588.9,588.96,589.04,589.04,589.12,589.14,589.44,589.56,589.66,590.02,590.06,590.2,590.24,590.3,590.44,590.68,590.68,590.7,590.76,590.98,591.0,591.26,591.36,591.38,591.42,591.6,591.62,591.74,591.84,591.9,592.04,592.1,592.24,592.76,592.96,593.02,593.02,593.08,593.08,593.12,593.24,593.46,593.66,593.74,593.82,593.94,593.96,594.02,594.14,594.44,594.76,594.82,595.0,595.24,595.72,595.72,595.88,595.94,596.04,596.06,596.06,596.12,596.22,596.32,596.36,596.64,596.82,597.1,597.14,597.3,597.34,597.6,597.64,597.7,597.94,597.94,597.96,598.32,598.42,598.8,598.88,598.9,598.96,599.02,599.32,599.44,599.48,599.5,599.56,599.84,599.86,599.88,600.18,600.28,600.64,600.72,600.94,600.98,601.16,601.24,601.3,601.4,601.66,601.94,602.0,602.06,602.36,602.56,602.82,602.86,602.88,603.24,603.48,603.5,603.82,603.84,603.88,603.88,604.0,604.04,604.04,604.06,604.06,604.26,604.32,604.38,604.38,604.4,604.58,604.6,604.62,604.72,605.0,605.26,605.4,605.4,605.44,605.46,605.52,605.86,605.9,605.98,606.18,606.3,607.0,607.14,607.28,607.28,607.4,607.9,608.18,608.26,608.28,608.86,609.4,609.58,609.6,609.64,609.98,610.0,610.0,610.06,610.06,610.28,610.46,610.84,610.88,610.88,610.98,611.54,611.76,611.82,611.94,612.4,613.14,613.24,613.48,613.82,614.16,614.64,615.12,615.3,615.56,615.74,615.9,616.42,616.5,616.88,617.16,617.2,617.32,617.56,617.66,618.22,618.58,618.64,619.04,619.2,619.26,619.64,619.72,619.9,620.12,620.32,620.44,621.16,621.22,621.7,621.78,622.36,622.4,622.66,622.74,622.9,623.04,623.42,623.52,623.84,623.88,623.96,624.14,624.48,624.48,624.7,625.06,625.1,625.2,625.32,625.48,625.6,625.6,625.84,627.14,627.46,627.54,627.6,627.6,627.62,627.86,628.3,628.56,630.24,630.98,631.04,631.56,631.7,633.14,633.5,634.18,634.52,634.56,634.94,635.34,635.36,635.6,635.6,635.84,636.4,636.64,637.44,637.98,639.06,639.78,639.96,640.0,641.14,641.26,641.44,642.62,643.72,644.18,644.3,645.96,647.72,648.86,649.72,649.8,649.92,649.96,650.04,652.66,654.58,654.86,655.4,656.9,657.1,657.18,660.3,660.96,664.76,666.82,670.38,671.06,682.38,683.16,690.12,695.7,729.72,730.98,738.42,741.36,745.06,776.36],\"xaxis\":\"x\",\"y\":[447.1525461480283,447.1525461480283,447.1525461480283,447.1525461480283,447.1525461480283,447.1525461480283,447.1525461480283,447.1525461480283,447.1525461480283,447.1525461480283,447.1525461480283,447.1525461480283,447.1525461480283,447.1525461480283,447.1525461480283,447.1525461480283,447.1525461480283,447.1525461480283,447.1525461480283,447.1525461480283,447.1525461480283,447.1525461480283,447.1525461480283,447.1525461480283,447.1525461480283,447.1525461480283,447.1525461480283,447.1525461480283,447.1525461480283,447.1525461480283,447.1525461480283,447.1525461480283,447.1525461480283,447.1525461480283,447.1525461480283,447.1525461480283,447.1525461480283,447.1525461480283,447.1525461480283,447.1525461480283,447.1525461480283,447.1525461480283,447.1525461480283,447.1525461480283,447.1525461480283,447.1525461480283,447.1525461480283,447.1525461480283,447.1525461480283,447.1525461480283,447.1525461480283,447.1525461480283,447.1525461480283,447.1525461480283,447.1525461480283,447.1525461480283,447.1525461480283,447.1525461480283,447.1525461480283,447.1525461480283,447.1525461480283,447.1525461480283,447.1525461480283,447.1525461480283,447.1525461480283,447.1525461480283,447.1525461480283,447.1525461480283,447.1525461480283,447.1525461480283,447.1525461480283,447.1525461480283,447.1525461480283,447.1525461480283,447.1525461480283,447.1525461480283,447.1525461480283,447.1525461480283,447.1525461480283,447.1525461480283,447.1525461480283,447.1525461480283,447.1525461480283,447.1525461480283,447.1525461480283,447.1525461480283,447.1525461480283,447.1525461480283,447.1525461480283,447.1525461480283,447.1525461480283,447.1525461480283,447.1525461480283,447.1525461480283,447.7684654906736,448.3685920296613,449.47408828569127,449.5056738930064,450.9428190258454,453.3749107891113,455.69645292677427,457.18097647058596,458.01799506443723,458.0337878680948,458.19171590467056,459.39196898264595,459.4235545899611,460.7817357045122,461.6661327093362,464.05084606162944,464.27194531283544,464.6825582079323,464.69835101158986,465.58274801641386,465.80384726761986,467.051478756568,467.38312763337694,467.4620916516648,467.71477651018597,469.81521939664293,472.21572555259377,472.81585209158146,473.8739699366387,476.3060616999047,479.0698023399797,479.1961447692402,481.3281732630123,481.4545156922729,481.817750176397,482.65476877024827,482.86007521779675,483.22330970192087,483.8866074555388,484.06032829577214,484.50252679818414,484.8973468896234,484.9289324969385,485.2132029627748,485.2605813737475,486.2239423968594,486.65034809561377,486.7451049175592,487.1241322053409,487.5979163150681,488.0085292101649,488.43493490891933,488.49810612354963,488.6402413564678,488.7349981784132,488.813962196701,488.87713341133133,489.3982959320312,489.4456743430039,489.4772599503191,489.9984224710189,490.47220658074605,490.56696340269144,491.3092251745973,491.37239638922756,491.95673012455774,492.2883790013667,492.6358206818333,493.1885688098483,493.42546086471185,494.68888515731754,495.65224618042936,496.0628590755262,496.11023748649893,496.2207871121019,496.33133673770493,496.88408486571996,497.7053106559136,498.1948875692983,498.38440121318916,498.40019401684674,498.66867167902546,498.7634285009709,499.1582485924102,499.23721261069807,499.3951406472737,499.3951406472737,499.5372758801919,499.93209597163116,500.5796009215915,500.7375289581673,501.2428986752096,501.93778203614266,502.0483316617457,502.4905301641577,502.6326653970758,502.72742221902126,503.15382791777563,503.50126959824223,504.06981052991483,504.1487745482026,504.1961529591754,504.7804866945055,505.0173787493691,505.5859196810416,505.6332980920143,505.71226211030216,506.01232537979604,506.99147920656543,507.007272010223,507.007272010223,507.3073352797169,508.04959705162275,508.1917322845408,508.8234444308437,509.21826452228305,509.328814147886,509.328814147886,509.3919853625163,509.4709493808041,509.5025349881193,509.7078414356677,509.7236342393253,509.84997666858584,509.9289406868737,510.15003993807966,510.323760778313,510.5606528331765,510.6712024587796,510.9238873173007,511.85566273309746,511.96621235870043,512.2662756281943,512.4873748794002,512.9453661854699,513.0243302037577,513.1348798293607,513.4981143134848,513.7507991720059,513.8139703866362,514.0508624414998,514.3193401036784,514.4614753365967,514.5404393548846,514.7141601951178,514.7773314097481,514.887881035351,515.0300162682693,515.1563586975298,515.1721515011874,515.2511155194752,515.2827011267904,515.3142867341055,515.4880075743388,515.5511787889691,515.6143500035994,515.7248996292024,515.882827665778,516.1828909352719,516.4039901864779,516.5145398120809,516.8146030815748,516.8935670998627,516.9251527071777,516.9251527071777,517.0199095291232,517.1146663510686,517.3989368169049,517.43052242422,517.5568648534805,517.651621675426,517.7305856937139,517.762171301029,517.7779641046867,518.3307122327016,518.4728474656198,518.4728474656198,518.8044963424287,518.9150459680317,519.2151092375256,519.2309020411832,519.309866059471,519.3730372741013,519.4835868997043,519.6257221326224,519.752064561883,519.7678573655406,519.7836501691982,519.8784069911436,519.8784069911436,520.4469479228162,520.4469479228162,520.4469479228162,520.5732903520767,520.857560817913,520.857560817913,521.0312816581462,521.189209694722,521.2839665166674,521.2839665166674,521.4418945532432,521.5366513751886,521.5524441788461,521.5682369825037,521.6945794117643,521.7261650190794,521.85250744834,521.9314714666278,521.9946426812581,522.0578138958884,522.1209851105187,522.1209851105187,522.2789131470944,522.5947692202458,522.6579404348761,522.768490060479,522.7842828641367,522.9737965080275,523.1948957592335,523.2264813665487,523.3528237958093,523.3844094031243,523.9055719238243,524.1108783713727,524.1582567823453,524.1898423896605,524.2056351933181,524.3635632298938,524.4109416408666,524.537284070127,524.5688696774422,524.6952121067028,524.7110049103604,524.7425905176755,524.7741761249906,524.7899689286482,524.9636897688814,525.0584465908269,525.1374106091148,525.2005818237451,525.2953386456905,525.3111314493481,525.5638163078692,525.5954019151843,525.6743659334722,525.7217443444449,525.8165011663904,526.0060148102812,526.2113212578296,526.3218708834326,526.4008349017205,526.527177330981,526.5745557419538,526.5903485456114,526.6219341529264,526.7324837785294,527.0483398516808,527.0483398516808,527.2220606919142,527.3957815321475,527.4589527467778,527.8853584455321,527.9959080711352,527.9959080711352,528.0117008747927,528.0117008747927,528.1380433040532,528.1696289113685,528.185421715026,528.2012145186836,528.3907281625744,528.5802418064653,528.5802418064653,528.5802418064653,528.5960346101228,528.6434130210956,528.6592058247531,529.0382331125348,529.180368345453,529.3067107747136,529.3225035783711,529.3382963820287,529.4962244186044,529.5909812405498,529.6383596515226,529.7173236698104,529.7804948844407,529.8594589027285,529.8910445100437,529.9858013319891,530.0015941356467,530.2542789941679,530.3648286197708,530.4437926380587,530.4911710490313,530.8859911404707,531.0281263733889,531.0439191770464,531.0912975880191,531.1544688026494,531.3281896428826,531.3597752501978,531.4071536611706,531.4703248758008,531.6282529123765,531.6598385196917,531.7388025379795,531.9283161818704,532.275757862337,532.2915506659946,532.3705146842823,532.38630748794,532.4021002915975,532.7811275793792,532.8127131866944,532.9232628122974,532.9390556159549,533.1443620635033,533.1601548671609,533.3654613147094,533.3970469220245,533.5865605659154,533.8392454244365,533.8392454244365,533.9024166390668,533.9340022463819,534.0287590683273,534.0603446756425,534.0761374793001,534.2182727122182,534.265651123191,534.4235791597666,534.6130928036574,534.6920568219454,534.6920568219454,534.7710208402332,534.7868136438908,534.7868136438908,534.9763272877816,535.0868769133846,535.0868769133846,535.4185257901936,535.4343185938511,535.4974898084814,535.623832237742,535.7185890596875,535.8607242926056,535.9396883108935,535.9870667218662,536.0502379364965,536.176580365757,536.1923731694146,536.2397515803874,536.2397515803874,536.2713371877024,536.3029227950176,536.3029227950176,536.3345084023327,536.3503012059904,536.4292652242781,536.4924364389084,536.6029860645115,536.618778868169,536.7767069047447,536.8872565303477,536.9188421376629,537.029391763266,537.2189054071566,537.39262624739,537.503175872993,537.5663470876233,537.6295183022536,537.6453111059112,537.7716535351717,537.8506175534595,537.9769599827201,538.0717168046656,538.1506808229534,538.1506808229534,538.166473626611,538.2138520375837,538.5612937180503,538.5770865217078,538.608672129023,538.608672129023,539.0192850241199,539.0508706314349,539.2087986680107,539.2245914716683,539.3509339009288,539.4298979192167,539.5562403484772,539.5720331521348,539.6667899740802,539.7931324033409,539.9352676362589,539.9984388508893,540.045817261862,540.0616100655195,540.2669165130679,540.5196013715891,540.598565389877,540.8512502483981,540.9144214630284,540.9144214630284,541.0249710886313,541.1513135178919,541.3408271617827,541.4197911800707,541.7830256641948,541.9093680934553,542.0830889336887,542.1620529519765,542.1936385592917,542.2094313629492,542.3041881848947,542.3199809885522,542.4147378104976,542.5410802397581,542.6674226690188,542.6990082763339,542.8569363129096,542.9043147238823,542.9516931348551,543.0780355641157,543.0938283677732,543.1254139750883,543.1412067787459,543.172792386061,543.251756404349,543.3307204226368,543.3780988336094,543.4254772445821,543.4886484592125,543.5518196738428,543.6623692994458,543.7413333177336,543.7887117287063,543.8518829433366,543.9308469616244,543.9940181762547,544.0413965872275,544.1835318201456,544.2151174274608,544.2624958384334,544.4678022859819,544.5625591079273,544.5625591079273,544.5941447152425,544.6099375189,544.6257303225576,544.7836583591333,544.831036770106,544.831036770106,544.8784151810787,544.9100007883939,544.9257935920515,545.2574424688604,545.2574424688604,545.2890280761756,545.3364064871483,545.4153705054362,545.4469561127513,545.4627489164088,545.5890913456694,545.9207402224785,545.9681186334511,545.9997042407663,546.1102538663694,546.2365962956299,546.378731528548,546.3945243322055,546.4261099395208,546.4419027431783,546.489281154151,546.6314163870692,546.6472091907267,546.6945876016994,546.7735516199873,546.8525156382751,547.0578220858235,547.0736148894811,547.0894076931387,547.1052004967963,547.1052004967963,547.152578907769,547.2947141406871,547.5316061955507,547.5789846065234,547.6105702138386,547.6737414284688,547.705327035784,547.7211198394416,547.7369126430991,547.7684982504143,547.7842910540719,547.92642628699,547.9738046979627,548.1633183418535,548.2264895564838,548.2422823601414,548.2738679674565,548.2896607711142,548.2896607711142,548.3212463784292,548.3528319857444,548.479174415005,548.5107600223201,548.5739312369504,548.6528952552383,548.6686880588958,548.7160664698686,548.9371657210745,549.3951570271441,549.4267426344592,549.7425987076107,549.7899771185834,549.837355529556,549.916319547844,549.916319547844,549.9794907624743,550.0110763697894,550.0110763697894,550.0268691734469,550.0268691734469,550.1216259953924,550.1690044063652,550.2637612283105,550.2953468356257,550.6427885160922,550.690166927065,550.690166927065,550.72175253438,550.7691309453528,550.832302159983,550.8480949636407,550.8638877672983,550.8954733746134,550.9270589819284,551.0218158038739,551.2271222514223,551.2902934660526,551.3376718770254,551.574563931889,551.7009063611495,551.8272487904101,551.8746272013827,551.9062128086979,551.9535912196707,551.9851768269857,552.0325552379585,552.1431048635615,552.3326185074524,552.3484113111099,552.379996918425,552.490546544028,552.5537177586583,552.6484745806038,552.6642673842613,552.7748170098644,552.8064026171794,552.9801234574128,553.1380514939885,553.1538442976461,553.264393923249,553.3117723342218,553.3117723342218,553.4539075671399,553.596042800058,553.6592140146884,553.6907996220034,553.6907996220034,553.7223852293187,553.9908628914973,554.0224484988124,554.3225117683063,554.3540973756214,554.5278182158547,554.6067822341427,554.6699534487728,554.701539056088,554.7173318597456,554.7489174670607,554.8752598963213,554.9858095219242,555.1121519511848,555.1279447548425,555.3490440060484,555.5069720426242,555.5069720426242,555.5543504535968,555.6017288645696,555.6017288645696,555.6649000791998,555.8859993304059,555.9649633486937,555.9807561523513,556.2176482072149,556.2492338145299,556.4861258693936,556.7546035315722,556.801981942545,556.8177747462025,556.83356754986,556.8809459608328,556.9441171754631,556.9441171754631,557.0072883900934,557.023081193751,557.2599732486145,557.35473007056,557.4336940888478,557.717964554684,557.7495501619992,557.8600997876023,557.8916853949174,557.9390638058901,558.0496134314932,558.2391270753839,558.2391270753839,558.2549198790416,558.3022982900143,558.4760191302476,558.4918119339051,558.6971183814535,558.7760823997414,558.791875203399,558.8234608107141,558.9655960436322,558.9813888472898,559.0761456692352,559.1551096875231,559.2024880984958,559.3130377240988,559.3604161350715,559.4709657606745,559.8815786557714,560.0395066923471,560.0868851033198,560.0868851033198,560.1342635142926,560.1342635142926,560.1658491216076,560.2606059435531,560.4343267837863,560.5922548203621,560.6554260349924,560.7185972496227,560.8133540715681,560.8291468752257,560.8765252861983,560.9712821081438,561.2081741630074,561.4608590215284,561.5082374325012,561.6503726654194,561.8398863093101,562.218913597092,562.218913597092,562.3452560263524,562.3926344373252,562.471598455613,562.4873912592706,562.4873912592706,562.5347696702433,562.6137336885312,562.6926977068191,562.7242833141341,562.9453825653402,563.0875177982583,563.3086170494644,563.3402026567794,563.46654508604,563.4981306933552,563.7034371409036,563.7350227482187,563.7824011591915,563.9719148030823,563.9719148030823,563.98770760674,564.2719780725762,564.350942090864,564.6510053603578,564.7141765749882,564.7299693786457,564.7773477896185,564.8247262005912,565.0616182554547,565.1563750774002,565.1879606847153,565.2037534883729,565.2511318993455,565.4722311505516,565.4880239542091,565.5038167578667,565.7407088127302,565.8196728310181,566.1039432968544,566.1671145114847,566.340835351718,566.3724209590331,566.5145561919512,566.5777274065815,566.6251058175542,566.7040698358421,566.9093762833905,567.1304755345966,567.1778539455693,567.2252323565419,567.4621244114055,567.6200524479812,567.8253588955297,567.8569445028448,567.8727373065024,568.1570077723386,568.3465214162295,568.362314219887,568.6149990784082,568.6307918820659,568.6623774893809,568.6623774893809,568.7571343113264,568.7887199186415,568.7887199186415,568.804512722299,568.804512722299,568.9624407588748,569.0098191698476,569.0571975808202,569.0571975808202,569.0729903844777,569.215125617396,569.2309184210535,569.246711224711,569.325675242999,569.5467744942049,569.7520809417533,569.8626305673563,569.8626305673563,569.8942161746716,569.9100089783291,569.9573873893017,570.2258650514805,570.2574506587956,570.3206218734259,570.4785499100016,570.573306731947,571.126054859962,571.2366044855651,571.347154111168,571.347154111168,571.4419109331135,571.8367310245527,572.0578302757586,572.1210014903891,572.1367942940466,572.5947856001162,573.0211912988706,573.1633265317887,573.1791193354463,573.2107049427614,573.4791826049402,573.4949754085977,573.4949754085977,573.5423538195704,573.5423538195704,573.7160746598037,573.8582098927219,574.1582731622157,574.1898587695308,574.1898587695308,574.2688227878187,574.7110212902306,574.884742130464,574.9321205414367,575.0268773633821,575.3901118475062,575.9744455828363,576.0534096011243,576.242923245015,576.5114009071939,576.7798785693725,577.1589058571542,577.5379331449359,577.680068377854,577.8853748254024,578.0275100583207,578.1538524875812,578.564465382678,578.6276365973083,578.9276998668022,579.1487991180081,579.1803847253234,579.2751415472688,579.4646551911595,579.5436192094475,579.9858177118595,580.2700881776958,580.3174665886685,580.6333226618199,580.7596650910805,580.8070435020531,581.107106771547,581.1702779861773,581.3124132190954,581.4861340593287,581.6440620959045,581.7388189178499,582.3073598495224,582.3547382604952,582.7337655482769,582.7969367629071,583.2549280689767,583.2865136762919,583.4918201238403,583.5549913384706,583.6813337677311,583.791883393334,584.0919466628279,584.1709106811159,584.423595539637,584.4551811469521,584.5183523615824,584.6604875945005,584.9289652566792,584.9289652566792,585.1026860969125,585.3869565627488,585.4185421700639,585.4975061883518,585.5922630102973,585.7186054395578,585.8133622615032,585.8133622615032,586.0028759053941,587.0294081431362,587.2820930016574,587.3452642162875,587.3926426272603,587.3926426272603,587.408435430918,587.5979490748088,587.9453907552753,588.1506972028237,589.4772927100597,590.0616264453898,590.1090048563625,590.5196177514594,590.6301673770624,591.7672492404075,592.0515197062439,592.5884750306012,592.8569526927799,592.8885383000951,593.188601569589,593.5044576427404,593.520250446398,593.7097640902888,593.7097640902888,593.8992777341797,594.3414762365917,594.5309898804825,595.1627020267854,595.5891077255397,596.4419191230486,597.0104600547212,597.1525952876393,597.1841808949545,598.084370703436,598.1791275253814,598.3212627582997,599.2530381740963,600.1216423752627,600.4848768593868,600.5796336813322,601.8904363849107,603.280203106777,604.1803929152585,604.8594834725341,604.9226546871643,605.0174115091097,605.0489971164249,605.1121683310552,607.1810256101969,608.6971347613238,608.9182340125299,609.3446397112842,610.5290999856021,610.6870280221779,610.750199236808,613.2138766073891,613.735039128089,616.7356718230276,618.3623305997575,621.1734496508051,621.7104049751624,630.6491318453477,631.265051187993,636.7609468608277,641.1671390812902,668.0306981028187,669.0256447332457,674.9005676938622,677.2221098315251,680.1437785081757,704.8595162322747],\"yaxis\":\"y\",\"type\":\"scatter\"}],                        {\"template\":{\"data\":{\"bar\":[{\"error_x\":{\"color\":\"#2a3f5f\"},\"error_y\":{\"color\":\"#2a3f5f\"},\"marker\":{\"line\":{\"color\":\"#E5ECF6\",\"width\":0.5},\"pattern\":{\"fillmode\":\"overlay\",\"size\":10,\"solidity\":0.2}},\"type\":\"bar\"}],\"barpolar\":[{\"marker\":{\"line\":{\"color\":\"#E5ECF6\",\"width\":0.5},\"pattern\":{\"fillmode\":\"overlay\",\"size\":10,\"solidity\":0.2}},\"type\":\"barpolar\"}],\"carpet\":[{\"aaxis\":{\"endlinecolor\":\"#2a3f5f\",\"gridcolor\":\"white\",\"linecolor\":\"white\",\"minorgridcolor\":\"white\",\"startlinecolor\":\"#2a3f5f\"},\"baxis\":{\"endlinecolor\":\"#2a3f5f\",\"gridcolor\":\"white\",\"linecolor\":\"white\",\"minorgridcolor\":\"white\",\"startlinecolor\":\"#2a3f5f\"},\"type\":\"carpet\"}],\"choropleth\":[{\"colorbar\":{\"outlinewidth\":0,\"ticks\":\"\"},\"type\":\"choropleth\"}],\"contour\":[{\"colorbar\":{\"outlinewidth\":0,\"ticks\":\"\"},\"colorscale\":[[0.0,\"#0d0887\"],[0.1111111111111111,\"#46039f\"],[0.2222222222222222,\"#7201a8\"],[0.3333333333333333,\"#9c179e\"],[0.4444444444444444,\"#bd3786\"],[0.5555555555555556,\"#d8576b\"],[0.6666666666666666,\"#ed7953\"],[0.7777777777777778,\"#fb9f3a\"],[0.8888888888888888,\"#fdca26\"],[1.0,\"#f0f921\"]],\"type\":\"contour\"}],\"contourcarpet\":[{\"colorbar\":{\"outlinewidth\":0,\"ticks\":\"\"},\"type\":\"contourcarpet\"}],\"heatmap\":[{\"colorbar\":{\"outlinewidth\":0,\"ticks\":\"\"},\"colorscale\":[[0.0,\"#0d0887\"],[0.1111111111111111,\"#46039f\"],[0.2222222222222222,\"#7201a8\"],[0.3333333333333333,\"#9c179e\"],[0.4444444444444444,\"#bd3786\"],[0.5555555555555556,\"#d8576b\"],[0.6666666666666666,\"#ed7953\"],[0.7777777777777778,\"#fb9f3a\"],[0.8888888888888888,\"#fdca26\"],[1.0,\"#f0f921\"]],\"type\":\"heatmap\"}],\"heatmapgl\":[{\"colorbar\":{\"outlinewidth\":0,\"ticks\":\"\"},\"colorscale\":[[0.0,\"#0d0887\"],[0.1111111111111111,\"#46039f\"],[0.2222222222222222,\"#7201a8\"],[0.3333333333333333,\"#9c179e\"],[0.4444444444444444,\"#bd3786\"],[0.5555555555555556,\"#d8576b\"],[0.6666666666666666,\"#ed7953\"],[0.7777777777777778,\"#fb9f3a\"],[0.8888888888888888,\"#fdca26\"],[1.0,\"#f0f921\"]],\"type\":\"heatmapgl\"}],\"histogram\":[{\"marker\":{\"pattern\":{\"fillmode\":\"overlay\",\"size\":10,\"solidity\":0.2}},\"type\":\"histogram\"}],\"histogram2d\":[{\"colorbar\":{\"outlinewidth\":0,\"ticks\":\"\"},\"colorscale\":[[0.0,\"#0d0887\"],[0.1111111111111111,\"#46039f\"],[0.2222222222222222,\"#7201a8\"],[0.3333333333333333,\"#9c179e\"],[0.4444444444444444,\"#bd3786\"],[0.5555555555555556,\"#d8576b\"],[0.6666666666666666,\"#ed7953\"],[0.7777777777777778,\"#fb9f3a\"],[0.8888888888888888,\"#fdca26\"],[1.0,\"#f0f921\"]],\"type\":\"histogram2d\"}],\"histogram2dcontour\":[{\"colorbar\":{\"outlinewidth\":0,\"ticks\":\"\"},\"colorscale\":[[0.0,\"#0d0887\"],[0.1111111111111111,\"#46039f\"],[0.2222222222222222,\"#7201a8\"],[0.3333333333333333,\"#9c179e\"],[0.4444444444444444,\"#bd3786\"],[0.5555555555555556,\"#d8576b\"],[0.6666666666666666,\"#ed7953\"],[0.7777777777777778,\"#fb9f3a\"],[0.8888888888888888,\"#fdca26\"],[1.0,\"#f0f921\"]],\"type\":\"histogram2dcontour\"}],\"mesh3d\":[{\"colorbar\":{\"outlinewidth\":0,\"ticks\":\"\"},\"type\":\"mesh3d\"}],\"parcoords\":[{\"line\":{\"colorbar\":{\"outlinewidth\":0,\"ticks\":\"\"}},\"type\":\"parcoords\"}],\"pie\":[{\"automargin\":true,\"type\":\"pie\"}],\"scatter\":[{\"marker\":{\"colorbar\":{\"outlinewidth\":0,\"ticks\":\"\"}},\"type\":\"scatter\"}],\"scatter3d\":[{\"line\":{\"colorbar\":{\"outlinewidth\":0,\"ticks\":\"\"}},\"marker\":{\"colorbar\":{\"outlinewidth\":0,\"ticks\":\"\"}},\"type\":\"scatter3d\"}],\"scattercarpet\":[{\"marker\":{\"colorbar\":{\"outlinewidth\":0,\"ticks\":\"\"}},\"type\":\"scattercarpet\"}],\"scattergeo\":[{\"marker\":{\"colorbar\":{\"outlinewidth\":0,\"ticks\":\"\"}},\"type\":\"scattergeo\"}],\"scattergl\":[{\"marker\":{\"colorbar\":{\"outlinewidth\":0,\"ticks\":\"\"}},\"type\":\"scattergl\"}],\"scattermapbox\":[{\"marker\":{\"colorbar\":{\"outlinewidth\":0,\"ticks\":\"\"}},\"type\":\"scattermapbox\"}],\"scatterpolar\":[{\"marker\":{\"colorbar\":{\"outlinewidth\":0,\"ticks\":\"\"}},\"type\":\"scatterpolar\"}],\"scatterpolargl\":[{\"marker\":{\"colorbar\":{\"outlinewidth\":0,\"ticks\":\"\"}},\"type\":\"scatterpolargl\"}],\"scatterternary\":[{\"marker\":{\"colorbar\":{\"outlinewidth\":0,\"ticks\":\"\"}},\"type\":\"scatterternary\"}],\"surface\":[{\"colorbar\":{\"outlinewidth\":0,\"ticks\":\"\"},\"colorscale\":[[0.0,\"#0d0887\"],[0.1111111111111111,\"#46039f\"],[0.2222222222222222,\"#7201a8\"],[0.3333333333333333,\"#9c179e\"],[0.4444444444444444,\"#bd3786\"],[0.5555555555555556,\"#d8576b\"],[0.6666666666666666,\"#ed7953\"],[0.7777777777777778,\"#fb9f3a\"],[0.8888888888888888,\"#fdca26\"],[1.0,\"#f0f921\"]],\"type\":\"surface\"}],\"table\":[{\"cells\":{\"fill\":{\"color\":\"#EBF0F8\"},\"line\":{\"color\":\"white\"}},\"header\":{\"fill\":{\"color\":\"#C8D4E3\"},\"line\":{\"color\":\"white\"}},\"type\":\"table\"}]},\"layout\":{\"annotationdefaults\":{\"arrowcolor\":\"#2a3f5f\",\"arrowhead\":0,\"arrowwidth\":1},\"autotypenumbers\":\"strict\",\"coloraxis\":{\"colorbar\":{\"outlinewidth\":0,\"ticks\":\"\"}},\"colorscale\":{\"diverging\":[[0,\"#8e0152\"],[0.1,\"#c51b7d\"],[0.2,\"#de77ae\"],[0.3,\"#f1b6da\"],[0.4,\"#fde0ef\"],[0.5,\"#f7f7f7\"],[0.6,\"#e6f5d0\"],[0.7,\"#b8e186\"],[0.8,\"#7fbc41\"],[0.9,\"#4d9221\"],[1,\"#276419\"]],\"sequential\":[[0.0,\"#0d0887\"],[0.1111111111111111,\"#46039f\"],[0.2222222222222222,\"#7201a8\"],[0.3333333333333333,\"#9c179e\"],[0.4444444444444444,\"#bd3786\"],[0.5555555555555556,\"#d8576b\"],[0.6666666666666666,\"#ed7953\"],[0.7777777777777778,\"#fb9f3a\"],[0.8888888888888888,\"#fdca26\"],[1.0,\"#f0f921\"]],\"sequentialminus\":[[0.0,\"#0d0887\"],[0.1111111111111111,\"#46039f\"],[0.2222222222222222,\"#7201a8\"],[0.3333333333333333,\"#9c179e\"],[0.4444444444444444,\"#bd3786\"],[0.5555555555555556,\"#d8576b\"],[0.6666666666666666,\"#ed7953\"],[0.7777777777777778,\"#fb9f3a\"],[0.8888888888888888,\"#fdca26\"],[1.0,\"#f0f921\"]]},\"colorway\":[\"#636efa\",\"#EF553B\",\"#00cc96\",\"#ab63fa\",\"#FFA15A\",\"#19d3f3\",\"#FF6692\",\"#B6E880\",\"#FF97FF\",\"#FECB52\"],\"font\":{\"color\":\"#2a3f5f\"},\"geo\":{\"bgcolor\":\"white\",\"lakecolor\":\"white\",\"landcolor\":\"#E5ECF6\",\"showlakes\":true,\"showland\":true,\"subunitcolor\":\"white\"},\"hoverlabel\":{\"align\":\"left\"},\"hovermode\":\"closest\",\"mapbox\":{\"style\":\"light\"},\"paper_bgcolor\":\"white\",\"plot_bgcolor\":\"#E5ECF6\",\"polar\":{\"angularaxis\":{\"gridcolor\":\"white\",\"linecolor\":\"white\",\"ticks\":\"\"},\"bgcolor\":\"#E5ECF6\",\"radialaxis\":{\"gridcolor\":\"white\",\"linecolor\":\"white\",\"ticks\":\"\"}},\"scene\":{\"xaxis\":{\"backgroundcolor\":\"#E5ECF6\",\"gridcolor\":\"white\",\"gridwidth\":2,\"linecolor\":\"white\",\"showbackground\":true,\"ticks\":\"\",\"zerolinecolor\":\"white\"},\"yaxis\":{\"backgroundcolor\":\"#E5ECF6\",\"gridcolor\":\"white\",\"gridwidth\":2,\"linecolor\":\"white\",\"showbackground\":true,\"ticks\":\"\",\"zerolinecolor\":\"white\"},\"zaxis\":{\"backgroundcolor\":\"#E5ECF6\",\"gridcolor\":\"white\",\"gridwidth\":2,\"linecolor\":\"white\",\"showbackground\":true,\"ticks\":\"\",\"zerolinecolor\":\"white\"}},\"shapedefaults\":{\"line\":{\"color\":\"#2a3f5f\"}},\"ternary\":{\"aaxis\":{\"gridcolor\":\"white\",\"linecolor\":\"white\",\"ticks\":\"\"},\"baxis\":{\"gridcolor\":\"white\",\"linecolor\":\"white\",\"ticks\":\"\"},\"bgcolor\":\"#E5ECF6\",\"caxis\":{\"gridcolor\":\"white\",\"linecolor\":\"white\",\"ticks\":\"\"}},\"title\":{\"x\":0.05},\"xaxis\":{\"automargin\":true,\"gridcolor\":\"white\",\"linecolor\":\"white\",\"ticks\":\"\",\"title\":{\"standoff\":15},\"zerolinecolor\":\"white\",\"zerolinewidth\":2},\"yaxis\":{\"automargin\":true,\"gridcolor\":\"white\",\"linecolor\":\"white\",\"ticks\":\"\",\"title\":{\"standoff\":15},\"zerolinecolor\":\"white\",\"zerolinewidth\":2}}},\"xaxis\":{\"anchor\":\"y\",\"domain\":[0.0,1.0],\"title\":{\"text\":\"nota_parcial_ampla\"}},\"yaxis\":{\"anchor\":\"x\",\"domain\":[0.0,1.0],\"title\":{\"text\":\"nota_parcial_cotas\"}},\"legend\":{\"tracegroupgap\":0},\"margin\":{\"t\":60}},                        {\"responsive\": true}                    )                };                            </script>        </div>\n",
       "</body>\n",
       "</html>"
      ]
     },
     "metadata": {
      "application/vnd.databricks.v1+output": {
       "addedWidgets": {},
       "arguments": {},
       "data": "<html>\n<head><meta charset=\"utf-8\" /></head>\n<body>\n    <div>            <script src=\"https://cdnjs.cloudflare.com/ajax/libs/mathjax/2.7.5/MathJax.js?config=TeX-AMS-MML_SVG\"></script><script type=\"text/javascript\">if (window.MathJax) {MathJax.Hub.Config({SVG: {font: \"STIX-Web\"}});}</script>                <script type=\"text/javascript\">window.PlotlyConfig = {MathJaxConfig: 'local'};</script>\n        <script src=\"https://cdn.plot.ly/plotly-2.9.0.min.js\"></script>                <div id=\"3c55ab73-03df-4628-b4a9-aa1ce8a25452\" class=\"plotly-graph-div\" style=\"height:100%; width:100%;\"></div>            <script type=\"text/javascript\">                                    window.PLOTLYENV=window.PLOTLYENV || {};                                    if (document.getElementById(\"3c55ab73-03df-4628-b4a9-aa1ce8a25452\")) {                    Plotly.newPlot(                        \"3c55ab73-03df-4628-b4a9-aa1ce8a25452\",                        [{\"hovertemplate\":\"nota_parcial_ampla=%{x}<br>nota_parcial_cotas=%{y}<extra></extra>\",\"legendgroup\":\"\",\"marker\":{\"color\":\"#636efa\",\"symbol\":\"circle\"},\"mode\":\"markers\",\"name\":\"\",\"orientation\":\"v\",\"showlegend\":false,\"x\":[450.0,608.26,618.58,615.56,582.66,627.6,591.74,457.88,528.74,536.54,520.92,607.9,450.0,649.92,532.46,621.7,556.22,591.62,541.28,493.9,528.6,450.0,573.64,610.98,602.82,450.0,537.7,591.0,593.82,614.16,578.36,581.12,613.82,587.22,596.06,562.16,650.04,450.0,575.74,587.34,565.32,557.12,525.8,543.88,572.46,577.34,544.94,507.6,514.02,576.16,572.98,516.84,543.56,545.78,586.42,549.62,543.88,608.86,450.0,450.0,450.0,604.38,463.78,519.38,554.56,562.34,738.42,571.48,450.0,565.82,542.98,546.54,520.08,654.86,580.28,573.36,585.76,560.08,527.3,613.24,564.76,641.14,581.88,493.28,601.24,571.5,575.8,574.44,600.64,541.96,534.34,546.34,450.0,548.98,572.7,574.24,554.64,594.02,617.16,601.66,450.0,450.0,450.0,524.06,560.76,550.78,562.44,472.22,497.8,649.8,660.96,536.24,522.18,450.0,568.34,546.3,450.0,617.66,530.0,610.06,572.22,535.64,600.98,551.18,573.42,517.66,596.22,572.08,450.0,596.04,581.3,450.0,450.0,563.82,577.42,580.14,582.62,594.76,559.46,450.0,581.06,533.32,541.78,576.52,507.16,575.68,588.16,450.0,573.76,578.9,588.86,559.18,576.64,497.3,503.56,568.66,590.98,537.04,583.76,551.62,631.7,476.04,450.0,450.0,563.06,550.26,450.0,564.58,450.0,576.0,490.42,560.86,561.78,604.04,633.14,580.58,587.82,695.7,570.32,556.04,584.44,520.26,529.22,622.66,610.46,608.18,578.08,567.64,623.42,570.5,465.54,566.38,554.04,502.36,590.7,584.38,622.9,450.0,575.98,522.08,534.42,541.26,565.24,671.06,554.28,560.52,562.76,624.48,639.78,574.66,592.76,574.34,514.9,475.72,572.92,549.44,614.64,450.0,555.24,583.22,601.94,597.34,512.14,544.44,462.7,534.72,610.28,494.96,557.82,501.22,495.22,611.82,601.4,582.96,529.78,576.58,566.6,619.26,510.2,528.74,504.98,538.22,580.26,609.64,588.8,538.6,590.06,576.58,571.92,565.02,557.36,578.06,450.0,541.98,577.3,528.1,450.0,573.8,607.14,628.56,578.12,631.04,625.06,450.0,564.28,454.8,600.72,611.54,528.92,496.74,465.5,593.74,604.58,578.54,450.0,605.98,582.24,569.38,575.48,599.02,529.5,610.0,450.0,553.88,599.88,599.86,610.84,548.66,473.34,610.0,558.62,556.3,602.56,623.88,559.22,619.72,587.28,579.48,617.32,557.8,451.54,565.14,595.24,627.54,582.4,563.14,580.28,570.96,517.86,499.48,587.8,581.34,603.82,450.0,554.06,557.02,605.86,506.0,617.2,557.92,567.04,591.42,540.32,578.02,450.0,512.28,584.92,656.9,515.86,571.6,525.78,552.64,568.24,533.56,560.26,560.06,571.26,585.34,578.62,560.02,512.98,562.94,619.9,563.68,596.32,504.26,544.24,450.0,592.04,542.82,560.86,450.0,559.78,619.64,496.52,556.98,486.92,475.2,567.02,741.36,578.44,553.12,594.82,586.22,450.0,644.18,566.34,609.58,508.6,572.56,515.24,552.38,605.44,664.76,575.18,547.52,596.82,628.3,561.36,596.06,556.38,450.0,729.72,577.38,565.78,574.48,593.96,581.12,536.62,535.24,615.9,583.62,534.02,586.08,552.24,556.24,575.14,569.04,745.06,467.26,634.18,564.06,450.0,690.12,573.82,450.0,627.14,562.82,565.26,450.0,529.4,578.08,554.9,598.96,450.0,588.12,450.0,450.0,540.88,602.0,584.8,604.06,550.12,450.0,595.94,571.2,599.84,524.54,627.86,605.26,641.26,636.64,536.12,587.22,450.0,581.22,567.58,635.36,591.84,551.18,583.6,590.68,504.86,591.9,627.46,514.64,612.4,560.98,586.2,599.48,450.0,490.58,463.76,579.98,536.32,450.0,641.44,553.22,532.74,581.42,634.94,596.64,542.82,683.16,642.62,609.98,630.24,625.48,450.0,541.38,615.3,610.88,582.82,599.44,562.04,571.56,530.44,562.58,502.66,604.62,580.4,450.0,577.36,568.74,575.32,637.98,577.22,450.0,603.5,566.86,649.96,682.38,538.48,606.3,565.76,460.82,584.22,569.84,450.0,597.6,450.0,514.88,537.84,544.22,635.34,519.52,652.66,595.88,601.3,450.0,539.16,580.62,503.5,548.3,567.92,575.72,606.18,535.78,548.54,545.54,621.22,543.34,508.3,560.96,576.54,586.72,450.0,579.92,639.96,578.0,587.02,589.04,481.74,597.96,590.02,450.0,475.62,538.36,511.94,574.24,549.5,602.06,649.72,657.1,581.54,595.0,516.34,538.96,607.4,605.9,572.64,463.98,516.16,554.78,450.0,536.84,522.24,562.86,604.06,627.62,450.0,577.92,577.68,593.46,539.0,500.14,555.54,605.46,450.0,602.36,582.72,482.5,524.0,575.08,450.0,593.94,593.66,589.12,450.0,572.0,450.0,544.78,597.7,610.88,610.06,561.8,562.74,608.28,450.0,547.46,547.58,542.1,552.4,544.4,525.8,552.88,570.8,655.4,603.88,543.76,546.02,532.08,522.98,609.4,450.0,555.38,565.82,604.72,571.7,598.8,512.0,637.44,633.5,635.6,583.4,609.6,590.2,537.42,584.24,634.52,592.96,553.2,586.74,560.32,603.88,556.6,594.14,730.98,776.36,571.86,580.04,591.36,452.94,544.86,558.44,450.0,598.42,528.96,619.04,539.44,563.64,545.62,622.4,620.12,607.0,564.5,450.0,570.38,624.14,597.64,548.84,569.28,562.9,450.0,562.96,558.9,541.94,578.16,588.46,620.44,450.0,556.64,560.98,564.6,573.4,648.86,526.18,570.64,590.3,561.36,572.32,617.56,566.76,527.12,553.12,620.32,450.0,583.8,597.94,623.96,583.48,589.66,640.0,468.38,576.82,582.56,577.62,574.5,571.32,581.8,567.16,548.26,450.0,450.0,589.14,450.0,624.48,450.0,552.4,604.38,584.88,584.96,590.24,559.78,573.24,531.94,450.0,530.3,548.22,565.24,536.7,500.62,547.84,450.0,478.7,552.56,572.38,621.16,591.38,568.88,635.6,450.0,580.46,502.84,623.84,545.14,554.08,576.26,622.74,547.2,554.74,515.96,549.3,599.5,604.26,547.78,599.56,604.4,603.24,605.52,599.32,571.54,588.9,596.12,550.64,571.0,567.5,588.96,498.26,539.42,544.08,541.46,563.3,471.4,584.62,547.56,625.1,548.76,540.32,562.9,586.16,556.7,589.44,493.44,538.32,556.78,450.0,552.38,618.64,557.94,450.78,587.7,654.58,644.3,615.12,450.0,595.72,450.0,497.84,552.62,593.02,549.86,615.74,563.5,607.28,597.94,657.18,627.6,500.02,580.14,511.42,558.92,604.6,563.28,566.58,570.0,573.7,450.0,579.52,573.7,473.62,666.82,554.92,502.28,625.84,619.2,548.32,562.5,602.86,592.24,552.6,561.88,553.14,471.68,580.22,591.26,567.66,450.0,604.0,450.0,594.44,572.88,540.14,535.96,528.82,503.6,645.96,548.2,605.4,611.94,590.76,530.76,624.7,593.12,554.46,597.14,549.34,591.6,506.74,550.52,450.0,590.44,505.92,571.8,634.56,575.66,636.4,573.36,535.34,616.5,607.28,586.26,536.14,546.5,584.44,524.16,570.22,631.56,450.0,544.2,580.26,553.12,570.36,581.32,533.42,550.58,639.06,660.3,647.72,600.28,585.3,536.28,539.28,535.06,618.22,595.72,521.36,623.52,643.72,450.0,596.36,600.18,587.34,550.6,584.92,545.76,559.86,544.6,542.82,553.7,561.22,551.7,518.5,593.08,495.68,584.02,605.4,601.16,578.56,597.1,472.2,450.0,635.84,564.86,523.28,570.52,613.48,603.84,578.32,621.78,502.54,544.94,555.48,502.76,498.2,540.74,581.16,535.56,577.44,593.24,574.28,567.32,548.0,550.36,554.4,483.84,585.72,589.56,593.02,576.06,588.88,583.2,625.6,450.0,559.9,623.04,604.32,603.48,600.94,598.9,581.94,551.4,587.42,529.24,602.88,577.12,501.74,568.74,543.34,450.0,593.08,611.76,583.26,450.0,450.0,450.0,625.6,576.56,605.0,450.0,625.2,541.6,577.18,622.36,597.3,630.98,520.38,450.0,616.88,548.04,557.96,538.36,450.0,592.1,516.16,542.1,670.38,585.98,586.56,581.38,625.32,544.7,564.42,590.68,539.38,558.48,515.36,573.44,452.98,616.42,604.04,613.14,598.88,589.04,548.96,450.0,562.82,558.64,582.76,598.32],\"xaxis\":\"x\",\"y\":[450.0,579.5,557.68,584.58,623.22,574.94,544.46,450.0,450.0,522.72,503.3,544.42,450.0,662.08,516.76,648.82,450.0,512.16,491.48,450.0,495.44,450.0,617.96,606.44,450.0,450.0,514.48,544.96,566.04,589.5,553.26,579.06,592.14,541.8,560.92,542.7,599.68,450.0,531.04,541.18,555.76,531.16,450.0,450.0,550.02,521.38,492.14,474.0,536.26,568.54,450.0,491.82,524.22,519.74,536.62,523.58,497.42,608.36,450.0,450.0,450.0,585.04,450.0,450.0,520.9,565.42,723.28,547.78,469.3,570.5,581.94,514.98,532.14,603.5,518.64,530.1,564.3,539.44,495.86,565.66,501.26,577.54,498.78,450.0,561.6,580.16,536.18,557.62,549.42,498.74,518.34,522.64,499.66,472.5,520.66,567.88,493.12,591.54,517.62,592.1,450.0,450.0,450.0,483.92,488.52,520.58,506.84,450.0,473.06,632.0,640.9,556.8,538.26,450.0,574.0,528.9,450.0,609.48,546.74,450.0,541.22,520.02,557.7,555.3,504.24,450.0,595.34,542.22,450.0,580.82,528.92,548.88,450.0,549.76,531.86,554.04,562.02,538.04,522.86,450.0,553.1,450.0,450.0,518.06,547.74,544.32,544.24,450.0,585.26,530.44,581.76,534.9,562.36,463.3,499.14,514.98,556.0,519.62,584.22,548.92,606.76,464.92,450.0,470.8,459.66,450.0,450.0,478.82,450.0,551.82,450.0,508.12,557.84,634.06,595.26,621.56,558.54,626.34,536.5,515.62,494.48,450.0,465.04,584.64,598.44,582.88,558.76,527.9,598.12,547.98,484.92,450.0,474.14,512.16,589.36,576.86,625.54,450.0,544.28,473.7,510.2,493.42,510.86,654.74,549.18,526.54,450.0,589.76,603.66,558.04,552.74,584.38,519.36,450.0,544.32,519.62,602.86,450.0,540.48,575.04,550.5,544.86,493.98,528.38,450.0,519.04,571.32,481.08,518.36,484.06,450.0,582.24,549.52,549.32,450.0,563.22,549.18,606.2,482.1,450.0,548.28,459.3,503.38,540.52,571.32,516.54,572.92,526.02,514.02,498.62,551.7,450.0,450.0,517.2,568.5,467.34,450.0,513.12,531.86,578.98,554.66,583.2,605.68,450.0,527.1,450.0,586.1,587.38,506.66,450.0,450.0,553.68,563.02,543.58,450.0,622.18,534.44,524.54,556.64,580.52,450.0,596.32,450.0,583.9,539.94,573.16,560.62,463.42,518.46,575.66,511.96,599.3,576.76,608.86,579.3,609.76,561.96,554.7,585.12,498.98,498.84,537.74,540.76,611.98,553.5,523.26,552.5,536.16,477.46,500.26,562.0,485.7,587.88,450.0,544.06,522.36,539.28,545.28,607.24,479.78,536.02,567.0,501.1,536.72,450.0,450.0,558.88,626.22,476.62,553.54,498.4,537.2,534.66,500.0,529.1,494.2,525.24,590.56,551.22,553.78,509.86,553.46,567.02,518.84,542.56,514.08,512.28,450.0,546.08,503.94,466.08,494.16,458.52,586.1,516.06,545.02,450.0,549.22,572.56,721.08,557.12,524.34,599.4,535.76,450.0,630.48,544.38,608.96,450.0,450.0,490.46,536.76,531.06,668.14,471.92,494.44,544.7,579.48,551.9,501.7,499.78,529.22,711.68,516.92,557.0,542.04,572.8,560.98,527.4,546.42,595.76,568.38,509.54,537.78,535.3,509.68,553.02,555.28,741.0,450.0,567.98,568.98,450.0,587.12,556.16,503.42,588.74,525.88,526.36,487.94,502.48,551.42,496.56,572.84,450.0,561.72,450.0,499.3,527.28,593.8,523.86,578.72,512.44,450.0,536.54,470.38,605.32,505.52,585.54,562.54,583.34,534.56,484.4,520.84,450.0,531.44,556.02,623.6,558.12,450.0,569.9,548.72,475.46,545.72,504.12,476.2,606.78,547.12,526.46,599.04,450.0,450.0,486.96,565.36,517.7,450.0,633.44,531.7,534.78,565.92,590.76,623.4,515.98,591.96,596.6,573.48,602.18,596.08,450.0,486.44,560.06,450.0,515.38,552.92,516.26,543.58,450.0,578.24,510.02,567.5,584.24,496.32,571.0,563.74,527.08,595.16,548.44,450.0,556.24,553.08,605.86,641.36,486.32,572.98,450.0,450.0,559.88,546.54,450.0,601.76,450.0,509.7,475.16,515.5,600.96,494.76,613.12,545.5,596.54,460.2,498.66,568.24,495.5,542.52,560.0,539.22,552.24,450.0,535.26,496.32,607.2,536.98,477.24,450.0,596.2,564.64,450.0,513.18,583.84,567.9,468.16,534.94,450.0,592.26,572.58,450.0,450.0,452.94,467.58,508.22,521.5,601.22,647.88,613.5,567.58,560.92,486.78,529.9,556.1,590.94,546.12,450.0,494.86,562.28,450.0,489.18,450.0,544.5,596.98,597.56,471.0,559.22,552.4,540.7,450.0,516.0,450.0,573.98,450.0,576.32,523.14,452.7,499.66,552.18,450.0,562.68,564.64,566.34,517.18,450.0,450.0,542.68,572.82,583.82,611.04,508.98,577.74,598.28,489.06,546.4,504.3,540.9,521.28,502.26,505.22,486.18,571.48,631.38,573.26,534.76,524.34,514.46,485.0,559.12,450.0,493.5,459.52,620.98,566.98,557.08,468.58,615.12,596.84,565.56,576.38,619.28,538.22,587.22,547.44,595.34,582.6,538.92,579.4,559.24,561.78,545.46,585.04,722.82,768.34,523.44,561.46,580.02,450.0,524.62,528.54,450.0,604.32,557.5,591.2,544.48,528.28,525.24,573.9,602.64,575.96,553.24,507.56,555.32,590.48,501.84,528.28,552.76,520.0,450.0,557.2,571.46,516.6,523.72,546.7,678.54,450.0,539.68,505.44,554.88,450.0,612.5,450.0,580.92,594.86,545.98,555.02,568.78,583.12,564.12,571.1,639.52,550.98,576.84,560.92,581.36,558.82,553.9,599.72,450.0,538.56,532.92,546.44,525.84,542.76,531.58,556.24,574.8,450.0,450.0,584.32,450.0,595.88,450.0,543.72,585.96,553.64,538.58,563.44,472.78,557.44,512.28,450.0,504.6,564.12,558.68,520.12,485.58,483.06,450.0,450.0,505.72,530.84,618.24,638.7,566.2,607.68,450.0,546.52,531.2,604.34,524.12,545.46,517.56,613.82,539.84,535.16,488.78,484.96,555.72,522.66,544.14,562.28,585.08,583.92,503.34,575.44,529.64,582.8,582.72,450.0,553.18,539.1,543.84,450.0,512.7,516.0,550.78,540.72,450.0,577.88,535.72,618.68,537.2,525.54,554.52,573.76,510.42,577.62,491.18,463.48,518.08,450.0,541.98,615.42,450.0,450.0,566.34,609.26,656.1,618.12,450.0,594.36,450.0,484.84,552.98,575.7,450.0,554.5,534.02,511.98,595.2,554.18,594.72,514.34,546.3,491.06,561.92,558.86,540.26,563.5,568.7,558.06,450.0,495.68,567.06,450.0,615.44,615.98,450.0,587.64,601.38,503.46,556.94,560.7,599.36,566.68,575.86,557.92,450.0,549.9,589.5,508.1,500.64,571.26,450.0,586.2,563.58,496.42,619.4,496.9,519.78,624.78,558.78,566.46,576.3,528.84,461.78,582.78,544.5,558.14,591.08,534.02,587.56,499.34,522.14,450.0,541.94,472.44,507.36,569.42,495.02,572.54,535.36,517.6,597.12,567.1,548.04,534.12,540.9,570.4,450.0,569.22,602.26,450.0,546.46,506.08,566.12,450.0,580.22,511.98,496.6,622.44,583.54,622.68,575.78,560.58,543.18,553.32,488.94,586.3,627.38,520.5,585.0,450.0,450.0,535.98,596.12,548.44,518.78,584.7,545.52,491.3,533.34,535.36,525.7,503.86,517.12,521.48,568.5,571.02,520.8,569.56,555.9,530.82,554.8,450.0,450.0,602.54,515.04,450.0,486.98,655.52,582.66,513.14,573.46,504.38,517.92,544.62,481.16,450.0,514.14,590.88,523.7,629.66,560.42,551.76,543.98,466.48,511.9,515.58,450.0,565.58,592.82,563.92,563.98,566.5,575.96,551.64,514.46,566.14,557.28,599.14,530.94,606.26,579.42,569.08,531.36,553.92,534.9,627.68,545.9,458.46,563.56,497.92,450.0,513.44,521.7,566.46,522.6,450.0,450.0,551.78,558.62,578.38,450.0,585.14,568.5,548.74,563.02,593.18,619.08,450.0,450.0,587.72,539.82,526.84,519.94,450.0,605.34,508.74,450.0,610.44,482.82,581.84,565.08,617.24,503.76,520.56,519.16,544.3,554.12,496.22,541.5,450.0,564.78,540.18,516.54,549.24,533.04,560.94,501.74,555.64,542.1,578.14,579.32],\"yaxis\":\"y\",\"type\":\"scatter\"},{\"hovertemplate\":\"<b>OLS trendline</b><br>nota_parcial_cotas = 0.78964 * nota_parcial_ampla + 91.8145<br>R<sup>2</sup>=0.646660<br><br>nota_parcial_ampla=%{x}<br>nota_parcial_cotas=%{y} <b>(trend)</b><extra></extra>\",\"legendgroup\":\"\",\"line\":{\"color\":\"red\"},\"marker\":{\"color\":\"#636efa\",\"symbol\":\"circle\"},\"mode\":\"lines\",\"name\":\"\",\"showlegend\":false,\"x\":[450.0,450.0,450.0,450.0,450.0,450.0,450.0,450.0,450.0,450.0,450.0,450.0,450.0,450.0,450.0,450.0,450.0,450.0,450.0,450.0,450.0,450.0,450.0,450.0,450.0,450.0,450.0,450.0,450.0,450.0,450.0,450.0,450.0,450.0,450.0,450.0,450.0,450.0,450.0,450.0,450.0,450.0,450.0,450.0,450.0,450.0,450.0,450.0,450.0,450.0,450.0,450.0,450.0,450.0,450.0,450.0,450.0,450.0,450.0,450.0,450.0,450.0,450.0,450.0,450.0,450.0,450.0,450.0,450.0,450.0,450.0,450.0,450.0,450.0,450.0,450.0,450.0,450.0,450.0,450.0,450.0,450.0,450.0,450.0,450.0,450.0,450.0,450.0,450.0,450.0,450.0,450.0,450.0,450.0,450.78,451.54,452.94,452.98,454.8,457.88,460.82,462.7,463.76,463.78,463.98,465.5,465.54,467.26,468.38,471.4,471.68,472.2,472.22,473.34,473.62,475.2,475.62,475.72,476.04,478.7,481.74,482.5,483.84,486.92,490.42,490.58,493.28,493.44,493.9,494.96,495.22,495.68,496.52,496.74,497.3,497.8,497.84,498.2,498.26,499.48,500.02,500.14,500.62,501.22,501.74,502.28,502.36,502.54,502.66,502.76,502.84,503.5,503.56,503.6,504.26,504.86,504.98,505.92,506.0,506.74,507.16,507.6,508.3,508.6,510.2,511.42,511.94,512.0,512.14,512.28,512.98,514.02,514.64,514.88,514.9,515.24,515.36,515.86,515.96,516.16,516.16,516.34,516.84,517.66,517.86,518.5,519.38,519.52,520.08,520.26,520.38,520.92,521.36,522.08,522.18,522.24,522.98,523.28,524.0,524.06,524.16,524.54,525.78,525.8,525.8,526.18,527.12,527.3,528.1,528.6,528.74,528.74,528.82,528.92,528.96,529.22,529.24,529.4,529.5,529.78,530.0,530.3,530.44,530.76,531.94,532.08,532.46,532.74,533.32,533.42,533.56,534.02,534.34,534.42,534.72,535.06,535.24,535.34,535.56,535.64,535.78,535.96,536.12,536.14,536.24,536.28,536.32,536.54,536.62,536.7,536.84,537.04,537.42,537.7,537.84,538.22,538.32,538.36,538.36,538.48,538.6,538.96,539.0,539.16,539.28,539.38,539.42,539.44,540.14,540.32,540.32,540.74,540.88,541.26,541.28,541.38,541.46,541.6,541.78,541.94,541.96,541.98,542.1,542.1,542.82,542.82,542.82,542.98,543.34,543.34,543.56,543.76,543.88,543.88,544.08,544.2,544.22,544.24,544.4,544.44,544.6,544.7,544.78,544.86,544.94,544.94,545.14,545.54,545.62,545.76,545.78,546.02,546.3,546.34,546.5,546.54,547.2,547.46,547.52,547.56,547.58,547.78,547.84,548.0,548.04,548.2,548.22,548.26,548.3,548.32,548.54,548.66,548.76,548.84,548.96,548.98,549.3,549.34,549.44,549.5,549.62,549.86,550.12,550.26,550.36,550.52,550.58,550.6,550.64,550.78,551.18,551.18,551.4,551.62,551.7,552.24,552.38,552.38,552.4,552.4,552.56,552.6,552.62,552.64,552.88,553.12,553.12,553.12,553.14,553.2,553.22,553.7,553.88,554.04,554.06,554.08,554.28,554.4,554.46,554.56,554.64,554.74,554.78,554.9,554.92,555.24,555.38,555.48,555.54,556.04,556.22,556.24,556.3,556.38,556.6,556.64,556.7,556.78,556.98,557.02,557.12,557.36,557.8,557.82,557.92,557.94,557.96,558.44,558.48,558.62,558.64,558.9,558.92,559.18,559.22,559.46,559.78,559.78,559.86,559.9,560.02,560.06,560.08,560.26,560.32,560.52,560.76,560.86,560.86,560.96,560.98,560.98,561.22,561.36,561.36,561.78,561.8,561.88,562.04,562.16,562.34,562.44,562.5,562.58,562.74,562.76,562.82,562.82,562.86,562.9,562.9,562.94,562.96,563.06,563.14,563.28,563.3,563.5,563.64,563.68,563.82,564.06,564.28,564.42,564.5,564.58,564.6,564.76,564.86,565.02,565.14,565.24,565.24,565.26,565.32,565.76,565.78,565.82,565.82,566.34,566.38,566.58,566.6,566.76,566.86,567.02,567.04,567.16,567.32,567.5,567.58,567.64,567.66,567.92,568.24,568.34,568.66,568.74,568.74,568.88,569.04,569.28,569.38,569.84,570.0,570.22,570.32,570.36,570.38,570.5,570.52,570.64,570.8,570.96,571.0,571.2,571.26,571.32,571.48,571.5,571.54,571.56,571.6,571.7,571.8,571.86,571.92,572.0,572.08,572.22,572.32,572.38,572.46,572.56,572.64,572.7,572.88,572.92,572.98,573.24,573.36,573.36,573.4,573.42,573.44,573.64,573.7,573.7,573.76,573.8,573.82,574.24,574.24,574.28,574.34,574.44,574.48,574.5,574.66,575.08,575.14,575.18,575.32,575.48,575.66,575.68,575.72,575.74,575.8,575.98,576.0,576.06,576.16,576.26,576.52,576.54,576.56,576.58,576.58,576.64,576.82,577.12,577.18,577.22,577.3,577.34,577.36,577.38,577.42,577.44,577.62,577.68,577.92,578.0,578.02,578.06,578.08,578.08,578.12,578.16,578.32,578.36,578.44,578.54,578.56,578.62,578.9,579.48,579.52,579.92,579.98,580.04,580.14,580.14,580.22,580.26,580.26,580.28,580.28,580.4,580.46,580.58,580.62,581.06,581.12,581.12,581.16,581.22,581.3,581.32,581.34,581.38,581.42,581.54,581.8,581.88,581.94,582.24,582.4,582.56,582.62,582.66,582.72,582.76,582.82,582.96,583.2,583.22,583.26,583.4,583.48,583.6,583.62,583.76,583.8,584.02,584.22,584.24,584.38,584.44,584.44,584.62,584.8,584.88,584.92,584.92,584.96,585.3,585.34,585.72,585.76,585.98,586.08,586.16,586.2,586.22,586.26,586.42,586.56,586.72,586.74,587.02,587.22,587.22,587.28,587.34,587.34,587.42,587.7,587.8,587.82,588.12,588.16,588.46,588.8,588.86,588.88,588.9,588.96,589.04,589.04,589.12,589.14,589.44,589.56,589.66,590.02,590.06,590.2,590.24,590.3,590.44,590.68,590.68,590.7,590.76,590.98,591.0,591.26,591.36,591.38,591.42,591.6,591.62,591.74,591.84,591.9,592.04,592.1,592.24,592.76,592.96,593.02,593.02,593.08,593.08,593.12,593.24,593.46,593.66,593.74,593.82,593.94,593.96,594.02,594.14,594.44,594.76,594.82,595.0,595.24,595.72,595.72,595.88,595.94,596.04,596.06,596.06,596.12,596.22,596.32,596.36,596.64,596.82,597.1,597.14,597.3,597.34,597.6,597.64,597.7,597.94,597.94,597.96,598.32,598.42,598.8,598.88,598.9,598.96,599.02,599.32,599.44,599.48,599.5,599.56,599.84,599.86,599.88,600.18,600.28,600.64,600.72,600.94,600.98,601.16,601.24,601.3,601.4,601.66,601.94,602.0,602.06,602.36,602.56,602.82,602.86,602.88,603.24,603.48,603.5,603.82,603.84,603.88,603.88,604.0,604.04,604.04,604.06,604.06,604.26,604.32,604.38,604.38,604.4,604.58,604.6,604.62,604.72,605.0,605.26,605.4,605.4,605.44,605.46,605.52,605.86,605.9,605.98,606.18,606.3,607.0,607.14,607.28,607.28,607.4,607.9,608.18,608.26,608.28,608.86,609.4,609.58,609.6,609.64,609.98,610.0,610.0,610.06,610.06,610.28,610.46,610.84,610.88,610.88,610.98,611.54,611.76,611.82,611.94,612.4,613.14,613.24,613.48,613.82,614.16,614.64,615.12,615.3,615.56,615.74,615.9,616.42,616.5,616.88,617.16,617.2,617.32,617.56,617.66,618.22,618.58,618.64,619.04,619.2,619.26,619.64,619.72,619.9,620.12,620.32,620.44,621.16,621.22,621.7,621.78,622.36,622.4,622.66,622.74,622.9,623.04,623.42,623.52,623.84,623.88,623.96,624.14,624.48,624.48,624.7,625.06,625.1,625.2,625.32,625.48,625.6,625.6,625.84,627.14,627.46,627.54,627.6,627.6,627.62,627.86,628.3,628.56,630.24,630.98,631.04,631.56,631.7,633.14,633.5,634.18,634.52,634.56,634.94,635.34,635.36,635.6,635.6,635.84,636.4,636.64,637.44,637.98,639.06,639.78,639.96,640.0,641.14,641.26,641.44,642.62,643.72,644.18,644.3,645.96,647.72,648.86,649.72,649.8,649.92,649.96,650.04,652.66,654.58,654.86,655.4,656.9,657.1,657.18,660.3,660.96,664.76,666.82,670.38,671.06,682.38,683.16,690.12,695.7,729.72,730.98,738.42,741.36,745.06,776.36],\"xaxis\":\"x\",\"y\":[447.1525461480283,447.1525461480283,447.1525461480283,447.1525461480283,447.1525461480283,447.1525461480283,447.1525461480283,447.1525461480283,447.1525461480283,447.1525461480283,447.1525461480283,447.1525461480283,447.1525461480283,447.1525461480283,447.1525461480283,447.1525461480283,447.1525461480283,447.1525461480283,447.1525461480283,447.1525461480283,447.1525461480283,447.1525461480283,447.1525461480283,447.1525461480283,447.1525461480283,447.1525461480283,447.1525461480283,447.1525461480283,447.1525461480283,447.1525461480283,447.1525461480283,447.1525461480283,447.1525461480283,447.1525461480283,447.1525461480283,447.1525461480283,447.1525461480283,447.1525461480283,447.1525461480283,447.1525461480283,447.1525461480283,447.1525461480283,447.1525461480283,447.1525461480283,447.1525461480283,447.1525461480283,447.1525461480283,447.1525461480283,447.1525461480283,447.1525461480283,447.1525461480283,447.1525461480283,447.1525461480283,447.1525461480283,447.1525461480283,447.1525461480283,447.1525461480283,447.1525461480283,447.1525461480283,447.1525461480283,447.1525461480283,447.1525461480283,447.1525461480283,447.1525461480283,447.1525461480283,447.1525461480283,447.1525461480283,447.1525461480283,447.1525461480283,447.1525461480283,447.1525461480283,447.1525461480283,447.1525461480283,447.1525461480283,447.1525461480283,447.1525461480283,447.1525461480283,447.1525461480283,447.1525461480283,447.1525461480283,447.1525461480283,447.1525461480283,447.1525461480283,447.1525461480283,447.1525461480283,447.1525461480283,447.1525461480283,447.1525461480283,447.1525461480283,447.1525461480283,447.1525461480283,447.1525461480283,447.1525461480283,447.1525461480283,447.7684654906736,448.3685920296613,449.47408828569127,449.5056738930064,450.9428190258454,453.3749107891113,455.69645292677427,457.18097647058596,458.01799506443723,458.0337878680948,458.19171590467056,459.39196898264595,459.4235545899611,460.7817357045122,461.6661327093362,464.05084606162944,464.27194531283544,464.6825582079323,464.69835101158986,465.58274801641386,465.80384726761986,467.051478756568,467.38312763337694,467.4620916516648,467.71477651018597,469.81521939664293,472.21572555259377,472.81585209158146,473.8739699366387,476.3060616999047,479.0698023399797,479.1961447692402,481.3281732630123,481.4545156922729,481.817750176397,482.65476877024827,482.86007521779675,483.22330970192087,483.8866074555388,484.06032829577214,484.50252679818414,484.8973468896234,484.9289324969385,485.2132029627748,485.2605813737475,486.2239423968594,486.65034809561377,486.7451049175592,487.1241322053409,487.5979163150681,488.0085292101649,488.43493490891933,488.49810612354963,488.6402413564678,488.7349981784132,488.813962196701,488.87713341133133,489.3982959320312,489.4456743430039,489.4772599503191,489.9984224710189,490.47220658074605,490.56696340269144,491.3092251745973,491.37239638922756,491.95673012455774,492.2883790013667,492.6358206818333,493.1885688098483,493.42546086471185,494.68888515731754,495.65224618042936,496.0628590755262,496.11023748649893,496.2207871121019,496.33133673770493,496.88408486571996,497.7053106559136,498.1948875692983,498.38440121318916,498.40019401684674,498.66867167902546,498.7634285009709,499.1582485924102,499.23721261069807,499.3951406472737,499.3951406472737,499.5372758801919,499.93209597163116,500.5796009215915,500.7375289581673,501.2428986752096,501.93778203614266,502.0483316617457,502.4905301641577,502.6326653970758,502.72742221902126,503.15382791777563,503.50126959824223,504.06981052991483,504.1487745482026,504.1961529591754,504.7804866945055,505.0173787493691,505.5859196810416,505.6332980920143,505.71226211030216,506.01232537979604,506.99147920656543,507.007272010223,507.007272010223,507.3073352797169,508.04959705162275,508.1917322845408,508.8234444308437,509.21826452228305,509.328814147886,509.328814147886,509.3919853625163,509.4709493808041,509.5025349881193,509.7078414356677,509.7236342393253,509.84997666858584,509.9289406868737,510.15003993807966,510.323760778313,510.5606528331765,510.6712024587796,510.9238873173007,511.85566273309746,511.96621235870043,512.2662756281943,512.4873748794002,512.9453661854699,513.0243302037577,513.1348798293607,513.4981143134848,513.7507991720059,513.8139703866362,514.0508624414998,514.3193401036784,514.4614753365967,514.5404393548846,514.7141601951178,514.7773314097481,514.887881035351,515.0300162682693,515.1563586975298,515.1721515011874,515.2511155194752,515.2827011267904,515.3142867341055,515.4880075743388,515.5511787889691,515.6143500035994,515.7248996292024,515.882827665778,516.1828909352719,516.4039901864779,516.5145398120809,516.8146030815748,516.8935670998627,516.9251527071777,516.9251527071777,517.0199095291232,517.1146663510686,517.3989368169049,517.43052242422,517.5568648534805,517.651621675426,517.7305856937139,517.762171301029,517.7779641046867,518.3307122327016,518.4728474656198,518.4728474656198,518.8044963424287,518.9150459680317,519.2151092375256,519.2309020411832,519.309866059471,519.3730372741013,519.4835868997043,519.6257221326224,519.752064561883,519.7678573655406,519.7836501691982,519.8784069911436,519.8784069911436,520.4469479228162,520.4469479228162,520.4469479228162,520.5732903520767,520.857560817913,520.857560817913,521.0312816581462,521.189209694722,521.2839665166674,521.2839665166674,521.4418945532432,521.5366513751886,521.5524441788461,521.5682369825037,521.6945794117643,521.7261650190794,521.85250744834,521.9314714666278,521.9946426812581,522.0578138958884,522.1209851105187,522.1209851105187,522.2789131470944,522.5947692202458,522.6579404348761,522.768490060479,522.7842828641367,522.9737965080275,523.1948957592335,523.2264813665487,523.3528237958093,523.3844094031243,523.9055719238243,524.1108783713727,524.1582567823453,524.1898423896605,524.2056351933181,524.3635632298938,524.4109416408666,524.537284070127,524.5688696774422,524.6952121067028,524.7110049103604,524.7425905176755,524.7741761249906,524.7899689286482,524.9636897688814,525.0584465908269,525.1374106091148,525.2005818237451,525.2953386456905,525.3111314493481,525.5638163078692,525.5954019151843,525.6743659334722,525.7217443444449,525.8165011663904,526.0060148102812,526.2113212578296,526.3218708834326,526.4008349017205,526.527177330981,526.5745557419538,526.5903485456114,526.6219341529264,526.7324837785294,527.0483398516808,527.0483398516808,527.2220606919142,527.3957815321475,527.4589527467778,527.8853584455321,527.9959080711352,527.9959080711352,528.0117008747927,528.0117008747927,528.1380433040532,528.1696289113685,528.185421715026,528.2012145186836,528.3907281625744,528.5802418064653,528.5802418064653,528.5802418064653,528.5960346101228,528.6434130210956,528.6592058247531,529.0382331125348,529.180368345453,529.3067107747136,529.3225035783711,529.3382963820287,529.4962244186044,529.5909812405498,529.6383596515226,529.7173236698104,529.7804948844407,529.8594589027285,529.8910445100437,529.9858013319891,530.0015941356467,530.2542789941679,530.3648286197708,530.4437926380587,530.4911710490313,530.8859911404707,531.0281263733889,531.0439191770464,531.0912975880191,531.1544688026494,531.3281896428826,531.3597752501978,531.4071536611706,531.4703248758008,531.6282529123765,531.6598385196917,531.7388025379795,531.9283161818704,532.275757862337,532.2915506659946,532.3705146842823,532.38630748794,532.4021002915975,532.7811275793792,532.8127131866944,532.9232628122974,532.9390556159549,533.1443620635033,533.1601548671609,533.3654613147094,533.3970469220245,533.5865605659154,533.8392454244365,533.8392454244365,533.9024166390668,533.9340022463819,534.0287590683273,534.0603446756425,534.0761374793001,534.2182727122182,534.265651123191,534.4235791597666,534.6130928036574,534.6920568219454,534.6920568219454,534.7710208402332,534.7868136438908,534.7868136438908,534.9763272877816,535.0868769133846,535.0868769133846,535.4185257901936,535.4343185938511,535.4974898084814,535.623832237742,535.7185890596875,535.8607242926056,535.9396883108935,535.9870667218662,536.0502379364965,536.176580365757,536.1923731694146,536.2397515803874,536.2397515803874,536.2713371877024,536.3029227950176,536.3029227950176,536.3345084023327,536.3503012059904,536.4292652242781,536.4924364389084,536.6029860645115,536.618778868169,536.7767069047447,536.8872565303477,536.9188421376629,537.029391763266,537.2189054071566,537.39262624739,537.503175872993,537.5663470876233,537.6295183022536,537.6453111059112,537.7716535351717,537.8506175534595,537.9769599827201,538.0717168046656,538.1506808229534,538.1506808229534,538.166473626611,538.2138520375837,538.5612937180503,538.5770865217078,538.608672129023,538.608672129023,539.0192850241199,539.0508706314349,539.2087986680107,539.2245914716683,539.3509339009288,539.4298979192167,539.5562403484772,539.5720331521348,539.6667899740802,539.7931324033409,539.9352676362589,539.9984388508893,540.045817261862,540.0616100655195,540.2669165130679,540.5196013715891,540.598565389877,540.8512502483981,540.9144214630284,540.9144214630284,541.0249710886313,541.1513135178919,541.3408271617827,541.4197911800707,541.7830256641948,541.9093680934553,542.0830889336887,542.1620529519765,542.1936385592917,542.2094313629492,542.3041881848947,542.3199809885522,542.4147378104976,542.5410802397581,542.6674226690188,542.6990082763339,542.8569363129096,542.9043147238823,542.9516931348551,543.0780355641157,543.0938283677732,543.1254139750883,543.1412067787459,543.172792386061,543.251756404349,543.3307204226368,543.3780988336094,543.4254772445821,543.4886484592125,543.5518196738428,543.6623692994458,543.7413333177336,543.7887117287063,543.8518829433366,543.9308469616244,543.9940181762547,544.0413965872275,544.1835318201456,544.2151174274608,544.2624958384334,544.4678022859819,544.5625591079273,544.5625591079273,544.5941447152425,544.6099375189,544.6257303225576,544.7836583591333,544.831036770106,544.831036770106,544.8784151810787,544.9100007883939,544.9257935920515,545.2574424688604,545.2574424688604,545.2890280761756,545.3364064871483,545.4153705054362,545.4469561127513,545.4627489164088,545.5890913456694,545.9207402224785,545.9681186334511,545.9997042407663,546.1102538663694,546.2365962956299,546.378731528548,546.3945243322055,546.4261099395208,546.4419027431783,546.489281154151,546.6314163870692,546.6472091907267,546.6945876016994,546.7735516199873,546.8525156382751,547.0578220858235,547.0736148894811,547.0894076931387,547.1052004967963,547.1052004967963,547.152578907769,547.2947141406871,547.5316061955507,547.5789846065234,547.6105702138386,547.6737414284688,547.705327035784,547.7211198394416,547.7369126430991,547.7684982504143,547.7842910540719,547.92642628699,547.9738046979627,548.1633183418535,548.2264895564838,548.2422823601414,548.2738679674565,548.2896607711142,548.2896607711142,548.3212463784292,548.3528319857444,548.479174415005,548.5107600223201,548.5739312369504,548.6528952552383,548.6686880588958,548.7160664698686,548.9371657210745,549.3951570271441,549.4267426344592,549.7425987076107,549.7899771185834,549.837355529556,549.916319547844,549.916319547844,549.9794907624743,550.0110763697894,550.0110763697894,550.0268691734469,550.0268691734469,550.1216259953924,550.1690044063652,550.2637612283105,550.2953468356257,550.6427885160922,550.690166927065,550.690166927065,550.72175253438,550.7691309453528,550.832302159983,550.8480949636407,550.8638877672983,550.8954733746134,550.9270589819284,551.0218158038739,551.2271222514223,551.2902934660526,551.3376718770254,551.574563931889,551.7009063611495,551.8272487904101,551.8746272013827,551.9062128086979,551.9535912196707,551.9851768269857,552.0325552379585,552.1431048635615,552.3326185074524,552.3484113111099,552.379996918425,552.490546544028,552.5537177586583,552.6484745806038,552.6642673842613,552.7748170098644,552.8064026171794,552.9801234574128,553.1380514939885,553.1538442976461,553.264393923249,553.3117723342218,553.3117723342218,553.4539075671399,553.596042800058,553.6592140146884,553.6907996220034,553.6907996220034,553.7223852293187,553.9908628914973,554.0224484988124,554.3225117683063,554.3540973756214,554.5278182158547,554.6067822341427,554.6699534487728,554.701539056088,554.7173318597456,554.7489174670607,554.8752598963213,554.9858095219242,555.1121519511848,555.1279447548425,555.3490440060484,555.5069720426242,555.5069720426242,555.5543504535968,555.6017288645696,555.6017288645696,555.6649000791998,555.8859993304059,555.9649633486937,555.9807561523513,556.2176482072149,556.2492338145299,556.4861258693936,556.7546035315722,556.801981942545,556.8177747462025,556.83356754986,556.8809459608328,556.9441171754631,556.9441171754631,557.0072883900934,557.023081193751,557.2599732486145,557.35473007056,557.4336940888478,557.717964554684,557.7495501619992,557.8600997876023,557.8916853949174,557.9390638058901,558.0496134314932,558.2391270753839,558.2391270753839,558.2549198790416,558.3022982900143,558.4760191302476,558.4918119339051,558.6971183814535,558.7760823997414,558.791875203399,558.8234608107141,558.9655960436322,558.9813888472898,559.0761456692352,559.1551096875231,559.2024880984958,559.3130377240988,559.3604161350715,559.4709657606745,559.8815786557714,560.0395066923471,560.0868851033198,560.0868851033198,560.1342635142926,560.1342635142926,560.1658491216076,560.2606059435531,560.4343267837863,560.5922548203621,560.6554260349924,560.7185972496227,560.8133540715681,560.8291468752257,560.8765252861983,560.9712821081438,561.2081741630074,561.4608590215284,561.5082374325012,561.6503726654194,561.8398863093101,562.218913597092,562.218913597092,562.3452560263524,562.3926344373252,562.471598455613,562.4873912592706,562.4873912592706,562.5347696702433,562.6137336885312,562.6926977068191,562.7242833141341,562.9453825653402,563.0875177982583,563.3086170494644,563.3402026567794,563.46654508604,563.4981306933552,563.7034371409036,563.7350227482187,563.7824011591915,563.9719148030823,563.9719148030823,563.98770760674,564.2719780725762,564.350942090864,564.6510053603578,564.7141765749882,564.7299693786457,564.7773477896185,564.8247262005912,565.0616182554547,565.1563750774002,565.1879606847153,565.2037534883729,565.2511318993455,565.4722311505516,565.4880239542091,565.5038167578667,565.7407088127302,565.8196728310181,566.1039432968544,566.1671145114847,566.340835351718,566.3724209590331,566.5145561919512,566.5777274065815,566.6251058175542,566.7040698358421,566.9093762833905,567.1304755345966,567.1778539455693,567.2252323565419,567.4621244114055,567.6200524479812,567.8253588955297,567.8569445028448,567.8727373065024,568.1570077723386,568.3465214162295,568.362314219887,568.6149990784082,568.6307918820659,568.6623774893809,568.6623774893809,568.7571343113264,568.7887199186415,568.7887199186415,568.804512722299,568.804512722299,568.9624407588748,569.0098191698476,569.0571975808202,569.0571975808202,569.0729903844777,569.215125617396,569.2309184210535,569.246711224711,569.325675242999,569.5467744942049,569.7520809417533,569.8626305673563,569.8626305673563,569.8942161746716,569.9100089783291,569.9573873893017,570.2258650514805,570.2574506587956,570.3206218734259,570.4785499100016,570.573306731947,571.126054859962,571.2366044855651,571.347154111168,571.347154111168,571.4419109331135,571.8367310245527,572.0578302757586,572.1210014903891,572.1367942940466,572.5947856001162,573.0211912988706,573.1633265317887,573.1791193354463,573.2107049427614,573.4791826049402,573.4949754085977,573.4949754085977,573.5423538195704,573.5423538195704,573.7160746598037,573.8582098927219,574.1582731622157,574.1898587695308,574.1898587695308,574.2688227878187,574.7110212902306,574.884742130464,574.9321205414367,575.0268773633821,575.3901118475062,575.9744455828363,576.0534096011243,576.242923245015,576.5114009071939,576.7798785693725,577.1589058571542,577.5379331449359,577.680068377854,577.8853748254024,578.0275100583207,578.1538524875812,578.564465382678,578.6276365973083,578.9276998668022,579.1487991180081,579.1803847253234,579.2751415472688,579.4646551911595,579.5436192094475,579.9858177118595,580.2700881776958,580.3174665886685,580.6333226618199,580.7596650910805,580.8070435020531,581.107106771547,581.1702779861773,581.3124132190954,581.4861340593287,581.6440620959045,581.7388189178499,582.3073598495224,582.3547382604952,582.7337655482769,582.7969367629071,583.2549280689767,583.2865136762919,583.4918201238403,583.5549913384706,583.6813337677311,583.791883393334,584.0919466628279,584.1709106811159,584.423595539637,584.4551811469521,584.5183523615824,584.6604875945005,584.9289652566792,584.9289652566792,585.1026860969125,585.3869565627488,585.4185421700639,585.4975061883518,585.5922630102973,585.7186054395578,585.8133622615032,585.8133622615032,586.0028759053941,587.0294081431362,587.2820930016574,587.3452642162875,587.3926426272603,587.3926426272603,587.408435430918,587.5979490748088,587.9453907552753,588.1506972028237,589.4772927100597,590.0616264453898,590.1090048563625,590.5196177514594,590.6301673770624,591.7672492404075,592.0515197062439,592.5884750306012,592.8569526927799,592.8885383000951,593.188601569589,593.5044576427404,593.520250446398,593.7097640902888,593.7097640902888,593.8992777341797,594.3414762365917,594.5309898804825,595.1627020267854,595.5891077255397,596.4419191230486,597.0104600547212,597.1525952876393,597.1841808949545,598.084370703436,598.1791275253814,598.3212627582997,599.2530381740963,600.1216423752627,600.4848768593868,600.5796336813322,601.8904363849107,603.280203106777,604.1803929152585,604.8594834725341,604.9226546871643,605.0174115091097,605.0489971164249,605.1121683310552,607.1810256101969,608.6971347613238,608.9182340125299,609.3446397112842,610.5290999856021,610.6870280221779,610.750199236808,613.2138766073891,613.735039128089,616.7356718230276,618.3623305997575,621.1734496508051,621.7104049751624,630.6491318453477,631.265051187993,636.7609468608277,641.1671390812902,668.0306981028187,669.0256447332457,674.9005676938622,677.2221098315251,680.1437785081757,704.8595162322747],\"yaxis\":\"y\",\"type\":\"scatter\"}],                        {\"template\":{\"data\":{\"bar\":[{\"error_x\":{\"color\":\"#2a3f5f\"},\"error_y\":{\"color\":\"#2a3f5f\"},\"marker\":{\"line\":{\"color\":\"#E5ECF6\",\"width\":0.5},\"pattern\":{\"fillmode\":\"overlay\",\"size\":10,\"solidity\":0.2}},\"type\":\"bar\"}],\"barpolar\":[{\"marker\":{\"line\":{\"color\":\"#E5ECF6\",\"width\":0.5},\"pattern\":{\"fillmode\":\"overlay\",\"size\":10,\"solidity\":0.2}},\"type\":\"barpolar\"}],\"carpet\":[{\"aaxis\":{\"endlinecolor\":\"#2a3f5f\",\"gridcolor\":\"white\",\"linecolor\":\"white\",\"minorgridcolor\":\"white\",\"startlinecolor\":\"#2a3f5f\"},\"baxis\":{\"endlinecolor\":\"#2a3f5f\",\"gridcolor\":\"white\",\"linecolor\":\"white\",\"minorgridcolor\":\"white\",\"startlinecolor\":\"#2a3f5f\"},\"type\":\"carpet\"}],\"choropleth\":[{\"colorbar\":{\"outlinewidth\":0,\"ticks\":\"\"},\"type\":\"choropleth\"}],\"contour\":[{\"colorbar\":{\"outlinewidth\":0,\"ticks\":\"\"},\"colorscale\":[[0.0,\"#0d0887\"],[0.1111111111111111,\"#46039f\"],[0.2222222222222222,\"#7201a8\"],[0.3333333333333333,\"#9c179e\"],[0.4444444444444444,\"#bd3786\"],[0.5555555555555556,\"#d8576b\"],[0.6666666666666666,\"#ed7953\"],[0.7777777777777778,\"#fb9f3a\"],[0.8888888888888888,\"#fdca26\"],[1.0,\"#f0f921\"]],\"type\":\"contour\"}],\"contourcarpet\":[{\"colorbar\":{\"outlinewidth\":0,\"ticks\":\"\"},\"type\":\"contourcarpet\"}],\"heatmap\":[{\"colorbar\":{\"outlinewidth\":0,\"ticks\":\"\"},\"colorscale\":[[0.0,\"#0d0887\"],[0.1111111111111111,\"#46039f\"],[0.2222222222222222,\"#7201a8\"],[0.3333333333333333,\"#9c179e\"],[0.4444444444444444,\"#bd3786\"],[0.5555555555555556,\"#d8576b\"],[0.6666666666666666,\"#ed7953\"],[0.7777777777777778,\"#fb9f3a\"],[0.8888888888888888,\"#fdca26\"],[1.0,\"#f0f921\"]],\"type\":\"heatmap\"}],\"heatmapgl\":[{\"colorbar\":{\"outlinewidth\":0,\"ticks\":\"\"},\"colorscale\":[[0.0,\"#0d0887\"],[0.1111111111111111,\"#46039f\"],[0.2222222222222222,\"#7201a8\"],[0.3333333333333333,\"#9c179e\"],[0.4444444444444444,\"#bd3786\"],[0.5555555555555556,\"#d8576b\"],[0.6666666666666666,\"#ed7953\"],[0.7777777777777778,\"#fb9f3a\"],[0.8888888888888888,\"#fdca26\"],[1.0,\"#f0f921\"]],\"type\":\"heatmapgl\"}],\"histogram\":[{\"marker\":{\"pattern\":{\"fillmode\":\"overlay\",\"size\":10,\"solidity\":0.2}},\"type\":\"histogram\"}],\"histogram2d\":[{\"colorbar\":{\"outlinewidth\":0,\"ticks\":\"\"},\"colorscale\":[[0.0,\"#0d0887\"],[0.1111111111111111,\"#46039f\"],[0.2222222222222222,\"#7201a8\"],[0.3333333333333333,\"#9c179e\"],[0.4444444444444444,\"#bd3786\"],[0.5555555555555556,\"#d8576b\"],[0.6666666666666666,\"#ed7953\"],[0.7777777777777778,\"#fb9f3a\"],[0.8888888888888888,\"#fdca26\"],[1.0,\"#f0f921\"]],\"type\":\"histogram2d\"}],\"histogram2dcontour\":[{\"colorbar\":{\"outlinewidth\":0,\"ticks\":\"\"},\"colorscale\":[[0.0,\"#0d0887\"],[0.1111111111111111,\"#46039f\"],[0.2222222222222222,\"#7201a8\"],[0.3333333333333333,\"#9c179e\"],[0.4444444444444444,\"#bd3786\"],[0.5555555555555556,\"#d8576b\"],[0.6666666666666666,\"#ed7953\"],[0.7777777777777778,\"#fb9f3a\"],[0.8888888888888888,\"#fdca26\"],[1.0,\"#f0f921\"]],\"type\":\"histogram2dcontour\"}],\"mesh3d\":[{\"colorbar\":{\"outlinewidth\":0,\"ticks\":\"\"},\"type\":\"mesh3d\"}],\"parcoords\":[{\"line\":{\"colorbar\":{\"outlinewidth\":0,\"ticks\":\"\"}},\"type\":\"parcoords\"}],\"pie\":[{\"automargin\":true,\"type\":\"pie\"}],\"scatter\":[{\"marker\":{\"colorbar\":{\"outlinewidth\":0,\"ticks\":\"\"}},\"type\":\"scatter\"}],\"scatter3d\":[{\"line\":{\"colorbar\":{\"outlinewidth\":0,\"ticks\":\"\"}},\"marker\":{\"colorbar\":{\"outlinewidth\":0,\"ticks\":\"\"}},\"type\":\"scatter3d\"}],\"scattercarpet\":[{\"marker\":{\"colorbar\":{\"outlinewidth\":0,\"ticks\":\"\"}},\"type\":\"scattercarpet\"}],\"scattergeo\":[{\"marker\":{\"colorbar\":{\"outlinewidth\":0,\"ticks\":\"\"}},\"type\":\"scattergeo\"}],\"scattergl\":[{\"marker\":{\"colorbar\":{\"outlinewidth\":0,\"ticks\":\"\"}},\"type\":\"scattergl\"}],\"scattermapbox\":[{\"marker\":{\"colorbar\":{\"outlinewidth\":0,\"ticks\":\"\"}},\"type\":\"scattermapbox\"}],\"scatterpolar\":[{\"marker\":{\"colorbar\":{\"outlinewidth\":0,\"ticks\":\"\"}},\"type\":\"scatterpolar\"}],\"scatterpolargl\":[{\"marker\":{\"colorbar\":{\"outlinewidth\":0,\"ticks\":\"\"}},\"type\":\"scatterpolargl\"}],\"scatterternary\":[{\"marker\":{\"colorbar\":{\"outlinewidth\":0,\"ticks\":\"\"}},\"type\":\"scatterternary\"}],\"surface\":[{\"colorbar\":{\"outlinewidth\":0,\"ticks\":\"\"},\"colorscale\":[[0.0,\"#0d0887\"],[0.1111111111111111,\"#46039f\"],[0.2222222222222222,\"#7201a8\"],[0.3333333333333333,\"#9c179e\"],[0.4444444444444444,\"#bd3786\"],[0.5555555555555556,\"#d8576b\"],[0.6666666666666666,\"#ed7953\"],[0.7777777777777778,\"#fb9f3a\"],[0.8888888888888888,\"#fdca26\"],[1.0,\"#f0f921\"]],\"type\":\"surface\"}],\"table\":[{\"cells\":{\"fill\":{\"color\":\"#EBF0F8\"},\"line\":{\"color\":\"white\"}},\"header\":{\"fill\":{\"color\":\"#C8D4E3\"},\"line\":{\"color\":\"white\"}},\"type\":\"table\"}]},\"layout\":{\"annotationdefaults\":{\"arrowcolor\":\"#2a3f5f\",\"arrowhead\":0,\"arrowwidth\":1},\"autotypenumbers\":\"strict\",\"coloraxis\":{\"colorbar\":{\"outlinewidth\":0,\"ticks\":\"\"}},\"colorscale\":{\"diverging\":[[0,\"#8e0152\"],[0.1,\"#c51b7d\"],[0.2,\"#de77ae\"],[0.3,\"#f1b6da\"],[0.4,\"#fde0ef\"],[0.5,\"#f7f7f7\"],[0.6,\"#e6f5d0\"],[0.7,\"#b8e186\"],[0.8,\"#7fbc41\"],[0.9,\"#4d9221\"],[1,\"#276419\"]],\"sequential\":[[0.0,\"#0d0887\"],[0.1111111111111111,\"#46039f\"],[0.2222222222222222,\"#7201a8\"],[0.3333333333333333,\"#9c179e\"],[0.4444444444444444,\"#bd3786\"],[0.5555555555555556,\"#d8576b\"],[0.6666666666666666,\"#ed7953\"],[0.7777777777777778,\"#fb9f3a\"],[0.8888888888888888,\"#fdca26\"],[1.0,\"#f0f921\"]],\"sequentialminus\":[[0.0,\"#0d0887\"],[0.1111111111111111,\"#46039f\"],[0.2222222222222222,\"#7201a8\"],[0.3333333333333333,\"#9c179e\"],[0.4444444444444444,\"#bd3786\"],[0.5555555555555556,\"#d8576b\"],[0.6666666666666666,\"#ed7953\"],[0.7777777777777778,\"#fb9f3a\"],[0.8888888888888888,\"#fdca26\"],[1.0,\"#f0f921\"]]},\"colorway\":[\"#636efa\",\"#EF553B\",\"#00cc96\",\"#ab63fa\",\"#FFA15A\",\"#19d3f3\",\"#FF6692\",\"#B6E880\",\"#FF97FF\",\"#FECB52\"],\"font\":{\"color\":\"#2a3f5f\"},\"geo\":{\"bgcolor\":\"white\",\"lakecolor\":\"white\",\"landcolor\":\"#E5ECF6\",\"showlakes\":true,\"showland\":true,\"subunitcolor\":\"white\"},\"hoverlabel\":{\"align\":\"left\"},\"hovermode\":\"closest\",\"mapbox\":{\"style\":\"light\"},\"paper_bgcolor\":\"white\",\"plot_bgcolor\":\"#E5ECF6\",\"polar\":{\"angularaxis\":{\"gridcolor\":\"white\",\"linecolor\":\"white\",\"ticks\":\"\"},\"bgcolor\":\"#E5ECF6\",\"radialaxis\":{\"gridcolor\":\"white\",\"linecolor\":\"white\",\"ticks\":\"\"}},\"scene\":{\"xaxis\":{\"backgroundcolor\":\"#E5ECF6\",\"gridcolor\":\"white\",\"gridwidth\":2,\"linecolor\":\"white\",\"showbackground\":true,\"ticks\":\"\",\"zerolinecolor\":\"white\"},\"yaxis\":{\"backgroundcolor\":\"#E5ECF6\",\"gridcolor\":\"white\",\"gridwidth\":2,\"linecolor\":\"white\",\"showbackground\":true,\"ticks\":\"\",\"zerolinecolor\":\"white\"},\"zaxis\":{\"backgroundcolor\":\"#E5ECF6\",\"gridcolor\":\"white\",\"gridwidth\":2,\"linecolor\":\"white\",\"showbackground\":true,\"ticks\":\"\",\"zerolinecolor\":\"white\"}},\"shapedefaults\":{\"line\":{\"color\":\"#2a3f5f\"}},\"ternary\":{\"aaxis\":{\"gridcolor\":\"white\",\"linecolor\":\"white\",\"ticks\":\"\"},\"baxis\":{\"gridcolor\":\"white\",\"linecolor\":\"white\",\"ticks\":\"\"},\"bgcolor\":\"#E5ECF6\",\"caxis\":{\"gridcolor\":\"white\",\"linecolor\":\"white\",\"ticks\":\"\"}},\"title\":{\"x\":0.05},\"xaxis\":{\"automargin\":true,\"gridcolor\":\"white\",\"linecolor\":\"white\",\"ticks\":\"\",\"title\":{\"standoff\":15},\"zerolinecolor\":\"white\",\"zerolinewidth\":2},\"yaxis\":{\"automargin\":true,\"gridcolor\":\"white\",\"linecolor\":\"white\",\"ticks\":\"\",\"title\":{\"standoff\":15},\"zerolinecolor\":\"white\",\"zerolinewidth\":2}}},\"xaxis\":{\"anchor\":\"y\",\"domain\":[0.0,1.0],\"title\":{\"text\":\"nota_parcial_ampla\"}},\"yaxis\":{\"anchor\":\"x\",\"domain\":[0.0,1.0],\"title\":{\"text\":\"nota_parcial_cotas\"}},\"legend\":{\"tracegroupgap\":0},\"margin\":{\"t\":60}},                        {\"responsive\": true}                    )                };                            </script>        </div>\n</body>\n</html>",
       "datasetInfos": [],
       "metadata": {},
       "removedWidgets": [],
       "textData": null,
       "type": "htmlSandbox"
      }
     },
     "output_type": "display_data"
    }
   ],
   "source": [
    "df.plot.scatter(x='nota_parcial_ampla',y='nota_parcial_cotas', trendline=\"ols\", trendline_color_override = 'red')"
   ]
  },
  {
   "cell_type": "markdown",
   "metadata": {
    "application/vnd.databricks.v1+cell": {
     "cellMetadata": {
      "byteLimit": 2048000,
      "rowLimit": 10000
     },
     "inputWidgets": {},
     "nuid": "13301ad2-dbbf-4b31-b701-2525a47a4ecd",
     "showTitle": false,
     "tableResultSettingsMap": {},
     "title": ""
    }
   },
   "source": [
    "Como o período do curso afeta a mensalidade?"
   ]
  },
  {
   "cell_type": "code",
   "execution_count": 0,
   "metadata": {
    "application/vnd.databricks.v1+cell": {
     "cellMetadata": {
      "byteLimit": 2048000,
      "rowLimit": 10000
     },
     "inputWidgets": {},
     "nuid": "ed6a835c-b80b-4065-825a-cca0d5b3eb4b",
     "showTitle": false,
     "tableResultSettingsMap": {},
     "title": ""
    }
   },
   "outputs": [
    {
     "output_type": "display_data",
     "data": {
      "text/html": [
       "<html>\n",
       "<head><meta charset=\"utf-8\" /></head>\n",
       "<body>\n",
       "    <div>            <script src=\"https://cdnjs.cloudflare.com/ajax/libs/mathjax/2.7.5/MathJax.js?config=TeX-AMS-MML_SVG\"></script><script type=\"text/javascript\">if (window.MathJax) {MathJax.Hub.Config({SVG: {font: \"STIX-Web\"}});}</script>                <script type=\"text/javascript\">window.PlotlyConfig = {MathJaxConfig: 'local'};</script>\n",
       "        <script src=\"https://cdn.plot.ly/plotly-2.9.0.min.js\"></script>                <div id=\"f12501f7-6beb-4ed6-bc69-368a803ec208\" class=\"plotly-graph-div\" style=\"height:100%; width:100%;\"></div>            <script type=\"text/javascript\">                                    window.PLOTLYENV=window.PLOTLYENV || {};                                    if (document.getElementById(\"f12501f7-6beb-4ed6-bc69-368a803ec208\")) {                    Plotly.newPlot(                        \"f12501f7-6beb-4ed6-bc69-368a803ec208\",                        [{\"boxpoints\":\"suspectedoutliers\",\"lowerfence\":[350.0],\"mean\":[3612.6697916666676],\"median\":[1968.37],\"name\":\"mensalidade\",\"notched\":false,\"q1\":[1297.44],\"q3\":[7009.97],\"upperfence\":[9815.61],\"type\":\"box\"}],                        {\"template\":{\"data\":{\"bar\":[{\"error_x\":{\"color\":\"#2a3f5f\"},\"error_y\":{\"color\":\"#2a3f5f\"},\"marker\":{\"line\":{\"color\":\"#E5ECF6\",\"width\":0.5},\"pattern\":{\"fillmode\":\"overlay\",\"size\":10,\"solidity\":0.2}},\"type\":\"bar\"}],\"barpolar\":[{\"marker\":{\"line\":{\"color\":\"#E5ECF6\",\"width\":0.5},\"pattern\":{\"fillmode\":\"overlay\",\"size\":10,\"solidity\":0.2}},\"type\":\"barpolar\"}],\"carpet\":[{\"aaxis\":{\"endlinecolor\":\"#2a3f5f\",\"gridcolor\":\"white\",\"linecolor\":\"white\",\"minorgridcolor\":\"white\",\"startlinecolor\":\"#2a3f5f\"},\"baxis\":{\"endlinecolor\":\"#2a3f5f\",\"gridcolor\":\"white\",\"linecolor\":\"white\",\"minorgridcolor\":\"white\",\"startlinecolor\":\"#2a3f5f\"},\"type\":\"carpet\"}],\"choropleth\":[{\"colorbar\":{\"outlinewidth\":0,\"ticks\":\"\"},\"type\":\"choropleth\"}],\"contour\":[{\"colorbar\":{\"outlinewidth\":0,\"ticks\":\"\"},\"colorscale\":[[0.0,\"#0d0887\"],[0.1111111111111111,\"#46039f\"],[0.2222222222222222,\"#7201a8\"],[0.3333333333333333,\"#9c179e\"],[0.4444444444444444,\"#bd3786\"],[0.5555555555555556,\"#d8576b\"],[0.6666666666666666,\"#ed7953\"],[0.7777777777777778,\"#fb9f3a\"],[0.8888888888888888,\"#fdca26\"],[1.0,\"#f0f921\"]],\"type\":\"contour\"}],\"contourcarpet\":[{\"colorbar\":{\"outlinewidth\":0,\"ticks\":\"\"},\"type\":\"contourcarpet\"}],\"heatmap\":[{\"colorbar\":{\"outlinewidth\":0,\"ticks\":\"\"},\"colorscale\":[[0.0,\"#0d0887\"],[0.1111111111111111,\"#46039f\"],[0.2222222222222222,\"#7201a8\"],[0.3333333333333333,\"#9c179e\"],[0.4444444444444444,\"#bd3786\"],[0.5555555555555556,\"#d8576b\"],[0.6666666666666666,\"#ed7953\"],[0.7777777777777778,\"#fb9f3a\"],[0.8888888888888888,\"#fdca26\"],[1.0,\"#f0f921\"]],\"type\":\"heatmap\"}],\"heatmapgl\":[{\"colorbar\":{\"outlinewidth\":0,\"ticks\":\"\"},\"colorscale\":[[0.0,\"#0d0887\"],[0.1111111111111111,\"#46039f\"],[0.2222222222222222,\"#7201a8\"],[0.3333333333333333,\"#9c179e\"],[0.4444444444444444,\"#bd3786\"],[0.5555555555555556,\"#d8576b\"],[0.6666666666666666,\"#ed7953\"],[0.7777777777777778,\"#fb9f3a\"],[0.8888888888888888,\"#fdca26\"],[1.0,\"#f0f921\"]],\"type\":\"heatmapgl\"}],\"histogram\":[{\"marker\":{\"pattern\":{\"fillmode\":\"overlay\",\"size\":10,\"solidity\":0.2}},\"type\":\"histogram\"}],\"histogram2d\":[{\"colorbar\":{\"outlinewidth\":0,\"ticks\":\"\"},\"colorscale\":[[0.0,\"#0d0887\"],[0.1111111111111111,\"#46039f\"],[0.2222222222222222,\"#7201a8\"],[0.3333333333333333,\"#9c179e\"],[0.4444444444444444,\"#bd3786\"],[0.5555555555555556,\"#d8576b\"],[0.6666666666666666,\"#ed7953\"],[0.7777777777777778,\"#fb9f3a\"],[0.8888888888888888,\"#fdca26\"],[1.0,\"#f0f921\"]],\"type\":\"histogram2d\"}],\"histogram2dcontour\":[{\"colorbar\":{\"outlinewidth\":0,\"ticks\":\"\"},\"colorscale\":[[0.0,\"#0d0887\"],[0.1111111111111111,\"#46039f\"],[0.2222222222222222,\"#7201a8\"],[0.3333333333333333,\"#9c179e\"],[0.4444444444444444,\"#bd3786\"],[0.5555555555555556,\"#d8576b\"],[0.6666666666666666,\"#ed7953\"],[0.7777777777777778,\"#fb9f3a\"],[0.8888888888888888,\"#fdca26\"],[1.0,\"#f0f921\"]],\"type\":\"histogram2dcontour\"}],\"mesh3d\":[{\"colorbar\":{\"outlinewidth\":0,\"ticks\":\"\"},\"type\":\"mesh3d\"}],\"parcoords\":[{\"line\":{\"colorbar\":{\"outlinewidth\":0,\"ticks\":\"\"}},\"type\":\"parcoords\"}],\"pie\":[{\"automargin\":true,\"type\":\"pie\"}],\"scatter\":[{\"marker\":{\"colorbar\":{\"outlinewidth\":0,\"ticks\":\"\"}},\"type\":\"scatter\"}],\"scatter3d\":[{\"line\":{\"colorbar\":{\"outlinewidth\":0,\"ticks\":\"\"}},\"marker\":{\"colorbar\":{\"outlinewidth\":0,\"ticks\":\"\"}},\"type\":\"scatter3d\"}],\"scattercarpet\":[{\"marker\":{\"colorbar\":{\"outlinewidth\":0,\"ticks\":\"\"}},\"type\":\"scattercarpet\"}],\"scattergeo\":[{\"marker\":{\"colorbar\":{\"outlinewidth\":0,\"ticks\":\"\"}},\"type\":\"scattergeo\"}],\"scattergl\":[{\"marker\":{\"colorbar\":{\"outlinewidth\":0,\"ticks\":\"\"}},\"type\":\"scattergl\"}],\"scattermapbox\":[{\"marker\":{\"colorbar\":{\"outlinewidth\":0,\"ticks\":\"\"}},\"type\":\"scattermapbox\"}],\"scatterpolar\":[{\"marker\":{\"colorbar\":{\"outlinewidth\":0,\"ticks\":\"\"}},\"type\":\"scatterpolar\"}],\"scatterpolargl\":[{\"marker\":{\"colorbar\":{\"outlinewidth\":0,\"ticks\":\"\"}},\"type\":\"scatterpolargl\"}],\"scatterternary\":[{\"marker\":{\"colorbar\":{\"outlinewidth\":0,\"ticks\":\"\"}},\"type\":\"scatterternary\"}],\"surface\":[{\"colorbar\":{\"outlinewidth\":0,\"ticks\":\"\"},\"colorscale\":[[0.0,\"#0d0887\"],[0.1111111111111111,\"#46039f\"],[0.2222222222222222,\"#7201a8\"],[0.3333333333333333,\"#9c179e\"],[0.4444444444444444,\"#bd3786\"],[0.5555555555555556,\"#d8576b\"],[0.6666666666666666,\"#ed7953\"],[0.7777777777777778,\"#fb9f3a\"],[0.8888888888888888,\"#fdca26\"],[1.0,\"#f0f921\"]],\"type\":\"surface\"}],\"table\":[{\"cells\":{\"fill\":{\"color\":\"#EBF0F8\"},\"line\":{\"color\":\"white\"}},\"header\":{\"fill\":{\"color\":\"#C8D4E3\"},\"line\":{\"color\":\"white\"}},\"type\":\"table\"}]},\"layout\":{\"annotationdefaults\":{\"arrowcolor\":\"#2a3f5f\",\"arrowhead\":0,\"arrowwidth\":1},\"autotypenumbers\":\"strict\",\"coloraxis\":{\"colorbar\":{\"outlinewidth\":0,\"ticks\":\"\"}},\"colorscale\":{\"diverging\":[[0,\"#8e0152\"],[0.1,\"#c51b7d\"],[0.2,\"#de77ae\"],[0.3,\"#f1b6da\"],[0.4,\"#fde0ef\"],[0.5,\"#f7f7f7\"],[0.6,\"#e6f5d0\"],[0.7,\"#b8e186\"],[0.8,\"#7fbc41\"],[0.9,\"#4d9221\"],[1,\"#276419\"]],\"sequential\":[[0.0,\"#0d0887\"],[0.1111111111111111,\"#46039f\"],[0.2222222222222222,\"#7201a8\"],[0.3333333333333333,\"#9c179e\"],[0.4444444444444444,\"#bd3786\"],[0.5555555555555556,\"#d8576b\"],[0.6666666666666666,\"#ed7953\"],[0.7777777777777778,\"#fb9f3a\"],[0.8888888888888888,\"#fdca26\"],[1.0,\"#f0f921\"]],\"sequentialminus\":[[0.0,\"#0d0887\"],[0.1111111111111111,\"#46039f\"],[0.2222222222222222,\"#7201a8\"],[0.3333333333333333,\"#9c179e\"],[0.4444444444444444,\"#bd3786\"],[0.5555555555555556,\"#d8576b\"],[0.6666666666666666,\"#ed7953\"],[0.7777777777777778,\"#fb9f3a\"],[0.8888888888888888,\"#fdca26\"],[1.0,\"#f0f921\"]]},\"colorway\":[\"#636efa\",\"#EF553B\",\"#00cc96\",\"#ab63fa\",\"#FFA15A\",\"#19d3f3\",\"#FF6692\",\"#B6E880\",\"#FF97FF\",\"#FECB52\"],\"font\":{\"color\":\"#2a3f5f\"},\"geo\":{\"bgcolor\":\"white\",\"lakecolor\":\"white\",\"landcolor\":\"#E5ECF6\",\"showlakes\":true,\"showland\":true,\"subunitcolor\":\"white\"},\"hoverlabel\":{\"align\":\"left\"},\"hovermode\":\"closest\",\"mapbox\":{\"style\":\"light\"},\"paper_bgcolor\":\"white\",\"plot_bgcolor\":\"#E5ECF6\",\"polar\":{\"angularaxis\":{\"gridcolor\":\"white\",\"linecolor\":\"white\",\"ticks\":\"\"},\"bgcolor\":\"#E5ECF6\",\"radialaxis\":{\"gridcolor\":\"white\",\"linecolor\":\"white\",\"ticks\":\"\"}},\"scene\":{\"xaxis\":{\"backgroundcolor\":\"#E5ECF6\",\"gridcolor\":\"white\",\"gridwidth\":2,\"linecolor\":\"white\",\"showbackground\":true,\"ticks\":\"\",\"zerolinecolor\":\"white\"},\"yaxis\":{\"backgroundcolor\":\"#E5ECF6\",\"gridcolor\":\"white\",\"gridwidth\":2,\"linecolor\":\"white\",\"showbackground\":true,\"ticks\":\"\",\"zerolinecolor\":\"white\"},\"zaxis\":{\"backgroundcolor\":\"#E5ECF6\",\"gridcolor\":\"white\",\"gridwidth\":2,\"linecolor\":\"white\",\"showbackground\":true,\"ticks\":\"\",\"zerolinecolor\":\"white\"}},\"shapedefaults\":{\"line\":{\"color\":\"#2a3f5f\"}},\"ternary\":{\"aaxis\":{\"gridcolor\":\"white\",\"linecolor\":\"white\",\"ticks\":\"\"},\"baxis\":{\"gridcolor\":\"white\",\"linecolor\":\"white\",\"ticks\":\"\"},\"bgcolor\":\"#E5ECF6\",\"caxis\":{\"gridcolor\":\"white\",\"linecolor\":\"white\",\"ticks\":\"\"}},\"title\":{\"x\":0.05},\"xaxis\":{\"automargin\":true,\"gridcolor\":\"white\",\"linecolor\":\"white\",\"ticks\":\"\",\"title\":{\"standoff\":15},\"zerolinecolor\":\"white\",\"zerolinewidth\":2},\"yaxis\":{\"automargin\":true,\"gridcolor\":\"white\",\"linecolor\":\"white\",\"ticks\":\"\",\"title\":{\"standoff\":15},\"zerolinecolor\":\"white\",\"zerolinewidth\":2}}},\"xaxis\":{\"title\":{\"text\":\"mensalidade\"}},\"yaxis\":{\"title\":{\"text\":\"value\"}}},                        {\"responsive\": true}                    )                };                            </script>        </div>\n",
       "</body>\n",
       "</html>"
      ]
     },
     "metadata": {
      "application/vnd.databricks.v1+output": {
       "addedWidgets": {},
       "arguments": {},
       "data": "<html>\n<head><meta charset=\"utf-8\" /></head>\n<body>\n    <div>            <script src=\"https://cdnjs.cloudflare.com/ajax/libs/mathjax/2.7.5/MathJax.js?config=TeX-AMS-MML_SVG\"></script><script type=\"text/javascript\">if (window.MathJax) {MathJax.Hub.Config({SVG: {font: \"STIX-Web\"}});}</script>                <script type=\"text/javascript\">window.PlotlyConfig = {MathJaxConfig: 'local'};</script>\n        <script src=\"https://cdn.plot.ly/plotly-2.9.0.min.js\"></script>                <div id=\"f12501f7-6beb-4ed6-bc69-368a803ec208\" class=\"plotly-graph-div\" style=\"height:100%; width:100%;\"></div>            <script type=\"text/javascript\">                                    window.PLOTLYENV=window.PLOTLYENV || {};                                    if (document.getElementById(\"f12501f7-6beb-4ed6-bc69-368a803ec208\")) {                    Plotly.newPlot(                        \"f12501f7-6beb-4ed6-bc69-368a803ec208\",                        [{\"boxpoints\":\"suspectedoutliers\",\"lowerfence\":[350.0],\"mean\":[3612.6697916666676],\"median\":[1968.37],\"name\":\"mensalidade\",\"notched\":false,\"q1\":[1297.44],\"q3\":[7009.97],\"upperfence\":[9815.61],\"type\":\"box\"}],                        {\"template\":{\"data\":{\"bar\":[{\"error_x\":{\"color\":\"#2a3f5f\"},\"error_y\":{\"color\":\"#2a3f5f\"},\"marker\":{\"line\":{\"color\":\"#E5ECF6\",\"width\":0.5},\"pattern\":{\"fillmode\":\"overlay\",\"size\":10,\"solidity\":0.2}},\"type\":\"bar\"}],\"barpolar\":[{\"marker\":{\"line\":{\"color\":\"#E5ECF6\",\"width\":0.5},\"pattern\":{\"fillmode\":\"overlay\",\"size\":10,\"solidity\":0.2}},\"type\":\"barpolar\"}],\"carpet\":[{\"aaxis\":{\"endlinecolor\":\"#2a3f5f\",\"gridcolor\":\"white\",\"linecolor\":\"white\",\"minorgridcolor\":\"white\",\"startlinecolor\":\"#2a3f5f\"},\"baxis\":{\"endlinecolor\":\"#2a3f5f\",\"gridcolor\":\"white\",\"linecolor\":\"white\",\"minorgridcolor\":\"white\",\"startlinecolor\":\"#2a3f5f\"},\"type\":\"carpet\"}],\"choropleth\":[{\"colorbar\":{\"outlinewidth\":0,\"ticks\":\"\"},\"type\":\"choropleth\"}],\"contour\":[{\"colorbar\":{\"outlinewidth\":0,\"ticks\":\"\"},\"colorscale\":[[0.0,\"#0d0887\"],[0.1111111111111111,\"#46039f\"],[0.2222222222222222,\"#7201a8\"],[0.3333333333333333,\"#9c179e\"],[0.4444444444444444,\"#bd3786\"],[0.5555555555555556,\"#d8576b\"],[0.6666666666666666,\"#ed7953\"],[0.7777777777777778,\"#fb9f3a\"],[0.8888888888888888,\"#fdca26\"],[1.0,\"#f0f921\"]],\"type\":\"contour\"}],\"contourcarpet\":[{\"colorbar\":{\"outlinewidth\":0,\"ticks\":\"\"},\"type\":\"contourcarpet\"}],\"heatmap\":[{\"colorbar\":{\"outlinewidth\":0,\"ticks\":\"\"},\"colorscale\":[[0.0,\"#0d0887\"],[0.1111111111111111,\"#46039f\"],[0.2222222222222222,\"#7201a8\"],[0.3333333333333333,\"#9c179e\"],[0.4444444444444444,\"#bd3786\"],[0.5555555555555556,\"#d8576b\"],[0.6666666666666666,\"#ed7953\"],[0.7777777777777778,\"#fb9f3a\"],[0.8888888888888888,\"#fdca26\"],[1.0,\"#f0f921\"]],\"type\":\"heatmap\"}],\"heatmapgl\":[{\"colorbar\":{\"outlinewidth\":0,\"ticks\":\"\"},\"colorscale\":[[0.0,\"#0d0887\"],[0.1111111111111111,\"#46039f\"],[0.2222222222222222,\"#7201a8\"],[0.3333333333333333,\"#9c179e\"],[0.4444444444444444,\"#bd3786\"],[0.5555555555555556,\"#d8576b\"],[0.6666666666666666,\"#ed7953\"],[0.7777777777777778,\"#fb9f3a\"],[0.8888888888888888,\"#fdca26\"],[1.0,\"#f0f921\"]],\"type\":\"heatmapgl\"}],\"histogram\":[{\"marker\":{\"pattern\":{\"fillmode\":\"overlay\",\"size\":10,\"solidity\":0.2}},\"type\":\"histogram\"}],\"histogram2d\":[{\"colorbar\":{\"outlinewidth\":0,\"ticks\":\"\"},\"colorscale\":[[0.0,\"#0d0887\"],[0.1111111111111111,\"#46039f\"],[0.2222222222222222,\"#7201a8\"],[0.3333333333333333,\"#9c179e\"],[0.4444444444444444,\"#bd3786\"],[0.5555555555555556,\"#d8576b\"],[0.6666666666666666,\"#ed7953\"],[0.7777777777777778,\"#fb9f3a\"],[0.8888888888888888,\"#fdca26\"],[1.0,\"#f0f921\"]],\"type\":\"histogram2d\"}],\"histogram2dcontour\":[{\"colorbar\":{\"outlinewidth\":0,\"ticks\":\"\"},\"colorscale\":[[0.0,\"#0d0887\"],[0.1111111111111111,\"#46039f\"],[0.2222222222222222,\"#7201a8\"],[0.3333333333333333,\"#9c179e\"],[0.4444444444444444,\"#bd3786\"],[0.5555555555555556,\"#d8576b\"],[0.6666666666666666,\"#ed7953\"],[0.7777777777777778,\"#fb9f3a\"],[0.8888888888888888,\"#fdca26\"],[1.0,\"#f0f921\"]],\"type\":\"histogram2dcontour\"}],\"mesh3d\":[{\"colorbar\":{\"outlinewidth\":0,\"ticks\":\"\"},\"type\":\"mesh3d\"}],\"parcoords\":[{\"line\":{\"colorbar\":{\"outlinewidth\":0,\"ticks\":\"\"}},\"type\":\"parcoords\"}],\"pie\":[{\"automargin\":true,\"type\":\"pie\"}],\"scatter\":[{\"marker\":{\"colorbar\":{\"outlinewidth\":0,\"ticks\":\"\"}},\"type\":\"scatter\"}],\"scatter3d\":[{\"line\":{\"colorbar\":{\"outlinewidth\":0,\"ticks\":\"\"}},\"marker\":{\"colorbar\":{\"outlinewidth\":0,\"ticks\":\"\"}},\"type\":\"scatter3d\"}],\"scattercarpet\":[{\"marker\":{\"colorbar\":{\"outlinewidth\":0,\"ticks\":\"\"}},\"type\":\"scattercarpet\"}],\"scattergeo\":[{\"marker\":{\"colorbar\":{\"outlinewidth\":0,\"ticks\":\"\"}},\"type\":\"scattergeo\"}],\"scattergl\":[{\"marker\":{\"colorbar\":{\"outlinewidth\":0,\"ticks\":\"\"}},\"type\":\"scattergl\"}],\"scattermapbox\":[{\"marker\":{\"colorbar\":{\"outlinewidth\":0,\"ticks\":\"\"}},\"type\":\"scattermapbox\"}],\"scatterpolar\":[{\"marker\":{\"colorbar\":{\"outlinewidth\":0,\"ticks\":\"\"}},\"type\":\"scatterpolar\"}],\"scatterpolargl\":[{\"marker\":{\"colorbar\":{\"outlinewidth\":0,\"ticks\":\"\"}},\"type\":\"scatterpolargl\"}],\"scatterternary\":[{\"marker\":{\"colorbar\":{\"outlinewidth\":0,\"ticks\":\"\"}},\"type\":\"scatterternary\"}],\"surface\":[{\"colorbar\":{\"outlinewidth\":0,\"ticks\":\"\"},\"colorscale\":[[0.0,\"#0d0887\"],[0.1111111111111111,\"#46039f\"],[0.2222222222222222,\"#7201a8\"],[0.3333333333333333,\"#9c179e\"],[0.4444444444444444,\"#bd3786\"],[0.5555555555555556,\"#d8576b\"],[0.6666666666666666,\"#ed7953\"],[0.7777777777777778,\"#fb9f3a\"],[0.8888888888888888,\"#fdca26\"],[1.0,\"#f0f921\"]],\"type\":\"surface\"}],\"table\":[{\"cells\":{\"fill\":{\"color\":\"#EBF0F8\"},\"line\":{\"color\":\"white\"}},\"header\":{\"fill\":{\"color\":\"#C8D4E3\"},\"line\":{\"color\":\"white\"}},\"type\":\"table\"}]},\"layout\":{\"annotationdefaults\":{\"arrowcolor\":\"#2a3f5f\",\"arrowhead\":0,\"arrowwidth\":1},\"autotypenumbers\":\"strict\",\"coloraxis\":{\"colorbar\":{\"outlinewidth\":0,\"ticks\":\"\"}},\"colorscale\":{\"diverging\":[[0,\"#8e0152\"],[0.1,\"#c51b7d\"],[0.2,\"#de77ae\"],[0.3,\"#f1b6da\"],[0.4,\"#fde0ef\"],[0.5,\"#f7f7f7\"],[0.6,\"#e6f5d0\"],[0.7,\"#b8e186\"],[0.8,\"#7fbc41\"],[0.9,\"#4d9221\"],[1,\"#276419\"]],\"sequential\":[[0.0,\"#0d0887\"],[0.1111111111111111,\"#46039f\"],[0.2222222222222222,\"#7201a8\"],[0.3333333333333333,\"#9c179e\"],[0.4444444444444444,\"#bd3786\"],[0.5555555555555556,\"#d8576b\"],[0.6666666666666666,\"#ed7953\"],[0.7777777777777778,\"#fb9f3a\"],[0.8888888888888888,\"#fdca26\"],[1.0,\"#f0f921\"]],\"sequentialminus\":[[0.0,\"#0d0887\"],[0.1111111111111111,\"#46039f\"],[0.2222222222222222,\"#7201a8\"],[0.3333333333333333,\"#9c179e\"],[0.4444444444444444,\"#bd3786\"],[0.5555555555555556,\"#d8576b\"],[0.6666666666666666,\"#ed7953\"],[0.7777777777777778,\"#fb9f3a\"],[0.8888888888888888,\"#fdca26\"],[1.0,\"#f0f921\"]]},\"colorway\":[\"#636efa\",\"#EF553B\",\"#00cc96\",\"#ab63fa\",\"#FFA15A\",\"#19d3f3\",\"#FF6692\",\"#B6E880\",\"#FF97FF\",\"#FECB52\"],\"font\":{\"color\":\"#2a3f5f\"},\"geo\":{\"bgcolor\":\"white\",\"lakecolor\":\"white\",\"landcolor\":\"#E5ECF6\",\"showlakes\":true,\"showland\":true,\"subunitcolor\":\"white\"},\"hoverlabel\":{\"align\":\"left\"},\"hovermode\":\"closest\",\"mapbox\":{\"style\":\"light\"},\"paper_bgcolor\":\"white\",\"plot_bgcolor\":\"#E5ECF6\",\"polar\":{\"angularaxis\":{\"gridcolor\":\"white\",\"linecolor\":\"white\",\"ticks\":\"\"},\"bgcolor\":\"#E5ECF6\",\"radialaxis\":{\"gridcolor\":\"white\",\"linecolor\":\"white\",\"ticks\":\"\"}},\"scene\":{\"xaxis\":{\"backgroundcolor\":\"#E5ECF6\",\"gridcolor\":\"white\",\"gridwidth\":2,\"linecolor\":\"white\",\"showbackground\":true,\"ticks\":\"\",\"zerolinecolor\":\"white\"},\"yaxis\":{\"backgroundcolor\":\"#E5ECF6\",\"gridcolor\":\"white\",\"gridwidth\":2,\"linecolor\":\"white\",\"showbackground\":true,\"ticks\":\"\",\"zerolinecolor\":\"white\"},\"zaxis\":{\"backgroundcolor\":\"#E5ECF6\",\"gridcolor\":\"white\",\"gridwidth\":2,\"linecolor\":\"white\",\"showbackground\":true,\"ticks\":\"\",\"zerolinecolor\":\"white\"}},\"shapedefaults\":{\"line\":{\"color\":\"#2a3f5f\"}},\"ternary\":{\"aaxis\":{\"gridcolor\":\"white\",\"linecolor\":\"white\",\"ticks\":\"\"},\"baxis\":{\"gridcolor\":\"white\",\"linecolor\":\"white\",\"ticks\":\"\"},\"bgcolor\":\"#E5ECF6\",\"caxis\":{\"gridcolor\":\"white\",\"linecolor\":\"white\",\"ticks\":\"\"}},\"title\":{\"x\":0.05},\"xaxis\":{\"automargin\":true,\"gridcolor\":\"white\",\"linecolor\":\"white\",\"ticks\":\"\",\"title\":{\"standoff\":15},\"zerolinecolor\":\"white\",\"zerolinewidth\":2},\"yaxis\":{\"automargin\":true,\"gridcolor\":\"white\",\"linecolor\":\"white\",\"ticks\":\"\",\"title\":{\"standoff\":15},\"zerolinecolor\":\"white\",\"zerolinewidth\":2}}},\"xaxis\":{\"title\":{\"text\":\"mensalidade\"}},\"yaxis\":{\"title\":{\"text\":\"value\"}}},                        {\"responsive\": true}                    )                };                            </script>        </div>\n</body>\n</html>",
       "datasetInfos": [],
       "metadata": {},
       "removedWidgets": [],
       "textData": null,
       "type": "htmlSandbox"
      }
     },
     "output_type": "display_data"
    }
   ],
   "source": [
    "df[df['turno']=='Integral']['mensalidade'].plot.box()"
   ]
  },
  {
   "cell_type": "code",
   "execution_count": 0,
   "metadata": {
    "application/vnd.databricks.v1+cell": {
     "cellMetadata": {
      "byteLimit": 2048000,
      "rowLimit": 10000
     },
     "inputWidgets": {},
     "nuid": "5ee69e82-74ae-42a6-ba77-b073f47d4fab",
     "showTitle": false,
     "tableResultSettingsMap": {},
     "title": ""
    }
   },
   "outputs": [
    {
     "output_type": "display_data",
     "data": {
      "text/html": [
       "<html>\n",
       "<head><meta charset=\"utf-8\" /></head>\n",
       "<body>\n",
       "    <div>            <script src=\"https://cdnjs.cloudflare.com/ajax/libs/mathjax/2.7.5/MathJax.js?config=TeX-AMS-MML_SVG\"></script><script type=\"text/javascript\">if (window.MathJax) {MathJax.Hub.Config({SVG: {font: \"STIX-Web\"}});}</script>                <script type=\"text/javascript\">window.PlotlyConfig = {MathJaxConfig: 'local'};</script>\n",
       "        <script src=\"https://cdn.plot.ly/plotly-2.9.0.min.js\"></script>                <div id=\"1e13a363-a07c-4b26-8a1e-a8e400f6261b\" class=\"plotly-graph-div\" style=\"height:100%; width:100%;\"></div>            <script type=\"text/javascript\">                                    window.PLOTLYENV=window.PLOTLYENV || {};                                    if (document.getElementById(\"1e13a363-a07c-4b26-8a1e-a8e400f6261b\")) {                    Plotly.newPlot(                        \"1e13a363-a07c-4b26-8a1e-a8e400f6261b\",                        [{\"boxpoints\":\"suspectedoutliers\",\"lowerfence\":[350.0],\"mean\":[962.8386945812804],\"median\":[859.4],\"name\":\"mensalidade\",\"notched\":false,\"q1\":[648.78],\"q3\":[1150.0],\"upperfence\":[1805.0],\"y\":[[1948.63,1976.0,2005.0,2020.0,2024.0,2029.0,2037.0,2037.0,2145.0,2148.67,2223.84,2271.36,2282.5,2389.1,2477.39,2647.0,3694.77]],\"type\":\"box\"}],                        {\"template\":{\"data\":{\"bar\":[{\"error_x\":{\"color\":\"#2a3f5f\"},\"error_y\":{\"color\":\"#2a3f5f\"},\"marker\":{\"line\":{\"color\":\"#E5ECF6\",\"width\":0.5},\"pattern\":{\"fillmode\":\"overlay\",\"size\":10,\"solidity\":0.2}},\"type\":\"bar\"}],\"barpolar\":[{\"marker\":{\"line\":{\"color\":\"#E5ECF6\",\"width\":0.5},\"pattern\":{\"fillmode\":\"overlay\",\"size\":10,\"solidity\":0.2}},\"type\":\"barpolar\"}],\"carpet\":[{\"aaxis\":{\"endlinecolor\":\"#2a3f5f\",\"gridcolor\":\"white\",\"linecolor\":\"white\",\"minorgridcolor\":\"white\",\"startlinecolor\":\"#2a3f5f\"},\"baxis\":{\"endlinecolor\":\"#2a3f5f\",\"gridcolor\":\"white\",\"linecolor\":\"white\",\"minorgridcolor\":\"white\",\"startlinecolor\":\"#2a3f5f\"},\"type\":\"carpet\"}],\"choropleth\":[{\"colorbar\":{\"outlinewidth\":0,\"ticks\":\"\"},\"type\":\"choropleth\"}],\"contour\":[{\"colorbar\":{\"outlinewidth\":0,\"ticks\":\"\"},\"colorscale\":[[0.0,\"#0d0887\"],[0.1111111111111111,\"#46039f\"],[0.2222222222222222,\"#7201a8\"],[0.3333333333333333,\"#9c179e\"],[0.4444444444444444,\"#bd3786\"],[0.5555555555555556,\"#d8576b\"],[0.6666666666666666,\"#ed7953\"],[0.7777777777777778,\"#fb9f3a\"],[0.8888888888888888,\"#fdca26\"],[1.0,\"#f0f921\"]],\"type\":\"contour\"}],\"contourcarpet\":[{\"colorbar\":{\"outlinewidth\":0,\"ticks\":\"\"},\"type\":\"contourcarpet\"}],\"heatmap\":[{\"colorbar\":{\"outlinewidth\":0,\"ticks\":\"\"},\"colorscale\":[[0.0,\"#0d0887\"],[0.1111111111111111,\"#46039f\"],[0.2222222222222222,\"#7201a8\"],[0.3333333333333333,\"#9c179e\"],[0.4444444444444444,\"#bd3786\"],[0.5555555555555556,\"#d8576b\"],[0.6666666666666666,\"#ed7953\"],[0.7777777777777778,\"#fb9f3a\"],[0.8888888888888888,\"#fdca26\"],[1.0,\"#f0f921\"]],\"type\":\"heatmap\"}],\"heatmapgl\":[{\"colorbar\":{\"outlinewidth\":0,\"ticks\":\"\"},\"colorscale\":[[0.0,\"#0d0887\"],[0.1111111111111111,\"#46039f\"],[0.2222222222222222,\"#7201a8\"],[0.3333333333333333,\"#9c179e\"],[0.4444444444444444,\"#bd3786\"],[0.5555555555555556,\"#d8576b\"],[0.6666666666666666,\"#ed7953\"],[0.7777777777777778,\"#fb9f3a\"],[0.8888888888888888,\"#fdca26\"],[1.0,\"#f0f921\"]],\"type\":\"heatmapgl\"}],\"histogram\":[{\"marker\":{\"pattern\":{\"fillmode\":\"overlay\",\"size\":10,\"solidity\":0.2}},\"type\":\"histogram\"}],\"histogram2d\":[{\"colorbar\":{\"outlinewidth\":0,\"ticks\":\"\"},\"colorscale\":[[0.0,\"#0d0887\"],[0.1111111111111111,\"#46039f\"],[0.2222222222222222,\"#7201a8\"],[0.3333333333333333,\"#9c179e\"],[0.4444444444444444,\"#bd3786\"],[0.5555555555555556,\"#d8576b\"],[0.6666666666666666,\"#ed7953\"],[0.7777777777777778,\"#fb9f3a\"],[0.8888888888888888,\"#fdca26\"],[1.0,\"#f0f921\"]],\"type\":\"histogram2d\"}],\"histogram2dcontour\":[{\"colorbar\":{\"outlinewidth\":0,\"ticks\":\"\"},\"colorscale\":[[0.0,\"#0d0887\"],[0.1111111111111111,\"#46039f\"],[0.2222222222222222,\"#7201a8\"],[0.3333333333333333,\"#9c179e\"],[0.4444444444444444,\"#bd3786\"],[0.5555555555555556,\"#d8576b\"],[0.6666666666666666,\"#ed7953\"],[0.7777777777777778,\"#fb9f3a\"],[0.8888888888888888,\"#fdca26\"],[1.0,\"#f0f921\"]],\"type\":\"histogram2dcontour\"}],\"mesh3d\":[{\"colorbar\":{\"outlinewidth\":0,\"ticks\":\"\"},\"type\":\"mesh3d\"}],\"parcoords\":[{\"line\":{\"colorbar\":{\"outlinewidth\":0,\"ticks\":\"\"}},\"type\":\"parcoords\"}],\"pie\":[{\"automargin\":true,\"type\":\"pie\"}],\"scatter\":[{\"marker\":{\"colorbar\":{\"outlinewidth\":0,\"ticks\":\"\"}},\"type\":\"scatter\"}],\"scatter3d\":[{\"line\":{\"colorbar\":{\"outlinewidth\":0,\"ticks\":\"\"}},\"marker\":{\"colorbar\":{\"outlinewidth\":0,\"ticks\":\"\"}},\"type\":\"scatter3d\"}],\"scattercarpet\":[{\"marker\":{\"colorbar\":{\"outlinewidth\":0,\"ticks\":\"\"}},\"type\":\"scattercarpet\"}],\"scattergeo\":[{\"marker\":{\"colorbar\":{\"outlinewidth\":0,\"ticks\":\"\"}},\"type\":\"scattergeo\"}],\"scattergl\":[{\"marker\":{\"colorbar\":{\"outlinewidth\":0,\"ticks\":\"\"}},\"type\":\"scattergl\"}],\"scattermapbox\":[{\"marker\":{\"colorbar\":{\"outlinewidth\":0,\"ticks\":\"\"}},\"type\":\"scattermapbox\"}],\"scatterpolar\":[{\"marker\":{\"colorbar\":{\"outlinewidth\":0,\"ticks\":\"\"}},\"type\":\"scatterpolar\"}],\"scatterpolargl\":[{\"marker\":{\"colorbar\":{\"outlinewidth\":0,\"ticks\":\"\"}},\"type\":\"scatterpolargl\"}],\"scatterternary\":[{\"marker\":{\"colorbar\":{\"outlinewidth\":0,\"ticks\":\"\"}},\"type\":\"scatterternary\"}],\"surface\":[{\"colorbar\":{\"outlinewidth\":0,\"ticks\":\"\"},\"colorscale\":[[0.0,\"#0d0887\"],[0.1111111111111111,\"#46039f\"],[0.2222222222222222,\"#7201a8\"],[0.3333333333333333,\"#9c179e\"],[0.4444444444444444,\"#bd3786\"],[0.5555555555555556,\"#d8576b\"],[0.6666666666666666,\"#ed7953\"],[0.7777777777777778,\"#fb9f3a\"],[0.8888888888888888,\"#fdca26\"],[1.0,\"#f0f921\"]],\"type\":\"surface\"}],\"table\":[{\"cells\":{\"fill\":{\"color\":\"#EBF0F8\"},\"line\":{\"color\":\"white\"}},\"header\":{\"fill\":{\"color\":\"#C8D4E3\"},\"line\":{\"color\":\"white\"}},\"type\":\"table\"}]},\"layout\":{\"annotationdefaults\":{\"arrowcolor\":\"#2a3f5f\",\"arrowhead\":0,\"arrowwidth\":1},\"autotypenumbers\":\"strict\",\"coloraxis\":{\"colorbar\":{\"outlinewidth\":0,\"ticks\":\"\"}},\"colorscale\":{\"diverging\":[[0,\"#8e0152\"],[0.1,\"#c51b7d\"],[0.2,\"#de77ae\"],[0.3,\"#f1b6da\"],[0.4,\"#fde0ef\"],[0.5,\"#f7f7f7\"],[0.6,\"#e6f5d0\"],[0.7,\"#b8e186\"],[0.8,\"#7fbc41\"],[0.9,\"#4d9221\"],[1,\"#276419\"]],\"sequential\":[[0.0,\"#0d0887\"],[0.1111111111111111,\"#46039f\"],[0.2222222222222222,\"#7201a8\"],[0.3333333333333333,\"#9c179e\"],[0.4444444444444444,\"#bd3786\"],[0.5555555555555556,\"#d8576b\"],[0.6666666666666666,\"#ed7953\"],[0.7777777777777778,\"#fb9f3a\"],[0.8888888888888888,\"#fdca26\"],[1.0,\"#f0f921\"]],\"sequentialminus\":[[0.0,\"#0d0887\"],[0.1111111111111111,\"#46039f\"],[0.2222222222222222,\"#7201a8\"],[0.3333333333333333,\"#9c179e\"],[0.4444444444444444,\"#bd3786\"],[0.5555555555555556,\"#d8576b\"],[0.6666666666666666,\"#ed7953\"],[0.7777777777777778,\"#fb9f3a\"],[0.8888888888888888,\"#fdca26\"],[1.0,\"#f0f921\"]]},\"colorway\":[\"#636efa\",\"#EF553B\",\"#00cc96\",\"#ab63fa\",\"#FFA15A\",\"#19d3f3\",\"#FF6692\",\"#B6E880\",\"#FF97FF\",\"#FECB52\"],\"font\":{\"color\":\"#2a3f5f\"},\"geo\":{\"bgcolor\":\"white\",\"lakecolor\":\"white\",\"landcolor\":\"#E5ECF6\",\"showlakes\":true,\"showland\":true,\"subunitcolor\":\"white\"},\"hoverlabel\":{\"align\":\"left\"},\"hovermode\":\"closest\",\"mapbox\":{\"style\":\"light\"},\"paper_bgcolor\":\"white\",\"plot_bgcolor\":\"#E5ECF6\",\"polar\":{\"angularaxis\":{\"gridcolor\":\"white\",\"linecolor\":\"white\",\"ticks\":\"\"},\"bgcolor\":\"#E5ECF6\",\"radialaxis\":{\"gridcolor\":\"white\",\"linecolor\":\"white\",\"ticks\":\"\"}},\"scene\":{\"xaxis\":{\"backgroundcolor\":\"#E5ECF6\",\"gridcolor\":\"white\",\"gridwidth\":2,\"linecolor\":\"white\",\"showbackground\":true,\"ticks\":\"\",\"zerolinecolor\":\"white\"},\"yaxis\":{\"backgroundcolor\":\"#E5ECF6\",\"gridcolor\":\"white\",\"gridwidth\":2,\"linecolor\":\"white\",\"showbackground\":true,\"ticks\":\"\",\"zerolinecolor\":\"white\"},\"zaxis\":{\"backgroundcolor\":\"#E5ECF6\",\"gridcolor\":\"white\",\"gridwidth\":2,\"linecolor\":\"white\",\"showbackground\":true,\"ticks\":\"\",\"zerolinecolor\":\"white\"}},\"shapedefaults\":{\"line\":{\"color\":\"#2a3f5f\"}},\"ternary\":{\"aaxis\":{\"gridcolor\":\"white\",\"linecolor\":\"white\",\"ticks\":\"\"},\"baxis\":{\"gridcolor\":\"white\",\"linecolor\":\"white\",\"ticks\":\"\"},\"bgcolor\":\"#E5ECF6\",\"caxis\":{\"gridcolor\":\"white\",\"linecolor\":\"white\",\"ticks\":\"\"}},\"title\":{\"x\":0.05},\"xaxis\":{\"automargin\":true,\"gridcolor\":\"white\",\"linecolor\":\"white\",\"ticks\":\"\",\"title\":{\"standoff\":15},\"zerolinecolor\":\"white\",\"zerolinewidth\":2},\"yaxis\":{\"automargin\":true,\"gridcolor\":\"white\",\"linecolor\":\"white\",\"ticks\":\"\",\"title\":{\"standoff\":15},\"zerolinecolor\":\"white\",\"zerolinewidth\":2}}},\"xaxis\":{\"title\":{\"text\":\"mensalidade\"}},\"yaxis\":{\"title\":{\"text\":\"value\"}}},                        {\"responsive\": true}                    )                };                            </script>        </div>\n",
       "</body>\n",
       "</html>"
      ]
     },
     "metadata": {
      "application/vnd.databricks.v1+output": {
       "addedWidgets": {},
       "arguments": {},
       "data": "<html>\n<head><meta charset=\"utf-8\" /></head>\n<body>\n    <div>            <script src=\"https://cdnjs.cloudflare.com/ajax/libs/mathjax/2.7.5/MathJax.js?config=TeX-AMS-MML_SVG\"></script><script type=\"text/javascript\">if (window.MathJax) {MathJax.Hub.Config({SVG: {font: \"STIX-Web\"}});}</script>                <script type=\"text/javascript\">window.PlotlyConfig = {MathJaxConfig: 'local'};</script>\n        <script src=\"https://cdn.plot.ly/plotly-2.9.0.min.js\"></script>                <div id=\"1e13a363-a07c-4b26-8a1e-a8e400f6261b\" class=\"plotly-graph-div\" style=\"height:100%; width:100%;\"></div>            <script type=\"text/javascript\">                                    window.PLOTLYENV=window.PLOTLYENV || {};                                    if (document.getElementById(\"1e13a363-a07c-4b26-8a1e-a8e400f6261b\")) {                    Plotly.newPlot(                        \"1e13a363-a07c-4b26-8a1e-a8e400f6261b\",                        [{\"boxpoints\":\"suspectedoutliers\",\"lowerfence\":[350.0],\"mean\":[962.8386945812804],\"median\":[859.4],\"name\":\"mensalidade\",\"notched\":false,\"q1\":[648.78],\"q3\":[1150.0],\"upperfence\":[1805.0],\"y\":[[1948.63,1976.0,2005.0,2020.0,2024.0,2029.0,2037.0,2037.0,2145.0,2148.67,2223.84,2271.36,2282.5,2389.1,2477.39,2647.0,3694.77]],\"type\":\"box\"}],                        {\"template\":{\"data\":{\"bar\":[{\"error_x\":{\"color\":\"#2a3f5f\"},\"error_y\":{\"color\":\"#2a3f5f\"},\"marker\":{\"line\":{\"color\":\"#E5ECF6\",\"width\":0.5},\"pattern\":{\"fillmode\":\"overlay\",\"size\":10,\"solidity\":0.2}},\"type\":\"bar\"}],\"barpolar\":[{\"marker\":{\"line\":{\"color\":\"#E5ECF6\",\"width\":0.5},\"pattern\":{\"fillmode\":\"overlay\",\"size\":10,\"solidity\":0.2}},\"type\":\"barpolar\"}],\"carpet\":[{\"aaxis\":{\"endlinecolor\":\"#2a3f5f\",\"gridcolor\":\"white\",\"linecolor\":\"white\",\"minorgridcolor\":\"white\",\"startlinecolor\":\"#2a3f5f\"},\"baxis\":{\"endlinecolor\":\"#2a3f5f\",\"gridcolor\":\"white\",\"linecolor\":\"white\",\"minorgridcolor\":\"white\",\"startlinecolor\":\"#2a3f5f\"},\"type\":\"carpet\"}],\"choropleth\":[{\"colorbar\":{\"outlinewidth\":0,\"ticks\":\"\"},\"type\":\"choropleth\"}],\"contour\":[{\"colorbar\":{\"outlinewidth\":0,\"ticks\":\"\"},\"colorscale\":[[0.0,\"#0d0887\"],[0.1111111111111111,\"#46039f\"],[0.2222222222222222,\"#7201a8\"],[0.3333333333333333,\"#9c179e\"],[0.4444444444444444,\"#bd3786\"],[0.5555555555555556,\"#d8576b\"],[0.6666666666666666,\"#ed7953\"],[0.7777777777777778,\"#fb9f3a\"],[0.8888888888888888,\"#fdca26\"],[1.0,\"#f0f921\"]],\"type\":\"contour\"}],\"contourcarpet\":[{\"colorbar\":{\"outlinewidth\":0,\"ticks\":\"\"},\"type\":\"contourcarpet\"}],\"heatmap\":[{\"colorbar\":{\"outlinewidth\":0,\"ticks\":\"\"},\"colorscale\":[[0.0,\"#0d0887\"],[0.1111111111111111,\"#46039f\"],[0.2222222222222222,\"#7201a8\"],[0.3333333333333333,\"#9c179e\"],[0.4444444444444444,\"#bd3786\"],[0.5555555555555556,\"#d8576b\"],[0.6666666666666666,\"#ed7953\"],[0.7777777777777778,\"#fb9f3a\"],[0.8888888888888888,\"#fdca26\"],[1.0,\"#f0f921\"]],\"type\":\"heatmap\"}],\"heatmapgl\":[{\"colorbar\":{\"outlinewidth\":0,\"ticks\":\"\"},\"colorscale\":[[0.0,\"#0d0887\"],[0.1111111111111111,\"#46039f\"],[0.2222222222222222,\"#7201a8\"],[0.3333333333333333,\"#9c179e\"],[0.4444444444444444,\"#bd3786\"],[0.5555555555555556,\"#d8576b\"],[0.6666666666666666,\"#ed7953\"],[0.7777777777777778,\"#fb9f3a\"],[0.8888888888888888,\"#fdca26\"],[1.0,\"#f0f921\"]],\"type\":\"heatmapgl\"}],\"histogram\":[{\"marker\":{\"pattern\":{\"fillmode\":\"overlay\",\"size\":10,\"solidity\":0.2}},\"type\":\"histogram\"}],\"histogram2d\":[{\"colorbar\":{\"outlinewidth\":0,\"ticks\":\"\"},\"colorscale\":[[0.0,\"#0d0887\"],[0.1111111111111111,\"#46039f\"],[0.2222222222222222,\"#7201a8\"],[0.3333333333333333,\"#9c179e\"],[0.4444444444444444,\"#bd3786\"],[0.5555555555555556,\"#d8576b\"],[0.6666666666666666,\"#ed7953\"],[0.7777777777777778,\"#fb9f3a\"],[0.8888888888888888,\"#fdca26\"],[1.0,\"#f0f921\"]],\"type\":\"histogram2d\"}],\"histogram2dcontour\":[{\"colorbar\":{\"outlinewidth\":0,\"ticks\":\"\"},\"colorscale\":[[0.0,\"#0d0887\"],[0.1111111111111111,\"#46039f\"],[0.2222222222222222,\"#7201a8\"],[0.3333333333333333,\"#9c179e\"],[0.4444444444444444,\"#bd3786\"],[0.5555555555555556,\"#d8576b\"],[0.6666666666666666,\"#ed7953\"],[0.7777777777777778,\"#fb9f3a\"],[0.8888888888888888,\"#fdca26\"],[1.0,\"#f0f921\"]],\"type\":\"histogram2dcontour\"}],\"mesh3d\":[{\"colorbar\":{\"outlinewidth\":0,\"ticks\":\"\"},\"type\":\"mesh3d\"}],\"parcoords\":[{\"line\":{\"colorbar\":{\"outlinewidth\":0,\"ticks\":\"\"}},\"type\":\"parcoords\"}],\"pie\":[{\"automargin\":true,\"type\":\"pie\"}],\"scatter\":[{\"marker\":{\"colorbar\":{\"outlinewidth\":0,\"ticks\":\"\"}},\"type\":\"scatter\"}],\"scatter3d\":[{\"line\":{\"colorbar\":{\"outlinewidth\":0,\"ticks\":\"\"}},\"marker\":{\"colorbar\":{\"outlinewidth\":0,\"ticks\":\"\"}},\"type\":\"scatter3d\"}],\"scattercarpet\":[{\"marker\":{\"colorbar\":{\"outlinewidth\":0,\"ticks\":\"\"}},\"type\":\"scattercarpet\"}],\"scattergeo\":[{\"marker\":{\"colorbar\":{\"outlinewidth\":0,\"ticks\":\"\"}},\"type\":\"scattergeo\"}],\"scattergl\":[{\"marker\":{\"colorbar\":{\"outlinewidth\":0,\"ticks\":\"\"}},\"type\":\"scattergl\"}],\"scattermapbox\":[{\"marker\":{\"colorbar\":{\"outlinewidth\":0,\"ticks\":\"\"}},\"type\":\"scattermapbox\"}],\"scatterpolar\":[{\"marker\":{\"colorbar\":{\"outlinewidth\":0,\"ticks\":\"\"}},\"type\":\"scatterpolar\"}],\"scatterpolargl\":[{\"marker\":{\"colorbar\":{\"outlinewidth\":0,\"ticks\":\"\"}},\"type\":\"scatterpolargl\"}],\"scatterternary\":[{\"marker\":{\"colorbar\":{\"outlinewidth\":0,\"ticks\":\"\"}},\"type\":\"scatterternary\"}],\"surface\":[{\"colorbar\":{\"outlinewidth\":0,\"ticks\":\"\"},\"colorscale\":[[0.0,\"#0d0887\"],[0.1111111111111111,\"#46039f\"],[0.2222222222222222,\"#7201a8\"],[0.3333333333333333,\"#9c179e\"],[0.4444444444444444,\"#bd3786\"],[0.5555555555555556,\"#d8576b\"],[0.6666666666666666,\"#ed7953\"],[0.7777777777777778,\"#fb9f3a\"],[0.8888888888888888,\"#fdca26\"],[1.0,\"#f0f921\"]],\"type\":\"surface\"}],\"table\":[{\"cells\":{\"fill\":{\"color\":\"#EBF0F8\"},\"line\":{\"color\":\"white\"}},\"header\":{\"fill\":{\"color\":\"#C8D4E3\"},\"line\":{\"color\":\"white\"}},\"type\":\"table\"}]},\"layout\":{\"annotationdefaults\":{\"arrowcolor\":\"#2a3f5f\",\"arrowhead\":0,\"arrowwidth\":1},\"autotypenumbers\":\"strict\",\"coloraxis\":{\"colorbar\":{\"outlinewidth\":0,\"ticks\":\"\"}},\"colorscale\":{\"diverging\":[[0,\"#8e0152\"],[0.1,\"#c51b7d\"],[0.2,\"#de77ae\"],[0.3,\"#f1b6da\"],[0.4,\"#fde0ef\"],[0.5,\"#f7f7f7\"],[0.6,\"#e6f5d0\"],[0.7,\"#b8e186\"],[0.8,\"#7fbc41\"],[0.9,\"#4d9221\"],[1,\"#276419\"]],\"sequential\":[[0.0,\"#0d0887\"],[0.1111111111111111,\"#46039f\"],[0.2222222222222222,\"#7201a8\"],[0.3333333333333333,\"#9c179e\"],[0.4444444444444444,\"#bd3786\"],[0.5555555555555556,\"#d8576b\"],[0.6666666666666666,\"#ed7953\"],[0.7777777777777778,\"#fb9f3a\"],[0.8888888888888888,\"#fdca26\"],[1.0,\"#f0f921\"]],\"sequentialminus\":[[0.0,\"#0d0887\"],[0.1111111111111111,\"#46039f\"],[0.2222222222222222,\"#7201a8\"],[0.3333333333333333,\"#9c179e\"],[0.4444444444444444,\"#bd3786\"],[0.5555555555555556,\"#d8576b\"],[0.6666666666666666,\"#ed7953\"],[0.7777777777777778,\"#fb9f3a\"],[0.8888888888888888,\"#fdca26\"],[1.0,\"#f0f921\"]]},\"colorway\":[\"#636efa\",\"#EF553B\",\"#00cc96\",\"#ab63fa\",\"#FFA15A\",\"#19d3f3\",\"#FF6692\",\"#B6E880\",\"#FF97FF\",\"#FECB52\"],\"font\":{\"color\":\"#2a3f5f\"},\"geo\":{\"bgcolor\":\"white\",\"lakecolor\":\"white\",\"landcolor\":\"#E5ECF6\",\"showlakes\":true,\"showland\":true,\"subunitcolor\":\"white\"},\"hoverlabel\":{\"align\":\"left\"},\"hovermode\":\"closest\",\"mapbox\":{\"style\":\"light\"},\"paper_bgcolor\":\"white\",\"plot_bgcolor\":\"#E5ECF6\",\"polar\":{\"angularaxis\":{\"gridcolor\":\"white\",\"linecolor\":\"white\",\"ticks\":\"\"},\"bgcolor\":\"#E5ECF6\",\"radialaxis\":{\"gridcolor\":\"white\",\"linecolor\":\"white\",\"ticks\":\"\"}},\"scene\":{\"xaxis\":{\"backgroundcolor\":\"#E5ECF6\",\"gridcolor\":\"white\",\"gridwidth\":2,\"linecolor\":\"white\",\"showbackground\":true,\"ticks\":\"\",\"zerolinecolor\":\"white\"},\"yaxis\":{\"backgroundcolor\":\"#E5ECF6\",\"gridcolor\":\"white\",\"gridwidth\":2,\"linecolor\":\"white\",\"showbackground\":true,\"ticks\":\"\",\"zerolinecolor\":\"white\"},\"zaxis\":{\"backgroundcolor\":\"#E5ECF6\",\"gridcolor\":\"white\",\"gridwidth\":2,\"linecolor\":\"white\",\"showbackground\":true,\"ticks\":\"\",\"zerolinecolor\":\"white\"}},\"shapedefaults\":{\"line\":{\"color\":\"#2a3f5f\"}},\"ternary\":{\"aaxis\":{\"gridcolor\":\"white\",\"linecolor\":\"white\",\"ticks\":\"\"},\"baxis\":{\"gridcolor\":\"white\",\"linecolor\":\"white\",\"ticks\":\"\"},\"bgcolor\":\"#E5ECF6\",\"caxis\":{\"gridcolor\":\"white\",\"linecolor\":\"white\",\"ticks\":\"\"}},\"title\":{\"x\":0.05},\"xaxis\":{\"automargin\":true,\"gridcolor\":\"white\",\"linecolor\":\"white\",\"ticks\":\"\",\"title\":{\"standoff\":15},\"zerolinecolor\":\"white\",\"zerolinewidth\":2},\"yaxis\":{\"automargin\":true,\"gridcolor\":\"white\",\"linecolor\":\"white\",\"ticks\":\"\",\"title\":{\"standoff\":15},\"zerolinecolor\":\"white\",\"zerolinewidth\":2}}},\"xaxis\":{\"title\":{\"text\":\"mensalidade\"}},\"yaxis\":{\"title\":{\"text\":\"value\"}}},                        {\"responsive\": true}                    )                };                            </script>        </div>\n</body>\n</html>",
       "datasetInfos": [],
       "metadata": {},
       "removedWidgets": [],
       "textData": null,
       "type": "htmlSandbox"
      }
     },
     "output_type": "display_data"
    }
   ],
   "source": [
    "df[df['turno']=='Matutino']['mensalidade'].plot.box()"
   ]
  },
  {
   "cell_type": "markdown",
   "metadata": {
    "application/vnd.databricks.v1+cell": {
     "cellMetadata": {
      "byteLimit": 2048000,
      "rowLimit": 10000
     },
     "inputWidgets": {},
     "nuid": "21d01efd-402f-4de6-8d17-c35e79a39853",
     "showTitle": false,
     "tableResultSettingsMap": {},
     "title": ""
    }
   },
   "source": [
    "Comparando os cursos de enfermagem com os de medicina vemos que os cursos de medicina são muito mais caros mesmo sendo de uma área correlata."
   ]
  },
  {
   "cell_type": "code",
   "execution_count": 0,
   "metadata": {
    "application/vnd.databricks.v1+cell": {
     "cellMetadata": {
      "byteLimit": 2048000,
      "rowLimit": 10000
     },
     "inputWidgets": {},
     "nuid": "530bceee-c65e-41ed-a7cf-d25a5f4d7225",
     "showTitle": false,
     "tableResultSettingsMap": {},
     "title": ""
    }
   },
   "outputs": [
    {
     "output_type": "display_data",
     "data": {
      "text/html": [
       "<html>\n",
       "<head><meta charset=\"utf-8\" /></head>\n",
       "<body>\n",
       "    <div>            <script src=\"https://cdnjs.cloudflare.com/ajax/libs/mathjax/2.7.5/MathJax.js?config=TeX-AMS-MML_SVG\"></script><script type=\"text/javascript\">if (window.MathJax) {MathJax.Hub.Config({SVG: {font: \"STIX-Web\"}});}</script>                <script type=\"text/javascript\">window.PlotlyConfig = {MathJaxConfig: 'local'};</script>\n",
       "        <script src=\"https://cdn.plot.ly/plotly-2.9.0.min.js\"></script>                <div id=\"16bddeff-b058-4884-a7be-c7fd93fc68d7\" class=\"plotly-graph-div\" style=\"height:100%; width:100%;\"></div>            <script type=\"text/javascript\">                                    window.PLOTLYENV=window.PLOTLYENV || {};                                    if (document.getElementById(\"16bddeff-b058-4884-a7be-c7fd93fc68d7\")) {                    Plotly.newPlot(                        \"16bddeff-b058-4884-a7be-c7fd93fc68d7\",                        [{\"boxpoints\":\"suspectedoutliers\",\"lowerfence\":[6113.0],\"mean\":[8007.354666666666],\"median\":[8295.0],\"name\":\"mensalidade\",\"notched\":false,\"q1\":[7130.0],\"q3\":[8608.54],\"upperfence\":[9815.61],\"type\":\"box\"}],                        {\"template\":{\"data\":{\"bar\":[{\"error_x\":{\"color\":\"#2a3f5f\"},\"error_y\":{\"color\":\"#2a3f5f\"},\"marker\":{\"line\":{\"color\":\"#E5ECF6\",\"width\":0.5},\"pattern\":{\"fillmode\":\"overlay\",\"size\":10,\"solidity\":0.2}},\"type\":\"bar\"}],\"barpolar\":[{\"marker\":{\"line\":{\"color\":\"#E5ECF6\",\"width\":0.5},\"pattern\":{\"fillmode\":\"overlay\",\"size\":10,\"solidity\":0.2}},\"type\":\"barpolar\"}],\"carpet\":[{\"aaxis\":{\"endlinecolor\":\"#2a3f5f\",\"gridcolor\":\"white\",\"linecolor\":\"white\",\"minorgridcolor\":\"white\",\"startlinecolor\":\"#2a3f5f\"},\"baxis\":{\"endlinecolor\":\"#2a3f5f\",\"gridcolor\":\"white\",\"linecolor\":\"white\",\"minorgridcolor\":\"white\",\"startlinecolor\":\"#2a3f5f\"},\"type\":\"carpet\"}],\"choropleth\":[{\"colorbar\":{\"outlinewidth\":0,\"ticks\":\"\"},\"type\":\"choropleth\"}],\"contour\":[{\"colorbar\":{\"outlinewidth\":0,\"ticks\":\"\"},\"colorscale\":[[0.0,\"#0d0887\"],[0.1111111111111111,\"#46039f\"],[0.2222222222222222,\"#7201a8\"],[0.3333333333333333,\"#9c179e\"],[0.4444444444444444,\"#bd3786\"],[0.5555555555555556,\"#d8576b\"],[0.6666666666666666,\"#ed7953\"],[0.7777777777777778,\"#fb9f3a\"],[0.8888888888888888,\"#fdca26\"],[1.0,\"#f0f921\"]],\"type\":\"contour\"}],\"contourcarpet\":[{\"colorbar\":{\"outlinewidth\":0,\"ticks\":\"\"},\"type\":\"contourcarpet\"}],\"heatmap\":[{\"colorbar\":{\"outlinewidth\":0,\"ticks\":\"\"},\"colorscale\":[[0.0,\"#0d0887\"],[0.1111111111111111,\"#46039f\"],[0.2222222222222222,\"#7201a8\"],[0.3333333333333333,\"#9c179e\"],[0.4444444444444444,\"#bd3786\"],[0.5555555555555556,\"#d8576b\"],[0.6666666666666666,\"#ed7953\"],[0.7777777777777778,\"#fb9f3a\"],[0.8888888888888888,\"#fdca26\"],[1.0,\"#f0f921\"]],\"type\":\"heatmap\"}],\"heatmapgl\":[{\"colorbar\":{\"outlinewidth\":0,\"ticks\":\"\"},\"colorscale\":[[0.0,\"#0d0887\"],[0.1111111111111111,\"#46039f\"],[0.2222222222222222,\"#7201a8\"],[0.3333333333333333,\"#9c179e\"],[0.4444444444444444,\"#bd3786\"],[0.5555555555555556,\"#d8576b\"],[0.6666666666666666,\"#ed7953\"],[0.7777777777777778,\"#fb9f3a\"],[0.8888888888888888,\"#fdca26\"],[1.0,\"#f0f921\"]],\"type\":\"heatmapgl\"}],\"histogram\":[{\"marker\":{\"pattern\":{\"fillmode\":\"overlay\",\"size\":10,\"solidity\":0.2}},\"type\":\"histogram\"}],\"histogram2d\":[{\"colorbar\":{\"outlinewidth\":0,\"ticks\":\"\"},\"colorscale\":[[0.0,\"#0d0887\"],[0.1111111111111111,\"#46039f\"],[0.2222222222222222,\"#7201a8\"],[0.3333333333333333,\"#9c179e\"],[0.4444444444444444,\"#bd3786\"],[0.5555555555555556,\"#d8576b\"],[0.6666666666666666,\"#ed7953\"],[0.7777777777777778,\"#fb9f3a\"],[0.8888888888888888,\"#fdca26\"],[1.0,\"#f0f921\"]],\"type\":\"histogram2d\"}],\"histogram2dcontour\":[{\"colorbar\":{\"outlinewidth\":0,\"ticks\":\"\"},\"colorscale\":[[0.0,\"#0d0887\"],[0.1111111111111111,\"#46039f\"],[0.2222222222222222,\"#7201a8\"],[0.3333333333333333,\"#9c179e\"],[0.4444444444444444,\"#bd3786\"],[0.5555555555555556,\"#d8576b\"],[0.6666666666666666,\"#ed7953\"],[0.7777777777777778,\"#fb9f3a\"],[0.8888888888888888,\"#fdca26\"],[1.0,\"#f0f921\"]],\"type\":\"histogram2dcontour\"}],\"mesh3d\":[{\"colorbar\":{\"outlinewidth\":0,\"ticks\":\"\"},\"type\":\"mesh3d\"}],\"parcoords\":[{\"line\":{\"colorbar\":{\"outlinewidth\":0,\"ticks\":\"\"}},\"type\":\"parcoords\"}],\"pie\":[{\"automargin\":true,\"type\":\"pie\"}],\"scatter\":[{\"marker\":{\"colorbar\":{\"outlinewidth\":0,\"ticks\":\"\"}},\"type\":\"scatter\"}],\"scatter3d\":[{\"line\":{\"colorbar\":{\"outlinewidth\":0,\"ticks\":\"\"}},\"marker\":{\"colorbar\":{\"outlinewidth\":0,\"ticks\":\"\"}},\"type\":\"scatter3d\"}],\"scattercarpet\":[{\"marker\":{\"colorbar\":{\"outlinewidth\":0,\"ticks\":\"\"}},\"type\":\"scattercarpet\"}],\"scattergeo\":[{\"marker\":{\"colorbar\":{\"outlinewidth\":0,\"ticks\":\"\"}},\"type\":\"scattergeo\"}],\"scattergl\":[{\"marker\":{\"colorbar\":{\"outlinewidth\":0,\"ticks\":\"\"}},\"type\":\"scattergl\"}],\"scattermapbox\":[{\"marker\":{\"colorbar\":{\"outlinewidth\":0,\"ticks\":\"\"}},\"type\":\"scattermapbox\"}],\"scatterpolar\":[{\"marker\":{\"colorbar\":{\"outlinewidth\":0,\"ticks\":\"\"}},\"type\":\"scatterpolar\"}],\"scatterpolargl\":[{\"marker\":{\"colorbar\":{\"outlinewidth\":0,\"ticks\":\"\"}},\"type\":\"scatterpolargl\"}],\"scatterternary\":[{\"marker\":{\"colorbar\":{\"outlinewidth\":0,\"ticks\":\"\"}},\"type\":\"scatterternary\"}],\"surface\":[{\"colorbar\":{\"outlinewidth\":0,\"ticks\":\"\"},\"colorscale\":[[0.0,\"#0d0887\"],[0.1111111111111111,\"#46039f\"],[0.2222222222222222,\"#7201a8\"],[0.3333333333333333,\"#9c179e\"],[0.4444444444444444,\"#bd3786\"],[0.5555555555555556,\"#d8576b\"],[0.6666666666666666,\"#ed7953\"],[0.7777777777777778,\"#fb9f3a\"],[0.8888888888888888,\"#fdca26\"],[1.0,\"#f0f921\"]],\"type\":\"surface\"}],\"table\":[{\"cells\":{\"fill\":{\"color\":\"#EBF0F8\"},\"line\":{\"color\":\"white\"}},\"header\":{\"fill\":{\"color\":\"#C8D4E3\"},\"line\":{\"color\":\"white\"}},\"type\":\"table\"}]},\"layout\":{\"annotationdefaults\":{\"arrowcolor\":\"#2a3f5f\",\"arrowhead\":0,\"arrowwidth\":1},\"autotypenumbers\":\"strict\",\"coloraxis\":{\"colorbar\":{\"outlinewidth\":0,\"ticks\":\"\"}},\"colorscale\":{\"diverging\":[[0,\"#8e0152\"],[0.1,\"#c51b7d\"],[0.2,\"#de77ae\"],[0.3,\"#f1b6da\"],[0.4,\"#fde0ef\"],[0.5,\"#f7f7f7\"],[0.6,\"#e6f5d0\"],[0.7,\"#b8e186\"],[0.8,\"#7fbc41\"],[0.9,\"#4d9221\"],[1,\"#276419\"]],\"sequential\":[[0.0,\"#0d0887\"],[0.1111111111111111,\"#46039f\"],[0.2222222222222222,\"#7201a8\"],[0.3333333333333333,\"#9c179e\"],[0.4444444444444444,\"#bd3786\"],[0.5555555555555556,\"#d8576b\"],[0.6666666666666666,\"#ed7953\"],[0.7777777777777778,\"#fb9f3a\"],[0.8888888888888888,\"#fdca26\"],[1.0,\"#f0f921\"]],\"sequentialminus\":[[0.0,\"#0d0887\"],[0.1111111111111111,\"#46039f\"],[0.2222222222222222,\"#7201a8\"],[0.3333333333333333,\"#9c179e\"],[0.4444444444444444,\"#bd3786\"],[0.5555555555555556,\"#d8576b\"],[0.6666666666666666,\"#ed7953\"],[0.7777777777777778,\"#fb9f3a\"],[0.8888888888888888,\"#fdca26\"],[1.0,\"#f0f921\"]]},\"colorway\":[\"#636efa\",\"#EF553B\",\"#00cc96\",\"#ab63fa\",\"#FFA15A\",\"#19d3f3\",\"#FF6692\",\"#B6E880\",\"#FF97FF\",\"#FECB52\"],\"font\":{\"color\":\"#2a3f5f\"},\"geo\":{\"bgcolor\":\"white\",\"lakecolor\":\"white\",\"landcolor\":\"#E5ECF6\",\"showlakes\":true,\"showland\":true,\"subunitcolor\":\"white\"},\"hoverlabel\":{\"align\":\"left\"},\"hovermode\":\"closest\",\"mapbox\":{\"style\":\"light\"},\"paper_bgcolor\":\"white\",\"plot_bgcolor\":\"#E5ECF6\",\"polar\":{\"angularaxis\":{\"gridcolor\":\"white\",\"linecolor\":\"white\",\"ticks\":\"\"},\"bgcolor\":\"#E5ECF6\",\"radialaxis\":{\"gridcolor\":\"white\",\"linecolor\":\"white\",\"ticks\":\"\"}},\"scene\":{\"xaxis\":{\"backgroundcolor\":\"#E5ECF6\",\"gridcolor\":\"white\",\"gridwidth\":2,\"linecolor\":\"white\",\"showbackground\":true,\"ticks\":\"\",\"zerolinecolor\":\"white\"},\"yaxis\":{\"backgroundcolor\":\"#E5ECF6\",\"gridcolor\":\"white\",\"gridwidth\":2,\"linecolor\":\"white\",\"showbackground\":true,\"ticks\":\"\",\"zerolinecolor\":\"white\"},\"zaxis\":{\"backgroundcolor\":\"#E5ECF6\",\"gridcolor\":\"white\",\"gridwidth\":2,\"linecolor\":\"white\",\"showbackground\":true,\"ticks\":\"\",\"zerolinecolor\":\"white\"}},\"shapedefaults\":{\"line\":{\"color\":\"#2a3f5f\"}},\"ternary\":{\"aaxis\":{\"gridcolor\":\"white\",\"linecolor\":\"white\",\"ticks\":\"\"},\"baxis\":{\"gridcolor\":\"white\",\"linecolor\":\"white\",\"ticks\":\"\"},\"bgcolor\":\"#E5ECF6\",\"caxis\":{\"gridcolor\":\"white\",\"linecolor\":\"white\",\"ticks\":\"\"}},\"title\":{\"x\":0.05},\"xaxis\":{\"automargin\":true,\"gridcolor\":\"white\",\"linecolor\":\"white\",\"ticks\":\"\",\"title\":{\"standoff\":15},\"zerolinecolor\":\"white\",\"zerolinewidth\":2},\"yaxis\":{\"automargin\":true,\"gridcolor\":\"white\",\"linecolor\":\"white\",\"ticks\":\"\",\"title\":{\"standoff\":15},\"zerolinecolor\":\"white\",\"zerolinewidth\":2}}},\"xaxis\":{\"title\":{\"text\":\"mensalidade\"}},\"yaxis\":{\"title\":{\"text\":\"value\"}}},                        {\"responsive\": true}                    )                };                            </script>        </div>\n",
       "</body>\n",
       "</html>"
      ]
     },
     "metadata": {
      "application/vnd.databricks.v1+output": {
       "addedWidgets": {},
       "arguments": {},
       "data": "<html>\n<head><meta charset=\"utf-8\" /></head>\n<body>\n    <div>            <script src=\"https://cdnjs.cloudflare.com/ajax/libs/mathjax/2.7.5/MathJax.js?config=TeX-AMS-MML_SVG\"></script><script type=\"text/javascript\">if (window.MathJax) {MathJax.Hub.Config({SVG: {font: \"STIX-Web\"}});}</script>                <script type=\"text/javascript\">window.PlotlyConfig = {MathJaxConfig: 'local'};</script>\n        <script src=\"https://cdn.plot.ly/plotly-2.9.0.min.js\"></script>                <div id=\"16bddeff-b058-4884-a7be-c7fd93fc68d7\" class=\"plotly-graph-div\" style=\"height:100%; width:100%;\"></div>            <script type=\"text/javascript\">                                    window.PLOTLYENV=window.PLOTLYENV || {};                                    if (document.getElementById(\"16bddeff-b058-4884-a7be-c7fd93fc68d7\")) {                    Plotly.newPlot(                        \"16bddeff-b058-4884-a7be-c7fd93fc68d7\",                        [{\"boxpoints\":\"suspectedoutliers\",\"lowerfence\":[6113.0],\"mean\":[8007.354666666666],\"median\":[8295.0],\"name\":\"mensalidade\",\"notched\":false,\"q1\":[7130.0],\"q3\":[8608.54],\"upperfence\":[9815.61],\"type\":\"box\"}],                        {\"template\":{\"data\":{\"bar\":[{\"error_x\":{\"color\":\"#2a3f5f\"},\"error_y\":{\"color\":\"#2a3f5f\"},\"marker\":{\"line\":{\"color\":\"#E5ECF6\",\"width\":0.5},\"pattern\":{\"fillmode\":\"overlay\",\"size\":10,\"solidity\":0.2}},\"type\":\"bar\"}],\"barpolar\":[{\"marker\":{\"line\":{\"color\":\"#E5ECF6\",\"width\":0.5},\"pattern\":{\"fillmode\":\"overlay\",\"size\":10,\"solidity\":0.2}},\"type\":\"barpolar\"}],\"carpet\":[{\"aaxis\":{\"endlinecolor\":\"#2a3f5f\",\"gridcolor\":\"white\",\"linecolor\":\"white\",\"minorgridcolor\":\"white\",\"startlinecolor\":\"#2a3f5f\"},\"baxis\":{\"endlinecolor\":\"#2a3f5f\",\"gridcolor\":\"white\",\"linecolor\":\"white\",\"minorgridcolor\":\"white\",\"startlinecolor\":\"#2a3f5f\"},\"type\":\"carpet\"}],\"choropleth\":[{\"colorbar\":{\"outlinewidth\":0,\"ticks\":\"\"},\"type\":\"choropleth\"}],\"contour\":[{\"colorbar\":{\"outlinewidth\":0,\"ticks\":\"\"},\"colorscale\":[[0.0,\"#0d0887\"],[0.1111111111111111,\"#46039f\"],[0.2222222222222222,\"#7201a8\"],[0.3333333333333333,\"#9c179e\"],[0.4444444444444444,\"#bd3786\"],[0.5555555555555556,\"#d8576b\"],[0.6666666666666666,\"#ed7953\"],[0.7777777777777778,\"#fb9f3a\"],[0.8888888888888888,\"#fdca26\"],[1.0,\"#f0f921\"]],\"type\":\"contour\"}],\"contourcarpet\":[{\"colorbar\":{\"outlinewidth\":0,\"ticks\":\"\"},\"type\":\"contourcarpet\"}],\"heatmap\":[{\"colorbar\":{\"outlinewidth\":0,\"ticks\":\"\"},\"colorscale\":[[0.0,\"#0d0887\"],[0.1111111111111111,\"#46039f\"],[0.2222222222222222,\"#7201a8\"],[0.3333333333333333,\"#9c179e\"],[0.4444444444444444,\"#bd3786\"],[0.5555555555555556,\"#d8576b\"],[0.6666666666666666,\"#ed7953\"],[0.7777777777777778,\"#fb9f3a\"],[0.8888888888888888,\"#fdca26\"],[1.0,\"#f0f921\"]],\"type\":\"heatmap\"}],\"heatmapgl\":[{\"colorbar\":{\"outlinewidth\":0,\"ticks\":\"\"},\"colorscale\":[[0.0,\"#0d0887\"],[0.1111111111111111,\"#46039f\"],[0.2222222222222222,\"#7201a8\"],[0.3333333333333333,\"#9c179e\"],[0.4444444444444444,\"#bd3786\"],[0.5555555555555556,\"#d8576b\"],[0.6666666666666666,\"#ed7953\"],[0.7777777777777778,\"#fb9f3a\"],[0.8888888888888888,\"#fdca26\"],[1.0,\"#f0f921\"]],\"type\":\"heatmapgl\"}],\"histogram\":[{\"marker\":{\"pattern\":{\"fillmode\":\"overlay\",\"size\":10,\"solidity\":0.2}},\"type\":\"histogram\"}],\"histogram2d\":[{\"colorbar\":{\"outlinewidth\":0,\"ticks\":\"\"},\"colorscale\":[[0.0,\"#0d0887\"],[0.1111111111111111,\"#46039f\"],[0.2222222222222222,\"#7201a8\"],[0.3333333333333333,\"#9c179e\"],[0.4444444444444444,\"#bd3786\"],[0.5555555555555556,\"#d8576b\"],[0.6666666666666666,\"#ed7953\"],[0.7777777777777778,\"#fb9f3a\"],[0.8888888888888888,\"#fdca26\"],[1.0,\"#f0f921\"]],\"type\":\"histogram2d\"}],\"histogram2dcontour\":[{\"colorbar\":{\"outlinewidth\":0,\"ticks\":\"\"},\"colorscale\":[[0.0,\"#0d0887\"],[0.1111111111111111,\"#46039f\"],[0.2222222222222222,\"#7201a8\"],[0.3333333333333333,\"#9c179e\"],[0.4444444444444444,\"#bd3786\"],[0.5555555555555556,\"#d8576b\"],[0.6666666666666666,\"#ed7953\"],[0.7777777777777778,\"#fb9f3a\"],[0.8888888888888888,\"#fdca26\"],[1.0,\"#f0f921\"]],\"type\":\"histogram2dcontour\"}],\"mesh3d\":[{\"colorbar\":{\"outlinewidth\":0,\"ticks\":\"\"},\"type\":\"mesh3d\"}],\"parcoords\":[{\"line\":{\"colorbar\":{\"outlinewidth\":0,\"ticks\":\"\"}},\"type\":\"parcoords\"}],\"pie\":[{\"automargin\":true,\"type\":\"pie\"}],\"scatter\":[{\"marker\":{\"colorbar\":{\"outlinewidth\":0,\"ticks\":\"\"}},\"type\":\"scatter\"}],\"scatter3d\":[{\"line\":{\"colorbar\":{\"outlinewidth\":0,\"ticks\":\"\"}},\"marker\":{\"colorbar\":{\"outlinewidth\":0,\"ticks\":\"\"}},\"type\":\"scatter3d\"}],\"scattercarpet\":[{\"marker\":{\"colorbar\":{\"outlinewidth\":0,\"ticks\":\"\"}},\"type\":\"scattercarpet\"}],\"scattergeo\":[{\"marker\":{\"colorbar\":{\"outlinewidth\":0,\"ticks\":\"\"}},\"type\":\"scattergeo\"}],\"scattergl\":[{\"marker\":{\"colorbar\":{\"outlinewidth\":0,\"ticks\":\"\"}},\"type\":\"scattergl\"}],\"scattermapbox\":[{\"marker\":{\"colorbar\":{\"outlinewidth\":0,\"ticks\":\"\"}},\"type\":\"scattermapbox\"}],\"scatterpolar\":[{\"marker\":{\"colorbar\":{\"outlinewidth\":0,\"ticks\":\"\"}},\"type\":\"scatterpolar\"}],\"scatterpolargl\":[{\"marker\":{\"colorbar\":{\"outlinewidth\":0,\"ticks\":\"\"}},\"type\":\"scatterpolargl\"}],\"scatterternary\":[{\"marker\":{\"colorbar\":{\"outlinewidth\":0,\"ticks\":\"\"}},\"type\":\"scatterternary\"}],\"surface\":[{\"colorbar\":{\"outlinewidth\":0,\"ticks\":\"\"},\"colorscale\":[[0.0,\"#0d0887\"],[0.1111111111111111,\"#46039f\"],[0.2222222222222222,\"#7201a8\"],[0.3333333333333333,\"#9c179e\"],[0.4444444444444444,\"#bd3786\"],[0.5555555555555556,\"#d8576b\"],[0.6666666666666666,\"#ed7953\"],[0.7777777777777778,\"#fb9f3a\"],[0.8888888888888888,\"#fdca26\"],[1.0,\"#f0f921\"]],\"type\":\"surface\"}],\"table\":[{\"cells\":{\"fill\":{\"color\":\"#EBF0F8\"},\"line\":{\"color\":\"white\"}},\"header\":{\"fill\":{\"color\":\"#C8D4E3\"},\"line\":{\"color\":\"white\"}},\"type\":\"table\"}]},\"layout\":{\"annotationdefaults\":{\"arrowcolor\":\"#2a3f5f\",\"arrowhead\":0,\"arrowwidth\":1},\"autotypenumbers\":\"strict\",\"coloraxis\":{\"colorbar\":{\"outlinewidth\":0,\"ticks\":\"\"}},\"colorscale\":{\"diverging\":[[0,\"#8e0152\"],[0.1,\"#c51b7d\"],[0.2,\"#de77ae\"],[0.3,\"#f1b6da\"],[0.4,\"#fde0ef\"],[0.5,\"#f7f7f7\"],[0.6,\"#e6f5d0\"],[0.7,\"#b8e186\"],[0.8,\"#7fbc41\"],[0.9,\"#4d9221\"],[1,\"#276419\"]],\"sequential\":[[0.0,\"#0d0887\"],[0.1111111111111111,\"#46039f\"],[0.2222222222222222,\"#7201a8\"],[0.3333333333333333,\"#9c179e\"],[0.4444444444444444,\"#bd3786\"],[0.5555555555555556,\"#d8576b\"],[0.6666666666666666,\"#ed7953\"],[0.7777777777777778,\"#fb9f3a\"],[0.8888888888888888,\"#fdca26\"],[1.0,\"#f0f921\"]],\"sequentialminus\":[[0.0,\"#0d0887\"],[0.1111111111111111,\"#46039f\"],[0.2222222222222222,\"#7201a8\"],[0.3333333333333333,\"#9c179e\"],[0.4444444444444444,\"#bd3786\"],[0.5555555555555556,\"#d8576b\"],[0.6666666666666666,\"#ed7953\"],[0.7777777777777778,\"#fb9f3a\"],[0.8888888888888888,\"#fdca26\"],[1.0,\"#f0f921\"]]},\"colorway\":[\"#636efa\",\"#EF553B\",\"#00cc96\",\"#ab63fa\",\"#FFA15A\",\"#19d3f3\",\"#FF6692\",\"#B6E880\",\"#FF97FF\",\"#FECB52\"],\"font\":{\"color\":\"#2a3f5f\"},\"geo\":{\"bgcolor\":\"white\",\"lakecolor\":\"white\",\"landcolor\":\"#E5ECF6\",\"showlakes\":true,\"showland\":true,\"subunitcolor\":\"white\"},\"hoverlabel\":{\"align\":\"left\"},\"hovermode\":\"closest\",\"mapbox\":{\"style\":\"light\"},\"paper_bgcolor\":\"white\",\"plot_bgcolor\":\"#E5ECF6\",\"polar\":{\"angularaxis\":{\"gridcolor\":\"white\",\"linecolor\":\"white\",\"ticks\":\"\"},\"bgcolor\":\"#E5ECF6\",\"radialaxis\":{\"gridcolor\":\"white\",\"linecolor\":\"white\",\"ticks\":\"\"}},\"scene\":{\"xaxis\":{\"backgroundcolor\":\"#E5ECF6\",\"gridcolor\":\"white\",\"gridwidth\":2,\"linecolor\":\"white\",\"showbackground\":true,\"ticks\":\"\",\"zerolinecolor\":\"white\"},\"yaxis\":{\"backgroundcolor\":\"#E5ECF6\",\"gridcolor\":\"white\",\"gridwidth\":2,\"linecolor\":\"white\",\"showbackground\":true,\"ticks\":\"\",\"zerolinecolor\":\"white\"},\"zaxis\":{\"backgroundcolor\":\"#E5ECF6\",\"gridcolor\":\"white\",\"gridwidth\":2,\"linecolor\":\"white\",\"showbackground\":true,\"ticks\":\"\",\"zerolinecolor\":\"white\"}},\"shapedefaults\":{\"line\":{\"color\":\"#2a3f5f\"}},\"ternary\":{\"aaxis\":{\"gridcolor\":\"white\",\"linecolor\":\"white\",\"ticks\":\"\"},\"baxis\":{\"gridcolor\":\"white\",\"linecolor\":\"white\",\"ticks\":\"\"},\"bgcolor\":\"#E5ECF6\",\"caxis\":{\"gridcolor\":\"white\",\"linecolor\":\"white\",\"ticks\":\"\"}},\"title\":{\"x\":0.05},\"xaxis\":{\"automargin\":true,\"gridcolor\":\"white\",\"linecolor\":\"white\",\"ticks\":\"\",\"title\":{\"standoff\":15},\"zerolinecolor\":\"white\",\"zerolinewidth\":2},\"yaxis\":{\"automargin\":true,\"gridcolor\":\"white\",\"linecolor\":\"white\",\"ticks\":\"\",\"title\":{\"standoff\":15},\"zerolinecolor\":\"white\",\"zerolinewidth\":2}}},\"xaxis\":{\"title\":{\"text\":\"mensalidade\"}},\"yaxis\":{\"title\":{\"text\":\"value\"}}},                        {\"responsive\": true}                    )                };                            </script>        </div>\n</body>\n</html>",
       "datasetInfos": [],
       "metadata": {},
       "removedWidgets": [],
       "textData": null,
       "type": "htmlSandbox"
      }
     },
     "output_type": "display_data"
    }
   ],
   "source": [
    "df[df['nome_curso']=='Medicina']['mensalidade'].plot.box()"
   ]
  },
  {
   "cell_type": "code",
   "execution_count": 0,
   "metadata": {
    "application/vnd.databricks.v1+cell": {
     "cellMetadata": {
      "byteLimit": 2048000,
      "rowLimit": 10000
     },
     "inputWidgets": {},
     "nuid": "6a9c7f5a-0d54-4a20-94fd-870fd6e64420",
     "showTitle": false,
     "tableResultSettingsMap": {},
     "title": ""
    }
   },
   "outputs": [
    {
     "output_type": "display_data",
     "data": {
      "text/html": [
       "<html>\n",
       "<head><meta charset=\"utf-8\" /></head>\n",
       "<body>\n",
       "    <div>            <script src=\"https://cdnjs.cloudflare.com/ajax/libs/mathjax/2.7.5/MathJax.js?config=TeX-AMS-MML_SVG\"></script><script type=\"text/javascript\">if (window.MathJax) {MathJax.Hub.Config({SVG: {font: \"STIX-Web\"}});}</script>                <script type=\"text/javascript\">window.PlotlyConfig = {MathJaxConfig: 'local'};</script>\n",
       "        <script src=\"https://cdn.plot.ly/plotly-2.9.0.min.js\"></script>                <div id=\"af694639-40d7-44e3-a9a4-ee0e2f690520\" class=\"plotly-graph-div\" style=\"height:100%; width:100%;\"></div>            <script type=\"text/javascript\">                                    window.PLOTLYENV=window.PLOTLYENV || {};                                    if (document.getElementById(\"af694639-40d7-44e3-a9a4-ee0e2f690520\")) {                    Plotly.newPlot(                        \"af694639-40d7-44e3-a9a4-ee0e2f690520\",                        [{\"boxpoints\":\"suspectedoutliers\",\"fillcolor\":\"red\",\"lowerfence\":[588.25],\"mean\":[1007.7041489361704],\"median\":[967.13],\"name\":\"mensalidade\",\"notched\":false,\"q1\":[747.0],\"q3\":[1150.0],\"upperfence\":[1560.55],\"y\":[[1833.25,2037.0,2037.0]],\"type\":\"box\"}],                        {\"template\":{\"data\":{\"bar\":[{\"error_x\":{\"color\":\"#2a3f5f\"},\"error_y\":{\"color\":\"#2a3f5f\"},\"marker\":{\"line\":{\"color\":\"#E5ECF6\",\"width\":0.5},\"pattern\":{\"fillmode\":\"overlay\",\"size\":10,\"solidity\":0.2}},\"type\":\"bar\"}],\"barpolar\":[{\"marker\":{\"line\":{\"color\":\"#E5ECF6\",\"width\":0.5},\"pattern\":{\"fillmode\":\"overlay\",\"size\":10,\"solidity\":0.2}},\"type\":\"barpolar\"}],\"carpet\":[{\"aaxis\":{\"endlinecolor\":\"#2a3f5f\",\"gridcolor\":\"white\",\"linecolor\":\"white\",\"minorgridcolor\":\"white\",\"startlinecolor\":\"#2a3f5f\"},\"baxis\":{\"endlinecolor\":\"#2a3f5f\",\"gridcolor\":\"white\",\"linecolor\":\"white\",\"minorgridcolor\":\"white\",\"startlinecolor\":\"#2a3f5f\"},\"type\":\"carpet\"}],\"choropleth\":[{\"colorbar\":{\"outlinewidth\":0,\"ticks\":\"\"},\"type\":\"choropleth\"}],\"contour\":[{\"colorbar\":{\"outlinewidth\":0,\"ticks\":\"\"},\"colorscale\":[[0.0,\"#0d0887\"],[0.1111111111111111,\"#46039f\"],[0.2222222222222222,\"#7201a8\"],[0.3333333333333333,\"#9c179e\"],[0.4444444444444444,\"#bd3786\"],[0.5555555555555556,\"#d8576b\"],[0.6666666666666666,\"#ed7953\"],[0.7777777777777778,\"#fb9f3a\"],[0.8888888888888888,\"#fdca26\"],[1.0,\"#f0f921\"]],\"type\":\"contour\"}],\"contourcarpet\":[{\"colorbar\":{\"outlinewidth\":0,\"ticks\":\"\"},\"type\":\"contourcarpet\"}],\"heatmap\":[{\"colorbar\":{\"outlinewidth\":0,\"ticks\":\"\"},\"colorscale\":[[0.0,\"#0d0887\"],[0.1111111111111111,\"#46039f\"],[0.2222222222222222,\"#7201a8\"],[0.3333333333333333,\"#9c179e\"],[0.4444444444444444,\"#bd3786\"],[0.5555555555555556,\"#d8576b\"],[0.6666666666666666,\"#ed7953\"],[0.7777777777777778,\"#fb9f3a\"],[0.8888888888888888,\"#fdca26\"],[1.0,\"#f0f921\"]],\"type\":\"heatmap\"}],\"heatmapgl\":[{\"colorbar\":{\"outlinewidth\":0,\"ticks\":\"\"},\"colorscale\":[[0.0,\"#0d0887\"],[0.1111111111111111,\"#46039f\"],[0.2222222222222222,\"#7201a8\"],[0.3333333333333333,\"#9c179e\"],[0.4444444444444444,\"#bd3786\"],[0.5555555555555556,\"#d8576b\"],[0.6666666666666666,\"#ed7953\"],[0.7777777777777778,\"#fb9f3a\"],[0.8888888888888888,\"#fdca26\"],[1.0,\"#f0f921\"]],\"type\":\"heatmapgl\"}],\"histogram\":[{\"marker\":{\"pattern\":{\"fillmode\":\"overlay\",\"size\":10,\"solidity\":0.2}},\"type\":\"histogram\"}],\"histogram2d\":[{\"colorbar\":{\"outlinewidth\":0,\"ticks\":\"\"},\"colorscale\":[[0.0,\"#0d0887\"],[0.1111111111111111,\"#46039f\"],[0.2222222222222222,\"#7201a8\"],[0.3333333333333333,\"#9c179e\"],[0.4444444444444444,\"#bd3786\"],[0.5555555555555556,\"#d8576b\"],[0.6666666666666666,\"#ed7953\"],[0.7777777777777778,\"#fb9f3a\"],[0.8888888888888888,\"#fdca26\"],[1.0,\"#f0f921\"]],\"type\":\"histogram2d\"}],\"histogram2dcontour\":[{\"colorbar\":{\"outlinewidth\":0,\"ticks\":\"\"},\"colorscale\":[[0.0,\"#0d0887\"],[0.1111111111111111,\"#46039f\"],[0.2222222222222222,\"#7201a8\"],[0.3333333333333333,\"#9c179e\"],[0.4444444444444444,\"#bd3786\"],[0.5555555555555556,\"#d8576b\"],[0.6666666666666666,\"#ed7953\"],[0.7777777777777778,\"#fb9f3a\"],[0.8888888888888888,\"#fdca26\"],[1.0,\"#f0f921\"]],\"type\":\"histogram2dcontour\"}],\"mesh3d\":[{\"colorbar\":{\"outlinewidth\":0,\"ticks\":\"\"},\"type\":\"mesh3d\"}],\"parcoords\":[{\"line\":{\"colorbar\":{\"outlinewidth\":0,\"ticks\":\"\"}},\"type\":\"parcoords\"}],\"pie\":[{\"automargin\":true,\"type\":\"pie\"}],\"scatter\":[{\"marker\":{\"colorbar\":{\"outlinewidth\":0,\"ticks\":\"\"}},\"type\":\"scatter\"}],\"scatter3d\":[{\"line\":{\"colorbar\":{\"outlinewidth\":0,\"ticks\":\"\"}},\"marker\":{\"colorbar\":{\"outlinewidth\":0,\"ticks\":\"\"}},\"type\":\"scatter3d\"}],\"scattercarpet\":[{\"marker\":{\"colorbar\":{\"outlinewidth\":0,\"ticks\":\"\"}},\"type\":\"scattercarpet\"}],\"scattergeo\":[{\"marker\":{\"colorbar\":{\"outlinewidth\":0,\"ticks\":\"\"}},\"type\":\"scattergeo\"}],\"scattergl\":[{\"marker\":{\"colorbar\":{\"outlinewidth\":0,\"ticks\":\"\"}},\"type\":\"scattergl\"}],\"scattermapbox\":[{\"marker\":{\"colorbar\":{\"outlinewidth\":0,\"ticks\":\"\"}},\"type\":\"scattermapbox\"}],\"scatterpolar\":[{\"marker\":{\"colorbar\":{\"outlinewidth\":0,\"ticks\":\"\"}},\"type\":\"scatterpolar\"}],\"scatterpolargl\":[{\"marker\":{\"colorbar\":{\"outlinewidth\":0,\"ticks\":\"\"}},\"type\":\"scatterpolargl\"}],\"scatterternary\":[{\"marker\":{\"colorbar\":{\"outlinewidth\":0,\"ticks\":\"\"}},\"type\":\"scatterternary\"}],\"surface\":[{\"colorbar\":{\"outlinewidth\":0,\"ticks\":\"\"},\"colorscale\":[[0.0,\"#0d0887\"],[0.1111111111111111,\"#46039f\"],[0.2222222222222222,\"#7201a8\"],[0.3333333333333333,\"#9c179e\"],[0.4444444444444444,\"#bd3786\"],[0.5555555555555556,\"#d8576b\"],[0.6666666666666666,\"#ed7953\"],[0.7777777777777778,\"#fb9f3a\"],[0.8888888888888888,\"#fdca26\"],[1.0,\"#f0f921\"]],\"type\":\"surface\"}],\"table\":[{\"cells\":{\"fill\":{\"color\":\"#EBF0F8\"},\"line\":{\"color\":\"white\"}},\"header\":{\"fill\":{\"color\":\"#C8D4E3\"},\"line\":{\"color\":\"white\"}},\"type\":\"table\"}]},\"layout\":{\"annotationdefaults\":{\"arrowcolor\":\"#2a3f5f\",\"arrowhead\":0,\"arrowwidth\":1},\"autotypenumbers\":\"strict\",\"coloraxis\":{\"colorbar\":{\"outlinewidth\":0,\"ticks\":\"\"}},\"colorscale\":{\"diverging\":[[0,\"#8e0152\"],[0.1,\"#c51b7d\"],[0.2,\"#de77ae\"],[0.3,\"#f1b6da\"],[0.4,\"#fde0ef\"],[0.5,\"#f7f7f7\"],[0.6,\"#e6f5d0\"],[0.7,\"#b8e186\"],[0.8,\"#7fbc41\"],[0.9,\"#4d9221\"],[1,\"#276419\"]],\"sequential\":[[0.0,\"#0d0887\"],[0.1111111111111111,\"#46039f\"],[0.2222222222222222,\"#7201a8\"],[0.3333333333333333,\"#9c179e\"],[0.4444444444444444,\"#bd3786\"],[0.5555555555555556,\"#d8576b\"],[0.6666666666666666,\"#ed7953\"],[0.7777777777777778,\"#fb9f3a\"],[0.8888888888888888,\"#fdca26\"],[1.0,\"#f0f921\"]],\"sequentialminus\":[[0.0,\"#0d0887\"],[0.1111111111111111,\"#46039f\"],[0.2222222222222222,\"#7201a8\"],[0.3333333333333333,\"#9c179e\"],[0.4444444444444444,\"#bd3786\"],[0.5555555555555556,\"#d8576b\"],[0.6666666666666666,\"#ed7953\"],[0.7777777777777778,\"#fb9f3a\"],[0.8888888888888888,\"#fdca26\"],[1.0,\"#f0f921\"]]},\"colorway\":[\"#636efa\",\"#EF553B\",\"#00cc96\",\"#ab63fa\",\"#FFA15A\",\"#19d3f3\",\"#FF6692\",\"#B6E880\",\"#FF97FF\",\"#FECB52\"],\"font\":{\"color\":\"#2a3f5f\"},\"geo\":{\"bgcolor\":\"white\",\"lakecolor\":\"white\",\"landcolor\":\"#E5ECF6\",\"showlakes\":true,\"showland\":true,\"subunitcolor\":\"white\"},\"hoverlabel\":{\"align\":\"left\"},\"hovermode\":\"closest\",\"mapbox\":{\"style\":\"light\"},\"paper_bgcolor\":\"white\",\"plot_bgcolor\":\"#E5ECF6\",\"polar\":{\"angularaxis\":{\"gridcolor\":\"white\",\"linecolor\":\"white\",\"ticks\":\"\"},\"bgcolor\":\"#E5ECF6\",\"radialaxis\":{\"gridcolor\":\"white\",\"linecolor\":\"white\",\"ticks\":\"\"}},\"scene\":{\"xaxis\":{\"backgroundcolor\":\"#E5ECF6\",\"gridcolor\":\"white\",\"gridwidth\":2,\"linecolor\":\"white\",\"showbackground\":true,\"ticks\":\"\",\"zerolinecolor\":\"white\"},\"yaxis\":{\"backgroundcolor\":\"#E5ECF6\",\"gridcolor\":\"white\",\"gridwidth\":2,\"linecolor\":\"white\",\"showbackground\":true,\"ticks\":\"\",\"zerolinecolor\":\"white\"},\"zaxis\":{\"backgroundcolor\":\"#E5ECF6\",\"gridcolor\":\"white\",\"gridwidth\":2,\"linecolor\":\"white\",\"showbackground\":true,\"ticks\":\"\",\"zerolinecolor\":\"white\"}},\"shapedefaults\":{\"line\":{\"color\":\"#2a3f5f\"}},\"ternary\":{\"aaxis\":{\"gridcolor\":\"white\",\"linecolor\":\"white\",\"ticks\":\"\"},\"baxis\":{\"gridcolor\":\"white\",\"linecolor\":\"white\",\"ticks\":\"\"},\"bgcolor\":\"#E5ECF6\",\"caxis\":{\"gridcolor\":\"white\",\"linecolor\":\"white\",\"ticks\":\"\"}},\"title\":{\"x\":0.05},\"xaxis\":{\"automargin\":true,\"gridcolor\":\"white\",\"linecolor\":\"white\",\"ticks\":\"\",\"title\":{\"standoff\":15},\"zerolinecolor\":\"white\",\"zerolinewidth\":2},\"yaxis\":{\"automargin\":true,\"gridcolor\":\"white\",\"linecolor\":\"white\",\"ticks\":\"\",\"title\":{\"standoff\":15},\"zerolinecolor\":\"white\",\"zerolinewidth\":2}}},\"xaxis\":{\"title\":{\"text\":\"mensalidade\"}},\"yaxis\":{\"title\":{\"text\":\"value\"}}},                        {\"responsive\": true}                    )                };                            </script>        </div>\n",
       "</body>\n",
       "</html>"
      ]
     },
     "metadata": {
      "application/vnd.databricks.v1+output": {
       "addedWidgets": {},
       "arguments": {},
       "data": "<html>\n<head><meta charset=\"utf-8\" /></head>\n<body>\n    <div>            <script src=\"https://cdnjs.cloudflare.com/ajax/libs/mathjax/2.7.5/MathJax.js?config=TeX-AMS-MML_SVG\"></script><script type=\"text/javascript\">if (window.MathJax) {MathJax.Hub.Config({SVG: {font: \"STIX-Web\"}});}</script>                <script type=\"text/javascript\">window.PlotlyConfig = {MathJaxConfig: 'local'};</script>\n        <script src=\"https://cdn.plot.ly/plotly-2.9.0.min.js\"></script>                <div id=\"af694639-40d7-44e3-a9a4-ee0e2f690520\" class=\"plotly-graph-div\" style=\"height:100%; width:100%;\"></div>            <script type=\"text/javascript\">                                    window.PLOTLYENV=window.PLOTLYENV || {};                                    if (document.getElementById(\"af694639-40d7-44e3-a9a4-ee0e2f690520\")) {                    Plotly.newPlot(                        \"af694639-40d7-44e3-a9a4-ee0e2f690520\",                        [{\"boxpoints\":\"suspectedoutliers\",\"fillcolor\":\"red\",\"lowerfence\":[588.25],\"mean\":[1007.7041489361704],\"median\":[967.13],\"name\":\"mensalidade\",\"notched\":false,\"q1\":[747.0],\"q3\":[1150.0],\"upperfence\":[1560.55],\"y\":[[1833.25,2037.0,2037.0]],\"type\":\"box\"}],                        {\"template\":{\"data\":{\"bar\":[{\"error_x\":{\"color\":\"#2a3f5f\"},\"error_y\":{\"color\":\"#2a3f5f\"},\"marker\":{\"line\":{\"color\":\"#E5ECF6\",\"width\":0.5},\"pattern\":{\"fillmode\":\"overlay\",\"size\":10,\"solidity\":0.2}},\"type\":\"bar\"}],\"barpolar\":[{\"marker\":{\"line\":{\"color\":\"#E5ECF6\",\"width\":0.5},\"pattern\":{\"fillmode\":\"overlay\",\"size\":10,\"solidity\":0.2}},\"type\":\"barpolar\"}],\"carpet\":[{\"aaxis\":{\"endlinecolor\":\"#2a3f5f\",\"gridcolor\":\"white\",\"linecolor\":\"white\",\"minorgridcolor\":\"white\",\"startlinecolor\":\"#2a3f5f\"},\"baxis\":{\"endlinecolor\":\"#2a3f5f\",\"gridcolor\":\"white\",\"linecolor\":\"white\",\"minorgridcolor\":\"white\",\"startlinecolor\":\"#2a3f5f\"},\"type\":\"carpet\"}],\"choropleth\":[{\"colorbar\":{\"outlinewidth\":0,\"ticks\":\"\"},\"type\":\"choropleth\"}],\"contour\":[{\"colorbar\":{\"outlinewidth\":0,\"ticks\":\"\"},\"colorscale\":[[0.0,\"#0d0887\"],[0.1111111111111111,\"#46039f\"],[0.2222222222222222,\"#7201a8\"],[0.3333333333333333,\"#9c179e\"],[0.4444444444444444,\"#bd3786\"],[0.5555555555555556,\"#d8576b\"],[0.6666666666666666,\"#ed7953\"],[0.7777777777777778,\"#fb9f3a\"],[0.8888888888888888,\"#fdca26\"],[1.0,\"#f0f921\"]],\"type\":\"contour\"}],\"contourcarpet\":[{\"colorbar\":{\"outlinewidth\":0,\"ticks\":\"\"},\"type\":\"contourcarpet\"}],\"heatmap\":[{\"colorbar\":{\"outlinewidth\":0,\"ticks\":\"\"},\"colorscale\":[[0.0,\"#0d0887\"],[0.1111111111111111,\"#46039f\"],[0.2222222222222222,\"#7201a8\"],[0.3333333333333333,\"#9c179e\"],[0.4444444444444444,\"#bd3786\"],[0.5555555555555556,\"#d8576b\"],[0.6666666666666666,\"#ed7953\"],[0.7777777777777778,\"#fb9f3a\"],[0.8888888888888888,\"#fdca26\"],[1.0,\"#f0f921\"]],\"type\":\"heatmap\"}],\"heatmapgl\":[{\"colorbar\":{\"outlinewidth\":0,\"ticks\":\"\"},\"colorscale\":[[0.0,\"#0d0887\"],[0.1111111111111111,\"#46039f\"],[0.2222222222222222,\"#7201a8\"],[0.3333333333333333,\"#9c179e\"],[0.4444444444444444,\"#bd3786\"],[0.5555555555555556,\"#d8576b\"],[0.6666666666666666,\"#ed7953\"],[0.7777777777777778,\"#fb9f3a\"],[0.8888888888888888,\"#fdca26\"],[1.0,\"#f0f921\"]],\"type\":\"heatmapgl\"}],\"histogram\":[{\"marker\":{\"pattern\":{\"fillmode\":\"overlay\",\"size\":10,\"solidity\":0.2}},\"type\":\"histogram\"}],\"histogram2d\":[{\"colorbar\":{\"outlinewidth\":0,\"ticks\":\"\"},\"colorscale\":[[0.0,\"#0d0887\"],[0.1111111111111111,\"#46039f\"],[0.2222222222222222,\"#7201a8\"],[0.3333333333333333,\"#9c179e\"],[0.4444444444444444,\"#bd3786\"],[0.5555555555555556,\"#d8576b\"],[0.6666666666666666,\"#ed7953\"],[0.7777777777777778,\"#fb9f3a\"],[0.8888888888888888,\"#fdca26\"],[1.0,\"#f0f921\"]],\"type\":\"histogram2d\"}],\"histogram2dcontour\":[{\"colorbar\":{\"outlinewidth\":0,\"ticks\":\"\"},\"colorscale\":[[0.0,\"#0d0887\"],[0.1111111111111111,\"#46039f\"],[0.2222222222222222,\"#7201a8\"],[0.3333333333333333,\"#9c179e\"],[0.4444444444444444,\"#bd3786\"],[0.5555555555555556,\"#d8576b\"],[0.6666666666666666,\"#ed7953\"],[0.7777777777777778,\"#fb9f3a\"],[0.8888888888888888,\"#fdca26\"],[1.0,\"#f0f921\"]],\"type\":\"histogram2dcontour\"}],\"mesh3d\":[{\"colorbar\":{\"outlinewidth\":0,\"ticks\":\"\"},\"type\":\"mesh3d\"}],\"parcoords\":[{\"line\":{\"colorbar\":{\"outlinewidth\":0,\"ticks\":\"\"}},\"type\":\"parcoords\"}],\"pie\":[{\"automargin\":true,\"type\":\"pie\"}],\"scatter\":[{\"marker\":{\"colorbar\":{\"outlinewidth\":0,\"ticks\":\"\"}},\"type\":\"scatter\"}],\"scatter3d\":[{\"line\":{\"colorbar\":{\"outlinewidth\":0,\"ticks\":\"\"}},\"marker\":{\"colorbar\":{\"outlinewidth\":0,\"ticks\":\"\"}},\"type\":\"scatter3d\"}],\"scattercarpet\":[{\"marker\":{\"colorbar\":{\"outlinewidth\":0,\"ticks\":\"\"}},\"type\":\"scattercarpet\"}],\"scattergeo\":[{\"marker\":{\"colorbar\":{\"outlinewidth\":0,\"ticks\":\"\"}},\"type\":\"scattergeo\"}],\"scattergl\":[{\"marker\":{\"colorbar\":{\"outlinewidth\":0,\"ticks\":\"\"}},\"type\":\"scattergl\"}],\"scattermapbox\":[{\"marker\":{\"colorbar\":{\"outlinewidth\":0,\"ticks\":\"\"}},\"type\":\"scattermapbox\"}],\"scatterpolar\":[{\"marker\":{\"colorbar\":{\"outlinewidth\":0,\"ticks\":\"\"}},\"type\":\"scatterpolar\"}],\"scatterpolargl\":[{\"marker\":{\"colorbar\":{\"outlinewidth\":0,\"ticks\":\"\"}},\"type\":\"scatterpolargl\"}],\"scatterternary\":[{\"marker\":{\"colorbar\":{\"outlinewidth\":0,\"ticks\":\"\"}},\"type\":\"scatterternary\"}],\"surface\":[{\"colorbar\":{\"outlinewidth\":0,\"ticks\":\"\"},\"colorscale\":[[0.0,\"#0d0887\"],[0.1111111111111111,\"#46039f\"],[0.2222222222222222,\"#7201a8\"],[0.3333333333333333,\"#9c179e\"],[0.4444444444444444,\"#bd3786\"],[0.5555555555555556,\"#d8576b\"],[0.6666666666666666,\"#ed7953\"],[0.7777777777777778,\"#fb9f3a\"],[0.8888888888888888,\"#fdca26\"],[1.0,\"#f0f921\"]],\"type\":\"surface\"}],\"table\":[{\"cells\":{\"fill\":{\"color\":\"#EBF0F8\"},\"line\":{\"color\":\"white\"}},\"header\":{\"fill\":{\"color\":\"#C8D4E3\"},\"line\":{\"color\":\"white\"}},\"type\":\"table\"}]},\"layout\":{\"annotationdefaults\":{\"arrowcolor\":\"#2a3f5f\",\"arrowhead\":0,\"arrowwidth\":1},\"autotypenumbers\":\"strict\",\"coloraxis\":{\"colorbar\":{\"outlinewidth\":0,\"ticks\":\"\"}},\"colorscale\":{\"diverging\":[[0,\"#8e0152\"],[0.1,\"#c51b7d\"],[0.2,\"#de77ae\"],[0.3,\"#f1b6da\"],[0.4,\"#fde0ef\"],[0.5,\"#f7f7f7\"],[0.6,\"#e6f5d0\"],[0.7,\"#b8e186\"],[0.8,\"#7fbc41\"],[0.9,\"#4d9221\"],[1,\"#276419\"]],\"sequential\":[[0.0,\"#0d0887\"],[0.1111111111111111,\"#46039f\"],[0.2222222222222222,\"#7201a8\"],[0.3333333333333333,\"#9c179e\"],[0.4444444444444444,\"#bd3786\"],[0.5555555555555556,\"#d8576b\"],[0.6666666666666666,\"#ed7953\"],[0.7777777777777778,\"#fb9f3a\"],[0.8888888888888888,\"#fdca26\"],[1.0,\"#f0f921\"]],\"sequentialminus\":[[0.0,\"#0d0887\"],[0.1111111111111111,\"#46039f\"],[0.2222222222222222,\"#7201a8\"],[0.3333333333333333,\"#9c179e\"],[0.4444444444444444,\"#bd3786\"],[0.5555555555555556,\"#d8576b\"],[0.6666666666666666,\"#ed7953\"],[0.7777777777777778,\"#fb9f3a\"],[0.8888888888888888,\"#fdca26\"],[1.0,\"#f0f921\"]]},\"colorway\":[\"#636efa\",\"#EF553B\",\"#00cc96\",\"#ab63fa\",\"#FFA15A\",\"#19d3f3\",\"#FF6692\",\"#B6E880\",\"#FF97FF\",\"#FECB52\"],\"font\":{\"color\":\"#2a3f5f\"},\"geo\":{\"bgcolor\":\"white\",\"lakecolor\":\"white\",\"landcolor\":\"#E5ECF6\",\"showlakes\":true,\"showland\":true,\"subunitcolor\":\"white\"},\"hoverlabel\":{\"align\":\"left\"},\"hovermode\":\"closest\",\"mapbox\":{\"style\":\"light\"},\"paper_bgcolor\":\"white\",\"plot_bgcolor\":\"#E5ECF6\",\"polar\":{\"angularaxis\":{\"gridcolor\":\"white\",\"linecolor\":\"white\",\"ticks\":\"\"},\"bgcolor\":\"#E5ECF6\",\"radialaxis\":{\"gridcolor\":\"white\",\"linecolor\":\"white\",\"ticks\":\"\"}},\"scene\":{\"xaxis\":{\"backgroundcolor\":\"#E5ECF6\",\"gridcolor\":\"white\",\"gridwidth\":2,\"linecolor\":\"white\",\"showbackground\":true,\"ticks\":\"\",\"zerolinecolor\":\"white\"},\"yaxis\":{\"backgroundcolor\":\"#E5ECF6\",\"gridcolor\":\"white\",\"gridwidth\":2,\"linecolor\":\"white\",\"showbackground\":true,\"ticks\":\"\",\"zerolinecolor\":\"white\"},\"zaxis\":{\"backgroundcolor\":\"#E5ECF6\",\"gridcolor\":\"white\",\"gridwidth\":2,\"linecolor\":\"white\",\"showbackground\":true,\"ticks\":\"\",\"zerolinecolor\":\"white\"}},\"shapedefaults\":{\"line\":{\"color\":\"#2a3f5f\"}},\"ternary\":{\"aaxis\":{\"gridcolor\":\"white\",\"linecolor\":\"white\",\"ticks\":\"\"},\"baxis\":{\"gridcolor\":\"white\",\"linecolor\":\"white\",\"ticks\":\"\"},\"bgcolor\":\"#E5ECF6\",\"caxis\":{\"gridcolor\":\"white\",\"linecolor\":\"white\",\"ticks\":\"\"}},\"title\":{\"x\":0.05},\"xaxis\":{\"automargin\":true,\"gridcolor\":\"white\",\"linecolor\":\"white\",\"ticks\":\"\",\"title\":{\"standoff\":15},\"zerolinecolor\":\"white\",\"zerolinewidth\":2},\"yaxis\":{\"automargin\":true,\"gridcolor\":\"white\",\"linecolor\":\"white\",\"ticks\":\"\",\"title\":{\"standoff\":15},\"zerolinecolor\":\"white\",\"zerolinewidth\":2}}},\"xaxis\":{\"title\":{\"text\":\"mensalidade\"}},\"yaxis\":{\"title\":{\"text\":\"value\"}}},                        {\"responsive\": true}                    )                };                            </script>        </div>\n</body>\n</html>",
       "datasetInfos": [],
       "metadata": {},
       "removedWidgets": [],
       "textData": null,
       "type": "htmlSandbox"
      }
     },
     "output_type": "display_data"
    }
   ],
   "source": [
    "df[df['nome_curso']=='Enfermagem']['mensalidade'].plot.box(fillcolor='red')"
   ]
  },
  {
   "cell_type": "code",
   "execution_count": 0,
   "metadata": {
    "application/vnd.databricks.v1+cell": {
     "cellMetadata": {
      "byteLimit": 2048000,
      "rowLimit": 10000
     },
     "inputWidgets": {},
     "nuid": "d9bf67c7-b446-4e27-9664-9aa249fe8700",
     "showTitle": false,
     "tableResultSettingsMap": {},
     "title": ""
    }
   },
   "outputs": [
    {
     "output_type": "stream",
     "name": "stdout",
     "output_type": "stream",
     "text": [
      "Out[57]: 0             Faculdades Integradas Pitágoras - FIP-MOC\n1          Faculdade da Saúde e Ecologia Humana - FASEH\n2                          Faculdade das Américas - FAM\n3           Faculdade Metropolitana da Amazônia - FAMAZ\n4     Faculdade de Ciências Médicas da Paraíba - FCM-PB\n5                      Faculdade Redentor - FACREDENTOR\n6                   Faculdade Barão do Rio Branco - FAB\n7             Universidade Cidade de São Paulo - UNICID\n8        Centro Universitário Integrado de Campo Mourão\n9                     Faculdade Campo Real - CAMPO REAL\n10               Centro Universitário São Lucas - UniSL\n11              Faculdade Brasileira - MULTIVIX VITÓRIA\n12          Universidade do Ceuma - Uniceuma - UNICEUMA\n13                     Universidade de Franca - UNIFRAN\nName: universidade_nome, dtype: object"
     ]
    }
   ],
   "source": [
    "df_medicina['universidade_nome'].unique()"
   ]
  },
  {
   "cell_type": "code",
   "execution_count": 0,
   "metadata": {
    "application/vnd.databricks.v1+cell": {
     "cellMetadata": {
      "byteLimit": 2048000,
      "rowLimit": 10000
     },
     "inputWidgets": {},
     "nuid": "77acaba8-2d57-4784-9810-f74379d3a610",
     "showTitle": false,
     "tableResultSettingsMap": {},
     "title": ""
    }
   },
   "outputs": [
    {
     "output_type": "display_data",
     "data": {
      "text/html": [
       "<div>\n",
       "<style scoped>\n",
       "    .dataframe tbody tr th:only-of-type {\n",
       "        vertical-align: middle;\n",
       "    }\n",
       "\n",
       "    .dataframe tbody tr th {\n",
       "        vertical-align: top;\n",
       "    }\n",
       "\n",
       "    .dataframe thead th {\n",
       "        text-align: right;\n",
       "    }\n",
       "</style>\n",
       "<table border=\"1\" class=\"dataframe\">\n",
       "  <thead>\n",
       "    <tr style=\"text-align: right;\">\n",
       "      <th></th>\n",
       "      <th>universidade_nome</th>\n",
       "    </tr>\n",
       "  </thead>\n",
       "  <tbody>\n",
       "    <tr>\n",
       "      <th>2</th>\n",
       "      <td>Universidade Cidade de São Paulo - UNICID</td>\n",
       "    </tr>\n",
       "    <tr>\n",
       "      <th>20</th>\n",
       "      <td>Universidade do Ceuma - Uniceuma - UNICEUMA</td>\n",
       "    </tr>\n",
       "    <tr>\n",
       "      <th>21</th>\n",
       "      <td>Universidade do Ceuma - Uniceuma - UNICEUMA</td>\n",
       "    </tr>\n",
       "    <tr>\n",
       "      <th>71</th>\n",
       "      <td>Universidade de Franca - UNIFRAN</td>\n",
       "    </tr>\n",
       "  </tbody>\n",
       "</table>\n",
       "</div>"
      ]
     },
     "metadata": {
      "application/vnd.databricks.v1+output": {
       "addedWidgets": {},
       "arguments": {},
       "data": "<div>\n<style scoped>\n    .dataframe tbody tr th:only-of-type {\n        vertical-align: middle;\n    }\n\n    .dataframe tbody tr th {\n        vertical-align: top;\n    }\n\n    .dataframe thead th {\n        text-align: right;\n    }\n</style>\n<table border=\"1\" class=\"dataframe\">\n  <thead>\n    <tr style=\"text-align: right;\">\n      <th></th>\n      <th>universidade_nome</th>\n    </tr>\n  </thead>\n  <tbody>\n    <tr>\n      <th>2</th>\n      <td>Universidade Cidade de São Paulo - UNICID</td>\n    </tr>\n    <tr>\n      <th>20</th>\n      <td>Universidade do Ceuma - Uniceuma - UNICEUMA</td>\n    </tr>\n    <tr>\n      <th>21</th>\n      <td>Universidade do Ceuma - Uniceuma - UNICEUMA</td>\n    </tr>\n    <tr>\n      <th>71</th>\n      <td>Universidade de Franca - UNIFRAN</td>\n    </tr>\n  </tbody>\n</table>\n</div>",
       "datasetInfos": [],
       "metadata": {},
       "removedWidgets": [],
       "textData": null,
       "type": "htmlSandbox"
      }
     },
     "output_type": "display_data"
    }
   ],
   "source": [
    "selecao = df_medicina[df_medicina['universidade_nome'].str.contains('Universidade')][['universidade_nome']]\n",
    "selecao"
   ]
  },
  {
   "cell_type": "code",
   "execution_count": 0,
   "metadata": {
    "application/vnd.databricks.v1+cell": {
     "cellMetadata": {
      "byteLimit": 2048000,
      "rowLimit": 10000
     },
     "inputWidgets": {},
     "nuid": "4836aa8b-fb95-4654-9db7-f27f366fb619",
     "showTitle": false,
     "tableResultSettingsMap": {},
     "title": ""
    }
   },
   "outputs": [
    {
     "output_type": "stream",
     "name": "stdout",
     "output_type": "stream",
     "text": [
      "Out[59]: 3"
     ]
    }
   ],
   "source": [
    "selecao['universidade_nome'].unique().count()"
   ]
  },
  {
   "cell_type": "code",
   "execution_count": 0,
   "metadata": {
    "application/vnd.databricks.v1+cell": {
     "cellMetadata": {
      "byteLimit": 2048000,
      "rowLimit": 10000
     },
     "inputWidgets": {},
     "nuid": "462c0c48-f709-48a3-890a-34ec21e57086",
     "showTitle": false,
     "tableResultSettingsMap": {},
     "title": ""
    }
   },
   "outputs": [
    {
     "output_type": "stream",
     "name": "stdout",
     "output_type": "stream",
     "text": [
      "Out[60]: 'Centro Universitário Integrado de Campo Mourão - CUICM'"
     ]
    }
   ],
   "source": [
    "df_medicina['universidade_nome'].loc[42] = 'Centro Universitário Integrado de Campo Mourão - CUICM'\n",
    "df_medicina['universidade_nome'].loc[42] "
   ]
  },
  {
   "cell_type": "code",
   "execution_count": 0,
   "metadata": {
    "application/vnd.databricks.v1+cell": {
     "cellMetadata": {
      "byteLimit": 2048000,
      "rowLimit": 10000
     },
     "inputWidgets": {},
     "nuid": "06928efb-53dd-47a2-be2a-14f450562c70",
     "showTitle": false,
     "tableResultSettingsMap": {},
     "title": ""
    }
   },
   "outputs": [
    {
     "output_type": "display_data",
     "data": {
      "text/html": [
       "<div>\n",
       "<style scoped>\n",
       "    .dataframe tbody tr th:only-of-type {\n",
       "        vertical-align: middle;\n",
       "    }\n",
       "\n",
       "    .dataframe tbody tr th {\n",
       "        vertical-align: top;\n",
       "    }\n",
       "\n",
       "    .dataframe thead th {\n",
       "        text-align: right;\n",
       "    }\n",
       "</style>\n",
       "<table border=\"1\" class=\"dataframe\">\n",
       "  <thead>\n",
       "    <tr style=\"text-align: right;\">\n",
       "      <th></th>\n",
       "      <th>0</th>\n",
       "      <th>1</th>\n",
       "    </tr>\n",
       "  </thead>\n",
       "  <tbody>\n",
       "    <tr>\n",
       "      <th>22</th>\n",
       "      <td>Faculdade das Américas</td>\n",
       "      <td>FAM</td>\n",
       "    </tr>\n",
       "    <tr>\n",
       "      <th>71</th>\n",
       "      <td>Universidade de Franca</td>\n",
       "      <td>UNIFRAN</td>\n",
       "    </tr>\n",
       "    <tr>\n",
       "      <th>87</th>\n",
       "      <td>Centro Universitário São Lucas</td>\n",
       "      <td>UniSL</td>\n",
       "    </tr>\n",
       "    <tr>\n",
       "      <th>107</th>\n",
       "      <td>Faculdade Campo Real</td>\n",
       "      <td>CAMPO REAL</td>\n",
       "    </tr>\n",
       "    <tr>\n",
       "      <th>10</th>\n",
       "      <td>Faculdade Redentor</td>\n",
       "      <td>FACREDENTOR</td>\n",
       "    </tr>\n",
       "    <tr>\n",
       "      <th>120</th>\n",
       "      <td>Faculdade Brasileira</td>\n",
       "      <td>MULTIVIX VITÓRIA</td>\n",
       "    </tr>\n",
       "    <tr>\n",
       "      <th>80</th>\n",
       "      <td>Faculdades Integradas Pitágoras</td>\n",
       "      <td>FIP-MOC</td>\n",
       "    </tr>\n",
       "    <tr>\n",
       "      <th>2</th>\n",
       "      <td>Universidade Cidade de São Paulo</td>\n",
       "      <td>UNICID</td>\n",
       "    </tr>\n",
       "    <tr>\n",
       "      <th>4</th>\n",
       "      <td>Faculdade Barão do Rio Branco</td>\n",
       "      <td>FAB</td>\n",
       "    </tr>\n",
       "    <tr>\n",
       "      <th>13</th>\n",
       "      <td>Faculdade Metropolitana da Amazônia</td>\n",
       "      <td>FAMAZ</td>\n",
       "    </tr>\n",
       "    <tr>\n",
       "      <th>21</th>\n",
       "      <td>Universidade do Ceuma</td>\n",
       "      <td>Uniceuma - UNICEUMA</td>\n",
       "    </tr>\n",
       "    <tr>\n",
       "      <th>42</th>\n",
       "      <td>Centro Universitário Integrado de Campo Mourão</td>\n",
       "      <td>CUICM</td>\n",
       "    </tr>\n",
       "    <tr>\n",
       "      <th>20</th>\n",
       "      <td>Universidade do Ceuma</td>\n",
       "      <td>Uniceuma - UNICEUMA</td>\n",
       "    </tr>\n",
       "    <tr>\n",
       "      <th>60</th>\n",
       "      <td>Faculdade de Ciências Médicas da Paraíba</td>\n",
       "      <td>FCM-PB</td>\n",
       "    </tr>\n",
       "    <tr>\n",
       "      <th>24</th>\n",
       "      <td>Faculdade da Saúde e Ecologia Humana</td>\n",
       "      <td>FASEH</td>\n",
       "    </tr>\n",
       "  </tbody>\n",
       "</table>\n",
       "</div>"
      ]
     },
     "metadata": {
      "application/vnd.databricks.v1+output": {
       "addedWidgets": {},
       "arguments": {},
       "data": "<div>\n<style scoped>\n    .dataframe tbody tr th:only-of-type {\n        vertical-align: middle;\n    }\n\n    .dataframe tbody tr th {\n        vertical-align: top;\n    }\n\n    .dataframe thead th {\n        text-align: right;\n    }\n</style>\n<table border=\"1\" class=\"dataframe\">\n  <thead>\n    <tr style=\"text-align: right;\">\n      <th></th>\n      <th>0</th>\n      <th>1</th>\n    </tr>\n  </thead>\n  <tbody>\n    <tr>\n      <th>22</th>\n      <td>Faculdade das Américas</td>\n      <td>FAM</td>\n    </tr>\n    <tr>\n      <th>71</th>\n      <td>Universidade de Franca</td>\n      <td>UNIFRAN</td>\n    </tr>\n    <tr>\n      <th>87</th>\n      <td>Centro Universitário São Lucas</td>\n      <td>UniSL</td>\n    </tr>\n    <tr>\n      <th>107</th>\n      <td>Faculdade Campo Real</td>\n      <td>CAMPO REAL</td>\n    </tr>\n    <tr>\n      <th>10</th>\n      <td>Faculdade Redentor</td>\n      <td>FACREDENTOR</td>\n    </tr>\n    <tr>\n      <th>120</th>\n      <td>Faculdade Brasileira</td>\n      <td>MULTIVIX VITÓRIA</td>\n    </tr>\n    <tr>\n      <th>80</th>\n      <td>Faculdades Integradas Pitágoras</td>\n      <td>FIP-MOC</td>\n    </tr>\n    <tr>\n      <th>2</th>\n      <td>Universidade Cidade de São Paulo</td>\n      <td>UNICID</td>\n    </tr>\n    <tr>\n      <th>4</th>\n      <td>Faculdade Barão do Rio Branco</td>\n      <td>FAB</td>\n    </tr>\n    <tr>\n      <th>13</th>\n      <td>Faculdade Metropolitana da Amazônia</td>\n      <td>FAMAZ</td>\n    </tr>\n    <tr>\n      <th>21</th>\n      <td>Universidade do Ceuma</td>\n      <td>Uniceuma - UNICEUMA</td>\n    </tr>\n    <tr>\n      <th>42</th>\n      <td>Centro Universitário Integrado de Campo Mourão</td>\n      <td>CUICM</td>\n    </tr>\n    <tr>\n      <th>20</th>\n      <td>Universidade do Ceuma</td>\n      <td>Uniceuma - UNICEUMA</td>\n    </tr>\n    <tr>\n      <th>60</th>\n      <td>Faculdade de Ciências Médicas da Paraíba</td>\n      <td>FCM-PB</td>\n    </tr>\n    <tr>\n      <th>24</th>\n      <td>Faculdade da Saúde e Ecologia Humana</td>\n      <td>FASEH</td>\n    </tr>\n  </tbody>\n</table>\n</div>",
       "datasetInfos": [],
       "metadata": {},
       "removedWidgets": [],
       "textData": null,
       "type": "htmlSandbox"
      }
     },
     "output_type": "display_data"
    }
   ],
   "source": [
    "separado = df_medicina['universidade_nome'].str.split(' - ',n=1,expand=True)\n",
    "separado"
   ]
  },
  {
   "cell_type": "code",
   "execution_count": 0,
   "metadata": {
    "application/vnd.databricks.v1+cell": {
     "cellMetadata": {
      "byteLimit": 2048000,
      "rowLimit": 10000
     },
     "inputWidgets": {},
     "nuid": "2668280f-c70d-4910-84df-b53b96bcd6ed",
     "showTitle": false,
     "tableResultSettingsMap": {},
     "title": ""
    }
   },
   "outputs": [],
   "source": [
    "df_medicina.insert(loc=12,column='sigla',value=separado[1])"
   ]
  },
  {
   "cell_type": "code",
   "execution_count": 0,
   "metadata": {
    "application/vnd.databricks.v1+cell": {
     "cellMetadata": {
      "byteLimit": 2048000,
      "rowLimit": 10000
     },
     "inputWidgets": {},
     "nuid": "045bea1c-2cbc-4731-8802-5343247103c0",
     "showTitle": false,
     "tableResultSettingsMap": {},
     "title": ""
    }
   },
   "outputs": [
    {
     "output_type": "display_data",
     "data": {
      "text/html": [
       "<div>\n",
       "<style scoped>\n",
       "    .dataframe tbody tr th:only-of-type {\n",
       "        vertical-align: middle;\n",
       "    }\n",
       "\n",
       "    .dataframe tbody tr th {\n",
       "        vertical-align: top;\n",
       "    }\n",
       "\n",
       "    .dataframe thead th {\n",
       "        text-align: right;\n",
       "    }\n",
       "</style>\n",
       "<table border=\"1\" class=\"dataframe\">\n",
       "  <thead>\n",
       "    <tr style=\"text-align: right;\">\n",
       "      <th></th>\n",
       "      <th>curso_id</th>\n",
       "      <th>grau</th>\n",
       "      <th>turno</th>\n",
       "      <th>mensalidade</th>\n",
       "      <th>bolsa_integral_cotas</th>\n",
       "      <th>bolsa_integral_ampla</th>\n",
       "      <th>bolsa_parcial_cotas</th>\n",
       "      <th>bolsa_parcial_ampla</th>\n",
       "      <th>tipo_cidade</th>\n",
       "      <th>cidade_busca</th>\n",
       "      <th>uf_busca</th>\n",
       "      <th>cidade_filtro</th>\n",
       "      <th>sigla</th>\n",
       "      <th>universidade_nome</th>\n",
       "      <th>campus_nome</th>\n",
       "      <th>campus_id</th>\n",
       "      <th>nome_curso</th>\n",
       "      <th>nota_integral_ampla</th>\n",
       "      <th>nota_integral_cotas</th>\n",
       "      <th>nota_parcial_ampla</th>\n",
       "      <th>nota_parcial_cotas</th>\n",
       "    </tr>\n",
       "  </thead>\n",
       "  <tbody>\n",
       "    <tr>\n",
       "      <th>2</th>\n",
       "      <td>1002328574024</td>\n",
       "      <td>Bacharelado</td>\n",
       "      <td>Integral</td>\n",
       "      <td>9815.61</td>\n",
       "      <td>2</td>\n",
       "      <td>5</td>\n",
       "      <td>6</td>\n",
       "      <td>10</td>\n",
       "      <td>Capital</td>\n",
       "      <td>Sao Paulo</td>\n",
       "      <td>SP</td>\n",
       "      <td>MzUxNTA2MTUwMzA4</td>\n",
       "      <td>UNICID</td>\n",
       "      <td>Universidade Cidade de São Paulo - UNICID</td>\n",
       "      <td>UNIVERSIDADE CIDADE DE SÃO PAULO - UNICID - SE...</td>\n",
       "      <td>1002328</td>\n",
       "      <td>Medicina</td>\n",
       "      <td>739.62</td>\n",
       "      <td>738.08</td>\n",
       "      <td>738.96</td>\n",
       "      <td>718.64</td>\n",
       "    </tr>\n",
       "    <tr>\n",
       "      <th>4</th>\n",
       "      <td>65899611932754</td>\n",
       "      <td>Bacharelado</td>\n",
       "      <td>Integral</td>\n",
       "      <td>9774.34</td>\n",
       "      <td>4</td>\n",
       "      <td>1</td>\n",
       "      <td>5</td>\n",
       "      <td>2</td>\n",
       "      <td>Município</td>\n",
       "      <td>Rio Branco</td>\n",
       "      <td>AC</td>\n",
       "      <td>MTIwMjAwNDAwNDAx</td>\n",
       "      <td>FAB</td>\n",
       "      <td>Faculdade Barão do Rio Branco - FAB</td>\n",
       "      <td>CAMPUS  - RIO BRANCO - JARDIM EUROPA II - Jard...</td>\n",
       "      <td>658996</td>\n",
       "      <td>Medicina</td>\n",
       "      <td>758.32</td>\n",
       "      <td>723.94</td>\n",
       "      <td>734.92</td>\n",
       "      <td>711.26</td>\n",
       "    </tr>\n",
       "    <tr>\n",
       "      <th>10</th>\n",
       "      <td>65921511844324</td>\n",
       "      <td>Bacharelado</td>\n",
       "      <td>Integral</td>\n",
       "      <td>9123.07</td>\n",
       "      <td>4</td>\n",
       "      <td>4</td>\n",
       "      <td>5</td>\n",
       "      <td>5</td>\n",
       "      <td>Município</td>\n",
       "      <td>Itaperuna</td>\n",
       "      <td>RJ</td>\n",
       "      <td>MzMwMTAwMTAyMjA1</td>\n",
       "      <td>FACREDENTOR</td>\n",
       "      <td>Faculdade Redentor - FACREDENTOR</td>\n",
       "      <td>CAMPUS  - ITAPERUNA - PRESIDENTE COSTA E SILVA...</td>\n",
       "      <td>659215</td>\n",
       "      <td>Medicina</td>\n",
       "      <td>741.06</td>\n",
       "      <td>729.02</td>\n",
       "      <td>730.98</td>\n",
       "      <td>722.82</td>\n",
       "    </tr>\n",
       "    <tr>\n",
       "      <th>13</th>\n",
       "      <td>104123711716094</td>\n",
       "      <td>Bacharelado</td>\n",
       "      <td>Integral</td>\n",
       "      <td>8608.54</td>\n",
       "      <td>2</td>\n",
       "      <td>1</td>\n",
       "      <td>7</td>\n",
       "      <td>2</td>\n",
       "      <td>Capital</td>\n",
       "      <td>Belem</td>\n",
       "      <td>PA</td>\n",
       "      <td>MTUwMzAwNzAxNDAy</td>\n",
       "      <td>FAMAZ</td>\n",
       "      <td>Faculdade Metropolitana da Amazônia - FAMAZ</td>\n",
       "      <td>FACULDADE METROPOLITANA DA AMAZÔNIA - FAMAZ - ...</td>\n",
       "      <td>1041237</td>\n",
       "      <td>Medicina</td>\n",
       "      <td>741.36</td>\n",
       "      <td>739.90</td>\n",
       "      <td>760.80</td>\n",
       "      <td>715.10</td>\n",
       "    </tr>\n",
       "    <tr>\n",
       "      <th>20</th>\n",
       "      <td>105887911921884</td>\n",
       "      <td>Bacharelado</td>\n",
       "      <td>Integral</td>\n",
       "      <td>8381.38</td>\n",
       "      <td>3</td>\n",
       "      <td>1</td>\n",
       "      <td>6</td>\n",
       "      <td>2</td>\n",
       "      <td>Município</td>\n",
       "      <td>Imperatriz</td>\n",
       "      <td>MA</td>\n",
       "      <td>MjEwMjAwOTA1MzAy</td>\n",
       "      <td>Uniceuma - UNICEUMA</td>\n",
       "      <td>Universidade do Ceuma - Uniceuma - UNICEUMA</td>\n",
       "      <td>UNIVERSIDADE DO CEUMA - UNICEUMA - CAMPUS IMPE...</td>\n",
       "      <td>1058879</td>\n",
       "      <td>Medicina</td>\n",
       "      <td>756.46</td>\n",
       "      <td>737.88</td>\n",
       "      <td>747.14</td>\n",
       "      <td>717.60</td>\n",
       "    </tr>\n",
       "  </tbody>\n",
       "</table>\n",
       "</div>"
      ]
     },
     "metadata": {
      "application/vnd.databricks.v1+output": {
       "addedWidgets": {},
       "arguments": {},
       "data": "<div>\n<style scoped>\n    .dataframe tbody tr th:only-of-type {\n        vertical-align: middle;\n    }\n\n    .dataframe tbody tr th {\n        vertical-align: top;\n    }\n\n    .dataframe thead th {\n        text-align: right;\n    }\n</style>\n<table border=\"1\" class=\"dataframe\">\n  <thead>\n    <tr style=\"text-align: right;\">\n      <th></th>\n      <th>curso_id</th>\n      <th>grau</th>\n      <th>turno</th>\n      <th>mensalidade</th>\n      <th>bolsa_integral_cotas</th>\n      <th>bolsa_integral_ampla</th>\n      <th>bolsa_parcial_cotas</th>\n      <th>bolsa_parcial_ampla</th>\n      <th>tipo_cidade</th>\n      <th>cidade_busca</th>\n      <th>uf_busca</th>\n      <th>cidade_filtro</th>\n      <th>sigla</th>\n      <th>universidade_nome</th>\n      <th>campus_nome</th>\n      <th>campus_id</th>\n      <th>nome_curso</th>\n      <th>nota_integral_ampla</th>\n      <th>nota_integral_cotas</th>\n      <th>nota_parcial_ampla</th>\n      <th>nota_parcial_cotas</th>\n    </tr>\n  </thead>\n  <tbody>\n    <tr>\n      <th>2</th>\n      <td>1002328574024</td>\n      <td>Bacharelado</td>\n      <td>Integral</td>\n      <td>9815.61</td>\n      <td>2</td>\n      <td>5</td>\n      <td>6</td>\n      <td>10</td>\n      <td>Capital</td>\n      <td>Sao Paulo</td>\n      <td>SP</td>\n      <td>MzUxNTA2MTUwMzA4</td>\n      <td>UNICID</td>\n      <td>Universidade Cidade de São Paulo - UNICID</td>\n      <td>UNIVERSIDADE CIDADE DE SÃO PAULO - UNICID - SE...</td>\n      <td>1002328</td>\n      <td>Medicina</td>\n      <td>739.62</td>\n      <td>738.08</td>\n      <td>738.96</td>\n      <td>718.64</td>\n    </tr>\n    <tr>\n      <th>4</th>\n      <td>65899611932754</td>\n      <td>Bacharelado</td>\n      <td>Integral</td>\n      <td>9774.34</td>\n      <td>4</td>\n      <td>1</td>\n      <td>5</td>\n      <td>2</td>\n      <td>Município</td>\n      <td>Rio Branco</td>\n      <td>AC</td>\n      <td>MTIwMjAwNDAwNDAx</td>\n      <td>FAB</td>\n      <td>Faculdade Barão do Rio Branco - FAB</td>\n      <td>CAMPUS  - RIO BRANCO - JARDIM EUROPA II - Jard...</td>\n      <td>658996</td>\n      <td>Medicina</td>\n      <td>758.32</td>\n      <td>723.94</td>\n      <td>734.92</td>\n      <td>711.26</td>\n    </tr>\n    <tr>\n      <th>10</th>\n      <td>65921511844324</td>\n      <td>Bacharelado</td>\n      <td>Integral</td>\n      <td>9123.07</td>\n      <td>4</td>\n      <td>4</td>\n      <td>5</td>\n      <td>5</td>\n      <td>Município</td>\n      <td>Itaperuna</td>\n      <td>RJ</td>\n      <td>MzMwMTAwMTAyMjA1</td>\n      <td>FACREDENTOR</td>\n      <td>Faculdade Redentor - FACREDENTOR</td>\n      <td>CAMPUS  - ITAPERUNA - PRESIDENTE COSTA E SILVA...</td>\n      <td>659215</td>\n      <td>Medicina</td>\n      <td>741.06</td>\n      <td>729.02</td>\n      <td>730.98</td>\n      <td>722.82</td>\n    </tr>\n    <tr>\n      <th>13</th>\n      <td>104123711716094</td>\n      <td>Bacharelado</td>\n      <td>Integral</td>\n      <td>8608.54</td>\n      <td>2</td>\n      <td>1</td>\n      <td>7</td>\n      <td>2</td>\n      <td>Capital</td>\n      <td>Belem</td>\n      <td>PA</td>\n      <td>MTUwMzAwNzAxNDAy</td>\n      <td>FAMAZ</td>\n      <td>Faculdade Metropolitana da Amazônia - FAMAZ</td>\n      <td>FACULDADE METROPOLITANA DA AMAZÔNIA - FAMAZ - ...</td>\n      <td>1041237</td>\n      <td>Medicina</td>\n      <td>741.36</td>\n      <td>739.90</td>\n      <td>760.80</td>\n      <td>715.10</td>\n    </tr>\n    <tr>\n      <th>20</th>\n      <td>105887911921884</td>\n      <td>Bacharelado</td>\n      <td>Integral</td>\n      <td>8381.38</td>\n      <td>3</td>\n      <td>1</td>\n      <td>6</td>\n      <td>2</td>\n      <td>Município</td>\n      <td>Imperatriz</td>\n      <td>MA</td>\n      <td>MjEwMjAwOTA1MzAy</td>\n      <td>Uniceuma - UNICEUMA</td>\n      <td>Universidade do Ceuma - Uniceuma - UNICEUMA</td>\n      <td>UNIVERSIDADE DO CEUMA - UNICEUMA - CAMPUS IMPE...</td>\n      <td>1058879</td>\n      <td>Medicina</td>\n      <td>756.46</td>\n      <td>737.88</td>\n      <td>747.14</td>\n      <td>717.60</td>\n    </tr>\n  </tbody>\n</table>\n</div>",
       "datasetInfos": [],
       "metadata": {},
       "removedWidgets": [],
       "textData": null,
       "type": "htmlSandbox"
      }
     },
     "output_type": "display_data"
    }
   ],
   "source": [
    "df_medicina.head()"
   ]
  },
  {
   "cell_type": "markdown",
   "metadata": {
    "application/vnd.databricks.v1+cell": {
     "cellMetadata": {
      "byteLimit": 2048000,
      "rowLimit": 10000
     },
     "inputWidgets": {},
     "nuid": "f75de3aa-5b98-4c8d-98e9-536818a5fcaa",
     "showTitle": false,
     "tableResultSettingsMap": {},
     "title": ""
    }
   },
   "source": [
    "Em relação as faculdades, a que tem a melhor nota é a campo real."
   ]
  },
  {
   "cell_type": "code",
   "execution_count": 0,
   "metadata": {
    "application/vnd.databricks.v1+cell": {
     "cellMetadata": {
      "byteLimit": 2048000,
      "rowLimit": 10000
     },
     "inputWidgets": {},
     "nuid": "c0fdedf2-f283-4e78-8755-f4265d6f83f3",
     "showTitle": false,
     "tableResultSettingsMap": {},
     "title": ""
    }
   },
   "outputs": [
    {
     "output_type": "display_data",
     "data": {
      "text/html": [
       "<html>\n",
       "<head><meta charset=\"utf-8\" /></head>\n",
       "<body>\n",
       "    <div>            <script src=\"https://cdnjs.cloudflare.com/ajax/libs/mathjax/2.7.5/MathJax.js?config=TeX-AMS-MML_SVG\"></script><script type=\"text/javascript\">if (window.MathJax) {MathJax.Hub.Config({SVG: {font: \"STIX-Web\"}});}</script>                <script type=\"text/javascript\">window.PlotlyConfig = {MathJaxConfig: 'local'};</script>\n",
       "        <script src=\"https://cdn.plot.ly/plotly-2.9.0.min.js\"></script>                <div id=\"a88241d7-1977-4e77-8271-4e2cb4439a71\" class=\"plotly-graph-div\" style=\"height:100%; width:100%;\"></div>            <script type=\"text/javascript\">                                    window.PLOTLYENV=window.PLOTLYENV || {};                                    if (document.getElementById(\"a88241d7-1977-4e77-8271-4e2cb4439a71\")) {                    Plotly.newPlot(                        \"a88241d7-1977-4e77-8271-4e2cb4439a71\",                        [{\"alignmentgroup\":\"True\",\"hovertemplate\":\"sigla=%{x}<br>nota_media=%{y}<extra></extra>\",\"legendgroup\":\"\",\"marker\":{\"color\":\"#636efa\",\"pattern\":{\"shape\":\"\"}},\"name\":\"\",\"offsetgroup\":\"\",\"orientation\":\"v\",\"showlegend\":false,\"textposition\":\"auto\",\"x\":[\"CAMPO REAL\",\"FASEH\",\"FIP-MOC\",\"MULTIVIX VIT\\u00d3RIA\",\"FAB\",\"Uniceuma - UNICEUMA\",\"FCM-PB\",\"CUICM\",\"UNIFRAN\",\"UniSL\",\"FAMAZ\",\"FACREDENTOR\",\"UNICID\",\"FAM\"],\"xaxis\":\"x\",\"y\":[781.2,770.5,765.76,762.74,758.32,757.1500000000001,754.98,745.46,744.88,742.72,741.36,741.06,739.62,735.84],\"yaxis\":\"y\",\"type\":\"bar\"}],                        {\"template\":{\"data\":{\"bar\":[{\"error_x\":{\"color\":\"#2a3f5f\"},\"error_y\":{\"color\":\"#2a3f5f\"},\"marker\":{\"line\":{\"color\":\"#E5ECF6\",\"width\":0.5},\"pattern\":{\"fillmode\":\"overlay\",\"size\":10,\"solidity\":0.2}},\"type\":\"bar\"}],\"barpolar\":[{\"marker\":{\"line\":{\"color\":\"#E5ECF6\",\"width\":0.5},\"pattern\":{\"fillmode\":\"overlay\",\"size\":10,\"solidity\":0.2}},\"type\":\"barpolar\"}],\"carpet\":[{\"aaxis\":{\"endlinecolor\":\"#2a3f5f\",\"gridcolor\":\"white\",\"linecolor\":\"white\",\"minorgridcolor\":\"white\",\"startlinecolor\":\"#2a3f5f\"},\"baxis\":{\"endlinecolor\":\"#2a3f5f\",\"gridcolor\":\"white\",\"linecolor\":\"white\",\"minorgridcolor\":\"white\",\"startlinecolor\":\"#2a3f5f\"},\"type\":\"carpet\"}],\"choropleth\":[{\"colorbar\":{\"outlinewidth\":0,\"ticks\":\"\"},\"type\":\"choropleth\"}],\"contour\":[{\"colorbar\":{\"outlinewidth\":0,\"ticks\":\"\"},\"colorscale\":[[0.0,\"#0d0887\"],[0.1111111111111111,\"#46039f\"],[0.2222222222222222,\"#7201a8\"],[0.3333333333333333,\"#9c179e\"],[0.4444444444444444,\"#bd3786\"],[0.5555555555555556,\"#d8576b\"],[0.6666666666666666,\"#ed7953\"],[0.7777777777777778,\"#fb9f3a\"],[0.8888888888888888,\"#fdca26\"],[1.0,\"#f0f921\"]],\"type\":\"contour\"}],\"contourcarpet\":[{\"colorbar\":{\"outlinewidth\":0,\"ticks\":\"\"},\"type\":\"contourcarpet\"}],\"heatmap\":[{\"colorbar\":{\"outlinewidth\":0,\"ticks\":\"\"},\"colorscale\":[[0.0,\"#0d0887\"],[0.1111111111111111,\"#46039f\"],[0.2222222222222222,\"#7201a8\"],[0.3333333333333333,\"#9c179e\"],[0.4444444444444444,\"#bd3786\"],[0.5555555555555556,\"#d8576b\"],[0.6666666666666666,\"#ed7953\"],[0.7777777777777778,\"#fb9f3a\"],[0.8888888888888888,\"#fdca26\"],[1.0,\"#f0f921\"]],\"type\":\"heatmap\"}],\"heatmapgl\":[{\"colorbar\":{\"outlinewidth\":0,\"ticks\":\"\"},\"colorscale\":[[0.0,\"#0d0887\"],[0.1111111111111111,\"#46039f\"],[0.2222222222222222,\"#7201a8\"],[0.3333333333333333,\"#9c179e\"],[0.4444444444444444,\"#bd3786\"],[0.5555555555555556,\"#d8576b\"],[0.6666666666666666,\"#ed7953\"],[0.7777777777777778,\"#fb9f3a\"],[0.8888888888888888,\"#fdca26\"],[1.0,\"#f0f921\"]],\"type\":\"heatmapgl\"}],\"histogram\":[{\"marker\":{\"pattern\":{\"fillmode\":\"overlay\",\"size\":10,\"solidity\":0.2}},\"type\":\"histogram\"}],\"histogram2d\":[{\"colorbar\":{\"outlinewidth\":0,\"ticks\":\"\"},\"colorscale\":[[0.0,\"#0d0887\"],[0.1111111111111111,\"#46039f\"],[0.2222222222222222,\"#7201a8\"],[0.3333333333333333,\"#9c179e\"],[0.4444444444444444,\"#bd3786\"],[0.5555555555555556,\"#d8576b\"],[0.6666666666666666,\"#ed7953\"],[0.7777777777777778,\"#fb9f3a\"],[0.8888888888888888,\"#fdca26\"],[1.0,\"#f0f921\"]],\"type\":\"histogram2d\"}],\"histogram2dcontour\":[{\"colorbar\":{\"outlinewidth\":0,\"ticks\":\"\"},\"colorscale\":[[0.0,\"#0d0887\"],[0.1111111111111111,\"#46039f\"],[0.2222222222222222,\"#7201a8\"],[0.3333333333333333,\"#9c179e\"],[0.4444444444444444,\"#bd3786\"],[0.5555555555555556,\"#d8576b\"],[0.6666666666666666,\"#ed7953\"],[0.7777777777777778,\"#fb9f3a\"],[0.8888888888888888,\"#fdca26\"],[1.0,\"#f0f921\"]],\"type\":\"histogram2dcontour\"}],\"mesh3d\":[{\"colorbar\":{\"outlinewidth\":0,\"ticks\":\"\"},\"type\":\"mesh3d\"}],\"parcoords\":[{\"line\":{\"colorbar\":{\"outlinewidth\":0,\"ticks\":\"\"}},\"type\":\"parcoords\"}],\"pie\":[{\"automargin\":true,\"type\":\"pie\"}],\"scatter\":[{\"marker\":{\"colorbar\":{\"outlinewidth\":0,\"ticks\":\"\"}},\"type\":\"scatter\"}],\"scatter3d\":[{\"line\":{\"colorbar\":{\"outlinewidth\":0,\"ticks\":\"\"}},\"marker\":{\"colorbar\":{\"outlinewidth\":0,\"ticks\":\"\"}},\"type\":\"scatter3d\"}],\"scattercarpet\":[{\"marker\":{\"colorbar\":{\"outlinewidth\":0,\"ticks\":\"\"}},\"type\":\"scattercarpet\"}],\"scattergeo\":[{\"marker\":{\"colorbar\":{\"outlinewidth\":0,\"ticks\":\"\"}},\"type\":\"scattergeo\"}],\"scattergl\":[{\"marker\":{\"colorbar\":{\"outlinewidth\":0,\"ticks\":\"\"}},\"type\":\"scattergl\"}],\"scattermapbox\":[{\"marker\":{\"colorbar\":{\"outlinewidth\":0,\"ticks\":\"\"}},\"type\":\"scattermapbox\"}],\"scatterpolar\":[{\"marker\":{\"colorbar\":{\"outlinewidth\":0,\"ticks\":\"\"}},\"type\":\"scatterpolar\"}],\"scatterpolargl\":[{\"marker\":{\"colorbar\":{\"outlinewidth\":0,\"ticks\":\"\"}},\"type\":\"scatterpolargl\"}],\"scatterternary\":[{\"marker\":{\"colorbar\":{\"outlinewidth\":0,\"ticks\":\"\"}},\"type\":\"scatterternary\"}],\"surface\":[{\"colorbar\":{\"outlinewidth\":0,\"ticks\":\"\"},\"colorscale\":[[0.0,\"#0d0887\"],[0.1111111111111111,\"#46039f\"],[0.2222222222222222,\"#7201a8\"],[0.3333333333333333,\"#9c179e\"],[0.4444444444444444,\"#bd3786\"],[0.5555555555555556,\"#d8576b\"],[0.6666666666666666,\"#ed7953\"],[0.7777777777777778,\"#fb9f3a\"],[0.8888888888888888,\"#fdca26\"],[1.0,\"#f0f921\"]],\"type\":\"surface\"}],\"table\":[{\"cells\":{\"fill\":{\"color\":\"#EBF0F8\"},\"line\":{\"color\":\"white\"}},\"header\":{\"fill\":{\"color\":\"#C8D4E3\"},\"line\":{\"color\":\"white\"}},\"type\":\"table\"}]},\"layout\":{\"annotationdefaults\":{\"arrowcolor\":\"#2a3f5f\",\"arrowhead\":0,\"arrowwidth\":1},\"autotypenumbers\":\"strict\",\"coloraxis\":{\"colorbar\":{\"outlinewidth\":0,\"ticks\":\"\"}},\"colorscale\":{\"diverging\":[[0,\"#8e0152\"],[0.1,\"#c51b7d\"],[0.2,\"#de77ae\"],[0.3,\"#f1b6da\"],[0.4,\"#fde0ef\"],[0.5,\"#f7f7f7\"],[0.6,\"#e6f5d0\"],[0.7,\"#b8e186\"],[0.8,\"#7fbc41\"],[0.9,\"#4d9221\"],[1,\"#276419\"]],\"sequential\":[[0.0,\"#0d0887\"],[0.1111111111111111,\"#46039f\"],[0.2222222222222222,\"#7201a8\"],[0.3333333333333333,\"#9c179e\"],[0.4444444444444444,\"#bd3786\"],[0.5555555555555556,\"#d8576b\"],[0.6666666666666666,\"#ed7953\"],[0.7777777777777778,\"#fb9f3a\"],[0.8888888888888888,\"#fdca26\"],[1.0,\"#f0f921\"]],\"sequentialminus\":[[0.0,\"#0d0887\"],[0.1111111111111111,\"#46039f\"],[0.2222222222222222,\"#7201a8\"],[0.3333333333333333,\"#9c179e\"],[0.4444444444444444,\"#bd3786\"],[0.5555555555555556,\"#d8576b\"],[0.6666666666666666,\"#ed7953\"],[0.7777777777777778,\"#fb9f3a\"],[0.8888888888888888,\"#fdca26\"],[1.0,\"#f0f921\"]]},\"colorway\":[\"#636efa\",\"#EF553B\",\"#00cc96\",\"#ab63fa\",\"#FFA15A\",\"#19d3f3\",\"#FF6692\",\"#B6E880\",\"#FF97FF\",\"#FECB52\"],\"font\":{\"color\":\"#2a3f5f\"},\"geo\":{\"bgcolor\":\"white\",\"lakecolor\":\"white\",\"landcolor\":\"#E5ECF6\",\"showlakes\":true,\"showland\":true,\"subunitcolor\":\"white\"},\"hoverlabel\":{\"align\":\"left\"},\"hovermode\":\"closest\",\"mapbox\":{\"style\":\"light\"},\"paper_bgcolor\":\"white\",\"plot_bgcolor\":\"#E5ECF6\",\"polar\":{\"angularaxis\":{\"gridcolor\":\"white\",\"linecolor\":\"white\",\"ticks\":\"\"},\"bgcolor\":\"#E5ECF6\",\"radialaxis\":{\"gridcolor\":\"white\",\"linecolor\":\"white\",\"ticks\":\"\"}},\"scene\":{\"xaxis\":{\"backgroundcolor\":\"#E5ECF6\",\"gridcolor\":\"white\",\"gridwidth\":2,\"linecolor\":\"white\",\"showbackground\":true,\"ticks\":\"\",\"zerolinecolor\":\"white\"},\"yaxis\":{\"backgroundcolor\":\"#E5ECF6\",\"gridcolor\":\"white\",\"gridwidth\":2,\"linecolor\":\"white\",\"showbackground\":true,\"ticks\":\"\",\"zerolinecolor\":\"white\"},\"zaxis\":{\"backgroundcolor\":\"#E5ECF6\",\"gridcolor\":\"white\",\"gridwidth\":2,\"linecolor\":\"white\",\"showbackground\":true,\"ticks\":\"\",\"zerolinecolor\":\"white\"}},\"shapedefaults\":{\"line\":{\"color\":\"#2a3f5f\"}},\"ternary\":{\"aaxis\":{\"gridcolor\":\"white\",\"linecolor\":\"white\",\"ticks\":\"\"},\"baxis\":{\"gridcolor\":\"white\",\"linecolor\":\"white\",\"ticks\":\"\"},\"bgcolor\":\"#E5ECF6\",\"caxis\":{\"gridcolor\":\"white\",\"linecolor\":\"white\",\"ticks\":\"\"}},\"title\":{\"x\":0.05},\"xaxis\":{\"automargin\":true,\"gridcolor\":\"white\",\"linecolor\":\"white\",\"ticks\":\"\",\"title\":{\"standoff\":15},\"zerolinecolor\":\"white\",\"zerolinewidth\":2},\"yaxis\":{\"automargin\":true,\"gridcolor\":\"white\",\"linecolor\":\"white\",\"ticks\":\"\",\"title\":{\"standoff\":15},\"zerolinecolor\":\"white\",\"zerolinewidth\":2}}},\"xaxis\":{\"anchor\":\"y\",\"domain\":[0.0,1.0],\"title\":{\"text\":\"sigla\"}},\"yaxis\":{\"anchor\":\"x\",\"domain\":[0.0,1.0],\"title\":{\"text\":\"nota_media\"}},\"legend\":{\"tracegroupgap\":0},\"margin\":{\"t\":60},\"barmode\":\"relative\"},                        {\"responsive\": true}                    )                };                            </script>        </div>\n",
       "</body>\n",
       "</html>"
      ]
     },
     "metadata": {
      "application/vnd.databricks.v1+output": {
       "addedWidgets": {},
       "arguments": {},
       "data": "<html>\n<head><meta charset=\"utf-8\" /></head>\n<body>\n    <div>            <script src=\"https://cdnjs.cloudflare.com/ajax/libs/mathjax/2.7.5/MathJax.js?config=TeX-AMS-MML_SVG\"></script><script type=\"text/javascript\">if (window.MathJax) {MathJax.Hub.Config({SVG: {font: \"STIX-Web\"}});}</script>                <script type=\"text/javascript\">window.PlotlyConfig = {MathJaxConfig: 'local'};</script>\n        <script src=\"https://cdn.plot.ly/plotly-2.9.0.min.js\"></script>                <div id=\"a88241d7-1977-4e77-8271-4e2cb4439a71\" class=\"plotly-graph-div\" style=\"height:100%; width:100%;\"></div>            <script type=\"text/javascript\">                                    window.PLOTLYENV=window.PLOTLYENV || {};                                    if (document.getElementById(\"a88241d7-1977-4e77-8271-4e2cb4439a71\")) {                    Plotly.newPlot(                        \"a88241d7-1977-4e77-8271-4e2cb4439a71\",                        [{\"alignmentgroup\":\"True\",\"hovertemplate\":\"sigla=%{x}<br>nota_media=%{y}<extra></extra>\",\"legendgroup\":\"\",\"marker\":{\"color\":\"#636efa\",\"pattern\":{\"shape\":\"\"}},\"name\":\"\",\"offsetgroup\":\"\",\"orientation\":\"v\",\"showlegend\":false,\"textposition\":\"auto\",\"x\":[\"CAMPO REAL\",\"FASEH\",\"FIP-MOC\",\"MULTIVIX VIT\\u00d3RIA\",\"FAB\",\"Uniceuma - UNICEUMA\",\"FCM-PB\",\"CUICM\",\"UNIFRAN\",\"UniSL\",\"FAMAZ\",\"FACREDENTOR\",\"UNICID\",\"FAM\"],\"xaxis\":\"x\",\"y\":[781.2,770.5,765.76,762.74,758.32,757.1500000000001,754.98,745.46,744.88,742.72,741.36,741.06,739.62,735.84],\"yaxis\":\"y\",\"type\":\"bar\"}],                        {\"template\":{\"data\":{\"bar\":[{\"error_x\":{\"color\":\"#2a3f5f\"},\"error_y\":{\"color\":\"#2a3f5f\"},\"marker\":{\"line\":{\"color\":\"#E5ECF6\",\"width\":0.5},\"pattern\":{\"fillmode\":\"overlay\",\"size\":10,\"solidity\":0.2}},\"type\":\"bar\"}],\"barpolar\":[{\"marker\":{\"line\":{\"color\":\"#E5ECF6\",\"width\":0.5},\"pattern\":{\"fillmode\":\"overlay\",\"size\":10,\"solidity\":0.2}},\"type\":\"barpolar\"}],\"carpet\":[{\"aaxis\":{\"endlinecolor\":\"#2a3f5f\",\"gridcolor\":\"white\",\"linecolor\":\"white\",\"minorgridcolor\":\"white\",\"startlinecolor\":\"#2a3f5f\"},\"baxis\":{\"endlinecolor\":\"#2a3f5f\",\"gridcolor\":\"white\",\"linecolor\":\"white\",\"minorgridcolor\":\"white\",\"startlinecolor\":\"#2a3f5f\"},\"type\":\"carpet\"}],\"choropleth\":[{\"colorbar\":{\"outlinewidth\":0,\"ticks\":\"\"},\"type\":\"choropleth\"}],\"contour\":[{\"colorbar\":{\"outlinewidth\":0,\"ticks\":\"\"},\"colorscale\":[[0.0,\"#0d0887\"],[0.1111111111111111,\"#46039f\"],[0.2222222222222222,\"#7201a8\"],[0.3333333333333333,\"#9c179e\"],[0.4444444444444444,\"#bd3786\"],[0.5555555555555556,\"#d8576b\"],[0.6666666666666666,\"#ed7953\"],[0.7777777777777778,\"#fb9f3a\"],[0.8888888888888888,\"#fdca26\"],[1.0,\"#f0f921\"]],\"type\":\"contour\"}],\"contourcarpet\":[{\"colorbar\":{\"outlinewidth\":0,\"ticks\":\"\"},\"type\":\"contourcarpet\"}],\"heatmap\":[{\"colorbar\":{\"outlinewidth\":0,\"ticks\":\"\"},\"colorscale\":[[0.0,\"#0d0887\"],[0.1111111111111111,\"#46039f\"],[0.2222222222222222,\"#7201a8\"],[0.3333333333333333,\"#9c179e\"],[0.4444444444444444,\"#bd3786\"],[0.5555555555555556,\"#d8576b\"],[0.6666666666666666,\"#ed7953\"],[0.7777777777777778,\"#fb9f3a\"],[0.8888888888888888,\"#fdca26\"],[1.0,\"#f0f921\"]],\"type\":\"heatmap\"}],\"heatmapgl\":[{\"colorbar\":{\"outlinewidth\":0,\"ticks\":\"\"},\"colorscale\":[[0.0,\"#0d0887\"],[0.1111111111111111,\"#46039f\"],[0.2222222222222222,\"#7201a8\"],[0.3333333333333333,\"#9c179e\"],[0.4444444444444444,\"#bd3786\"],[0.5555555555555556,\"#d8576b\"],[0.6666666666666666,\"#ed7953\"],[0.7777777777777778,\"#fb9f3a\"],[0.8888888888888888,\"#fdca26\"],[1.0,\"#f0f921\"]],\"type\":\"heatmapgl\"}],\"histogram\":[{\"marker\":{\"pattern\":{\"fillmode\":\"overlay\",\"size\":10,\"solidity\":0.2}},\"type\":\"histogram\"}],\"histogram2d\":[{\"colorbar\":{\"outlinewidth\":0,\"ticks\":\"\"},\"colorscale\":[[0.0,\"#0d0887\"],[0.1111111111111111,\"#46039f\"],[0.2222222222222222,\"#7201a8\"],[0.3333333333333333,\"#9c179e\"],[0.4444444444444444,\"#bd3786\"],[0.5555555555555556,\"#d8576b\"],[0.6666666666666666,\"#ed7953\"],[0.7777777777777778,\"#fb9f3a\"],[0.8888888888888888,\"#fdca26\"],[1.0,\"#f0f921\"]],\"type\":\"histogram2d\"}],\"histogram2dcontour\":[{\"colorbar\":{\"outlinewidth\":0,\"ticks\":\"\"},\"colorscale\":[[0.0,\"#0d0887\"],[0.1111111111111111,\"#46039f\"],[0.2222222222222222,\"#7201a8\"],[0.3333333333333333,\"#9c179e\"],[0.4444444444444444,\"#bd3786\"],[0.5555555555555556,\"#d8576b\"],[0.6666666666666666,\"#ed7953\"],[0.7777777777777778,\"#fb9f3a\"],[0.8888888888888888,\"#fdca26\"],[1.0,\"#f0f921\"]],\"type\":\"histogram2dcontour\"}],\"mesh3d\":[{\"colorbar\":{\"outlinewidth\":0,\"ticks\":\"\"},\"type\":\"mesh3d\"}],\"parcoords\":[{\"line\":{\"colorbar\":{\"outlinewidth\":0,\"ticks\":\"\"}},\"type\":\"parcoords\"}],\"pie\":[{\"automargin\":true,\"type\":\"pie\"}],\"scatter\":[{\"marker\":{\"colorbar\":{\"outlinewidth\":0,\"ticks\":\"\"}},\"type\":\"scatter\"}],\"scatter3d\":[{\"line\":{\"colorbar\":{\"outlinewidth\":0,\"ticks\":\"\"}},\"marker\":{\"colorbar\":{\"outlinewidth\":0,\"ticks\":\"\"}},\"type\":\"scatter3d\"}],\"scattercarpet\":[{\"marker\":{\"colorbar\":{\"outlinewidth\":0,\"ticks\":\"\"}},\"type\":\"scattercarpet\"}],\"scattergeo\":[{\"marker\":{\"colorbar\":{\"outlinewidth\":0,\"ticks\":\"\"}},\"type\":\"scattergeo\"}],\"scattergl\":[{\"marker\":{\"colorbar\":{\"outlinewidth\":0,\"ticks\":\"\"}},\"type\":\"scattergl\"}],\"scattermapbox\":[{\"marker\":{\"colorbar\":{\"outlinewidth\":0,\"ticks\":\"\"}},\"type\":\"scattermapbox\"}],\"scatterpolar\":[{\"marker\":{\"colorbar\":{\"outlinewidth\":0,\"ticks\":\"\"}},\"type\":\"scatterpolar\"}],\"scatterpolargl\":[{\"marker\":{\"colorbar\":{\"outlinewidth\":0,\"ticks\":\"\"}},\"type\":\"scatterpolargl\"}],\"scatterternary\":[{\"marker\":{\"colorbar\":{\"outlinewidth\":0,\"ticks\":\"\"}},\"type\":\"scatterternary\"}],\"surface\":[{\"colorbar\":{\"outlinewidth\":0,\"ticks\":\"\"},\"colorscale\":[[0.0,\"#0d0887\"],[0.1111111111111111,\"#46039f\"],[0.2222222222222222,\"#7201a8\"],[0.3333333333333333,\"#9c179e\"],[0.4444444444444444,\"#bd3786\"],[0.5555555555555556,\"#d8576b\"],[0.6666666666666666,\"#ed7953\"],[0.7777777777777778,\"#fb9f3a\"],[0.8888888888888888,\"#fdca26\"],[1.0,\"#f0f921\"]],\"type\":\"surface\"}],\"table\":[{\"cells\":{\"fill\":{\"color\":\"#EBF0F8\"},\"line\":{\"color\":\"white\"}},\"header\":{\"fill\":{\"color\":\"#C8D4E3\"},\"line\":{\"color\":\"white\"}},\"type\":\"table\"}]},\"layout\":{\"annotationdefaults\":{\"arrowcolor\":\"#2a3f5f\",\"arrowhead\":0,\"arrowwidth\":1},\"autotypenumbers\":\"strict\",\"coloraxis\":{\"colorbar\":{\"outlinewidth\":0,\"ticks\":\"\"}},\"colorscale\":{\"diverging\":[[0,\"#8e0152\"],[0.1,\"#c51b7d\"],[0.2,\"#de77ae\"],[0.3,\"#f1b6da\"],[0.4,\"#fde0ef\"],[0.5,\"#f7f7f7\"],[0.6,\"#e6f5d0\"],[0.7,\"#b8e186\"],[0.8,\"#7fbc41\"],[0.9,\"#4d9221\"],[1,\"#276419\"]],\"sequential\":[[0.0,\"#0d0887\"],[0.1111111111111111,\"#46039f\"],[0.2222222222222222,\"#7201a8\"],[0.3333333333333333,\"#9c179e\"],[0.4444444444444444,\"#bd3786\"],[0.5555555555555556,\"#d8576b\"],[0.6666666666666666,\"#ed7953\"],[0.7777777777777778,\"#fb9f3a\"],[0.8888888888888888,\"#fdca26\"],[1.0,\"#f0f921\"]],\"sequentialminus\":[[0.0,\"#0d0887\"],[0.1111111111111111,\"#46039f\"],[0.2222222222222222,\"#7201a8\"],[0.3333333333333333,\"#9c179e\"],[0.4444444444444444,\"#bd3786\"],[0.5555555555555556,\"#d8576b\"],[0.6666666666666666,\"#ed7953\"],[0.7777777777777778,\"#fb9f3a\"],[0.8888888888888888,\"#fdca26\"],[1.0,\"#f0f921\"]]},\"colorway\":[\"#636efa\",\"#EF553B\",\"#00cc96\",\"#ab63fa\",\"#FFA15A\",\"#19d3f3\",\"#FF6692\",\"#B6E880\",\"#FF97FF\",\"#FECB52\"],\"font\":{\"color\":\"#2a3f5f\"},\"geo\":{\"bgcolor\":\"white\",\"lakecolor\":\"white\",\"landcolor\":\"#E5ECF6\",\"showlakes\":true,\"showland\":true,\"subunitcolor\":\"white\"},\"hoverlabel\":{\"align\":\"left\"},\"hovermode\":\"closest\",\"mapbox\":{\"style\":\"light\"},\"paper_bgcolor\":\"white\",\"plot_bgcolor\":\"#E5ECF6\",\"polar\":{\"angularaxis\":{\"gridcolor\":\"white\",\"linecolor\":\"white\",\"ticks\":\"\"},\"bgcolor\":\"#E5ECF6\",\"radialaxis\":{\"gridcolor\":\"white\",\"linecolor\":\"white\",\"ticks\":\"\"}},\"scene\":{\"xaxis\":{\"backgroundcolor\":\"#E5ECF6\",\"gridcolor\":\"white\",\"gridwidth\":2,\"linecolor\":\"white\",\"showbackground\":true,\"ticks\":\"\",\"zerolinecolor\":\"white\"},\"yaxis\":{\"backgroundcolor\":\"#E5ECF6\",\"gridcolor\":\"white\",\"gridwidth\":2,\"linecolor\":\"white\",\"showbackground\":true,\"ticks\":\"\",\"zerolinecolor\":\"white\"},\"zaxis\":{\"backgroundcolor\":\"#E5ECF6\",\"gridcolor\":\"white\",\"gridwidth\":2,\"linecolor\":\"white\",\"showbackground\":true,\"ticks\":\"\",\"zerolinecolor\":\"white\"}},\"shapedefaults\":{\"line\":{\"color\":\"#2a3f5f\"}},\"ternary\":{\"aaxis\":{\"gridcolor\":\"white\",\"linecolor\":\"white\",\"ticks\":\"\"},\"baxis\":{\"gridcolor\":\"white\",\"linecolor\":\"white\",\"ticks\":\"\"},\"bgcolor\":\"#E5ECF6\",\"caxis\":{\"gridcolor\":\"white\",\"linecolor\":\"white\",\"ticks\":\"\"}},\"title\":{\"x\":0.05},\"xaxis\":{\"automargin\":true,\"gridcolor\":\"white\",\"linecolor\":\"white\",\"ticks\":\"\",\"title\":{\"standoff\":15},\"zerolinecolor\":\"white\",\"zerolinewidth\":2},\"yaxis\":{\"automargin\":true,\"gridcolor\":\"white\",\"linecolor\":\"white\",\"ticks\":\"\",\"title\":{\"standoff\":15},\"zerolinecolor\":\"white\",\"zerolinewidth\":2}}},\"xaxis\":{\"anchor\":\"y\",\"domain\":[0.0,1.0],\"title\":{\"text\":\"sigla\"}},\"yaxis\":{\"anchor\":\"x\",\"domain\":[0.0,1.0],\"title\":{\"text\":\"nota_media\"}},\"legend\":{\"tracegroupgap\":0},\"margin\":{\"t\":60},\"barmode\":\"relative\"},                        {\"responsive\": true}                    )                };                            </script>        </div>\n</body>\n</html>",
       "datasetInfos": [],
       "metadata": {},
       "removedWidgets": [],
       "textData": null,
       "type": "htmlSandbox"
      }
     },
     "output_type": "display_data"
    }
   ],
   "source": [
    "# Nota média das faculdades\n",
    "# Qual a nota média de cada faculdade?\n",
    "notas_ordenadas = ps.sql('''\n",
    "SELECT sigla, MEAN(nota_integral_ampla) AS nota_media\n",
    "FROM {DF}\n",
    "GROUP BY sigla\n",
    "ORDER BY nota_media DESC\n",
    "''', DF=df_medicina)\n",
    "notas_ordenadas.plot.bar(x='sigla',y='nota_media')"
   ]
  },
  {
   "cell_type": "markdown",
   "metadata": {
    "application/vnd.databricks.v1+cell": {
     "cellMetadata": {
      "byteLimit": 2048000,
      "rowLimit": 10000
     },
     "inputWidgets": {},
     "nuid": "fd90cf92-b4eb-4b1e-b300-abb013e019aa",
     "showTitle": false,
     "tableResultSettingsMap": {},
     "title": ""
    }
   },
   "source": [
    "Como a quantidade de bolsas variou nos últimos anos?"
   ]
  },
  {
   "cell_type": "markdown",
   "metadata": {
    "application/vnd.databricks.v1+cell": {
     "cellMetadata": {
      "byteLimit": 2048000,
      "rowLimit": 10000
     },
     "inputWidgets": {},
     "nuid": "518896ca-9952-4c93-aca8-c3c13a50bbf3",
     "showTitle": false,
     "tableResultSettingsMap": {},
     "title": ""
    }
   },
   "source": [
    "Fonte: https://pt.wikipedia.org/wiki/Programa_Universidade_para_Todos Acessado em: 16/03/2023"
   ]
  },
  {
   "cell_type": "code",
   "execution_count": 0,
   "metadata": {
    "application/vnd.databricks.v1+cell": {
     "cellMetadata": {
      "byteLimit": 2048000,
      "rowLimit": 10000
     },
     "inputWidgets": {},
     "nuid": "b837ac36-513b-4e7f-8ed5-2343d7699005",
     "showTitle": false,
     "tableResultSettingsMap": {},
     "title": ""
    }
   },
   "outputs": [
    {
     "output_type": "display_data",
     "data": {
      "application/vnd.databricks.v1+bamboolib_hint": "{\"pd.DataFrames\": [], \"version\": \"0.0.1\"}",
      "text/plain": []
     },
     "metadata": {},
     "output_type": "display_data"
    }
   ],
   "source": [
    "import pandas as pd\n",
    "\n",
    "data = {\n",
    "    'Ano': [2021,2020],\n",
    "    'Bolsas_Integrais': [146.3, 182.9],\n",
    "    'Bolsas_Parciais': [150.0, 237.4],\n",
    "    'Bolsas_Total': [296.3, 420.3]\n",
    "}"
   ]
  },
  {
   "cell_type": "code",
   "execution_count": 0,
   "metadata": {
    "application/vnd.databricks.v1+cell": {
     "cellMetadata": {
      "byteLimit": 2048000,
      "rowLimit": 10000
     },
     "inputWidgets": {},
     "nuid": "2109a376-d783-45e7-8f2f-ea89e64ad583",
     "showTitle": false,
     "tableResultSettingsMap": {},
     "title": ""
    }
   },
   "outputs": [],
   "source": [
    "df_pandas = pd.DataFrame(data)"
   ]
  },
  {
   "cell_type": "code",
   "execution_count": 0,
   "metadata": {
    "application/vnd.databricks.v1+cell": {
     "cellMetadata": {
      "byteLimit": 2048000,
      "rowLimit": 10000
     },
     "inputWidgets": {},
     "nuid": "09540db5-bf43-4bbc-9dff-513277caf24e",
     "showTitle": false,
     "tableResultSettingsMap": {},
     "title": ""
    }
   },
   "outputs": [
    {
     "output_type": "display_data",
     "data": {
      "text/html": [
       "<div>\n",
       "<style scoped>\n",
       "    .dataframe tbody tr th:only-of-type {\n",
       "        vertical-align: middle;\n",
       "    }\n",
       "\n",
       "    .dataframe tbody tr th {\n",
       "        vertical-align: top;\n",
       "    }\n",
       "\n",
       "    .dataframe thead th {\n",
       "        text-align: right;\n",
       "    }\n",
       "</style>\n",
       "<table border=\"1\" class=\"dataframe\">\n",
       "  <thead>\n",
       "    <tr style=\"text-align: right;\">\n",
       "      <th></th>\n",
       "      <th>Ano</th>\n",
       "      <th>Bolsas_Integrais</th>\n",
       "      <th>Bolsas_Parciais</th>\n",
       "      <th>Bolsas_Total</th>\n",
       "    </tr>\n",
       "  </thead>\n",
       "  <tbody>\n",
       "    <tr>\n",
       "      <th>0</th>\n",
       "      <td>2021</td>\n",
       "      <td>146.3</td>\n",
       "      <td>150.0</td>\n",
       "      <td>296.3</td>\n",
       "    </tr>\n",
       "    <tr>\n",
       "      <th>1</th>\n",
       "      <td>2020</td>\n",
       "      <td>182.9</td>\n",
       "      <td>237.4</td>\n",
       "      <td>420.3</td>\n",
       "    </tr>\n",
       "  </tbody>\n",
       "</table>\n",
       "</div>"
      ]
     },
     "metadata": {
      "application/vnd.databricks.v1+output": {
       "addedWidgets": {},
       "arguments": {},
       "data": "<div>\n<style scoped>\n    .dataframe tbody tr th:only-of-type {\n        vertical-align: middle;\n    }\n\n    .dataframe tbody tr th {\n        vertical-align: top;\n    }\n\n    .dataframe thead th {\n        text-align: right;\n    }\n</style>\n<table border=\"1\" class=\"dataframe\">\n  <thead>\n    <tr style=\"text-align: right;\">\n      <th></th>\n      <th>Ano</th>\n      <th>Bolsas_Integrais</th>\n      <th>Bolsas_Parciais</th>\n      <th>Bolsas_Total</th>\n    </tr>\n  </thead>\n  <tbody>\n    <tr>\n      <th>0</th>\n      <td>2021</td>\n      <td>146.3</td>\n      <td>150.0</td>\n      <td>296.3</td>\n    </tr>\n    <tr>\n      <th>1</th>\n      <td>2020</td>\n      <td>182.9</td>\n      <td>237.4</td>\n      <td>420.3</td>\n    </tr>\n  </tbody>\n</table>\n</div>",
       "datasetInfos": [],
       "metadata": {},
       "removedWidgets": [],
       "textData": null,
       "type": "htmlSandbox"
      }
     },
     "output_type": "display_data"
    }
   ],
   "source": [
    "df_bolsas = ps.from_pandas(df_pandas)\n",
    "df_bolsas"
   ]
  },
  {
   "cell_type": "markdown",
   "metadata": {
    "application/vnd.databricks.v1+cell": {
     "cellMetadata": {
      "byteLimit": 2048000,
      "rowLimit": 10000
     },
     "inputWidgets": {},
     "nuid": "9cf1ef0c-9972-4498-a19c-8aefb2e4ebdd",
     "showTitle": false,
     "tableResultSettingsMap": {},
     "title": ""
    }
   },
   "source": [
    "Tivemos uma diminuição de bolsas em 2021"
   ]
  },
  {
   "cell_type": "code",
   "execution_count": 0,
   "metadata": {
    "application/vnd.databricks.v1+cell": {
     "cellMetadata": {
      "byteLimit": 2048000,
      "rowLimit": 10000
     },
     "inputWidgets": {},
     "nuid": "6e5d9d70-f830-443b-b88d-b3a98a890b40",
     "showTitle": false,
     "tableResultSettingsMap": {},
     "title": ""
    }
   },
   "outputs": [
    {
     "output_type": "display_data",
     "data": {
      "text/html": [
       "<html>\n",
       "<head><meta charset=\"utf-8\" /></head>\n",
       "<body>\n",
       "    <div>            <script src=\"https://cdnjs.cloudflare.com/ajax/libs/mathjax/2.7.5/MathJax.js?config=TeX-AMS-MML_SVG\"></script><script type=\"text/javascript\">if (window.MathJax) {MathJax.Hub.Config({SVG: {font: \"STIX-Web\"}});}</script>                <script type=\"text/javascript\">window.PlotlyConfig = {MathJaxConfig: 'local'};</script>\n",
       "        <script src=\"https://cdn.plot.ly/plotly-2.9.0.min.js\"></script>                <div id=\"659b0f50-a587-4a62-b506-54ddbf8d5eb3\" class=\"plotly-graph-div\" style=\"height:100%; width:100%;\"></div>            <script type=\"text/javascript\">                                    window.PLOTLYENV=window.PLOTLYENV || {};                                    if (document.getElementById(\"659b0f50-a587-4a62-b506-54ddbf8d5eb3\")) {                    Plotly.newPlot(                        \"659b0f50-a587-4a62-b506-54ddbf8d5eb3\",                        [{\"alignmentgroup\":\"True\",\"hovertemplate\":\"variable=Bolsas_Integrais<br>Ano=%{x}<br>value=%{y}<extra></extra>\",\"legendgroup\":\"Bolsas_Integrais\",\"marker\":{\"color\":\"#636efa\",\"pattern\":{\"shape\":\"\"}},\"name\":\"Bolsas_Integrais\",\"offsetgroup\":\"Bolsas_Integrais\",\"orientation\":\"v\",\"showlegend\":true,\"textposition\":\"auto\",\"x\":[2021,2020],\"xaxis\":\"x\",\"y\":[146.3,182.9],\"yaxis\":\"y\",\"type\":\"bar\"},{\"alignmentgroup\":\"True\",\"hovertemplate\":\"variable=Bolsas_Parciais<br>Ano=%{x}<br>value=%{y}<extra></extra>\",\"legendgroup\":\"Bolsas_Parciais\",\"marker\":{\"color\":\"#EF553B\",\"pattern\":{\"shape\":\"\"}},\"name\":\"Bolsas_Parciais\",\"offsetgroup\":\"Bolsas_Parciais\",\"orientation\":\"v\",\"showlegend\":true,\"textposition\":\"auto\",\"x\":[2021,2020],\"xaxis\":\"x\",\"y\":[150.0,237.4],\"yaxis\":\"y\",\"type\":\"bar\"}],                        {\"template\":{\"data\":{\"bar\":[{\"error_x\":{\"color\":\"#2a3f5f\"},\"error_y\":{\"color\":\"#2a3f5f\"},\"marker\":{\"line\":{\"color\":\"#E5ECF6\",\"width\":0.5},\"pattern\":{\"fillmode\":\"overlay\",\"size\":10,\"solidity\":0.2}},\"type\":\"bar\"}],\"barpolar\":[{\"marker\":{\"line\":{\"color\":\"#E5ECF6\",\"width\":0.5},\"pattern\":{\"fillmode\":\"overlay\",\"size\":10,\"solidity\":0.2}},\"type\":\"barpolar\"}],\"carpet\":[{\"aaxis\":{\"endlinecolor\":\"#2a3f5f\",\"gridcolor\":\"white\",\"linecolor\":\"white\",\"minorgridcolor\":\"white\",\"startlinecolor\":\"#2a3f5f\"},\"baxis\":{\"endlinecolor\":\"#2a3f5f\",\"gridcolor\":\"white\",\"linecolor\":\"white\",\"minorgridcolor\":\"white\",\"startlinecolor\":\"#2a3f5f\"},\"type\":\"carpet\"}],\"choropleth\":[{\"colorbar\":{\"outlinewidth\":0,\"ticks\":\"\"},\"type\":\"choropleth\"}],\"contour\":[{\"colorbar\":{\"outlinewidth\":0,\"ticks\":\"\"},\"colorscale\":[[0.0,\"#0d0887\"],[0.1111111111111111,\"#46039f\"],[0.2222222222222222,\"#7201a8\"],[0.3333333333333333,\"#9c179e\"],[0.4444444444444444,\"#bd3786\"],[0.5555555555555556,\"#d8576b\"],[0.6666666666666666,\"#ed7953\"],[0.7777777777777778,\"#fb9f3a\"],[0.8888888888888888,\"#fdca26\"],[1.0,\"#f0f921\"]],\"type\":\"contour\"}],\"contourcarpet\":[{\"colorbar\":{\"outlinewidth\":0,\"ticks\":\"\"},\"type\":\"contourcarpet\"}],\"heatmap\":[{\"colorbar\":{\"outlinewidth\":0,\"ticks\":\"\"},\"colorscale\":[[0.0,\"#0d0887\"],[0.1111111111111111,\"#46039f\"],[0.2222222222222222,\"#7201a8\"],[0.3333333333333333,\"#9c179e\"],[0.4444444444444444,\"#bd3786\"],[0.5555555555555556,\"#d8576b\"],[0.6666666666666666,\"#ed7953\"],[0.7777777777777778,\"#fb9f3a\"],[0.8888888888888888,\"#fdca26\"],[1.0,\"#f0f921\"]],\"type\":\"heatmap\"}],\"heatmapgl\":[{\"colorbar\":{\"outlinewidth\":0,\"ticks\":\"\"},\"colorscale\":[[0.0,\"#0d0887\"],[0.1111111111111111,\"#46039f\"],[0.2222222222222222,\"#7201a8\"],[0.3333333333333333,\"#9c179e\"],[0.4444444444444444,\"#bd3786\"],[0.5555555555555556,\"#d8576b\"],[0.6666666666666666,\"#ed7953\"],[0.7777777777777778,\"#fb9f3a\"],[0.8888888888888888,\"#fdca26\"],[1.0,\"#f0f921\"]],\"type\":\"heatmapgl\"}],\"histogram\":[{\"marker\":{\"pattern\":{\"fillmode\":\"overlay\",\"size\":10,\"solidity\":0.2}},\"type\":\"histogram\"}],\"histogram2d\":[{\"colorbar\":{\"outlinewidth\":0,\"ticks\":\"\"},\"colorscale\":[[0.0,\"#0d0887\"],[0.1111111111111111,\"#46039f\"],[0.2222222222222222,\"#7201a8\"],[0.3333333333333333,\"#9c179e\"],[0.4444444444444444,\"#bd3786\"],[0.5555555555555556,\"#d8576b\"],[0.6666666666666666,\"#ed7953\"],[0.7777777777777778,\"#fb9f3a\"],[0.8888888888888888,\"#fdca26\"],[1.0,\"#f0f921\"]],\"type\":\"histogram2d\"}],\"histogram2dcontour\":[{\"colorbar\":{\"outlinewidth\":0,\"ticks\":\"\"},\"colorscale\":[[0.0,\"#0d0887\"],[0.1111111111111111,\"#46039f\"],[0.2222222222222222,\"#7201a8\"],[0.3333333333333333,\"#9c179e\"],[0.4444444444444444,\"#bd3786\"],[0.5555555555555556,\"#d8576b\"],[0.6666666666666666,\"#ed7953\"],[0.7777777777777778,\"#fb9f3a\"],[0.8888888888888888,\"#fdca26\"],[1.0,\"#f0f921\"]],\"type\":\"histogram2dcontour\"}],\"mesh3d\":[{\"colorbar\":{\"outlinewidth\":0,\"ticks\":\"\"},\"type\":\"mesh3d\"}],\"parcoords\":[{\"line\":{\"colorbar\":{\"outlinewidth\":0,\"ticks\":\"\"}},\"type\":\"parcoords\"}],\"pie\":[{\"automargin\":true,\"type\":\"pie\"}],\"scatter\":[{\"marker\":{\"colorbar\":{\"outlinewidth\":0,\"ticks\":\"\"}},\"type\":\"scatter\"}],\"scatter3d\":[{\"line\":{\"colorbar\":{\"outlinewidth\":0,\"ticks\":\"\"}},\"marker\":{\"colorbar\":{\"outlinewidth\":0,\"ticks\":\"\"}},\"type\":\"scatter3d\"}],\"scattercarpet\":[{\"marker\":{\"colorbar\":{\"outlinewidth\":0,\"ticks\":\"\"}},\"type\":\"scattercarpet\"}],\"scattergeo\":[{\"marker\":{\"colorbar\":{\"outlinewidth\":0,\"ticks\":\"\"}},\"type\":\"scattergeo\"}],\"scattergl\":[{\"marker\":{\"colorbar\":{\"outlinewidth\":0,\"ticks\":\"\"}},\"type\":\"scattergl\"}],\"scattermapbox\":[{\"marker\":{\"colorbar\":{\"outlinewidth\":0,\"ticks\":\"\"}},\"type\":\"scattermapbox\"}],\"scatterpolar\":[{\"marker\":{\"colorbar\":{\"outlinewidth\":0,\"ticks\":\"\"}},\"type\":\"scatterpolar\"}],\"scatterpolargl\":[{\"marker\":{\"colorbar\":{\"outlinewidth\":0,\"ticks\":\"\"}},\"type\":\"scatterpolargl\"}],\"scatterternary\":[{\"marker\":{\"colorbar\":{\"outlinewidth\":0,\"ticks\":\"\"}},\"type\":\"scatterternary\"}],\"surface\":[{\"colorbar\":{\"outlinewidth\":0,\"ticks\":\"\"},\"colorscale\":[[0.0,\"#0d0887\"],[0.1111111111111111,\"#46039f\"],[0.2222222222222222,\"#7201a8\"],[0.3333333333333333,\"#9c179e\"],[0.4444444444444444,\"#bd3786\"],[0.5555555555555556,\"#d8576b\"],[0.6666666666666666,\"#ed7953\"],[0.7777777777777778,\"#fb9f3a\"],[0.8888888888888888,\"#fdca26\"],[1.0,\"#f0f921\"]],\"type\":\"surface\"}],\"table\":[{\"cells\":{\"fill\":{\"color\":\"#EBF0F8\"},\"line\":{\"color\":\"white\"}},\"header\":{\"fill\":{\"color\":\"#C8D4E3\"},\"line\":{\"color\":\"white\"}},\"type\":\"table\"}]},\"layout\":{\"annotationdefaults\":{\"arrowcolor\":\"#2a3f5f\",\"arrowhead\":0,\"arrowwidth\":1},\"autotypenumbers\":\"strict\",\"coloraxis\":{\"colorbar\":{\"outlinewidth\":0,\"ticks\":\"\"}},\"colorscale\":{\"diverging\":[[0,\"#8e0152\"],[0.1,\"#c51b7d\"],[0.2,\"#de77ae\"],[0.3,\"#f1b6da\"],[0.4,\"#fde0ef\"],[0.5,\"#f7f7f7\"],[0.6,\"#e6f5d0\"],[0.7,\"#b8e186\"],[0.8,\"#7fbc41\"],[0.9,\"#4d9221\"],[1,\"#276419\"]],\"sequential\":[[0.0,\"#0d0887\"],[0.1111111111111111,\"#46039f\"],[0.2222222222222222,\"#7201a8\"],[0.3333333333333333,\"#9c179e\"],[0.4444444444444444,\"#bd3786\"],[0.5555555555555556,\"#d8576b\"],[0.6666666666666666,\"#ed7953\"],[0.7777777777777778,\"#fb9f3a\"],[0.8888888888888888,\"#fdca26\"],[1.0,\"#f0f921\"]],\"sequentialminus\":[[0.0,\"#0d0887\"],[0.1111111111111111,\"#46039f\"],[0.2222222222222222,\"#7201a8\"],[0.3333333333333333,\"#9c179e\"],[0.4444444444444444,\"#bd3786\"],[0.5555555555555556,\"#d8576b\"],[0.6666666666666666,\"#ed7953\"],[0.7777777777777778,\"#fb9f3a\"],[0.8888888888888888,\"#fdca26\"],[1.0,\"#f0f921\"]]},\"colorway\":[\"#636efa\",\"#EF553B\",\"#00cc96\",\"#ab63fa\",\"#FFA15A\",\"#19d3f3\",\"#FF6692\",\"#B6E880\",\"#FF97FF\",\"#FECB52\"],\"font\":{\"color\":\"#2a3f5f\"},\"geo\":{\"bgcolor\":\"white\",\"lakecolor\":\"white\",\"landcolor\":\"#E5ECF6\",\"showlakes\":true,\"showland\":true,\"subunitcolor\":\"white\"},\"hoverlabel\":{\"align\":\"left\"},\"hovermode\":\"closest\",\"mapbox\":{\"style\":\"light\"},\"paper_bgcolor\":\"white\",\"plot_bgcolor\":\"#E5ECF6\",\"polar\":{\"angularaxis\":{\"gridcolor\":\"white\",\"linecolor\":\"white\",\"ticks\":\"\"},\"bgcolor\":\"#E5ECF6\",\"radialaxis\":{\"gridcolor\":\"white\",\"linecolor\":\"white\",\"ticks\":\"\"}},\"scene\":{\"xaxis\":{\"backgroundcolor\":\"#E5ECF6\",\"gridcolor\":\"white\",\"gridwidth\":2,\"linecolor\":\"white\",\"showbackground\":true,\"ticks\":\"\",\"zerolinecolor\":\"white\"},\"yaxis\":{\"backgroundcolor\":\"#E5ECF6\",\"gridcolor\":\"white\",\"gridwidth\":2,\"linecolor\":\"white\",\"showbackground\":true,\"ticks\":\"\",\"zerolinecolor\":\"white\"},\"zaxis\":{\"backgroundcolor\":\"#E5ECF6\",\"gridcolor\":\"white\",\"gridwidth\":2,\"linecolor\":\"white\",\"showbackground\":true,\"ticks\":\"\",\"zerolinecolor\":\"white\"}},\"shapedefaults\":{\"line\":{\"color\":\"#2a3f5f\"}},\"ternary\":{\"aaxis\":{\"gridcolor\":\"white\",\"linecolor\":\"white\",\"ticks\":\"\"},\"baxis\":{\"gridcolor\":\"white\",\"linecolor\":\"white\",\"ticks\":\"\"},\"bgcolor\":\"#E5ECF6\",\"caxis\":{\"gridcolor\":\"white\",\"linecolor\":\"white\",\"ticks\":\"\"}},\"title\":{\"x\":0.05},\"xaxis\":{\"automargin\":true,\"gridcolor\":\"white\",\"linecolor\":\"white\",\"ticks\":\"\",\"title\":{\"standoff\":15},\"zerolinecolor\":\"white\",\"zerolinewidth\":2},\"yaxis\":{\"automargin\":true,\"gridcolor\":\"white\",\"linecolor\":\"white\",\"ticks\":\"\",\"title\":{\"standoff\":15},\"zerolinecolor\":\"white\",\"zerolinewidth\":2}}},\"xaxis\":{\"anchor\":\"y\",\"domain\":[0.0,1.0],\"title\":{\"text\":\"Ano\"}},\"yaxis\":{\"anchor\":\"x\",\"domain\":[0.0,1.0],\"title\":{\"text\":\"value\"}},\"legend\":{\"title\":{\"text\":\"variable\"},\"tracegroupgap\":0},\"title\":{\"text\":\"Tivemos uma diminui\\u00e7\\u00e3o de bolsas em 2021\"},\"barmode\":\"group\"},                        {\"responsive\": true}                    )                };                            </script>        </div>\n",
       "</body>\n",
       "</html>"
      ]
     },
     "metadata": {
      "application/vnd.databricks.v1+output": {
       "addedWidgets": {},
       "arguments": {},
       "data": "<html>\n<head><meta charset=\"utf-8\" /></head>\n<body>\n    <div>            <script src=\"https://cdnjs.cloudflare.com/ajax/libs/mathjax/2.7.5/MathJax.js?config=TeX-AMS-MML_SVG\"></script><script type=\"text/javascript\">if (window.MathJax) {MathJax.Hub.Config({SVG: {font: \"STIX-Web\"}});}</script>                <script type=\"text/javascript\">window.PlotlyConfig = {MathJaxConfig: 'local'};</script>\n        <script src=\"https://cdn.plot.ly/plotly-2.9.0.min.js\"></script>                <div id=\"659b0f50-a587-4a62-b506-54ddbf8d5eb3\" class=\"plotly-graph-div\" style=\"height:100%; width:100%;\"></div>            <script type=\"text/javascript\">                                    window.PLOTLYENV=window.PLOTLYENV || {};                                    if (document.getElementById(\"659b0f50-a587-4a62-b506-54ddbf8d5eb3\")) {                    Plotly.newPlot(                        \"659b0f50-a587-4a62-b506-54ddbf8d5eb3\",                        [{\"alignmentgroup\":\"True\",\"hovertemplate\":\"variable=Bolsas_Integrais<br>Ano=%{x}<br>value=%{y}<extra></extra>\",\"legendgroup\":\"Bolsas_Integrais\",\"marker\":{\"color\":\"#636efa\",\"pattern\":{\"shape\":\"\"}},\"name\":\"Bolsas_Integrais\",\"offsetgroup\":\"Bolsas_Integrais\",\"orientation\":\"v\",\"showlegend\":true,\"textposition\":\"auto\",\"x\":[2021,2020],\"xaxis\":\"x\",\"y\":[146.3,182.9],\"yaxis\":\"y\",\"type\":\"bar\"},{\"alignmentgroup\":\"True\",\"hovertemplate\":\"variable=Bolsas_Parciais<br>Ano=%{x}<br>value=%{y}<extra></extra>\",\"legendgroup\":\"Bolsas_Parciais\",\"marker\":{\"color\":\"#EF553B\",\"pattern\":{\"shape\":\"\"}},\"name\":\"Bolsas_Parciais\",\"offsetgroup\":\"Bolsas_Parciais\",\"orientation\":\"v\",\"showlegend\":true,\"textposition\":\"auto\",\"x\":[2021,2020],\"xaxis\":\"x\",\"y\":[150.0,237.4],\"yaxis\":\"y\",\"type\":\"bar\"}],                        {\"template\":{\"data\":{\"bar\":[{\"error_x\":{\"color\":\"#2a3f5f\"},\"error_y\":{\"color\":\"#2a3f5f\"},\"marker\":{\"line\":{\"color\":\"#E5ECF6\",\"width\":0.5},\"pattern\":{\"fillmode\":\"overlay\",\"size\":10,\"solidity\":0.2}},\"type\":\"bar\"}],\"barpolar\":[{\"marker\":{\"line\":{\"color\":\"#E5ECF6\",\"width\":0.5},\"pattern\":{\"fillmode\":\"overlay\",\"size\":10,\"solidity\":0.2}},\"type\":\"barpolar\"}],\"carpet\":[{\"aaxis\":{\"endlinecolor\":\"#2a3f5f\",\"gridcolor\":\"white\",\"linecolor\":\"white\",\"minorgridcolor\":\"white\",\"startlinecolor\":\"#2a3f5f\"},\"baxis\":{\"endlinecolor\":\"#2a3f5f\",\"gridcolor\":\"white\",\"linecolor\":\"white\",\"minorgridcolor\":\"white\",\"startlinecolor\":\"#2a3f5f\"},\"type\":\"carpet\"}],\"choropleth\":[{\"colorbar\":{\"outlinewidth\":0,\"ticks\":\"\"},\"type\":\"choropleth\"}],\"contour\":[{\"colorbar\":{\"outlinewidth\":0,\"ticks\":\"\"},\"colorscale\":[[0.0,\"#0d0887\"],[0.1111111111111111,\"#46039f\"],[0.2222222222222222,\"#7201a8\"],[0.3333333333333333,\"#9c179e\"],[0.4444444444444444,\"#bd3786\"],[0.5555555555555556,\"#d8576b\"],[0.6666666666666666,\"#ed7953\"],[0.7777777777777778,\"#fb9f3a\"],[0.8888888888888888,\"#fdca26\"],[1.0,\"#f0f921\"]],\"type\":\"contour\"}],\"contourcarpet\":[{\"colorbar\":{\"outlinewidth\":0,\"ticks\":\"\"},\"type\":\"contourcarpet\"}],\"heatmap\":[{\"colorbar\":{\"outlinewidth\":0,\"ticks\":\"\"},\"colorscale\":[[0.0,\"#0d0887\"],[0.1111111111111111,\"#46039f\"],[0.2222222222222222,\"#7201a8\"],[0.3333333333333333,\"#9c179e\"],[0.4444444444444444,\"#bd3786\"],[0.5555555555555556,\"#d8576b\"],[0.6666666666666666,\"#ed7953\"],[0.7777777777777778,\"#fb9f3a\"],[0.8888888888888888,\"#fdca26\"],[1.0,\"#f0f921\"]],\"type\":\"heatmap\"}],\"heatmapgl\":[{\"colorbar\":{\"outlinewidth\":0,\"ticks\":\"\"},\"colorscale\":[[0.0,\"#0d0887\"],[0.1111111111111111,\"#46039f\"],[0.2222222222222222,\"#7201a8\"],[0.3333333333333333,\"#9c179e\"],[0.4444444444444444,\"#bd3786\"],[0.5555555555555556,\"#d8576b\"],[0.6666666666666666,\"#ed7953\"],[0.7777777777777778,\"#fb9f3a\"],[0.8888888888888888,\"#fdca26\"],[1.0,\"#f0f921\"]],\"type\":\"heatmapgl\"}],\"histogram\":[{\"marker\":{\"pattern\":{\"fillmode\":\"overlay\",\"size\":10,\"solidity\":0.2}},\"type\":\"histogram\"}],\"histogram2d\":[{\"colorbar\":{\"outlinewidth\":0,\"ticks\":\"\"},\"colorscale\":[[0.0,\"#0d0887\"],[0.1111111111111111,\"#46039f\"],[0.2222222222222222,\"#7201a8\"],[0.3333333333333333,\"#9c179e\"],[0.4444444444444444,\"#bd3786\"],[0.5555555555555556,\"#d8576b\"],[0.6666666666666666,\"#ed7953\"],[0.7777777777777778,\"#fb9f3a\"],[0.8888888888888888,\"#fdca26\"],[1.0,\"#f0f921\"]],\"type\":\"histogram2d\"}],\"histogram2dcontour\":[{\"colorbar\":{\"outlinewidth\":0,\"ticks\":\"\"},\"colorscale\":[[0.0,\"#0d0887\"],[0.1111111111111111,\"#46039f\"],[0.2222222222222222,\"#7201a8\"],[0.3333333333333333,\"#9c179e\"],[0.4444444444444444,\"#bd3786\"],[0.5555555555555556,\"#d8576b\"],[0.6666666666666666,\"#ed7953\"],[0.7777777777777778,\"#fb9f3a\"],[0.8888888888888888,\"#fdca26\"],[1.0,\"#f0f921\"]],\"type\":\"histogram2dcontour\"}],\"mesh3d\":[{\"colorbar\":{\"outlinewidth\":0,\"ticks\":\"\"},\"type\":\"mesh3d\"}],\"parcoords\":[{\"line\":{\"colorbar\":{\"outlinewidth\":0,\"ticks\":\"\"}},\"type\":\"parcoords\"}],\"pie\":[{\"automargin\":true,\"type\":\"pie\"}],\"scatter\":[{\"marker\":{\"colorbar\":{\"outlinewidth\":0,\"ticks\":\"\"}},\"type\":\"scatter\"}],\"scatter3d\":[{\"line\":{\"colorbar\":{\"outlinewidth\":0,\"ticks\":\"\"}},\"marker\":{\"colorbar\":{\"outlinewidth\":0,\"ticks\":\"\"}},\"type\":\"scatter3d\"}],\"scattercarpet\":[{\"marker\":{\"colorbar\":{\"outlinewidth\":0,\"ticks\":\"\"}},\"type\":\"scattercarpet\"}],\"scattergeo\":[{\"marker\":{\"colorbar\":{\"outlinewidth\":0,\"ticks\":\"\"}},\"type\":\"scattergeo\"}],\"scattergl\":[{\"marker\":{\"colorbar\":{\"outlinewidth\":0,\"ticks\":\"\"}},\"type\":\"scattergl\"}],\"scattermapbox\":[{\"marker\":{\"colorbar\":{\"outlinewidth\":0,\"ticks\":\"\"}},\"type\":\"scattermapbox\"}],\"scatterpolar\":[{\"marker\":{\"colorbar\":{\"outlinewidth\":0,\"ticks\":\"\"}},\"type\":\"scatterpolar\"}],\"scatterpolargl\":[{\"marker\":{\"colorbar\":{\"outlinewidth\":0,\"ticks\":\"\"}},\"type\":\"scatterpolargl\"}],\"scatterternary\":[{\"marker\":{\"colorbar\":{\"outlinewidth\":0,\"ticks\":\"\"}},\"type\":\"scatterternary\"}],\"surface\":[{\"colorbar\":{\"outlinewidth\":0,\"ticks\":\"\"},\"colorscale\":[[0.0,\"#0d0887\"],[0.1111111111111111,\"#46039f\"],[0.2222222222222222,\"#7201a8\"],[0.3333333333333333,\"#9c179e\"],[0.4444444444444444,\"#bd3786\"],[0.5555555555555556,\"#d8576b\"],[0.6666666666666666,\"#ed7953\"],[0.7777777777777778,\"#fb9f3a\"],[0.8888888888888888,\"#fdca26\"],[1.0,\"#f0f921\"]],\"type\":\"surface\"}],\"table\":[{\"cells\":{\"fill\":{\"color\":\"#EBF0F8\"},\"line\":{\"color\":\"white\"}},\"header\":{\"fill\":{\"color\":\"#C8D4E3\"},\"line\":{\"color\":\"white\"}},\"type\":\"table\"}]},\"layout\":{\"annotationdefaults\":{\"arrowcolor\":\"#2a3f5f\",\"arrowhead\":0,\"arrowwidth\":1},\"autotypenumbers\":\"strict\",\"coloraxis\":{\"colorbar\":{\"outlinewidth\":0,\"ticks\":\"\"}},\"colorscale\":{\"diverging\":[[0,\"#8e0152\"],[0.1,\"#c51b7d\"],[0.2,\"#de77ae\"],[0.3,\"#f1b6da\"],[0.4,\"#fde0ef\"],[0.5,\"#f7f7f7\"],[0.6,\"#e6f5d0\"],[0.7,\"#b8e186\"],[0.8,\"#7fbc41\"],[0.9,\"#4d9221\"],[1,\"#276419\"]],\"sequential\":[[0.0,\"#0d0887\"],[0.1111111111111111,\"#46039f\"],[0.2222222222222222,\"#7201a8\"],[0.3333333333333333,\"#9c179e\"],[0.4444444444444444,\"#bd3786\"],[0.5555555555555556,\"#d8576b\"],[0.6666666666666666,\"#ed7953\"],[0.7777777777777778,\"#fb9f3a\"],[0.8888888888888888,\"#fdca26\"],[1.0,\"#f0f921\"]],\"sequentialminus\":[[0.0,\"#0d0887\"],[0.1111111111111111,\"#46039f\"],[0.2222222222222222,\"#7201a8\"],[0.3333333333333333,\"#9c179e\"],[0.4444444444444444,\"#bd3786\"],[0.5555555555555556,\"#d8576b\"],[0.6666666666666666,\"#ed7953\"],[0.7777777777777778,\"#fb9f3a\"],[0.8888888888888888,\"#fdca26\"],[1.0,\"#f0f921\"]]},\"colorway\":[\"#636efa\",\"#EF553B\",\"#00cc96\",\"#ab63fa\",\"#FFA15A\",\"#19d3f3\",\"#FF6692\",\"#B6E880\",\"#FF97FF\",\"#FECB52\"],\"font\":{\"color\":\"#2a3f5f\"},\"geo\":{\"bgcolor\":\"white\",\"lakecolor\":\"white\",\"landcolor\":\"#E5ECF6\",\"showlakes\":true,\"showland\":true,\"subunitcolor\":\"white\"},\"hoverlabel\":{\"align\":\"left\"},\"hovermode\":\"closest\",\"mapbox\":{\"style\":\"light\"},\"paper_bgcolor\":\"white\",\"plot_bgcolor\":\"#E5ECF6\",\"polar\":{\"angularaxis\":{\"gridcolor\":\"white\",\"linecolor\":\"white\",\"ticks\":\"\"},\"bgcolor\":\"#E5ECF6\",\"radialaxis\":{\"gridcolor\":\"white\",\"linecolor\":\"white\",\"ticks\":\"\"}},\"scene\":{\"xaxis\":{\"backgroundcolor\":\"#E5ECF6\",\"gridcolor\":\"white\",\"gridwidth\":2,\"linecolor\":\"white\",\"showbackground\":true,\"ticks\":\"\",\"zerolinecolor\":\"white\"},\"yaxis\":{\"backgroundcolor\":\"#E5ECF6\",\"gridcolor\":\"white\",\"gridwidth\":2,\"linecolor\":\"white\",\"showbackground\":true,\"ticks\":\"\",\"zerolinecolor\":\"white\"},\"zaxis\":{\"backgroundcolor\":\"#E5ECF6\",\"gridcolor\":\"white\",\"gridwidth\":2,\"linecolor\":\"white\",\"showbackground\":true,\"ticks\":\"\",\"zerolinecolor\":\"white\"}},\"shapedefaults\":{\"line\":{\"color\":\"#2a3f5f\"}},\"ternary\":{\"aaxis\":{\"gridcolor\":\"white\",\"linecolor\":\"white\",\"ticks\":\"\"},\"baxis\":{\"gridcolor\":\"white\",\"linecolor\":\"white\",\"ticks\":\"\"},\"bgcolor\":\"#E5ECF6\",\"caxis\":{\"gridcolor\":\"white\",\"linecolor\":\"white\",\"ticks\":\"\"}},\"title\":{\"x\":0.05},\"xaxis\":{\"automargin\":true,\"gridcolor\":\"white\",\"linecolor\":\"white\",\"ticks\":\"\",\"title\":{\"standoff\":15},\"zerolinecolor\":\"white\",\"zerolinewidth\":2},\"yaxis\":{\"automargin\":true,\"gridcolor\":\"white\",\"linecolor\":\"white\",\"ticks\":\"\",\"title\":{\"standoff\":15},\"zerolinecolor\":\"white\",\"zerolinewidth\":2}}},\"xaxis\":{\"anchor\":\"y\",\"domain\":[0.0,1.0],\"title\":{\"text\":\"Ano\"}},\"yaxis\":{\"anchor\":\"x\",\"domain\":[0.0,1.0],\"title\":{\"text\":\"value\"}},\"legend\":{\"title\":{\"text\":\"variable\"},\"tracegroupgap\":0},\"title\":{\"text\":\"Tivemos uma diminui\\u00e7\\u00e3o de bolsas em 2021\"},\"barmode\":\"group\"},                        {\"responsive\": true}                    )                };                            </script>        </div>\n</body>\n</html>",
       "datasetInfos": [],
       "metadata": {},
       "removedWidgets": [],
       "textData": null,
       "type": "htmlSandbox"
      }
     },
     "output_type": "display_data"
    }
   ],
   "source": [
    "#df_bolsas.plot.bar(x='Ano',y=['Bolsas_Integrais','Bolsas_Parciais'],barmode='group')\n",
    "df_bolsas.plot.bar(x='Ano', y=['Bolsas_Integrais', 'Bolsas_Parciais'], barmode='group', title='Tivemos uma diminuição de bolsas em 2021')\n"
   ]
  },
  {
   "cell_type": "code",
   "execution_count": 0,
   "metadata": {
    "application/vnd.databricks.v1+cell": {
     "cellMetadata": {
      "byteLimit": 2048000,
      "rowLimit": 10000
     },
     "inputWidgets": {},
     "nuid": "e0fd75fe-27a9-4d25-b416-719e71dda58f",
     "showTitle": false,
     "tableResultSettingsMap": {},
     "title": ""
    }
   },
   "outputs": [],
   "source": [
    "# Como puxar informações de um site?\n",
    "url = 'https://pt.wikipedia.org/wiki/Ensino_superior_no_Brasil'"
   ]
  },
  {
   "cell_type": "code",
   "execution_count": 0,
   "metadata": {
    "application/vnd.databricks.v1+cell": {
     "cellMetadata": {
      "byteLimit": 2048000,
      "rowLimit": 10000
     },
     "inputWidgets": {},
     "nuid": "7d64c5fa-dc46-4d80-be8d-f2d5dc3d2c16",
     "showTitle": false,
     "tableResultSettingsMap": {},
     "title": ""
    }
   },
   "outputs": [
    {
     "output_type": "stream",
     "name": "stdout",
     "output_type": "stream",
     "text": [
      "Requirement already satisfied: lxml in /local_disk0/.ephemeral_nfs/envs/pythonEnv-ecccccf8-4777-45ec-a6c7-17ab9f15fc30/lib/python3.9/site-packages (5.3.0)\r\n\u001B[33mWARNING: You are using pip version 21.2.4; however, version 24.3.1 is available.\r\nYou should consider upgrading via the '/local_disk0/.ephemeral_nfs/envs/pythonEnv-ecccccf8-4777-45ec-a6c7-17ab9f15fc30/bin/python -m pip install --upgrade pip' command.\u001B[0m\r\n"
     ]
    }
   ],
   "source": [
    "!pip install lxml"
   ]
  },
  {
   "cell_type": "code",
   "execution_count": 0,
   "metadata": {
    "application/vnd.databricks.v1+cell": {
     "cellMetadata": {
      "byteLimit": 2048000,
      "rowLimit": 10000
     },
     "inputWidgets": {},
     "nuid": "aa66f4a7-b57b-4c26-8171-6cf9f0ce09bb",
     "showTitle": false,
     "tableResultSettingsMap": {},
     "title": ""
    }
   },
   "outputs": [],
   "source": [
    "lista = ps.read_html(url)"
   ]
  },
  {
   "cell_type": "code",
   "execution_count": 0,
   "metadata": {
    "application/vnd.databricks.v1+cell": {
     "cellMetadata": {
      "byteLimit": 2048000,
      "rowLimit": 10000
     },
     "inputWidgets": {},
     "nuid": "17f6e03f-f272-4c3f-a113-da0130807fa5",
     "showTitle": false,
     "tableResultSettingsMap": {},
     "title": ""
    }
   },
   "outputs": [
    {
     "output_type": "stream",
     "name": "stdout",
     "output_type": "stream",
     "text": [
      "Out[72]: 5"
     ]
    }
   ],
   "source": [
    "len(lista)"
   ]
  },
  {
   "cell_type": "code",
   "execution_count": 0,
   "metadata": {
    "application/vnd.databricks.v1+cell": {
     "cellMetadata": {
      "byteLimit": 2048000,
      "rowLimit": 10000
     },
     "inputWidgets": {},
     "nuid": "1f6c5a04-92ed-450e-9884-4c24f057a147",
     "showTitle": false,
     "tableResultSettingsMap": {},
     "title": ""
    }
   },
   "outputs": [
    {
     "output_type": "display_data",
     "data": {
      "text/html": [
       "<div>\n",
       "<style scoped>\n",
       "    .dataframe tbody tr th:only-of-type {\n",
       "        vertical-align: middle;\n",
       "    }\n",
       "\n",
       "    .dataframe tbody tr th {\n",
       "        vertical-align: top;\n",
       "    }\n",
       "\n",
       "    .dataframe thead th {\n",
       "        text-align: right;\n",
       "    }\n",
       "</style>\n",
       "<table border=\"1\" class=\"dataframe\">\n",
       "  <thead>\n",
       "    <tr style=\"text-align: right;\">\n",
       "      <th></th>\n",
       "      <th>Classificação Nacional</th>\n",
       "      <th>Classificação Mundial</th>\n",
       "      <th>Universidade</th>\n",
       "      <th>Logo</th>\n",
       "      <th>sigla</th>\n",
       "      <th>tipo</th>\n",
       "      <th>web</th>\n",
       "      <th>Localização</th>\n",
       "    </tr>\n",
       "  </thead>\n",
       "  <tbody>\n",
       "    <tr>\n",
       "      <th>0</th>\n",
       "      <td>1</td>\n",
       "      <td>72</td>\n",
       "      <td>Universidade de São Paulo</td>\n",
       "      <td>NaN</td>\n",
       "      <td>USP</td>\n",
       "      <td>Pública Estadual</td>\n",
       "      <td>www5.usp.br/</td>\n",
       "      <td>São Paulo</td>\n",
       "    </tr>\n",
       "    <tr>\n",
       "      <th>1</th>\n",
       "      <td>2</td>\n",
       "      <td>236</td>\n",
       "      <td>Universidade Estadual de Campinas</td>\n",
       "      <td>NaN</td>\n",
       "      <td>UNICAMP</td>\n",
       "      <td>Pública Estadual</td>\n",
       "      <td>www.unicamp.br/</td>\n",
       "      <td>São Paulo</td>\n",
       "    </tr>\n",
       "    <tr>\n",
       "      <th>2</th>\n",
       "      <td>3</td>\n",
       "      <td>278</td>\n",
       "      <td>Universidade Federal do Rio de Janeiro</td>\n",
       "      <td>NaN</td>\n",
       "      <td>UFRJ</td>\n",
       "      <td>Pública federal</td>\n",
       "      <td>ufrj.br/</td>\n",
       "      <td>Rio de Janeiro</td>\n",
       "    </tr>\n",
       "    <tr>\n",
       "      <th>3</th>\n",
       "      <td>4</td>\n",
       "      <td>298</td>\n",
       "      <td>Universidade Federal de Minas Gerais</td>\n",
       "      <td>NaN</td>\n",
       "      <td>UFMG</td>\n",
       "      <td>Pública federal</td>\n",
       "      <td>ucb.edu.bo</td>\n",
       "      <td>Minas Gerais</td>\n",
       "    </tr>\n",
       "    <tr>\n",
       "      <th>4</th>\n",
       "      <td>5</td>\n",
       "      <td>345</td>\n",
       "      <td>Universidade Estadual Paulista</td>\n",
       "      <td>NaN</td>\n",
       "      <td>UNESP</td>\n",
       "      <td>Pública Estadual</td>\n",
       "      <td>www.unesp.br</td>\n",
       "      <td>São Paulo</td>\n",
       "    </tr>\n",
       "    <tr>\n",
       "      <th>5</th>\n",
       "      <td>6</td>\n",
       "      <td>427</td>\n",
       "      <td>Universidade Federal de Santa Catarina</td>\n",
       "      <td>NaN</td>\n",
       "      <td>UFSC</td>\n",
       "      <td>Pública federal</td>\n",
       "      <td>ufsc.br/</td>\n",
       "      <td>Santa Catarina</td>\n",
       "    </tr>\n",
       "    <tr>\n",
       "      <th>6</th>\n",
       "      <td>7</td>\n",
       "      <td>592</td>\n",
       "      <td>Universidade de Brasília</td>\n",
       "      <td>NaN</td>\n",
       "      <td>UNB</td>\n",
       "      <td>Pública Estadual</td>\n",
       "      <td>www.unb.br/</td>\n",
       "      <td>Distrito Federal</td>\n",
       "    </tr>\n",
       "    <tr>\n",
       "      <th>7</th>\n",
       "      <td>8</td>\n",
       "      <td>593</td>\n",
       "      <td>Universidade Federal do Paraná</td>\n",
       "      <td>NaN</td>\n",
       "      <td>UFPR</td>\n",
       "      <td>Pública federal</td>\n",
       "      <td>www.ufpr.br/</td>\n",
       "      <td>Paraná</td>\n",
       "    </tr>\n",
       "    <tr>\n",
       "      <th>8</th>\n",
       "      <td>9</td>\n",
       "      <td>596</td>\n",
       "      <td>Universidade Federal Fluminense</td>\n",
       "      <td>NaN</td>\n",
       "      <td>UFF</td>\n",
       "      <td>Pública federal</td>\n",
       "      <td>www.uff.br/</td>\n",
       "      <td>Rio de Janeiro</td>\n",
       "    </tr>\n",
       "    <tr>\n",
       "      <th>9</th>\n",
       "      <td>10</td>\n",
       "      <td>667</td>\n",
       "      <td>Universidade Federal de São Carlos</td>\n",
       "      <td>NaN</td>\n",
       "      <td>UFSCAR</td>\n",
       "      <td>Pública federal</td>\n",
       "      <td>www.ufscar.br/</td>\n",
       "      <td>São Paulo</td>\n",
       "    </tr>\n",
       "  </tbody>\n",
       "</table>\n",
       "</div>"
      ]
     },
     "metadata": {
      "application/vnd.databricks.v1+output": {
       "addedWidgets": {},
       "arguments": {},
       "data": "<div>\n<style scoped>\n    .dataframe tbody tr th:only-of-type {\n        vertical-align: middle;\n    }\n\n    .dataframe tbody tr th {\n        vertical-align: top;\n    }\n\n    .dataframe thead th {\n        text-align: right;\n    }\n</style>\n<table border=\"1\" class=\"dataframe\">\n  <thead>\n    <tr style=\"text-align: right;\">\n      <th></th>\n      <th>Classificação Nacional</th>\n      <th>Classificação Mundial</th>\n      <th>Universidade</th>\n      <th>Logo</th>\n      <th>sigla</th>\n      <th>tipo</th>\n      <th>web</th>\n      <th>Localização</th>\n    </tr>\n  </thead>\n  <tbody>\n    <tr>\n      <th>0</th>\n      <td>1</td>\n      <td>72</td>\n      <td>Universidade de São Paulo</td>\n      <td>NaN</td>\n      <td>USP</td>\n      <td>Pública Estadual</td>\n      <td>www5.usp.br/</td>\n      <td>São Paulo</td>\n    </tr>\n    <tr>\n      <th>1</th>\n      <td>2</td>\n      <td>236</td>\n      <td>Universidade Estadual de Campinas</td>\n      <td>NaN</td>\n      <td>UNICAMP</td>\n      <td>Pública Estadual</td>\n      <td>www.unicamp.br/</td>\n      <td>São Paulo</td>\n    </tr>\n    <tr>\n      <th>2</th>\n      <td>3</td>\n      <td>278</td>\n      <td>Universidade Federal do Rio de Janeiro</td>\n      <td>NaN</td>\n      <td>UFRJ</td>\n      <td>Pública federal</td>\n      <td>ufrj.br/</td>\n      <td>Rio de Janeiro</td>\n    </tr>\n    <tr>\n      <th>3</th>\n      <td>4</td>\n      <td>298</td>\n      <td>Universidade Federal de Minas Gerais</td>\n      <td>NaN</td>\n      <td>UFMG</td>\n      <td>Pública federal</td>\n      <td>ucb.edu.bo</td>\n      <td>Minas Gerais</td>\n    </tr>\n    <tr>\n      <th>4</th>\n      <td>5</td>\n      <td>345</td>\n      <td>Universidade Estadual Paulista</td>\n      <td>NaN</td>\n      <td>UNESP</td>\n      <td>Pública Estadual</td>\n      <td>www.unesp.br</td>\n      <td>São Paulo</td>\n    </tr>\n    <tr>\n      <th>5</th>\n      <td>6</td>\n      <td>427</td>\n      <td>Universidade Federal de Santa Catarina</td>\n      <td>NaN</td>\n      <td>UFSC</td>\n      <td>Pública federal</td>\n      <td>ufsc.br/</td>\n      <td>Santa Catarina</td>\n    </tr>\n    <tr>\n      <th>6</th>\n      <td>7</td>\n      <td>592</td>\n      <td>Universidade de Brasília</td>\n      <td>NaN</td>\n      <td>UNB</td>\n      <td>Pública Estadual</td>\n      <td>www.unb.br/</td>\n      <td>Distrito Federal</td>\n    </tr>\n    <tr>\n      <th>7</th>\n      <td>8</td>\n      <td>593</td>\n      <td>Universidade Federal do Paraná</td>\n      <td>NaN</td>\n      <td>UFPR</td>\n      <td>Pública federal</td>\n      <td>www.ufpr.br/</td>\n      <td>Paraná</td>\n    </tr>\n    <tr>\n      <th>8</th>\n      <td>9</td>\n      <td>596</td>\n      <td>Universidade Federal Fluminense</td>\n      <td>NaN</td>\n      <td>UFF</td>\n      <td>Pública federal</td>\n      <td>www.uff.br/</td>\n      <td>Rio de Janeiro</td>\n    </tr>\n    <tr>\n      <th>9</th>\n      <td>10</td>\n      <td>667</td>\n      <td>Universidade Federal de São Carlos</td>\n      <td>NaN</td>\n      <td>UFSCAR</td>\n      <td>Pública federal</td>\n      <td>www.ufscar.br/</td>\n      <td>São Paulo</td>\n    </tr>\n  </tbody>\n</table>\n</div>",
       "datasetInfos": [],
       "metadata": {},
       "removedWidgets": [],
       "textData": null,
       "type": "htmlSandbox"
      }
     },
     "output_type": "display_data"
    }
   ],
   "source": [
    "df_publicas = lista[0]\n",
    "df_publicas"
   ]
  },
  {
   "cell_type": "code",
   "execution_count": 0,
   "metadata": {
    "application/vnd.databricks.v1+cell": {
     "cellMetadata": {
      "byteLimit": 2048000,
      "rowLimit": 10000
     },
     "inputWidgets": {},
     "nuid": "0b76f8aa-248e-47f4-8f2e-dd7fd6b04795",
     "showTitle": false,
     "tableResultSettingsMap": {},
     "title": ""
    }
   },
   "outputs": [
    {
     "output_type": "stream",
     "name": "stdout",
     "output_type": "stream",
     "text": [
      "Out[74]: pyspark.pandas.frame.DataFrame"
     ]
    }
   ],
   "source": [
    "type(df_publicas)"
   ]
  },
  {
   "cell_type": "code",
   "execution_count": 0,
   "metadata": {
    "application/vnd.databricks.v1+cell": {
     "cellMetadata": {
      "byteLimit": 2048000,
      "rowLimit": 10000
     },
     "inputWidgets": {},
     "nuid": "ae4b9c91-6c3b-4a69-9150-0607a7d47bbb",
     "showTitle": false,
     "tableResultSettingsMap": {},
     "title": ""
    }
   },
   "outputs": [],
   "source": [
    "df_publicas.sort_values(by=['Classificação Nacional'],inplace=True, ascending=False)"
   ]
  },
  {
   "cell_type": "markdown",
   "metadata": {
    "application/vnd.databricks.v1+cell": {
     "cellMetadata": {
      "byteLimit": 2048000,
      "rowLimit": 10000
     },
     "inputWidgets": {},
     "nuid": "42d997b9-012d-46f3-bee7-945f135961d6",
     "showTitle": false,
     "tableResultSettingsMap": {},
     "title": ""
    }
   },
   "source": [
    "Caso a pessoa decida tentar uma universidade pública a USP é a que possui melhor nota, seguida pela Unicamp."
   ]
  },
  {
   "cell_type": "code",
   "execution_count": 0,
   "metadata": {
    "application/vnd.databricks.v1+cell": {
     "cellMetadata": {
      "byteLimit": 2048000,
      "rowLimit": 10000
     },
     "inputWidgets": {},
     "nuid": "f6662d53-c1e5-4d55-bed2-9ac6073feaa7",
     "showTitle": false,
     "tableResultSettingsMap": {},
     "title": ""
    }
   },
   "outputs": [
    {
     "output_type": "display_data",
     "data": {
      "text/html": [
       "<html>\n",
       "<head><meta charset=\"utf-8\" /></head>\n",
       "<body>\n",
       "    <div>            <script src=\"https://cdnjs.cloudflare.com/ajax/libs/mathjax/2.7.5/MathJax.js?config=TeX-AMS-MML_SVG\"></script><script type=\"text/javascript\">if (window.MathJax) {MathJax.Hub.Config({SVG: {font: \"STIX-Web\"}});}</script>                <script type=\"text/javascript\">window.PlotlyConfig = {MathJaxConfig: 'local'};</script>\n",
       "        <script src=\"https://cdn.plot.ly/plotly-2.9.0.min.js\"></script>                <div id=\"b87b7685-7f56-46d0-9257-213787d7db3e\" class=\"plotly-graph-div\" style=\"height:100%; width:100%;\"></div>            <script type=\"text/javascript\">                                    window.PLOTLYENV=window.PLOTLYENV || {};                                    if (document.getElementById(\"b87b7685-7f56-46d0-9257-213787d7db3e\")) {                    Plotly.newPlot(                        \"b87b7685-7f56-46d0-9257-213787d7db3e\",                        [{\"alignmentgroup\":\"True\",\"hovertemplate\":\"sigla=%{x}<br>Classifica\\u00e7\\u00e3o Nacional=%{y}<br>color=%{marker.color}<extra></extra>\",\"legendgroup\":\"\",\"marker\":{\"color\":[0,1,2,3,4,5,6,7,8,9],\"coloraxis\":\"coloraxis\",\"pattern\":{\"shape\":\"\"}},\"name\":\"\",\"offsetgroup\":\"\",\"orientation\":\"v\",\"showlegend\":false,\"textposition\":\"auto\",\"x\":[\"UFSCAR\",\"UFF\",\"UFPR\",\"UNB\",\"UFSC\",\"UNESP\",\"UFMG\",\"UFRJ\",\"UNICAMP\",\"USP\"],\"xaxis\":\"x\",\"y\":[10,9,8,7,6,5,4,3,2,1],\"yaxis\":\"y\",\"type\":\"bar\"}],                        {\"template\":{\"data\":{\"bar\":[{\"error_x\":{\"color\":\"#2a3f5f\"},\"error_y\":{\"color\":\"#2a3f5f\"},\"marker\":{\"line\":{\"color\":\"#E5ECF6\",\"width\":0.5},\"pattern\":{\"fillmode\":\"overlay\",\"size\":10,\"solidity\":0.2}},\"type\":\"bar\"}],\"barpolar\":[{\"marker\":{\"line\":{\"color\":\"#E5ECF6\",\"width\":0.5},\"pattern\":{\"fillmode\":\"overlay\",\"size\":10,\"solidity\":0.2}},\"type\":\"barpolar\"}],\"carpet\":[{\"aaxis\":{\"endlinecolor\":\"#2a3f5f\",\"gridcolor\":\"white\",\"linecolor\":\"white\",\"minorgridcolor\":\"white\",\"startlinecolor\":\"#2a3f5f\"},\"baxis\":{\"endlinecolor\":\"#2a3f5f\",\"gridcolor\":\"white\",\"linecolor\":\"white\",\"minorgridcolor\":\"white\",\"startlinecolor\":\"#2a3f5f\"},\"type\":\"carpet\"}],\"choropleth\":[{\"colorbar\":{\"outlinewidth\":0,\"ticks\":\"\"},\"type\":\"choropleth\"}],\"contour\":[{\"colorbar\":{\"outlinewidth\":0,\"ticks\":\"\"},\"colorscale\":[[0.0,\"#0d0887\"],[0.1111111111111111,\"#46039f\"],[0.2222222222222222,\"#7201a8\"],[0.3333333333333333,\"#9c179e\"],[0.4444444444444444,\"#bd3786\"],[0.5555555555555556,\"#d8576b\"],[0.6666666666666666,\"#ed7953\"],[0.7777777777777778,\"#fb9f3a\"],[0.8888888888888888,\"#fdca26\"],[1.0,\"#f0f921\"]],\"type\":\"contour\"}],\"contourcarpet\":[{\"colorbar\":{\"outlinewidth\":0,\"ticks\":\"\"},\"type\":\"contourcarpet\"}],\"heatmap\":[{\"colorbar\":{\"outlinewidth\":0,\"ticks\":\"\"},\"colorscale\":[[0.0,\"#0d0887\"],[0.1111111111111111,\"#46039f\"],[0.2222222222222222,\"#7201a8\"],[0.3333333333333333,\"#9c179e\"],[0.4444444444444444,\"#bd3786\"],[0.5555555555555556,\"#d8576b\"],[0.6666666666666666,\"#ed7953\"],[0.7777777777777778,\"#fb9f3a\"],[0.8888888888888888,\"#fdca26\"],[1.0,\"#f0f921\"]],\"type\":\"heatmap\"}],\"heatmapgl\":[{\"colorbar\":{\"outlinewidth\":0,\"ticks\":\"\"},\"colorscale\":[[0.0,\"#0d0887\"],[0.1111111111111111,\"#46039f\"],[0.2222222222222222,\"#7201a8\"],[0.3333333333333333,\"#9c179e\"],[0.4444444444444444,\"#bd3786\"],[0.5555555555555556,\"#d8576b\"],[0.6666666666666666,\"#ed7953\"],[0.7777777777777778,\"#fb9f3a\"],[0.8888888888888888,\"#fdca26\"],[1.0,\"#f0f921\"]],\"type\":\"heatmapgl\"}],\"histogram\":[{\"marker\":{\"pattern\":{\"fillmode\":\"overlay\",\"size\":10,\"solidity\":0.2}},\"type\":\"histogram\"}],\"histogram2d\":[{\"colorbar\":{\"outlinewidth\":0,\"ticks\":\"\"},\"colorscale\":[[0.0,\"#0d0887\"],[0.1111111111111111,\"#46039f\"],[0.2222222222222222,\"#7201a8\"],[0.3333333333333333,\"#9c179e\"],[0.4444444444444444,\"#bd3786\"],[0.5555555555555556,\"#d8576b\"],[0.6666666666666666,\"#ed7953\"],[0.7777777777777778,\"#fb9f3a\"],[0.8888888888888888,\"#fdca26\"],[1.0,\"#f0f921\"]],\"type\":\"histogram2d\"}],\"histogram2dcontour\":[{\"colorbar\":{\"outlinewidth\":0,\"ticks\":\"\"},\"colorscale\":[[0.0,\"#0d0887\"],[0.1111111111111111,\"#46039f\"],[0.2222222222222222,\"#7201a8\"],[0.3333333333333333,\"#9c179e\"],[0.4444444444444444,\"#bd3786\"],[0.5555555555555556,\"#d8576b\"],[0.6666666666666666,\"#ed7953\"],[0.7777777777777778,\"#fb9f3a\"],[0.8888888888888888,\"#fdca26\"],[1.0,\"#f0f921\"]],\"type\":\"histogram2dcontour\"}],\"mesh3d\":[{\"colorbar\":{\"outlinewidth\":0,\"ticks\":\"\"},\"type\":\"mesh3d\"}],\"parcoords\":[{\"line\":{\"colorbar\":{\"outlinewidth\":0,\"ticks\":\"\"}},\"type\":\"parcoords\"}],\"pie\":[{\"automargin\":true,\"type\":\"pie\"}],\"scatter\":[{\"marker\":{\"colorbar\":{\"outlinewidth\":0,\"ticks\":\"\"}},\"type\":\"scatter\"}],\"scatter3d\":[{\"line\":{\"colorbar\":{\"outlinewidth\":0,\"ticks\":\"\"}},\"marker\":{\"colorbar\":{\"outlinewidth\":0,\"ticks\":\"\"}},\"type\":\"scatter3d\"}],\"scattercarpet\":[{\"marker\":{\"colorbar\":{\"outlinewidth\":0,\"ticks\":\"\"}},\"type\":\"scattercarpet\"}],\"scattergeo\":[{\"marker\":{\"colorbar\":{\"outlinewidth\":0,\"ticks\":\"\"}},\"type\":\"scattergeo\"}],\"scattergl\":[{\"marker\":{\"colorbar\":{\"outlinewidth\":0,\"ticks\":\"\"}},\"type\":\"scattergl\"}],\"scattermapbox\":[{\"marker\":{\"colorbar\":{\"outlinewidth\":0,\"ticks\":\"\"}},\"type\":\"scattermapbox\"}],\"scatterpolar\":[{\"marker\":{\"colorbar\":{\"outlinewidth\":0,\"ticks\":\"\"}},\"type\":\"scatterpolar\"}],\"scatterpolargl\":[{\"marker\":{\"colorbar\":{\"outlinewidth\":0,\"ticks\":\"\"}},\"type\":\"scatterpolargl\"}],\"scatterternary\":[{\"marker\":{\"colorbar\":{\"outlinewidth\":0,\"ticks\":\"\"}},\"type\":\"scatterternary\"}],\"surface\":[{\"colorbar\":{\"outlinewidth\":0,\"ticks\":\"\"},\"colorscale\":[[0.0,\"#0d0887\"],[0.1111111111111111,\"#46039f\"],[0.2222222222222222,\"#7201a8\"],[0.3333333333333333,\"#9c179e\"],[0.4444444444444444,\"#bd3786\"],[0.5555555555555556,\"#d8576b\"],[0.6666666666666666,\"#ed7953\"],[0.7777777777777778,\"#fb9f3a\"],[0.8888888888888888,\"#fdca26\"],[1.0,\"#f0f921\"]],\"type\":\"surface\"}],\"table\":[{\"cells\":{\"fill\":{\"color\":\"#EBF0F8\"},\"line\":{\"color\":\"white\"}},\"header\":{\"fill\":{\"color\":\"#C8D4E3\"},\"line\":{\"color\":\"white\"}},\"type\":\"table\"}]},\"layout\":{\"annotationdefaults\":{\"arrowcolor\":\"#2a3f5f\",\"arrowhead\":0,\"arrowwidth\":1},\"autotypenumbers\":\"strict\",\"coloraxis\":{\"colorbar\":{\"outlinewidth\":0,\"ticks\":\"\"}},\"colorscale\":{\"diverging\":[[0,\"#8e0152\"],[0.1,\"#c51b7d\"],[0.2,\"#de77ae\"],[0.3,\"#f1b6da\"],[0.4,\"#fde0ef\"],[0.5,\"#f7f7f7\"],[0.6,\"#e6f5d0\"],[0.7,\"#b8e186\"],[0.8,\"#7fbc41\"],[0.9,\"#4d9221\"],[1,\"#276419\"]],\"sequential\":[[0.0,\"#0d0887\"],[0.1111111111111111,\"#46039f\"],[0.2222222222222222,\"#7201a8\"],[0.3333333333333333,\"#9c179e\"],[0.4444444444444444,\"#bd3786\"],[0.5555555555555556,\"#d8576b\"],[0.6666666666666666,\"#ed7953\"],[0.7777777777777778,\"#fb9f3a\"],[0.8888888888888888,\"#fdca26\"],[1.0,\"#f0f921\"]],\"sequentialminus\":[[0.0,\"#0d0887\"],[0.1111111111111111,\"#46039f\"],[0.2222222222222222,\"#7201a8\"],[0.3333333333333333,\"#9c179e\"],[0.4444444444444444,\"#bd3786\"],[0.5555555555555556,\"#d8576b\"],[0.6666666666666666,\"#ed7953\"],[0.7777777777777778,\"#fb9f3a\"],[0.8888888888888888,\"#fdca26\"],[1.0,\"#f0f921\"]]},\"colorway\":[\"#636efa\",\"#EF553B\",\"#00cc96\",\"#ab63fa\",\"#FFA15A\",\"#19d3f3\",\"#FF6692\",\"#B6E880\",\"#FF97FF\",\"#FECB52\"],\"font\":{\"color\":\"#2a3f5f\"},\"geo\":{\"bgcolor\":\"white\",\"lakecolor\":\"white\",\"landcolor\":\"#E5ECF6\",\"showlakes\":true,\"showland\":true,\"subunitcolor\":\"white\"},\"hoverlabel\":{\"align\":\"left\"},\"hovermode\":\"closest\",\"mapbox\":{\"style\":\"light\"},\"paper_bgcolor\":\"white\",\"plot_bgcolor\":\"#E5ECF6\",\"polar\":{\"angularaxis\":{\"gridcolor\":\"white\",\"linecolor\":\"white\",\"ticks\":\"\"},\"bgcolor\":\"#E5ECF6\",\"radialaxis\":{\"gridcolor\":\"white\",\"linecolor\":\"white\",\"ticks\":\"\"}},\"scene\":{\"xaxis\":{\"backgroundcolor\":\"#E5ECF6\",\"gridcolor\":\"white\",\"gridwidth\":2,\"linecolor\":\"white\",\"showbackground\":true,\"ticks\":\"\",\"zerolinecolor\":\"white\"},\"yaxis\":{\"backgroundcolor\":\"#E5ECF6\",\"gridcolor\":\"white\",\"gridwidth\":2,\"linecolor\":\"white\",\"showbackground\":true,\"ticks\":\"\",\"zerolinecolor\":\"white\"},\"zaxis\":{\"backgroundcolor\":\"#E5ECF6\",\"gridcolor\":\"white\",\"gridwidth\":2,\"linecolor\":\"white\",\"showbackground\":true,\"ticks\":\"\",\"zerolinecolor\":\"white\"}},\"shapedefaults\":{\"line\":{\"color\":\"#2a3f5f\"}},\"ternary\":{\"aaxis\":{\"gridcolor\":\"white\",\"linecolor\":\"white\",\"ticks\":\"\"},\"baxis\":{\"gridcolor\":\"white\",\"linecolor\":\"white\",\"ticks\":\"\"},\"bgcolor\":\"#E5ECF6\",\"caxis\":{\"gridcolor\":\"white\",\"linecolor\":\"white\",\"ticks\":\"\"}},\"title\":{\"x\":0.05},\"xaxis\":{\"automargin\":true,\"gridcolor\":\"white\",\"linecolor\":\"white\",\"ticks\":\"\",\"title\":{\"standoff\":15},\"zerolinecolor\":\"white\",\"zerolinewidth\":2},\"yaxis\":{\"automargin\":true,\"gridcolor\":\"white\",\"linecolor\":\"white\",\"ticks\":\"\",\"title\":{\"standoff\":15},\"zerolinecolor\":\"white\",\"zerolinewidth\":2}}},\"xaxis\":{\"anchor\":\"y\",\"domain\":[0.0,1.0],\"title\":{\"text\":\"sigla\"}},\"yaxis\":{\"anchor\":\"x\",\"domain\":[0.0,1.0],\"title\":{\"text\":\"Classifica\\u00e7\\u00e3o Nacional\"}},\"coloraxis\":{\"colorbar\":{\"title\":{\"text\":\"color\"}},\"colorscale\":[[0.0,\"#0d0887\"],[0.1111111111111111,\"#46039f\"],[0.2222222222222222,\"#7201a8\"],[0.3333333333333333,\"#9c179e\"],[0.4444444444444444,\"#bd3786\"],[0.5555555555555556,\"#d8576b\"],[0.6666666666666666,\"#ed7953\"],[0.7777777777777778,\"#fb9f3a\"],[0.8888888888888888,\"#fdca26\"],[1.0,\"#f0f921\"]],\"showscale\":false},\"legend\":{\"tracegroupgap\":0},\"margin\":{\"t\":60},\"barmode\":\"relative\"},                        {\"responsive\": true}                    )                };                            </script>        </div>\n",
       "</body>\n",
       "</html>"
      ]
     },
     "metadata": {
      "application/vnd.databricks.v1+output": {
       "addedWidgets": {},
       "arguments": {},
       "data": "<html>\n<head><meta charset=\"utf-8\" /></head>\n<body>\n    <div>            <script src=\"https://cdnjs.cloudflare.com/ajax/libs/mathjax/2.7.5/MathJax.js?config=TeX-AMS-MML_SVG\"></script><script type=\"text/javascript\">if (window.MathJax) {MathJax.Hub.Config({SVG: {font: \"STIX-Web\"}});}</script>                <script type=\"text/javascript\">window.PlotlyConfig = {MathJaxConfig: 'local'};</script>\n        <script src=\"https://cdn.plot.ly/plotly-2.9.0.min.js\"></script>                <div id=\"b87b7685-7f56-46d0-9257-213787d7db3e\" class=\"plotly-graph-div\" style=\"height:100%; width:100%;\"></div>            <script type=\"text/javascript\">                                    window.PLOTLYENV=window.PLOTLYENV || {};                                    if (document.getElementById(\"b87b7685-7f56-46d0-9257-213787d7db3e\")) {                    Plotly.newPlot(                        \"b87b7685-7f56-46d0-9257-213787d7db3e\",                        [{\"alignmentgroup\":\"True\",\"hovertemplate\":\"sigla=%{x}<br>Classifica\\u00e7\\u00e3o Nacional=%{y}<br>color=%{marker.color}<extra></extra>\",\"legendgroup\":\"\",\"marker\":{\"color\":[0,1,2,3,4,5,6,7,8,9],\"coloraxis\":\"coloraxis\",\"pattern\":{\"shape\":\"\"}},\"name\":\"\",\"offsetgroup\":\"\",\"orientation\":\"v\",\"showlegend\":false,\"textposition\":\"auto\",\"x\":[\"UFSCAR\",\"UFF\",\"UFPR\",\"UNB\",\"UFSC\",\"UNESP\",\"UFMG\",\"UFRJ\",\"UNICAMP\",\"USP\"],\"xaxis\":\"x\",\"y\":[10,9,8,7,6,5,4,3,2,1],\"yaxis\":\"y\",\"type\":\"bar\"}],                        {\"template\":{\"data\":{\"bar\":[{\"error_x\":{\"color\":\"#2a3f5f\"},\"error_y\":{\"color\":\"#2a3f5f\"},\"marker\":{\"line\":{\"color\":\"#E5ECF6\",\"width\":0.5},\"pattern\":{\"fillmode\":\"overlay\",\"size\":10,\"solidity\":0.2}},\"type\":\"bar\"}],\"barpolar\":[{\"marker\":{\"line\":{\"color\":\"#E5ECF6\",\"width\":0.5},\"pattern\":{\"fillmode\":\"overlay\",\"size\":10,\"solidity\":0.2}},\"type\":\"barpolar\"}],\"carpet\":[{\"aaxis\":{\"endlinecolor\":\"#2a3f5f\",\"gridcolor\":\"white\",\"linecolor\":\"white\",\"minorgridcolor\":\"white\",\"startlinecolor\":\"#2a3f5f\"},\"baxis\":{\"endlinecolor\":\"#2a3f5f\",\"gridcolor\":\"white\",\"linecolor\":\"white\",\"minorgridcolor\":\"white\",\"startlinecolor\":\"#2a3f5f\"},\"type\":\"carpet\"}],\"choropleth\":[{\"colorbar\":{\"outlinewidth\":0,\"ticks\":\"\"},\"type\":\"choropleth\"}],\"contour\":[{\"colorbar\":{\"outlinewidth\":0,\"ticks\":\"\"},\"colorscale\":[[0.0,\"#0d0887\"],[0.1111111111111111,\"#46039f\"],[0.2222222222222222,\"#7201a8\"],[0.3333333333333333,\"#9c179e\"],[0.4444444444444444,\"#bd3786\"],[0.5555555555555556,\"#d8576b\"],[0.6666666666666666,\"#ed7953\"],[0.7777777777777778,\"#fb9f3a\"],[0.8888888888888888,\"#fdca26\"],[1.0,\"#f0f921\"]],\"type\":\"contour\"}],\"contourcarpet\":[{\"colorbar\":{\"outlinewidth\":0,\"ticks\":\"\"},\"type\":\"contourcarpet\"}],\"heatmap\":[{\"colorbar\":{\"outlinewidth\":0,\"ticks\":\"\"},\"colorscale\":[[0.0,\"#0d0887\"],[0.1111111111111111,\"#46039f\"],[0.2222222222222222,\"#7201a8\"],[0.3333333333333333,\"#9c179e\"],[0.4444444444444444,\"#bd3786\"],[0.5555555555555556,\"#d8576b\"],[0.6666666666666666,\"#ed7953\"],[0.7777777777777778,\"#fb9f3a\"],[0.8888888888888888,\"#fdca26\"],[1.0,\"#f0f921\"]],\"type\":\"heatmap\"}],\"heatmapgl\":[{\"colorbar\":{\"outlinewidth\":0,\"ticks\":\"\"},\"colorscale\":[[0.0,\"#0d0887\"],[0.1111111111111111,\"#46039f\"],[0.2222222222222222,\"#7201a8\"],[0.3333333333333333,\"#9c179e\"],[0.4444444444444444,\"#bd3786\"],[0.5555555555555556,\"#d8576b\"],[0.6666666666666666,\"#ed7953\"],[0.7777777777777778,\"#fb9f3a\"],[0.8888888888888888,\"#fdca26\"],[1.0,\"#f0f921\"]],\"type\":\"heatmapgl\"}],\"histogram\":[{\"marker\":{\"pattern\":{\"fillmode\":\"overlay\",\"size\":10,\"solidity\":0.2}},\"type\":\"histogram\"}],\"histogram2d\":[{\"colorbar\":{\"outlinewidth\":0,\"ticks\":\"\"},\"colorscale\":[[0.0,\"#0d0887\"],[0.1111111111111111,\"#46039f\"],[0.2222222222222222,\"#7201a8\"],[0.3333333333333333,\"#9c179e\"],[0.4444444444444444,\"#bd3786\"],[0.5555555555555556,\"#d8576b\"],[0.6666666666666666,\"#ed7953\"],[0.7777777777777778,\"#fb9f3a\"],[0.8888888888888888,\"#fdca26\"],[1.0,\"#f0f921\"]],\"type\":\"histogram2d\"}],\"histogram2dcontour\":[{\"colorbar\":{\"outlinewidth\":0,\"ticks\":\"\"},\"colorscale\":[[0.0,\"#0d0887\"],[0.1111111111111111,\"#46039f\"],[0.2222222222222222,\"#7201a8\"],[0.3333333333333333,\"#9c179e\"],[0.4444444444444444,\"#bd3786\"],[0.5555555555555556,\"#d8576b\"],[0.6666666666666666,\"#ed7953\"],[0.7777777777777778,\"#fb9f3a\"],[0.8888888888888888,\"#fdca26\"],[1.0,\"#f0f921\"]],\"type\":\"histogram2dcontour\"}],\"mesh3d\":[{\"colorbar\":{\"outlinewidth\":0,\"ticks\":\"\"},\"type\":\"mesh3d\"}],\"parcoords\":[{\"line\":{\"colorbar\":{\"outlinewidth\":0,\"ticks\":\"\"}},\"type\":\"parcoords\"}],\"pie\":[{\"automargin\":true,\"type\":\"pie\"}],\"scatter\":[{\"marker\":{\"colorbar\":{\"outlinewidth\":0,\"ticks\":\"\"}},\"type\":\"scatter\"}],\"scatter3d\":[{\"line\":{\"colorbar\":{\"outlinewidth\":0,\"ticks\":\"\"}},\"marker\":{\"colorbar\":{\"outlinewidth\":0,\"ticks\":\"\"}},\"type\":\"scatter3d\"}],\"scattercarpet\":[{\"marker\":{\"colorbar\":{\"outlinewidth\":0,\"ticks\":\"\"}},\"type\":\"scattercarpet\"}],\"scattergeo\":[{\"marker\":{\"colorbar\":{\"outlinewidth\":0,\"ticks\":\"\"}},\"type\":\"scattergeo\"}],\"scattergl\":[{\"marker\":{\"colorbar\":{\"outlinewidth\":0,\"ticks\":\"\"}},\"type\":\"scattergl\"}],\"scattermapbox\":[{\"marker\":{\"colorbar\":{\"outlinewidth\":0,\"ticks\":\"\"}},\"type\":\"scattermapbox\"}],\"scatterpolar\":[{\"marker\":{\"colorbar\":{\"outlinewidth\":0,\"ticks\":\"\"}},\"type\":\"scatterpolar\"}],\"scatterpolargl\":[{\"marker\":{\"colorbar\":{\"outlinewidth\":0,\"ticks\":\"\"}},\"type\":\"scatterpolargl\"}],\"scatterternary\":[{\"marker\":{\"colorbar\":{\"outlinewidth\":0,\"ticks\":\"\"}},\"type\":\"scatterternary\"}],\"surface\":[{\"colorbar\":{\"outlinewidth\":0,\"ticks\":\"\"},\"colorscale\":[[0.0,\"#0d0887\"],[0.1111111111111111,\"#46039f\"],[0.2222222222222222,\"#7201a8\"],[0.3333333333333333,\"#9c179e\"],[0.4444444444444444,\"#bd3786\"],[0.5555555555555556,\"#d8576b\"],[0.6666666666666666,\"#ed7953\"],[0.7777777777777778,\"#fb9f3a\"],[0.8888888888888888,\"#fdca26\"],[1.0,\"#f0f921\"]],\"type\":\"surface\"}],\"table\":[{\"cells\":{\"fill\":{\"color\":\"#EBF0F8\"},\"line\":{\"color\":\"white\"}},\"header\":{\"fill\":{\"color\":\"#C8D4E3\"},\"line\":{\"color\":\"white\"}},\"type\":\"table\"}]},\"layout\":{\"annotationdefaults\":{\"arrowcolor\":\"#2a3f5f\",\"arrowhead\":0,\"arrowwidth\":1},\"autotypenumbers\":\"strict\",\"coloraxis\":{\"colorbar\":{\"outlinewidth\":0,\"ticks\":\"\"}},\"colorscale\":{\"diverging\":[[0,\"#8e0152\"],[0.1,\"#c51b7d\"],[0.2,\"#de77ae\"],[0.3,\"#f1b6da\"],[0.4,\"#fde0ef\"],[0.5,\"#f7f7f7\"],[0.6,\"#e6f5d0\"],[0.7,\"#b8e186\"],[0.8,\"#7fbc41\"],[0.9,\"#4d9221\"],[1,\"#276419\"]],\"sequential\":[[0.0,\"#0d0887\"],[0.1111111111111111,\"#46039f\"],[0.2222222222222222,\"#7201a8\"],[0.3333333333333333,\"#9c179e\"],[0.4444444444444444,\"#bd3786\"],[0.5555555555555556,\"#d8576b\"],[0.6666666666666666,\"#ed7953\"],[0.7777777777777778,\"#fb9f3a\"],[0.8888888888888888,\"#fdca26\"],[1.0,\"#f0f921\"]],\"sequentialminus\":[[0.0,\"#0d0887\"],[0.1111111111111111,\"#46039f\"],[0.2222222222222222,\"#7201a8\"],[0.3333333333333333,\"#9c179e\"],[0.4444444444444444,\"#bd3786\"],[0.5555555555555556,\"#d8576b\"],[0.6666666666666666,\"#ed7953\"],[0.7777777777777778,\"#fb9f3a\"],[0.8888888888888888,\"#fdca26\"],[1.0,\"#f0f921\"]]},\"colorway\":[\"#636efa\",\"#EF553B\",\"#00cc96\",\"#ab63fa\",\"#FFA15A\",\"#19d3f3\",\"#FF6692\",\"#B6E880\",\"#FF97FF\",\"#FECB52\"],\"font\":{\"color\":\"#2a3f5f\"},\"geo\":{\"bgcolor\":\"white\",\"lakecolor\":\"white\",\"landcolor\":\"#E5ECF6\",\"showlakes\":true,\"showland\":true,\"subunitcolor\":\"white\"},\"hoverlabel\":{\"align\":\"left\"},\"hovermode\":\"closest\",\"mapbox\":{\"style\":\"light\"},\"paper_bgcolor\":\"white\",\"plot_bgcolor\":\"#E5ECF6\",\"polar\":{\"angularaxis\":{\"gridcolor\":\"white\",\"linecolor\":\"white\",\"ticks\":\"\"},\"bgcolor\":\"#E5ECF6\",\"radialaxis\":{\"gridcolor\":\"white\",\"linecolor\":\"white\",\"ticks\":\"\"}},\"scene\":{\"xaxis\":{\"backgroundcolor\":\"#E5ECF6\",\"gridcolor\":\"white\",\"gridwidth\":2,\"linecolor\":\"white\",\"showbackground\":true,\"ticks\":\"\",\"zerolinecolor\":\"white\"},\"yaxis\":{\"backgroundcolor\":\"#E5ECF6\",\"gridcolor\":\"white\",\"gridwidth\":2,\"linecolor\":\"white\",\"showbackground\":true,\"ticks\":\"\",\"zerolinecolor\":\"white\"},\"zaxis\":{\"backgroundcolor\":\"#E5ECF6\",\"gridcolor\":\"white\",\"gridwidth\":2,\"linecolor\":\"white\",\"showbackground\":true,\"ticks\":\"\",\"zerolinecolor\":\"white\"}},\"shapedefaults\":{\"line\":{\"color\":\"#2a3f5f\"}},\"ternary\":{\"aaxis\":{\"gridcolor\":\"white\",\"linecolor\":\"white\",\"ticks\":\"\"},\"baxis\":{\"gridcolor\":\"white\",\"linecolor\":\"white\",\"ticks\":\"\"},\"bgcolor\":\"#E5ECF6\",\"caxis\":{\"gridcolor\":\"white\",\"linecolor\":\"white\",\"ticks\":\"\"}},\"title\":{\"x\":0.05},\"xaxis\":{\"automargin\":true,\"gridcolor\":\"white\",\"linecolor\":\"white\",\"ticks\":\"\",\"title\":{\"standoff\":15},\"zerolinecolor\":\"white\",\"zerolinewidth\":2},\"yaxis\":{\"automargin\":true,\"gridcolor\":\"white\",\"linecolor\":\"white\",\"ticks\":\"\",\"title\":{\"standoff\":15},\"zerolinecolor\":\"white\",\"zerolinewidth\":2}}},\"xaxis\":{\"anchor\":\"y\",\"domain\":[0.0,1.0],\"title\":{\"text\":\"sigla\"}},\"yaxis\":{\"anchor\":\"x\",\"domain\":[0.0,1.0],\"title\":{\"text\":\"Classifica\\u00e7\\u00e3o Nacional\"}},\"coloraxis\":{\"colorbar\":{\"title\":{\"text\":\"color\"}},\"colorscale\":[[0.0,\"#0d0887\"],[0.1111111111111111,\"#46039f\"],[0.2222222222222222,\"#7201a8\"],[0.3333333333333333,\"#9c179e\"],[0.4444444444444444,\"#bd3786\"],[0.5555555555555556,\"#d8576b\"],[0.6666666666666666,\"#ed7953\"],[0.7777777777777778,\"#fb9f3a\"],[0.8888888888888888,\"#fdca26\"],[1.0,\"#f0f921\"]],\"showscale\":false},\"legend\":{\"tracegroupgap\":0},\"margin\":{\"t\":60},\"barmode\":\"relative\"},                        {\"responsive\": true}                    )                };                            </script>        </div>\n</body>\n</html>",
       "datasetInfos": [],
       "metadata": {},
       "removedWidgets": [],
       "textData": null,
       "type": "htmlSandbox"
      }
     },
     "output_type": "display_data"
    }
   ],
   "source": [
    "fig=df_publicas.plot.bar(x='sigla',y='Classificação Nacional',color=range(10))\n",
    "fig.layout.coloraxis.showscale = False\n",
    "\n",
    "fig.show()"
   ]
  },
  {
   "cell_type": "code",
   "execution_count": 0,
   "metadata": {
    "application/vnd.databricks.v1+cell": {
     "cellMetadata": {
      "byteLimit": 2048000,
      "rowLimit": 10000
     },
     "inputWidgets": {},
     "nuid": "8d25dc9e-4841-40d0-b1f7-b43ed2a6ce13",
     "showTitle": false,
     "tableResultSettingsMap": {},
     "title": ""
    }
   },
   "outputs": [],
   "source": [
    "### Salvar Informações\n",
    "dfs_bolsas = df_bolsas.to_spark()"
   ]
  },
  {
   "cell_type": "code",
   "execution_count": 0,
   "metadata": {
    "application/vnd.databricks.v1+cell": {
     "cellMetadata": {
      "byteLimit": 2048000,
      "rowLimit": 10000
     },
     "inputWidgets": {},
     "nuid": "bd6e8136-3da4-4558-976c-bbb1f8a20b5d",
     "showTitle": false,
     "tableResultSettingsMap": {},
     "title": ""
    }
   },
   "outputs": [
    {
     "output_type": "stream",
     "name": "stdout",
     "output_type": "stream",
     "text": [
      "+----+----------------+---------------+------------+\n| Ano|Bolsas_Integrais|Bolsas_Parciais|Bolsas_Total|\n+----+----------------+---------------+------------+\n|2021|           146.3|          150.0|       296.3|\n|2020|           182.9|          237.4|       420.3|\n+----+----------------+---------------+------------+\n\n"
     ]
    }
   ],
   "source": [
    "dfs_bolsas.show()"
   ]
  },
  {
   "cell_type": "code",
   "execution_count": 0,
   "metadata": {
    "application/vnd.databricks.v1+cell": {
     "cellMetadata": {
      "byteLimit": 2048000,
      "rowLimit": 10000
     },
     "inputWidgets": {},
     "nuid": "cd7f2316-f2cb-4ab8-9f0f-99e0d7db0f07",
     "showTitle": false,
     "tableResultSettingsMap": {},
     "title": ""
    }
   },
   "outputs": [
    {
     "output_type": "stream",
     "name": "stdout",
     "output_type": "stream",
     "text": [
      "Out[79]: pyspark.sql.dataframe.DataFrame"
     ]
    }
   ],
   "source": [
    "type(dfs_bolsas)"
   ]
  },
  {
   "cell_type": "code",
   "execution_count": 0,
   "metadata": {
    "application/vnd.databricks.v1+cell": {
     "cellMetadata": {
      "byteLimit": 2048000,
      "rowLimit": 10000
     },
     "inputWidgets": {},
     "nuid": "eb41db95-0dcd-46e1-9d14-6b13ec0996c0",
     "showTitle": false,
     "tableResultSettingsMap": {},
     "title": ""
    }
   },
   "outputs": [],
   "source": [
    "local_do_arquivo = '/FileStore/tables/cursos_prouni.csv'"
   ]
  },
  {
   "cell_type": "code",
   "execution_count": 0,
   "metadata": {
    "application/vnd.databricks.v1+cell": {
     "cellMetadata": {
      "byteLimit": 2048000,
      "rowLimit": 10000
     },
     "inputWidgets": {},
     "nuid": "c7816a4e-229d-4bf9-8536-b6db66d8f02a",
     "showTitle": false,
     "tableResultSettingsMap": {},
     "title": ""
    }
   },
   "outputs": [],
   "source": [
    "df_publicas.to_parquet('/FileStore/tables/publicas.parquet',partition_cols='Classificação Nacional')"
   ]
  },
  {
   "cell_type": "code",
   "execution_count": 0,
   "metadata": {
    "application/vnd.databricks.v1+cell": {
     "cellMetadata": {
      "byteLimit": 2048000,
      "rowLimit": 10000
     },
     "inputWidgets": {},
     "nuid": "d5aa08c9-d212-4373-adf0-c0cb018fe9c7",
     "showTitle": false,
     "tableResultSettingsMap": {},
     "title": ""
    }
   },
   "outputs": [
    {
     "output_type": "display_data",
     "data": {
      "text/html": [
       "<div>\n",
       "<style scoped>\n",
       "    .dataframe tbody tr th:only-of-type {\n",
       "        vertical-align: middle;\n",
       "    }\n",
       "\n",
       "    .dataframe tbody tr th {\n",
       "        vertical-align: top;\n",
       "    }\n",
       "\n",
       "    .dataframe thead th {\n",
       "        text-align: right;\n",
       "    }\n",
       "</style>\n",
       "<table border=\"1\" class=\"dataframe\">\n",
       "  <thead>\n",
       "    <tr style=\"text-align: right;\">\n",
       "      <th></th>\n",
       "      <th>Classificação Mundial</th>\n",
       "      <th>Universidade</th>\n",
       "      <th>Logo</th>\n",
       "      <th>sigla</th>\n",
       "      <th>tipo</th>\n",
       "      <th>web</th>\n",
       "      <th>Localização</th>\n",
       "      <th>Classificação Nacional</th>\n",
       "    </tr>\n",
       "  </thead>\n",
       "  <tbody>\n",
       "    <tr>\n",
       "      <th>0</th>\n",
       "      <td>236</td>\n",
       "      <td>Universidade Estadual de Campinas</td>\n",
       "      <td>NaN</td>\n",
       "      <td>UNICAMP</td>\n",
       "      <td>Pública Estadual</td>\n",
       "      <td>www.unicamp.br/</td>\n",
       "      <td>São Paulo</td>\n",
       "      <td>2</td>\n",
       "    </tr>\n",
       "    <tr>\n",
       "      <th>1</th>\n",
       "      <td>667</td>\n",
       "      <td>Universidade Federal de São Carlos</td>\n",
       "      <td>NaN</td>\n",
       "      <td>UFSCAR</td>\n",
       "      <td>Pública federal</td>\n",
       "      <td>www.ufscar.br/</td>\n",
       "      <td>São Paulo</td>\n",
       "      <td>10</td>\n",
       "    </tr>\n",
       "    <tr>\n",
       "      <th>2</th>\n",
       "      <td>427</td>\n",
       "      <td>Universidade Federal de Santa Catarina</td>\n",
       "      <td>NaN</td>\n",
       "      <td>UFSC</td>\n",
       "      <td>Pública federal</td>\n",
       "      <td>ufsc.br/</td>\n",
       "      <td>Santa Catarina</td>\n",
       "      <td>6</td>\n",
       "    </tr>\n",
       "    <tr>\n",
       "      <th>3</th>\n",
       "      <td>278</td>\n",
       "      <td>Universidade Federal do Rio de Janeiro</td>\n",
       "      <td>NaN</td>\n",
       "      <td>UFRJ</td>\n",
       "      <td>Pública federal</td>\n",
       "      <td>ufrj.br/</td>\n",
       "      <td>Rio de Janeiro</td>\n",
       "      <td>3</td>\n",
       "    </tr>\n",
       "    <tr>\n",
       "      <th>4</th>\n",
       "      <td>298</td>\n",
       "      <td>Universidade Federal de Minas Gerais</td>\n",
       "      <td>NaN</td>\n",
       "      <td>UFMG</td>\n",
       "      <td>Pública federal</td>\n",
       "      <td>ucb.edu.bo</td>\n",
       "      <td>Minas Gerais</td>\n",
       "      <td>4</td>\n",
       "    </tr>\n",
       "    <tr>\n",
       "      <th>5</th>\n",
       "      <td>596</td>\n",
       "      <td>Universidade Federal Fluminense</td>\n",
       "      <td>NaN</td>\n",
       "      <td>UFF</td>\n",
       "      <td>Pública federal</td>\n",
       "      <td>www.uff.br/</td>\n",
       "      <td>Rio de Janeiro</td>\n",
       "      <td>9</td>\n",
       "    </tr>\n",
       "    <tr>\n",
       "      <th>6</th>\n",
       "      <td>345</td>\n",
       "      <td>Universidade Estadual Paulista</td>\n",
       "      <td>NaN</td>\n",
       "      <td>UNESP</td>\n",
       "      <td>Pública Estadual</td>\n",
       "      <td>www.unesp.br</td>\n",
       "      <td>São Paulo</td>\n",
       "      <td>5</td>\n",
       "    </tr>\n",
       "    <tr>\n",
       "      <th>7</th>\n",
       "      <td>592</td>\n",
       "      <td>Universidade de Brasília</td>\n",
       "      <td>NaN</td>\n",
       "      <td>UNB</td>\n",
       "      <td>Pública Estadual</td>\n",
       "      <td>www.unb.br/</td>\n",
       "      <td>Distrito Federal</td>\n",
       "      <td>7</td>\n",
       "    </tr>\n",
       "    <tr>\n",
       "      <th>8</th>\n",
       "      <td>593</td>\n",
       "      <td>Universidade Federal do Paraná</td>\n",
       "      <td>NaN</td>\n",
       "      <td>UFPR</td>\n",
       "      <td>Pública federal</td>\n",
       "      <td>www.ufpr.br/</td>\n",
       "      <td>Paraná</td>\n",
       "      <td>8</td>\n",
       "    </tr>\n",
       "    <tr>\n",
       "      <th>9</th>\n",
       "      <td>72</td>\n",
       "      <td>Universidade de São Paulo</td>\n",
       "      <td>NaN</td>\n",
       "      <td>USP</td>\n",
       "      <td>Pública Estadual</td>\n",
       "      <td>www5.usp.br/</td>\n",
       "      <td>São Paulo</td>\n",
       "      <td>1</td>\n",
       "    </tr>\n",
       "  </tbody>\n",
       "</table>\n",
       "</div>"
      ]
     },
     "metadata": {
      "application/vnd.databricks.v1+output": {
       "addedWidgets": {},
       "arguments": {},
       "data": "<div>\n<style scoped>\n    .dataframe tbody tr th:only-of-type {\n        vertical-align: middle;\n    }\n\n    .dataframe tbody tr th {\n        vertical-align: top;\n    }\n\n    .dataframe thead th {\n        text-align: right;\n    }\n</style>\n<table border=\"1\" class=\"dataframe\">\n  <thead>\n    <tr style=\"text-align: right;\">\n      <th></th>\n      <th>Classificação Mundial</th>\n      <th>Universidade</th>\n      <th>Logo</th>\n      <th>sigla</th>\n      <th>tipo</th>\n      <th>web</th>\n      <th>Localização</th>\n      <th>Classificação Nacional</th>\n    </tr>\n  </thead>\n  <tbody>\n    <tr>\n      <th>0</th>\n      <td>236</td>\n      <td>Universidade Estadual de Campinas</td>\n      <td>NaN</td>\n      <td>UNICAMP</td>\n      <td>Pública Estadual</td>\n      <td>www.unicamp.br/</td>\n      <td>São Paulo</td>\n      <td>2</td>\n    </tr>\n    <tr>\n      <th>1</th>\n      <td>667</td>\n      <td>Universidade Federal de São Carlos</td>\n      <td>NaN</td>\n      <td>UFSCAR</td>\n      <td>Pública federal</td>\n      <td>www.ufscar.br/</td>\n      <td>São Paulo</td>\n      <td>10</td>\n    </tr>\n    <tr>\n      <th>2</th>\n      <td>427</td>\n      <td>Universidade Federal de Santa Catarina</td>\n      <td>NaN</td>\n      <td>UFSC</td>\n      <td>Pública federal</td>\n      <td>ufsc.br/</td>\n      <td>Santa Catarina</td>\n      <td>6</td>\n    </tr>\n    <tr>\n      <th>3</th>\n      <td>278</td>\n      <td>Universidade Federal do Rio de Janeiro</td>\n      <td>NaN</td>\n      <td>UFRJ</td>\n      <td>Pública federal</td>\n      <td>ufrj.br/</td>\n      <td>Rio de Janeiro</td>\n      <td>3</td>\n    </tr>\n    <tr>\n      <th>4</th>\n      <td>298</td>\n      <td>Universidade Federal de Minas Gerais</td>\n      <td>NaN</td>\n      <td>UFMG</td>\n      <td>Pública federal</td>\n      <td>ucb.edu.bo</td>\n      <td>Minas Gerais</td>\n      <td>4</td>\n    </tr>\n    <tr>\n      <th>5</th>\n      <td>596</td>\n      <td>Universidade Federal Fluminense</td>\n      <td>NaN</td>\n      <td>UFF</td>\n      <td>Pública federal</td>\n      <td>www.uff.br/</td>\n      <td>Rio de Janeiro</td>\n      <td>9</td>\n    </tr>\n    <tr>\n      <th>6</th>\n      <td>345</td>\n      <td>Universidade Estadual Paulista</td>\n      <td>NaN</td>\n      <td>UNESP</td>\n      <td>Pública Estadual</td>\n      <td>www.unesp.br</td>\n      <td>São Paulo</td>\n      <td>5</td>\n    </tr>\n    <tr>\n      <th>7</th>\n      <td>592</td>\n      <td>Universidade de Brasília</td>\n      <td>NaN</td>\n      <td>UNB</td>\n      <td>Pública Estadual</td>\n      <td>www.unb.br/</td>\n      <td>Distrito Federal</td>\n      <td>7</td>\n    </tr>\n    <tr>\n      <th>8</th>\n      <td>593</td>\n      <td>Universidade Federal do Paraná</td>\n      <td>NaN</td>\n      <td>UFPR</td>\n      <td>Pública federal</td>\n      <td>www.ufpr.br/</td>\n      <td>Paraná</td>\n      <td>8</td>\n    </tr>\n    <tr>\n      <th>9</th>\n      <td>72</td>\n      <td>Universidade de São Paulo</td>\n      <td>NaN</td>\n      <td>USP</td>\n      <td>Pública Estadual</td>\n      <td>www5.usp.br/</td>\n      <td>São Paulo</td>\n      <td>1</td>\n    </tr>\n  </tbody>\n</table>\n</div>",
       "datasetInfos": [],
       "metadata": {},
       "removedWidgets": [],
       "textData": null,
       "type": "htmlSandbox"
      }
     },
     "output_type": "display_data"
    }
   ],
   "source": [
    "df_publicas2 = ps.read_parquet('/FileStore/tables/publicas.parquet')\n",
    "df_publicas2"
   ]
  }
 ],
 "metadata": {
  "application/vnd.databricks.v1+notebook": {
   "dashboards": [
    {
     "elements": [
      {
       "dashboardResultIndex": 0,
       "elementNUID": "6e5d9d70-f830-443b-b88d-b3a98a890b40",
       "elementType": "command",
       "guid": "042aef9a-cc57-4f60-8516-7db41410b7af",
       "options": null,
       "position": {
        "height": 10,
        "width": 24,
        "x": 0,
        "y": 143,
        "z": null
       },
       "resultIndex": null
      },
      {
       "dashboardResultIndex": 0,
       "elementNUID": "a5eedbef-93bd-40b8-ae6f-4322908e02f6",
       "elementType": "command",
       "guid": "0acd75b7-a8f8-47a4-97a0-1ca6d80535c1",
       "options": null,
       "position": {
        "height": 9,
        "width": 24,
        "x": 0,
        "y": 97,
        "z": null
       },
       "resultIndex": null
      },
      {
       "dashboardResultIndex": 0,
       "elementNUID": "5ee69e82-74ae-42a6-ba77-b073f47d4fab",
       "elementType": "command",
       "guid": "136cf09a-743a-42b3-b961-c0d4ad53ba48",
       "options": null,
       "position": {
        "height": 10,
        "width": 12,
        "x": 12,
        "y": 108,
        "z": null
       },
       "resultIndex": null
      },
      {
       "dashboardResultIndex": null,
       "elementNUID": "08c13209-6c66-4071-b7db-218843d9a0a6",
       "elementType": "command",
       "guid": "1b22a649-6607-4115-9dca-c41762c5300f",
       "options": null,
       "position": {
        "height": 2,
        "width": 24,
        "x": 0,
        "y": 85,
        "z": null
       },
       "resultIndex": null
      },
      {
       "dashboardResultIndex": null,
       "elementNUID": "b7812360-7bdb-4e7c-a80a-41bd959df81b",
       "elementType": "command",
       "guid": "215a5779-0813-4b4e-86d1-52c6187b4e24",
       "options": null,
       "position": {
        "height": 2,
        "width": 24,
        "x": 0,
        "y": 61,
        "z": null
       },
       "resultIndex": null
      },
      {
       "dashboardResultIndex": null,
       "elementNUID": "c3f0ed24-2692-421b-a62b-3d553ae8ae7f",
       "elementType": "command",
       "guid": "29c16d6b-4896-48c7-965b-73ac9bdc2a9a",
       "options": null,
       "position": {
        "height": 2,
        "width": 24,
        "x": 0,
        "y": 51,
        "z": null
       },
       "resultIndex": null
      },
      {
       "dashboardResultIndex": null,
       "elementNUID": "518896ca-9952-4c93-aca8-c3c13a50bbf3",
       "elementType": "command",
       "guid": "2f828323-e0a1-4dbe-8cc1-adea82a40c6c",
       "options": null,
       "position": {
        "height": 2,
        "width": 24,
        "x": 0,
        "y": 141,
        "z": null
       },
       "resultIndex": null
      },
      {
       "dashboardResultIndex": 0,
       "elementNUID": "460aa400-443a-48d3-9230-a64760a366dd",
       "elementType": "command",
       "guid": "4d46d594-dbdd-451f-8e02-b95bb013e80b",
       "options": null,
       "position": {
        "height": 7,
        "width": 24,
        "x": 0,
        "y": 29,
        "z": null
       },
       "resultIndex": null
      },
      {
       "dashboardResultIndex": null,
       "elementNUID": "6599cd6c-3fe6-4222-bd99-8fa3c837ee1a",
       "elementType": "command",
       "guid": "5ce7d7cb-68a4-4404-9fcc-e9f34be95383",
       "options": null,
       "position": {
        "height": 9,
        "width": 24,
        "x": 0,
        "y": 2,
        "z": null
       },
       "resultIndex": null
      },
      {
       "dashboardResultIndex": null,
       "elementNUID": "fd90cf92-b4eb-4b1e-b300-abb013e019aa",
       "elementType": "command",
       "guid": "6575639c-ed0a-4ab7-9079-640006057188",
       "options": null,
       "position": {
        "height": 2,
        "width": 24,
        "x": 0,
        "y": 139,
        "z": null
       },
       "resultIndex": null
      },
      {
       "dashboardResultIndex": 0,
       "elementNUID": "a73e0541-02a8-4a71-b809-b536d58171a9",
       "elementType": "command",
       "guid": "66575ed1-cc65-420c-b048-830dd84b5498",
       "options": null,
       "position": {
        "height": 7,
        "width": 24,
        "x": 0,
        "y": 16,
        "z": null
       },
       "resultIndex": null
      },
      {
       "dashboardResultIndex": null,
       "elementNUID": "46a018e4-90bb-4198-8019-fdc258d9df9a",
       "elementType": "command",
       "guid": "718bfae7-519d-46b4-b848-bd78cec96c0c",
       "options": null,
       "position": {
        "height": 6,
        "width": 24,
        "x": 0,
        "y": 23,
        "z": null
       },
       "resultIndex": null
      },
      {
       "dashboardResultIndex": 0,
       "elementNUID": "f6662d53-c1e5-4d55-bed2-9ac6073feaa7",
       "elementType": "command",
       "guid": "724e5b01-7eb2-4d23-8ad1-ae8673a60fbf",
       "options": null,
       "position": {
        "height": 8,
        "width": 24,
        "x": 0,
        "y": 155,
        "z": null
       },
       "resultIndex": null
      },
      {
       "dashboardResultIndex": 0,
       "elementNUID": "c0fdedf2-f283-4e78-8755-f4265d6f83f3",
       "elementType": "command",
       "guid": "7582819e-d1f7-4798-bc9e-af1aea79633b",
       "options": null,
       "position": {
        "height": 7,
        "width": 24,
        "x": 0,
        "y": 132,
        "z": null
       },
       "resultIndex": null
      },
      {
       "dashboardResultIndex": 0,
       "elementNUID": "a17f585c-71ae-490a-a88f-9254be622597",
       "elementType": "command",
       "guid": "89c6f286-2337-47bc-97b0-99652aecc163",
       "options": null,
       "position": {
        "height": 7,
        "width": 24,
        "x": 0,
        "y": 78,
        "z": null
       },
       "resultIndex": null
      },
      {
       "dashboardResultIndex": null,
       "elementNUID": "f75de3aa-5b98-4c8d-98e9-536818a5fcaa",
       "elementType": "command",
       "guid": "8bf731fe-7893-4e0c-bb98-ee6e5632feef",
       "options": null,
       "position": {
        "height": 2,
        "width": 24,
        "x": 0,
        "y": 130,
        "z": null
       },
       "resultIndex": null
      },
      {
       "dashboardResultIndex": null,
       "elementNUID": "1b5f0a5c-ef30-46d1-83aa-b825260dbff4",
       "elementType": "command",
       "guid": "8f759495-18a7-4b9d-8444-0a611863d04b",
       "options": null,
       "position": {
        "height": 3,
        "width": 24,
        "x": 0,
        "y": 48,
        "z": null
       },
       "resultIndex": null
      },
      {
       "dashboardResultIndex": 0,
       "elementNUID": "9e504ecd-0ee7-482d-b666-77b363c1422e",
       "elementType": "command",
       "guid": "933620ef-eb97-4795-9925-5e7773f9975f",
       "options": null,
       "position": {
        "height": 8,
        "width": 24,
        "x": 0,
        "y": 40,
        "z": null
       },
       "resultIndex": null
      },
      {
       "dashboardResultIndex": null,
       "elementNUID": "9c0c7c3f-464d-4fc0-8e8c-ef0cbba4d08a",
       "elementType": "command",
       "guid": "99ca5122-22e7-4f54-9456-86e25ef7a4e1",
       "options": null,
       "position": {
        "height": 2,
        "width": 24,
        "x": 0,
        "y": 38,
        "z": null
       },
       "resultIndex": null
      },
      {
       "dashboardResultIndex": 0,
       "elementNUID": "6a9c7f5a-0d54-4a20-94fd-870fd6e64420",
       "elementType": "command",
       "guid": "9b224462-7f50-44a8-8579-f5c221813814",
       "options": null,
       "position": {
        "height": 10,
        "width": 12,
        "x": 12,
        "y": 120,
        "z": null
       },
       "resultIndex": null
      },
      {
       "dashboardResultIndex": 0,
       "elementNUID": "530bceee-c65e-41ed-a7cf-d25a5f4d7225",
       "elementType": "command",
       "guid": "9c6a0077-1771-4bca-87a3-e3af99885d43",
       "options": null,
       "position": {
        "height": 10,
        "width": 12,
        "x": 0,
        "y": 120,
        "z": null
       },
       "resultIndex": null
      },
      {
       "dashboardResultIndex": 0,
       "elementNUID": "ec4ea56c-2104-48f0-9acb-88e097b354b7",
       "elementType": "command",
       "guid": "a41e5e20-0d38-4d97-9684-9a3ae6f72f6f",
       "options": null,
       "position": {
        "height": 10,
        "width": 24,
        "x": 0,
        "y": 63,
        "z": null
       },
       "resultIndex": null
      },
      {
       "dashboardResultIndex": 0,
       "elementNUID": "22b6d6c3-2b94-4a03-805a-702c35a922f3",
       "elementType": "command",
       "guid": "bb51e1fc-98fc-414d-9bca-86922654a557",
       "options": null,
       "position": {
        "height": 8,
        "width": 24,
        "x": 0,
        "y": 87,
        "z": null
       },
       "resultIndex": null
      },
      {
       "dashboardResultIndex": 0,
       "elementNUID": "ed6a835c-b80b-4065-825a-cca0d5b3eb4b",
       "elementType": "command",
       "guid": "bbda933f-9429-4732-a831-710e42cd9e08",
       "options": null,
       "position": {
        "height": 10,
        "width": 12,
        "x": 0,
        "y": 108,
        "z": null
       },
       "resultIndex": null
      },
      {
       "dashboardResultIndex": null,
       "elementNUID": "c932e3ae-fe96-46d4-a2c1-1a1b0e05f7c3",
       "elementType": "command",
       "guid": "cf1b6ded-9928-4d35-8d97-e0e187371e42",
       "options": null,
       "position": {
        "height": 2,
        "width": 24,
        "x": 0,
        "y": 36,
        "z": null
       },
       "resultIndex": null
      },
      {
       "dashboardResultIndex": 0,
       "elementNUID": "1bb20ee4-2ee3-4e2a-929d-d90ddfcdf343",
       "elementType": "command",
       "guid": "da905955-75e5-4263-a4b0-5ac2d1aa4dff",
       "options": null,
       "position": {
        "height": 8,
        "width": 24,
        "x": 0,
        "y": 53,
        "z": null
       },
       "resultIndex": null
      },
      {
       "dashboardResultIndex": null,
       "elementNUID": "e5615d71-e6d7-4340-bbf9-536491031aef",
       "elementType": "command",
       "guid": "daec7275-4968-4eca-a58b-a8a1a3181730",
       "options": null,
       "position": {
        "height": 2,
        "width": 24,
        "x": 0,
        "y": 0,
        "z": null
       },
       "resultIndex": null
      },
      {
       "dashboardResultIndex": null,
       "elementNUID": "9312ca26-880a-4327-9f32-09474a077ba6",
       "elementType": "command",
       "guid": "e2fba3e3-85f0-4ae7-8675-408015311286",
       "options": {
        "autoScaleImg": false,
        "scale": 0,
        "showTitle": false,
        "titleAlign": "center"
       },
       "position": {
        "height": 5,
        "width": 24,
        "x": 0,
        "y": 11,
        "z": null
       },
       "resultIndex": null
      },
      {
       "dashboardResultIndex": null,
       "elementNUID": "13301ad2-dbbf-4b31-b701-2525a47a4ecd",
       "elementType": "command",
       "guid": "e70aca1c-9ae6-4a22-af47-eea81d4d063d",
       "options": null,
       "position": {
        "height": 2,
        "width": 24,
        "x": 0,
        "y": 106,
        "z": null
       },
       "resultIndex": null
      },
      {
       "dashboardResultIndex": null,
       "elementNUID": "f9ee52e9-f9c5-4d2a-b7f2-95cb3fecfbce",
       "elementType": "command",
       "guid": "e9cbf27e-1243-4b32-bee8-b83e57ec0fce",
       "options": null,
       "position": {
        "height": 5,
        "width": 24,
        "x": 0,
        "y": 73,
        "z": null
       },
       "resultIndex": null
      },
      {
       "dashboardResultIndex": null,
       "elementNUID": "42d997b9-012d-46f3-bee7-945f135961d6",
       "elementType": "command",
       "guid": "ec0e8421-4792-450c-8f5c-ca1ec839021a",
       "options": null,
       "position": {
        "height": 2,
        "width": 24,
        "x": 0,
        "y": 153,
        "z": null
       },
       "resultIndex": null
      },
      {
       "dashboardResultIndex": null,
       "elementNUID": "21d01efd-402f-4de6-8d17-c35e79a39853",
       "elementType": "command",
       "guid": "f77397a5-2ad5-4cb4-90bf-5a9e74bfde8b",
       "options": null,
       "position": {
        "height": 2,
        "width": 24,
        "x": 0,
        "y": 118,
        "z": null
       },
       "resultIndex": null
      },
      {
       "dashboardResultIndex": null,
       "elementNUID": "556f98ac-d163-47b9-85d7-c6521b0ed591",
       "elementType": "command",
       "guid": "fa37ba54-077d-43b8-a779-781b0997d8e0",
       "options": null,
       "position": {
        "height": 2,
        "width": 24,
        "x": 0,
        "y": 95,
        "z": null
       },
       "resultIndex": null
      }
     ],
     "globalVars": {},
     "guid": "",
     "layoutOption": {
      "grid": true,
      "stack": true
     },
     "nuid": "957fc15e-c82a-4e1f-9a29-63dd016e7bf0",
     "origId": 84169217185181,
     "title": "Cursos de medicina no Brasil",
     "version": "DashboardViewV1",
     "width": 1024
    }
   ],
   "environmentMetadata": null,
   "language": "python",
   "notebookMetadata": {
    "pythonIndentUnit": 4
   },
   "notebookName": "Prouni_estudo",
   "widgets": {}
  }
 },
 "nbformat": 4,
 "nbformat_minor": 0
}
